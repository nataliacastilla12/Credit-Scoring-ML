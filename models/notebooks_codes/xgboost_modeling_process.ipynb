{
 "cells": [
  {
   "cell_type": "code",
   "execution_count": 3,
   "metadata": {},
   "outputs": [
    {
     "name": "stdout",
     "output_type": "stream",
     "text": [
      "Requirement already satisfied: nbformat in ./myenv/lib/python3.11/site-packages (5.10.4)\n",
      "Requirement already satisfied: fastjsonschema>=2.15 in ./myenv/lib/python3.11/site-packages (from nbformat) (2.21.1)\n",
      "Requirement already satisfied: jsonschema>=2.6 in ./myenv/lib/python3.11/site-packages (from nbformat) (4.25.0)\n",
      "Requirement already satisfied: jupyter-core!=5.0.*,>=4.12 in ./myenv/lib/python3.11/site-packages (from nbformat) (5.8.1)\n",
      "Requirement already satisfied: traitlets>=5.1 in ./myenv/lib/python3.11/site-packages (from nbformat) (5.14.3)\n",
      "Requirement already satisfied: attrs>=22.2.0 in ./myenv/lib/python3.11/site-packages (from jsonschema>=2.6->nbformat) (25.3.0)\n",
      "Requirement already satisfied: jsonschema-specifications>=2023.03.6 in ./myenv/lib/python3.11/site-packages (from jsonschema>=2.6->nbformat) (2025.4.1)\n",
      "Requirement already satisfied: referencing>=0.28.4 in ./myenv/lib/python3.11/site-packages (from jsonschema>=2.6->nbformat) (0.36.2)\n",
      "Requirement already satisfied: rpds-py>=0.7.1 in ./myenv/lib/python3.11/site-packages (from jsonschema>=2.6->nbformat) (0.26.0)\n",
      "Requirement already satisfied: platformdirs>=2.5 in ./myenv/lib/python3.11/site-packages (from jupyter-core!=5.0.*,>=4.12->nbformat) (4.3.8)\n",
      "Requirement already satisfied: typing-extensions>=4.4.0 in ./myenv/lib/python3.11/site-packages (from referencing>=0.28.4->jsonschema>=2.6->nbformat) (4.14.0)\n",
      "\n",
      "\u001b[1m[\u001b[0m\u001b[34;49mnotice\u001b[0m\u001b[1;39;49m]\u001b[0m\u001b[39;49m A new release of pip is available: \u001b[0m\u001b[31;49m25.1.1\u001b[0m\u001b[39;49m -> \u001b[0m\u001b[32;49m25.2\u001b[0m\n",
      "\u001b[1m[\u001b[0m\u001b[34;49mnotice\u001b[0m\u001b[1;39;49m]\u001b[0m\u001b[39;49m To update, run: \u001b[0m\u001b[32;49mpip install --upgrade pip\u001b[0m\n"
     ]
    }
   ],
   "source": [
    "!pip install --upgrade nbformat"
   ]
  },
  {
   "cell_type": "code",
   "execution_count": null,
   "metadata": {},
   "outputs": [],
   "source": [
    "import numpy as np\n",
    "import pandas as pd\n",
    "\n",
    "\n",
    "\n",
    "\n",
    "#------------------------------------Plots\n",
    "import matplotlib.pyplot as plt\n",
    "import seaborn as sns\n",
    "import plotly\n",
    "import plotly.express as px\n",
    "import plotly.graph_objects as go\n",
    "from plotly.subplots import make_subplots\n",
    "import plotly.io as pio\n",
    "from plotly import tools\n",
    "from plotly.offline import download_plotlyjs, init_notebook_mode, plot, iplot\n",
    "import joblib \n",
    "\n",
    "\n",
    "\n",
    "#--------------------Model\n",
    "\n",
    "\n",
    "from xgboost import XGBClassifier\n",
    "from modeling_utils import optimize_hyperparameters\n",
    "from sklearn.metrics import precision_recall_curve, roc_auc_score, classification_report, f1_score, confusion_matrix, roc_curve, auc, precision_score, recall_score, brier_score_loss\n",
    "import optuna\n",
    "from modeling_utils import plot_model_evaluation_summary\n",
    "from sklearn.calibration import calibration_curve, CalibrationDisplay, IsotonicRegression\n",
    "from sklearn.calibration import CalibratedClassifierCV\n",
    "from sklearn.model_selection import train_test_split, StratifiedKFold, cross_val_score\n",
    "\n",
    "\n",
    "from modeling_utils import generate_classification_report\n",
    "\n",
    "\n",
    "\n",
    "import importlib\n",
    "import modeling_utils\n",
    "importlib.reload(modeling_utils) \n",
    "\n",
    "\n",
    "spark.conf.set(\"spark.sql.execution.arrow.pyspark.enabled\", \"false\")\n",
    "pd.set_option('display.max_columns', 500)\n",
    "\n"
   ]
  },
  {
   "cell_type": "markdown",
   "metadata": {},
   "source": [
    "# General variables"
   ]
  },
  {
   "cell_type": "code",
   "execution_count": 5,
   "metadata": {},
   "outputs": [],
   "source": [
    "#Training Columns\n",
    "training_columns = ['home_ownership', 'addr_state', 'dti', 'fico_range_high',\n",
    "       'all_util', 'inq_last_12m', 'acc_open_past_24mths', 'avg_cur_bal',\n",
    "       'bc_open_to_buy', 'mo_sin_old_rev_tl_op', 'mo_sin_rcnt_rev_tl_op',\n",
    "       'mo_sin_rcnt_tl', 'mort_acc', 'mths_since_recent_bc',\n",
    "       'mths_since_recent_inq', 'num_actv_rev_tl', 'emp_length_numeric',\n",
    "       'emp_title_final_grouped', 'title_grouped', 'region_median_income',\n",
    "       'loan_to_income_ratio', 'revolving_balance_to_income_ratio',\n",
    "       'credit_utilization_manual', 'open_acc_ratio']"
   ]
  },
  {
   "cell_type": "markdown",
   "metadata": {},
   "source": [
    "# Load data"
   ]
  },
  {
   "cell_type": "code",
   "execution_count": 6,
   "metadata": {},
   "outputs": [
    {
     "name": "stdout",
     "output_type": "stream",
     "text": [
      "Data Dimension (1348059, 27)\n"
     ]
    },
    {
     "data": {
      "text/html": [
       "<div>\n",
       "<style scoped>\n",
       "    .dataframe tbody tr th:only-of-type {\n",
       "        vertical-align: middle;\n",
       "    }\n",
       "\n",
       "    .dataframe tbody tr th {\n",
       "        vertical-align: top;\n",
       "    }\n",
       "\n",
       "    .dataframe thead th {\n",
       "        text-align: right;\n",
       "    }\n",
       "</style>\n",
       "<table border=\"1\" class=\"dataframe\">\n",
       "  <thead>\n",
       "    <tr style=\"text-align: right;\">\n",
       "      <th></th>\n",
       "      <th>id</th>\n",
       "      <th>d_vintage</th>\n",
       "      <th>loan_amnt</th>\n",
       "      <th>home_ownership</th>\n",
       "      <th>annual_inc</th>\n",
       "      <th>addr_state</th>\n",
       "      <th>dti</th>\n",
       "      <th>fico_range_high</th>\n",
       "      <th>all_util</th>\n",
       "      <th>inq_last_12m</th>\n",
       "      <th>acc_open_past_24mths</th>\n",
       "      <th>avg_cur_bal</th>\n",
       "      <th>bc_open_to_buy</th>\n",
       "      <th>mo_sin_old_rev_tl_op</th>\n",
       "      <th>mo_sin_rcnt_tl</th>\n",
       "      <th>mort_acc</th>\n",
       "      <th>mths_since_recent_bc</th>\n",
       "      <th>mths_since_recent_inq</th>\n",
       "      <th>num_actv_rev_tl</th>\n",
       "      <th>emp_length_numeric</th>\n",
       "      <th>emp_title_final_grouped</th>\n",
       "      <th>title_grouped</th>\n",
       "      <th>region_median_income</th>\n",
       "      <th>loan_to_income_ratio</th>\n",
       "      <th>open_acc_ratio</th>\n",
       "      <th>set</th>\n",
       "      <th>target</th>\n",
       "    </tr>\n",
       "  </thead>\n",
       "  <tbody>\n",
       "    <tr>\n",
       "      <th>0</th>\n",
       "      <td>68407277</td>\n",
       "      <td>2015-12-01</td>\n",
       "      <td>0.258841</td>\n",
       "      <td>0.160306</td>\n",
       "      <td>-0.086534</td>\n",
       "      <td>-0.067006</td>\n",
       "      <td>0.403308</td>\n",
       "      <td>-0.217115</td>\n",
       "      <td>0.106942</td>\n",
       "      <td>-0.405376</td>\n",
       "      <td>0.024740</td>\n",
       "      <td>0.156173</td>\n",
       "      <td>-0.155903</td>\n",
       "      <td>-0.077618</td>\n",
       "      <td>-0.172215</td>\n",
       "      <td>-0.034501</td>\n",
       "      <td>-0.169441</td>\n",
       "      <td>-0.089716</td>\n",
       "      <td>0.084253</td>\n",
       "      <td>0.057010</td>\n",
       "      <td>-0.020484</td>\n",
       "      <td>-0.007931</td>\n",
       "      <td>0.099562</td>\n",
       "      <td>0.457006</td>\n",
       "      <td>-0.007500</td>\n",
       "      <td>train</td>\n",
       "      <td>0.0</td>\n",
       "    </tr>\n",
       "    <tr>\n",
       "      <th>1</th>\n",
       "      <td>68355089</td>\n",
       "      <td>2015-12-01</td>\n",
       "      <td>-0.152670</td>\n",
       "      <td>0.160306</td>\n",
       "      <td>-0.030447</td>\n",
       "      <td>-0.101768</td>\n",
       "      <td>0.107425</td>\n",
       "      <td>0.280817</td>\n",
       "      <td>0.106942</td>\n",
       "      <td>-0.405376</td>\n",
       "      <td>0.024740</td>\n",
       "      <td>-0.056093</td>\n",
       "      <td>0.630465</td>\n",
       "      <td>0.061496</td>\n",
       "      <td>-0.205649</td>\n",
       "      <td>0.238651</td>\n",
       "      <td>-0.252891</td>\n",
       "      <td>-0.260049</td>\n",
       "      <td>0.020176</td>\n",
       "      <td>0.057010</td>\n",
       "      <td>0.172054</td>\n",
       "      <td>-0.081017</td>\n",
       "      <td>-0.075997</td>\n",
       "      <td>-0.478301</td>\n",
       "      <td>-0.079388</td>\n",
       "      <td>train</td>\n",
       "      <td>0.0</td>\n",
       "    </tr>\n",
       "    <tr>\n",
       "      <th>2</th>\n",
       "      <td>68341763</td>\n",
       "      <td>2015-12-01</td>\n",
       "      <td>-0.152670</td>\n",
       "      <td>0.160306</td>\n",
       "      <td>-0.030447</td>\n",
       "      <td>0.120678</td>\n",
       "      <td>0.282040</td>\n",
       "      <td>0.021937</td>\n",
       "      <td>-0.231529</td>\n",
       "      <td>-0.044784</td>\n",
       "      <td>-0.181297</td>\n",
       "      <td>0.378525</td>\n",
       "      <td>-0.139264</td>\n",
       "      <td>0.037777</td>\n",
       "      <td>0.188066</td>\n",
       "      <td>0.238651</td>\n",
       "      <td>0.391569</td>\n",
       "      <td>0.047732</td>\n",
       "      <td>0.161126</td>\n",
       "      <td>0.057010</td>\n",
       "      <td>-0.313243</td>\n",
       "      <td>-0.081017</td>\n",
       "      <td>0.099562</td>\n",
       "      <td>-0.326559</td>\n",
       "      <td>0.112083</td>\n",
       "      <td>train</td>\n",
       "      <td>0.0</td>\n",
       "    </tr>\n",
       "    <tr>\n",
       "      <th>3</th>\n",
       "      <td>68476807</td>\n",
       "      <td>2015-12-01</td>\n",
       "      <td>-0.052293</td>\n",
       "      <td>0.160306</td>\n",
       "      <td>0.262201</td>\n",
       "      <td>-0.067006</td>\n",
       "      <td>-0.164547</td>\n",
       "      <td>0.021937</td>\n",
       "      <td>-0.398292</td>\n",
       "      <td>-0.405376</td>\n",
       "      <td>-0.578527</td>\n",
       "      <td>0.378525</td>\n",
       "      <td>-0.075754</td>\n",
       "      <td>0.061496</td>\n",
       "      <td>-0.098426</td>\n",
       "      <td>0.350769</td>\n",
       "      <td>-0.169441</td>\n",
       "      <td>-0.260049</td>\n",
       "      <td>-0.044349</td>\n",
       "      <td>0.010116</td>\n",
       "      <td>-0.020484</td>\n",
       "      <td>-0.007931</td>\n",
       "      <td>-0.035045</td>\n",
       "      <td>0.387752</td>\n",
       "      <td>0.112083</td>\n",
       "      <td>train</td>\n",
       "      <td>0.0</td>\n",
       "    </tr>\n",
       "    <tr>\n",
       "      <th>4</th>\n",
       "      <td>68426831</td>\n",
       "      <td>2015-12-01</td>\n",
       "      <td>-0.052293</td>\n",
       "      <td>-0.168686</td>\n",
       "      <td>-0.212208</td>\n",
       "      <td>0.094121</td>\n",
       "      <td>0.282040</td>\n",
       "      <td>-0.044342</td>\n",
       "      <td>-0.398292</td>\n",
       "      <td>-0.044784</td>\n",
       "      <td>0.456646</td>\n",
       "      <td>-0.176827</td>\n",
       "      <td>-0.194252</td>\n",
       "      <td>-0.392487</td>\n",
       "      <td>0.495469</td>\n",
       "      <td>-0.189779</td>\n",
       "      <td>0.152740</td>\n",
       "      <td>0.000000</td>\n",
       "      <td>0.161126</td>\n",
       "      <td>0.010116</td>\n",
       "      <td>-0.020484</td>\n",
       "      <td>-0.007931</td>\n",
       "      <td>0.054853</td>\n",
       "      <td>-0.478301</td>\n",
       "      <td>-0.226646</td>\n",
       "      <td>train</td>\n",
       "      <td>0.0</td>\n",
       "    </tr>\n",
       "    <tr>\n",
       "      <th>5</th>\n",
       "      <td>68476668</td>\n",
       "      <td>2015-12-01</td>\n",
       "      <td>-0.152670</td>\n",
       "      <td>0.160306</td>\n",
       "      <td>0.366531</td>\n",
       "      <td>-0.014735</td>\n",
       "      <td>0.193799</td>\n",
       "      <td>-0.182636</td>\n",
       "      <td>-0.398292</td>\n",
       "      <td>-0.044784</td>\n",
       "      <td>-0.181297</td>\n",
       "      <td>0.378525</td>\n",
       "      <td>-0.347748</td>\n",
       "      <td>0.191351</td>\n",
       "      <td>0.131069</td>\n",
       "      <td>0.238651</td>\n",
       "      <td>-0.076567</td>\n",
       "      <td>0.047732</td>\n",
       "      <td>-0.044349</td>\n",
       "      <td>0.057010</td>\n",
       "      <td>0.012941</td>\n",
       "      <td>-0.007931</td>\n",
       "      <td>0.054853</td>\n",
       "      <td>0.387752</td>\n",
       "      <td>0.037363</td>\n",
       "      <td>train</td>\n",
       "      <td>0.0</td>\n",
       "    </tr>\n",
       "    <tr>\n",
       "      <th>6</th>\n",
       "      <td>67275481</td>\n",
       "      <td>2015-12-01</td>\n",
       "      <td>-0.152670</td>\n",
       "      <td>0.160306</td>\n",
       "      <td>0.072425</td>\n",
       "      <td>0.255807</td>\n",
       "      <td>0.059621</td>\n",
       "      <td>0.123391</td>\n",
       "      <td>-0.231529</td>\n",
       "      <td>-0.044784</td>\n",
       "      <td>0.024740</td>\n",
       "      <td>0.109081</td>\n",
       "      <td>0.184215</td>\n",
       "      <td>-0.392487</td>\n",
       "      <td>0.188066</td>\n",
       "      <td>0.169388</td>\n",
       "      <td>0.152740</td>\n",
       "      <td>0.047732</td>\n",
       "      <td>0.237851</td>\n",
       "      <td>0.057010</td>\n",
       "      <td>-0.313243</td>\n",
       "      <td>-0.007931</td>\n",
       "      <td>-0.127956</td>\n",
       "      <td>-0.024098</td>\n",
       "      <td>-0.007500</td>\n",
       "      <td>train</td>\n",
       "      <td>0.0</td>\n",
       "    </tr>\n",
       "    <tr>\n",
       "      <th>7</th>\n",
       "      <td>68466926</td>\n",
       "      <td>2015-12-01</td>\n",
       "      <td>0.107043</td>\n",
       "      <td>-0.168686</td>\n",
       "      <td>0.072425</td>\n",
       "      <td>-0.067006</td>\n",
       "      <td>0.193799</td>\n",
       "      <td>-0.084299</td>\n",
       "      <td>0.106942</td>\n",
       "      <td>-0.044784</td>\n",
       "      <td>-0.264431</td>\n",
       "      <td>-0.176827</td>\n",
       "      <td>0.040141</td>\n",
       "      <td>-0.077618</td>\n",
       "      <td>-0.285198</td>\n",
       "      <td>-0.034501</td>\n",
       "      <td>-0.169441</td>\n",
       "      <td>-0.260049</td>\n",
       "      <td>-0.215452</td>\n",
       "      <td>0.010116</td>\n",
       "      <td>0.012941</td>\n",
       "      <td>-0.007931</td>\n",
       "      <td>-0.035045</td>\n",
       "      <td>0.360100</td>\n",
       "      <td>-0.079388</td>\n",
       "      <td>train</td>\n",
       "      <td>0.0</td>\n",
       "    </tr>\n",
       "    <tr>\n",
       "      <th>8</th>\n",
       "      <td>68616873</td>\n",
       "      <td>2015-12-01</td>\n",
       "      <td>0.206653</td>\n",
       "      <td>0.160306</td>\n",
       "      <td>-0.155503</td>\n",
       "      <td>0.120678</td>\n",
       "      <td>-0.534175</td>\n",
       "      <td>0.123391</td>\n",
       "      <td>0.106942</td>\n",
       "      <td>-0.044784</td>\n",
       "      <td>-0.079886</td>\n",
       "      <td>0.378525</td>\n",
       "      <td>0.099580</td>\n",
       "      <td>0.137563</td>\n",
       "      <td>0.131069</td>\n",
       "      <td>-0.034501</td>\n",
       "      <td>0.184122</td>\n",
       "      <td>0.047732</td>\n",
       "      <td>0.161126</td>\n",
       "      <td>0.057010</td>\n",
       "      <td>-0.020484</td>\n",
       "      <td>-0.007931</td>\n",
       "      <td>-0.035045</td>\n",
       "      <td>0.168854</td>\n",
       "      <td>0.037363</td>\n",
       "      <td>train</td>\n",
       "      <td>0.0</td>\n",
       "    </tr>\n",
       "    <tr>\n",
       "      <th>9</th>\n",
       "      <td>68338832</td>\n",
       "      <td>2015-12-01</td>\n",
       "      <td>0.341164</td>\n",
       "      <td>0.160306</td>\n",
       "      <td>-0.030447</td>\n",
       "      <td>-0.059460</td>\n",
       "      <td>-0.534175</td>\n",
       "      <td>0.123391</td>\n",
       "      <td>-0.231529</td>\n",
       "      <td>-0.044784</td>\n",
       "      <td>0.024740</td>\n",
       "      <td>0.156173</td>\n",
       "      <td>0.040141</td>\n",
       "      <td>0.137563</td>\n",
       "      <td>-0.205649</td>\n",
       "      <td>0.238651</td>\n",
       "      <td>0.069577</td>\n",
       "      <td>0.231346</td>\n",
       "      <td>-0.374405</td>\n",
       "      <td>0.010116</td>\n",
       "      <td>-0.313243</td>\n",
       "      <td>-0.081017</td>\n",
       "      <td>-0.035045</td>\n",
       "      <td>0.586774</td>\n",
       "      <td>-0.181678</td>\n",
       "      <td>train</td>\n",
       "      <td>0.0</td>\n",
       "    </tr>\n",
       "  </tbody>\n",
       "</table>\n",
       "</div>"
      ],
      "text/plain": [
       "         id   d_vintage  loan_amnt  home_ownership  annual_inc  addr_state  \\\n",
       "0  68407277  2015-12-01   0.258841        0.160306   -0.086534   -0.067006   \n",
       "1  68355089  2015-12-01  -0.152670        0.160306   -0.030447   -0.101768   \n",
       "2  68341763  2015-12-01  -0.152670        0.160306   -0.030447    0.120678   \n",
       "3  68476807  2015-12-01  -0.052293        0.160306    0.262201   -0.067006   \n",
       "4  68426831  2015-12-01  -0.052293       -0.168686   -0.212208    0.094121   \n",
       "5  68476668  2015-12-01  -0.152670        0.160306    0.366531   -0.014735   \n",
       "6  67275481  2015-12-01  -0.152670        0.160306    0.072425    0.255807   \n",
       "7  68466926  2015-12-01   0.107043       -0.168686    0.072425   -0.067006   \n",
       "8  68616873  2015-12-01   0.206653        0.160306   -0.155503    0.120678   \n",
       "9  68338832  2015-12-01   0.341164        0.160306   -0.030447   -0.059460   \n",
       "\n",
       "        dti  fico_range_high  all_util  inq_last_12m  acc_open_past_24mths  \\\n",
       "0  0.403308        -0.217115  0.106942     -0.405376              0.024740   \n",
       "1  0.107425         0.280817  0.106942     -0.405376              0.024740   \n",
       "2  0.282040         0.021937 -0.231529     -0.044784             -0.181297   \n",
       "3 -0.164547         0.021937 -0.398292     -0.405376             -0.578527   \n",
       "4  0.282040        -0.044342 -0.398292     -0.044784              0.456646   \n",
       "5  0.193799        -0.182636 -0.398292     -0.044784             -0.181297   \n",
       "6  0.059621         0.123391 -0.231529     -0.044784              0.024740   \n",
       "7  0.193799        -0.084299  0.106942     -0.044784             -0.264431   \n",
       "8 -0.534175         0.123391  0.106942     -0.044784             -0.079886   \n",
       "9 -0.534175         0.123391 -0.231529     -0.044784              0.024740   \n",
       "\n",
       "   avg_cur_bal  bc_open_to_buy  mo_sin_old_rev_tl_op  mo_sin_rcnt_tl  \\\n",
       "0     0.156173       -0.155903             -0.077618       -0.172215   \n",
       "1    -0.056093        0.630465              0.061496       -0.205649   \n",
       "2     0.378525       -0.139264              0.037777        0.188066   \n",
       "3     0.378525       -0.075754              0.061496       -0.098426   \n",
       "4    -0.176827       -0.194252             -0.392487        0.495469   \n",
       "5     0.378525       -0.347748              0.191351        0.131069   \n",
       "6     0.109081        0.184215             -0.392487        0.188066   \n",
       "7    -0.176827        0.040141             -0.077618       -0.285198   \n",
       "8     0.378525        0.099580              0.137563        0.131069   \n",
       "9     0.156173        0.040141              0.137563       -0.205649   \n",
       "\n",
       "   mort_acc  mths_since_recent_bc  mths_since_recent_inq  num_actv_rev_tl  \\\n",
       "0 -0.034501             -0.169441              -0.089716         0.084253   \n",
       "1  0.238651             -0.252891              -0.260049         0.020176   \n",
       "2  0.238651              0.391569               0.047732         0.161126   \n",
       "3  0.350769             -0.169441              -0.260049        -0.044349   \n",
       "4 -0.189779              0.152740               0.000000         0.161126   \n",
       "5  0.238651             -0.076567               0.047732        -0.044349   \n",
       "6  0.169388              0.152740               0.047732         0.237851   \n",
       "7 -0.034501             -0.169441              -0.260049        -0.215452   \n",
       "8 -0.034501              0.184122               0.047732         0.161126   \n",
       "9  0.238651              0.069577               0.231346        -0.374405   \n",
       "\n",
       "   emp_length_numeric  emp_title_final_grouped  title_grouped  \\\n",
       "0            0.057010                -0.020484      -0.007931   \n",
       "1            0.057010                 0.172054      -0.081017   \n",
       "2            0.057010                -0.313243      -0.081017   \n",
       "3            0.010116                -0.020484      -0.007931   \n",
       "4            0.010116                -0.020484      -0.007931   \n",
       "5            0.057010                 0.012941      -0.007931   \n",
       "6            0.057010                -0.313243      -0.007931   \n",
       "7            0.010116                 0.012941      -0.007931   \n",
       "8            0.057010                -0.020484      -0.007931   \n",
       "9            0.010116                -0.313243      -0.081017   \n",
       "\n",
       "   region_median_income  loan_to_income_ratio  open_acc_ratio    set  target  \n",
       "0              0.099562              0.457006       -0.007500  train     0.0  \n",
       "1             -0.075997             -0.478301       -0.079388  train     0.0  \n",
       "2              0.099562             -0.326559        0.112083  train     0.0  \n",
       "3             -0.035045              0.387752        0.112083  train     0.0  \n",
       "4              0.054853             -0.478301       -0.226646  train     0.0  \n",
       "5              0.054853              0.387752        0.037363  train     0.0  \n",
       "6             -0.127956             -0.024098       -0.007500  train     0.0  \n",
       "7             -0.035045              0.360100       -0.079388  train     0.0  \n",
       "8             -0.035045              0.168854        0.037363  train     0.0  \n",
       "9             -0.035045              0.586774       -0.181678  train     0.0  "
      ]
     },
     "execution_count": 6,
     "metadata": {},
     "output_type": "execute_result"
    }
   ],
   "source": [
    "df_model = pd.read_csv('df_total_woe.csv').drop(['sub_grade','credit_utilization_manual', 'revolving_balance_to_income_ratio', 'mo_sin_rcnt_rev_tl_op', 'int_rate', 'term_numeric', 'verification_status', ], axis=1).rename(columns={'funded_amnt':'loan_amnt'})\n",
    "\n",
    "\n",
    "print('Data Dimension',df_model.shape)\n",
    "\n",
    "df_model.head(10)"
   ]
  },
  {
   "cell_type": "markdown",
   "metadata": {},
   "source": [
    "# Data Splitting"
   ]
  },
  {
   "cell_type": "code",
   "execution_count": 7,
   "metadata": {},
   "outputs": [
    {
     "name": "stdout",
     "output_type": "stream",
     "text": [
      "Training data dimension (702962, 23) (702962, 1)\n",
      "Calbrating data dimension (301270, 23) (301270, 1)\n",
      "Test data dimension (343827, 23) (343827, 1)\n"
     ]
    }
   ],
   "source": [
    "X_train_i = df_model[df_model['set']=='train'].drop(['target', 'set'], axis=1).set_index(['id',\t'd_vintage'])\n",
    "y_train_i = df_model[df_model['set']=='train'].set_index(['id',\t'd_vintage'])[['target']]\n",
    "\n",
    "\n",
    "X_test = df_model[df_model['set']=='test'].drop(['target', 'set'], axis=1).set_index(['id',\t'd_vintage'])\n",
    "y_test = df_model[df_model['set']=='test'].set_index(['id',\t'd_vintage'])[['target']]\n",
    "\n",
    "\n",
    "\n",
    "\n",
    "X_train, X_calib, y_train, y_calib = train_test_split(\n",
    "    X_train_i, y_train_i,\n",
    "    test_size=0.3,      \n",
    "    random_state=42,\n",
    "    stratify=y_train_i \n",
    ")\n",
    "\n",
    "print('Training data dimension', X_train.shape, y_train.shape)\n",
    "\n",
    "print('Calbrating data dimension', X_calib.shape, y_calib.shape)\n",
    "\n",
    "print('Test data dimension', X_test.shape, y_test.shape)"
   ]
  },
  {
   "cell_type": "markdown",
   "metadata": {},
   "source": [
    "# Finding the best Parameters"
   ]
  },
  {
   "cell_type": "code",
   "execution_count": null,
   "metadata": {},
   "outputs": [],
   "source": [
    "\n",
    "def objective_to_reach_70_auc(trial, X, y):\n",
    "    \"\"\"\n",
    "    An Optuna objective function with a more aggressive search space\n",
    "    and robust early stopping to maximize the chances of reaching an AUC of 0.70.\n",
    "    \"\"\"\n",
    "    \n",
    "    # --- 1. Define a more aggressive search space ---\n",
    "    # We are exploring deeper trees and lower learning rates.\n",
    "    params = {\n",
    "        'objective': 'binary:logistic',\n",
    "        'eval_metric': 'auc',\n",
    "        'use_label_encoder': False,\n",
    "        'n_jobs': -1,\n",
    "        'random_state': 42,\n",
    "        \n",
    "        'max_depth': trial.suggest_int('max_depth', 3, 12),          # Explore deeper trees\n",
    "        'learning_rate': trial.suggest_float('learning_rate', 0.005, 0.5), # Focus on lower learning rates\n",
    "        'min_child_weight': trial.suggest_int('min_child_weight', 1, 10), # Add this for more control\n",
    "        'subsample': trial.suggest_float('subsample', 0.6, 1.0),\n",
    "        'colsample_bytree': trial.suggest_float('colsample_bytree', 0.6, 1.0),\n",
    "        'gamma': trial.suggest_float('gamma', 1e-8, 1.0, log=True),\n",
    "        'reg_alpha': trial.suggest_float('reg_alpha', 1e-8, 1.0, log=True),\n",
    "        'reg_lambda': trial.suggest_float('reg_lambda', 1e-8, 1.0, log=True),\n",
    "        \n",
    "        'scale_pos_weight': (y.value_counts()[0] / y.value_counts()[1])\n",
    "    }\n",
    "    \n",
    "    # --- 2. Perform manual Cross-Validation ---\n",
    "    cv = StratifiedKFold(n_splits=5, shuffle=True, random_state=42)\n",
    "    scores = []\n",
    "\n",
    "    for train_idx, val_idx in cv.split(X, y):\n",
    "        X_train_fold, y_train_fold = X.iloc[train_idx], y.iloc[train_idx]\n",
    "        X_val_fold, y_val_fold = X.iloc[val_idx], y.iloc[val_idx]\n",
    "\n",
    "        # --- 3. Use more robust training parameters ---\n",
    "        model = XGBClassifier(\n",
    "            n_estimators=2000,          # Increased max trees for low learning rates\n",
    "            **params,\n",
    "            early_stopping_rounds=20    # Increased patience\n",
    "        )\n",
    "\n",
    "        model.fit(\n",
    "            X_train_fold, y_train_fold,\n",
    "            eval_set=[(X_val_fold, y_val_fold)], \n",
    "            verbose=False                      \n",
    "        )\n",
    "        \n",
    "        preds = model.predict_proba(X_val_fold)[:, 1]\n",
    "        scores.append(roc_auc_score(y_val_fold, preds))\n",
    "\n",
    "    return np.mean(scores)\n",
    "\n",
    "# --- 4. Run the optimization with more trials ---\n",
    "print(\"Starting aggressive hyperparameter optimization for XGBoost...\")\n",
    "study = optuna.create_study(direction='maximize')\n",
    "# Increased n_trials to 100 for a more thorough search\n",
    "study.optimize(lambda trial: objective_to_reach_70_auc(trial, X_train, y_train), n_trials=100)\n",
    "\n",
    "# --- Print the results ---\n",
    "best_xgb_params = study.best_params\n",
    "print(f\"\\nOptimization complete.\")\n",
    "print(f\"Best cross-validated AUC: {study.best_value:.4f}\")\n",
    "print(\"Best parameters found:\")\n",
    "for key, value in best_xgb_params.items():\n",
    "    print(f\"  {key}: {value}\")\n"
   ]
  },
  {
   "cell_type": "code",
   "execution_count": null,
   "metadata": {},
   "outputs": [],
   "source": [
    "\n",
    "best_params_from_optuna = {\n",
    "    'learning_rate': 0.02638957279655627,\n",
    "    'max_depth': 4,\n",
    "    'subsample': 0.9246057495595279,\n",
    "    'colsample_bytree':0.8191763291263932,\n",
    "    'min_child_weight': 7,\n",
    "    'gamma': 1.6026470854822383e-08,\n",
    "    'reg_alpha': 0.2697973767118685,\n",
    "    'reg_lambda': 0.0007433987038489679,\n",
    "    'objective': 'binary:logistic',\n",
    "    'eval_metric': 'auc',\n",
    "    'use_label_encoder': False,\n",
    "    'n_jobs': -1,\n",
    "    'random_state': 42,\n",
    "    'scale_pos_weight': (y_train.value_counts()[0] / y_train.value_counts()[1])\n",
    "}\n",
    "\n",
    "\n",
    "X_train_sub, X_val, y_train_sub, y_val = train_test_split(\n",
    "    X_train, y_train, test_size=0.25, random_state=42, stratify=y_train\n",
    ")\n",
    "\n",
    "\n",
    "model_for_tuning_trees = XGBClassifier(\n",
    "    n_estimators=2000, \n",
    "    **best_params_from_optuna\n",
    ")\n",
    "\n",
    "model_for_tuning_trees.fit(\n",
    "    X_train_sub, \n",
    "    y_train_sub, \n",
    "    eval_set=[(X_val, y_val)],\n",
    "    verbose=False\n",
    ")\n",
    "\n",
    "results = model_for_tuning_trees.evals_result()\n",
    "val_auc = np.array(results['validation_0']['auc'])\n",
    "x_axis = np.arange(len(val_auc))\n",
    "\n",
    "\n",
    "optimal_n_estimators = 910\n",
    "final_auc_score = val_auc[optimal_n_estimators - 1] # Get the score at that point\n",
    "\n",
    "print(f\"Manual selection of optimal trees.\")\n",
    "print(f\"The chosen number of trees is: {optimal_n_estimators}\")\n",
    "print(f\"At this point, the validation AUC was: {final_auc_score:.4f}\")\n",
    "\n",
    "fig, ax = plt.subplots(figsize=(12, 6))\n",
    "ax.plot(x_axis, val_auc, label='Validation Set AUC')\n",
    "\n",
    "ax.axvline(x=optimal_n_estimators, color='r', linestyle='--', label=f'Chosen Optimum: {optimal_n_estimators} trees')\n",
    "ax.legend()\n",
    "ax.set_ylabel('AUC Score')\n",
    "ax.set_xlabel('Number of Trees (n_estimators)')\n",
    "ax.set_title('XGBoost Learning Curve - Manual Optimum Selection')\n",
    "plt.grid(True)\n",
    "plt.show()"
   ]
  },
  {
   "cell_type": "markdown",
   "metadata": {},
   "source": [
    "# Training the Xgboost model with the best parameters"
   ]
  },
  {
   "cell_type": "code",
   "execution_count": null,
   "metadata": {},
   "outputs": [],
   "source": [
    "final_xgb_params = best_params_from_optuna.copy()\n",
    "final_xgb_params['n_estimators'] = optimal_n_estimators\n",
    "\n",
    "\n",
    "\n",
    "print('Final parameters:', final_xgb_params)\n",
    "\n",
    "\n",
    "\n",
    "print(f\"\\nTraining the final XGBoost model with {optimal_n_estimators} trees...\")\n",
    "final_xgb_model = XGBClassifier(**final_xgb_params)\n",
    "final_xgb_model.fit(X_train, y_train)\n",
    "print(\"Training complete!\")\n"
   ]
  },
  {
   "cell_type": "code",
   "execution_count": 11,
   "metadata": {},
   "outputs": [
    {
     "data": {
      "text/plain": [
       "Index(['loan_amnt', 'home_ownership', 'annual_inc', 'addr_state', 'dti',\n",
       "       'fico_range_high', 'all_util', 'inq_last_12m', 'acc_open_past_24mths',\n",
       "       'avg_cur_bal', 'bc_open_to_buy', 'mo_sin_old_rev_tl_op',\n",
       "       'mo_sin_rcnt_tl', 'mort_acc', 'mths_since_recent_bc',\n",
       "       'mths_since_recent_inq', 'num_actv_rev_tl', 'emp_length_numeric',\n",
       "       'emp_title_final_grouped', 'title_grouped', 'region_median_income',\n",
       "       'loan_to_income_ratio', 'open_acc_ratio'],\n",
       "      dtype='object')"
      ]
     },
     "execution_count": 11,
     "metadata": {},
     "output_type": "execute_result"
    }
   ],
   "source": [
    "X_train.columns"
   ]
  },
  {
   "cell_type": "markdown",
   "metadata": {},
   "source": [
    "# Model Calibration"
   ]
  },
  {
   "cell_type": "code",
   "execution_count": 15,
   "metadata": {},
   "outputs": [
    {
     "name": "stdout",
     "output_type": "stream",
     "text": [
      "--- Getting probabilities on the calibration set ---\n",
      "--- Training the isotonic calibrator ---\n",
      "Calibrator trained.\n",
      "\n",
      "--- Evaluating and visualizing on the Test set ---\n"
     ]
    },
    {
     "data": {
      "image/png": "[encoded data removed]",
      "text/plain": [
       "<Figure size 1000x800 with 1 Axes>"
      ]
     },
     "metadata": {},
     "output_type": "display_data"
    },
    {
     "name": "stdout",
     "output_type": "stream",
     "text": [
      "\n",
      "--- AUC Comparison on Test Set ---\n",
      "AUC of uncalibrated model: 0.6960\n",
      "AUC of calibrated model:    0.6959\n"
     ]
    }
   ],
   "source": [
    "colors = {\n",
    "    \"main_purple\": \"#b3a2c7\",\n",
    "    \"medium_grey\": \"#a9a9a9\"\n",
    "}\n",
    "\n",
    "\n",
    "print(\"--- Getting probabilities on the calibration set ---\")\n",
    "y_pred_calib_proba = final_xgb_model.predict_proba(X_calib)[:, 1]\n",
    "\n",
    "print(\"--- Training the isotonic calibrator ---\")\n",
    "y_calib_flat = y_calib.values.ravel()\n",
    "xgboost_isotonic_calibrator = IsotonicRegression(out_of_bounds='clip')\n",
    "xgboost_isotonic_calibrator.fit(y_pred_calib_proba, y_calib_flat)\n",
    "print(\"Calibrator trained.\")\n",
    "\n",
    "\n",
    "print(\"\\n--- Evaluating and visualizing on the Test set ---\")\n",
    "y_pred_test_uncalibrated_proba = final_xgb_model.predict_proba(X_test)[:, 1]\n",
    "y_pred_test_calibrated_proba = xgboost_isotonic_calibrator.transform(y_pred_test_uncalibrated_proba)\n",
    "fig, ax = plt.subplots(figsize=(10, 8))\n",
    "\n",
    "\n",
    "CalibrationDisplay.from_predictions(\n",
    "    y_test,\n",
    "    y_pred_test_uncalibrated_proba,\n",
    "    n_bins=15,\n",
    "    name='Uncalibrated Xgboost',\n",
    "    ax=ax,\n",
    "    strategy='uniform',\n",
    "    color=colors[\"medium_grey\"]\n",
    ")\n",
    "\n",
    "\n",
    "CalibrationDisplay.from_predictions(\n",
    "    y_test,\n",
    "    y_pred_test_calibrated_proba,\n",
    "    n_bins=15,\n",
    "    name='Calibrated Xgboost (Isotonic)',\n",
    "    ax=ax,\n",
    "    strategy='uniform',\n",
    "    color=colors[\"main_purple\"]\n",
    ")\n",
    "\n",
    "\n",
    "ax.set_title('Calibration Curve: Before vs. After (Isotonic)', fontsize=16)\n",
    "ax.set_xlabel(\"Mean Predicted Probability (Positive Class)\", fontsize=12)\n",
    "ax.set_ylabel(\"Fraction of Positives\", fontsize=12)\n",
    "\n",
    "\n",
    "ax.grid(True, linestyle='--', color='lightgray', alpha=0.7)\n",
    "\n",
    "plt.tight_layout() \n",
    "plt.show()\n",
    "\n",
    "\n",
    "auc_test_uncalibrated = roc_auc_score(y_test, y_pred_test_uncalibrated_proba)\n",
    "auc_test_calibrated = roc_auc_score(y_test, y_pred_test_calibrated_proba)\n",
    "\n",
    "print(f\"\\n--- AUC Comparison on Test Set ---\")\n",
    "print(f\"AUC of uncalibrated model: {auc_test_uncalibrated:.4f}\")\n",
    "print(f\"AUC of calibrated model:    {auc_test_calibrated:.4f}\")"
   ]
  },
  {
   "cell_type": "markdown",
   "metadata": {},
   "source": [
    "# Feature Importance"
   ]
  },
  {
   "cell_type": "code",
   "execution_count": 16,
   "metadata": {},
   "outputs": [
    {
     "data": {
      "image/png": "[encoded data removed]",
      "text/plain": [
       "<Figure size 1400x1000 with 1 Axes>"
      ]
     },
     "metadata": {},
     "output_type": "display_data"
    },
    {
     "name": "stdout",
     "output_type": "stream",
     "text": [
      "\n",
      "Top 10 Most Important Features:\n",
      "              feature  importance\n",
      "      fico_range_high    0.166264\n",
      " loan_to_income_ratio    0.162580\n",
      " acc_open_past_24mths    0.137573\n",
      "                  dti    0.055199\n",
      "mths_since_recent_inq    0.050555\n",
      "       home_ownership    0.047884\n",
      "       bc_open_to_buy    0.044395\n",
      "             all_util    0.031994\n",
      "           addr_state    0.031197\n",
      "            loan_amnt    0.029548\n"
     ]
    }
   ],
   "source": [
    "main_purple = \"#b3a2c7\"\n",
    "\n",
    "\n",
    "\n",
    "importances = final_xgb_model.feature_importances_\n",
    "feature_names = X_train.columns\n",
    "\n",
    "\n",
    "feature_importance_df = pd.DataFrame({\n",
    "    'feature': feature_names,\n",
    "    'importance': importances\n",
    "})\n",
    "\n",
    "\n",
    "feature_importance_df = feature_importance_df.sort_values(by='importance', ascending=False)\n",
    "\n",
    "\n",
    "plt.style.use('seaborn-v0_8-whitegrid') \n",
    "fig, ax = plt.subplots(figsize=(14, 10))\n",
    "\n",
    "\n",
    "top_20_features = feature_importance_df\n",
    "ax.barh(\n",
    "    top_20_features['feature'][::-1], \n",
    "    top_20_features['importance'][::-1], \n",
    "    color=main_purple\n",
    ")\n",
    "\n",
    "\n",
    "ax.set_title('Feature Importance from XGBoost Model', fontsize=16)\n",
    "ax.set_xlabel('Importance Score', fontsize=12)\n",
    "ax.set_ylabel('Features', fontsize=12)\n",
    "ax.tick_params(axis='x', labelsize=10)\n",
    "ax.tick_params(axis='y', labelsize=10)\n",
    "\n",
    "\n",
    "ax.grid(axis='x', linestyle='--', alpha=0.7)\n",
    "\n",
    "\n",
    "plt.tight_layout()\n",
    "plt.show()\n",
    "\n",
    "\n",
    "print(\"\\nTop 10 Most Important Features:\")\n",
    "print(feature_importance_df.head(10).to_string(index=False))"
   ]
  },
  {
   "cell_type": "markdown",
   "metadata": {},
   "source": [
    "# Results"
   ]
  },
  {
   "cell_type": "markdown",
   "metadata": {},
   "source": [
    "### Precicion-Recall curve"
   ]
  },
  {
   "cell_type": "code",
   "execution_count": 17,
   "metadata": {},
   "outputs": [
    {
     "name": "stdout",
     "output_type": "stream",
     "text": [
      "--- Threshold Analysis Results ---\n"
     ]
    },
    {
     "data": {
      "text/html": [
       "<div>\n",
       "<style scoped>\n",
       "    .dataframe tbody tr th:only-of-type {\n",
       "        vertical-align: middle;\n",
       "    }\n",
       "\n",
       "    .dataframe tbody tr th {\n",
       "        vertical-align: top;\n",
       "    }\n",
       "\n",
       "    .dataframe thead th {\n",
       "        text-align: right;\n",
       "    }\n",
       "</style>\n",
       "<table border=\"1\" class=\"dataframe\">\n",
       "  <thead>\n",
       "    <tr style=\"text-align: right;\">\n",
       "      <th></th>\n",
       "      <th>Threshold</th>\n",
       "      <th>Precision</th>\n",
       "      <th>Recall</th>\n",
       "      <th>F1-Score</th>\n",
       "    </tr>\n",
       "  </thead>\n",
       "  <tbody>\n",
       "    <tr>\n",
       "      <th>97</th>\n",
       "      <td>0.206864</td>\n",
       "      <td>0.305527</td>\n",
       "      <td>0.603333</td>\n",
       "      <td>0.405639</td>\n",
       "    </tr>\n",
       "    <tr>\n",
       "      <th>96</th>\n",
       "      <td>0.201372</td>\n",
       "      <td>0.303689</td>\n",
       "      <td>0.610476</td>\n",
       "      <td>0.405605</td>\n",
       "    </tr>\n",
       "    <tr>\n",
       "      <th>98</th>\n",
       "      <td>0.222017</td>\n",
       "      <td>0.307383</td>\n",
       "      <td>0.595791</td>\n",
       "      <td>0.405538</td>\n",
       "    </tr>\n",
       "    <tr>\n",
       "      <th>95</th>\n",
       "      <td>0.200391</td>\n",
       "      <td>0.299319</td>\n",
       "      <td>0.628272</td>\n",
       "      <td>0.405466</td>\n",
       "    </tr>\n",
       "    <tr>\n",
       "      <th>94</th>\n",
       "      <td>0.199238</td>\n",
       "      <td>0.299316</td>\n",
       "      <td>0.628272</td>\n",
       "      <td>0.405464</td>\n",
       "    </tr>\n",
       "    <tr>\n",
       "      <th>93</th>\n",
       "      <td>0.198695</td>\n",
       "      <td>0.299314</td>\n",
       "      <td>0.628272</td>\n",
       "      <td>0.405462</td>\n",
       "    </tr>\n",
       "    <tr>\n",
       "      <th>92</th>\n",
       "      <td>0.198288</td>\n",
       "      <td>0.296469</td>\n",
       "      <td>0.640350</td>\n",
       "      <td>0.405295</td>\n",
       "    </tr>\n",
       "    <tr>\n",
       "      <th>91</th>\n",
       "      <td>0.194805</td>\n",
       "      <td>0.296406</td>\n",
       "      <td>0.640610</td>\n",
       "      <td>0.405288</td>\n",
       "    </tr>\n",
       "    <tr>\n",
       "      <th>99</th>\n",
       "      <td>0.223042</td>\n",
       "      <td>0.309939</td>\n",
       "      <td>0.583278</td>\n",
       "      <td>0.404786</td>\n",
       "    </tr>\n",
       "    <tr>\n",
       "      <th>90</th>\n",
       "      <td>0.193845</td>\n",
       "      <td>0.290569</td>\n",
       "      <td>0.665896</td>\n",
       "      <td>0.404591</td>\n",
       "    </tr>\n",
       "  </tbody>\n",
       "</table>\n",
       "</div>"
      ],
      "text/plain": [
       "    Threshold  Precision    Recall  F1-Score\n",
       "97   0.206864   0.305527  0.603333  0.405639\n",
       "96   0.201372   0.303689  0.610476  0.405605\n",
       "98   0.222017   0.307383  0.595791  0.405538\n",
       "95   0.200391   0.299319  0.628272  0.405466\n",
       "94   0.199238   0.299316  0.628272  0.405464\n",
       "93   0.198695   0.299314  0.628272  0.405462\n",
       "92   0.198288   0.296469  0.640350  0.405295\n",
       "91   0.194805   0.296406  0.640610  0.405288\n",
       "99   0.223042   0.309939  0.583278  0.404786\n",
       "90   0.193845   0.290569  0.665896  0.404591"
      ]
     },
     "metadata": {},
     "output_type": "display_data"
    },
    {
     "data": {
      "application/vnd.plotly.v1+json": {
       "config": {
        "plotlyServerURL": "https://plot.ly"
       },
       "data": [
        {
         "line": {
          "color": "black"
         },
         "name": "Precision",
         "type": "scatter",
         "x": {
          "bdata": "AAAAACWglTtkUjw8iMZ6PAF6vDwwN8Q8NU3TPACHED1NyRQ9CtcjPcQ2LT2SpTI9hqVkPfHwcD0+ZnY9sY12PTu/dj0F13Y90/92PWfJfj1YWH89Uw2BPUjLgT0fUoc9i2aHPVsmiz1hlpQ9pzyXPdH6mD0wvZ09WR+vPRT8rz0tprM9AsOzPV5NtD2oU7Q9KOa1PcZMtj0inbc9vBLLPWMZyz1lIcs9ZiPLPTg4yz1Jfss9DMPQPXor5j1zk+c9s3zoPcAf+j3sGf09KoL9PZLtAj4jOwk+r0AKPpnKED4J8hQ+QQ4YPt6cGT5UFCA+wR0gPlc3ID7EQCA+ilshPmnxIz4LViQ+8+IkPt0JJT71myY+uOkmPu4nJz6lUik+LCkqPhf/Kz4+QC0+DSEuPsktLz5DFjI+QSEyPigCND43MDQ+Pqc2PqknNz6VSzk+amg5Pv4GOj4j8Ts+29M8PlcOPj7jKz4+SX9GPgN7Rz4NDEs+xHZLPgwFTD5nM00+bjROPhPUUz5VWGM+CGVkPg/JZj7CPWc+XNlnPooWaD7lkGg+5EFvPn8UcD7aPnA+5KZxPgyvcT4ASnI+JYh3PqRveD7L+H8+AACAPhqdgz7k34U+p6WHPomIiD5c6Yk+QXCMPs72jD4lSZI+2l+SPp4fkz5rIJM+zkKTPndvlT4W7ZU+FIWYPge4mj4pu58+9/+fPjUVoj72OaQ+MnukPrbBqD7U6Kg+q6qqPti5qj4Fyao+xWCrPsOzqz53YK4+eYKuPrzgrz4J47I+dIOzPmVptj7OH7g+nWi5Pm5Xvz4mar8+Y3C/PkR2wT7Cpsc+Dn7KPiStzD6ZadA+tMXcPvnx4z7yHu8+Lt/yPgAAAD+YuwE/qPgBP4OqBz94WxQ/6skYPyivIT/bNyw/u+wyP27bNj+xEzs/",
          "dtype": "f4"
         },
         "xaxis": "x",
         "y": {
          "bdata": "Ycq/QaByyD/ne/626nLIP6g/sQBFgMg/72bA8vmByD+Vx0CUc5zIP4TtVrnzycg/vyY9dxXNyD+/Rt7DQfzIP5HX+nigKsk/YXCLwyNVyT/igoLLuFjJPy70Zgodbsk/GqNOLXabyT+8Q1ZdXMzJP0fwdHykzMk/63N/5X8kyj8W4B8VhiTKPxG03w7dL8o/0k6hBvI4yj/8b/pB+DjKPwUVVBvicso/PKNjeOhyyj/tMrJ/h3/KP1ptL+SNf8o/5iSbLOOvyj/30QSu6a/KP1WzUljEuco/oibuhCvgyj8bGI3TxS3LP1sCvaPMLcs//N+Y8ZpIyz+HQ9E+7O3LP+WwSpHz7cs/OyurnFc4zD8L5YqY7z3MPx7KeCP3Pcw/mbZqrv49zD/xLmaJxnXMP74EZDzOdcw/v6/A3Wh4zD9PwKhbfarMP/pmVru6zcw/9ISAscLNzD+rCa+nys3MP1zs4MaZls0/rAKVWqKWzT9Zxy3alcnNP/dkEt2ENs4/9Mx5ccU7zj+U1bmh+l/OP/ISPH47yc4/lCecH8s9zz+HkLoz1T3PP6EDzxos4M8/OdGDg5cj0D9GuTMXnSPQP/uGw2ZlqdA/SrUCffup0D/jCKyyd67QPzRPO+O52NA/98eAw8Lc0D8VzNMyydzQP3y5K6LP3NA/MZCIEdbc0D/JjN1Agd7QP4UjT2Vg6tA/b0PaE6v30D9ihkGuygjRP7jnxVnRCNE/5htZ44EW0T+frxyiiBbRP5KW5WCPFtE/lezUAM8X0T+2KXHB1RfRP444kgLIdNE/b377TM900T8fA1JLCbHRP7ti/+lkuNE/FXstX5e40T//HJrFprjRPyFwLf4ew9E/hRl9wibD0T/AwPwZ0hTSPyd1zmfaFNI/be2uegMW0j895JnKCxbSPwN/jBoUFtI/gsjcdOlT0j8CUnEz8lPSPzok4A45k9I/Z1otVq2Y0j+Ep33qUvjSPwXbLu5a+dI/bLZFa/Qn0z9aPCXQ/ifTP94JEDUJKNM/9xQAnaNv0z+drFXmv43TPy9XuDYorNM/hY0o/grW0z+GnJvdb2fUPwFrOid8jNQ/d6MBMYqM1D9/i3Q7AY/UP5f44kwPj9Q/mKZkXh2P1D/zeWbyGKzUPwSSbhmc2NQ/3996GavY1D/Ay8NeLkLVP+Yn/MM+QtU/0M7iiiJ21T+1RvjRXozVP/gfVj1wjNU/Xv1DNPE/1j+Eo6n3B0DWPwCXLtQKTtY/SJEa4mzE1j/GMmmMg8TWP/yzXWLYxdY/Wlv2EtBM1z9jjdLUt4HXPzwOAWnSgdc/qRIgfwqC1z9a51AVJYLXP09ey3uY49c/1L1bg7Xj1z9VLjEqgfHXPyjswf2u9tc/XDZgg8z21z+JZeNsRzHYP7bZage329g/5cRWj0kT2T/4Dbf2bxPZPzjJejin0tk/jZLhXEba2T8LDJtcdNrZP8nluRZTPdo/MZ+ekoU92j9InEUPuD3aP5JimWhvPdo/nAPY5aE92j/joMvywbnaP6gCS476udo/jLuz9xzF2j+IGuYtVsXaP2Ly4+KXyto/PqW1gp802z8AbMlf3zTbP/LQD0rryts/IvyBOjXL2z/Tg8a31NnbP1SiuGtyZ9w/SSCHusln3D98X24LIWjcPy9V4L7CTN0/utptUFaI3T81UmZh0AjeP5SHhIy0S94/73Ozwp+H3j9LcwpRFmHgP+9MRotXPuE/oQ23d9lS4T8KeXNpV53hP7mApYuzneE/znZ8CFJu4j8HoS1E82/iP+9z1DCqWOM/KZ+gUfsv5D9ZF4xIszPmP1VVVVVVVeY/WDC0/AqG5j9dQUyuICbnPyd2Yid2Yuc/",
          "dtype": "f8"
         },
         "yaxis": "y"
        },
        {
         "line": {
          "color": "#8e79a8"
         },
         "name": "Recall",
         "type": "scatter",
         "x": {
          "bdata": "AAAAACWglTtkUjw8iMZ6PAF6vDwwN8Q8NU3TPACHED1NyRQ9CtcjPcQ2LT2SpTI9hqVkPfHwcD0+ZnY9sY12PTu/dj0F13Y90/92PWfJfj1YWH89Uw2BPUjLgT0fUoc9i2aHPVsmiz1hlpQ9pzyXPdH6mD0wvZ09WR+vPRT8rz0tprM9AsOzPV5NtD2oU7Q9KOa1PcZMtj0inbc9vBLLPWMZyz1lIcs9ZiPLPTg4yz1Jfss9DMPQPXor5j1zk+c9s3zoPcAf+j3sGf09KoL9PZLtAj4jOwk+r0AKPpnKED4J8hQ+QQ4YPt6cGT5UFCA+wR0gPlc3ID7EQCA+ilshPmnxIz4LViQ+8+IkPt0JJT71myY+uOkmPu4nJz6lUik+LCkqPhf/Kz4+QC0+DSEuPsktLz5DFjI+QSEyPigCND43MDQ+Pqc2PqknNz6VSzk+amg5Pv4GOj4j8Ts+29M8PlcOPj7jKz4+SX9GPgN7Rz4NDEs+xHZLPgwFTD5nM00+bjROPhPUUz5VWGM+CGVkPg/JZj7CPWc+XNlnPooWaD7lkGg+5EFvPn8UcD7aPnA+5KZxPgyvcT4ASnI+JYh3PqRveD7L+H8+AACAPhqdgz7k34U+p6WHPomIiD5c6Yk+QXCMPs72jD4lSZI+2l+SPp4fkz5rIJM+zkKTPndvlT4W7ZU+FIWYPge4mj4pu58+9/+fPjUVoj72OaQ+MnukPrbBqD7U6Kg+q6qqPti5qj4Fyao+xWCrPsOzqz53YK4+eYKuPrzgrz4J47I+dIOzPmVptj7OH7g+nWi5Pm5Xvz4mar8+Y3C/PkR2wT7Cpsc+Dn7KPiStzD6ZadA+tMXcPvnx4z7yHu8+Lt/yPgAAAD+YuwE/qPgBP4OqBz94WxQ/6skYPyivIT/bNyw/u+wyP27bNj+xEzs/",
          "dtype": "f4"
         },
         "xaxis": "x",
         "y": {
          "bdata": "AAAAAAAA8D8AAAAAAADwPzvryamS/+8/T+S3N27/7z/wUj3ccPzvP0bPS+h39O8/lrMDIObz7z+f8W8ppervP6x7B52w3e8/Qi8LvZbR7z/g93osc9DvP9SW43Iwye8/bZYS/WK57z8OLphbLqLvPyInhukJou8/nZtFGw117z+dm0UbDXXvP7eGdEhbb+8/MakzBs1q7z8xqTMGzWrvP3b7aXPnTO8/dvtpc+dM7z8HvSz0WkbvPwe9LPRaRu8/cLUTE+Ar7z9wtRMT4CvvP3WnVLJSJu8/USqkurAO7z9ZFPsC297uP1kU+wLb3u4/uc51GKHN7j8w9fSSVFXuPzD19JJUVe4/PtGMevEf7j9pD5QA9RvuP2kPlAD1G+4/aQ+UAPUb7j/zigAhYfTtP/OKACFh9O0/9TAWVofy7T+8PWJVrMjtP3bAFuHFq+0/dsAW4cWr7T92wBbhxavtPyQyH9oqEO0/JDIf2ioQ7T9eydPCKOnsP6mIS/0Piew/JKsKu4GE7D8vuIyzL2XsP21wV/+t/+s/nceKkemS6z+dx4qR6ZLrP+QPwlq4++o/vETRq8aY6j+8RNGrxpjqP118LViukuk//ESdx4qR6T/xiRtDbojpP5VCtwS6Muk/d45H8sEp6T93jkfywSnpP3eOR/LBKek/d45H8sEp6T962nJcDibpP0aw/0DdCuk/s/QRyq7s6D+yoPwIGsboP7Kg/Agaxug/qbSQc+ym6D+ptJBz7KboP6m0kHPspug/SiMWGO+j6D9KIxYY76PoPzJV07Mazec/MlXTsxrN5z+hZube10nnPyZtJ9suOuc/dlHfEp055z92Ud8SnTnnP2bNHKnWIec/Zs0cqdYh5z+RMPpOnGvmP5Ew+k6ca+Y/Ca2j1+do5j8JraPX52jmPwmto9fnaOY/fbD3oRfg5T99sPehF+DlP2Q+tFUgWuU/byI2lAVP5T8pysA/4X/kP1JispC+feQ/KpfB4cwa5D8ql8HhzBrkPyqXweHMGuQ/gOalmQSJ4z9XybR2gU7jP/cMJRS4EOM/v5RxQTeq4j8iENkHmmvhP7rk8ooAIeE/uuTyigAh4T+E62mA4BvhP4TraYDgG+E/hOtpgOAb4T/X8Dcbz9zgP6kzBs1qf+A/qTMGzWp/4D9yhj5P0mTfP3KGPk/SZN8/Y6RngCut3j+MOkSEBVzeP4w6RIQFXN4/vkwl4NPU2z/mPgH8itTbP7Tjo89Io9s/SI0+bh4M2j9IjT5uHgzaP8Kv/SuQB9o/iVj23spQ2D9SW0M6pK3XP1JbQzqkrdc/8COzqYCs1z/wI7OpgKzXP7+6LD/sY9Y/v7osP+xj1j8lkOit7TjWP5lDUVGPJ9Y/mUNRUY8n1j/9FOMlil7VPxze6szuTtM/Jr5Ccc2l0j8mvkJxzaXSP/9dFGXgn9A/ibCAy4OM0D+JsIDLg4zQPwCg1k0cEc8/AKDWTRwRzz8AoNZNHBHPP1CEjoWKEM8/UISOhYoQzz/Xl32/Bb7MP9eXfb8Fvsw/+WwDNX6IzD/5bAM1fojMP+uOVgDebsw/KbLj7mBmyj8psuPuYGbKP70kVZUbzMc/vSRVlRvMxz+FWqFOCY7HP3aPd2HSDMU/do93YdIMxT92j3dh0gzFPyx7b2Uo7ME/VLshW2olwT+/mctKTiu/P+b+U2BSsr0/1RhT96RcvD/g3rj9/0qxP1fm69AY6ak/tB8n0XonqT+fDqeDPIWmPxkxZkGugKY/wlijrueunT/CWKOu566dP5YAqopgSpM/AU+7t32lgz+Cf8L/6FJuP4FtbyeQnWw/V0tvjBNZZz+sdq2TmVxDP1Y5HLS6ozU/",
          "dtype": "f8"
         },
         "yaxis": "y"
        },
        {
         "line": {
          "dash": "dot"
         },
         "name": "F1-Score",
         "type": "scatter",
         "x": {
          "bdata": "AAAAACWglTtkUjw8iMZ6PAF6vDwwN8Q8NU3TPACHED1NyRQ9CtcjPcQ2LT2SpTI9hqVkPfHwcD0+ZnY9sY12PTu/dj0F13Y90/92PWfJfj1YWH89Uw2BPUjLgT0fUoc9i2aHPVsmiz1hlpQ9pzyXPdH6mD0wvZ09WR+vPRT8rz0tprM9AsOzPV5NtD2oU7Q9KOa1PcZMtj0inbc9vBLLPWMZyz1lIcs9ZiPLPTg4yz1Jfss9DMPQPXor5j1zk+c9s3zoPcAf+j3sGf09KoL9PZLtAj4jOwk+r0AKPpnKED4J8hQ+QQ4YPt6cGT5UFCA+wR0gPlc3ID7EQCA+ilshPmnxIz4LViQ+8+IkPt0JJT71myY+uOkmPu4nJz6lUik+LCkqPhf/Kz4+QC0+DSEuPsktLz5DFjI+QSEyPigCND43MDQ+Pqc2PqknNz6VSzk+amg5Pv4GOj4j8Ts+29M8PlcOPj7jKz4+SX9GPgN7Rz4NDEs+xHZLPgwFTD5nM00+bjROPhPUUz5VWGM+CGVkPg/JZj7CPWc+XNlnPooWaD7lkGg+5EFvPn8UcD7aPnA+5KZxPgyvcT4ASnI+JYh3PqRveD7L+H8+AACAPhqdgz7k34U+p6WHPomIiD5c6Yk+QXCMPs72jD4lSZI+2l+SPp4fkz5rIJM+zkKTPndvlT4W7ZU+FIWYPge4mj4pu58+9/+fPjUVoj72OaQ+MnukPrbBqD7U6Kg+q6qqPti5qj4Fyao+xWCrPsOzqz53YK4+eYKuPrzgrz4J47I+dIOzPmVptj7OH7g+nWi5Pm5Xvz4mar8+Y3C/PkR2wT7Cpsc+Dn7KPiStzD6ZadA+tMXcPvnx4z7yHu8+Lt/yPgAAAD+YuwE/qPgBP4OqBz94WxQ/6skYPyivIT/bNyw/u+wyP27bNj+xEzs/",
          "dtype": "f4"
         },
         "xaxis": "x",
         "y": {
          "bdata": "tUM1KPGG1D+C6e+lJYfUPyvmRVSDkNQ/er5uXrOR1D/LsEG5BqTUP67Bsvgmw9Q/ZpJG9knF1D8iWedNWOXUPxN4XRlVBNU/t0yuAZ4g1T+u1H+g+yLVP3Yh1lMLMdU/ZVFMOrhO1T/YIGev4G3VPwFF10MObtU/ndqIijyl1T/61y7IQKXVPzY3cS1ZrNU/2GG6Ygay1T/8iMimCrLVPyyUpNz/1dU/G7gEMwTW1T+5oAYF0d3VPyh9a1/V3dU/rdYnLGz71T+VEBuWcPvVP4J/iH1uAdY/SNb7bnUY1j+CrNFCnEbWP0xTedagRtY/FqDTqFxW1j9nfEBoD7TWPycr3j4UtNY/282ARX7d1j8Fr7ABl+DWP3dCuPSb4NY/IvrB56Dg1j/c9CN0Xv/WPxCIIXtj/9Y/cYqs3dAA1z9gbtEeMhvXP3kRo76sLdc/Hdty5rEt1z/m70QOty3XP445qIbcldc/rPXN+eGV1z8u1Ea8sa/XP4F0MkO149c/s4DKHTHm1z+0KtxrPPfXP5levwjnJdg/+XZHlXFY2D9zIha0d1jYPx4+tCCym9g/w+NMc7TD2D+QhQ8Eu8PYP83wDt2aItk/fXSJMv8i2T/rxRoY5CXZPyBr+B59QNk/HnZcTcNC2T9/Ns6FykLZP5oXRL7RQtk/bhm+9thC2T+okVJEyUPZPxrZZzguStk/mXWRJERR2T/ulPfhQFrZP3cnH0VIWtk/BECgYzNh2T+OwjHUOmHZP7Ghx0RCYdk/tWWt0Ndh2T+NcYZC32HZPxAKPVJ7i9k/K4ymIIOL2T+3ji7AmqTZP1WxuyuQp9k/XPctlZin2T9KXHe4qKfZP4hEoUhTq9k/k5rpZFur2T9T7vqOW8XZP92QMP5jxdk/zTIU06zF2T8VroNDtcXZP0Sw+LO9xdk/rr3Zq2LV2T+ao55ba9XZP8k10Tee49k/JDI99tHk2T/7tiASP/DZP41/COta8Nk/wTtOoBbz2T/8ZLYpIPPZP7WQJbMp89k/6gufP2312T9sI65T/PXZP7xB3VhX9Nk/UVAT1wHo2T8vNGcIbrzZP2DMZkRRsNk/Yx+jPFyw2T/MDOWDZq/ZP3vooX5xr9k/JydoeXyv2T8NsysR9KHZP62zAePPjNk/eB9JJ9uM2T/XOh8RxlnZP5CdbLnRWdk/XBGZgC5B2T/y4SyKwDTZPxNJDHXMNNk/88XlesK62D8RhqrDs7rYP7K7gJHFr9g/Eqhblg9M2D8NtXd+HEzYP2frstjiStg/SeCWuwfM1z9Q/PeVmZfXP2ER0fiml9c/sq8SeTKX1z8TmhvcP5fXP0I5vviLHdc/xR65j5kd1z/Tup4iAQ3XPwUNgMgJBtc/vougaBcG1z+bLQVwhLHWPylEnI0OvNU/UKJAKphj1T9M+dMipmPVP4qhu/YfOtQ/HZ3Yehcu1D/dKkp+JS7UP49jgTa4g9M//VqKLMaD0z9XTKci1IPTP62/d4WGg9M//CB7e5SD0z+aTrg6/rDSP8VgyBIMsdI/Qa3Fpwud0j/HjBp8GZ3SP/ZgJO1xk9I/4fVpB4HG0T9rZwWpjsbRPxJ9LDfRqdA/NT4ygd6p0D/XtQGP7Y3QP5GWbULBt84/2/lKydq3zj9dylJQ9LfOPxYi/GIac8s/P31a6sCTyj9WHlNakr/IPzNKRksC2sc/PQ48/zEExz8Vkgt4vY2+P3oikvKir7c/K1ETILYPtz/W5jhtpNq0PzZ6HGDE1rQ/mcWJC8pCrD9J3rew6EKsP3n4r+IltaI/IqYKIihakz8eSuuHtil+P3OL47kUeXw/AY/Bs/hAdz9/lh0AjlhTPxVYgzM6oUU/",
          "dtype": "f8"
         },
         "yaxis": "y"
        }
       ],
       "layout": {
        "annotations": [
         {
          "showarrow": false,
          "text": "Best F1-Score Threshold: 0.21",
          "x": 0.20686368644237518,
          "xanchor": "left",
          "xref": "x",
          "y": 0,
          "yanchor": "bottom",
          "yref": "y domain"
         }
        ],
        "legend": {
         "title": {
          "text": "Metric"
         }
        },
        "shapes": [
         {
          "line": {
           "color": "red",
           "dash": "dash",
           "width": 1
          },
          "type": "line",
          "x0": 0.20686368644237518,
          "x1": 0.20686368644237518,
          "xref": "x",
          "y0": 0,
          "y1": 1,
          "yref": "y domain"
         }
        ],
        "template": {
         "data": {
          "bar": [
           {
            "error_x": {
             "color": "#2a3f5f"
            },
            "error_y": {
             "color": "#2a3f5f"
            },
            "marker": {
             "line": {
              "color": "white",
              "width": 0.5
             },
             "pattern": {
              "fillmode": "overlay",
              "size": 10,
              "solidity": 0.2
             }
            },
            "type": "bar"
           }
          ],
          "barpolar": [
           {
            "marker": {
             "line": {
              "color": "white",
              "width": 0.5
             },
             "pattern": {
              "fillmode": "overlay",
              "size": 10,
              "solidity": 0.2
             }
            },
            "type": "barpolar"
           }
          ],
          "carpet": [
           {
            "aaxis": {
             "endlinecolor": "#2a3f5f",
             "gridcolor": "#C8D4E3",
             "linecolor": "#C8D4E3",
             "minorgridcolor": "#C8D4E3",
             "startlinecolor": "#2a3f5f"
            },
            "baxis": {
             "endlinecolor": "#2a3f5f",
             "gridcolor": "#C8D4E3",
             "linecolor": "#C8D4E3",
             "minorgridcolor": "#C8D4E3",
             "startlinecolor": "#2a3f5f"
            },
            "type": "carpet"
           }
          ],
          "choropleth": [
           {
            "colorbar": {
             "outlinewidth": 0,
             "ticks": ""
            },
            "type": "choropleth"
           }
          ],
          "contour": [
           {
            "colorbar": {
             "outlinewidth": 0,
             "ticks": ""
            },
            "colorscale": [
             [
              0,
              "#0d0887"
             ],
             [
              0.1111111111111111,
              "#46039f"
             ],
             [
              0.2222222222222222,
              "#7201a8"
             ],
             [
              0.3333333333333333,
              "#9c179e"
             ],
             [
              0.4444444444444444,
              "#bd3786"
             ],
             [
              0.5555555555555556,
              "#d8576b"
             ],
             [
              0.6666666666666666,
              "#ed7953"
             ],
             [
              0.7777777777777778,
              "#fb9f3a"
             ],
             [
              0.8888888888888888,
              "#fdca26"
             ],
             [
              1,
              "#f0f921"
             ]
            ],
            "type": "contour"
           }
          ],
          "contourcarpet": [
           {
            "colorbar": {
             "outlinewidth": 0,
             "ticks": ""
            },
            "type": "contourcarpet"
           }
          ],
          "heatmap": [
           {
            "colorbar": {
             "outlinewidth": 0,
             "ticks": ""
            },
            "colorscale": [
             [
              0,
              "#0d0887"
             ],
             [
              0.1111111111111111,
              "#46039f"
             ],
             [
              0.2222222222222222,
              "#7201a8"
             ],
             [
              0.3333333333333333,
              "#9c179e"
             ],
             [
              0.4444444444444444,
              "#bd3786"
             ],
             [
              0.5555555555555556,
              "#d8576b"
             ],
             [
              0.6666666666666666,
              "#ed7953"
             ],
             [
              0.7777777777777778,
              "#fb9f3a"
             ],
             [
              0.8888888888888888,
              "#fdca26"
             ],
             [
              1,
              "#f0f921"
             ]
            ],
            "type": "heatmap"
           }
          ],
          "histogram": [
           {
            "marker": {
             "pattern": {
              "fillmode": "overlay",
              "size": 10,
              "solidity": 0.2
             }
            },
            "type": "histogram"
           }
          ],
          "histogram2d": [
           {
            "colorbar": {
             "outlinewidth": 0,
             "ticks": ""
            },
            "colorscale": [
             [
              0,
              "#0d0887"
             ],
             [
              0.1111111111111111,
              "#46039f"
             ],
             [
              0.2222222222222222,
              "#7201a8"
             ],
             [
              0.3333333333333333,
              "#9c179e"
             ],
             [
              0.4444444444444444,
              "#bd3786"
             ],
             [
              0.5555555555555556,
              "#d8576b"
             ],
             [
              0.6666666666666666,
              "#ed7953"
             ],
             [
              0.7777777777777778,
              "#fb9f3a"
             ],
             [
              0.8888888888888888,
              "#fdca26"
             ],
             [
              1,
              "#f0f921"
             ]
            ],
            "type": "histogram2d"
           }
          ],
          "histogram2dcontour": [
           {
            "colorbar": {
             "outlinewidth": 0,
             "ticks": ""
            },
            "colorscale": [
             [
              0,
              "#0d0887"
             ],
             [
              0.1111111111111111,
              "#46039f"
             ],
             [
              0.2222222222222222,
              "#7201a8"
             ],
             [
              0.3333333333333333,
              "#9c179e"
             ],
             [
              0.4444444444444444,
              "#bd3786"
             ],
             [
              0.5555555555555556,
              "#d8576b"
             ],
             [
              0.6666666666666666,
              "#ed7953"
             ],
             [
              0.7777777777777778,
              "#fb9f3a"
             ],
             [
              0.8888888888888888,
              "#fdca26"
             ],
             [
              1,
              "#f0f921"
             ]
            ],
            "type": "histogram2dcontour"
           }
          ],
          "mesh3d": [
           {
            "colorbar": {
             "outlinewidth": 0,
             "ticks": ""
            },
            "type": "mesh3d"
           }
          ],
          "parcoords": [
           {
            "line": {
             "colorbar": {
              "outlinewidth": 0,
              "ticks": ""
             }
            },
            "type": "parcoords"
           }
          ],
          "pie": [
           {
            "automargin": true,
            "type": "pie"
           }
          ],
          "scatter": [
           {
            "fillpattern": {
             "fillmode": "overlay",
             "size": 10,
             "solidity": 0.2
            },
            "type": "scatter"
           }
          ],
          "scatter3d": [
           {
            "line": {
             "colorbar": {
              "outlinewidth": 0,
              "ticks": ""
             }
            },
            "marker": {
             "colorbar": {
              "outlinewidth": 0,
              "ticks": ""
             }
            },
            "type": "scatter3d"
           }
          ],
          "scattercarpet": [
           {
            "marker": {
             "colorbar": {
              "outlinewidth": 0,
              "ticks": ""
             }
            },
            "type": "scattercarpet"
           }
          ],
          "scattergeo": [
           {
            "marker": {
             "colorbar": {
              "outlinewidth": 0,
              "ticks": ""
             }
            },
            "type": "scattergeo"
           }
          ],
          "scattergl": [
           {
            "marker": {
             "colorbar": {
              "outlinewidth": 0,
              "ticks": ""
             }
            },
            "type": "scattergl"
           }
          ],
          "scattermap": [
           {
            "marker": {
             "colorbar": {
              "outlinewidth": 0,
              "ticks": ""
             }
            },
            "type": "scattermap"
           }
          ],
          "scattermapbox": [
           {
            "marker": {
             "colorbar": {
              "outlinewidth": 0,
              "ticks": ""
             }
            },
            "type": "scattermapbox"
           }
          ],
          "scatterpolar": [
           {
            "marker": {
             "colorbar": {
              "outlinewidth": 0,
              "ticks": ""
             }
            },
            "type": "scatterpolar"
           }
          ],
          "scatterpolargl": [
           {
            "marker": {
             "colorbar": {
              "outlinewidth": 0,
              "ticks": ""
             }
            },
            "type": "scatterpolargl"
           }
          ],
          "scatterternary": [
           {
            "marker": {
             "colorbar": {
              "outlinewidth": 0,
              "ticks": ""
             }
            },
            "type": "scatterternary"
           }
          ],
          "surface": [
           {
            "colorbar": {
             "outlinewidth": 0,
             "ticks": ""
            },
            "colorscale": [
             [
              0,
              "#0d0887"
             ],
             [
              0.1111111111111111,
              "#46039f"
             ],
             [
              0.2222222222222222,
              "#7201a8"
             ],
             [
              0.3333333333333333,
              "#9c179e"
             ],
             [
              0.4444444444444444,
              "#bd3786"
             ],
             [
              0.5555555555555556,
              "#d8576b"
             ],
             [
              0.6666666666666666,
              "#ed7953"
             ],
             [
              0.7777777777777778,
              "#fb9f3a"
             ],
             [
              0.8888888888888888,
              "#fdca26"
             ],
             [
              1,
              "#f0f921"
             ]
            ],
            "type": "surface"
           }
          ],
          "table": [
           {
            "cells": {
             "fill": {
              "color": "#EBF0F8"
             },
             "line": {
              "color": "white"
             }
            },
            "header": {
             "fill": {
              "color": "#C8D4E3"
             },
             "line": {
              "color": "white"
             }
            },
            "type": "table"
           }
          ]
         },
         "layout": {
          "annotationdefaults": {
           "arrowcolor": "#2a3f5f",
           "arrowhead": 0,
           "arrowwidth": 1
          },
          "autotypenumbers": "strict",
          "coloraxis": {
           "colorbar": {
            "outlinewidth": 0,
            "ticks": ""
           }
          },
          "colorscale": {
           "diverging": [
            [
             0,
             "#8e0152"
            ],
            [
             0.1,
             "#c51b7d"
            ],
            [
             0.2,
             "#de77ae"
            ],
            [
             0.3,
             "#f1b6da"
            ],
            [
             0.4,
             "#fde0ef"
            ],
            [
             0.5,
             "#f7f7f7"
            ],
            [
             0.6,
             "#e6f5d0"
            ],
            [
             0.7,
             "#b8e186"
            ],
            [
             0.8,
             "#7fbc41"
            ],
            [
             0.9,
             "#4d9221"
            ],
            [
             1,
             "#276419"
            ]
           ],
           "sequential": [
            [
             0,
             "#0d0887"
            ],
            [
             0.1111111111111111,
             "#46039f"
            ],
            [
             0.2222222222222222,
             "#7201a8"
            ],
            [
             0.3333333333333333,
             "#9c179e"
            ],
            [
             0.4444444444444444,
             "#bd3786"
            ],
            [
             0.5555555555555556,
             "#d8576b"
            ],
            [
             0.6666666666666666,
             "#ed7953"
            ],
            [
             0.7777777777777778,
             "#fb9f3a"
            ],
            [
             0.8888888888888888,
             "#fdca26"
            ],
            [
             1,
             "#f0f921"
            ]
           ],
           "sequentialminus": [
            [
             0,
             "#0d0887"
            ],
            [
             0.1111111111111111,
             "#46039f"
            ],
            [
             0.2222222222222222,
             "#7201a8"
            ],
            [
             0.3333333333333333,
             "#9c179e"
            ],
            [
             0.4444444444444444,
             "#bd3786"
            ],
            [
             0.5555555555555556,
             "#d8576b"
            ],
            [
             0.6666666666666666,
             "#ed7953"
            ],
            [
             0.7777777777777778,
             "#fb9f3a"
            ],
            [
             0.8888888888888888,
             "#fdca26"
            ],
            [
             1,
             "#f0f921"
            ]
           ]
          },
          "colorway": [
           "#636efa",
           "#EF553B",
           "#00cc96",
           "#ab63fa",
           "#FFA15A",
           "#19d3f3",
           "#FF6692",
           "#B6E880",
           "#FF97FF",
           "#FECB52"
          ],
          "font": {
           "color": "#2a3f5f"
          },
          "geo": {
           "bgcolor": "white",
           "lakecolor": "white",
           "landcolor": "white",
           "showlakes": true,
           "showland": true,
           "subunitcolor": "#C8D4E3"
          },
          "hoverlabel": {
           "align": "left"
          },
          "hovermode": "closest",
          "mapbox": {
           "style": "light"
          },
          "paper_bgcolor": "white",
          "plot_bgcolor": "white",
          "polar": {
           "angularaxis": {
            "gridcolor": "#EBF0F8",
            "linecolor": "#EBF0F8",
            "ticks": ""
           },
           "bgcolor": "white",
           "radialaxis": {
            "gridcolor": "#EBF0F8",
            "linecolor": "#EBF0F8",
            "ticks": ""
           }
          },
          "scene": {
           "xaxis": {
            "backgroundcolor": "white",
            "gridcolor": "#DFE8F3",
            "gridwidth": 2,
            "linecolor": "#EBF0F8",
            "showbackground": true,
            "ticks": "",
            "zerolinecolor": "#EBF0F8"
           },
           "yaxis": {
            "backgroundcolor": "white",
            "gridcolor": "#DFE8F3",
            "gridwidth": 2,
            "linecolor": "#EBF0F8",
            "showbackground": true,
            "ticks": "",
            "zerolinecolor": "#EBF0F8"
           },
           "zaxis": {
            "backgroundcolor": "white",
            "gridcolor": "#DFE8F3",
            "gridwidth": 2,
            "linecolor": "#EBF0F8",
            "showbackground": true,
            "ticks": "",
            "zerolinecolor": "#EBF0F8"
           }
          },
          "shapedefaults": {
           "line": {
            "color": "#2a3f5f"
           }
          },
          "ternary": {
           "aaxis": {
            "gridcolor": "#DFE8F3",
            "linecolor": "#A2B1C6",
            "ticks": ""
           },
           "baxis": {
            "gridcolor": "#DFE8F3",
            "linecolor": "#A2B1C6",
            "ticks": ""
           },
           "bgcolor": "white",
           "caxis": {
            "gridcolor": "#DFE8F3",
            "linecolor": "#A2B1C6",
            "ticks": ""
           }
          },
          "title": {
           "x": 0.05
          },
          "xaxis": {
           "automargin": true,
           "gridcolor": "#EBF0F8",
           "linecolor": "#EBF0F8",
           "ticks": "",
           "title": {
            "standoff": 15
           },
           "zerolinecolor": "#EBF0F8",
           "zerolinewidth": 2
          },
          "yaxis": {
           "automargin": true,
           "gridcolor": "#EBF0F8",
           "linecolor": "#EBF0F8",
           "ticks": "",
           "title": {
            "standoff": 15
           },
           "zerolinecolor": "#EBF0F8",
           "zerolinewidth": 2
          }
         }
        },
        "title": {
         "text": "Precision, Recall, and F1-Score vs. Decision Threshold"
        },
        "xaxis": {
         "anchor": "y",
         "domain": [
          0,
          0.94
         ],
         "title": {
          "text": "Decision Threshold"
         }
        },
        "yaxis": {
         "anchor": "x",
         "domain": [
          0,
          1
         ],
         "title": {
          "text": "Score"
         }
        },
        "yaxis2": {
         "anchor": "x",
         "overlaying": "y",
         "side": "right"
        }
       }
      }
     },
     "metadata": {},
     "output_type": "display_data"
    }
   ],
   "source": [
    "\n",
    "uncalibrated_proba = final_xgb_model.predict_proba(X_calib)[:, 1]\n",
    "\n",
    "y_pred_proba = xgboost_isotonic_calibrator.predict(uncalibrated_proba)\n",
    "\n",
    "\n",
    "precisions, recalls, thresholds = precision_recall_curve(y_calib, y_pred_proba)\n",
    "\n",
    "\n",
    "results_df = pd.DataFrame({\n",
    "    'Threshold': thresholds,\n",
    "    'Precision': precisions[:-1],\n",
    "    'Recall': recalls[:-1]\n",
    "})\n",
    "\n",
    "# Add F1-Score for a more balanced view\n",
    "# Avoid division by zero if precision and recall are both 0\n",
    "results_df['F1-Score'] = 2 * (results_df['Precision'] * results_df['Recall']) / \\\n",
    "                        (results_df['Precision'] + results_df['Recall']).replace(0, 1e-9)\n",
    "\n",
    "print(\"--- Threshold Analysis Results ---\")\n",
    "\n",
    "display(results_df.sort_values(by='F1-Score', ascending=False).head(10))\n",
    "\n",
    "\n",
    "\n",
    "fig = make_subplots(specs=[[{\"secondary_y\": True}]])\n",
    "\n",
    "\n",
    "fig.add_trace(\n",
    "    go.Scatter(x=results_df['Threshold'], y=results_df['Precision'], name='Precision', line=dict(color='black')),\n",
    "    secondary_y=False,\n",
    "      \n",
    ")\n",
    "fig.add_trace(\n",
    "    go.Scatter(x=results_df['Threshold'], y=results_df['Recall'], name='Recall', line=dict(color='#8e79a8')),\n",
    "    secondary_y=False,\n",
    ")\n",
    "\n",
    "\n",
    "fig.add_trace(\n",
    "    go.Scatter(x=results_df['Threshold'], y=results_df['F1-Score'], name='F1-Score', line=dict(dash='dot')),\n",
    "    secondary_y=False,\n",
    ")\n",
    "\n",
    "\n",
    "best_f1_row = results_df.loc[results_df['F1-Score'].idxmax()]\n",
    "best_threshold = best_f1_row['Threshold']\n",
    "best_f1_score = best_f1_row['F1-Score']\n",
    "\n",
    "fig.add_vline(x=best_threshold, line_width=1, line_dash=\"dash\", line_color=\"red\",\n",
    "              annotation_text=f'Best F1-Score Threshold: {best_threshold:.2f}',\n",
    "              annotation_position=\"bottom right\")\n",
    "\n",
    "\n",
    "fig.update_layout(\n",
    "    title_text='Precision, Recall, and F1-Score vs. Decision Threshold',\n",
    "    xaxis_title='Decision Threshold',\n",
    "    yaxis_title='Score',\n",
    "    legend_title='Metric',\n",
    "    template='plotly_white'\n",
    ")\n",
    "\n",
    "fig.show()"
   ]
  },
  {
   "cell_type": "code",
   "execution_count": 20,
   "metadata": {},
   "outputs": [
    {
     "name": "stdout",
     "output_type": "stream",
     "text": [
      "\n",
      "--- Debugging Info for 'Test' Set ---\n",
      "Threshold used: 0.1900\n",
      "Shape of y_true_np: (343827, 1)\n",
      "Shape of y_pred: (343827,)\n",
      "Unique values in y_true_np: [0 1]\n",
      "Unique values in y_pred: (array([0, 1]), array([176120, 167707]))\n",
      "Confusion Matrix:\n",
      "[[153231 113081]\n",
      " [ 22889  54626]]\n",
      "---------------------------------------\n",
      "\n",
      "\n",
      "--- Debugging Info for 'Train' Set ---\n",
      "Threshold used: 0.1900\n",
      "Shape of y_true_np: (702962, 1)\n",
      "Shape of y_pred: (702962,)\n",
      "Unique values in y_true_np: [0 1]\n",
      "Unique values in y_pred: (array([0, 1]), array([394252, 308710]))\n",
      "Confusion Matrix:\n",
      "[[350725 217974]\n",
      " [ 43527  90736]]\n",
      "---------------------------------------\n",
      "\n",
      "\n",
      "--- Debugging Info for 'Test' Set ---\n",
      "Threshold used: 0.1900\n",
      "Shape of y_true_np: (343827, 1)\n",
      "Shape of y_pred: (343827,)\n",
      "Unique values in y_true_np: [0 1]\n",
      "Unique values in y_pred: (array([0, 1]), array([176120, 167707]))\n",
      "Confusion Matrix:\n",
      "[[153231 113081]\n",
      " [ 22889  54626]]\n",
      "---------------------------------------\n",
      "\n",
      "Using Optimal Threshold (max F1-Score): 0.2069\n",
      "\n",
      "--- Classification Metrics Comparison with Optimal Threshold ---\n"
     ]
    },
    {
     "data": {
      "text/html": [
       "<div>\n",
       "<style scoped>\n",
       "    .dataframe tbody tr th:only-of-type {\n",
       "        vertical-align: middle;\n",
       "    }\n",
       "\n",
       "    .dataframe tbody tr th {\n",
       "        vertical-align: top;\n",
       "    }\n",
       "\n",
       "    .dataframe thead th {\n",
       "        text-align: right;\n",
       "    }\n",
       "</style>\n",
       "<table border=\"1\" class=\"dataframe\">\n",
       "  <thead>\n",
       "    <tr style=\"text-align: right;\">\n",
       "      <th></th>\n",
       "      <th>Train</th>\n",
       "      <th>Test</th>\n",
       "    </tr>\n",
       "  </thead>\n",
       "  <tbody>\n",
       "    <tr>\n",
       "      <th>AUC</th>\n",
       "      <td>0.701956</td>\n",
       "      <td>0.695909</td>\n",
       "    </tr>\n",
       "    <tr>\n",
       "      <th>Gini</th>\n",
       "      <td>0.403911</td>\n",
       "      <td>0.391818</td>\n",
       "    </tr>\n",
       "    <tr>\n",
       "      <th>Brier Score</th>\n",
       "      <td>0.141725</td>\n",
       "      <td>0.160271</td>\n",
       "    </tr>\n",
       "    <tr>\n",
       "      <th>Precision (Class 0)</th>\n",
       "      <td>0.889596</td>\n",
       "      <td>0.870037</td>\n",
       "    </tr>\n",
       "    <tr>\n",
       "      <th>Recall (Class 0)</th>\n",
       "      <td>0.616715</td>\n",
       "      <td>0.575382</td>\n",
       "    </tr>\n",
       "    <tr>\n",
       "      <th>F1-Score (Class 0)</th>\n",
       "      <td>0.728438</td>\n",
       "      <td>0.692676</td>\n",
       "    </tr>\n",
       "    <tr>\n",
       "      <th>Precision (Class 1)</th>\n",
       "      <td>0.293920</td>\n",
       "      <td>0.325723</td>\n",
       "    </tr>\n",
       "    <tr>\n",
       "      <th>Recall (Class 1)</th>\n",
       "      <td>0.675808</td>\n",
       "      <td>0.704715</td>\n",
       "    </tr>\n",
       "    <tr>\n",
       "      <th>F1-Score (Class 1)</th>\n",
       "      <td>0.409668</td>\n",
       "      <td>0.445523</td>\n",
       "    </tr>\n",
       "    <tr>\n",
       "      <th>Accuracy</th>\n",
       "      <td>0.628001</td>\n",
       "      <td>0.604539</td>\n",
       "    </tr>\n",
       "  </tbody>\n",
       "</table>\n",
       "</div>"
      ],
      "text/plain": [
       "                        Train      Test\n",
       "AUC                  0.701956  0.695909\n",
       "Gini                 0.403911  0.391818\n",
       "Brier Score          0.141725  0.160271\n",
       "Precision (Class 0)  0.889596  0.870037\n",
       "Recall (Class 0)     0.616715  0.575382\n",
       "F1-Score (Class 0)   0.728438  0.692676\n",
       "Precision (Class 1)  0.293920  0.325723\n",
       "Recall (Class 1)     0.675808  0.704715\n",
       "F1-Score (Class 1)   0.409668  0.445523\n",
       "Accuracy             0.628001  0.604539"
      ]
     },
     "metadata": {},
     "output_type": "display_data"
    }
   ],
   "source": [
    "\n",
    "\n",
    "def generate_classification_metrics(y_true, y_pred_proba, threshold, dataset_name=\"Test\"):\n",
    "    \"\"\"\n",
    "    Calculates a comprehensive set of classification metrics for a given threshold.\n",
    "    This version includes debugging prints to diagnose issues.\n",
    "\n",
    "    Args:\n",
    "        y_true: True labels.\n",
    "        y_pred_proba: Predicted probabilities for the positive class.\n",
    "        threshold: The decision threshold to use.\n",
    "        dataset_name: Name of the dataset ('Train' or 'Test') for printing.\n",
    "\n",
    "    Returns:\n",
    "        A dictionary containing all the calculated metrics.\n",
    "    \"\"\"\n",
    "    # --- CRITICAL: Ensure alignment and correct data types ---\n",
    "    y_true_np = np.asarray(y_true).astype(int)\n",
    "    y_pred_proba_np = np.asarray(y_pred_proba).astype(float)\n",
    "    \n",
    "    # Apply the custom threshold\n",
    "    y_pred = (y_pred_proba_np >= threshold).astype(int)\n",
    "    \n",
    "    # --- START DEBUGGING BLOCK ---\n",
    "    print(f\"\\n--- Debugging Info for '{dataset_name}' Set ---\")\n",
    "    print(f\"Threshold used: {threshold:.4f}\")\n",
    "    print(f\"Shape of y_true_np: {y_true_np.shape}\")\n",
    "    print(f\"Shape of y_pred: {y_pred.shape}\")\n",
    "    print(f\"Unique values in y_true_np: {np.unique(y_true_np)}\")\n",
    "    print(f\"Unique values in y_pred: {np.unique(y_pred, return_counts=True)}\")\n",
    "    \n",
    "    # Calculate and print the confusion matrix\n",
    "    cm = confusion_matrix(y_true_np, y_pred)\n",
    "    print(\"Confusion Matrix:\")\n",
    "    print(cm)\n",
    "    print(\"---------------------------------------\\n\")\n",
    "    # --- END DEBUGGING BLOCK ---\n",
    "\n",
    "    # Now, calculate metrics as before\n",
    "    report_dict = classification_report(y_true_np, y_pred, output_dict=True, zero_division=0)\n",
    "    \n",
    "    auc = roc_auc_score(y_true_np, y_pred_proba_np)\n",
    "    gini = 2 * auc - 1\n",
    "    brier = brier_score_loss(y_true_np, y_pred_proba_np)\n",
    "    \n",
    "    class_0_metrics = report_dict.get('0', {'precision': 0, 'recall': 0, 'f1-score': 0})\n",
    "    class_1_metrics = report_dict.get('1', {'precision': 0, 'recall': 0, 'f1-score': 0})\n",
    "    \n",
    "    metrics = {\n",
    "        \"AUC\": auc, \"Gini\": gini, \"Brier Score\": brier,\n",
    "        \"Precision (Class 0)\": class_0_metrics['precision'],\n",
    "        \"Recall (Class 0)\": class_0_metrics['recall'],\n",
    "        \"F1-Score (Class 0)\": class_0_metrics['f1-score'],\n",
    "        \"Precision (Class 1)\": class_1_metrics['precision'],\n",
    "        \"Recall (Class 1)\": class_1_metrics['recall'],\n",
    "        \"F1-Score (Class 1)\": class_1_metrics['f1-score'],\n",
    "        \"Accuracy\": report_dict['accuracy']\n",
    "    }\n",
    "    \n",
    "    return metrics\n",
    "\n",
    "\n",
    "optimal_threshold = 0.19\n",
    "\n",
    "\n",
    "test_uncalibrated_proba =  final_xgb_model.predict_proba(X_test)[:, 1]\n",
    "test_pred_proba = xgboost_isotonic_calibrator.predict(test_uncalibrated_proba)\n",
    "\n",
    "train_uncalibrated_proba =  final_xgb_model.predict_proba(X_train)[:, 1]\n",
    "train_pred_proba = xgboost_isotonic_calibrator.predict(train_uncalibrated_proba)\n",
    "\n",
    "test_metrics = generate_classification_metrics(y_test, test_pred_proba, optimal_threshold)\n",
    "\n",
    "\n",
    "train_metrics = generate_classification_metrics(y_train, train_pred_proba, optimal_threshold, dataset_name=\"Train\")\n",
    "test_metrics = generate_classification_metrics(y_test, test_pred_proba, optimal_threshold, dataset_name=\"Test\")\n",
    "\n",
    "\n",
    "optimal_threshold_row = results_df.loc[results_df['F1-Score'].idxmax()]\n",
    "optimal_threshold = optimal_threshold_row['Threshold']\n",
    "print(f\"Using Optimal Threshold (max F1-Score): {optimal_threshold:.4f}\\n\")\n",
    "\n",
    "\n",
    "\n",
    "\n",
    "# --- STEP 3: Display the results in a clean comparison table ---\n",
    "comparison_df = pd.DataFrame({\n",
    "    'Train': train_metrics,\n",
    "\n",
    "    'Test': test_metrics\n",
    "})\n",
    "\n",
    "print(\"--- Classification Metrics Comparison with Optimal Threshold ---\")\n",
    "display(comparison_df)"
   ]
  },
  {
   "cell_type": "code",
   "execution_count": 21,
   "metadata": {},
   "outputs": [
    {
     "data": {
      "image/png": "[encoded data removed]",
      "text/plain": [
       "<Figure size 2000x600 with 3 Axes>"
      ]
     },
     "metadata": {},
     "output_type": "display_data"
    }
   ],
   "source": [
    "plot_model_evaluation_summary(\n",
    "    base_model=final_xgb_model,        \n",
    "    X_data=X_test,\n",
    "    y_true=y_test.values.ravel(),\n",
    "    calibrator=xgboost_isotonic_calibrator,\n",
    "    model_name='XGBoost',\n",
    "    custom_color='#b4a7d6',\n",
    "    threshold=optimal_threshold   \n",
    ")"
   ]
  },
  {
   "cell_type": "markdown",
   "metadata": {},
   "source": [
    "# Saving model"
   ]
  },
  {
   "cell_type": "code",
   "execution_count": 224,
   "metadata": {},
   "outputs": [
    {
     "data": {
      "text/plain": [
       "['xgboost_isotonic_calibrator.joblib']"
      ]
     },
     "execution_count": 224,
     "metadata": {},
     "output_type": "execute_result"
    }
   ],
   "source": [
    "joblib.dump(final_xgb_model, 'final_xgboost_model.joblib')\n",
    "\n",
    "joblib.dump(xgboost_isotonic_calibrator, 'xgboost_isotonic_calibrator.joblib')"
   ]
  },
  {
   "cell_type": "code",
   "execution_count": 225,
   "metadata": {},
   "outputs": [
    {
     "data": {
      "text/plain": [
       "(702962, 23)"
      ]
     },
     "execution_count": 225,
     "metadata": {},
     "output_type": "execute_result"
    }
   ],
   "source": [
    "X_train.shape"
   ]
  }
 ],
 "metadata": {
  "kernelspec": {
   "display_name": "myenv",
   "language": "python",
   "name": "python3"
  },
  "language_info": {
   "codemirror_mode": {
    "name": "ipython",
    "version": 3
   },
   "file_extension": ".py",
   "mimetype": "text/x-python",
   "name": "python",
   "nbconvert_exporter": "python",
   "pygments_lexer": "ipython3",
   "version": "3.11.13"
  }
 },
 "nbformat": 4,
 "nbformat_minor": 2
}
