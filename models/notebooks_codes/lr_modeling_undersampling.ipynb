{
 "cells": [
  {
   "cell_type": "markdown",
   "metadata": {},
   "source": [
    "## 1. Setup and Load Libraries"
   ]
  },
  {
   "cell_type": "code",
   "execution_count": 3,
   "metadata": {},
   "outputs": [
    {
     "name": "stdout",
     "output_type": "stream",
     "text": [
      "Requirement already satisfied: imblearn in ./myenv/lib/python3.11/site-packages (0.0)\n",
      "Requirement already satisfied: imbalanced-learn in ./myenv/lib/python3.11/site-packages (from imblearn) (0.13.0)\n",
      "Requirement already satisfied: numpy<3,>=1.24.3 in ./myenv/lib/python3.11/site-packages (from imbalanced-learn->imblearn) (2.2.6)\n",
      "Requirement already satisfied: scipy<2,>=1.10.1 in ./myenv/lib/python3.11/site-packages (from imbalanced-learn->imblearn) (1.16.0)\n",
      "Requirement already satisfied: scikit-learn<2,>=1.3.2 in ./myenv/lib/python3.11/site-packages (from imbalanced-learn->imblearn) (1.6.1)\n",
      "Requirement already satisfied: sklearn-compat<1,>=0.1 in ./myenv/lib/python3.11/site-packages (from imbalanced-learn->imblearn) (0.1.3)\n",
      "Requirement already satisfied: joblib<2,>=1.1.1 in ./myenv/lib/python3.11/site-packages (from imbalanced-learn->imblearn) (1.5.1)\n",
      "Requirement already satisfied: threadpoolctl<4,>=2.0.0 in ./myenv/lib/python3.11/site-packages (from imbalanced-learn->imblearn) (3.6.0)\n"
     ]
    }
   ],
   "source": [
    "!pip install imblearn"
   ]
  },
  {
   "cell_type": "code",
   "execution_count": 8,
   "metadata": {},
   "outputs": [],
   "source": [
    "import numpy as np\n",
    "import pandas as pd\n",
    "\n",
    "\n",
    "from sklearn.preprocessing import KBinsDiscretizer\n",
    "import shap\n",
    "from sklearn.ensemble import RandomForestClassifier\n",
    "\n",
    "#------------------------------------Plots\n",
    "import matplotlib.pyplot as plt\n",
    "import seaborn as sns\n",
    "import plotly.figure_factory as ff\n",
    "import plotly\n",
    "import plotly.express as px\n",
    "import plotly.graph_objects as go\n",
    "from plotly.subplots import make_subplots\n",
    "import plotly.io as pio\n",
    "from plotly import tools\n",
    "from plotly.offline import download_plotlyjs, init_notebook_mode, plot, iplot\n",
    "import joblib \n",
    "from sklearn.model_selection import StratifiedGroupKFold\n",
    "\n",
    "\n",
    "spark.conf.set(\"spark.sql.execution.arrow.pyspark.enabled\", \"false\")\n",
    "pd.set_option('display.max_columns', 500)\n",
    "\n",
    "#--------------------Model\n",
    "\n",
    "import importlib\n",
    "import modeling_utils\n",
    "importlib.reload(modeling_utils) \n",
    "from eda_utils import calculate_psi, plot_distribution_plotly, calculate_woe_iv\n",
    "\n",
    "from sklearn.linear_model import LogisticRegression\n",
    "from xgboost import XGBClassifier\n",
    "from modeling_utils import optimize_hyperparameters\n",
    "from sklearn.metrics import precision_recall_curve, roc_auc_score, classification_report, f1_score, confusion_matrix, roc_curve, auc, precision_score, recall_score,  brier_score_loss\n",
    "import optuna\n",
    "from modeling_utils import plot_model_evaluation_summary\n",
    "from sklearn.calibration import calibration_curve, CalibrationDisplay, IsotonicRegression\n",
    "from sklearn.calibration import CalibratedClassifierCV\n",
    "from sklearn.model_selection import train_test_split\n",
    "\n",
    "from modeling_utils import generate_classification_report\n",
    "from imblearn.pipeline import Pipeline\n",
    "from imblearn.under_sampling import RandomUnderSampler,  InstanceHardnessThreshold\n",
    "from sklearn.model_selection import GridSearchCV\n",
    "from imblearn.under_sampling import ClusterCentroids, NearMiss\n",
    "from sklearn.model_selection import StratifiedGroupKFold"
   ]
  },
  {
   "cell_type": "markdown",
   "metadata": {},
   "source": [
    "# Global Functions and Variables"
   ]
  },
  {
   "cell_type": "code",
   "execution_count": 5,
   "metadata": {},
   "outputs": [],
   "source": [
    "features = ['home_ownership', 'addr_state', 'dti', 'fico_range_high', 'all_util',\n",
    "       'inq_last_12m', 'acc_open_past_24mths', 'avg_cur_bal', 'bc_open_to_buy',\n",
    "       'mo_sin_old_rev_tl_op', 'mo_sin_rcnt_tl', 'mort_acc',\n",
    "       'mths_since_recent_bc', 'mths_since_recent_inq', 'num_actv_rev_tl',\n",
    "       'emp_length_numeric', 'emp_title_final_grouped', 'title_grouped',\n",
    "       'region_median_income', 'loan_to_income_ratio', 'open_acc_ratio']"
   ]
  },
  {
   "cell_type": "markdown",
   "metadata": {},
   "source": [
    "## 2. Load Data\n",
    "\n"
   ]
  },
  {
   "cell_type": "code",
   "execution_count": 6,
   "metadata": {},
   "outputs": [
    {
     "data": {
      "text/html": [
       "<div>\n",
       "<style scoped>\n",
       "    .dataframe tbody tr th:only-of-type {\n",
       "        vertical-align: middle;\n",
       "    }\n",
       "\n",
       "    .dataframe tbody tr th {\n",
       "        vertical-align: top;\n",
       "    }\n",
       "\n",
       "    .dataframe thead th {\n",
       "        text-align: right;\n",
       "    }\n",
       "</style>\n",
       "<table border=\"1\" class=\"dataframe\">\n",
       "  <thead>\n",
       "    <tr style=\"text-align: right;\">\n",
       "      <th></th>\n",
       "      <th>id</th>\n",
       "      <th>d_vintage</th>\n",
       "      <th>funded_amnt</th>\n",
       "      <th>int_rate</th>\n",
       "      <th>sub_grade</th>\n",
       "      <th>home_ownership</th>\n",
       "      <th>annual_inc</th>\n",
       "      <th>verification_status</th>\n",
       "      <th>addr_state</th>\n",
       "      <th>dti</th>\n",
       "      <th>fico_range_high</th>\n",
       "      <th>all_util</th>\n",
       "      <th>inq_last_12m</th>\n",
       "      <th>acc_open_past_24mths</th>\n",
       "      <th>avg_cur_bal</th>\n",
       "      <th>bc_open_to_buy</th>\n",
       "      <th>mo_sin_old_rev_tl_op</th>\n",
       "      <th>mo_sin_rcnt_rev_tl_op</th>\n",
       "      <th>mo_sin_rcnt_tl</th>\n",
       "      <th>mort_acc</th>\n",
       "      <th>mths_since_recent_bc</th>\n",
       "      <th>mths_since_recent_inq</th>\n",
       "      <th>num_actv_rev_tl</th>\n",
       "      <th>emp_length_numeric</th>\n",
       "      <th>term_numeric</th>\n",
       "      <th>emp_title_final_grouped</th>\n",
       "      <th>title_grouped</th>\n",
       "      <th>region_median_income</th>\n",
       "      <th>loan_to_income_ratio</th>\n",
       "      <th>revolving_balance_to_income_ratio</th>\n",
       "      <th>credit_utilization_manual</th>\n",
       "      <th>open_acc_ratio</th>\n",
       "      <th>set</th>\n",
       "      <th>target</th>\n",
       "    </tr>\n",
       "  </thead>\n",
       "  <tbody>\n",
       "    <tr>\n",
       "      <th>0</th>\n",
       "      <td>68407277</td>\n",
       "      <td>2015-12-01</td>\n",
       "      <td>0.258841</td>\n",
       "      <td>-0.104389</td>\n",
       "      <td>-0.287373</td>\n",
       "      <td>0.160306</td>\n",
       "      <td>-0.086534</td>\n",
       "      <td>0.365801</td>\n",
       "      <td>-0.067006</td>\n",
       "      <td>0.403308</td>\n",
       "      <td>-0.217115</td>\n",
       "      <td>0.106942</td>\n",
       "      <td>-0.405376</td>\n",
       "      <td>0.024740</td>\n",
       "      <td>0.156173</td>\n",
       "      <td>-0.155903</td>\n",
       "      <td>-0.077618</td>\n",
       "      <td>-0.148191</td>\n",
       "      <td>-0.172215</td>\n",
       "      <td>-0.034501</td>\n",
       "      <td>-0.169441</td>\n",
       "      <td>-0.089716</td>\n",
       "      <td>0.084253</td>\n",
       "      <td>0.057010</td>\n",
       "      <td>0.310279</td>\n",
       "      <td>-0.020484</td>\n",
       "      <td>-0.007931</td>\n",
       "      <td>0.099562</td>\n",
       "      <td>0.457006</td>\n",
       "      <td>0.063355</td>\n",
       "      <td>0.023397</td>\n",
       "      <td>-0.007500</td>\n",
       "      <td>train</td>\n",
       "      <td>0.0</td>\n",
       "    </tr>\n",
       "    <tr>\n",
       "      <th>1</th>\n",
       "      <td>68355089</td>\n",
       "      <td>2015-12-01</td>\n",
       "      <td>-0.152670</td>\n",
       "      <td>0.229718</td>\n",
       "      <td>0.088483</td>\n",
       "      <td>0.160306</td>\n",
       "      <td>-0.030447</td>\n",
       "      <td>0.365801</td>\n",
       "      <td>-0.101768</td>\n",
       "      <td>0.107425</td>\n",
       "      <td>0.280817</td>\n",
       "      <td>0.106942</td>\n",
       "      <td>-0.405376</td>\n",
       "      <td>0.024740</td>\n",
       "      <td>-0.056093</td>\n",
       "      <td>0.630465</td>\n",
       "      <td>0.061496</td>\n",
       "      <td>-0.179923</td>\n",
       "      <td>-0.205649</td>\n",
       "      <td>0.238651</td>\n",
       "      <td>-0.252891</td>\n",
       "      <td>-0.260049</td>\n",
       "      <td>0.020176</td>\n",
       "      <td>0.057010</td>\n",
       "      <td>0.310279</td>\n",
       "      <td>0.172054</td>\n",
       "      <td>-0.081017</td>\n",
       "      <td>-0.075997</td>\n",
       "      <td>-0.478301</td>\n",
       "      <td>-0.066297</td>\n",
       "      <td>0.283653</td>\n",
       "      <td>-0.079388</td>\n",
       "      <td>train</td>\n",
       "      <td>0.0</td>\n",
       "    </tr>\n",
       "    <tr>\n",
       "      <th>2</th>\n",
       "      <td>68341763</td>\n",
       "      <td>2015-12-01</td>\n",
       "      <td>-0.152670</td>\n",
       "      <td>0.440679</td>\n",
       "      <td>0.355937</td>\n",
       "      <td>0.160306</td>\n",
       "      <td>-0.030447</td>\n",
       "      <td>0.365801</td>\n",
       "      <td>0.120678</td>\n",
       "      <td>0.282040</td>\n",
       "      <td>0.021937</td>\n",
       "      <td>-0.231529</td>\n",
       "      <td>-0.044784</td>\n",
       "      <td>-0.181297</td>\n",
       "      <td>0.378525</td>\n",
       "      <td>-0.139264</td>\n",
       "      <td>0.037777</td>\n",
       "      <td>0.025413</td>\n",
       "      <td>0.188066</td>\n",
       "      <td>0.238651</td>\n",
       "      <td>0.391569</td>\n",
       "      <td>0.047732</td>\n",
       "      <td>0.161126</td>\n",
       "      <td>0.057010</td>\n",
       "      <td>-0.721577</td>\n",
       "      <td>-0.313243</td>\n",
       "      <td>-0.081017</td>\n",
       "      <td>0.099562</td>\n",
       "      <td>-0.326559</td>\n",
       "      <td>0.111091</td>\n",
       "      <td>-0.045164</td>\n",
       "      <td>0.112083</td>\n",
       "      <td>train</td>\n",
       "      <td>0.0</td>\n",
       "    </tr>\n",
       "    <tr>\n",
       "      <th>3</th>\n",
       "      <td>68476807</td>\n",
       "      <td>2015-12-01</td>\n",
       "      <td>-0.052293</td>\n",
       "      <td>-1.109875</td>\n",
       "      <td>-1.167190</td>\n",
       "      <td>0.160306</td>\n",
       "      <td>0.262201</td>\n",
       "      <td>-0.078360</td>\n",
       "      <td>-0.067006</td>\n",
       "      <td>-0.164547</td>\n",
       "      <td>0.021937</td>\n",
       "      <td>-0.398292</td>\n",
       "      <td>-0.405376</td>\n",
       "      <td>-0.578527</td>\n",
       "      <td>0.378525</td>\n",
       "      <td>-0.075754</td>\n",
       "      <td>0.061496</td>\n",
       "      <td>-0.111674</td>\n",
       "      <td>-0.098426</td>\n",
       "      <td>0.350769</td>\n",
       "      <td>-0.169441</td>\n",
       "      <td>-0.260049</td>\n",
       "      <td>-0.044349</td>\n",
       "      <td>0.010116</td>\n",
       "      <td>-0.721577</td>\n",
       "      <td>-0.020484</td>\n",
       "      <td>-0.007931</td>\n",
       "      <td>-0.035045</td>\n",
       "      <td>0.387752</td>\n",
       "      <td>0.023428</td>\n",
       "      <td>-0.098688</td>\n",
       "      <td>0.112083</td>\n",
       "      <td>train</td>\n",
       "      <td>0.0</td>\n",
       "    </tr>\n",
       "    <tr>\n",
       "      <th>4</th>\n",
       "      <td>68426831</td>\n",
       "      <td>2015-12-01</td>\n",
       "      <td>-0.052293</td>\n",
       "      <td>-0.104389</td>\n",
       "      <td>-0.155127</td>\n",
       "      <td>-0.168686</td>\n",
       "      <td>-0.212208</td>\n",
       "      <td>-0.078360</td>\n",
       "      <td>0.094121</td>\n",
       "      <td>0.282040</td>\n",
       "      <td>-0.044342</td>\n",
       "      <td>-0.398292</td>\n",
       "      <td>-0.044784</td>\n",
       "      <td>0.456646</td>\n",
       "      <td>-0.176827</td>\n",
       "      <td>-0.194252</td>\n",
       "      <td>-0.392487</td>\n",
       "      <td>0.400004</td>\n",
       "      <td>0.495469</td>\n",
       "      <td>-0.189779</td>\n",
       "      <td>0.152740</td>\n",
       "      <td>0.000000</td>\n",
       "      <td>0.161126</td>\n",
       "      <td>0.010116</td>\n",
       "      <td>0.310279</td>\n",
       "      <td>-0.020484</td>\n",
       "      <td>-0.007931</td>\n",
       "      <td>0.054853</td>\n",
       "      <td>-0.478301</td>\n",
       "      <td>-0.032938</td>\n",
       "      <td>-0.127045</td>\n",
       "      <td>-0.226646</td>\n",
       "      <td>train</td>\n",
       "      <td>0.0</td>\n",
       "    </tr>\n",
       "    <tr>\n",
       "      <th>5</th>\n",
       "      <td>68476668</td>\n",
       "      <td>2015-12-01</td>\n",
       "      <td>-0.152670</td>\n",
       "      <td>0.736853</td>\n",
       "      <td>0.669339</td>\n",
       "      <td>0.160306</td>\n",
       "      <td>0.366531</td>\n",
       "      <td>0.365801</td>\n",
       "      <td>-0.014735</td>\n",
       "      <td>0.193799</td>\n",
       "      <td>-0.182636</td>\n",
       "      <td>-0.398292</td>\n",
       "      <td>-0.044784</td>\n",
       "      <td>-0.181297</td>\n",
       "      <td>0.378525</td>\n",
       "      <td>-0.347748</td>\n",
       "      <td>0.191351</td>\n",
       "      <td>0.001416</td>\n",
       "      <td>0.131069</td>\n",
       "      <td>0.238651</td>\n",
       "      <td>-0.076567</td>\n",
       "      <td>0.047732</td>\n",
       "      <td>-0.044349</td>\n",
       "      <td>0.057010</td>\n",
       "      <td>0.310279</td>\n",
       "      <td>0.012941</td>\n",
       "      <td>-0.007931</td>\n",
       "      <td>0.054853</td>\n",
       "      <td>0.387752</td>\n",
       "      <td>-0.141886</td>\n",
       "      <td>-0.339684</td>\n",
       "      <td>0.037363</td>\n",
       "      <td>train</td>\n",
       "      <td>0.0</td>\n",
       "    </tr>\n",
       "    <tr>\n",
       "      <th>6</th>\n",
       "      <td>67275481</td>\n",
       "      <td>2015-12-01</td>\n",
       "      <td>-0.152670</td>\n",
       "      <td>0.736853</td>\n",
       "      <td>0.769896</td>\n",
       "      <td>0.160306</td>\n",
       "      <td>0.072425</td>\n",
       "      <td>0.365801</td>\n",
       "      <td>0.255807</td>\n",
       "      <td>0.059621</td>\n",
       "      <td>0.123391</td>\n",
       "      <td>-0.231529</td>\n",
       "      <td>-0.044784</td>\n",
       "      <td>0.024740</td>\n",
       "      <td>0.109081</td>\n",
       "      <td>0.184215</td>\n",
       "      <td>-0.392487</td>\n",
       "      <td>0.400004</td>\n",
       "      <td>0.188066</td>\n",
       "      <td>0.169388</td>\n",
       "      <td>0.152740</td>\n",
       "      <td>0.047732</td>\n",
       "      <td>0.237851</td>\n",
       "      <td>0.057010</td>\n",
       "      <td>0.310279</td>\n",
       "      <td>-0.313243</td>\n",
       "      <td>-0.007931</td>\n",
       "      <td>-0.127956</td>\n",
       "      <td>-0.024098</td>\n",
       "      <td>0.043867</td>\n",
       "      <td>0.290291</td>\n",
       "      <td>-0.007500</td>\n",
       "      <td>train</td>\n",
       "      <td>0.0</td>\n",
       "    </tr>\n",
       "    <tr>\n",
       "      <th>7</th>\n",
       "      <td>68466926</td>\n",
       "      <td>2015-12-01</td>\n",
       "      <td>0.107043</td>\n",
       "      <td>1.752382</td>\n",
       "      <td>1.801500</td>\n",
       "      <td>-0.168686</td>\n",
       "      <td>0.072425</td>\n",
       "      <td>0.365801</td>\n",
       "      <td>-0.067006</td>\n",
       "      <td>0.193799</td>\n",
       "      <td>-0.084299</td>\n",
       "      <td>0.106942</td>\n",
       "      <td>-0.044784</td>\n",
       "      <td>-0.264431</td>\n",
       "      <td>-0.176827</td>\n",
       "      <td>0.040141</td>\n",
       "      <td>-0.077618</td>\n",
       "      <td>-0.283219</td>\n",
       "      <td>-0.285198</td>\n",
       "      <td>-0.034501</td>\n",
       "      <td>-0.169441</td>\n",
       "      <td>-0.260049</td>\n",
       "      <td>-0.215452</td>\n",
       "      <td>0.010116</td>\n",
       "      <td>0.310279</td>\n",
       "      <td>0.012941</td>\n",
       "      <td>-0.007931</td>\n",
       "      <td>-0.035045</td>\n",
       "      <td>0.360100</td>\n",
       "      <td>0.111091</td>\n",
       "      <td>0.087131</td>\n",
       "      <td>-0.079388</td>\n",
       "      <td>train</td>\n",
       "      <td>0.0</td>\n",
       "    </tr>\n",
       "    <tr>\n",
       "      <th>8</th>\n",
       "      <td>68616873</td>\n",
       "      <td>2015-12-01</td>\n",
       "      <td>0.206653</td>\n",
       "      <td>0.229718</td>\n",
       "      <td>0.239685</td>\n",
       "      <td>0.160306</td>\n",
       "      <td>-0.155503</td>\n",
       "      <td>0.365801</td>\n",
       "      <td>0.120678</td>\n",
       "      <td>-0.534175</td>\n",
       "      <td>0.123391</td>\n",
       "      <td>0.106942</td>\n",
       "      <td>-0.044784</td>\n",
       "      <td>-0.079886</td>\n",
       "      <td>0.378525</td>\n",
       "      <td>0.099580</td>\n",
       "      <td>0.137563</td>\n",
       "      <td>0.025413</td>\n",
       "      <td>0.131069</td>\n",
       "      <td>-0.034501</td>\n",
       "      <td>0.184122</td>\n",
       "      <td>0.047732</td>\n",
       "      <td>0.161126</td>\n",
       "      <td>0.057010</td>\n",
       "      <td>0.310279</td>\n",
       "      <td>-0.020484</td>\n",
       "      <td>-0.007931</td>\n",
       "      <td>-0.035045</td>\n",
       "      <td>0.168854</td>\n",
       "      <td>0.059959</td>\n",
       "      <td>0.187460</td>\n",
       "      <td>0.037363</td>\n",
       "      <td>train</td>\n",
       "      <td>0.0</td>\n",
       "    </tr>\n",
       "    <tr>\n",
       "      <th>9</th>\n",
       "      <td>68338832</td>\n",
       "      <td>2015-12-01</td>\n",
       "      <td>0.341164</td>\n",
       "      <td>0.055929</td>\n",
       "      <td>-0.039680</td>\n",
       "      <td>0.160306</td>\n",
       "      <td>-0.030447</td>\n",
       "      <td>0.365801</td>\n",
       "      <td>-0.059460</td>\n",
       "      <td>-0.534175</td>\n",
       "      <td>0.123391</td>\n",
       "      <td>-0.231529</td>\n",
       "      <td>-0.044784</td>\n",
       "      <td>0.024740</td>\n",
       "      <td>0.156173</td>\n",
       "      <td>0.040141</td>\n",
       "      <td>0.137563</td>\n",
       "      <td>0.119783</td>\n",
       "      <td>-0.205649</td>\n",
       "      <td>0.238651</td>\n",
       "      <td>0.069577</td>\n",
       "      <td>0.231346</td>\n",
       "      <td>-0.374405</td>\n",
       "      <td>0.010116</td>\n",
       "      <td>0.310279</td>\n",
       "      <td>-0.313243</td>\n",
       "      <td>-0.081017</td>\n",
       "      <td>-0.035045</td>\n",
       "      <td>0.586774</td>\n",
       "      <td>-0.141886</td>\n",
       "      <td>-0.098688</td>\n",
       "      <td>-0.181678</td>\n",
       "      <td>train</td>\n",
       "      <td>0.0</td>\n",
       "    </tr>\n",
       "  </tbody>\n",
       "</table>\n",
       "</div>"
      ],
      "text/plain": [
       "         id   d_vintage  funded_amnt  int_rate  sub_grade  home_ownership  \\\n",
       "0  68407277  2015-12-01     0.258841 -0.104389  -0.287373        0.160306   \n",
       "1  68355089  2015-12-01    -0.152670  0.229718   0.088483        0.160306   \n",
       "2  68341763  2015-12-01    -0.152670  0.440679   0.355937        0.160306   \n",
       "3  68476807  2015-12-01    -0.052293 -1.109875  -1.167190        0.160306   \n",
       "4  68426831  2015-12-01    -0.052293 -0.104389  -0.155127       -0.168686   \n",
       "5  68476668  2015-12-01    -0.152670  0.736853   0.669339        0.160306   \n",
       "6  67275481  2015-12-01    -0.152670  0.736853   0.769896        0.160306   \n",
       "7  68466926  2015-12-01     0.107043  1.752382   1.801500       -0.168686   \n",
       "8  68616873  2015-12-01     0.206653  0.229718   0.239685        0.160306   \n",
       "9  68338832  2015-12-01     0.341164  0.055929  -0.039680        0.160306   \n",
       "\n",
       "   annual_inc  verification_status  addr_state       dti  fico_range_high  \\\n",
       "0   -0.086534             0.365801   -0.067006  0.403308        -0.217115   \n",
       "1   -0.030447             0.365801   -0.101768  0.107425         0.280817   \n",
       "2   -0.030447             0.365801    0.120678  0.282040         0.021937   \n",
       "3    0.262201            -0.078360   -0.067006 -0.164547         0.021937   \n",
       "4   -0.212208            -0.078360    0.094121  0.282040        -0.044342   \n",
       "5    0.366531             0.365801   -0.014735  0.193799        -0.182636   \n",
       "6    0.072425             0.365801    0.255807  0.059621         0.123391   \n",
       "7    0.072425             0.365801   -0.067006  0.193799        -0.084299   \n",
       "8   -0.155503             0.365801    0.120678 -0.534175         0.123391   \n",
       "9   -0.030447             0.365801   -0.059460 -0.534175         0.123391   \n",
       "\n",
       "   all_util  inq_last_12m  acc_open_past_24mths  avg_cur_bal  bc_open_to_buy  \\\n",
       "0  0.106942     -0.405376              0.024740     0.156173       -0.155903   \n",
       "1  0.106942     -0.405376              0.024740    -0.056093        0.630465   \n",
       "2 -0.231529     -0.044784             -0.181297     0.378525       -0.139264   \n",
       "3 -0.398292     -0.405376             -0.578527     0.378525       -0.075754   \n",
       "4 -0.398292     -0.044784              0.456646    -0.176827       -0.194252   \n",
       "5 -0.398292     -0.044784             -0.181297     0.378525       -0.347748   \n",
       "6 -0.231529     -0.044784              0.024740     0.109081        0.184215   \n",
       "7  0.106942     -0.044784             -0.264431    -0.176827        0.040141   \n",
       "8  0.106942     -0.044784             -0.079886     0.378525        0.099580   \n",
       "9 -0.231529     -0.044784              0.024740     0.156173        0.040141   \n",
       "\n",
       "   mo_sin_old_rev_tl_op  mo_sin_rcnt_rev_tl_op  mo_sin_rcnt_tl  mort_acc  \\\n",
       "0             -0.077618              -0.148191       -0.172215 -0.034501   \n",
       "1              0.061496              -0.179923       -0.205649  0.238651   \n",
       "2              0.037777               0.025413        0.188066  0.238651   \n",
       "3              0.061496              -0.111674       -0.098426  0.350769   \n",
       "4             -0.392487               0.400004        0.495469 -0.189779   \n",
       "5              0.191351               0.001416        0.131069  0.238651   \n",
       "6             -0.392487               0.400004        0.188066  0.169388   \n",
       "7             -0.077618              -0.283219       -0.285198 -0.034501   \n",
       "8              0.137563               0.025413        0.131069 -0.034501   \n",
       "9              0.137563               0.119783       -0.205649  0.238651   \n",
       "\n",
       "   mths_since_recent_bc  mths_since_recent_inq  num_actv_rev_tl  \\\n",
       "0             -0.169441              -0.089716         0.084253   \n",
       "1             -0.252891              -0.260049         0.020176   \n",
       "2              0.391569               0.047732         0.161126   \n",
       "3             -0.169441              -0.260049        -0.044349   \n",
       "4              0.152740               0.000000         0.161126   \n",
       "5             -0.076567               0.047732        -0.044349   \n",
       "6              0.152740               0.047732         0.237851   \n",
       "7             -0.169441              -0.260049        -0.215452   \n",
       "8              0.184122               0.047732         0.161126   \n",
       "9              0.069577               0.231346        -0.374405   \n",
       "\n",
       "   emp_length_numeric  term_numeric  emp_title_final_grouped  title_grouped  \\\n",
       "0            0.057010      0.310279                -0.020484      -0.007931   \n",
       "1            0.057010      0.310279                 0.172054      -0.081017   \n",
       "2            0.057010     -0.721577                -0.313243      -0.081017   \n",
       "3            0.010116     -0.721577                -0.020484      -0.007931   \n",
       "4            0.010116      0.310279                -0.020484      -0.007931   \n",
       "5            0.057010      0.310279                 0.012941      -0.007931   \n",
       "6            0.057010      0.310279                -0.313243      -0.007931   \n",
       "7            0.010116      0.310279                 0.012941      -0.007931   \n",
       "8            0.057010      0.310279                -0.020484      -0.007931   \n",
       "9            0.010116      0.310279                -0.313243      -0.081017   \n",
       "\n",
       "   region_median_income  loan_to_income_ratio  \\\n",
       "0              0.099562              0.457006   \n",
       "1             -0.075997             -0.478301   \n",
       "2              0.099562             -0.326559   \n",
       "3             -0.035045              0.387752   \n",
       "4              0.054853             -0.478301   \n",
       "5              0.054853              0.387752   \n",
       "6             -0.127956             -0.024098   \n",
       "7             -0.035045              0.360100   \n",
       "8             -0.035045              0.168854   \n",
       "9             -0.035045              0.586774   \n",
       "\n",
       "   revolving_balance_to_income_ratio  credit_utilization_manual  \\\n",
       "0                           0.063355                   0.023397   \n",
       "1                          -0.066297                   0.283653   \n",
       "2                           0.111091                  -0.045164   \n",
       "3                           0.023428                  -0.098688   \n",
       "4                          -0.032938                  -0.127045   \n",
       "5                          -0.141886                  -0.339684   \n",
       "6                           0.043867                   0.290291   \n",
       "7                           0.111091                   0.087131   \n",
       "8                           0.059959                   0.187460   \n",
       "9                          -0.141886                  -0.098688   \n",
       "\n",
       "   open_acc_ratio    set  target  \n",
       "0       -0.007500  train     0.0  \n",
       "1       -0.079388  train     0.0  \n",
       "2        0.112083  train     0.0  \n",
       "3        0.112083  train     0.0  \n",
       "4       -0.226646  train     0.0  \n",
       "5        0.037363  train     0.0  \n",
       "6       -0.007500  train     0.0  \n",
       "7       -0.079388  train     0.0  \n",
       "8        0.037363  train     0.0  \n",
       "9       -0.181678  train     0.0  "
      ]
     },
     "execution_count": 6,
     "metadata": {},
     "output_type": "execute_result"
    }
   ],
   "source": [
    "df_model = pd.read_csv('df_total_woe.csv')\n",
    "\n",
    "\n",
    "df_model.head(10)"
   ]
  },
  {
   "cell_type": "markdown",
   "metadata": {},
   "source": [
    "# Data Splitting"
   ]
  },
  {
   "cell_type": "code",
   "execution_count": 7,
   "metadata": {},
   "outputs": [
    {
     "name": "stdout",
     "output_type": "stream",
     "text": [
      "Training data dimension (1004232, 30) (1004232, 1)\n",
      "Test data dimension (343827, 30) (343827, 1)\n"
     ]
    }
   ],
   "source": [
    "X_train_i = df_model[df_model['set']=='train'].drop(['target', 'set'], axis=1).set_index(['id',\t'd_vintage'])\n",
    "y_train_i = df_model[df_model['set']=='train'].set_index(['id',\t'd_vintage'])[['target']]\n",
    "\n",
    "\n",
    "X_test = df_model[df_model['set']=='test'].drop(['target', 'set'], axis=1).set_index(['id',\t'd_vintage'])\n",
    "y_test = df_model[df_model['set']=='test'].set_index(['id',\t'd_vintage'])[['target']]\n",
    "\n",
    "print('Training data dimension', X_train_i.shape, y_train_i.shape)\n",
    "print('Test data dimension', X_test.shape, y_test.shape)\n",
    "\n",
    "###-----------------------------------------------------------------------------------------------------------------\n",
    "\n",
    "\n",
    "#-----------------------------------------------------------------------\n",
    "X_train_i= X_train_i.drop(['sub_grade','credit_utilization_manual', 'revolving_balance_to_income_ratio', 'mo_sin_rcnt_rev_tl_op','int_rate', 'funded_amnt', 'term_numeric', 'verification_status', 'annual_inc'] , axis=1)\n",
    "\n",
    "X_test = X_test.drop(['sub_grade', 'credit_utilization_manual', 'revolving_balance_to_income_ratio', 'mo_sin_rcnt_rev_tl_op', 'int_rate', 'funded_amnt', 'term_numeric', 'verification_status', 'annual_inc'], axis=1)\n",
    "\n",
    "\n",
    "X_train, X_calib, y_train, y_calib = train_test_split(\n",
    "    X_train_i, y_train_i,\n",
    "    test_size=0.3,      \n",
    "    random_state=42,\n",
    "    stratify=y_train_i )\n"
   ]
  },
  {
   "cell_type": "markdown",
   "metadata": {},
   "source": [
    "## 3. Apply Random Undersampling\n"
   ]
  },
  {
   "cell_type": "code",
   "execution_count": null,
   "metadata": {},
   "outputs": [
    {
     "name": "stdout",
     "output_type": "stream",
     "text": [
      "Applying InstanceHardnessThreshold sampler...\n",
      "Ensuring target variable is integer type...\n",
      "\n",
      "--- Resampled Training Data (using Instance Hardness Threshold) ---\n",
      "Original training set size: 1004232\n",
      "Resampled training set size: 396214\n",
      "Note: The dataset is not perfectly balanced, it's cleaned.\n"
     ]
    }
   ],
   "source": [
    "\n",
    "print(\"Applying InstanceHardnessThreshold sampler...\")\n",
    "\n",
    "# --- 1. Initialize the Sampler ---\n",
    "iht_sampler = InstanceHardnessThreshold(\n",
    "    random_state=42,\n",
    "    n_jobs=-1\n",
    ")\n",
    "\n",
    "# --- 2. Apply the Resampling ---\n",
    "# This will train the internal model and then remove the \"easy\" samples.\n",
    "\n",
    "# THE FIX IS HERE: We convert y_train_i to integer type before passing it.\n",
    "print(\"Ensuring target variable is integer type...\")\n",
    "y_train_for_resampling = y_train_i.astype(int)\n",
    "\n",
    "X_train_resampled, y_train_resampled = iht_sampler.fit_resample(X_train_i, y_train_for_resampling)\n",
    "\n",
    "# --- 3. Show Results ---\n",
    "print(\"\\n--- Resampled Training Data (using Instance Hardness Threshold) ---\")\n",
    "print(f\"Original training set size: {len(X_train_i)}\")\n",
    "print(f\"Resampled training set size: {len(X_train_resampled)}\")\n",
    "print(\"Note: The dataset is not perfectly balanced, it's cleaned.\")"
   ]
  },
  {
   "cell_type": "code",
   "execution_count": null,
   "metadata": {},
   "outputs": [
    {
     "name": "stdout",
     "output_type": "stream",
     "text": [
      "Starting optimization of sampling ratio for AUC with triple stratification...\n",
      "--- Testing Ratio: 0.15 ---\n",
      "  Fold 1/10, AUC: 0.6883\n",
      "  Fold 2/10, AUC: 0.6773\n",
      "  Fold 3/10, AUC: 0.6806\n",
      "  Fold 4/10, AUC: 0.6715\n",
      "  Fold 5/10, AUC: 0.6779\n",
      "  Fold 6/10, AUC: 0.6781\n",
      "  Fold 7/10, AUC: 0.6850\n",
      "  Fold 8/10, AUC: 0.6799\n",
      "  Fold 9/10, AUC: 0.6752\n",
      "  Fold 10/10, AUC: 0.6824\n",
      "Average AUC for ratio 0.15: 0.6796\n",
      "\n",
      "--- Testing Ratio: 0.2 ---\n",
      "  Fold 1/10, AUC: 0.6852\n",
      "  Fold 2/10, AUC: 0.6740\n",
      "  Fold 3/10, AUC: 0.6779\n",
      "  Fold 4/10, AUC: 0.6684\n",
      "  Fold 5/10, AUC: 0.6750\n",
      "  Fold 6/10, AUC: 0.6744\n",
      "  Fold 7/10, AUC: 0.6816\n",
      "  Fold 8/10, AUC: 0.6769\n",
      "  Fold 9/10, AUC: 0.6723\n",
      "  Fold 10/10, AUC: 0.6791\n",
      "Average AUC for ratio 0.2: 0.6765\n",
      "\n",
      "--- Testing Ratio: 0.25 ---\n",
      "  Fold 1/10, AUC: 0.6796\n",
      "  Fold 2/10, AUC: 0.6683\n",
      "  Fold 3/10, AUC: 0.6728\n",
      "  Fold 4/10, AUC: 0.6628\n",
      "  Fold 5/10, AUC: 0.6699\n",
      "  Fold 6/10, AUC: 0.6683\n",
      "  Fold 7/10, AUC: 0.6757\n",
      "  Fold 8/10, AUC: 0.6716\n",
      "  Fold 9/10, AUC: 0.6672\n",
      "  Fold 10/10, AUC: 0.6733\n",
      "Average AUC for ratio 0.25: 0.6710\n",
      "\n",
      "--- Testing Ratio: 0.3 ---\n",
      "  Fold 1/10, AUC: 0.6717\n",
      "  Fold 2/10, AUC: 0.6607\n",
      "  Fold 3/10, AUC: 0.6655\n",
      "  Fold 4/10, AUC: 0.6553\n",
      "  Fold 5/10, AUC: 0.6630\n",
      "  Fold 6/10, AUC: 0.6602\n",
      "  Fold 7/10, AUC: 0.6677\n",
      "  Fold 8/10, AUC: 0.6644\n",
      "  Fold 9/10, AUC: 0.6603\n",
      "  Fold 10/10, AUC: 0.6656\n",
      "Average AUC for ratio 0.3: 0.6635\n",
      "\n",
      "--- Testing Ratio: 0.35 ---\n",
      "  Fold 1/10, AUC: 0.6636\n",
      "  Fold 2/10, AUC: 0.6531\n",
      "  Fold 3/10, AUC: 0.6580\n",
      "  Fold 4/10, AUC: 0.6476\n",
      "  Fold 5/10, AUC: 0.6561\n",
      "  Fold 6/10, AUC: 0.6522\n",
      "  Fold 7/10, AUC: 0.6594\n",
      "  Fold 8/10, AUC: 0.6570\n",
      "  Fold 9/10, AUC: 0.6534\n",
      "  Fold 10/10, AUC: 0.6578\n",
      "Average AUC for ratio 0.35: 0.6558\n",
      "\n",
      "--- Testing Ratio: 0.4 ---\n",
      "  Fold 1/10, AUC: 0.6582\n",
      "  Fold 2/10, AUC: 0.6479\n",
      "  Fold 3/10, AUC: 0.6528\n",
      "  Fold 4/10, AUC: 0.6424\n",
      "  Fold 5/10, AUC: 0.6514\n",
      "  Fold 6/10, AUC: 0.6468\n",
      "  Fold 7/10, AUC: 0.6538\n",
      "  Fold 8/10, AUC: 0.6519\n",
      "  Fold 9/10, AUC: 0.6487\n",
      "  Fold 10/10, AUC: 0.6527\n",
      "Average AUC for ratio 0.4: 0.6507\n",
      "\n",
      "--- Testing Ratio: 0.45 ---\n",
      "  Fold 1/10, AUC: 0.6526\n",
      "  Fold 2/10, AUC: 0.6428\n",
      "  Fold 3/10, AUC: 0.6476\n",
      "  Fold 4/10, AUC: 0.6372\n",
      "  Fold 5/10, AUC: 0.6467\n",
      "  Fold 6/10, AUC: 0.6416\n",
      "  Fold 7/10, AUC: 0.6478\n",
      "  Fold 8/10, AUC: 0.6469\n",
      "  Fold 9/10, AUC: 0.6441\n",
      "  Fold 10/10, AUC: 0.6475\n",
      "Average AUC for ratio 0.45: 0.6455\n",
      "\n",
      "--- Testing Ratio: 0.5 ---\n",
      "  Fold 1/10, AUC: 0.6516\n",
      "  Fold 2/10, AUC: 0.6419\n",
      "  Fold 3/10, AUC: 0.6467\n",
      "  Fold 4/10, AUC: 0.6361\n",
      "  Fold 5/10, AUC: 0.6460\n",
      "  Fold 6/10, AUC: 0.6407\n",
      "  Fold 7/10, AUC: 0.6466\n",
      "  Fold 8/10, AUC: 0.6459\n",
      "  Fold 9/10, AUC: 0.6433\n",
      "  Fold 10/10, AUC: 0.6466\n",
      "Average AUC for ratio 0.5: 0.6445\n",
      "\n",
      "--- Testing Ratio: 0.55 ---\n",
      "  Fold 1/10, AUC: 0.6461\n",
      "  Fold 2/10, AUC: 0.6372\n",
      "  Fold 3/10, AUC: 0.6414\n",
      "  Fold 4/10, AUC: 0.6309\n",
      "  Fold 5/10, AUC: 0.6416\n",
      "  Fold 6/10, AUC: 0.6358\n",
      "  Fold 7/10, AUC: 0.6408\n",
      "  Fold 8/10, AUC: 0.6410\n",
      "  Fold 9/10, AUC: 0.6389\n",
      "  Fold 10/10, AUC: 0.6418\n",
      "Average AUC for ratio 0.55: 0.6396\n",
      "\n",
      "--- Testing Ratio: 0.6 ---\n",
      "  Fold 1/10, AUC: 0.6459\n",
      "  Fold 2/10, AUC: 0.6369\n",
      "  Fold 3/10, AUC: 0.6412\n",
      "  Fold 4/10, AUC: 0.6306\n",
      "  Fold 5/10, AUC: 0.6414\n",
      "  Fold 6/10, AUC: 0.6355\n",
      "  Fold 7/10, AUC: 0.6403\n",
      "  Fold 8/10, AUC: 0.6407\n",
      "  Fold 9/10, AUC: 0.6387\n",
      "  Fold 10/10, AUC: 0.6415\n",
      "Average AUC for ratio 0.6: 0.6393\n",
      "\n",
      "--- Testing Ratio: 0.65 ---\n",
      "  Fold 1/10, AUC: 0.6448\n",
      "  Fold 2/10, AUC: 0.6358\n",
      "  Fold 3/10, AUC: 0.6399\n",
      "  Fold 4/10, AUC: 0.6293\n",
      "  Fold 5/10, AUC: 0.6404\n",
      "  Fold 6/10, AUC: 0.6344\n",
      "  Fold 7/10, AUC: 0.6387\n",
      "  Fold 8/10, AUC: 0.6395\n",
      "  Fold 9/10, AUC: 0.6378\n",
      "  Fold 10/10, AUC: 0.6404\n",
      "Average AUC for ratio 0.65: 0.6381\n",
      "\n",
      "--- Testing Ratio: 0.7 ---\n",
      "  Fold 1/10, AUC: 0.6437\n",
      "  Fold 2/10, AUC: 0.6349\n",
      "  Fold 3/10, AUC: 0.6389\n",
      "  Fold 4/10, AUC: 0.6284\n",
      "  Fold 5/10, AUC: 0.6396\n",
      "  Fold 6/10, AUC: 0.6335\n",
      "  Fold 7/10, AUC: 0.6375\n",
      "  Fold 8/10, AUC: 0.6386\n",
      "  Fold 9/10, AUC: 0.6370\n",
      "  Fold 10/10, AUC: 0.6396\n",
      "Average AUC for ratio 0.7: 0.6372\n",
      "\n",
      "--- Testing Ratio: 0.75 ---\n",
      "  Fold 1/10, AUC: 0.6446\n",
      "  Fold 2/10, AUC: 0.6356\n",
      "  Fold 3/10, AUC: 0.6397\n",
      "  Fold 4/10, AUC: 0.6291\n",
      "  Fold 5/10, AUC: 0.6403\n",
      "  Fold 6/10, AUC: 0.6343\n",
      "  Fold 7/10, AUC: 0.6381\n",
      "  Fold 8/10, AUC: 0.6393\n",
      "  Fold 9/10, AUC: 0.6377\n",
      "  Fold 10/10, AUC: 0.6403\n",
      "Average AUC for ratio 0.75: 0.6379\n",
      "\n",
      "--- Testing Ratio: 0.8 ---\n",
      "  Fold 1/10, AUC: 0.6440\n",
      "  Fold 2/10, AUC: 0.6351\n",
      "  Fold 3/10, AUC: 0.6393\n",
      "  Fold 4/10, AUC: 0.6286\n",
      "  Fold 5/10, AUC: 0.6399\n",
      "  Fold 6/10, AUC: 0.6338\n",
      "  Fold 7/10, AUC: 0.6375\n",
      "  Fold 8/10, AUC: 0.6388\n",
      "  Fold 9/10, AUC: 0.6372\n",
      "  Fold 10/10, AUC: 0.6398\n",
      "Average AUC for ratio 0.8: 0.6374\n",
      "\n",
      "--- Testing Ratio: 0.85 ---\n",
      "  Fold 1/10, AUC: 0.6433\n",
      "  Fold 2/10, AUC: 0.6346\n",
      "  Fold 3/10, AUC: 0.6386\n",
      "  Fold 4/10, AUC: 0.6279\n",
      "  Fold 5/10, AUC: 0.6394\n",
      "  Fold 6/10, AUC: 0.6332\n",
      "  Fold 7/10, AUC: 0.6367\n",
      "  Fold 8/10, AUC: 0.6382\n",
      "  Fold 9/10, AUC: 0.6366\n",
      "  Fold 10/10, AUC: 0.6392\n",
      "Average AUC for ratio 0.85: 0.6368\n",
      "\n",
      "--- Testing Ratio: 0.9 ---\n",
      "  Fold 1/10, AUC: 0.6441\n",
      "  Fold 2/10, AUC: 0.6352\n",
      "  Fold 3/10, AUC: 0.6392\n",
      "  Fold 4/10, AUC: 0.6286\n",
      "  Fold 5/10, AUC: 0.6400\n",
      "  Fold 6/10, AUC: 0.6338\n",
      "  Fold 7/10, AUC: 0.6373\n",
      "  Fold 8/10, AUC: 0.6388\n",
      "  Fold 9/10, AUC: 0.6373\n",
      "  Fold 10/10, AUC: 0.6398\n",
      "Average AUC for ratio 0.9: 0.6374\n",
      "\n",
      "--- Testing Ratio: 0.95 ---\n",
      "  Fold 1/10, AUC: 0.6450\n",
      "  Fold 2/10, AUC: 0.6360\n",
      "  Fold 3/10, AUC: 0.6402\n",
      "  Fold 4/10, AUC: 0.6294\n",
      "  Fold 5/10, AUC: 0.6408\n",
      "  Fold 6/10, AUC: 0.6347\n",
      "  Fold 7/10, AUC: 0.6383\n",
      "  Fold 8/10, AUC: 0.6397\n",
      "  Fold 9/10, AUC: 0.6381\n",
      "  Fold 10/10, AUC: 0.6407\n",
      "Average AUC for ratio 0.95: 0.6383\n",
      "\n",
      "--- Testing Ratio: 1.0 ---\n",
      "  Fold 1/10, AUC: 0.6476\n",
      "  Fold 2/10, AUC: 0.6383\n",
      "  Fold 3/10, AUC: 0.6427\n",
      "  Fold 4/10, AUC: 0.6320\n",
      "  Fold 5/10, AUC: 0.6430\n",
      "  Fold 6/10, AUC: 0.6371\n",
      "  Fold 7/10, AUC: 0.6412\n",
      "  Fold 8/10, AUC: 0.6421\n",
      "  Fold 9/10, AUC: 0.6403\n",
      "  Fold 10/10, AUC: 0.6431\n",
      "Average AUC for ratio 1.0: 0.6407\n",
      "\n",
      "Optimization complete.\n",
      "Best sampling ratio: 0.15 with an average AUC of 0.6796\n"
     ]
    }
   ],
   "source": [
    "sampling_ratios_to_test = [0.10, 0.15, 0.2, 0.25, 0.3, 0.35, 0.4, 0.45, 0.5, 0.55, 0.6, 0.65, 0.7, 0.75, 0.8, 0.85, 0.9, 0.95, 1.0] \n",
    "n_splits = 10\n",
    "cv = StratifiedGroupKFold(n_splits=n_splits, shuffle=True, random_state=42)\n",
    "\n",
    "results = {}\n",
    "\n",
    "# --- 2. Prepare Data ---\n",
    "train_df = X_train_i.reset_index().merge(y_train_i.reset_index(), on=['id', 'd_vintage'], how='inner')\n",
    "# Asumo que 'dti' ya está binnificada o es una variable WoE como 'fico_range_high'\n",
    "# Si 'dti' tiene muchos valores únicos, deberías binnificarla también.\n",
    "\n",
    "print(\"Starting optimization of sampling ratio for AUC with triple stratification...\")\n",
    "for ratio in sampling_ratios_to_test:\n",
    "    print(f\"--- Testing Ratio: {ratio} ---\")\n",
    "    fold_scores = []\n",
    "    \n",
    "    for fold, (train_idx, val_idx) in enumerate(cv.split(train_df[features], train_df['target'], groups=train_df['d_vintage'])):\n",
    "        \n",
    "        train_fold_df = train_df.iloc[train_idx]\n",
    "        X_val_fold = train_df.iloc[val_idx][features]\n",
    "        y_val_fold = train_df.iloc[val_idx]['target']\n",
    "\n",
    "        # a. Apply stratified undersampling\n",
    "        resampled_dfs_fold = []\n",
    "        stratification_groups = ['d_vintage', 'fico_range_high', 'dti'] # Usando las 3 variables\n",
    "        for group_keys, group_df in train_fold_df.groupby(stratification_groups):\n",
    "            minority_df = group_df[group_df['target'] == 1]\n",
    "            majority_df = group_df[group_df['target'] == 0]\n",
    "            \n",
    "            if not minority_df.empty and not majority_df.empty:\n",
    "                # **LÓGICA CORREGIDA Y SIMPLIFICADA**\n",
    "                # El número de muestras mayoritarias es el de minoritarias dividido por el ratio\n",
    "                n_samples = int(len(minority_df) / ratio)\n",
    "                n_samples = min(n_samples, len(majority_df))\n",
    "\n",
    "                majority_downsampled = majority_df.sample(n=n_samples, random_state=42)\n",
    "                resampled_dfs_fold.append(pd.concat([majority_downsampled, minority_df]))\n",
    "        \n",
    "        if not resampled_dfs_fold:\n",
    "            print(f\"  Fold {fold+1}/{n_splits}, Skipped: No data after resampling.\")\n",
    "            continue\n",
    "\n",
    "        train_df_resampled_fold = pd.concat(resampled_dfs_fold)\n",
    "        X_train_resampled_fold = train_df_resampled_fold[features]\n",
    "        y_train_resampled_fold = train_df_resampled_fold['target']\n",
    "\n",
    "        # b. Train the model\n",
    "        model = LogisticRegression(solver='liblinear', random_state=42)\n",
    "        model.fit(X_train_resampled_fold, y_train_resampled_fold)\n",
    "\n",
    "        # c. Evaluate on the validation part of the fold using AUC\n",
    "        # <--- 2. Predecir probabilidades, no clases\n",
    "        y_pred_proba_val = model.predict_proba(X_val_fold)[:, 1] \n",
    "        \n",
    "        # <--- 3. Calcular AUC\n",
    "        score = roc_auc_score(y_val_fold, y_pred_proba_val) \n",
    "        fold_scores.append(score)\n",
    "        print(f\"  Fold {fold+1}/{n_splits}, AUC: {score:.4f}\") # <--- 4. Imprimir AUC\n",
    "\n",
    "    # Calculate average score for the current ratio\n",
    "    if fold_scores:\n",
    "        mean_score = np.mean(fold_scores)\n",
    "        results[ratio] = mean_score\n",
    "        print(f\"Average AUC for ratio {ratio}: {mean_score:.4f}\\n\") # <--- 5. Imprimir AUC promedio\n",
    "    else:\n",
    "        print(f\"No scores recorded for ratio {ratio}.\\n\")\n",
    "\n",
    "# --- 4. Select the Best Ratio ---\n",
    "if results:\n",
    "    best_ratio = max(results, key=results.get)\n",
    "    print(f\"Optimization complete.\")\n",
    "    print(f\"Best sampling ratio: {best_ratio} with an average AUC of {results[best_ratio]:.4f}\") # <--- 6. Imprimir resultado final\n",
    "else:\n",
    "    print(\"Optimization complete, but no valid results were found.\")"
   ]
  },
  {
   "cell_type": "code",
   "execution_count": 9,
   "metadata": {},
   "outputs": [
    {
     "name": "stdout",
     "output_type": "stream",
     "text": [
      "Applying final stratified undersampling with ratio: 0.15\n",
      "Stratifying by 'd_vintage' and the pre-binned 'fico_range_high' (WoE) variable.\n",
      "Original training data shape: (702962, 24)\n",
      "Original target distribution:\n",
      "target\n",
      "0.0    0.809004\n",
      "1.0    0.190996\n",
      "Name: proportion, dtype: float64\n",
      "\n",
      "\n",
      "--- Final Resampled Training Data ---\n",
      "Final resampled data shape: (635687, 21)\n",
      "Final target distribution:\n",
      "target\n",
      "0.0    0.78945\n",
      "1.0    0.21055\n",
      "Name: proportion, dtype: float64\n"
     ]
    }
   ],
   "source": [
    "best_ratio = 0.15\n",
    "\n",
    "\n",
    "train_df = X_train.reset_index().merge(y_train.reset_index(), on=['id', 'd_vintage'], how='inner')\n",
    "\n",
    "print(f\"Applying final stratified undersampling with ratio: {best_ratio}\")\n",
    "print(\"Stratifying by 'd_vintage' and the pre-binned 'fico_range_high' (WoE) variable.\")\n",
    "print(f\"Original training data shape: {train_df.shape}\")\n",
    "print(f\"Original target distribution:\\n{train_df['target'].value_counts(normalize=True)}\\n\")\n",
    "\n",
    "\n",
    "# --- 2. Aplicar el Muestreo Estratificado ---\n",
    "resampled_dfs = []\n",
    "# **CORRECCIÓN**: Agrupamos directamente por la variable WoE.\n",
    "stratification_groups = ['d_vintage', 'fico_range_high', 'dti'] \n",
    "\n",
    "for group_keys, group_df in train_df.groupby(stratification_groups):\n",
    "    minority_df = group_df[group_df['target'] == 1]\n",
    "    majority_df = group_df[group_df['target'] == 0]\n",
    "    \n",
    "    if not minority_df.empty and not majority_df.empty:\n",
    "        # Calcular el número de muestras de la clase mayoritaria a conservar\n",
    "        n_samples = int(len(minority_df) / best_ratio)\n",
    "        n_samples = min(n_samples, len(majority_df))\n",
    "\n",
    "        # Muestrear la clase mayoritaria\n",
    "        majority_downsampled = majority_df.sample(n=n_samples, random_state=42)\n",
    "        \n",
    "        # Combinar y guardar\n",
    "        resampled_dfs.append(pd.concat([majority_downsampled, minority_df]))\n",
    "\n",
    "# --- 3. Crear el DataFrame Final Remuestreado ---\n",
    "train_df_final_resampled = pd.concat(resampled_dfs).sample(frac=1, random_state=42) # Mezclar filas\n",
    "\n",
    "# Separar en X y y finales\n",
    "X_train_final = train_df_final_resampled[features]\n",
    "y_train_final = train_df_final_resampled['target']\n",
    "\n",
    "# --- 4. Mostrar Resultados ---\n",
    "print(\"\\n--- Final Resampled Training Data ---\")\n",
    "print(f\"Final resampled data shape: {X_train_final.shape}\")\n",
    "print(f\"Final target distribution:\\n{y_train_final.value_counts(normalize=True)}\")"
   ]
  },
  {
   "cell_type": "markdown",
   "metadata": {},
   "source": [
    "## 4. Train Logistic Regression Model"
   ]
  },
  {
   "cell_type": "code",
   "execution_count": 10,
   "metadata": {},
   "outputs": [
    {
     "data": {
      "text/html": [
       "<style>#sk-container-id-1 {\n",
       "  /* Definition of color scheme common for light and dark mode */\n",
       "  --sklearn-color-text: #000;\n",
       "  --sklearn-color-text-muted: #666;\n",
       "  --sklearn-color-line: gray;\n",
       "  /* Definition of color scheme for unfitted estimators */\n",
       "  --sklearn-color-unfitted-level-0: #fff5e6;\n",
       "  --sklearn-color-unfitted-level-1: #f6e4d2;\n",
       "  --sklearn-color-unfitted-level-2: #ffe0b3;\n",
       "  --sklearn-color-unfitted-level-3: chocolate;\n",
       "  /* Definition of color scheme for fitted estimators */\n",
       "  --sklearn-color-fitted-level-0: #f0f8ff;\n",
       "  --sklearn-color-fitted-level-1: #d4ebff;\n",
       "  --sklearn-color-fitted-level-2: #b3dbfd;\n",
       "  --sklearn-color-fitted-level-3: cornflowerblue;\n",
       "\n",
       "  /* Specific color for light theme */\n",
       "  --sklearn-color-text-on-default-background: var(--sg-text-color, var(--theme-code-foreground, var(--jp-content-font-color1, black)));\n",
       "  --sklearn-color-background: var(--sg-background-color, var(--theme-background, var(--jp-layout-color0, white)));\n",
       "  --sklearn-color-border-box: var(--sg-text-color, var(--theme-code-foreground, var(--jp-content-font-color1, black)));\n",
       "  --sklearn-color-icon: #696969;\n",
       "\n",
       "  @media (prefers-color-scheme: dark) {\n",
       "    /* Redefinition of color scheme for dark theme */\n",
       "    --sklearn-color-text-on-default-background: var(--sg-text-color, var(--theme-code-foreground, var(--jp-content-font-color1, white)));\n",
       "    --sklearn-color-background: var(--sg-background-color, var(--theme-background, var(--jp-layout-color0, #111)));\n",
       "    --sklearn-color-border-box: var(--sg-text-color, var(--theme-code-foreground, var(--jp-content-font-color1, white)));\n",
       "    --sklearn-color-icon: #878787;\n",
       "  }\n",
       "}\n",
       "\n",
       "#sk-container-id-1 {\n",
       "  color: var(--sklearn-color-text);\n",
       "}\n",
       "\n",
       "#sk-container-id-1 pre {\n",
       "  padding: 0;\n",
       "}\n",
       "\n",
       "#sk-container-id-1 input.sk-hidden--visually {\n",
       "  border: 0;\n",
       "  clip: rect(1px 1px 1px 1px);\n",
       "  clip: rect(1px, 1px, 1px, 1px);\n",
       "  height: 1px;\n",
       "  margin: -1px;\n",
       "  overflow: hidden;\n",
       "  padding: 0;\n",
       "  position: absolute;\n",
       "  width: 1px;\n",
       "}\n",
       "\n",
       "#sk-container-id-1 div.sk-dashed-wrapped {\n",
       "  border: 1px dashed var(--sklearn-color-line);\n",
       "  margin: 0 0.4em 0.5em 0.4em;\n",
       "  box-sizing: border-box;\n",
       "  padding-bottom: 0.4em;\n",
       "  background-color: var(--sklearn-color-background);\n",
       "}\n",
       "\n",
       "#sk-container-id-1 div.sk-container {\n",
       "  /* jupyter's `normalize.less` sets `[hidden] { display: none; }`\n",
       "     but bootstrap.min.css set `[hidden] { display: none !important; }`\n",
       "     so we also need the `!important` here to be able to override the\n",
       "     default hidden behavior on the sphinx rendered scikit-learn.org.\n",
       "     See: https://github.com/scikit-learn/scikit-learn/issues/21755 */\n",
       "  display: inline-block !important;\n",
       "  position: relative;\n",
       "}\n",
       "\n",
       "#sk-container-id-1 div.sk-text-repr-fallback {\n",
       "  display: none;\n",
       "}\n",
       "\n",
       "div.sk-parallel-item,\n",
       "div.sk-serial,\n",
       "div.sk-item {\n",
       "  /* draw centered vertical line to link estimators */\n",
       "  background-image: linear-gradient(var(--sklearn-color-text-on-default-background), var(--sklearn-color-text-on-default-background));\n",
       "  background-size: 2px 100%;\n",
       "  background-repeat: no-repeat;\n",
       "  background-position: center center;\n",
       "}\n",
       "\n",
       "/* Parallel-specific style estimator block */\n",
       "\n",
       "#sk-container-id-1 div.sk-parallel-item::after {\n",
       "  content: \"\";\n",
       "  width: 100%;\n",
       "  border-bottom: 2px solid var(--sklearn-color-text-on-default-background);\n",
       "  flex-grow: 1;\n",
       "}\n",
       "\n",
       "#sk-container-id-1 div.sk-parallel {\n",
       "  display: flex;\n",
       "  align-items: stretch;\n",
       "  justify-content: center;\n",
       "  background-color: var(--sklearn-color-background);\n",
       "  position: relative;\n",
       "}\n",
       "\n",
       "#sk-container-id-1 div.sk-parallel-item {\n",
       "  display: flex;\n",
       "  flex-direction: column;\n",
       "}\n",
       "\n",
       "#sk-container-id-1 div.sk-parallel-item:first-child::after {\n",
       "  align-self: flex-end;\n",
       "  width: 50%;\n",
       "}\n",
       "\n",
       "#sk-container-id-1 div.sk-parallel-item:last-child::after {\n",
       "  align-self: flex-start;\n",
       "  width: 50%;\n",
       "}\n",
       "\n",
       "#sk-container-id-1 div.sk-parallel-item:only-child::after {\n",
       "  width: 0;\n",
       "}\n",
       "\n",
       "/* Serial-specific style estimator block */\n",
       "\n",
       "#sk-container-id-1 div.sk-serial {\n",
       "  display: flex;\n",
       "  flex-direction: column;\n",
       "  align-items: center;\n",
       "  background-color: var(--sklearn-color-background);\n",
       "  padding-right: 1em;\n",
       "  padding-left: 1em;\n",
       "}\n",
       "\n",
       "\n",
       "/* Toggleable style: style used for estimator/Pipeline/ColumnTransformer box that is\n",
       "clickable and can be expanded/collapsed.\n",
       "- Pipeline and ColumnTransformer use this feature and define the default style\n",
       "- Estimators will overwrite some part of the style using the `sk-estimator` class\n",
       "*/\n",
       "\n",
       "/* Pipeline and ColumnTransformer style (default) */\n",
       "\n",
       "#sk-container-id-1 div.sk-toggleable {\n",
       "  /* Default theme specific background. It is overwritten whether we have a\n",
       "  specific estimator or a Pipeline/ColumnTransformer */\n",
       "  background-color: var(--sklearn-color-background);\n",
       "}\n",
       "\n",
       "/* Toggleable label */\n",
       "#sk-container-id-1 label.sk-toggleable__label {\n",
       "  cursor: pointer;\n",
       "  display: flex;\n",
       "  width: 100%;\n",
       "  margin-bottom: 0;\n",
       "  padding: 0.5em;\n",
       "  box-sizing: border-box;\n",
       "  text-align: center;\n",
       "  align-items: start;\n",
       "  justify-content: space-between;\n",
       "  gap: 0.5em;\n",
       "}\n",
       "\n",
       "#sk-container-id-1 label.sk-toggleable__label .caption {\n",
       "  font-size: 0.6rem;\n",
       "  font-weight: lighter;\n",
       "  color: var(--sklearn-color-text-muted);\n",
       "}\n",
       "\n",
       "#sk-container-id-1 label.sk-toggleable__label-arrow:before {\n",
       "  /* Arrow on the left of the label */\n",
       "  content: \"▸\";\n",
       "  float: left;\n",
       "  margin-right: 0.25em;\n",
       "  color: var(--sklearn-color-icon);\n",
       "}\n",
       "\n",
       "#sk-container-id-1 label.sk-toggleable__label-arrow:hover:before {\n",
       "  color: var(--sklearn-color-text);\n",
       "}\n",
       "\n",
       "/* Toggleable content - dropdown */\n",
       "\n",
       "#sk-container-id-1 div.sk-toggleable__content {\n",
       "  max-height: 0;\n",
       "  max-width: 0;\n",
       "  overflow: hidden;\n",
       "  text-align: left;\n",
       "  /* unfitted */\n",
       "  background-color: var(--sklearn-color-unfitted-level-0);\n",
       "}\n",
       "\n",
       "#sk-container-id-1 div.sk-toggleable__content.fitted {\n",
       "  /* fitted */\n",
       "  background-color: var(--sklearn-color-fitted-level-0);\n",
       "}\n",
       "\n",
       "#sk-container-id-1 div.sk-toggleable__content pre {\n",
       "  margin: 0.2em;\n",
       "  border-radius: 0.25em;\n",
       "  color: var(--sklearn-color-text);\n",
       "  /* unfitted */\n",
       "  background-color: var(--sklearn-color-unfitted-level-0);\n",
       "}\n",
       "\n",
       "#sk-container-id-1 div.sk-toggleable__content.fitted pre {\n",
       "  /* unfitted */\n",
       "  background-color: var(--sklearn-color-fitted-level-0);\n",
       "}\n",
       "\n",
       "#sk-container-id-1 input.sk-toggleable__control:checked~div.sk-toggleable__content {\n",
       "  /* Expand drop-down */\n",
       "  max-height: 200px;\n",
       "  max-width: 100%;\n",
       "  overflow: auto;\n",
       "}\n",
       "\n",
       "#sk-container-id-1 input.sk-toggleable__control:checked~label.sk-toggleable__label-arrow:before {\n",
       "  content: \"▾\";\n",
       "}\n",
       "\n",
       "/* Pipeline/ColumnTransformer-specific style */\n",
       "\n",
       "#sk-container-id-1 div.sk-label input.sk-toggleable__control:checked~label.sk-toggleable__label {\n",
       "  color: var(--sklearn-color-text);\n",
       "  background-color: var(--sklearn-color-unfitted-level-2);\n",
       "}\n",
       "\n",
       "#sk-container-id-1 div.sk-label.fitted input.sk-toggleable__control:checked~label.sk-toggleable__label {\n",
       "  background-color: var(--sklearn-color-fitted-level-2);\n",
       "}\n",
       "\n",
       "/* Estimator-specific style */\n",
       "\n",
       "/* Colorize estimator box */\n",
       "#sk-container-id-1 div.sk-estimator input.sk-toggleable__control:checked~label.sk-toggleable__label {\n",
       "  /* unfitted */\n",
       "  background-color: var(--sklearn-color-unfitted-level-2);\n",
       "}\n",
       "\n",
       "#sk-container-id-1 div.sk-estimator.fitted input.sk-toggleable__control:checked~label.sk-toggleable__label {\n",
       "  /* fitted */\n",
       "  background-color: var(--sklearn-color-fitted-level-2);\n",
       "}\n",
       "\n",
       "#sk-container-id-1 div.sk-label label.sk-toggleable__label,\n",
       "#sk-container-id-1 div.sk-label label {\n",
       "  /* The background is the default theme color */\n",
       "  color: var(--sklearn-color-text-on-default-background);\n",
       "}\n",
       "\n",
       "/* On hover, darken the color of the background */\n",
       "#sk-container-id-1 div.sk-label:hover label.sk-toggleable__label {\n",
       "  color: var(--sklearn-color-text);\n",
       "  background-color: var(--sklearn-color-unfitted-level-2);\n",
       "}\n",
       "\n",
       "/* Label box, darken color on hover, fitted */\n",
       "#sk-container-id-1 div.sk-label.fitted:hover label.sk-toggleable__label.fitted {\n",
       "  color: var(--sklearn-color-text);\n",
       "  background-color: var(--sklearn-color-fitted-level-2);\n",
       "}\n",
       "\n",
       "/* Estimator label */\n",
       "\n",
       "#sk-container-id-1 div.sk-label label {\n",
       "  font-family: monospace;\n",
       "  font-weight: bold;\n",
       "  display: inline-block;\n",
       "  line-height: 1.2em;\n",
       "}\n",
       "\n",
       "#sk-container-id-1 div.sk-label-container {\n",
       "  text-align: center;\n",
       "}\n",
       "\n",
       "/* Estimator-specific */\n",
       "#sk-container-id-1 div.sk-estimator {\n",
       "  font-family: monospace;\n",
       "  border: 1px dotted var(--sklearn-color-border-box);\n",
       "  border-radius: 0.25em;\n",
       "  box-sizing: border-box;\n",
       "  margin-bottom: 0.5em;\n",
       "  /* unfitted */\n",
       "  background-color: var(--sklearn-color-unfitted-level-0);\n",
       "}\n",
       "\n",
       "#sk-container-id-1 div.sk-estimator.fitted {\n",
       "  /* fitted */\n",
       "  background-color: var(--sklearn-color-fitted-level-0);\n",
       "}\n",
       "\n",
       "/* on hover */\n",
       "#sk-container-id-1 div.sk-estimator:hover {\n",
       "  /* unfitted */\n",
       "  background-color: var(--sklearn-color-unfitted-level-2);\n",
       "}\n",
       "\n",
       "#sk-container-id-1 div.sk-estimator.fitted:hover {\n",
       "  /* fitted */\n",
       "  background-color: var(--sklearn-color-fitted-level-2);\n",
       "}\n",
       "\n",
       "/* Specification for estimator info (e.g. \"i\" and \"?\") */\n",
       "\n",
       "/* Common style for \"i\" and \"?\" */\n",
       "\n",
       ".sk-estimator-doc-link,\n",
       "a:link.sk-estimator-doc-link,\n",
       "a:visited.sk-estimator-doc-link {\n",
       "  float: right;\n",
       "  font-size: smaller;\n",
       "  line-height: 1em;\n",
       "  font-family: monospace;\n",
       "  background-color: var(--sklearn-color-background);\n",
       "  border-radius: 1em;\n",
       "  height: 1em;\n",
       "  width: 1em;\n",
       "  text-decoration: none !important;\n",
       "  margin-left: 0.5em;\n",
       "  text-align: center;\n",
       "  /* unfitted */\n",
       "  border: var(--sklearn-color-unfitted-level-1) 1pt solid;\n",
       "  color: var(--sklearn-color-unfitted-level-1);\n",
       "}\n",
       "\n",
       ".sk-estimator-doc-link.fitted,\n",
       "a:link.sk-estimator-doc-link.fitted,\n",
       "a:visited.sk-estimator-doc-link.fitted {\n",
       "  /* fitted */\n",
       "  border: var(--sklearn-color-fitted-level-1) 1pt solid;\n",
       "  color: var(--sklearn-color-fitted-level-1);\n",
       "}\n",
       "\n",
       "/* On hover */\n",
       "div.sk-estimator:hover .sk-estimator-doc-link:hover,\n",
       ".sk-estimator-doc-link:hover,\n",
       "div.sk-label-container:hover .sk-estimator-doc-link:hover,\n",
       ".sk-estimator-doc-link:hover {\n",
       "  /* unfitted */\n",
       "  background-color: var(--sklearn-color-unfitted-level-3);\n",
       "  color: var(--sklearn-color-background);\n",
       "  text-decoration: none;\n",
       "}\n",
       "\n",
       "div.sk-estimator.fitted:hover .sk-estimator-doc-link.fitted:hover,\n",
       ".sk-estimator-doc-link.fitted:hover,\n",
       "div.sk-label-container:hover .sk-estimator-doc-link.fitted:hover,\n",
       ".sk-estimator-doc-link.fitted:hover {\n",
       "  /* fitted */\n",
       "  background-color: var(--sklearn-color-fitted-level-3);\n",
       "  color: var(--sklearn-color-background);\n",
       "  text-decoration: none;\n",
       "}\n",
       "\n",
       "/* Span, style for the box shown on hovering the info icon */\n",
       ".sk-estimator-doc-link span {\n",
       "  display: none;\n",
       "  z-index: 9999;\n",
       "  position: relative;\n",
       "  font-weight: normal;\n",
       "  right: .2ex;\n",
       "  padding: .5ex;\n",
       "  margin: .5ex;\n",
       "  width: min-content;\n",
       "  min-width: 20ex;\n",
       "  max-width: 50ex;\n",
       "  color: var(--sklearn-color-text);\n",
       "  box-shadow: 2pt 2pt 4pt #999;\n",
       "  /* unfitted */\n",
       "  background: var(--sklearn-color-unfitted-level-0);\n",
       "  border: .5pt solid var(--sklearn-color-unfitted-level-3);\n",
       "}\n",
       "\n",
       ".sk-estimator-doc-link.fitted span {\n",
       "  /* fitted */\n",
       "  background: var(--sklearn-color-fitted-level-0);\n",
       "  border: var(--sklearn-color-fitted-level-3);\n",
       "}\n",
       "\n",
       ".sk-estimator-doc-link:hover span {\n",
       "  display: block;\n",
       "}\n",
       "\n",
       "/* \"?\"-specific style due to the `<a>` HTML tag */\n",
       "\n",
       "#sk-container-id-1 a.estimator_doc_link {\n",
       "  float: right;\n",
       "  font-size: 1rem;\n",
       "  line-height: 1em;\n",
       "  font-family: monospace;\n",
       "  background-color: var(--sklearn-color-background);\n",
       "  border-radius: 1rem;\n",
       "  height: 1rem;\n",
       "  width: 1rem;\n",
       "  text-decoration: none;\n",
       "  /* unfitted */\n",
       "  color: var(--sklearn-color-unfitted-level-1);\n",
       "  border: var(--sklearn-color-unfitted-level-1) 1pt solid;\n",
       "}\n",
       "\n",
       "#sk-container-id-1 a.estimator_doc_link.fitted {\n",
       "  /* fitted */\n",
       "  border: var(--sklearn-color-fitted-level-1) 1pt solid;\n",
       "  color: var(--sklearn-color-fitted-level-1);\n",
       "}\n",
       "\n",
       "/* On hover */\n",
       "#sk-container-id-1 a.estimator_doc_link:hover {\n",
       "  /* unfitted */\n",
       "  background-color: var(--sklearn-color-unfitted-level-3);\n",
       "  color: var(--sklearn-color-background);\n",
       "  text-decoration: none;\n",
       "}\n",
       "\n",
       "#sk-container-id-1 a.estimator_doc_link.fitted:hover {\n",
       "  /* fitted */\n",
       "  background-color: var(--sklearn-color-fitted-level-3);\n",
       "}\n",
       "</style><div id=\"sk-container-id-1\" class=\"sk-top-container\"><div class=\"sk-text-repr-fallback\"><pre>LogisticRegression(C=0.6, penalty=&#x27;l1&#x27;, random_state=42, solver=&#x27;liblinear&#x27;)</pre><b>In a Jupyter environment, please rerun this cell to show the HTML representation or trust the notebook. <br />On GitHub, the HTML representation is unable to render, please try loading this page with nbviewer.org.</b></div><div class=\"sk-container\" hidden><div class=\"sk-item\"><div class=\"sk-estimator fitted sk-toggleable\"><input class=\"sk-toggleable__control sk-hidden--visually\" id=\"sk-estimator-id-1\" type=\"checkbox\" checked><label for=\"sk-estimator-id-1\" class=\"sk-toggleable__label fitted sk-toggleable__label-arrow\"><div><div>LogisticRegression</div></div><div><a class=\"sk-estimator-doc-link fitted\" rel=\"noreferrer\" target=\"_blank\" href=\"https://scikit-learn.org/1.6/modules/generated/sklearn.linear_model.LogisticRegression.html\">?<span>Documentation for LogisticRegression</span></a><span class=\"sk-estimator-doc-link fitted\">i<span>Fitted</span></span></div></label><div class=\"sk-toggleable__content fitted\"><pre>LogisticRegression(C=0.6, penalty=&#x27;l1&#x27;, random_state=42, solver=&#x27;liblinear&#x27;)</pre></div> </div></div></div></div>"
      ],
      "text/plain": [
       "LogisticRegression(C=0.6, penalty='l1', random_state=42, solver='liblinear')"
      ]
     },
     "execution_count": 10,
     "metadata": {},
     "output_type": "execute_result"
    }
   ],
   "source": [
    "\n",
    "best_logistic_params = {\n",
    "    'C':  0.6,\n",
    "    'penalty': 'l1',\n",
    "    'solver': 'liblinear',\n",
    "    'random_state': 42\n",
    "}\n",
    "\n",
    "\n",
    "final_logistic_model = LogisticRegression(**best_logistic_params)\n",
    "final_logistic_model.fit(X_train_final, y_train_final)\n"
   ]
  },
  {
   "cell_type": "code",
   "execution_count": 11,
   "metadata": {},
   "outputs": [
    {
     "name": "stderr",
     "output_type": "stream",
     "text": [
      "/var/folders/v4/7dg4p38j5c31bxdhb2vhmmb00000gp/T/ipykernel_56460/139822414.py:17: FutureWarning:\n",
      "\n",
      "\n",
      "\n",
      "Passing `palette` without assigning `hue` is deprecated and will be removed in v0.14.0. Assign the `y` variable to `hue` and set `legend=False` for the same effect.\n",
      "\n",
      "\n"
     ]
    },
    {
     "data": {
      "image/png": "[encoded data removed]",
      "text/plain": [
       "<Figure size 1200x1000 with 1 Axes>"
      ]
     },
     "metadata": {},
     "output_type": "display_data"
    }
   ],
   "source": [
    "\n",
    "coefficients = final_logistic_model.coef_[0]\n",
    "feature_names = X_train.columns\n",
    "\n",
    "\n",
    "coef_df = pd.DataFrame({'Feature': feature_names, 'Coefficient': coefficients})\n",
    "\n",
    "\n",
    "coef_df = coef_df.sort_values(by='Coefficient', ascending=False)\n",
    "\n",
    "plt.style.use('seaborn-v0_8-whitegrid') \n",
    "fig, ax = plt.subplots(figsize=(12, 10)) \n",
    "\n",
    "\n",
    "colors = ['#9b59b6' if c > 0 else \"#a9a9a9\" for c in coef_df['Coefficient']]\n",
    "\n",
    "\n",
    "sns.barplot(x='Coefficient', y='Feature', data=coef_df, palette=colors, ax=ax)\n",
    "\n",
    "\n",
    "ax.axvline(0, color='black', linewidth=0.8, linestyle='--')\n",
    "\n",
    "\n",
    "ax.set_title('Feature Importance from Logistic Regression', fontsize=16)\n",
    "ax.set_xlabel('Coefficient (Impact on Log-Odds)', fontsize=12)\n",
    "ax.set_ylabel('Feature', fontsize=12)\n",
    "\n",
    "\n",
    "plt.tight_layout()\n",
    "plt.show()\n"
   ]
  },
  {
   "cell_type": "markdown",
   "metadata": {},
   "source": [
    "## 5. Calibrate Model Probabilities\n",
    "\n",
    "We calibrate the model on the original, untouched calibration set."
   ]
  },
  {
   "cell_type": "code",
   "execution_count": 12,
   "metadata": {},
   "outputs": [
    {
     "name": "stdout",
     "output_type": "stream",
     "text": [
      "--- Getting probabilities on the calibration set ---\n",
      "--- Training the isotonic calibrator ---\n",
      "Calibrator trained.\n",
      "\n",
      "--- Evaluating and visualizing on the Test set ---\n"
     ]
    },
    {
     "data": {
      "image/png": "[encoded data removed]",
      "text/plain": [
       "<Figure size 1000x800 with 1 Axes>"
      ]
     },
     "metadata": {},
     "output_type": "display_data"
    },
    {
     "name": "stdout",
     "output_type": "stream",
     "text": [
      "\n",
      "--- AUC Comparison on Test Set ---\n",
      "AUC of uncalibrated model: 0.6755\n",
      "AUC of calibrated model:    0.6754\n"
     ]
    }
   ],
   "source": [
    "\n",
    "colors = {\n",
    "    \"main_purple\": \"#b3a2c7\",\n",
    "    \"medium_grey\": \"#a9a9a9\"\n",
    "}\n",
    "\n",
    "\n",
    "print(\"--- Getting probabilities on the calibration set ---\")\n",
    "y_pred_calib_proba = final_logistic_model.predict_proba(X_calib)[:, 1]\n",
    "\n",
    "print(\"--- Training the isotonic calibrator ---\")\n",
    "\n",
    "y_calib_flat = y_calib.values.ravel()\n",
    "lr_isotonic_calibrator = IsotonicRegression(out_of_bounds='clip')\n",
    "lr_isotonic_calibrator.fit(y_pred_calib_proba, y_calib_flat)\n",
    "print(\"Calibrator trained.\")\n",
    "\n",
    "print(\"\\n--- Evaluating and visualizing on the Test set ---\")\n",
    "\n",
    "y_pred_test_uncalibrated_proba = final_logistic_model.predict_proba(X_test)[:, 1]\n",
    "\n",
    "\n",
    "y_pred_test_calibrated_proba = lr_isotonic_calibrator.transform(y_pred_test_uncalibrated_proba)\n",
    "\n",
    "\n",
    "fig, ax = plt.subplots(figsize=(10, 8))\n",
    "\n",
    "\n",
    "CalibrationDisplay.from_predictions(\n",
    "    y_test,\n",
    "    y_pred_test_uncalibrated_proba,\n",
    "    n_bins=15,\n",
    "    name='Uncalibrated LR',\n",
    "    ax=ax,\n",
    "    strategy='uniform',\n",
    "    color=colors[\"medium_grey\"]  \n",
    ")\n",
    "\n",
    "CalibrationDisplay.from_predictions(\n",
    "    y_test,\n",
    "    y_pred_test_calibrated_proba,\n",
    "    n_bins=15,\n",
    "    name='Calibrated LR (Isotonic)',\n",
    "    ax=ax,\n",
    "    strategy='uniform',\n",
    "    color=colors[\"main_purple\"]  \n",
    ")\n",
    "\n",
    "\n",
    "ax.set_title('Calibration Curve: Before vs. After (Isotonic)', fontsize=16)\n",
    "ax.set_xlabel(\"Mean Predicted Probability (Positive Class)\", fontsize=12)\n",
    "ax.set_ylabel(\"Fraction of Positives\", fontsize=12)\n",
    "plt.show()\n",
    "\n",
    "\n",
    "auc_test_uncalibrated = roc_auc_score(y_test, y_pred_test_uncalibrated_proba)\n",
    "auc_test_calibrated = roc_auc_score(y_test, y_pred_test_calibrated_proba)\n",
    "\n",
    "print(f\"\\n--- AUC Comparison on Test Set ---\")\n",
    "print(f\"AUC of uncalibrated model: {auc_test_uncalibrated:.4f}\")\n",
    "print(f\"AUC of calibrated model:    {auc_test_calibrated:.4f}\")"
   ]
  },
  {
   "cell_type": "markdown",
   "metadata": {},
   "source": [
    "## 6. Find Optimal Decision Threshold\n",
    "\n",
    "The optimal threshold is found using the predictions on the calibration set to maximize the F1-score."
   ]
  },
  {
   "cell_type": "code",
   "execution_count": 13,
   "metadata": {},
   "outputs": [
    {
     "name": "stdout",
     "output_type": "stream",
     "text": [
      "--- Threshold Analysis Results ---\n"
     ]
    },
    {
     "data": {
      "text/html": [
       "<div>\n",
       "<style scoped>\n",
       "    .dataframe tbody tr th:only-of-type {\n",
       "        vertical-align: middle;\n",
       "    }\n",
       "\n",
       "    .dataframe tbody tr th {\n",
       "        vertical-align: top;\n",
       "    }\n",
       "\n",
       "    .dataframe thead th {\n",
       "        text-align: right;\n",
       "    }\n",
       "</style>\n",
       "<table border=\"1\" class=\"dataframe\">\n",
       "  <thead>\n",
       "    <tr style=\"text-align: right;\">\n",
       "      <th></th>\n",
       "      <th>Threshold</th>\n",
       "      <th>Precision</th>\n",
       "      <th>Recall</th>\n",
       "      <th>F1-Score</th>\n",
       "    </tr>\n",
       "  </thead>\n",
       "  <tbody>\n",
       "    <tr>\n",
       "      <th>52</th>\n",
       "      <td>0.200161</td>\n",
       "      <td>0.288232</td>\n",
       "      <td>0.632425</td>\n",
       "      <td>0.395989</td>\n",
       "    </tr>\n",
       "    <tr>\n",
       "      <th>51</th>\n",
       "      <td>0.193305</td>\n",
       "      <td>0.286468</td>\n",
       "      <td>0.640454</td>\n",
       "      <td>0.395869</td>\n",
       "    </tr>\n",
       "    <tr>\n",
       "      <th>53</th>\n",
       "      <td>0.208333</td>\n",
       "      <td>0.292784</td>\n",
       "      <td>0.610841</td>\n",
       "      <td>0.395838</td>\n",
       "    </tr>\n",
       "    <tr>\n",
       "      <th>54</th>\n",
       "      <td>0.208464</td>\n",
       "      <td>0.292801</td>\n",
       "      <td>0.610754</td>\n",
       "      <td>0.395835</td>\n",
       "    </tr>\n",
       "    <tr>\n",
       "      <th>50</th>\n",
       "      <td>0.185968</td>\n",
       "      <td>0.285553</td>\n",
       "      <td>0.644277</td>\n",
       "      <td>0.395718</td>\n",
       "    </tr>\n",
       "    <tr>\n",
       "      <th>55</th>\n",
       "      <td>0.211332</td>\n",
       "      <td>0.293707</td>\n",
       "      <td>0.606131</td>\n",
       "      <td>0.395682</td>\n",
       "    </tr>\n",
       "    <tr>\n",
       "      <th>56</th>\n",
       "      <td>0.211572</td>\n",
       "      <td>0.297847</td>\n",
       "      <td>0.585259</td>\n",
       "      <td>0.394783</td>\n",
       "    </tr>\n",
       "    <tr>\n",
       "      <th>57</th>\n",
       "      <td>0.211841</td>\n",
       "      <td>0.298740</td>\n",
       "      <td>0.581002</td>\n",
       "      <td>0.394590</td>\n",
       "    </tr>\n",
       "    <tr>\n",
       "      <th>49</th>\n",
       "      <td>0.185103</td>\n",
       "      <td>0.276053</td>\n",
       "      <td>0.687898</td>\n",
       "      <td>0.393996</td>\n",
       "    </tr>\n",
       "    <tr>\n",
       "      <th>48</th>\n",
       "      <td>0.181546</td>\n",
       "      <td>0.273692</td>\n",
       "      <td>0.699489</td>\n",
       "      <td>0.393441</td>\n",
       "    </tr>\n",
       "  </tbody>\n",
       "</table>\n",
       "</div>"
      ],
      "text/plain": [
       "    Threshold  Precision    Recall  F1-Score\n",
       "52   0.200161   0.288232  0.632425  0.395989\n",
       "51   0.193305   0.286468  0.640454  0.395869\n",
       "53   0.208333   0.292784  0.610841  0.395838\n",
       "54   0.208464   0.292801  0.610754  0.395835\n",
       "50   0.185968   0.285553  0.644277  0.395718\n",
       "55   0.211332   0.293707  0.606131  0.395682\n",
       "56   0.211572   0.297847  0.585259  0.394783\n",
       "57   0.211841   0.298740  0.581002  0.394590\n",
       "49   0.185103   0.276053  0.687898  0.393996\n",
       "48   0.181546   0.273692  0.699489  0.393441"
      ]
     },
     "metadata": {},
     "output_type": "display_data"
    },
    {
     "data": {
      "application/vnd.plotly.v1+json": {
       "config": {
        "plotlyServerURL": "https://plot.ly"
       },
       "data": [
        {
         "line": {
          "color": "black"
         },
         "name": "Precision",
         "type": "scatter",
         "x": {
          "bdata": "AAAAAAAAAACgcOY/YI+JP8DsAbMHzI4/HHZjEIfdmD8atpvlSWSaP2EbBKcyYZs//wbdrpUTnj8NJ3VfHluhPwgzHAJSraU/FhpJ1fjMqT+iaDZuvoGqP2zjO/Caiqo/Be6+4+Jlqz9P86k9unusPyAMkT+WNK8/v0myi290rz9lAr1T13KwPwtBrm230bI/RTYGQ53xsz+Q9OfFtlq1P2lYQdeIhrU/ZCELWchCtj92SeXDuF+3P8EiWi43o7c/TH/RArr0tz+xJfg2f4W5PxBt/G1s/7k/F/DVEuhHuj/QR3IwdTa7Pz6ZH7ofQb0/TcgBWFlbvj8J9a45n4K+P/qxnIHTmL8/F7yUIea6vz+XNA9BqXPAP8hCFrKQhcA/TYNjKNMLwT/UV6J1kLPBP6QmAZCi9ME/YbmnEZZ7wj/cKqE7g8zCP8WNT3bkYMM/Bm9IljyTwz+dc84555zDP91UeEE4oMM/49k1o6/8wz+hN9e263LEP168/nmDcMY/BpMFOOY8xz9nF3uPdrHHPyxppqHLzcc//SMIjju+yD/Qe9OC4Z7JP6uqqqqqqso/g2N8W/Kuyj8EYoCq7QzLP/luF9nHFMs/LjgsYp4dyz8KC5J47OnLP4ACD1ocqsw/Yab0oOW+zD9n8w93BwDNPzb3TEQoZM4/b5Tr2u53zj8TSCXnZRHPP1ebOH0FkM8/7v4Q8P4Q0D95YUCniE3QP2i9yZDeU9A/jNC9CN2L0D8k696GAavQPyAzbkSDEdE/3xx9c/TN0T+s5aTsL0PSP3qYisXPsdI/VTHU0JPF0j8icGMZlArTP8F4K/scUtM/RT7rBlPk0z8/EvH0q+fTP8qY3UnD69M/X4UMROz40z8J5s7iNhjUP713mKDJRdU/VVVVVVVV1T9ECxO8qNbVP46bStq0/dU/QcNJ3ZfH1j8K16NwPQrXP49G3aWjUdc/iIeHh4eH1z9OaEhOl5DYP25605ve9Ng/1gScZ03A2T8uWtmilS3aP35YpAw83do/izPaPWx92z9MwiRMwiTcP/TvWqdLU90/cT0K16Nw3T8AAAAAAADeP6qphL0OFd4/rA+N9aGx3j8IH3zwwQffPxXb+Gmxjd8/gEaJn1Hi3z8AAAAAAADgP0qQpwR5SuA/dxGrRN534T8xn3oxn3rhP80eMHvA7OE/qb6S+VkU4z+WOPV7bonjP1nIQhaykOU/",
          "dtype": "f8"
         },
         "xaxis": "x",
         "y": {
          "bdata": "Ycq/QaByyD/r7O04JXPIPyD2/MOef8g/L43UAk2HyD9lz1GClo/IPwhO7uock8g/pYIi0X6WyD8rwirWsrDIP864/4YJu8g/cuPtMmsVyT/Buf+DDSTJPzklIDkJKsk/BqcGRCZPyT9kRxOJDVTJP0qTWzRrqMk/C47F9Pu9yT8T8OEErN3JPxuXEGJ6+ck/rFuPees8yj+Vs+s9c57KP4VFA9yL/co/vfYI2CgIyz9AqDHMUArLP6nuAMzJDcs/xxjNrMJvyz97fa65Z4nLP+K2iZk0k8s/h3qpdrkbzD+MXNRySlzMPzjLPQLn3cw/0XtUhk1gzT/vQvun1qzNP/wINoHxtc0/iH3XCXO8zT9/HJ3K+B3OP3A305KuUc4/I8rduzJezj8BqIGJynnOP9cNDTRE+c4/Cm688QP7zz8gaSVZChjQPzvBGnHnNtA/bi5iDEM50D/wFNWXjk7QP08WD7W7T9A/0NGsleCj0D/HX9LrROXQP93Syx2/f9E/fUovZyyE0T9AIDBE26rRP5aGOiN+RtI/IjJEG39V0j//Cn/8Y3LSP6w2A6/4vNI/+diNgj+90j/XVUpyGMzSP+CtQy3uD9M/yaPTn44e0z8PqajJ14LTP2MxmMNvk9M/f/dlf5Sj0z8WW5y8ABDUP0wnVuvRodQ/7gq7RzfD1D8EpAFN/TbVPzS/CVW7QNU/3/St3C2I1T+cNGWM3ZrVP+OpRnKMvtU/7TxnWqkJ1j+H7P5+JxvWPy2qd1m8adY/YoaSnEze1j/HgyxDTuHWP8ZcPpzeHNc/YpJRxyhK1z+h3t3BFvHXP9hzIBho9Nc/j0bTS8j11z/WI4vD3frXPyEZi5OYBdg/JUWRkr0d2D9z1HLFHE3YP5C4kioVuNg/1av3IXov2T9KI1qTkC/ZPzOYvM09V9o/27Ed27Ed2z/pv8vEIirbP19VhPf7Mts/BvQPWZl52z8oVa1ZIn3bP6wvMxGvY9w/HxQ1GyD93D9qku43cM3dP/TB/j7+Z98/ta4y+Zd13z/L6lbSSaPfPzHK+mBPDeA/EpFyzQ134D81iWraMIHgP5fsDc+zj+A/PpKrlznx4D+howJfXP3gP7ZYGb4RBeE/IYHAEqqj4T/QVa7/GTniP/TtOsXPOeI/k7akLWlL4j9RaaYieJviPzcdz+Ql6eI/cY1+6ptV4z/RAbs91jLkP1nIQhaykOU/",
          "dtype": "f8"
         },
         "yaxis": "y"
        },
        {
         "line": {
          "color": "#8e79a8"
         },
         "name": "Recall",
         "type": "scatter",
         "x": {
          "bdata": "AAAAAAAAAACgcOY/YI+JP8DsAbMHzI4/HHZjEIfdmD8atpvlSWSaP2EbBKcyYZs//wbdrpUTnj8NJ3VfHluhPwgzHAJSraU/FhpJ1fjMqT+iaDZuvoGqP2zjO/Caiqo/Be6+4+Jlqz9P86k9unusPyAMkT+WNK8/v0myi290rz9lAr1T13KwPwtBrm230bI/RTYGQ53xsz+Q9OfFtlq1P2lYQdeIhrU/ZCELWchCtj92SeXDuF+3P8EiWi43o7c/TH/RArr0tz+xJfg2f4W5PxBt/G1s/7k/F/DVEuhHuj/QR3IwdTa7Pz6ZH7ofQb0/TcgBWFlbvj8J9a45n4K+P/qxnIHTmL8/F7yUIea6vz+XNA9BqXPAP8hCFrKQhcA/TYNjKNMLwT/UV6J1kLPBP6QmAZCi9ME/YbmnEZZ7wj/cKqE7g8zCP8WNT3bkYMM/Bm9IljyTwz+dc84555zDP91UeEE4oMM/49k1o6/8wz+hN9e263LEP168/nmDcMY/BpMFOOY8xz9nF3uPdrHHPyxppqHLzcc//SMIjju+yD/Qe9OC4Z7JP6uqqqqqqso/g2N8W/Kuyj8EYoCq7QzLP/luF9nHFMs/LjgsYp4dyz8KC5J47OnLP4ACD1ocqsw/Yab0oOW+zD9n8w93BwDNPzb3TEQoZM4/b5Tr2u53zj8TSCXnZRHPP1ebOH0FkM8/7v4Q8P4Q0D95YUCniE3QP2i9yZDeU9A/jNC9CN2L0D8k696GAavQPyAzbkSDEdE/3xx9c/TN0T+s5aTsL0PSP3qYisXPsdI/VTHU0JPF0j8icGMZlArTP8F4K/scUtM/RT7rBlPk0z8/EvH0q+fTP8qY3UnD69M/X4UMROz40z8J5s7iNhjUP713mKDJRdU/VVVVVVVV1T9ECxO8qNbVP46bStq0/dU/QcNJ3ZfH1j8K16NwPQrXP49G3aWjUdc/iIeHh4eH1z9OaEhOl5DYP25605ve9Ng/1gScZ03A2T8uWtmilS3aP35YpAw83do/izPaPWx92z9MwiRMwiTcP/TvWqdLU90/cT0K16Nw3T8AAAAAAADeP6qphL0OFd4/rA+N9aGx3j8IH3zwwQffPxXb+Gmxjd8/gEaJn1Hi3z8AAAAAAADgP0qQpwR5SuA/dxGrRN534T8xn3oxn3rhP80eMHvA7OE/qb6S+VkU4z+WOPV7bonjP1nIQhaykOU/",
          "dtype": "f8"
         },
         "xaxis": "x",
         "y": {
          "bdata": "AAAAAAAA8D8AAAAAAADwP5/Ib2/c/u8/Fp8DwwH+7z/wUj3ccPzvP1Mw46G6++8/tg2JZwT77z8L5IE+5fTvP5hZGVUM8u8/Gj0vod/R7z+WBQSUd8vvPw+CrRzDyO8/IFhw+hq47z9d6U/Z07XvP3I0PttAje8/uAOKw7iB7z/wyyi9x3DvP3bSabkeYe8/QSvhIpAz7z8P+YOwFu7uP2s8vlTEpe4/wbjMYMud7j+vZfQHFpzuP1DUeawYme4/8ub/OD5F7j/MwzkMdi/uP9UBphU1Ju4/t50hKsul7T+2cgwj/2rtP/KtwfMf8+w/hgubBW5x7D+/Tjot1yPsP7STuKi6Guw/gEBF08AT7D9IyJEAQK3rP/YSr4zfdOs/UoH+N1ln6z+FgFxMvkfrP1eYFfeNr+o/Dph1IECT6T8zuSYABVrpP7H8+yD3Fuk/ovVOMo4R6T+Ek9+TJ+DoP/0PiRxz3eg/UQtYExYl6D8V82MVtJvnPy1TVIlSbOY/rWdU5jZi5j9aXlyxQQPmP9B+nETrneQ/24sePZl+5D+mDZZg0zzkP993IPUBjOM/QlXGukuL4z/eIws0bWXjP+qpeA1yuuI/5Qk44pCX4j/B2l3EebnhPyG+2JMIlOE/b057CuJs4T+vJUds3XngP465bkxmvd4/d+1ANZU13j/5bAM1fojcP1eqaM/mZNw/5OjW7fJe2z9k0sFDCxrbP19ZbIXvk9o/O3yS22mN2T8VBbftDFHZPyttkbjzS9g/iMui2BfY1j9Dy2zfjs3WP+VW3kwL7tU/CSJlHjg/1T/xGuR0RRbTP4Uo0l8FDNM/AEuRHXcH0z+xj9mf0fPSPwHGkUvRytI/0Lw0kyBx0j/E/Yh0/cnRP+5cPIC8ddA/SIjkZAeLzT+XbJycdYrNPwXojIxE+MY/INw/XbARxD8oxpal2uHDP67111v6vcM/LVaZRWaewj/soY62KZDCPzNk4c9fUL0/1yHXmsJ7uT9ECxp7x++0P1J6j+E+l64/d8RAe8xJrj8iYwnrOyatP0/8lIjuGKo/aVXLFFWipD9ubvcgjTmkP2b7dmy2jqM/d9aTUyX/nz/8KqspBymfP1J6j+E+l54/RtxEt7kolT8M5paL6EOQP4YIVklaP5A/4pt7FJZ/jz83Gur+vT2HP8weCbVCnYI/LIMOK1Ofej+sNdCIUFdZP6xkWrtAp0E/",
          "dtype": "f8"
         },
         "yaxis": "y"
        },
        {
         "line": {
          "dash": "dot"
         },
         "name": "F1-Score",
         "type": "scatter",
         "x": {
          "bdata": "AAAAAAAAAACgcOY/YI+JP8DsAbMHzI4/HHZjEIfdmD8atpvlSWSaP2EbBKcyYZs//wbdrpUTnj8NJ3VfHluhPwgzHAJSraU/FhpJ1fjMqT+iaDZuvoGqP2zjO/Caiqo/Be6+4+Jlqz9P86k9unusPyAMkT+WNK8/v0myi290rz9lAr1T13KwPwtBrm230bI/RTYGQ53xsz+Q9OfFtlq1P2lYQdeIhrU/ZCELWchCtj92SeXDuF+3P8EiWi43o7c/TH/RArr0tz+xJfg2f4W5PxBt/G1s/7k/F/DVEuhHuj/QR3IwdTa7Pz6ZH7ofQb0/TcgBWFlbvj8J9a45n4K+P/qxnIHTmL8/F7yUIea6vz+XNA9BqXPAP8hCFrKQhcA/TYNjKNMLwT/UV6J1kLPBP6QmAZCi9ME/YbmnEZZ7wj/cKqE7g8zCP8WNT3bkYMM/Bm9IljyTwz+dc84555zDP91UeEE4oMM/49k1o6/8wz+hN9e263LEP168/nmDcMY/BpMFOOY8xz9nF3uPdrHHPyxppqHLzcc//SMIjju+yD/Qe9OC4Z7JP6uqqqqqqso/g2N8W/Kuyj8EYoCq7QzLP/luF9nHFMs/LjgsYp4dyz8KC5J47OnLP4ACD1ocqsw/Yab0oOW+zD9n8w93BwDNPzb3TEQoZM4/b5Tr2u53zj8TSCXnZRHPP1ebOH0FkM8/7v4Q8P4Q0D95YUCniE3QP2i9yZDeU9A/jNC9CN2L0D8k696GAavQPyAzbkSDEdE/3xx9c/TN0T+s5aTsL0PSP3qYisXPsdI/VTHU0JPF0j8icGMZlArTP8F4K/scUtM/RT7rBlPk0z8/EvH0q+fTP8qY3UnD69M/X4UMROz40z8J5s7iNhjUP713mKDJRdU/VVVVVVVV1T9ECxO8qNbVP46bStq0/dU/QcNJ3ZfH1j8K16NwPQrXP49G3aWjUdc/iIeHh4eH1z9OaEhOl5DYP25605ve9Ng/1gScZ03A2T8uWtmilS3aP35YpAw83do/izPaPWx92z9MwiRMwiTcP/TvWqdLU90/cT0K16Nw3T8AAAAAAADeP6qphL0OFd4/rA+N9aGx3j8IH3zwwQffPxXb+Gmxjd8/gEaJn1Hi3z8AAAAAAADgP0qQpwR5SuA/dxGrRN534T8xn3oxn3rhP80eMHvA7OE/qb6S+VkU4z+WOPV7bonjP1nIQhaykOU/",
          "dtype": "f8"
         },
         "xaxis": "x",
         "y": {
          "bdata": "tUM1KPGG1D+2eOPkTofUP+9aB2f7j9Q/I4tjr02V1D82Avqy+ZrUPy46zd1hndQ/jnDRMbCf1D8ws3tGeLHUP+/BuEVuuNQ/QNV0BkH01D/zJOzHw/3UP844xtSjAdU/XFSbX6MZ1T80ICAhyxzVP21puuWrUtU/Y4NgVDtg1T9vH15rGHTVPzf0YiVfhdU/AMPlpB2u1T8esidF4+fVP41bc2zIHtY/0X3JKN4k1j9mPK5LFybWP5CGLWcHKNY/2ots2jle1j+6Rs7uQmzWP0XG3zF6cdY/CeXV9fu41j/9TWqBStrWP6tREUlPG9c/I71aqwZZ1z87zMxg4HvXPwZxw238f9c/nvh6adWC1z9JUkvxF63XP3B4KUOEwtc/lzrGgqjH1z/0P0OLj9LXP9UIp7fnAdg/1117uDBd2D9u3a69vW7YP5/algxfgtg/t+jDocWD2D9/v6DAFJDYP8GhZmnBkNg/F8T0rFLA2D++Ti281+LYP5DTpmnALNk/DMH9PiMu2T83hcbIOjfZP5mesNtvU9k/nxdDo+lV2T83cqKP4lfZP1zU2olnVdk/3QAJu1tV2T+4qnRi21LZP9DU97EhRNk/htt70PRA2T8z/GjvTCvZPyusFZYIJtk/boMuSBwf2T+2ZyYxu/DYPyewpI8Msdg/6eZmYUyc2D/m7lPI71XYPxlNT2NVT9g/VBvPvlMa2D9hcnoYDQvYPx9LTxhb69c/0g7uIFCq1z+t0l/zR5rXP8xDSekeUdc/GmXBzjHb1j/HTKRMatfWP6Adqv56gdY/tjchUrI41j9KsMaxkT3VP4wHZb2EONU/RpPTpTo21T+KVEXT+yvVP3C5W25xFtU/V6Xpapjm1D+y96EvlYrUPz6Vs/rfwtM/PT3JVxWf0j/FxG+O4Z7SP8fnLkS4/c8/7b/oVfJLzT/TPrVUbRzNPwy3/Rtp+Mw/N4/J8D3Qyz9WYoMTP8HLPwuzOg6mTMc/IYBWZVrkxD9PPCeeE8/BP81pG0A/Rbs/JCycIOQIuz/dWTL7kyO6P+tO58musLc/m3n946Qisz/5fLaAOcmyPxLkWOWUNrI/FBXXzak2rj9OJhZ2nHitPxHPj2bG9qw/OC8PKQNlpD+hu4S/1aWfPwh2Y5U+nZ8/Wf+Sg1esnj+vXWtE2cuWPxofcqYUVZI/q8EgTspWij98UBMAdUdpP5cVapqko1E/",
          "dtype": "f8"
         },
         "yaxis": "y"
        }
       ],
       "layout": {
        "annotations": [
         {
          "showarrow": false,
          "text": "Best F1-Score Threshold: 0.20",
          "x": 0.20016116035455278,
          "xanchor": "left",
          "xref": "x",
          "y": 0,
          "yanchor": "bottom",
          "yref": "y domain"
         }
        ],
        "legend": {
         "title": {
          "text": "Metric"
         }
        },
        "shapes": [
         {
          "line": {
           "color": "red",
           "dash": "dash",
           "width": 1
          },
          "type": "line",
          "x0": 0.20016116035455278,
          "x1": 0.20016116035455278,
          "xref": "x",
          "y0": 0,
          "y1": 1,
          "yref": "y domain"
         }
        ],
        "template": {
         "data": {
          "bar": [
           {
            "error_x": {
             "color": "#2a3f5f"
            },
            "error_y": {
             "color": "#2a3f5f"
            },
            "marker": {
             "line": {
              "color": "white",
              "width": 0.5
             },
             "pattern": {
              "fillmode": "overlay",
              "size": 10,
              "solidity": 0.2
             }
            },
            "type": "bar"
           }
          ],
          "barpolar": [
           {
            "marker": {
             "line": {
              "color": "white",
              "width": 0.5
             },
             "pattern": {
              "fillmode": "overlay",
              "size": 10,
              "solidity": 0.2
             }
            },
            "type": "barpolar"
           }
          ],
          "carpet": [
           {
            "aaxis": {
             "endlinecolor": "#2a3f5f",
             "gridcolor": "#C8D4E3",
             "linecolor": "#C8D4E3",
             "minorgridcolor": "#C8D4E3",
             "startlinecolor": "#2a3f5f"
            },
            "baxis": {
             "endlinecolor": "#2a3f5f",
             "gridcolor": "#C8D4E3",
             "linecolor": "#C8D4E3",
             "minorgridcolor": "#C8D4E3",
             "startlinecolor": "#2a3f5f"
            },
            "type": "carpet"
           }
          ],
          "choropleth": [
           {
            "colorbar": {
             "outlinewidth": 0,
             "ticks": ""
            },
            "type": "choropleth"
           }
          ],
          "contour": [
           {
            "colorbar": {
             "outlinewidth": 0,
             "ticks": ""
            },
            "colorscale": [
             [
              0,
              "#0d0887"
             ],
             [
              0.1111111111111111,
              "#46039f"
             ],
             [
              0.2222222222222222,
              "#7201a8"
             ],
             [
              0.3333333333333333,
              "#9c179e"
             ],
             [
              0.4444444444444444,
              "#bd3786"
             ],
             [
              0.5555555555555556,
              "#d8576b"
             ],
             [
              0.6666666666666666,
              "#ed7953"
             ],
             [
              0.7777777777777778,
              "#fb9f3a"
             ],
             [
              0.8888888888888888,
              "#fdca26"
             ],
             [
              1,
              "#f0f921"
             ]
            ],
            "type": "contour"
           }
          ],
          "contourcarpet": [
           {
            "colorbar": {
             "outlinewidth": 0,
             "ticks": ""
            },
            "type": "contourcarpet"
           }
          ],
          "heatmap": [
           {
            "colorbar": {
             "outlinewidth": 0,
             "ticks": ""
            },
            "colorscale": [
             [
              0,
              "#0d0887"
             ],
             [
              0.1111111111111111,
              "#46039f"
             ],
             [
              0.2222222222222222,
              "#7201a8"
             ],
             [
              0.3333333333333333,
              "#9c179e"
             ],
             [
              0.4444444444444444,
              "#bd3786"
             ],
             [
              0.5555555555555556,
              "#d8576b"
             ],
             [
              0.6666666666666666,
              "#ed7953"
             ],
             [
              0.7777777777777778,
              "#fb9f3a"
             ],
             [
              0.8888888888888888,
              "#fdca26"
             ],
             [
              1,
              "#f0f921"
             ]
            ],
            "type": "heatmap"
           }
          ],
          "histogram": [
           {
            "marker": {
             "pattern": {
              "fillmode": "overlay",
              "size": 10,
              "solidity": 0.2
             }
            },
            "type": "histogram"
           }
          ],
          "histogram2d": [
           {
            "colorbar": {
             "outlinewidth": 0,
             "ticks": ""
            },
            "colorscale": [
             [
              0,
              "#0d0887"
             ],
             [
              0.1111111111111111,
              "#46039f"
             ],
             [
              0.2222222222222222,
              "#7201a8"
             ],
             [
              0.3333333333333333,
              "#9c179e"
             ],
             [
              0.4444444444444444,
              "#bd3786"
             ],
             [
              0.5555555555555556,
              "#d8576b"
             ],
             [
              0.6666666666666666,
              "#ed7953"
             ],
             [
              0.7777777777777778,
              "#fb9f3a"
             ],
             [
              0.8888888888888888,
              "#fdca26"
             ],
             [
              1,
              "#f0f921"
             ]
            ],
            "type": "histogram2d"
           }
          ],
          "histogram2dcontour": [
           {
            "colorbar": {
             "outlinewidth": 0,
             "ticks": ""
            },
            "colorscale": [
             [
              0,
              "#0d0887"
             ],
             [
              0.1111111111111111,
              "#46039f"
             ],
             [
              0.2222222222222222,
              "#7201a8"
             ],
             [
              0.3333333333333333,
              "#9c179e"
             ],
             [
              0.4444444444444444,
              "#bd3786"
             ],
             [
              0.5555555555555556,
              "#d8576b"
             ],
             [
              0.6666666666666666,
              "#ed7953"
             ],
             [
              0.7777777777777778,
              "#fb9f3a"
             ],
             [
              0.8888888888888888,
              "#fdca26"
             ],
             [
              1,
              "#f0f921"
             ]
            ],
            "type": "histogram2dcontour"
           }
          ],
          "mesh3d": [
           {
            "colorbar": {
             "outlinewidth": 0,
             "ticks": ""
            },
            "type": "mesh3d"
           }
          ],
          "parcoords": [
           {
            "line": {
             "colorbar": {
              "outlinewidth": 0,
              "ticks": ""
             }
            },
            "type": "parcoords"
           }
          ],
          "pie": [
           {
            "automargin": true,
            "type": "pie"
           }
          ],
          "scatter": [
           {
            "fillpattern": {
             "fillmode": "overlay",
             "size": 10,
             "solidity": 0.2
            },
            "type": "scatter"
           }
          ],
          "scatter3d": [
           {
            "line": {
             "colorbar": {
              "outlinewidth": 0,
              "ticks": ""
             }
            },
            "marker": {
             "colorbar": {
              "outlinewidth": 0,
              "ticks": ""
             }
            },
            "type": "scatter3d"
           }
          ],
          "scattercarpet": [
           {
            "marker": {
             "colorbar": {
              "outlinewidth": 0,
              "ticks": ""
             }
            },
            "type": "scattercarpet"
           }
          ],
          "scattergeo": [
           {
            "marker": {
             "colorbar": {
              "outlinewidth": 0,
              "ticks": ""
             }
            },
            "type": "scattergeo"
           }
          ],
          "scattergl": [
           {
            "marker": {
             "colorbar": {
              "outlinewidth": 0,
              "ticks": ""
             }
            },
            "type": "scattergl"
           }
          ],
          "scattermap": [
           {
            "marker": {
             "colorbar": {
              "outlinewidth": 0,
              "ticks": ""
             }
            },
            "type": "scattermap"
           }
          ],
          "scattermapbox": [
           {
            "marker": {
             "colorbar": {
              "outlinewidth": 0,
              "ticks": ""
             }
            },
            "type": "scattermapbox"
           }
          ],
          "scatterpolar": [
           {
            "marker": {
             "colorbar": {
              "outlinewidth": 0,
              "ticks": ""
             }
            },
            "type": "scatterpolar"
           }
          ],
          "scatterpolargl": [
           {
            "marker": {
             "colorbar": {
              "outlinewidth": 0,
              "ticks": ""
             }
            },
            "type": "scatterpolargl"
           }
          ],
          "scatterternary": [
           {
            "marker": {
             "colorbar": {
              "outlinewidth": 0,
              "ticks": ""
             }
            },
            "type": "scatterternary"
           }
          ],
          "surface": [
           {
            "colorbar": {
             "outlinewidth": 0,
             "ticks": ""
            },
            "colorscale": [
             [
              0,
              "#0d0887"
             ],
             [
              0.1111111111111111,
              "#46039f"
             ],
             [
              0.2222222222222222,
              "#7201a8"
             ],
             [
              0.3333333333333333,
              "#9c179e"
             ],
             [
              0.4444444444444444,
              "#bd3786"
             ],
             [
              0.5555555555555556,
              "#d8576b"
             ],
             [
              0.6666666666666666,
              "#ed7953"
             ],
             [
              0.7777777777777778,
              "#fb9f3a"
             ],
             [
              0.8888888888888888,
              "#fdca26"
             ],
             [
              1,
              "#f0f921"
             ]
            ],
            "type": "surface"
           }
          ],
          "table": [
           {
            "cells": {
             "fill": {
              "color": "#EBF0F8"
             },
             "line": {
              "color": "white"
             }
            },
            "header": {
             "fill": {
              "color": "#C8D4E3"
             },
             "line": {
              "color": "white"
             }
            },
            "type": "table"
           }
          ]
         },
         "layout": {
          "annotationdefaults": {
           "arrowcolor": "#2a3f5f",
           "arrowhead": 0,
           "arrowwidth": 1
          },
          "autotypenumbers": "strict",
          "coloraxis": {
           "colorbar": {
            "outlinewidth": 0,
            "ticks": ""
           }
          },
          "colorscale": {
           "diverging": [
            [
             0,
             "#8e0152"
            ],
            [
             0.1,
             "#c51b7d"
            ],
            [
             0.2,
             "#de77ae"
            ],
            [
             0.3,
             "#f1b6da"
            ],
            [
             0.4,
             "#fde0ef"
            ],
            [
             0.5,
             "#f7f7f7"
            ],
            [
             0.6,
             "#e6f5d0"
            ],
            [
             0.7,
             "#b8e186"
            ],
            [
             0.8,
             "#7fbc41"
            ],
            [
             0.9,
             "#4d9221"
            ],
            [
             1,
             "#276419"
            ]
           ],
           "sequential": [
            [
             0,
             "#0d0887"
            ],
            [
             0.1111111111111111,
             "#46039f"
            ],
            [
             0.2222222222222222,
             "#7201a8"
            ],
            [
             0.3333333333333333,
             "#9c179e"
            ],
            [
             0.4444444444444444,
             "#bd3786"
            ],
            [
             0.5555555555555556,
             "#d8576b"
            ],
            [
             0.6666666666666666,
             "#ed7953"
            ],
            [
             0.7777777777777778,
             "#fb9f3a"
            ],
            [
             0.8888888888888888,
             "#fdca26"
            ],
            [
             1,
             "#f0f921"
            ]
           ],
           "sequentialminus": [
            [
             0,
             "#0d0887"
            ],
            [
             0.1111111111111111,
             "#46039f"
            ],
            [
             0.2222222222222222,
             "#7201a8"
            ],
            [
             0.3333333333333333,
             "#9c179e"
            ],
            [
             0.4444444444444444,
             "#bd3786"
            ],
            [
             0.5555555555555556,
             "#d8576b"
            ],
            [
             0.6666666666666666,
             "#ed7953"
            ],
            [
             0.7777777777777778,
             "#fb9f3a"
            ],
            [
             0.8888888888888888,
             "#fdca26"
            ],
            [
             1,
             "#f0f921"
            ]
           ]
          },
          "colorway": [
           "#636efa",
           "#EF553B",
           "#00cc96",
           "#ab63fa",
           "#FFA15A",
           "#19d3f3",
           "#FF6692",
           "#B6E880",
           "#FF97FF",
           "#FECB52"
          ],
          "font": {
           "color": "#2a3f5f"
          },
          "geo": {
           "bgcolor": "white",
           "lakecolor": "white",
           "landcolor": "white",
           "showlakes": true,
           "showland": true,
           "subunitcolor": "#C8D4E3"
          },
          "hoverlabel": {
           "align": "left"
          },
          "hovermode": "closest",
          "mapbox": {
           "style": "light"
          },
          "paper_bgcolor": "white",
          "plot_bgcolor": "white",
          "polar": {
           "angularaxis": {
            "gridcolor": "#EBF0F8",
            "linecolor": "#EBF0F8",
            "ticks": ""
           },
           "bgcolor": "white",
           "radialaxis": {
            "gridcolor": "#EBF0F8",
            "linecolor": "#EBF0F8",
            "ticks": ""
           }
          },
          "scene": {
           "xaxis": {
            "backgroundcolor": "white",
            "gridcolor": "#DFE8F3",
            "gridwidth": 2,
            "linecolor": "#EBF0F8",
            "showbackground": true,
            "ticks": "",
            "zerolinecolor": "#EBF0F8"
           },
           "yaxis": {
            "backgroundcolor": "white",
            "gridcolor": "#DFE8F3",
            "gridwidth": 2,
            "linecolor": "#EBF0F8",
            "showbackground": true,
            "ticks": "",
            "zerolinecolor": "#EBF0F8"
           },
           "zaxis": {
            "backgroundcolor": "white",
            "gridcolor": "#DFE8F3",
            "gridwidth": 2,
            "linecolor": "#EBF0F8",
            "showbackground": true,
            "ticks": "",
            "zerolinecolor": "#EBF0F8"
           }
          },
          "shapedefaults": {
           "line": {
            "color": "#2a3f5f"
           }
          },
          "ternary": {
           "aaxis": {
            "gridcolor": "#DFE8F3",
            "linecolor": "#A2B1C6",
            "ticks": ""
           },
           "baxis": {
            "gridcolor": "#DFE8F3",
            "linecolor": "#A2B1C6",
            "ticks": ""
           },
           "bgcolor": "white",
           "caxis": {
            "gridcolor": "#DFE8F3",
            "linecolor": "#A2B1C6",
            "ticks": ""
           }
          },
          "title": {
           "x": 0.05
          },
          "xaxis": {
           "automargin": true,
           "gridcolor": "#EBF0F8",
           "linecolor": "#EBF0F8",
           "ticks": "",
           "title": {
            "standoff": 15
           },
           "zerolinecolor": "#EBF0F8",
           "zerolinewidth": 2
          },
          "yaxis": {
           "automargin": true,
           "gridcolor": "#EBF0F8",
           "linecolor": "#EBF0F8",
           "ticks": "",
           "title": {
            "standoff": 15
           },
           "zerolinecolor": "#EBF0F8",
           "zerolinewidth": 2
          }
         }
        },
        "title": {
         "text": "Precision, Recall, and F1-Score vs. Decision Threshold"
        },
        "xaxis": {
         "anchor": "y",
         "domain": [
          0,
          0.94
         ],
         "title": {
          "text": "Decision Threshold"
         }
        },
        "yaxis": {
         "anchor": "x",
         "domain": [
          0,
          1
         ],
         "title": {
          "text": "Score"
         }
        },
        "yaxis2": {
         "anchor": "x",
         "overlaying": "y",
         "side": "right"
        }
       }
      }
     },
     "metadata": {},
     "output_type": "display_data"
    }
   ],
   "source": [
    "\n",
    "uncalibrated_proba = final_logistic_model.predict_proba(X_calib)[:, 1]\n",
    "\n",
    "y_pred_proba = lr_isotonic_calibrator.predict(uncalibrated_proba)\n",
    "\n",
    "\n",
    "precisions, recalls, thresholds = precision_recall_curve(y_calib, y_pred_proba)\n",
    "\n",
    "\n",
    "results_df = pd.DataFrame({\n",
    "    'Threshold': thresholds,\n",
    "    'Precision': precisions[:-1],\n",
    "    'Recall': recalls[:-1]\n",
    "})\n",
    "\n",
    "# Add F1-Score for a more balanced view\n",
    "# Avoid division by zero if precision and recall are both 0\n",
    "results_df['F1-Score'] = 2 * (results_df['Precision'] * results_df['Recall']) / \\\n",
    "                        (results_df['Precision'] + results_df['Recall']).replace(0, 1e-9)\n",
    "\n",
    "print(\"--- Threshold Analysis Results ---\")\n",
    "\n",
    "display(results_df.sort_values(by='F1-Score', ascending=False).head(10))\n",
    "\n",
    "\n",
    "\n",
    "fig = make_subplots(specs=[[{\"secondary_y\": True}]])\n",
    "\n",
    "\n",
    "fig.add_trace(\n",
    "    go.Scatter(x=results_df['Threshold'], y=results_df['Precision'], name='Precision', line=dict(color='black')),\n",
    "    secondary_y=False,\n",
    "      \n",
    ")\n",
    "fig.add_trace(\n",
    "    go.Scatter(x=results_df['Threshold'], y=results_df['Recall'], name='Recall', line=dict(color='#8e79a8')),\n",
    "    secondary_y=False,\n",
    ")\n",
    "\n",
    "\n",
    "fig.add_trace(\n",
    "    go.Scatter(x=results_df['Threshold'], y=results_df['F1-Score'], name='F1-Score', line=dict(dash='dot')),\n",
    "    secondary_y=False,\n",
    ")\n",
    "\n",
    "\n",
    "best_f1_row = results_df.loc[results_df['F1-Score'].idxmax()]\n",
    "best_threshold = best_f1_row['Threshold']\n",
    "best_f1_score = best_f1_row['F1-Score']\n",
    "\n",
    "fig.add_vline(x=best_threshold, line_width=1, line_dash=\"dash\", line_color=\"red\",\n",
    "              annotation_text=f'Best F1-Score Threshold: {best_threshold:.2f}',\n",
    "              annotation_position=\"bottom right\")\n",
    "\n",
    "\n",
    "fig.update_layout(\n",
    "    title_text='Precision, Recall, and F1-Score vs. Decision Threshold',\n",
    "    xaxis_title='Decision Threshold',\n",
    "    yaxis_title='Score',\n",
    "    legend_title='Metric',\n",
    "    template='plotly_white'\n",
    ")\n",
    "\n",
    "fig.show()"
   ]
  },
  {
   "cell_type": "markdown",
   "metadata": {},
   "source": [
    "## 7. Evaluate Final Model on Test Set"
   ]
  },
  {
   "cell_type": "code",
   "execution_count": 14,
   "metadata": {},
   "outputs": [
    {
     "name": "stdout",
     "output_type": "stream",
     "text": [
      "\n",
      "--- Debugging Info for 'Test' Set ---\n",
      "Threshold used: 0.1900\n",
      "Shape of y_true_np: (343827, 1)\n",
      "Shape of y_pred: (343827,)\n",
      "Unique values in y_true_np: [0 1]\n",
      "Unique values in y_pred: (array([0, 1]), array([184447, 159380]))\n",
      "Confusion Matrix:\n",
      "[[158048 108264]\n",
      " [ 26399  51116]]\n",
      "---------------------------------------\n",
      "\n",
      "\n",
      "--- Debugging Info for 'Train' Set ---\n",
      "Threshold used: 0.1900\n",
      "Shape of y_true_np: (702962, 1)\n",
      "Shape of y_pred: (702962,)\n",
      "Unique values in y_true_np: [0 1]\n",
      "Unique values in y_pred: (array([0, 1]), array([402590, 300372]))\n",
      "Confusion Matrix:\n",
      "[[353961 214738]\n",
      " [ 48629  85634]]\n",
      "---------------------------------------\n",
      "\n",
      "\n",
      "--- Debugging Info for 'Test' Set ---\n",
      "Threshold used: 0.1900\n",
      "Shape of y_true_np: (343827, 1)\n",
      "Shape of y_pred: (343827,)\n",
      "Unique values in y_true_np: [0 1]\n",
      "Unique values in y_pred: (array([0, 1]), array([184447, 159380]))\n",
      "Confusion Matrix:\n",
      "[[158048 108264]\n",
      " [ 26399  51116]]\n",
      "---------------------------------------\n",
      "\n",
      "Using Optimal Threshold (max F1-Score): 0.2002\n",
      "\n",
      "--- Classification Metrics Comparison with Optimal Threshold ---\n"
     ]
    },
    {
     "data": {
      "text/html": [
       "<div>\n",
       "<style scoped>\n",
       "    .dataframe tbody tr th:only-of-type {\n",
       "        vertical-align: middle;\n",
       "    }\n",
       "\n",
       "    .dataframe tbody tr th {\n",
       "        vertical-align: top;\n",
       "    }\n",
       "\n",
       "    .dataframe thead th {\n",
       "        text-align: right;\n",
       "    }\n",
       "</style>\n",
       "<table border=\"1\" class=\"dataframe\">\n",
       "  <thead>\n",
       "    <tr style=\"text-align: right;\">\n",
       "      <th></th>\n",
       "      <th>Train</th>\n",
       "      <th>Test</th>\n",
       "    </tr>\n",
       "  </thead>\n",
       "  <tbody>\n",
       "    <tr>\n",
       "      <th>AUC</th>\n",
       "      <td>0.679889</td>\n",
       "      <td>0.675362</td>\n",
       "    </tr>\n",
       "    <tr>\n",
       "      <th>Gini</th>\n",
       "      <td>0.359778</td>\n",
       "      <td>0.350724</td>\n",
       "    </tr>\n",
       "    <tr>\n",
       "      <th>Brier Score</th>\n",
       "      <td>0.144431</td>\n",
       "      <td>0.163501</td>\n",
       "    </tr>\n",
       "    <tr>\n",
       "      <th>Precision (Class 0)</th>\n",
       "      <td>0.879210</td>\n",
       "      <td>0.856875</td>\n",
       "    </tr>\n",
       "    <tr>\n",
       "      <th>Recall (Class 0)</th>\n",
       "      <td>0.622405</td>\n",
       "      <td>0.593469</td>\n",
       "    </tr>\n",
       "    <tr>\n",
       "      <th>F1-Score (Class 0)</th>\n",
       "      <td>0.728848</td>\n",
       "      <td>0.701253</td>\n",
       "    </tr>\n",
       "    <tr>\n",
       "      <th>Precision (Class 1)</th>\n",
       "      <td>0.285093</td>\n",
       "      <td>0.320718</td>\n",
       "    </tr>\n",
       "    <tr>\n",
       "      <th>Recall (Class 1)</th>\n",
       "      <td>0.637808</td>\n",
       "      <td>0.659434</td>\n",
       "    </tr>\n",
       "    <tr>\n",
       "      <th>F1-Score (Class 1)</th>\n",
       "      <td>0.394050</td>\n",
       "      <td>0.431550</td>\n",
       "    </tr>\n",
       "    <tr>\n",
       "      <th>Accuracy</th>\n",
       "      <td>0.625347</td>\n",
       "      <td>0.608341</td>\n",
       "    </tr>\n",
       "  </tbody>\n",
       "</table>\n",
       "</div>"
      ],
      "text/plain": [
       "                        Train      Test\n",
       "AUC                  0.679889  0.675362\n",
       "Gini                 0.359778  0.350724\n",
       "Brier Score          0.144431  0.163501\n",
       "Precision (Class 0)  0.879210  0.856875\n",
       "Recall (Class 0)     0.622405  0.593469\n",
       "F1-Score (Class 0)   0.728848  0.701253\n",
       "Precision (Class 1)  0.285093  0.320718\n",
       "Recall (Class 1)     0.637808  0.659434\n",
       "F1-Score (Class 1)   0.394050  0.431550\n",
       "Accuracy             0.625347  0.608341"
      ]
     },
     "metadata": {},
     "output_type": "display_data"
    }
   ],
   "source": [
    "\n",
    "\n",
    "def generate_classification_metrics(y_true, y_pred_proba, threshold, dataset_name=\"Test\"):\n",
    "    \"\"\"\n",
    "    Calculates a comprehensive set of classification metrics for a given threshold.\n",
    "    This version includes debugging prints to diagnose issues.\n",
    "\n",
    "    Args:\n",
    "        y_true: True labels.\n",
    "        y_pred_proba: Predicted probabilities for the positive class.\n",
    "        threshold: The decision threshold to use.\n",
    "        dataset_name: Name of the dataset ('Train' or 'Test') for printing.\n",
    "\n",
    "    Returns:\n",
    "        A dictionary containing all the calculated metrics.\n",
    "    \"\"\"\n",
    "    # --- CRITICAL: Ensure alignment and correct data types ---\n",
    "    y_true_np = np.asarray(y_true).astype(int)\n",
    "    y_pred_proba_np = np.asarray(y_pred_proba).astype(float)\n",
    "    \n",
    "    # Apply the custom threshold\n",
    "    y_pred = (y_pred_proba_np >= threshold).astype(int)\n",
    "    \n",
    "    # --- START DEBUGGING BLOCK ---\n",
    "    print(f\"\\n--- Debugging Info for '{dataset_name}' Set ---\")\n",
    "    print(f\"Threshold used: {threshold:.4f}\")\n",
    "    print(f\"Shape of y_true_np: {y_true_np.shape}\")\n",
    "    print(f\"Shape of y_pred: {y_pred.shape}\")\n",
    "    print(f\"Unique values in y_true_np: {np.unique(y_true_np)}\")\n",
    "    print(f\"Unique values in y_pred: {np.unique(y_pred, return_counts=True)}\")\n",
    "    \n",
    "    # Calculate and print the confusion matrix\n",
    "    cm = confusion_matrix(y_true_np, y_pred)\n",
    "    print(\"Confusion Matrix:\")\n",
    "    print(cm)\n",
    "    print(\"---------------------------------------\\n\")\n",
    "    # --- END DEBUGGING BLOCK ---\n",
    "\n",
    "    # Now, calculate metrics as before\n",
    "    report_dict = classification_report(y_true_np, y_pred, output_dict=True, zero_division=0)\n",
    "    \n",
    "    auc = roc_auc_score(y_true_np, y_pred_proba_np)\n",
    "    gini = 2 * auc - 1\n",
    "    brier = brier_score_loss(y_true_np, y_pred_proba_np)\n",
    "    \n",
    "    class_0_metrics = report_dict.get('0', {'precision': 0, 'recall': 0, 'f1-score': 0})\n",
    "    class_1_metrics = report_dict.get('1', {'precision': 0, 'recall': 0, 'f1-score': 0})\n",
    "    \n",
    "    metrics = {\n",
    "        \"AUC\": auc, \"Gini\": gini, \"Brier Score\": brier,\n",
    "        \"Precision (Class 0)\": class_0_metrics['precision'],\n",
    "        \"Recall (Class 0)\": class_0_metrics['recall'],\n",
    "        \"F1-Score (Class 0)\": class_0_metrics['f1-score'],\n",
    "        \"Precision (Class 1)\": class_1_metrics['precision'],\n",
    "        \"Recall (Class 1)\": class_1_metrics['recall'],\n",
    "        \"F1-Score (Class 1)\": class_1_metrics['f1-score'],\n",
    "        \"Accuracy\": report_dict['accuracy']\n",
    "    }\n",
    "    \n",
    "    return metrics\n",
    "\n",
    "\n",
    "optimal_threshold = 0.19\n",
    "\n",
    "\n",
    "test_uncalibrated_proba =  final_logistic_model.predict_proba(X_test)[:, 1]\n",
    "test_pred_proba = lr_isotonic_calibrator.predict(test_uncalibrated_proba)\n",
    "\n",
    "train_uncalibrated_proba =  final_logistic_model.predict_proba(X_train)[:, 1]\n",
    "train_pred_proba = lr_isotonic_calibrator.predict(train_uncalibrated_proba)\n",
    "\n",
    "test_metrics = generate_classification_metrics(y_test, test_pred_proba, optimal_threshold)\n",
    "\n",
    "\n",
    "train_metrics = generate_classification_metrics(y_train, train_pred_proba, optimal_threshold, dataset_name=\"Train\")\n",
    "test_metrics = generate_classification_metrics(y_test, test_pred_proba, optimal_threshold, dataset_name=\"Test\")\n",
    "\n",
    "\n",
    "\n",
    "\n",
    "\n",
    "optimal_threshold_row = results_df.loc[results_df['F1-Score'].idxmax()]\n",
    "optimal_threshold = optimal_threshold_row['Threshold']\n",
    "print(f\"Using Optimal Threshold (max F1-Score): {optimal_threshold:.4f}\\n\")\n",
    "\n",
    "\n",
    "\n",
    "\n",
    "# --- STEP 3: Display the results in a clean comparison table ---\n",
    "comparison_df = pd.DataFrame({\n",
    "    'Train': train_metrics,\n",
    "\n",
    "    'Test': test_metrics\n",
    "})\n",
    "\n",
    "print(\"--- Classification Metrics Comparison with Optimal Threshold ---\")\n",
    "display(comparison_df)"
   ]
  },
  {
   "cell_type": "code",
   "execution_count": 15,
   "metadata": {},
   "outputs": [
    {
     "data": {
      "image/png": "[encoded data removed]",
      "text/plain": [
       "<Figure size 2000x600 with 3 Axes>"
      ]
     },
     "metadata": {},
     "output_type": "display_data"
    }
   ],
   "source": [
    "plot_model_evaluation_summary(\n",
    "    base_model=final_logistic_model,              \n",
    "    X_data=X_test,\n",
    "    y_true=y_test.values.ravel(),\n",
    "    calibrator=lr_isotonic_calibrator, \n",
    "    model_name='Logistic Regression',\n",
    "    custom_color='#b4a7d6',\n",
    "    threshold=optimal_threshold   \n",
    ")"
   ]
  },
  {
   "cell_type": "markdown",
   "metadata": {},
   "source": [
    "# Save models"
   ]
  },
  {
   "cell_type": "code",
   "execution_count": 17,
   "metadata": {},
   "outputs": [
    {
     "data": {
      "text/plain": [
       "['lr_isotonic_calibrator_undersampling.joblib']"
      ]
     },
     "execution_count": 17,
     "metadata": {},
     "output_type": "execute_result"
    }
   ],
   "source": [
    "joblib.dump(final_logistic_model, 'final_logistic_model_undersampling.joblib')\n",
    "\n",
    "joblib.dump(lr_isotonic_calibrator, 'lr_isotonic_calibrator_undersampling.joblib')"
   ]
  }
 ],
 "metadata": {
  "kernelspec": {
   "display_name": "myenv",
   "language": "python",
   "name": "python3"
  },
  "language_info": {
   "codemirror_mode": {
    "name": "ipython",
    "version": 3
   },
   "file_extension": ".py",
   "mimetype": "text/x-python",
   "name": "python",
   "nbconvert_exporter": "python",
   "pygments_lexer": "ipython3",
   "version": "3.11.13"
  }
 },
 "nbformat": 4,
 "nbformat_minor": 4
}
