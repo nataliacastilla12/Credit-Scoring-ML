{
 "cells": [
  {
   "cell_type": "code",
   "execution_count": 3,
   "id": "0769f256",
   "metadata": {},
   "outputs": [
    {
     "name": "stdout",
     "output_type": "stream",
     "text": [
      "Requirement already satisfied: statsmodels in ./myenv/lib/python3.11/site-packages (0.14.4)\n",
      "Requirement already satisfied: numpy<3,>=1.22.3 in ./myenv/lib/python3.11/site-packages (from statsmodels) (2.2.6)\n",
      "Requirement already satisfied: scipy!=1.9.2,>=1.8 in ./myenv/lib/python3.11/site-packages (from statsmodels) (1.16.0)\n",
      "Requirement already satisfied: pandas!=2.1.0,>=1.4 in ./myenv/lib/python3.11/site-packages (from statsmodels) (2.3.0)\n",
      "Requirement already satisfied: patsy>=0.5.6 in ./myenv/lib/python3.11/site-packages (from statsmodels) (1.0.1)\n",
      "Requirement already satisfied: packaging>=21.3 in ./myenv/lib/python3.11/site-packages (from statsmodels) (25.0)\n",
      "Requirement already satisfied: python-dateutil>=2.8.2 in ./myenv/lib/python3.11/site-packages (from pandas!=2.1.0,>=1.4->statsmodels) (2.9.0.post0)\n",
      "Requirement already satisfied: pytz>=2020.1 in ./myenv/lib/python3.11/site-packages (from pandas!=2.1.0,>=1.4->statsmodels) (2025.2)\n",
      "Requirement already satisfied: tzdata>=2022.7 in ./myenv/lib/python3.11/site-packages (from pandas!=2.1.0,>=1.4->statsmodels) (2025.2)\n",
      "Requirement already satisfied: six>=1.5 in ./myenv/lib/python3.11/site-packages (from python-dateutil>=2.8.2->pandas!=2.1.0,>=1.4->statsmodels) (1.17.0)\n",
      "\n",
      "\u001b[1m[\u001b[0m\u001b[34;49mnotice\u001b[0m\u001b[1;39;49m]\u001b[0m\u001b[39;49m A new release of pip is available: \u001b[0m\u001b[31;49m25.1.1\u001b[0m\u001b[39;49m -> \u001b[0m\u001b[32;49m25.2\u001b[0m\n",
      "\u001b[1m[\u001b[0m\u001b[34;49mnotice\u001b[0m\u001b[1;39;49m]\u001b[0m\u001b[39;49m To update, run: \u001b[0m\u001b[32;49mpip install --upgrade pip\u001b[0m\n",
      "Note: you may need to restart the kernel to use updated packages.\n"
     ]
    }
   ],
   "source": [
    "%pip install statsmodels"
   ]
  },
  {
   "cell_type": "code",
   "execution_count": 4,
   "id": "6eb033c2",
   "metadata": {},
   "outputs": [
    {
     "name": "stdout",
     "output_type": "stream",
     "text": [
      "Requirement already satisfied: optuna in ./myenv/lib/python3.11/site-packages (4.4.0)\n",
      "Requirement already satisfied: alembic>=1.5.0 in ./myenv/lib/python3.11/site-packages (from optuna) (1.16.2)\n",
      "Requirement already satisfied: colorlog in ./myenv/lib/python3.11/site-packages (from optuna) (6.9.0)\n",
      "Requirement already satisfied: numpy in ./myenv/lib/python3.11/site-packages (from optuna) (2.2.6)\n",
      "Requirement already satisfied: packaging>=20.0 in ./myenv/lib/python3.11/site-packages (from optuna) (25.0)\n",
      "Requirement already satisfied: sqlalchemy>=1.4.2 in ./myenv/lib/python3.11/site-packages (from optuna) (2.0.41)\n",
      "Requirement already satisfied: tqdm in ./myenv/lib/python3.11/site-packages (from optuna) (4.67.1)\n",
      "Requirement already satisfied: PyYAML in ./myenv/lib/python3.11/site-packages (from optuna) (6.0.2)\n",
      "Requirement already satisfied: Mako in ./myenv/lib/python3.11/site-packages (from alembic>=1.5.0->optuna) (1.3.10)\n",
      "Requirement already satisfied: typing-extensions>=4.12 in ./myenv/lib/python3.11/site-packages (from alembic>=1.5.0->optuna) (4.14.0)\n",
      "Requirement already satisfied: MarkupSafe>=0.9.2 in ./myenv/lib/python3.11/site-packages (from Mako->alembic>=1.5.0->optuna) (3.0.2)\n",
      "\n",
      "\u001b[1m[\u001b[0m\u001b[34;49mnotice\u001b[0m\u001b[1;39;49m]\u001b[0m\u001b[39;49m A new release of pip is available: \u001b[0m\u001b[31;49m25.1.1\u001b[0m\u001b[39;49m -> \u001b[0m\u001b[32;49m25.2\u001b[0m\n",
      "\u001b[1m[\u001b[0m\u001b[34;49mnotice\u001b[0m\u001b[1;39;49m]\u001b[0m\u001b[39;49m To update, run: \u001b[0m\u001b[32;49mpip install --upgrade pip\u001b[0m\n",
      "Note: you may need to restart the kernel to use updated packages.\n"
     ]
    }
   ],
   "source": [
    "%pip install optuna"
   ]
  },
  {
   "cell_type": "code",
   "execution_count": 5,
   "id": "eeac8dd1",
   "metadata": {},
   "outputs": [
    {
     "name": "stdout",
     "output_type": "stream",
     "text": [
      "Requirement already satisfied: xgboost in ./myenv/lib/python3.11/site-packages (3.0.2)\n",
      "Requirement already satisfied: numpy in ./myenv/lib/python3.11/site-packages (from xgboost) (2.2.6)\n",
      "Requirement already satisfied: scipy in ./myenv/lib/python3.11/site-packages (from xgboost) (1.16.0)\n",
      "\n",
      "\u001b[1m[\u001b[0m\u001b[34;49mnotice\u001b[0m\u001b[1;39;49m]\u001b[0m\u001b[39;49m A new release of pip is available: \u001b[0m\u001b[31;49m25.1.1\u001b[0m\u001b[39;49m -> \u001b[0m\u001b[32;49m25.2\u001b[0m\n",
      "\u001b[1m[\u001b[0m\u001b[34;49mnotice\u001b[0m\u001b[1;39;49m]\u001b[0m\u001b[39;49m To update, run: \u001b[0m\u001b[32;49mpip install --upgrade pip\u001b[0m\n",
      "Note: you may need to restart the kernel to use updated packages.\n"
     ]
    }
   ],
   "source": [
    "%pip install xgboost"
   ]
  },
  {
   "cell_type": "markdown",
   "id": "f2d82424",
   "metadata": {},
   "source": [
    "# Libraries"
   ]
  },
  {
   "cell_type": "code",
   "execution_count": null,
   "id": "6f653239",
   "metadata": {},
   "outputs": [],
   "source": [
    "import numpy as np\n",
    "import pandas as pd\n",
    "\n",
    "\n",
    "from sklearn.preprocessing import KBinsDiscretizer\n",
    "import shap\n",
    "from sklearn.ensemble import RandomForestClassifier\n",
    "\n",
    "#------------------------------------Plots\n",
    "import matplotlib.pyplot as plt\n",
    "import seaborn as sns\n",
    "import plotly.figure_factory as ff\n",
    "import plotly\n",
    "import plotly.express as px\n",
    "import plotly.graph_objects as go\n",
    "from plotly.subplots import make_subplots\n",
    "import plotly.io as pio\n",
    "from plotly import tools\n",
    "from plotly.offline import download_plotlyjs, init_notebook_mode, plot, iplot\n",
    "import joblib \n",
    "\n",
    "\n",
    "\n",
    "spark.conf.set(\"spark.sql.execution.arrow.pyspark.enabled\", \"false\")\n",
    "pd.set_option('display.max_columns', 500)\n",
    "\n",
    "#--------------------Model\n",
    "\n",
    "import importlib\n",
    "import modeling_utils\n",
    "importlib.reload(modeling_utils) \n",
    "from eda_utils import calculate_psi, plot_distribution_plotly, calculate_woe_iv\n",
    "\n",
    "from sklearn.linear_model import LogisticRegression\n",
    "from xgboost import XGBClassifier\n",
    "from modeling_utils import optimize_hyperparameters\n",
    "from sklearn.metrics import precision_recall_curve, roc_auc_score, classification_report, f1_score, confusion_matrix, roc_curve, auc, precision_score, recall_score,  brier_score_loss\n",
    "import optuna\n",
    "from modeling_utils import plot_model_evaluation_summary\n",
    "from sklearn.calibration import calibration_curve, CalibrationDisplay, IsotonicRegression\n",
    "from sklearn.calibration import CalibratedClassifierCV\n",
    "from sklearn.model_selection import train_test_split\n",
    "\n",
    "from modeling_utils import generate_classification_report\n",
    "\n"
   ]
  },
  {
   "cell_type": "markdown",
   "id": "a10d2cbe",
   "metadata": {},
   "source": [
    "# Load data for modeling"
   ]
  },
  {
   "cell_type": "code",
   "execution_count": 7,
   "id": "28cab5e6",
   "metadata": {},
   "outputs": [
    {
     "data": {
      "text/html": [
       "<div>\n",
       "<style scoped>\n",
       "    .dataframe tbody tr th:only-of-type {\n",
       "        vertical-align: middle;\n",
       "    }\n",
       "\n",
       "    .dataframe tbody tr th {\n",
       "        vertical-align: top;\n",
       "    }\n",
       "\n",
       "    .dataframe thead th {\n",
       "        text-align: right;\n",
       "    }\n",
       "</style>\n",
       "<table border=\"1\" class=\"dataframe\">\n",
       "  <thead>\n",
       "    <tr style=\"text-align: right;\">\n",
       "      <th></th>\n",
       "      <th>id</th>\n",
       "      <th>d_vintage</th>\n",
       "      <th>funded_amnt</th>\n",
       "      <th>int_rate</th>\n",
       "      <th>sub_grade</th>\n",
       "      <th>home_ownership</th>\n",
       "      <th>annual_inc</th>\n",
       "      <th>verification_status</th>\n",
       "      <th>addr_state</th>\n",
       "      <th>dti</th>\n",
       "      <th>fico_range_high</th>\n",
       "      <th>all_util</th>\n",
       "      <th>inq_last_12m</th>\n",
       "      <th>acc_open_past_24mths</th>\n",
       "      <th>avg_cur_bal</th>\n",
       "      <th>bc_open_to_buy</th>\n",
       "      <th>mo_sin_old_rev_tl_op</th>\n",
       "      <th>mo_sin_rcnt_rev_tl_op</th>\n",
       "      <th>mo_sin_rcnt_tl</th>\n",
       "      <th>mort_acc</th>\n",
       "      <th>mths_since_recent_bc</th>\n",
       "      <th>mths_since_recent_inq</th>\n",
       "      <th>num_actv_rev_tl</th>\n",
       "      <th>emp_length_numeric</th>\n",
       "      <th>term_numeric</th>\n",
       "      <th>emp_title_final_grouped</th>\n",
       "      <th>title_grouped</th>\n",
       "      <th>region_median_income</th>\n",
       "      <th>loan_to_income_ratio</th>\n",
       "      <th>revolving_balance_to_income_ratio</th>\n",
       "      <th>credit_utilization_manual</th>\n",
       "      <th>open_acc_ratio</th>\n",
       "      <th>set</th>\n",
       "      <th>target</th>\n",
       "    </tr>\n",
       "  </thead>\n",
       "  <tbody>\n",
       "    <tr>\n",
       "      <th>0</th>\n",
       "      <td>68407277</td>\n",
       "      <td>2015-12-01</td>\n",
       "      <td>0.258841</td>\n",
       "      <td>-0.104389</td>\n",
       "      <td>-0.287373</td>\n",
       "      <td>0.160306</td>\n",
       "      <td>-0.086534</td>\n",
       "      <td>0.365801</td>\n",
       "      <td>-0.067006</td>\n",
       "      <td>0.403308</td>\n",
       "      <td>-0.217115</td>\n",
       "      <td>0.106942</td>\n",
       "      <td>-0.405376</td>\n",
       "      <td>0.024740</td>\n",
       "      <td>0.156173</td>\n",
       "      <td>-0.155903</td>\n",
       "      <td>-0.077618</td>\n",
       "      <td>-0.148191</td>\n",
       "      <td>-0.172215</td>\n",
       "      <td>-0.034501</td>\n",
       "      <td>-0.169441</td>\n",
       "      <td>-0.089716</td>\n",
       "      <td>0.084253</td>\n",
       "      <td>0.057010</td>\n",
       "      <td>0.310279</td>\n",
       "      <td>-0.020484</td>\n",
       "      <td>-0.007931</td>\n",
       "      <td>0.099562</td>\n",
       "      <td>0.457006</td>\n",
       "      <td>0.063355</td>\n",
       "      <td>0.023397</td>\n",
       "      <td>-0.007500</td>\n",
       "      <td>train</td>\n",
       "      <td>0.0</td>\n",
       "    </tr>\n",
       "    <tr>\n",
       "      <th>1</th>\n",
       "      <td>68355089</td>\n",
       "      <td>2015-12-01</td>\n",
       "      <td>-0.152670</td>\n",
       "      <td>0.229718</td>\n",
       "      <td>0.088483</td>\n",
       "      <td>0.160306</td>\n",
       "      <td>-0.030447</td>\n",
       "      <td>0.365801</td>\n",
       "      <td>-0.101768</td>\n",
       "      <td>0.107425</td>\n",
       "      <td>0.280817</td>\n",
       "      <td>0.106942</td>\n",
       "      <td>-0.405376</td>\n",
       "      <td>0.024740</td>\n",
       "      <td>-0.056093</td>\n",
       "      <td>0.630465</td>\n",
       "      <td>0.061496</td>\n",
       "      <td>-0.179923</td>\n",
       "      <td>-0.205649</td>\n",
       "      <td>0.238651</td>\n",
       "      <td>-0.252891</td>\n",
       "      <td>-0.260049</td>\n",
       "      <td>0.020176</td>\n",
       "      <td>0.057010</td>\n",
       "      <td>0.310279</td>\n",
       "      <td>0.172054</td>\n",
       "      <td>-0.081017</td>\n",
       "      <td>-0.075997</td>\n",
       "      <td>-0.478301</td>\n",
       "      <td>-0.066297</td>\n",
       "      <td>0.283653</td>\n",
       "      <td>-0.079388</td>\n",
       "      <td>train</td>\n",
       "      <td>0.0</td>\n",
       "    </tr>\n",
       "    <tr>\n",
       "      <th>2</th>\n",
       "      <td>68341763</td>\n",
       "      <td>2015-12-01</td>\n",
       "      <td>-0.152670</td>\n",
       "      <td>0.440679</td>\n",
       "      <td>0.355937</td>\n",
       "      <td>0.160306</td>\n",
       "      <td>-0.030447</td>\n",
       "      <td>0.365801</td>\n",
       "      <td>0.120678</td>\n",
       "      <td>0.282040</td>\n",
       "      <td>0.021937</td>\n",
       "      <td>-0.231529</td>\n",
       "      <td>-0.044784</td>\n",
       "      <td>-0.181297</td>\n",
       "      <td>0.378525</td>\n",
       "      <td>-0.139264</td>\n",
       "      <td>0.037777</td>\n",
       "      <td>0.025413</td>\n",
       "      <td>0.188066</td>\n",
       "      <td>0.238651</td>\n",
       "      <td>0.391569</td>\n",
       "      <td>0.047732</td>\n",
       "      <td>0.161126</td>\n",
       "      <td>0.057010</td>\n",
       "      <td>-0.721577</td>\n",
       "      <td>-0.313243</td>\n",
       "      <td>-0.081017</td>\n",
       "      <td>0.099562</td>\n",
       "      <td>-0.326559</td>\n",
       "      <td>0.111091</td>\n",
       "      <td>-0.045164</td>\n",
       "      <td>0.112083</td>\n",
       "      <td>train</td>\n",
       "      <td>0.0</td>\n",
       "    </tr>\n",
       "    <tr>\n",
       "      <th>3</th>\n",
       "      <td>68476807</td>\n",
       "      <td>2015-12-01</td>\n",
       "      <td>-0.052293</td>\n",
       "      <td>-1.109875</td>\n",
       "      <td>-1.167190</td>\n",
       "      <td>0.160306</td>\n",
       "      <td>0.262201</td>\n",
       "      <td>-0.078360</td>\n",
       "      <td>-0.067006</td>\n",
       "      <td>-0.164547</td>\n",
       "      <td>0.021937</td>\n",
       "      <td>-0.398292</td>\n",
       "      <td>-0.405376</td>\n",
       "      <td>-0.578527</td>\n",
       "      <td>0.378525</td>\n",
       "      <td>-0.075754</td>\n",
       "      <td>0.061496</td>\n",
       "      <td>-0.111674</td>\n",
       "      <td>-0.098426</td>\n",
       "      <td>0.350769</td>\n",
       "      <td>-0.169441</td>\n",
       "      <td>-0.260049</td>\n",
       "      <td>-0.044349</td>\n",
       "      <td>0.010116</td>\n",
       "      <td>-0.721577</td>\n",
       "      <td>-0.020484</td>\n",
       "      <td>-0.007931</td>\n",
       "      <td>-0.035045</td>\n",
       "      <td>0.387752</td>\n",
       "      <td>0.023428</td>\n",
       "      <td>-0.098688</td>\n",
       "      <td>0.112083</td>\n",
       "      <td>train</td>\n",
       "      <td>0.0</td>\n",
       "    </tr>\n",
       "    <tr>\n",
       "      <th>4</th>\n",
       "      <td>68426831</td>\n",
       "      <td>2015-12-01</td>\n",
       "      <td>-0.052293</td>\n",
       "      <td>-0.104389</td>\n",
       "      <td>-0.155127</td>\n",
       "      <td>-0.168686</td>\n",
       "      <td>-0.212208</td>\n",
       "      <td>-0.078360</td>\n",
       "      <td>0.094121</td>\n",
       "      <td>0.282040</td>\n",
       "      <td>-0.044342</td>\n",
       "      <td>-0.398292</td>\n",
       "      <td>-0.044784</td>\n",
       "      <td>0.456646</td>\n",
       "      <td>-0.176827</td>\n",
       "      <td>-0.194252</td>\n",
       "      <td>-0.392487</td>\n",
       "      <td>0.400004</td>\n",
       "      <td>0.495469</td>\n",
       "      <td>-0.189779</td>\n",
       "      <td>0.152740</td>\n",
       "      <td>0.000000</td>\n",
       "      <td>0.161126</td>\n",
       "      <td>0.010116</td>\n",
       "      <td>0.310279</td>\n",
       "      <td>-0.020484</td>\n",
       "      <td>-0.007931</td>\n",
       "      <td>0.054853</td>\n",
       "      <td>-0.478301</td>\n",
       "      <td>-0.032938</td>\n",
       "      <td>-0.127045</td>\n",
       "      <td>-0.226646</td>\n",
       "      <td>train</td>\n",
       "      <td>0.0</td>\n",
       "    </tr>\n",
       "    <tr>\n",
       "      <th>5</th>\n",
       "      <td>68476668</td>\n",
       "      <td>2015-12-01</td>\n",
       "      <td>-0.152670</td>\n",
       "      <td>0.736853</td>\n",
       "      <td>0.669339</td>\n",
       "      <td>0.160306</td>\n",
       "      <td>0.366531</td>\n",
       "      <td>0.365801</td>\n",
       "      <td>-0.014735</td>\n",
       "      <td>0.193799</td>\n",
       "      <td>-0.182636</td>\n",
       "      <td>-0.398292</td>\n",
       "      <td>-0.044784</td>\n",
       "      <td>-0.181297</td>\n",
       "      <td>0.378525</td>\n",
       "      <td>-0.347748</td>\n",
       "      <td>0.191351</td>\n",
       "      <td>0.001416</td>\n",
       "      <td>0.131069</td>\n",
       "      <td>0.238651</td>\n",
       "      <td>-0.076567</td>\n",
       "      <td>0.047732</td>\n",
       "      <td>-0.044349</td>\n",
       "      <td>0.057010</td>\n",
       "      <td>0.310279</td>\n",
       "      <td>0.012941</td>\n",
       "      <td>-0.007931</td>\n",
       "      <td>0.054853</td>\n",
       "      <td>0.387752</td>\n",
       "      <td>-0.141886</td>\n",
       "      <td>-0.339684</td>\n",
       "      <td>0.037363</td>\n",
       "      <td>train</td>\n",
       "      <td>0.0</td>\n",
       "    </tr>\n",
       "    <tr>\n",
       "      <th>6</th>\n",
       "      <td>67275481</td>\n",
       "      <td>2015-12-01</td>\n",
       "      <td>-0.152670</td>\n",
       "      <td>0.736853</td>\n",
       "      <td>0.769896</td>\n",
       "      <td>0.160306</td>\n",
       "      <td>0.072425</td>\n",
       "      <td>0.365801</td>\n",
       "      <td>0.255807</td>\n",
       "      <td>0.059621</td>\n",
       "      <td>0.123391</td>\n",
       "      <td>-0.231529</td>\n",
       "      <td>-0.044784</td>\n",
       "      <td>0.024740</td>\n",
       "      <td>0.109081</td>\n",
       "      <td>0.184215</td>\n",
       "      <td>-0.392487</td>\n",
       "      <td>0.400004</td>\n",
       "      <td>0.188066</td>\n",
       "      <td>0.169388</td>\n",
       "      <td>0.152740</td>\n",
       "      <td>0.047732</td>\n",
       "      <td>0.237851</td>\n",
       "      <td>0.057010</td>\n",
       "      <td>0.310279</td>\n",
       "      <td>-0.313243</td>\n",
       "      <td>-0.007931</td>\n",
       "      <td>-0.127956</td>\n",
       "      <td>-0.024098</td>\n",
       "      <td>0.043867</td>\n",
       "      <td>0.290291</td>\n",
       "      <td>-0.007500</td>\n",
       "      <td>train</td>\n",
       "      <td>0.0</td>\n",
       "    </tr>\n",
       "    <tr>\n",
       "      <th>7</th>\n",
       "      <td>68466926</td>\n",
       "      <td>2015-12-01</td>\n",
       "      <td>0.107043</td>\n",
       "      <td>1.752382</td>\n",
       "      <td>1.801500</td>\n",
       "      <td>-0.168686</td>\n",
       "      <td>0.072425</td>\n",
       "      <td>0.365801</td>\n",
       "      <td>-0.067006</td>\n",
       "      <td>0.193799</td>\n",
       "      <td>-0.084299</td>\n",
       "      <td>0.106942</td>\n",
       "      <td>-0.044784</td>\n",
       "      <td>-0.264431</td>\n",
       "      <td>-0.176827</td>\n",
       "      <td>0.040141</td>\n",
       "      <td>-0.077618</td>\n",
       "      <td>-0.283219</td>\n",
       "      <td>-0.285198</td>\n",
       "      <td>-0.034501</td>\n",
       "      <td>-0.169441</td>\n",
       "      <td>-0.260049</td>\n",
       "      <td>-0.215452</td>\n",
       "      <td>0.010116</td>\n",
       "      <td>0.310279</td>\n",
       "      <td>0.012941</td>\n",
       "      <td>-0.007931</td>\n",
       "      <td>-0.035045</td>\n",
       "      <td>0.360100</td>\n",
       "      <td>0.111091</td>\n",
       "      <td>0.087131</td>\n",
       "      <td>-0.079388</td>\n",
       "      <td>train</td>\n",
       "      <td>0.0</td>\n",
       "    </tr>\n",
       "    <tr>\n",
       "      <th>8</th>\n",
       "      <td>68616873</td>\n",
       "      <td>2015-12-01</td>\n",
       "      <td>0.206653</td>\n",
       "      <td>0.229718</td>\n",
       "      <td>0.239685</td>\n",
       "      <td>0.160306</td>\n",
       "      <td>-0.155503</td>\n",
       "      <td>0.365801</td>\n",
       "      <td>0.120678</td>\n",
       "      <td>-0.534175</td>\n",
       "      <td>0.123391</td>\n",
       "      <td>0.106942</td>\n",
       "      <td>-0.044784</td>\n",
       "      <td>-0.079886</td>\n",
       "      <td>0.378525</td>\n",
       "      <td>0.099580</td>\n",
       "      <td>0.137563</td>\n",
       "      <td>0.025413</td>\n",
       "      <td>0.131069</td>\n",
       "      <td>-0.034501</td>\n",
       "      <td>0.184122</td>\n",
       "      <td>0.047732</td>\n",
       "      <td>0.161126</td>\n",
       "      <td>0.057010</td>\n",
       "      <td>0.310279</td>\n",
       "      <td>-0.020484</td>\n",
       "      <td>-0.007931</td>\n",
       "      <td>-0.035045</td>\n",
       "      <td>0.168854</td>\n",
       "      <td>0.059959</td>\n",
       "      <td>0.187460</td>\n",
       "      <td>0.037363</td>\n",
       "      <td>train</td>\n",
       "      <td>0.0</td>\n",
       "    </tr>\n",
       "    <tr>\n",
       "      <th>9</th>\n",
       "      <td>68338832</td>\n",
       "      <td>2015-12-01</td>\n",
       "      <td>0.341164</td>\n",
       "      <td>0.055929</td>\n",
       "      <td>-0.039680</td>\n",
       "      <td>0.160306</td>\n",
       "      <td>-0.030447</td>\n",
       "      <td>0.365801</td>\n",
       "      <td>-0.059460</td>\n",
       "      <td>-0.534175</td>\n",
       "      <td>0.123391</td>\n",
       "      <td>-0.231529</td>\n",
       "      <td>-0.044784</td>\n",
       "      <td>0.024740</td>\n",
       "      <td>0.156173</td>\n",
       "      <td>0.040141</td>\n",
       "      <td>0.137563</td>\n",
       "      <td>0.119783</td>\n",
       "      <td>-0.205649</td>\n",
       "      <td>0.238651</td>\n",
       "      <td>0.069577</td>\n",
       "      <td>0.231346</td>\n",
       "      <td>-0.374405</td>\n",
       "      <td>0.010116</td>\n",
       "      <td>0.310279</td>\n",
       "      <td>-0.313243</td>\n",
       "      <td>-0.081017</td>\n",
       "      <td>-0.035045</td>\n",
       "      <td>0.586774</td>\n",
       "      <td>-0.141886</td>\n",
       "      <td>-0.098688</td>\n",
       "      <td>-0.181678</td>\n",
       "      <td>train</td>\n",
       "      <td>0.0</td>\n",
       "    </tr>\n",
       "  </tbody>\n",
       "</table>\n",
       "</div>"
      ],
      "text/plain": [
       "         id   d_vintage  funded_amnt  int_rate  sub_grade  home_ownership  \\\n",
       "0  68407277  2015-12-01     0.258841 -0.104389  -0.287373        0.160306   \n",
       "1  68355089  2015-12-01    -0.152670  0.229718   0.088483        0.160306   \n",
       "2  68341763  2015-12-01    -0.152670  0.440679   0.355937        0.160306   \n",
       "3  68476807  2015-12-01    -0.052293 -1.109875  -1.167190        0.160306   \n",
       "4  68426831  2015-12-01    -0.052293 -0.104389  -0.155127       -0.168686   \n",
       "5  68476668  2015-12-01    -0.152670  0.736853   0.669339        0.160306   \n",
       "6  67275481  2015-12-01    -0.152670  0.736853   0.769896        0.160306   \n",
       "7  68466926  2015-12-01     0.107043  1.752382   1.801500       -0.168686   \n",
       "8  68616873  2015-12-01     0.206653  0.229718   0.239685        0.160306   \n",
       "9  68338832  2015-12-01     0.341164  0.055929  -0.039680        0.160306   \n",
       "\n",
       "   annual_inc  verification_status  addr_state       dti  fico_range_high  \\\n",
       "0   -0.086534             0.365801   -0.067006  0.403308        -0.217115   \n",
       "1   -0.030447             0.365801   -0.101768  0.107425         0.280817   \n",
       "2   -0.030447             0.365801    0.120678  0.282040         0.021937   \n",
       "3    0.262201            -0.078360   -0.067006 -0.164547         0.021937   \n",
       "4   -0.212208            -0.078360    0.094121  0.282040        -0.044342   \n",
       "5    0.366531             0.365801   -0.014735  0.193799        -0.182636   \n",
       "6    0.072425             0.365801    0.255807  0.059621         0.123391   \n",
       "7    0.072425             0.365801   -0.067006  0.193799        -0.084299   \n",
       "8   -0.155503             0.365801    0.120678 -0.534175         0.123391   \n",
       "9   -0.030447             0.365801   -0.059460 -0.534175         0.123391   \n",
       "\n",
       "   all_util  inq_last_12m  acc_open_past_24mths  avg_cur_bal  bc_open_to_buy  \\\n",
       "0  0.106942     -0.405376              0.024740     0.156173       -0.155903   \n",
       "1  0.106942     -0.405376              0.024740    -0.056093        0.630465   \n",
       "2 -0.231529     -0.044784             -0.181297     0.378525       -0.139264   \n",
       "3 -0.398292     -0.405376             -0.578527     0.378525       -0.075754   \n",
       "4 -0.398292     -0.044784              0.456646    -0.176827       -0.194252   \n",
       "5 -0.398292     -0.044784             -0.181297     0.378525       -0.347748   \n",
       "6 -0.231529     -0.044784              0.024740     0.109081        0.184215   \n",
       "7  0.106942     -0.044784             -0.264431    -0.176827        0.040141   \n",
       "8  0.106942     -0.044784             -0.079886     0.378525        0.099580   \n",
       "9 -0.231529     -0.044784              0.024740     0.156173        0.040141   \n",
       "\n",
       "   mo_sin_old_rev_tl_op  mo_sin_rcnt_rev_tl_op  mo_sin_rcnt_tl  mort_acc  \\\n",
       "0             -0.077618              -0.148191       -0.172215 -0.034501   \n",
       "1              0.061496              -0.179923       -0.205649  0.238651   \n",
       "2              0.037777               0.025413        0.188066  0.238651   \n",
       "3              0.061496              -0.111674       -0.098426  0.350769   \n",
       "4             -0.392487               0.400004        0.495469 -0.189779   \n",
       "5              0.191351               0.001416        0.131069  0.238651   \n",
       "6             -0.392487               0.400004        0.188066  0.169388   \n",
       "7             -0.077618              -0.283219       -0.285198 -0.034501   \n",
       "8              0.137563               0.025413        0.131069 -0.034501   \n",
       "9              0.137563               0.119783       -0.205649  0.238651   \n",
       "\n",
       "   mths_since_recent_bc  mths_since_recent_inq  num_actv_rev_tl  \\\n",
       "0             -0.169441              -0.089716         0.084253   \n",
       "1             -0.252891              -0.260049         0.020176   \n",
       "2              0.391569               0.047732         0.161126   \n",
       "3             -0.169441              -0.260049        -0.044349   \n",
       "4              0.152740               0.000000         0.161126   \n",
       "5             -0.076567               0.047732        -0.044349   \n",
       "6              0.152740               0.047732         0.237851   \n",
       "7             -0.169441              -0.260049        -0.215452   \n",
       "8              0.184122               0.047732         0.161126   \n",
       "9              0.069577               0.231346        -0.374405   \n",
       "\n",
       "   emp_length_numeric  term_numeric  emp_title_final_grouped  title_grouped  \\\n",
       "0            0.057010      0.310279                -0.020484      -0.007931   \n",
       "1            0.057010      0.310279                 0.172054      -0.081017   \n",
       "2            0.057010     -0.721577                -0.313243      -0.081017   \n",
       "3            0.010116     -0.721577                -0.020484      -0.007931   \n",
       "4            0.010116      0.310279                -0.020484      -0.007931   \n",
       "5            0.057010      0.310279                 0.012941      -0.007931   \n",
       "6            0.057010      0.310279                -0.313243      -0.007931   \n",
       "7            0.010116      0.310279                 0.012941      -0.007931   \n",
       "8            0.057010      0.310279                -0.020484      -0.007931   \n",
       "9            0.010116      0.310279                -0.313243      -0.081017   \n",
       "\n",
       "   region_median_income  loan_to_income_ratio  \\\n",
       "0              0.099562              0.457006   \n",
       "1             -0.075997             -0.478301   \n",
       "2              0.099562             -0.326559   \n",
       "3             -0.035045              0.387752   \n",
       "4              0.054853             -0.478301   \n",
       "5              0.054853              0.387752   \n",
       "6             -0.127956             -0.024098   \n",
       "7             -0.035045              0.360100   \n",
       "8             -0.035045              0.168854   \n",
       "9             -0.035045              0.586774   \n",
       "\n",
       "   revolving_balance_to_income_ratio  credit_utilization_manual  \\\n",
       "0                           0.063355                   0.023397   \n",
       "1                          -0.066297                   0.283653   \n",
       "2                           0.111091                  -0.045164   \n",
       "3                           0.023428                  -0.098688   \n",
       "4                          -0.032938                  -0.127045   \n",
       "5                          -0.141886                  -0.339684   \n",
       "6                           0.043867                   0.290291   \n",
       "7                           0.111091                   0.087131   \n",
       "8                           0.059959                   0.187460   \n",
       "9                          -0.141886                  -0.098688   \n",
       "\n",
       "   open_acc_ratio    set  target  \n",
       "0       -0.007500  train     0.0  \n",
       "1       -0.079388  train     0.0  \n",
       "2        0.112083  train     0.0  \n",
       "3        0.112083  train     0.0  \n",
       "4       -0.226646  train     0.0  \n",
       "5        0.037363  train     0.0  \n",
       "6       -0.007500  train     0.0  \n",
       "7       -0.079388  train     0.0  \n",
       "8        0.037363  train     0.0  \n",
       "9       -0.181678  train     0.0  "
      ]
     },
     "execution_count": 7,
     "metadata": {},
     "output_type": "execute_result"
    }
   ],
   "source": [
    "df_model = pd.read_csv('df_total_woe.csv')\n",
    "\n",
    "\n",
    "df_model.head(10)"
   ]
  },
  {
   "cell_type": "markdown",
   "id": "1155d7ad",
   "metadata": {},
   "source": [
    "# Data Splitting "
   ]
  },
  {
   "cell_type": "code",
   "execution_count": 8,
   "id": "534e2ec7",
   "metadata": {},
   "outputs": [
    {
     "name": "stdout",
     "output_type": "stream",
     "text": [
      "Training data dimension (1004232, 30) (1004232, 1)\n",
      "Test data dimension (343827, 30) (343827, 1)\n"
     ]
    }
   ],
   "source": [
    "X_train_i = df_model[df_model['set']=='train'].drop(['target', 'set'], axis=1).set_index(['id',\t'd_vintage'])\n",
    "y_train_i = df_model[df_model['set']=='train'].set_index(['id',\t'd_vintage'])[['target']]\n",
    "\n",
    "\n",
    "X_test = df_model[df_model['set']=='test'].drop(['target', 'set'], axis=1).set_index(['id',\t'd_vintage'])\n",
    "y_test = df_model[df_model['set']=='test'].set_index(['id',\t'd_vintage'])[['target']]\n",
    "\n",
    "print('Training data dimension', X_train_i.shape, y_train_i.shape)\n",
    "print('Test data dimension', X_test.shape, y_test.shape)"
   ]
  },
  {
   "cell_type": "markdown",
   "id": "2e3f2b99",
   "metadata": {},
   "source": [
    "# Training a Logistic Regession"
   ]
  },
  {
   "cell_type": "markdown",
   "id": "38ffd5c4",
   "metadata": {},
   "source": [
    "### Assumptions"
   ]
  },
  {
   "cell_type": "markdown",
   "id": "9dbbc744",
   "metadata": {},
   "source": [
    "\n",
    "Assumptions of Logistic Regression\n",
    "* Binary Dependent Variable:\n",
    "Assumption: The target variable (target) must be binary (consisting of two categories).\n",
    "Our Case: Met. Our target variable is 0 (no default) or 1 (default).\n",
    "\n",
    "\n",
    "* Independence of Observations:\n",
    "Assumption: The observations (each loan) must be independent of each other.\n",
    "Our Case: Met. The Lending Club dataset consists of individual loans that do not influence one another, so this assumption is satisfied by the data collection design.\n",
    "\n",
    "\n",
    "* Linearity in the Logit:\n",
    "Assumption: There must be a linear relationship between each predictor variable and the log-odds of the target variable.\n",
    "Our Case: Met, thanks to WoE! This is the primary reason why the Weight of Evidence (WoE) transformation is so powerful and standard in the industry. WoE is calculated as ln(distribution of non-events / distribution of events). By replacing the original categories with their WoE values, we are explicitly engineering a linear relationship with the log-odds of the target. You do not need to perform any additional tests for this; it is an inherent property of the transformation you have already applied.\n",
    "\n",
    "\n",
    "* Absence of Perfect Multicollinearity:\n",
    "Assumption: The predictor variables should not be perfectly correlated with each other. High multicollinearity (even if not perfect) can inflate the variance of the coefficients, making them unstable and difficult to interpret.\n",
    "Our Case: This needs to be checked. Although your Mutual Information analysis helped eliminate redundancy among the original categorical variables, it is a best practice to check for multicollinearity in the final set of numerical (WoE-transformed) variables. The best way to do this is by calculating the Variance Inflation Factor (VIF)."
   ]
  },
  {
   "cell_type": "code",
   "execution_count": 130,
   "id": "802e9ac9",
   "metadata": {},
   "outputs": [
    {
     "name": "stdout",
     "output_type": "stream",
     "text": [
      "Checking for multicollinearity in the training data using VIF...\n",
      "Variance Inflation Factor (VIF) Analysis:\n",
      "--------------------------------------------------\n",
      "                              feature        VIF\n",
      "0                           sub_grade  27.490839\n",
      "1                            int_rate  26.158508\n",
      "2                         funded_amnt   4.780430\n",
      "3                loan_to_income_ratio   4.659414\n",
      "4                          annual_inc   3.824285\n",
      "5                      bc_open_to_buy   3.277507\n",
      "6           credit_utilization_manual   2.981093\n",
      "7               mo_sin_rcnt_rev_tl_op   2.833976\n",
      "8                      mo_sin_rcnt_tl   2.303147\n",
      "9                            mort_acc   2.066962\n",
      "10                        avg_cur_bal   1.969094\n",
      "11               mths_since_recent_bc   1.851410\n",
      "12               acc_open_past_24mths   1.824716\n",
      "13                    fico_range_high   1.812610\n",
      "14                    num_actv_rev_tl   1.791447\n",
      "15  revolving_balance_to_income_ratio   1.768194\n",
      "16                     home_ownership   1.757124\n",
      "17                       term_numeric   1.590645\n",
      "18                     open_acc_ratio   1.438953\n",
      "19                                dti   1.422032\n",
      "20               mo_sin_old_rev_tl_op   1.395587\n",
      "21                       inq_last_12m   1.373012\n",
      "22                           all_util   1.328490\n",
      "23              mths_since_recent_inq   1.201521\n",
      "24               region_median_income   1.166456\n",
      "25                 emp_length_numeric   1.164480\n",
      "26                verification_status   1.137947\n",
      "27                         addr_state   1.067364\n",
      "28            emp_title_final_grouped   1.027126\n",
      "29                      title_grouped   1.023327\n",
      "--------------------------------------------------\n",
      "\n",
      "Warning: The following features have a VIF > 5, indicating potential multicollinearity:\n",
      "['sub_grade', 'int_rate']\n"
     ]
    }
   ],
   "source": [
    "\n",
    "print(\"Checking for multicollinearity in the training data using VIF...\")\n",
    "\n",
    "\n",
    "vif_df = modeling_utils.check_multicollinearity_vif(X_train_i)"
   ]
  },
  {
   "cell_type": "code",
   "execution_count": 117,
   "id": "cb7b539c",
   "metadata": {},
   "outputs": [
    {
     "data": {
      "text/html": [
       "<div>\n",
       "<style scoped>\n",
       "    .dataframe tbody tr th:only-of-type {\n",
       "        vertical-align: middle;\n",
       "    }\n",
       "\n",
       "    .dataframe tbody tr th {\n",
       "        vertical-align: top;\n",
       "    }\n",
       "\n",
       "    .dataframe thead th {\n",
       "        text-align: right;\n",
       "    }\n",
       "</style>\n",
       "<table border=\"1\" class=\"dataframe\">\n",
       "  <thead>\n",
       "    <tr style=\"text-align: right;\">\n",
       "      <th></th>\n",
       "      <th>feature</th>\n",
       "      <th>VIF</th>\n",
       "    </tr>\n",
       "  </thead>\n",
       "  <tbody>\n",
       "    <tr>\n",
       "      <th>0</th>\n",
       "      <td>sub_grade</td>\n",
       "      <td>27.490839</td>\n",
       "    </tr>\n",
       "    <tr>\n",
       "      <th>1</th>\n",
       "      <td>int_rate</td>\n",
       "      <td>26.158508</td>\n",
       "    </tr>\n",
       "    <tr>\n",
       "      <th>2</th>\n",
       "      <td>funded_amnt</td>\n",
       "      <td>4.780430</td>\n",
       "    </tr>\n",
       "    <tr>\n",
       "      <th>3</th>\n",
       "      <td>loan_to_income_ratio</td>\n",
       "      <td>4.659414</td>\n",
       "    </tr>\n",
       "    <tr>\n",
       "      <th>4</th>\n",
       "      <td>annual_inc</td>\n",
       "      <td>3.824285</td>\n",
       "    </tr>\n",
       "    <tr>\n",
       "      <th>5</th>\n",
       "      <td>bc_open_to_buy</td>\n",
       "      <td>3.277507</td>\n",
       "    </tr>\n",
       "    <tr>\n",
       "      <th>6</th>\n",
       "      <td>credit_utilization_manual</td>\n",
       "      <td>2.981093</td>\n",
       "    </tr>\n",
       "    <tr>\n",
       "      <th>7</th>\n",
       "      <td>mo_sin_rcnt_rev_tl_op</td>\n",
       "      <td>2.833976</td>\n",
       "    </tr>\n",
       "    <tr>\n",
       "      <th>8</th>\n",
       "      <td>mo_sin_rcnt_tl</td>\n",
       "      <td>2.303147</td>\n",
       "    </tr>\n",
       "    <tr>\n",
       "      <th>9</th>\n",
       "      <td>mort_acc</td>\n",
       "      <td>2.066962</td>\n",
       "    </tr>\n",
       "    <tr>\n",
       "      <th>10</th>\n",
       "      <td>avg_cur_bal</td>\n",
       "      <td>1.969094</td>\n",
       "    </tr>\n",
       "    <tr>\n",
       "      <th>11</th>\n",
       "      <td>mths_since_recent_bc</td>\n",
       "      <td>1.851410</td>\n",
       "    </tr>\n",
       "    <tr>\n",
       "      <th>12</th>\n",
       "      <td>acc_open_past_24mths</td>\n",
       "      <td>1.824716</td>\n",
       "    </tr>\n",
       "    <tr>\n",
       "      <th>13</th>\n",
       "      <td>fico_range_high</td>\n",
       "      <td>1.812610</td>\n",
       "    </tr>\n",
       "    <tr>\n",
       "      <th>14</th>\n",
       "      <td>num_actv_rev_tl</td>\n",
       "      <td>1.791447</td>\n",
       "    </tr>\n",
       "    <tr>\n",
       "      <th>15</th>\n",
       "      <td>revolving_balance_to_income_ratio</td>\n",
       "      <td>1.768194</td>\n",
       "    </tr>\n",
       "    <tr>\n",
       "      <th>16</th>\n",
       "      <td>home_ownership</td>\n",
       "      <td>1.757124</td>\n",
       "    </tr>\n",
       "    <tr>\n",
       "      <th>17</th>\n",
       "      <td>term_numeric</td>\n",
       "      <td>1.590645</td>\n",
       "    </tr>\n",
       "    <tr>\n",
       "      <th>18</th>\n",
       "      <td>open_acc_ratio</td>\n",
       "      <td>1.438953</td>\n",
       "    </tr>\n",
       "    <tr>\n",
       "      <th>19</th>\n",
       "      <td>dti</td>\n",
       "      <td>1.422032</td>\n",
       "    </tr>\n",
       "    <tr>\n",
       "      <th>20</th>\n",
       "      <td>mo_sin_old_rev_tl_op</td>\n",
       "      <td>1.395587</td>\n",
       "    </tr>\n",
       "    <tr>\n",
       "      <th>21</th>\n",
       "      <td>inq_last_12m</td>\n",
       "      <td>1.373012</td>\n",
       "    </tr>\n",
       "    <tr>\n",
       "      <th>22</th>\n",
       "      <td>all_util</td>\n",
       "      <td>1.328490</td>\n",
       "    </tr>\n",
       "    <tr>\n",
       "      <th>23</th>\n",
       "      <td>mths_since_recent_inq</td>\n",
       "      <td>1.201521</td>\n",
       "    </tr>\n",
       "    <tr>\n",
       "      <th>24</th>\n",
       "      <td>region_median_income</td>\n",
       "      <td>1.166456</td>\n",
       "    </tr>\n",
       "    <tr>\n",
       "      <th>25</th>\n",
       "      <td>emp_length_numeric</td>\n",
       "      <td>1.164480</td>\n",
       "    </tr>\n",
       "    <tr>\n",
       "      <th>26</th>\n",
       "      <td>verification_status</td>\n",
       "      <td>1.137947</td>\n",
       "    </tr>\n",
       "    <tr>\n",
       "      <th>27</th>\n",
       "      <td>addr_state</td>\n",
       "      <td>1.067364</td>\n",
       "    </tr>\n",
       "    <tr>\n",
       "      <th>28</th>\n",
       "      <td>emp_title_final_grouped</td>\n",
       "      <td>1.027126</td>\n",
       "    </tr>\n",
       "    <tr>\n",
       "      <th>29</th>\n",
       "      <td>title_grouped</td>\n",
       "      <td>1.023327</td>\n",
       "    </tr>\n",
       "  </tbody>\n",
       "</table>\n",
       "</div>"
      ],
      "text/plain": [
       "                              feature        VIF\n",
       "0                           sub_grade  27.490839\n",
       "1                            int_rate  26.158508\n",
       "2                         funded_amnt   4.780430\n",
       "3                loan_to_income_ratio   4.659414\n",
       "4                          annual_inc   3.824285\n",
       "5                      bc_open_to_buy   3.277507\n",
       "6           credit_utilization_manual   2.981093\n",
       "7               mo_sin_rcnt_rev_tl_op   2.833976\n",
       "8                      mo_sin_rcnt_tl   2.303147\n",
       "9                            mort_acc   2.066962\n",
       "10                        avg_cur_bal   1.969094\n",
       "11               mths_since_recent_bc   1.851410\n",
       "12               acc_open_past_24mths   1.824716\n",
       "13                    fico_range_high   1.812610\n",
       "14                    num_actv_rev_tl   1.791447\n",
       "15  revolving_balance_to_income_ratio   1.768194\n",
       "16                     home_ownership   1.757124\n",
       "17                       term_numeric   1.590645\n",
       "18                     open_acc_ratio   1.438953\n",
       "19                                dti   1.422032\n",
       "20               mo_sin_old_rev_tl_op   1.395587\n",
       "21                       inq_last_12m   1.373012\n",
       "22                           all_util   1.328490\n",
       "23              mths_since_recent_inq   1.201521\n",
       "24               region_median_income   1.166456\n",
       "25                 emp_length_numeric   1.164480\n",
       "26                verification_status   1.137947\n",
       "27                         addr_state   1.067364\n",
       "28            emp_title_final_grouped   1.027126\n",
       "29                      title_grouped   1.023327"
      ]
     },
     "execution_count": 117,
     "metadata": {},
     "output_type": "execute_result"
    }
   ],
   "source": [
    "vif_df.head(50)"
   ]
  },
  {
   "cell_type": "code",
   "execution_count": 57,
   "id": "79f77d5b",
   "metadata": {},
   "outputs": [
    {
     "name": "stdout",
     "output_type": "stream",
     "text": [
      "Top 15 most correlated feature pairs:\n",
      "mo_sin_rcnt_tl         mo_sin_rcnt_rev_tl_op                0.701717\n",
      "bc_open_to_buy         credit_utilization_manual            0.691929\n",
      "mths_since_recent_bc   mo_sin_rcnt_rev_tl_op                0.637690\n",
      "home_ownership         mort_acc                             0.571540\n",
      "avg_cur_bal            mort_acc                             0.560675\n",
      "mo_sin_rcnt_tl         acc_open_past_24mths                 0.530725\n",
      "home_ownership         avg_cur_bal                          0.522794\n",
      "mo_sin_rcnt_rev_tl_op  acc_open_past_24mths                 0.511735\n",
      "bc_open_to_buy         fico_range_high                      0.500238\n",
      "mo_sin_rcnt_tl         mths_since_recent_bc                 0.446201\n",
      "mths_since_recent_bc   acc_open_past_24mths                 0.445578\n",
      "fico_range_high        credit_utilization_manual            0.443583\n",
      "inq_last_12m           all_util                             0.391957\n",
      "open_acc_ratio         mort_acc                             0.366618\n",
      "loan_to_income_ratio   revolving_balance_to_income_ratio    0.360349\n",
      "dtype: float64\n"
     ]
    }
   ],
   "source": [
    "\n",
    "X_train_i_aux = X_train_i.drop(['sub_grade', 'int_rate', 'funded_amnt', 'term_numeric', 'verification_status', 'annual_inc'], axis=1)\n",
    "\n",
    "\n",
    "df_to_correlate = X_train_i_aux.select_dtypes(include=['float64', 'int64'])\n",
    "\n",
    "\n",
    "correlation_matrix = df_to_correlate.corr().abs()\n",
    "\n",
    "\n",
    "correlation_pairs = correlation_matrix.unstack()\n",
    "\n",
    "\n",
    "sorted_pairs = correlation_pairs.sort_values(ascending=False)\n",
    "\n",
    "unique_correlation_pairs = sorted_pairs[sorted_pairs < 1].drop_duplicates()\n",
    "\n",
    "print(\"Top 15 most correlated feature pairs:\")\n",
    "print(unique_correlation_pairs.head(15))\n"
   ]
  },
  {
   "cell_type": "markdown",
   "id": "75b07dcc",
   "metadata": {},
   "source": [
    "### Dropping the feature and creating a calibrating set"
   ]
  },
  {
   "cell_type": "code",
   "execution_count": 9,
   "id": "a3e9918e",
   "metadata": {},
   "outputs": [],
   "source": [
    "X_train_i = X_train_i.drop(['sub_grade','credit_utilization_manual', 'revolving_balance_to_income_ratio', 'mo_sin_rcnt_rev_tl_op','int_rate', 'funded_amnt', 'term_numeric', 'verification_status', 'annual_inc'] , axis=1)\n",
    "\n",
    "X_test = X_test.drop(['sub_grade', 'credit_utilization_manual', 'revolving_balance_to_income_ratio', 'mo_sin_rcnt_rev_tl_op', 'int_rate', 'funded_amnt', 'term_numeric', 'verification_status', 'annual_inc'], axis=1)\n",
    "\n",
    "\n",
    "X_train, X_calib, y_train, y_calib = train_test_split(\n",
    "    X_train_i, y_train_i,\n",
    "    test_size=0.3,      \n",
    "    random_state=42,\n",
    "    stratify=y_train_i \n",
    ")"
   ]
  },
  {
   "cell_type": "markdown",
   "id": "599ccfd7",
   "metadata": {},
   "source": [
    "## Training LR"
   ]
  },
  {
   "cell_type": "code",
   "execution_count": null,
   "id": "93ea9134",
   "metadata": {},
   "outputs": [],
   "source": [
    "def logistic_param_grid(trial):\n",
    "    \"\"\"\n",
    "    Define the hyperparameter search space for Logistic Regression,\n",
    "    including support for l1, l2, and elasticnet penalties.\n",
    "    \"\"\"\n",
    "    \n",
    "    # 1. Suggest a weight for the minority class (class 1)\n",
    "    weight_for_one = trial.suggest_float('class_weight_one', 1.0, 50.0)\n",
    "    \n",
    "    # 2. Suggest the penalty type first, as it determines other parameters\n",
    "    penalty = trial.suggest_categorical('penalty', ['l1', 'l2', 'elasticnet'])\n",
    "    \n",
    "    # 3. Define solver and other parameters based on the chosen penalty\n",
    "    if penalty == 'elasticnet':\n",
    "        solver = 'saga'  # 'elasticnet' is only supported by the 'saga' solver\n",
    "        # The l1_ratio parameter is only used when penalty is 'elasticnet'\n",
    "        l1_ratio = trial.suggest_float('l1_ratio', 0.0, 1.0)\n",
    "    else:\n",
    "        # 'liblinear' is a good choice for l1 and l2 as it's often faster for smaller datasets\n",
    "        solver = 'liblinear'\n",
    "        l1_ratio = None # Not used for l1/l2\n",
    "\n",
    "    # 4. Construct the final hyperparameter grid\n",
    "    param_grid = {\n",
    "        'C': trial.suggest_float('C', 1e-3, 1e2, log=True),\n",
    "        'penalty': penalty,\n",
    "        'solver': solver,\n",
    "        'class_weight': {0: 1, 1: weight_for_one},\n",
    "        'random_state': 42\n",
    "    }\n",
    "\n",
    "    # Add l1_ratio to the grid only if it's relevant\n",
    "    if l1_ratio is not None:\n",
    "        param_grid['l1_ratio'] = l1_ratio\n",
    "        \n",
    "    return param_grid\n",
    "\n",
    "    \n",
    "\n",
    "print(\"Initiating Logistic Regression optimization...\")\n",
    "best_logistic_params = optimize_hyperparameters(\n",
    "    X=X_train, \n",
    "    y=y_train,\n",
    "    model_class=LogisticRegression,\n",
    "    param_grid=logistic_param_grid,\n",
    "    n_trials=50  \n",
    ")"
   ]
  },
  {
   "cell_type": "markdown",
   "id": "5ab1357f",
   "metadata": {},
   "source": [
    "### Evaluating the results"
   ]
  },
  {
   "cell_type": "code",
   "execution_count": 17,
   "id": "f40bde65",
   "metadata": {},
   "outputs": [
    {
     "name": "stdout",
     "output_type": "stream",
     "text": [
      "Final Logistic Regression model trained\n",
      "\n",
      "--- Performance Outcomes ---\n",
      "AUC on the Training Set: 0.6818\n",
      "AUC on the Test Set: 0.6765\n",
      "Difference (Train - Test): 0.0053\n",
      "The model seems to generalize well. The difference is acceptable\n"
     ]
    }
   ],
   "source": [
    "best_logistic_params = {\n",
    "    'C': 0.0445,\n",
    "    'penalty': 'l1',\n",
    "    'solver': 'liblinear',\n",
    "    'class_weight': {0: 1, 1: 1.445},  # Corregido a formato de diccionario\n",
    "    'random_state': 42\n",
    "}\n",
    "\n",
    "final_logistic_model = LogisticRegression(**best_logistic_params)\n",
    "\n",
    "\n",
    "y_train_flat = y_train.values.ravel()\n",
    "\n",
    "final_logistic_model.fit(X_train, y_train_flat)\n",
    "\n",
    "print(\"Final Logistic Regression model trained\")\n",
    "\n",
    "\n",
    "y_pred_train_proba = final_logistic_model.predict_proba(X_train)[:, 1]\n",
    "y_pred_test_proba = final_logistic_model.predict_proba(X_test)[:, 1]\n",
    "\n",
    "\n",
    "auc_train = roc_auc_score(y_train.values.ravel(), y_pred_train_proba)\n",
    "auc_test = roc_auc_score(y_test.values.ravel(), y_pred_test_proba)\n",
    "\n",
    "print(f\"\\n--- Performance Outcomes ---\")\n",
    "print(f\"AUC on the Training Set: {auc_train:.4f}\")\n",
    "print(f\"AUC on the Test Set: {auc_test:.4f}\")\n",
    "\n",
    "# --- Comprobación de sobreajuste ---\n",
    "overfitting_diff = auc_train - auc_test\n",
    "print(f\"Difference (Train - Test): {overfitting_diff:.4f}\")\n",
    "if overfitting_diff > 0.05:\n",
    "    print(\"Warning: Possible overfitting. The difference between Train and Test is greater than 0.05.\")\n",
    "else:\n",
    "    print(\"The model seems to generalize well. The difference is acceptable\")"
   ]
  },
  {
   "cell_type": "code",
   "execution_count": 10,
   "id": "eba13a00",
   "metadata": {},
   "outputs": [
    {
     "data": {
      "text/plain": [
       "Index(['home_ownership', 'addr_state', 'dti', 'fico_range_high', 'all_util',\n",
       "       'inq_last_12m', 'acc_open_past_24mths', 'avg_cur_bal', 'bc_open_to_buy',\n",
       "       'mo_sin_old_rev_tl_op', 'mo_sin_rcnt_tl', 'mort_acc',\n",
       "       'mths_since_recent_bc', 'mths_since_recent_inq', 'num_actv_rev_tl',\n",
       "       'emp_length_numeric', 'emp_title_final_grouped', 'title_grouped',\n",
       "       'region_median_income', 'loan_to_income_ratio', 'open_acc_ratio'],\n",
       "      dtype='object')"
      ]
     },
     "execution_count": 10,
     "metadata": {},
     "output_type": "execute_result"
    }
   ],
   "source": [
    "X_train.columns"
   ]
  },
  {
   "cell_type": "markdown",
   "id": "1200133c",
   "metadata": {},
   "source": [
    "### Feature Importance Analysis"
   ]
  },
  {
   "cell_type": "code",
   "execution_count": 18,
   "id": "14c3f6b1",
   "metadata": {},
   "outputs": [
    {
     "name": "stderr",
     "output_type": "stream",
     "text": [
      "/var/folders/v4/7dg4p38j5c31bxdhb2vhmmb00000gp/T/ipykernel_56971/139822414.py:17: FutureWarning:\n",
      "\n",
      "\n",
      "\n",
      "Passing `palette` without assigning `hue` is deprecated and will be removed in v0.14.0. Assign the `y` variable to `hue` and set `legend=False` for the same effect.\n",
      "\n",
      "\n"
     ]
    },
    {
     "data": {
      "image/png": "[encoded data removed]",
      "text/plain": [
       "<Figure size 1200x1000 with 1 Axes>"
      ]
     },
     "metadata": {},
     "output_type": "display_data"
    }
   ],
   "source": [
    "\n",
    "coefficients = final_logistic_model.coef_[0]\n",
    "feature_names = X_train.columns\n",
    "\n",
    "\n",
    "coef_df = pd.DataFrame({'Feature': feature_names, 'Coefficient': coefficients})\n",
    "\n",
    "\n",
    "coef_df = coef_df.sort_values(by='Coefficient', ascending=False)\n",
    "\n",
    "plt.style.use('seaborn-v0_8-whitegrid') \n",
    "fig, ax = plt.subplots(figsize=(12, 10)) \n",
    "\n",
    "\n",
    "colors = ['#9b59b6' if c > 0 else \"#a9a9a9\" for c in coef_df['Coefficient']]\n",
    "\n",
    "\n",
    "sns.barplot(x='Coefficient', y='Feature', data=coef_df, palette=colors, ax=ax)\n",
    "\n",
    "\n",
    "ax.axvline(0, color='black', linewidth=0.8, linestyle='--')\n",
    "\n",
    "\n",
    "ax.set_title('Feature Importance from Logistic Regression', fontsize=16)\n",
    "ax.set_xlabel('Coefficient (Impact on Log-Odds)', fontsize=12)\n",
    "ax.set_ylabel('Feature', fontsize=12)\n",
    "\n",
    "\n",
    "plt.tight_layout()\n",
    "plt.show()\n"
   ]
  },
  {
   "cell_type": "markdown",
   "id": "60e03a9f",
   "metadata": {},
   "source": [
    "\n",
    "\n",
    "### Calibration"
   ]
  },
  {
   "cell_type": "code",
   "execution_count": 19,
   "id": "1e24362b",
   "metadata": {},
   "outputs": [
    {
     "name": "stdout",
     "output_type": "stream",
     "text": [
      "--- Getting probabilities on the calibration set ---\n",
      "--- Training the isotonic calibrator ---\n",
      "Calibrator trained.\n",
      "\n",
      "--- Evaluating and visualizing on the Test set ---\n"
     ]
    },
    {
     "data": {
      "image/png": "[encoded data removed]",
      "text/plain": [
       "<Figure size 1000x800 with 1 Axes>"
      ]
     },
     "metadata": {},
     "output_type": "display_data"
    },
    {
     "name": "stdout",
     "output_type": "stream",
     "text": [
      "\n",
      "--- AUC Comparison on Test Set ---\n",
      "AUC of uncalibrated model: 0.6765\n",
      "AUC of calibrated model:    0.6764\n"
     ]
    }
   ],
   "source": [
    "\n",
    "colors = {\n",
    "    \"main_purple\": \"#b3a2c7\",\n",
    "    \"medium_grey\": \"#a9a9a9\"\n",
    "}\n",
    "\n",
    "\n",
    "print(\"--- Getting probabilities on the calibration set ---\")\n",
    "y_pred_calib_proba = final_logistic_model.predict_proba(X_calib)[:, 1]\n",
    "\n",
    "print(\"--- Training the isotonic calibrator ---\")\n",
    "\n",
    "y_calib_flat = y_calib.values.ravel()\n",
    "lr_isotonic_calibrator = IsotonicRegression(out_of_bounds='clip')\n",
    "lr_isotonic_calibrator.fit(y_pred_calib_proba, y_calib_flat)\n",
    "print(\"Calibrator trained.\")\n",
    "\n",
    "print(\"\\n--- Evaluating and visualizing on the Test set ---\")\n",
    "\n",
    "y_pred_test_uncalibrated_proba = final_logistic_model.predict_proba(X_test)[:, 1]\n",
    "\n",
    "\n",
    "y_pred_test_calibrated_proba = lr_isotonic_calibrator.transform(y_pred_test_uncalibrated_proba)\n",
    "\n",
    "\n",
    "fig, ax = plt.subplots(figsize=(10, 8))\n",
    "\n",
    "\n",
    "CalibrationDisplay.from_predictions(\n",
    "    y_test,\n",
    "    y_pred_test_uncalibrated_proba,\n",
    "    n_bins=15,\n",
    "    name='Uncalibrated LR',\n",
    "    ax=ax,\n",
    "    strategy='uniform',\n",
    "    color=colors[\"medium_grey\"]  \n",
    ")\n",
    "\n",
    "CalibrationDisplay.from_predictions(\n",
    "    y_test,\n",
    "    y_pred_test_calibrated_proba,\n",
    "    n_bins=15,\n",
    "    name='Calibrated LR (Isotonic)',\n",
    "    ax=ax,\n",
    "    strategy='uniform',\n",
    "    color=colors[\"main_purple\"]  \n",
    ")\n",
    "\n",
    "\n",
    "ax.set_title('Calibration Curve: Before vs. After (Isotonic)', fontsize=16)\n",
    "ax.set_xlabel(\"Mean Predicted Probability (Positive Class)\", fontsize=12)\n",
    "ax.set_ylabel(\"Fraction of Positives\", fontsize=12)\n",
    "plt.show()\n",
    "\n",
    "\n",
    "auc_test_uncalibrated = roc_auc_score(y_test, y_pred_test_uncalibrated_proba)\n",
    "auc_test_calibrated = roc_auc_score(y_test, y_pred_test_calibrated_proba)\n",
    "\n",
    "print(f\"\\n--- AUC Comparison on Test Set ---\")\n",
    "print(f\"AUC of uncalibrated model: {auc_test_uncalibrated:.4f}\")\n",
    "print(f\"AUC of calibrated model:    {auc_test_calibrated:.4f}\")"
   ]
  },
  {
   "cell_type": "markdown",
   "id": "f1e195f9",
   "metadata": {},
   "source": [
    "## Results"
   ]
  },
  {
   "cell_type": "markdown",
   "id": "44129c78",
   "metadata": {},
   "source": [
    "### Setting threshold Precision-recall curve"
   ]
  },
  {
   "cell_type": "code",
   "execution_count": 20,
   "id": "2e909c27",
   "metadata": {},
   "outputs": [
    {
     "name": "stdout",
     "output_type": "stream",
     "text": [
      "--- Threshold Analysis Results ---\n"
     ]
    },
    {
     "data": {
      "text/html": [
       "<div>\n",
       "<style scoped>\n",
       "    .dataframe tbody tr th:only-of-type {\n",
       "        vertical-align: middle;\n",
       "    }\n",
       "\n",
       "    .dataframe tbody tr th {\n",
       "        vertical-align: top;\n",
       "    }\n",
       "\n",
       "    .dataframe thead th {\n",
       "        text-align: right;\n",
       "    }\n",
       "</style>\n",
       "<table border=\"1\" class=\"dataframe\">\n",
       "  <thead>\n",
       "    <tr style=\"text-align: right;\">\n",
       "      <th></th>\n",
       "      <th>Threshold</th>\n",
       "      <th>Precision</th>\n",
       "      <th>Recall</th>\n",
       "      <th>F1-Score</th>\n",
       "    </tr>\n",
       "  </thead>\n",
       "  <tbody>\n",
       "    <tr>\n",
       "      <th>60</th>\n",
       "      <td>0.203117</td>\n",
       "      <td>0.292265</td>\n",
       "      <td>0.619739</td>\n",
       "      <td>0.397209</td>\n",
       "    </tr>\n",
       "    <tr>\n",
       "      <th>59</th>\n",
       "      <td>0.194561</td>\n",
       "      <td>0.288937</td>\n",
       "      <td>0.634285</td>\n",
       "      <td>0.397019</td>\n",
       "    </tr>\n",
       "    <tr>\n",
       "      <th>61</th>\n",
       "      <td>0.217928</td>\n",
       "      <td>0.301643</td>\n",
       "      <td>0.578742</td>\n",
       "      <td>0.396585</td>\n",
       "    </tr>\n",
       "    <tr>\n",
       "      <th>58</th>\n",
       "      <td>0.187181</td>\n",
       "      <td>0.282431</td>\n",
       "      <td>0.662351</td>\n",
       "      <td>0.396004</td>\n",
       "    </tr>\n",
       "    <tr>\n",
       "      <th>57</th>\n",
       "      <td>0.185031</td>\n",
       "      <td>0.281401</td>\n",
       "      <td>0.666991</td>\n",
       "      <td>0.395811</td>\n",
       "    </tr>\n",
       "    <tr>\n",
       "      <th>62</th>\n",
       "      <td>0.219030</td>\n",
       "      <td>0.304567</td>\n",
       "      <td>0.564631</td>\n",
       "      <td>0.395694</td>\n",
       "    </tr>\n",
       "    <tr>\n",
       "      <th>56</th>\n",
       "      <td>0.181796</td>\n",
       "      <td>0.278443</td>\n",
       "      <td>0.680181</td>\n",
       "      <td>0.395132</td>\n",
       "    </tr>\n",
       "    <tr>\n",
       "      <th>55</th>\n",
       "      <td>0.176948</td>\n",
       "      <td>0.275422</td>\n",
       "      <td>0.693441</td>\n",
       "      <td>0.394253</td>\n",
       "    </tr>\n",
       "    <tr>\n",
       "      <th>63</th>\n",
       "      <td>0.226115</td>\n",
       "      <td>0.309685</td>\n",
       "      <td>0.541709</td>\n",
       "      <td>0.394081</td>\n",
       "    </tr>\n",
       "    <tr>\n",
       "      <th>64</th>\n",
       "      <td>0.228657</td>\n",
       "      <td>0.309946</td>\n",
       "      <td>0.540475</td>\n",
       "      <td>0.393965</td>\n",
       "    </tr>\n",
       "  </tbody>\n",
       "</table>\n",
       "</div>"
      ],
      "text/plain": [
       "    Threshold  Precision    Recall  F1-Score\n",
       "60   0.203117   0.292265  0.619739  0.397209\n",
       "59   0.194561   0.288937  0.634285  0.397019\n",
       "61   0.217928   0.301643  0.578742  0.396585\n",
       "58   0.187181   0.282431  0.662351  0.396004\n",
       "57   0.185031   0.281401  0.666991  0.395811\n",
       "62   0.219030   0.304567  0.564631  0.395694\n",
       "56   0.181796   0.278443  0.680181  0.395132\n",
       "55   0.176948   0.275422  0.693441  0.394253\n",
       "63   0.226115   0.309685  0.541709  0.394081\n",
       "64   0.228657   0.309946  0.540475  0.393965"
      ]
     },
     "metadata": {},
     "output_type": "display_data"
    },
    {
     "data": {
      "application/vnd.plotly.v1+json": {
       "config": {
        "plotlyServerURL": "https://plot.ly"
       },
       "data": [
        {
         "line": {
          "color": "black"
         },
         "name": "Precision",
         "type": "scatter",
         "x": {
          "bdata": "AAAAAAAAAAAUOTWlXjGFP1g6yYGlk4w/kiRJkiRJkj/aXnwP4CGaP+rqCzxCa5w/HdRBHdRBnT8IH3zwwQefPwAAAAAAAKA/6hmRLJOeoT9HppetDP6jP6mC0n08U6Q/qFChQoUKpT8AAAAAAACoPxrtHra+Dag/lLovj60Iqj+jFnP9VySqP+GVoS3gt6o/cLYO/WbrsD8hQN26xhyxPw2go8WIRrE/auxhFpAvsj8Ys6yv+4SyP1EknNK8+LM/ptjmMeOwtD8WX/EVX/G1P9zAa3fKVbc/xlpFdEp1tz+YfumXfum3PxrQpgFtGrg/nNR9eWxFuD/EnPjMMkW6P+MwQ29+Vbs/EnfEHXFHvD/5DeD/bbu8P4BUaXVTgr0/nuPaUSBkvj8AAAAAAADAP5wpvf7iZMA/xpzvJiyVwD8OJ3VfHlvBPxEYgREYgcE/lpcYWXmJwT9wH8F9BPfBP9PS0tLS0sI/6aKLLrrowj9h3UIvIv7CPxQ7sRM7scM/8IP9KYfgwz+l+fCtyTnEP26D8VnLVcQ/q3ca99dLxT9VVVVVVVXFP2434gWDZ8U/NKIPqI69xT/umBrYO6bGP+U/sssaRcc/8no5FBqvxz8Y6SRNjvXHPwtqMzBd58g/sD4uSbz/yT8cdDUtEeXLP48kRq0uCcw/NqvDKFPxzD+G8RfsoETNP4OO0cezwM0/gh2my/oA0D/fr0FjXlPQP3sJ7SW0l9A/qQnGW9nn0D9AO+/iETDRP4p6GYnVcNE/JSctQdl+0T8CfHr+g4XRP3MZzWU0l9E/w2IklDbe0T8z/iMwPTjTP4XwulUIr9M/M2VNWVPW1D9Rb3rTm97UP5dBDBzFVtU/sckmm2yy1T/aAeNwF+bVPyllFCMJyNY/+e1ST8Zv1z9EeQ3lNZTXPwUKPUXUr9c/golRn50r2D8otzXDZzTYP3CNOZSCkdg/xVa2L/6m2T8Xo8m8azHaPysigOAJ5do/KK+hvIby2j/nWbmQaVncP/GrMZEeqNw/lvuCRRyp3D9dzdVczdXcPyZvop42d98/fwT3EdxH4D9rO1BshZrgP9R9eWxF0OA/rRtMkc+64T+YFC+QSfHiPzMzMzMzM+M/ZZNNNtlk4z+1tLS0tLTkP1VVVVVVVeU/",
          "dtype": "f8"
         },
         "xaxis": "x",
         "y": {
          "bdata": "Ycq/QaByyD/qdlecj3PIPwME0CKHiMg/6p3JtLOMyD+haworxI3IP4vLQl0Pocg/yKfvz021yD/AyxMF8LXIPwNsBWKHtsg/TU9OVhm3yD8YMzCeHtHIP3Gtk/9a9cg/DQxnFvgQyT+W2tdnCRbJP1ubbPg/Gck/bU5W2r0gyT9FJX2YcCnJPxd3v2YnbMk/l9VoWN+lyT9bGSd7R6vJP4sW0QulD8o/tdwVWTM+yj9OBkd+IkHKPwGAXNGEeMo/CD8BDBiTyj9hFuCXiNjKP8tJeJ0JPss/30mYfj5Vyz9wH1LIKFnLP6+USDH2W8s/qgwNaGqpyz/0O0feIubLP2C1+VyLdMw/HFAWZKOWzD/H4B2vvZ7MP5Cq1QlzIs0/T8CyTCJfzT9rNaK79jfOP3gC0Cz4O84/dU9JNKtJzj+/VX3DEifPP6bdIliIL88/WHVHPD9Azz+B94F5pkvPP2yHB0SlTM8/v6LGkvtPzz90If4ealHPP1ApiBqpd9A/EX8DkiR80D/2lJGezJrQP6u/3yyPo9A/mp/A0qwW0T/U6nbeLi/RP8LiJPhPL9E/w9QHKcx10T+mB3KBgqDRP31rOb4A0tE/sbg6T3kC0j8fwWyIWxPSP0cStXnzfdI/tIBHC3i00j8/LozNHk7TP9ca5AEHftM/RQUsnt/R0z+KPdqDKNbTP+deAH/8utQ/f+i1rDYh1T9GjiMyC7rVP4aivGL9N9Y/rQj7u5Q41j+FNXukrTnWP9+Tycc2VdY/w6Df9EQS1z8lN+MWrlbXP5jW2X/Ppdc/AG0f6Q+r1z/THQnd4LDXPwqdmQ3KItg/EPjgd1JP2D+7le0HUmjYP52noCiSrtg/2sQ/jxF52T8nh/3Qp3/aP1VEPpdRk9o/S2XQYa0f2z/WYxpj5ELbP55uN0Hfgds//WDQwBSQ2z9YxOpol/rbP/mpJvcvdtw/Co22+8O33D/RER8D5cXdP37SeolSxt4/AkEkGYlH3z/KIUVc9FjfP/xx885RFuA/ULBQfq8b4D8fwX0E9xHhP0ay129WI+E/7ujndZVj4T9KF2MOoHThP6GniPr1wuI/gBx4jHT94j+YSu8LHDXjPzPwdGt+WOQ/OpBohc2B5D+BTfvJEtjkP1VVVVVVVeU/",
          "dtype": "f8"
         },
         "yaxis": "y"
        },
        {
         "line": {
          "color": "#8e79a8"
         },
         "name": "Recall",
         "type": "scatter",
         "x": {
          "bdata": "AAAAAAAAAAAUOTWlXjGFP1g6yYGlk4w/kiRJkiRJkj/aXnwP4CGaP+rqCzxCa5w/HdRBHdRBnT8IH3zwwQefPwAAAAAAAKA/6hmRLJOeoT9HppetDP6jP6mC0n08U6Q/qFChQoUKpT8AAAAAAACoPxrtHra+Dag/lLovj60Iqj+jFnP9VySqP+GVoS3gt6o/cLYO/WbrsD8hQN26xhyxPw2go8WIRrE/auxhFpAvsj8Ys6yv+4SyP1EknNK8+LM/ptjmMeOwtD8WX/EVX/G1P9zAa3fKVbc/xlpFdEp1tz+YfumXfum3PxrQpgFtGrg/nNR9eWxFuD/EnPjMMkW6P+MwQ29+Vbs/EnfEHXFHvD/5DeD/bbu8P4BUaXVTgr0/nuPaUSBkvj8AAAAAAADAP5wpvf7iZMA/xpzvJiyVwD8OJ3VfHlvBPxEYgREYgcE/lpcYWXmJwT9wH8F9BPfBP9PS0tLS0sI/6aKLLrrowj9h3UIvIv7CPxQ7sRM7scM/8IP9KYfgwz+l+fCtyTnEP26D8VnLVcQ/q3ca99dLxT9VVVVVVVXFP2434gWDZ8U/NKIPqI69xT/umBrYO6bGP+U/sssaRcc/8no5FBqvxz8Y6SRNjvXHPwtqMzBd58g/sD4uSbz/yT8cdDUtEeXLP48kRq0uCcw/NqvDKFPxzD+G8RfsoETNP4OO0cezwM0/gh2my/oA0D/fr0FjXlPQP3sJ7SW0l9A/qQnGW9nn0D9AO+/iETDRP4p6GYnVcNE/JSctQdl+0T8CfHr+g4XRP3MZzWU0l9E/w2IklDbe0T8z/iMwPTjTP4XwulUIr9M/M2VNWVPW1D9Rb3rTm97UP5dBDBzFVtU/sckmm2yy1T/aAeNwF+bVPyllFCMJyNY/+e1ST8Zv1z9EeQ3lNZTXPwUKPUXUr9c/golRn50r2D8otzXDZzTYP3CNOZSCkdg/xVa2L/6m2T8Xo8m8azHaPysigOAJ5do/KK+hvIby2j/nWbmQaVncP/GrMZEeqNw/lvuCRRyp3D9dzdVczdXcPyZvop42d98/fwT3EdxH4D9rO1BshZrgP9R9eWxF0OA/rRtMkc+64T+YFC+QSfHiPzMzMzMzM+M/ZZNNNtlk4z+1tLS0tLTkP1VVVVVVVeU/",
          "dtype": "f8"
         },
         "xaxis": "x",
         "y": {
          "bdata": "AAAAAAAA8D8AAAAAAADwP9qzORlv/u8/Fp8DwwH+7z8pmPFQ3f3vP0HdCkkF+u8/qAbceJv17z+8/8kGd/XvP8/4t5RS9e8/4/GlIi717z/XkA5p6+3vPzFZSN8+4u8/E6XYzEbZ7z8BUgB0kdfvP7MTXnFJ1u8/VILjFUzT7z9rx/wNdM/vP008jbVEsu8/F2wEZe2Y7z/fzGUlp5XvP7lVijdKWe8/rR3zN9A97z+uwwht9jvvP/kHgHmDGO8/M3Y0qLgF7z/bzhCV5dLuP5/hMZ5PhO4/KTSeBPNw7j/xlP/ErG3uP0IfzTFBa+4/cH7qGsUo7j8t0LSVzfXtP4fo2TKvcu0/HcXdDF5S7T+IOtqmQErtP+JS/0Mix+w/z9QR5KCK7D/KWafYgbXrPwmRnOxgses/GMFJlZKi6z82FZD1przqPyxaDnGKs+o/FuQKaFGh6j/Uieqj7pTqP3NSWhPLk+o/xoI9tYWP6j/HKFPqq43qP/Ba3KGbr+g/XHbucKSl6D+MeyGPTmHoP2WyRS1gTeg/z8cYFV9W5z98bCBs2B/nP6Ne/IePH+c/X9exb12J5j+j/tLVqzDmP8BcGNoLxOU/jtalpv1X5T89ntit+jHlP1zyHg4PTOQ/NVAuGebU4z/3hRD1DoXiP+CQ4iN1EeI/EOYAaa1V4T+Q+gDGkUvhP18GPKJN2d4/T0k782hv3T9OM76ACRzbPziCZ+WuaNk/TiFrqLBm2T95X3IutGLZP6Zqelaj+dg/CAeOosFq1j9WORy0uqPVP4ldUOjh0dQ/0dKxBYDE1D9X2fIB17TUPyfrbMWcL9M/H0/sVv2Y0j/cG7f/XynSP5XBLF44C9E/v1BPetpyzD/gndvytkXHP+FB3NrZ9MY/CHA7+MJ4xD+qgKw35dXDP1hCoFfYwsI/kgJV+p6Hwj/esY6pMMHAP8OFzQK3OL4/IDbflmycvD/W/TDqEBG2Px6dwjCI0rE/5W67nYsHsD9KGWIFwaGvP8xmVRamcqk//GuINFAuqT/G84nQsVChP5k2WIJN86A/LB6Lb1gvnT/c1X/r/6KbP3d89BlpdIc/4S+JAoE/hT92RvuQXlSCP1cKkoHKU10/V+br0BjpWT+s/9b/RTdUP1YVdgMJOTI/",
          "dtype": "f8"
         },
         "yaxis": "y"
        },
        {
         "line": {
          "dash": "dot"
         },
         "name": "F1-Score",
         "type": "scatter",
         "x": {
          "bdata": "AAAAAAAAAAAUOTWlXjGFP1g6yYGlk4w/kiRJkiRJkj/aXnwP4CGaP+rqCzxCa5w/HdRBHdRBnT8IH3zwwQefPwAAAAAAAKA/6hmRLJOeoT9HppetDP6jP6mC0n08U6Q/qFChQoUKpT8AAAAAAACoPxrtHra+Dag/lLovj60Iqj+jFnP9VySqP+GVoS3gt6o/cLYO/WbrsD8hQN26xhyxPw2go8WIRrE/auxhFpAvsj8Ys6yv+4SyP1EknNK8+LM/ptjmMeOwtD8WX/EVX/G1P9zAa3fKVbc/xlpFdEp1tz+YfumXfum3PxrQpgFtGrg/nNR9eWxFuD/EnPjMMkW6P+MwQ29+Vbs/EnfEHXFHvD/5DeD/bbu8P4BUaXVTgr0/nuPaUSBkvj8AAAAAAADAP5wpvf7iZMA/xpzvJiyVwD8OJ3VfHlvBPxEYgREYgcE/lpcYWXmJwT9wH8F9BPfBP9PS0tLS0sI/6aKLLrrowj9h3UIvIv7CPxQ7sRM7scM/8IP9KYfgwz+l+fCtyTnEP26D8VnLVcQ/q3ca99dLxT9VVVVVVVXFP2434gWDZ8U/NKIPqI69xT/umBrYO6bGP+U/sssaRcc/8no5FBqvxz8Y6SRNjvXHPwtqMzBd58g/sD4uSbz/yT8cdDUtEeXLP48kRq0uCcw/NqvDKFPxzD+G8RfsoETNP4OO0cezwM0/gh2my/oA0D/fr0FjXlPQP3sJ7SW0l9A/qQnGW9nn0D9AO+/iETDRP4p6GYnVcNE/JSctQdl+0T8CfHr+g4XRP3MZzWU0l9E/w2IklDbe0T8z/iMwPTjTP4XwulUIr9M/M2VNWVPW1D9Rb3rTm97UP5dBDBzFVtU/sckmm2yy1T/aAeNwF+bVPyllFCMJyNY/+e1ST8Zv1z9EeQ3lNZTXPwUKPUXUr9c/golRn50r2D8otzXDZzTYP3CNOZSCkdg/xVa2L/6m2T8Xo8m8azHaPysigOAJ5do/KK+hvIby2j/nWbmQaVncP/GrMZEeqNw/lvuCRRyp3D9dzdVczdXcPyZvop42d98/fwT3EdxH4D9rO1BshZrgP9R9eWxF0OA/rRtMkc+64T+YFC+QSfHiPzMzMzMzM+M/ZZNNNtlk4z+1tLS0tLTkP1VVVVVVVeU/",
          "dtype": "f8"
         },
         "xaxis": "x",
         "y": {
          "bdata": "tUM1KPGG1D89EKTkmYfUP39lWTI2ltQ/mtuPNxuZ1D+fDi4+15nUP6YjcdwDp9Q/AHwIdce01D/xR/uLNbXUPzyWEwSctdQ/4JWvrv611D8ChZqNfMfUP9Rz/CKe39Q/3uGCFfPx1D/icVRoTfXUPxVAPO9n99Q/tDh+3E781D8MY95d9AHVP8rrzrchLdU/4G5SRD5S1T+b+XsVm1XVP3hNJUSnk9U/onJ4/Tmw1T8EBQ7bAbLVP10c5yFs09U/y0DzkyTj1T8nxdRisgvWPxT4nYOWRdY/n1k+6H1S1j+cyiKAqVTWP1qL+kc0VtY/tBWIxImA1j94AWeTbKHWP2NiAJ8x69Y/Vlc94Vf81j8t5xaFVADXPzneciYBQNc/qnwhEIVc1z9VXvicqb7XP89FiWZgwNc/bcICxBfG1z/eBWP/DiDYP57BqGZFI9g/ENNDc4kp2D+xqkEKyy3YP9OffssmLtg/sOi2G0Iv2D8SS6WCui/YP06JAAmFstg/+hz7CA+12D/bNlWm7sXYP6mM0emAytg/PYa7WoYE2T9TfaKE2Q7ZP5vVNE/nDtk/XpnJAoor2T+ku+HtcjvZP6sbC07XSdk/3hWHKfdU2T+FhiHFIFjZP8oYUVvEaNk/sp6DC95r2T+TMs1FpGHZPwpU7vMKU9k/0eOpgp442T/KdzlzuTbZP3P5xgkSzNg/NxDtxrGZ2D9WXD8zGR/YP4p7Dgf8tNc/VT7zBnS01z/YISw/V7PXPzGFAjSJlNc/sPvZ20691j8vSSda/XTWP2ecVfXTJNY/zEishosf1j/Hcb65LRnWP1he5sbOYNU/dsEd+dAS1T8grlbli9PUP9f8xHftKdQ/NHPDqEJB0j9EczHq0ivQP0KwEtMzCNA/f3uW+8W5zT+Q1ApWqhbNP0YhP3f4+ss/OChkIIC8yz+yAHwiuMnJPy/x1erD4cc/VUXbo+bnxj80L6ia+Z3CP1IOK+kCI78/Ms1gFwxrvD9rwRZswRa8P4KKo8qDKLc/SwoL2Yzwtj+xQUeUbUiwPwz6pvxc7a8/X+soCwO7qz8drd8UdFWqPyKNQcVeAZc/vcvbLQrilD/3IHUdbg+SPx2enaO2Pm0/aTzhsMTYaT+5rLUVfS1kP8R1qR0XN0I/",
          "dtype": "f8"
         },
         "yaxis": "y"
        }
       ],
       "layout": {
        "annotations": [
         {
          "showarrow": false,
          "text": "Best F1-Score Threshold: 0.20",
          "x": 0.20311692784570345,
          "xanchor": "left",
          "xref": "x",
          "y": 0,
          "yanchor": "bottom",
          "yref": "y domain"
         }
        ],
        "legend": {
         "title": {
          "text": "Metric"
         }
        },
        "shapes": [
         {
          "line": {
           "color": "red",
           "dash": "dash",
           "width": 1
          },
          "type": "line",
          "x0": 0.20311692784570345,
          "x1": 0.20311692784570345,
          "xref": "x",
          "y0": 0,
          "y1": 1,
          "yref": "y domain"
         }
        ],
        "template": {
         "data": {
          "bar": [
           {
            "error_x": {
             "color": "#2a3f5f"
            },
            "error_y": {
             "color": "#2a3f5f"
            },
            "marker": {
             "line": {
              "color": "white",
              "width": 0.5
             },
             "pattern": {
              "fillmode": "overlay",
              "size": 10,
              "solidity": 0.2
             }
            },
            "type": "bar"
           }
          ],
          "barpolar": [
           {
            "marker": {
             "line": {
              "color": "white",
              "width": 0.5
             },
             "pattern": {
              "fillmode": "overlay",
              "size": 10,
              "solidity": 0.2
             }
            },
            "type": "barpolar"
           }
          ],
          "carpet": [
           {
            "aaxis": {
             "endlinecolor": "#2a3f5f",
             "gridcolor": "#C8D4E3",
             "linecolor": "#C8D4E3",
             "minorgridcolor": "#C8D4E3",
             "startlinecolor": "#2a3f5f"
            },
            "baxis": {
             "endlinecolor": "#2a3f5f",
             "gridcolor": "#C8D4E3",
             "linecolor": "#C8D4E3",
             "minorgridcolor": "#C8D4E3",
             "startlinecolor": "#2a3f5f"
            },
            "type": "carpet"
           }
          ],
          "choropleth": [
           {
            "colorbar": {
             "outlinewidth": 0,
             "ticks": ""
            },
            "type": "choropleth"
           }
          ],
          "contour": [
           {
            "colorbar": {
             "outlinewidth": 0,
             "ticks": ""
            },
            "colorscale": [
             [
              0,
              "#0d0887"
             ],
             [
              0.1111111111111111,
              "#46039f"
             ],
             [
              0.2222222222222222,
              "#7201a8"
             ],
             [
              0.3333333333333333,
              "#9c179e"
             ],
             [
              0.4444444444444444,
              "#bd3786"
             ],
             [
              0.5555555555555556,
              "#d8576b"
             ],
             [
              0.6666666666666666,
              "#ed7953"
             ],
             [
              0.7777777777777778,
              "#fb9f3a"
             ],
             [
              0.8888888888888888,
              "#fdca26"
             ],
             [
              1,
              "#f0f921"
             ]
            ],
            "type": "contour"
           }
          ],
          "contourcarpet": [
           {
            "colorbar": {
             "outlinewidth": 0,
             "ticks": ""
            },
            "type": "contourcarpet"
           }
          ],
          "heatmap": [
           {
            "colorbar": {
             "outlinewidth": 0,
             "ticks": ""
            },
            "colorscale": [
             [
              0,
              "#0d0887"
             ],
             [
              0.1111111111111111,
              "#46039f"
             ],
             [
              0.2222222222222222,
              "#7201a8"
             ],
             [
              0.3333333333333333,
              "#9c179e"
             ],
             [
              0.4444444444444444,
              "#bd3786"
             ],
             [
              0.5555555555555556,
              "#d8576b"
             ],
             [
              0.6666666666666666,
              "#ed7953"
             ],
             [
              0.7777777777777778,
              "#fb9f3a"
             ],
             [
              0.8888888888888888,
              "#fdca26"
             ],
             [
              1,
              "#f0f921"
             ]
            ],
            "type": "heatmap"
           }
          ],
          "histogram": [
           {
            "marker": {
             "pattern": {
              "fillmode": "overlay",
              "size": 10,
              "solidity": 0.2
             }
            },
            "type": "histogram"
           }
          ],
          "histogram2d": [
           {
            "colorbar": {
             "outlinewidth": 0,
             "ticks": ""
            },
            "colorscale": [
             [
              0,
              "#0d0887"
             ],
             [
              0.1111111111111111,
              "#46039f"
             ],
             [
              0.2222222222222222,
              "#7201a8"
             ],
             [
              0.3333333333333333,
              "#9c179e"
             ],
             [
              0.4444444444444444,
              "#bd3786"
             ],
             [
              0.5555555555555556,
              "#d8576b"
             ],
             [
              0.6666666666666666,
              "#ed7953"
             ],
             [
              0.7777777777777778,
              "#fb9f3a"
             ],
             [
              0.8888888888888888,
              "#fdca26"
             ],
             [
              1,
              "#f0f921"
             ]
            ],
            "type": "histogram2d"
           }
          ],
          "histogram2dcontour": [
           {
            "colorbar": {
             "outlinewidth": 0,
             "ticks": ""
            },
            "colorscale": [
             [
              0,
              "#0d0887"
             ],
             [
              0.1111111111111111,
              "#46039f"
             ],
             [
              0.2222222222222222,
              "#7201a8"
             ],
             [
              0.3333333333333333,
              "#9c179e"
             ],
             [
              0.4444444444444444,
              "#bd3786"
             ],
             [
              0.5555555555555556,
              "#d8576b"
             ],
             [
              0.6666666666666666,
              "#ed7953"
             ],
             [
              0.7777777777777778,
              "#fb9f3a"
             ],
             [
              0.8888888888888888,
              "#fdca26"
             ],
             [
              1,
              "#f0f921"
             ]
            ],
            "type": "histogram2dcontour"
           }
          ],
          "mesh3d": [
           {
            "colorbar": {
             "outlinewidth": 0,
             "ticks": ""
            },
            "type": "mesh3d"
           }
          ],
          "parcoords": [
           {
            "line": {
             "colorbar": {
              "outlinewidth": 0,
              "ticks": ""
             }
            },
            "type": "parcoords"
           }
          ],
          "pie": [
           {
            "automargin": true,
            "type": "pie"
           }
          ],
          "scatter": [
           {
            "fillpattern": {
             "fillmode": "overlay",
             "size": 10,
             "solidity": 0.2
            },
            "type": "scatter"
           }
          ],
          "scatter3d": [
           {
            "line": {
             "colorbar": {
              "outlinewidth": 0,
              "ticks": ""
             }
            },
            "marker": {
             "colorbar": {
              "outlinewidth": 0,
              "ticks": ""
             }
            },
            "type": "scatter3d"
           }
          ],
          "scattercarpet": [
           {
            "marker": {
             "colorbar": {
              "outlinewidth": 0,
              "ticks": ""
             }
            },
            "type": "scattercarpet"
           }
          ],
          "scattergeo": [
           {
            "marker": {
             "colorbar": {
              "outlinewidth": 0,
              "ticks": ""
             }
            },
            "type": "scattergeo"
           }
          ],
          "scattergl": [
           {
            "marker": {
             "colorbar": {
              "outlinewidth": 0,
              "ticks": ""
             }
            },
            "type": "scattergl"
           }
          ],
          "scattermap": [
           {
            "marker": {
             "colorbar": {
              "outlinewidth": 0,
              "ticks": ""
             }
            },
            "type": "scattermap"
           }
          ],
          "scattermapbox": [
           {
            "marker": {
             "colorbar": {
              "outlinewidth": 0,
              "ticks": ""
             }
            },
            "type": "scattermapbox"
           }
          ],
          "scatterpolar": [
           {
            "marker": {
             "colorbar": {
              "outlinewidth": 0,
              "ticks": ""
             }
            },
            "type": "scatterpolar"
           }
          ],
          "scatterpolargl": [
           {
            "marker": {
             "colorbar": {
              "outlinewidth": 0,
              "ticks": ""
             }
            },
            "type": "scatterpolargl"
           }
          ],
          "scatterternary": [
           {
            "marker": {
             "colorbar": {
              "outlinewidth": 0,
              "ticks": ""
             }
            },
            "type": "scatterternary"
           }
          ],
          "surface": [
           {
            "colorbar": {
             "outlinewidth": 0,
             "ticks": ""
            },
            "colorscale": [
             [
              0,
              "#0d0887"
             ],
             [
              0.1111111111111111,
              "#46039f"
             ],
             [
              0.2222222222222222,
              "#7201a8"
             ],
             [
              0.3333333333333333,
              "#9c179e"
             ],
             [
              0.4444444444444444,
              "#bd3786"
             ],
             [
              0.5555555555555556,
              "#d8576b"
             ],
             [
              0.6666666666666666,
              "#ed7953"
             ],
             [
              0.7777777777777778,
              "#fb9f3a"
             ],
             [
              0.8888888888888888,
              "#fdca26"
             ],
             [
              1,
              "#f0f921"
             ]
            ],
            "type": "surface"
           }
          ],
          "table": [
           {
            "cells": {
             "fill": {
              "color": "#EBF0F8"
             },
             "line": {
              "color": "white"
             }
            },
            "header": {
             "fill": {
              "color": "#C8D4E3"
             },
             "line": {
              "color": "white"
             }
            },
            "type": "table"
           }
          ]
         },
         "layout": {
          "annotationdefaults": {
           "arrowcolor": "#2a3f5f",
           "arrowhead": 0,
           "arrowwidth": 1
          },
          "autotypenumbers": "strict",
          "coloraxis": {
           "colorbar": {
            "outlinewidth": 0,
            "ticks": ""
           }
          },
          "colorscale": {
           "diverging": [
            [
             0,
             "#8e0152"
            ],
            [
             0.1,
             "#c51b7d"
            ],
            [
             0.2,
             "#de77ae"
            ],
            [
             0.3,
             "#f1b6da"
            ],
            [
             0.4,
             "#fde0ef"
            ],
            [
             0.5,
             "#f7f7f7"
            ],
            [
             0.6,
             "#e6f5d0"
            ],
            [
             0.7,
             "#b8e186"
            ],
            [
             0.8,
             "#7fbc41"
            ],
            [
             0.9,
             "#4d9221"
            ],
            [
             1,
             "#276419"
            ]
           ],
           "sequential": [
            [
             0,
             "#0d0887"
            ],
            [
             0.1111111111111111,
             "#46039f"
            ],
            [
             0.2222222222222222,
             "#7201a8"
            ],
            [
             0.3333333333333333,
             "#9c179e"
            ],
            [
             0.4444444444444444,
             "#bd3786"
            ],
            [
             0.5555555555555556,
             "#d8576b"
            ],
            [
             0.6666666666666666,
             "#ed7953"
            ],
            [
             0.7777777777777778,
             "#fb9f3a"
            ],
            [
             0.8888888888888888,
             "#fdca26"
            ],
            [
             1,
             "#f0f921"
            ]
           ],
           "sequentialminus": [
            [
             0,
             "#0d0887"
            ],
            [
             0.1111111111111111,
             "#46039f"
            ],
            [
             0.2222222222222222,
             "#7201a8"
            ],
            [
             0.3333333333333333,
             "#9c179e"
            ],
            [
             0.4444444444444444,
             "#bd3786"
            ],
            [
             0.5555555555555556,
             "#d8576b"
            ],
            [
             0.6666666666666666,
             "#ed7953"
            ],
            [
             0.7777777777777778,
             "#fb9f3a"
            ],
            [
             0.8888888888888888,
             "#fdca26"
            ],
            [
             1,
             "#f0f921"
            ]
           ]
          },
          "colorway": [
           "#636efa",
           "#EF553B",
           "#00cc96",
           "#ab63fa",
           "#FFA15A",
           "#19d3f3",
           "#FF6692",
           "#B6E880",
           "#FF97FF",
           "#FECB52"
          ],
          "font": {
           "color": "#2a3f5f"
          },
          "geo": {
           "bgcolor": "white",
           "lakecolor": "white",
           "landcolor": "white",
           "showlakes": true,
           "showland": true,
           "subunitcolor": "#C8D4E3"
          },
          "hoverlabel": {
           "align": "left"
          },
          "hovermode": "closest",
          "mapbox": {
           "style": "light"
          },
          "paper_bgcolor": "white",
          "plot_bgcolor": "white",
          "polar": {
           "angularaxis": {
            "gridcolor": "#EBF0F8",
            "linecolor": "#EBF0F8",
            "ticks": ""
           },
           "bgcolor": "white",
           "radialaxis": {
            "gridcolor": "#EBF0F8",
            "linecolor": "#EBF0F8",
            "ticks": ""
           }
          },
          "scene": {
           "xaxis": {
            "backgroundcolor": "white",
            "gridcolor": "#DFE8F3",
            "gridwidth": 2,
            "linecolor": "#EBF0F8",
            "showbackground": true,
            "ticks": "",
            "zerolinecolor": "#EBF0F8"
           },
           "yaxis": {
            "backgroundcolor": "white",
            "gridcolor": "#DFE8F3",
            "gridwidth": 2,
            "linecolor": "#EBF0F8",
            "showbackground": true,
            "ticks": "",
            "zerolinecolor": "#EBF0F8"
           },
           "zaxis": {
            "backgroundcolor": "white",
            "gridcolor": "#DFE8F3",
            "gridwidth": 2,
            "linecolor": "#EBF0F8",
            "showbackground": true,
            "ticks": "",
            "zerolinecolor": "#EBF0F8"
           }
          },
          "shapedefaults": {
           "line": {
            "color": "#2a3f5f"
           }
          },
          "ternary": {
           "aaxis": {
            "gridcolor": "#DFE8F3",
            "linecolor": "#A2B1C6",
            "ticks": ""
           },
           "baxis": {
            "gridcolor": "#DFE8F3",
            "linecolor": "#A2B1C6",
            "ticks": ""
           },
           "bgcolor": "white",
           "caxis": {
            "gridcolor": "#DFE8F3",
            "linecolor": "#A2B1C6",
            "ticks": ""
           }
          },
          "title": {
           "x": 0.05
          },
          "xaxis": {
           "automargin": true,
           "gridcolor": "#EBF0F8",
           "linecolor": "#EBF0F8",
           "ticks": "",
           "title": {
            "standoff": 15
           },
           "zerolinecolor": "#EBF0F8",
           "zerolinewidth": 2
          },
          "yaxis": {
           "automargin": true,
           "gridcolor": "#EBF0F8",
           "linecolor": "#EBF0F8",
           "ticks": "",
           "title": {
            "standoff": 15
           },
           "zerolinecolor": "#EBF0F8",
           "zerolinewidth": 2
          }
         }
        },
        "title": {
         "text": "Precision, Recall, and F1-Score vs. Decision Threshold"
        },
        "xaxis": {
         "anchor": "y",
         "domain": [
          0,
          0.94
         ],
         "title": {
          "text": "Decision Threshold"
         }
        },
        "yaxis": {
         "anchor": "x",
         "domain": [
          0,
          1
         ],
         "title": {
          "text": "Score"
         }
        },
        "yaxis2": {
         "anchor": "x",
         "overlaying": "y",
         "side": "right"
        }
       }
      }
     },
     "metadata": {},
     "output_type": "display_data"
    }
   ],
   "source": [
    "\n",
    "uncalibrated_proba = final_logistic_model.predict_proba(X_calib)[:, 1]\n",
    "\n",
    "y_pred_proba = lr_isotonic_calibrator.predict(uncalibrated_proba)\n",
    "\n",
    "\n",
    "precisions, recalls, thresholds = precision_recall_curve(y_calib, y_pred_proba)\n",
    "\n",
    "\n",
    "results_df = pd.DataFrame({\n",
    "    'Threshold': thresholds,\n",
    "    'Precision': precisions[:-1],\n",
    "    'Recall': recalls[:-1]\n",
    "})\n",
    "\n",
    "# Add F1-Score for a more balanced view\n",
    "# Avoid division by zero if precision and recall are both 0\n",
    "results_df['F1-Score'] = 2 * (results_df['Precision'] * results_df['Recall']) / \\\n",
    "                        (results_df['Precision'] + results_df['Recall']).replace(0, 1e-9)\n",
    "\n",
    "print(\"--- Threshold Analysis Results ---\")\n",
    "\n",
    "display(results_df.sort_values(by='F1-Score', ascending=False).head(10))\n",
    "\n",
    "\n",
    "\n",
    "fig = make_subplots(specs=[[{\"secondary_y\": True}]])\n",
    "\n",
    "\n",
    "fig.add_trace(\n",
    "    go.Scatter(x=results_df['Threshold'], y=results_df['Precision'], name='Precision', line=dict(color='black')),\n",
    "    secondary_y=False,\n",
    "      \n",
    ")\n",
    "fig.add_trace(\n",
    "    go.Scatter(x=results_df['Threshold'], y=results_df['Recall'], name='Recall', line=dict(color='#8e79a8')),\n",
    "    secondary_y=False,\n",
    ")\n",
    "\n",
    "\n",
    "fig.add_trace(\n",
    "    go.Scatter(x=results_df['Threshold'], y=results_df['F1-Score'], name='F1-Score', line=dict(dash='dot')),\n",
    "    secondary_y=False,\n",
    ")\n",
    "\n",
    "\n",
    "best_f1_row = results_df.loc[results_df['F1-Score'].idxmax()]\n",
    "best_threshold = best_f1_row['Threshold']\n",
    "best_f1_score = best_f1_row['F1-Score']\n",
    "\n",
    "fig.add_vline(x=best_threshold, line_width=1, line_dash=\"dash\", line_color=\"red\",\n",
    "              annotation_text=f'Best F1-Score Threshold: {best_threshold:.2f}',\n",
    "              annotation_position=\"bottom right\")\n",
    "\n",
    "\n",
    "fig.update_layout(\n",
    "    title_text='Precision, Recall, and F1-Score vs. Decision Threshold',\n",
    "    xaxis_title='Decision Threshold',\n",
    "    yaxis_title='Score',\n",
    "    legend_title='Metric',\n",
    "    template='plotly_white'\n",
    ")\n",
    "\n",
    "fig.show()"
   ]
  },
  {
   "cell_type": "code",
   "execution_count": 21,
   "id": "1c518b70",
   "metadata": {},
   "outputs": [
    {
     "name": "stdout",
     "output_type": "stream",
     "text": [
      "\n",
      "--- Debugging Info for 'Test' Set ---\n",
      "Threshold used: 0.1900\n",
      "Shape of y_true_np: (343827, 1)\n",
      "Shape of y_pred: (343827,)\n",
      "Unique values in y_true_np: [0 1]\n",
      "Unique values in y_pred: (array([0, 1]), array([186695, 157132]))\n",
      "Confusion Matrix:\n",
      "[[159794 106518]\n",
      " [ 26901  50614]]\n",
      "---------------------------------------\n",
      "\n",
      "\n",
      "--- Debugging Info for 'Train' Set ---\n",
      "Threshold used: 0.1900\n",
      "Shape of y_true_np: (702962, 1)\n",
      "Shape of y_pred: (702962,)\n",
      "Unique values in y_true_np: [0 1]\n",
      "Unique values in y_pred: (array([0, 1]), array([407739, 295223]))\n",
      "Confusion Matrix:\n",
      "[[358395 210304]\n",
      " [ 49344  84919]]\n",
      "---------------------------------------\n",
      "\n",
      "\n",
      "--- Debugging Info for 'Test' Set ---\n",
      "Threshold used: 0.1900\n",
      "Shape of y_true_np: (343827, 1)\n",
      "Shape of y_pred: (343827,)\n",
      "Unique values in y_true_np: [0 1]\n",
      "Unique values in y_pred: (array([0, 1]), array([186695, 157132]))\n",
      "Confusion Matrix:\n",
      "[[159794 106518]\n",
      " [ 26901  50614]]\n",
      "---------------------------------------\n",
      "\n",
      "Using Optimal Threshold (max F1-Score): 0.2031\n",
      "\n",
      "--- Classification Metrics Comparison with Optimal Threshold ---\n"
     ]
    },
    {
     "data": {
      "text/html": [
       "<div>\n",
       "<style scoped>\n",
       "    .dataframe tbody tr th:only-of-type {\n",
       "        vertical-align: middle;\n",
       "    }\n",
       "\n",
       "    .dataframe tbody tr th {\n",
       "        vertical-align: top;\n",
       "    }\n",
       "\n",
       "    .dataframe thead th {\n",
       "        text-align: right;\n",
       "    }\n",
       "</style>\n",
       "<table border=\"1\" class=\"dataframe\">\n",
       "  <thead>\n",
       "    <tr style=\"text-align: right;\">\n",
       "      <th></th>\n",
       "      <th>Train</th>\n",
       "      <th>Test</th>\n",
       "    </tr>\n",
       "  </thead>\n",
       "  <tbody>\n",
       "    <tr>\n",
       "      <th>AUC</th>\n",
       "      <td>0.681665</td>\n",
       "      <td>0.676446</td>\n",
       "    </tr>\n",
       "    <tr>\n",
       "      <th>Gini</th>\n",
       "      <td>0.363330</td>\n",
       "      <td>0.352892</td>\n",
       "    </tr>\n",
       "    <tr>\n",
       "      <th>Brier Score</th>\n",
       "      <td>0.144244</td>\n",
       "      <td>0.163344</td>\n",
       "    </tr>\n",
       "    <tr>\n",
       "      <th>Precision (Class 0)</th>\n",
       "      <td>0.878981</td>\n",
       "      <td>0.855909</td>\n",
       "    </tr>\n",
       "    <tr>\n",
       "      <th>Recall (Class 0)</th>\n",
       "      <td>0.630202</td>\n",
       "      <td>0.600026</td>\n",
       "    </tr>\n",
       "    <tr>\n",
       "      <th>F1-Score (Class 0)</th>\n",
       "      <td>0.734087</td>\n",
       "      <td>0.705481</td>\n",
       "    </tr>\n",
       "    <tr>\n",
       "      <th>Precision (Class 1)</th>\n",
       "      <td>0.287644</td>\n",
       "      <td>0.322111</td>\n",
       "    </tr>\n",
       "    <tr>\n",
       "      <th>Recall (Class 1)</th>\n",
       "      <td>0.632483</td>\n",
       "      <td>0.652957</td>\n",
       "    </tr>\n",
       "    <tr>\n",
       "      <th>F1-Score (Class 1)</th>\n",
       "      <td>0.395445</td>\n",
       "      <td>0.431405</td>\n",
       "    </tr>\n",
       "    <tr>\n",
       "      <th>Accuracy</th>\n",
       "      <td>0.630637</td>\n",
       "      <td>0.611959</td>\n",
       "    </tr>\n",
       "  </tbody>\n",
       "</table>\n",
       "</div>"
      ],
      "text/plain": [
       "                        Train      Test\n",
       "AUC                  0.681665  0.676446\n",
       "Gini                 0.363330  0.352892\n",
       "Brier Score          0.144244  0.163344\n",
       "Precision (Class 0)  0.878981  0.855909\n",
       "Recall (Class 0)     0.630202  0.600026\n",
       "F1-Score (Class 0)   0.734087  0.705481\n",
       "Precision (Class 1)  0.287644  0.322111\n",
       "Recall (Class 1)     0.632483  0.652957\n",
       "F1-Score (Class 1)   0.395445  0.431405\n",
       "Accuracy             0.630637  0.611959"
      ]
     },
     "metadata": {},
     "output_type": "display_data"
    }
   ],
   "source": [
    "\n",
    "\n",
    "def generate_classification_metrics(y_true, y_pred_proba, threshold, dataset_name=\"Test\"):\n",
    "    \"\"\"\n",
    "    Calculates a comprehensive set of classification metrics for a given threshold.\n",
    "    This version includes debugging prints to diagnose issues.\n",
    "\n",
    "    Args:\n",
    "        y_true: True labels.\n",
    "        y_pred_proba: Predicted probabilities for the positive class.\n",
    "        threshold: The decision threshold to use.\n",
    "        dataset_name: Name of the dataset ('Train' or 'Test') for printing.\n",
    "\n",
    "    Returns:\n",
    "        A dictionary containing all the calculated metrics.\n",
    "    \"\"\"\n",
    "    # --- CRITICAL: Ensure alignment and correct data types ---\n",
    "    y_true_np = np.asarray(y_true).astype(int)\n",
    "    y_pred_proba_np = np.asarray(y_pred_proba).astype(float)\n",
    "    \n",
    "    # Apply the custom threshold\n",
    "    y_pred = (y_pred_proba_np >= threshold).astype(int)\n",
    "    \n",
    "    # --- START DEBUGGING BLOCK ---\n",
    "    print(f\"\\n--- Debugging Info for '{dataset_name}' Set ---\")\n",
    "    print(f\"Threshold used: {threshold:.4f}\")\n",
    "    print(f\"Shape of y_true_np: {y_true_np.shape}\")\n",
    "    print(f\"Shape of y_pred: {y_pred.shape}\")\n",
    "    print(f\"Unique values in y_true_np: {np.unique(y_true_np)}\")\n",
    "    print(f\"Unique values in y_pred: {np.unique(y_pred, return_counts=True)}\")\n",
    "    \n",
    "    # Calculate and print the confusion matrix\n",
    "    cm = confusion_matrix(y_true_np, y_pred)\n",
    "    print(\"Confusion Matrix:\")\n",
    "    print(cm)\n",
    "    print(\"---------------------------------------\\n\")\n",
    "    # --- END DEBUGGING BLOCK ---\n",
    "\n",
    "    # Now, calculate metrics as before\n",
    "    report_dict = classification_report(y_true_np, y_pred, output_dict=True, zero_division=0)\n",
    "    \n",
    "    auc = roc_auc_score(y_true_np, y_pred_proba_np)\n",
    "    gini = 2 * auc - 1\n",
    "    brier = brier_score_loss(y_true_np, y_pred_proba_np)\n",
    "    \n",
    "    class_0_metrics = report_dict.get('0', {'precision': 0, 'recall': 0, 'f1-score': 0})\n",
    "    class_1_metrics = report_dict.get('1', {'precision': 0, 'recall': 0, 'f1-score': 0})\n",
    "    \n",
    "    metrics = {\n",
    "        \"AUC\": auc, \"Gini\": gini, \"Brier Score\": brier,\n",
    "        \"Precision (Class 0)\": class_0_metrics['precision'],\n",
    "        \"Recall (Class 0)\": class_0_metrics['recall'],\n",
    "        \"F1-Score (Class 0)\": class_0_metrics['f1-score'],\n",
    "        \"Precision (Class 1)\": class_1_metrics['precision'],\n",
    "        \"Recall (Class 1)\": class_1_metrics['recall'],\n",
    "        \"F1-Score (Class 1)\": class_1_metrics['f1-score'],\n",
    "        \"Accuracy\": report_dict['accuracy']\n",
    "    }\n",
    "    \n",
    "    return metrics\n",
    "\n",
    "\n",
    "optimal_threshold = 0.19\n",
    "\n",
    "\n",
    "test_uncalibrated_proba =  final_logistic_model.predict_proba(X_test)[:, 1]\n",
    "test_pred_proba = lr_isotonic_calibrator.predict(test_uncalibrated_proba)\n",
    "\n",
    "train_uncalibrated_proba =  final_logistic_model.predict_proba(X_train)[:, 1]\n",
    "train_pred_proba = lr_isotonic_calibrator.predict(train_uncalibrated_proba)\n",
    "\n",
    "test_metrics = generate_classification_metrics(y_test, test_pred_proba, optimal_threshold)\n",
    "\n",
    "\n",
    "train_metrics = generate_classification_metrics(y_train, train_pred_proba, optimal_threshold, dataset_name=\"Train\")\n",
    "test_metrics = generate_classification_metrics(y_test, test_pred_proba, optimal_threshold, dataset_name=\"Test\")\n",
    "\n",
    "\n",
    "\n",
    "\n",
    "\n",
    "optimal_threshold_row = results_df.loc[results_df['F1-Score'].idxmax()]\n",
    "optimal_threshold = optimal_threshold_row['Threshold']\n",
    "print(f\"Using Optimal Threshold (max F1-Score): {optimal_threshold:.4f}\\n\")\n",
    "\n",
    "\n",
    "\n",
    "\n",
    "# --- STEP 3: Display the results in a clean comparison table ---\n",
    "comparison_df = pd.DataFrame({\n",
    "    'Train': train_metrics,\n",
    "\n",
    "    'Test': test_metrics\n",
    "})\n",
    "\n",
    "print(\"--- Classification Metrics Comparison with Optimal Threshold ---\")\n",
    "display(comparison_df)"
   ]
  },
  {
   "cell_type": "code",
   "execution_count": 22,
   "id": "4a54820f",
   "metadata": {},
   "outputs": [
    {
     "data": {
      "image/png": "[encoded data removed]",
      "text/plain": [
       "<Figure size 2000x600 with 3 Axes>"
      ]
     },
     "metadata": {},
     "output_type": "display_data"
    }
   ],
   "source": [
    "plot_model_evaluation_summary(\n",
    "    base_model=final_logistic_model,              \n",
    "    X_data=X_test,\n",
    "    y_true=y_test.values.ravel(),\n",
    "    calibrator=lr_isotonic_calibrator, \n",
    "    model_name='Logistic Regression',\n",
    "    custom_color='#b4a7d6',\n",
    "    threshold=optimal_threshold   \n",
    ")"
   ]
  },
  {
   "cell_type": "markdown",
   "id": "c592a7df",
   "metadata": {},
   "source": [
    "# Save model"
   ]
  },
  {
   "cell_type": "code",
   "execution_count": 23,
   "id": "484b18d4",
   "metadata": {},
   "outputs": [
    {
     "data": {
      "text/plain": [
       "['lr_isotonic_calibrator_weights.joblib']"
      ]
     },
     "execution_count": 23,
     "metadata": {},
     "output_type": "execute_result"
    }
   ],
   "source": [
    "joblib.dump(final_logistic_model, 'final_logistic_model_weights.joblib')\n",
    "\n",
    "joblib.dump(lr_isotonic_calibrator, 'lr_isotonic_calibrator_weights.joblib')"
   ]
  }
 ],
 "metadata": {
  "kernelspec": {
   "display_name": "myenv",
   "language": "python",
   "name": "python3"
  },
  "language_info": {
   "codemirror_mode": {
    "name": "ipython",
    "version": 3
   },
   "file_extension": ".py",
   "mimetype": "text/x-python",
   "name": "python",
   "nbconvert_exporter": "python",
   "pygments_lexer": "ipython3",
   "version": "3.11.13"
  }
 },
 "nbformat": 4,
 "nbformat_minor": 5
}
