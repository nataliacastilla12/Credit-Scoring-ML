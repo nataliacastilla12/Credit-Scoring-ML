{
 "cells": [
  {
   "cell_type": "code",
   "execution_count": null,
   "id": "fca37c76",
   "metadata": {},
   "outputs": [
    {
     "name": "stdout",
     "output_type": "stream",
     "text": [
      "Requirement already satisfied: statsmodels in ./.venv/lib/python3.11/site-packages (0.14.4)\n",
      "Requirement already satisfied: numpy<3,>=1.22.3 in ./.venv/lib/python3.11/site-packages (from statsmodels) (1.26.4)\n",
      "Requirement already satisfied: scipy!=1.9.2,>=1.8 in ./.venv/lib/python3.11/site-packages (from statsmodels) (1.15.3)\n",
      "Requirement already satisfied: pandas!=2.1.0,>=1.4 in ./.venv/lib/python3.11/site-packages (from statsmodels) (2.2.3)\n",
      "Requirement already satisfied: patsy>=0.5.6 in ./.venv/lib/python3.11/site-packages (from statsmodels) (1.0.1)\n",
      "Requirement already satisfied: packaging>=21.3 in ./.venv/lib/python3.11/site-packages (from statsmodels) (25.0)\n",
      "Requirement already satisfied: python-dateutil>=2.8.2 in ./.venv/lib/python3.11/site-packages (from pandas!=2.1.0,>=1.4->statsmodels) (2.9.0.post0)\n",
      "Requirement already satisfied: pytz>=2020.1 in ./.venv/lib/python3.11/site-packages (from pandas!=2.1.0,>=1.4->statsmodels) (2025.2)\n",
      "Requirement already satisfied: tzdata>=2022.7 in ./.venv/lib/python3.11/site-packages (from pandas!=2.1.0,>=1.4->statsmodels) (2025.2)\n",
      "Requirement already satisfied: six>=1.5 in ./.venv/lib/python3.11/site-packages (from python-dateutil>=2.8.2->pandas!=2.1.0,>=1.4->statsmodels) (1.17.0)\n"
     ]
    }
   ],
   "source": [
    "!pip install statsmodels"
   ]
  },
  {
   "cell_type": "markdown",
   "id": "482344f0",
   "metadata": {},
   "source": [
    "# Libraries"
   ]
  },
  {
   "cell_type": "code",
   "execution_count": 3,
   "id": "7dd90871",
   "metadata": {},
   "outputs": [],
   "source": [
    "import numpy as np\n",
    "import pandas as pd\n",
    " \n",
    "\n",
    "#------------------------------------Plots\n",
    "import matplotlib.pyplot as plt\n",
    "import seaborn as sns\n",
    "import plotly.figure_factory as ff\n",
    "import plotly\n",
    "import plotly.express as px\n",
    "import plotly.graph_objects as go\n",
    "from plotly.subplots import make_subplots\n",
    "import plotly.io as pio\n",
    "from plotly import tools\n",
    "from plotly.offline import download_plotlyjs, init_notebook_mode, plot, iplot\n",
    "from sklearn.preprocessing import StandardScaler, MinMaxScaler\n",
    "\n",
    "\n",
    "from collections import Counter\n",
    "import re\n",
    "from scipy.stats import chi2_contingency # Para la prueba de Chi-Cuadrado\n",
    "\n",
    "#------------------------------------Plots Functions\n",
    "\n",
    "import eda_utils\n",
    "import importlib\n",
    "importlib.reload(eda_utils)\n",
    "\n",
    "from eda_utils import calculate_psi, plot_distribution_plotly, calculate_woe_iv\n",
    "import utils_plot\n",
    "\n",
    "\n",
    "\n",
    "spark.conf.set(\"spark.sql.execution.arrow.pyspark.enabled\", \"false\")\n",
    "pd.set_option('display.max_columns', 500)\n",
    "\n",
    "\n",
    "sns.set_style(\"whitegrid\")\n",
    "sns.set(rc = {'figure.figsize':(15,10)})\n",
    "\n",
    "\n",
    "\n",
    "from statsmodels.stats.proportion import proportions_ztest \n"
   ]
  },
  {
   "cell_type": "markdown",
   "id": "689413a8",
   "metadata": {},
   "source": [
    "# Load data "
   ]
  },
  {
   "cell_type": "code",
   "execution_count": null,
   "id": "f641de37",
   "metadata": {},
   "outputs": [
    {
     "name": "stdout",
     "output_type": "stream",
     "text": [
      "Dimension of the data: (2260698, 151)\n"
     ]
    }
   ],
   "source": [
    "df = spark.sql(\"select * from data_credit_test_ds_chanllenges\").toPandas()\n",
    "\n",
    "df['d_vintage'] = pd.to_datetime(df['issue_d'], format='%b-%Y')\n",
    "\n",
    "print('Dimension of the data:', df.shape)"
   ]
  },
  {
   "cell_type": "markdown",
   "id": "9b2b60fc",
   "metadata": {},
   "source": [
    "# Descriptive analysis"
   ]
  },
  {
   "cell_type": "code",
   "execution_count": 5,
   "id": "bc765060",
   "metadata": {},
   "outputs": [],
   "source": [
    "df['loan_status'] = df['loan_status'].fillna('NA')\n",
    "df['loan_status'] = np.where(df['loan_status']=='Does not meet the credit policy. Status:Fully Paid', 'Fully Paid', df['loan_status'])\n",
    "df['loan_status'] = np.where(df['loan_status']=='Does not meet the credit policy. Status:Charged Off', 'Charged Off', df['loan_status'])\n",
    "\n",
    "\n",
    "#----------------------------------------------------------------------------------------------------------------------------------------------------------------------\n",
    "#General definitions\n",
    "\n",
    "df['target'] = np.where(df['loan_status']=='Fully Paid', 0.0, \n",
    "                        np.where(df['loan_status']=='Charged Off', 1.0, np.nan))\n",
    "\n",
    "df_target = df[df['target'].notna()]\n",
    "\n",
    "df_target['Set'] = np.where(df_target['d_vintage']>=pd.to_datetime('2016-07-01'), 'Test','Train')\n"
   ]
  },
  {
   "cell_type": "code",
   "execution_count": 7,
   "id": "4fa50b6b",
   "metadata": {},
   "outputs": [
    {
     "data": {
      "application/vnd.plotly.v1+json": {
       "config": {
        "plotlyServerURL": "https://plot.ly"
       },
       "data": [
        {
         "hovertemplate": "Loan Status=%{x}<br>%Booked Loans=%{y}<extra></extra>",
         "legendgroup": "",
         "marker": {
          "color": "#b4a7d6",
          "pattern": {
           "shape": ""
          }
         },
         "name": "",
         "orientation": "v",
         "showlegend": false,
         "textposition": "auto",
         "type": "bar",
         "x": [
          "Fully Paid",
          "Current",
          "Charged Off",
          "Late (31-120 days)",
          "In Grace Period",
          "Late (16-30 days)",
          "Default",
          "NA"
         ],
         "xaxis": "x",
         "y": {
          "bdata": "GyTbK8nbR0DAWM1H/2xDQGWKUGeG0ydALjJD+ehi7j/+he2l1uHXP5sHEN63n8g/0pzwPUH9XD9WRmf2eHdWPw==",
          "dtype": "f8"
         },
         "yaxis": "y"
        }
       ],
       "layout": {
        "barmode": "group",
        "height": 500,
        "legend": {
         "tracegroupgap": 0
        },
        "margin": {
         "t": 60
        },
        "plot_bgcolor": "white",
        "template": {
         "data": {
          "bar": [
           {
            "error_x": {
             "color": "#2a3f5f"
            },
            "error_y": {
             "color": "#2a3f5f"
            },
            "marker": {
             "line": {
              "color": "#E5ECF6",
              "width": 0.5
             },
             "pattern": {
              "fillmode": "overlay",
              "size": 10,
              "solidity": 0.2
             }
            },
            "type": "bar"
           }
          ],
          "barpolar": [
           {
            "marker": {
             "line": {
              "color": "#E5ECF6",
              "width": 0.5
             },
             "pattern": {
              "fillmode": "overlay",
              "size": 10,
              "solidity": 0.2
             }
            },
            "type": "barpolar"
           }
          ],
          "carpet": [
           {
            "aaxis": {
             "endlinecolor": "#2a3f5f",
             "gridcolor": "white",
             "linecolor": "white",
             "minorgridcolor": "white",
             "startlinecolor": "#2a3f5f"
            },
            "baxis": {
             "endlinecolor": "#2a3f5f",
             "gridcolor": "white",
             "linecolor": "white",
             "minorgridcolor": "white",
             "startlinecolor": "#2a3f5f"
            },
            "type": "carpet"
           }
          ],
          "choropleth": [
           {
            "colorbar": {
             "outlinewidth": 0,
             "ticks": ""
            },
            "type": "choropleth"
           }
          ],
          "contour": [
           {
            "colorbar": {
             "outlinewidth": 0,
             "ticks": ""
            },
            "colorscale": [
             [
              0,
              "#0d0887"
             ],
             [
              0.1111111111111111,
              "#46039f"
             ],
             [
              0.2222222222222222,
              "#7201a8"
             ],
             [
              0.3333333333333333,
              "#9c179e"
             ],
             [
              0.4444444444444444,
              "#bd3786"
             ],
             [
              0.5555555555555556,
              "#d8576b"
             ],
             [
              0.6666666666666666,
              "#ed7953"
             ],
             [
              0.7777777777777778,
              "#fb9f3a"
             ],
             [
              0.8888888888888888,
              "#fdca26"
             ],
             [
              1,
              "#f0f921"
             ]
            ],
            "type": "contour"
           }
          ],
          "contourcarpet": [
           {
            "colorbar": {
             "outlinewidth": 0,
             "ticks": ""
            },
            "type": "contourcarpet"
           }
          ],
          "heatmap": [
           {
            "colorbar": {
             "outlinewidth": 0,
             "ticks": ""
            },
            "colorscale": [
             [
              0,
              "#0d0887"
             ],
             [
              0.1111111111111111,
              "#46039f"
             ],
             [
              0.2222222222222222,
              "#7201a8"
             ],
             [
              0.3333333333333333,
              "#9c179e"
             ],
             [
              0.4444444444444444,
              "#bd3786"
             ],
             [
              0.5555555555555556,
              "#d8576b"
             ],
             [
              0.6666666666666666,
              "#ed7953"
             ],
             [
              0.7777777777777778,
              "#fb9f3a"
             ],
             [
              0.8888888888888888,
              "#fdca26"
             ],
             [
              1,
              "#f0f921"
             ]
            ],
            "type": "heatmap"
           }
          ],
          "histogram": [
           {
            "marker": {
             "pattern": {
              "fillmode": "overlay",
              "size": 10,
              "solidity": 0.2
             }
            },
            "type": "histogram"
           }
          ],
          "histogram2d": [
           {
            "colorbar": {
             "outlinewidth": 0,
             "ticks": ""
            },
            "colorscale": [
             [
              0,
              "#0d0887"
             ],
             [
              0.1111111111111111,
              "#46039f"
             ],
             [
              0.2222222222222222,
              "#7201a8"
             ],
             [
              0.3333333333333333,
              "#9c179e"
             ],
             [
              0.4444444444444444,
              "#bd3786"
             ],
             [
              0.5555555555555556,
              "#d8576b"
             ],
             [
              0.6666666666666666,
              "#ed7953"
             ],
             [
              0.7777777777777778,
              "#fb9f3a"
             ],
             [
              0.8888888888888888,
              "#fdca26"
             ],
             [
              1,
              "#f0f921"
             ]
            ],
            "type": "histogram2d"
           }
          ],
          "histogram2dcontour": [
           {
            "colorbar": {
             "outlinewidth": 0,
             "ticks": ""
            },
            "colorscale": [
             [
              0,
              "#0d0887"
             ],
             [
              0.1111111111111111,
              "#46039f"
             ],
             [
              0.2222222222222222,
              "#7201a8"
             ],
             [
              0.3333333333333333,
              "#9c179e"
             ],
             [
              0.4444444444444444,
              "#bd3786"
             ],
             [
              0.5555555555555556,
              "#d8576b"
             ],
             [
              0.6666666666666666,
              "#ed7953"
             ],
             [
              0.7777777777777778,
              "#fb9f3a"
             ],
             [
              0.8888888888888888,
              "#fdca26"
             ],
             [
              1,
              "#f0f921"
             ]
            ],
            "type": "histogram2dcontour"
           }
          ],
          "mesh3d": [
           {
            "colorbar": {
             "outlinewidth": 0,
             "ticks": ""
            },
            "type": "mesh3d"
           }
          ],
          "parcoords": [
           {
            "line": {
             "colorbar": {
              "outlinewidth": 0,
              "ticks": ""
             }
            },
            "type": "parcoords"
           }
          ],
          "pie": [
           {
            "automargin": true,
            "type": "pie"
           }
          ],
          "scatter": [
           {
            "fillpattern": {
             "fillmode": "overlay",
             "size": 10,
             "solidity": 0.2
            },
            "type": "scatter"
           }
          ],
          "scatter3d": [
           {
            "line": {
             "colorbar": {
              "outlinewidth": 0,
              "ticks": ""
             }
            },
            "marker": {
             "colorbar": {
              "outlinewidth": 0,
              "ticks": ""
             }
            },
            "type": "scatter3d"
           }
          ],
          "scattercarpet": [
           {
            "marker": {
             "colorbar": {
              "outlinewidth": 0,
              "ticks": ""
             }
            },
            "type": "scattercarpet"
           }
          ],
          "scattergeo": [
           {
            "marker": {
             "colorbar": {
              "outlinewidth": 0,
              "ticks": ""
             }
            },
            "type": "scattergeo"
           }
          ],
          "scattergl": [
           {
            "marker": {
             "colorbar": {
              "outlinewidth": 0,
              "ticks": ""
             }
            },
            "type": "scattergl"
           }
          ],
          "scattermap": [
           {
            "marker": {
             "colorbar": {
              "outlinewidth": 0,
              "ticks": ""
             }
            },
            "type": "scattermap"
           }
          ],
          "scattermapbox": [
           {
            "marker": {
             "colorbar": {
              "outlinewidth": 0,
              "ticks": ""
             }
            },
            "type": "scattermapbox"
           }
          ],
          "scatterpolar": [
           {
            "marker": {
             "colorbar": {
              "outlinewidth": 0,
              "ticks": ""
             }
            },
            "type": "scatterpolar"
           }
          ],
          "scatterpolargl": [
           {
            "marker": {
             "colorbar": {
              "outlinewidth": 0,
              "ticks": ""
             }
            },
            "type": "scatterpolargl"
           }
          ],
          "scatterternary": [
           {
            "marker": {
             "colorbar": {
              "outlinewidth": 0,
              "ticks": ""
             }
            },
            "type": "scatterternary"
           }
          ],
          "surface": [
           {
            "colorbar": {
             "outlinewidth": 0,
             "ticks": ""
            },
            "colorscale": [
             [
              0,
              "#0d0887"
             ],
             [
              0.1111111111111111,
              "#46039f"
             ],
             [
              0.2222222222222222,
              "#7201a8"
             ],
             [
              0.3333333333333333,
              "#9c179e"
             ],
             [
              0.4444444444444444,
              "#bd3786"
             ],
             [
              0.5555555555555556,
              "#d8576b"
             ],
             [
              0.6666666666666666,
              "#ed7953"
             ],
             [
              0.7777777777777778,
              "#fb9f3a"
             ],
             [
              0.8888888888888888,
              "#fdca26"
             ],
             [
              1,
              "#f0f921"
             ]
            ],
            "type": "surface"
           }
          ],
          "table": [
           {
            "cells": {
             "fill": {
              "color": "#EBF0F8"
             },
             "line": {
              "color": "white"
             }
            },
            "header": {
             "fill": {
              "color": "#C8D4E3"
             },
             "line": {
              "color": "white"
             }
            },
            "type": "table"
           }
          ]
         },
         "layout": {
          "annotationdefaults": {
           "arrowcolor": "#2a3f5f",
           "arrowhead": 0,
           "arrowwidth": 1
          },
          "autotypenumbers": "strict",
          "coloraxis": {
           "colorbar": {
            "outlinewidth": 0,
            "ticks": ""
           }
          },
          "colorscale": {
           "diverging": [
            [
             0,
             "#8e0152"
            ],
            [
             0.1,
             "#c51b7d"
            ],
            [
             0.2,
             "#de77ae"
            ],
            [
             0.3,
             "#f1b6da"
            ],
            [
             0.4,
             "#fde0ef"
            ],
            [
             0.5,
             "#f7f7f7"
            ],
            [
             0.6,
             "#e6f5d0"
            ],
            [
             0.7,
             "#b8e186"
            ],
            [
             0.8,
             "#7fbc41"
            ],
            [
             0.9,
             "#4d9221"
            ],
            [
             1,
             "#276419"
            ]
           ],
           "sequential": [
            [
             0,
             "#0d0887"
            ],
            [
             0.1111111111111111,
             "#46039f"
            ],
            [
             0.2222222222222222,
             "#7201a8"
            ],
            [
             0.3333333333333333,
             "#9c179e"
            ],
            [
             0.4444444444444444,
             "#bd3786"
            ],
            [
             0.5555555555555556,
             "#d8576b"
            ],
            [
             0.6666666666666666,
             "#ed7953"
            ],
            [
             0.7777777777777778,
             "#fb9f3a"
            ],
            [
             0.8888888888888888,
             "#fdca26"
            ],
            [
             1,
             "#f0f921"
            ]
           ],
           "sequentialminus": [
            [
             0,
             "#0d0887"
            ],
            [
             0.1111111111111111,
             "#46039f"
            ],
            [
             0.2222222222222222,
             "#7201a8"
            ],
            [
             0.3333333333333333,
             "#9c179e"
            ],
            [
             0.4444444444444444,
             "#bd3786"
            ],
            [
             0.5555555555555556,
             "#d8576b"
            ],
            [
             0.6666666666666666,
             "#ed7953"
            ],
            [
             0.7777777777777778,
             "#fb9f3a"
            ],
            [
             0.8888888888888888,
             "#fdca26"
            ],
            [
             1,
             "#f0f921"
            ]
           ]
          },
          "colorway": [
           "#636efa",
           "#EF553B",
           "#00cc96",
           "#ab63fa",
           "#FFA15A",
           "#19d3f3",
           "#FF6692",
           "#B6E880",
           "#FF97FF",
           "#FECB52"
          ],
          "font": {
           "color": "#2a3f5f"
          },
          "geo": {
           "bgcolor": "white",
           "lakecolor": "white",
           "landcolor": "#E5ECF6",
           "showlakes": true,
           "showland": true,
           "subunitcolor": "white"
          },
          "hoverlabel": {
           "align": "left"
          },
          "hovermode": "closest",
          "mapbox": {
           "style": "light"
          },
          "paper_bgcolor": "white",
          "plot_bgcolor": "#E5ECF6",
          "polar": {
           "angularaxis": {
            "gridcolor": "white",
            "linecolor": "white",
            "ticks": ""
           },
           "bgcolor": "#E5ECF6",
           "radialaxis": {
            "gridcolor": "white",
            "linecolor": "white",
            "ticks": ""
           }
          },
          "scene": {
           "xaxis": {
            "backgroundcolor": "#E5ECF6",
            "gridcolor": "white",
            "gridwidth": 2,
            "linecolor": "white",
            "showbackground": true,
            "ticks": "",
            "zerolinecolor": "white"
           },
           "yaxis": {
            "backgroundcolor": "#E5ECF6",
            "gridcolor": "white",
            "gridwidth": 2,
            "linecolor": "white",
            "showbackground": true,
            "ticks": "",
            "zerolinecolor": "white"
           },
           "zaxis": {
            "backgroundcolor": "#E5ECF6",
            "gridcolor": "white",
            "gridwidth": 2,
            "linecolor": "white",
            "showbackground": true,
            "ticks": "",
            "zerolinecolor": "white"
           }
          },
          "shapedefaults": {
           "line": {
            "color": "#2a3f5f"
           }
          },
          "ternary": {
           "aaxis": {
            "gridcolor": "white",
            "linecolor": "white",
            "ticks": ""
           },
           "baxis": {
            "gridcolor": "white",
            "linecolor": "white",
            "ticks": ""
           },
           "bgcolor": "#E5ECF6",
           "caxis": {
            "gridcolor": "white",
            "linecolor": "white",
            "ticks": ""
           }
          },
          "title": {
           "x": 0.05
          },
          "xaxis": {
           "automargin": true,
           "gridcolor": "white",
           "linecolor": "white",
           "ticks": "",
           "title": {
            "standoff": 15
           },
           "zerolinecolor": "white",
           "zerolinewidth": 2
          },
          "yaxis": {
           "automargin": true,
           "gridcolor": "white",
           "linecolor": "white",
           "ticks": "",
           "title": {
            "standoff": 15
           },
           "zerolinecolor": "white",
           "zerolinewidth": 2
          }
         }
        },
        "title": {
         "font": {
          "color": "black",
          "family": "Arial",
          "size": 19
         },
         "text": "Distribution of loan status for booked loans"
        },
        "width": 1200,
        "xaxis": {
         "anchor": "y",
         "categoryorder": "array",
         "domain": [
          0,
          1
         ],
         "gridcolor": "lightgray",
         "tickfont": {
          "color": "black",
          "family": "Arial",
          "size": 12
         },
         "title": {
          "font": {
           "color": "black",
           "family": "Arial",
           "size": 19
          },
          "standoff": 28,
          "text": "Loan Status"
         }
        },
        "yaxis": {
         "anchor": "x",
         "domain": [
          0,
          1
         ],
         "gridcolor": "lightgray",
         "tickfont": {
          "color": "black",
          "family": "Arial",
          "size": 14
         },
         "title": {
          "font": {
           "color": "black",
           "family": "Arial",
           "size": 19
          },
          "text": "%Booked Loans"
         }
        }
       }
      }
     },
     "metadata": {},
     "output_type": "display_data"
    }
   ],
   "source": [
    "df_group = df.groupby(['loan_status']).agg({'id':'count'}).reset_index()\n",
    "df_group['pct_loan_status'] = (df_group['id']/df_group.id.sum()) *100\n",
    "\n",
    "utils_plot.plot_chart(\n",
    "    df= df_group.sort_values(by='pct_loan_status', ascending=False), \n",
    "    chart_type=\"bar\",\n",
    "    x_col=\"loan_status\",\n",
    "    y_col=\"pct_loan_status\",\n",
    "    text_col=\"\",\n",
    "    color_sequence= [  '#b4a7d6', ],\n",
    "    text_as_percentage=True,\n",
    "    text_position=\"top center\",\n",
    "    x_label='Loan Status',\n",
    "    y_label='%Booked Loans',\n",
    "    title=\"Distribution of loan status for booked loans\",\n",
    "    width=1200,\n",
    "    height=500,\n",
    ")"
   ]
  },
  {
   "cell_type": "markdown",
   "id": "a5173c37",
   "metadata": {},
   "source": [
    "Current Status (?)"
   ]
  },
  {
   "cell_type": "code",
   "execution_count": 8,
   "id": "fca8f1e9",
   "metadata": {},
   "outputs": [
    {
     "data": {
      "application/vnd.plotly.v1+json": {
       "config": {
        "plotlyServerURL": "https://plot.ly"
       },
       "data": [
        {
         "hovertemplate": "Booked Year=%{x}<br>%Current Loans=%{y}<extra></extra>",
         "legendgroup": "",
         "marker": {
          "color": "#b4a7d6",
          "pattern": {
           "shape": ""
          }
         },
         "name": "",
         "orientation": "v",
         "showlegend": false,
         "textposition": "auto",
         "type": "bar",
         "x": {
          "bdata": "3QcAAN4HAADfBwAA4AcAAOEHAADiBwAA",
          "dtype": "i4"
         },
         "xaxis": "x",
         "y": {
          "bdata": "ZNnGs3hiRj+90OCzY7b1P5l3PtwWuBNA0a/qKs+GLkBTNqezFtA9QKMv0n90UUhA",
          "dtype": "f8"
         },
         "yaxis": "y"
        }
       ],
       "layout": {
        "barmode": "group",
        "height": 500,
        "legend": {
         "tracegroupgap": 0
        },
        "margin": {
         "t": 60
        },
        "plot_bgcolor": "white",
        "template": {
         "data": {
          "bar": [
           {
            "error_x": {
             "color": "#2a3f5f"
            },
            "error_y": {
             "color": "#2a3f5f"
            },
            "marker": {
             "line": {
              "color": "#E5ECF6",
              "width": 0.5
             },
             "pattern": {
              "fillmode": "overlay",
              "size": 10,
              "solidity": 0.2
             }
            },
            "type": "bar"
           }
          ],
          "barpolar": [
           {
            "marker": {
             "line": {
              "color": "#E5ECF6",
              "width": 0.5
             },
             "pattern": {
              "fillmode": "overlay",
              "size": 10,
              "solidity": 0.2
             }
            },
            "type": "barpolar"
           }
          ],
          "carpet": [
           {
            "aaxis": {
             "endlinecolor": "#2a3f5f",
             "gridcolor": "white",
             "linecolor": "white",
             "minorgridcolor": "white",
             "startlinecolor": "#2a3f5f"
            },
            "baxis": {
             "endlinecolor": "#2a3f5f",
             "gridcolor": "white",
             "linecolor": "white",
             "minorgridcolor": "white",
             "startlinecolor": "#2a3f5f"
            },
            "type": "carpet"
           }
          ],
          "choropleth": [
           {
            "colorbar": {
             "outlinewidth": 0,
             "ticks": ""
            },
            "type": "choropleth"
           }
          ],
          "contour": [
           {
            "colorbar": {
             "outlinewidth": 0,
             "ticks": ""
            },
            "colorscale": [
             [
              0,
              "#0d0887"
             ],
             [
              0.1111111111111111,
              "#46039f"
             ],
             [
              0.2222222222222222,
              "#7201a8"
             ],
             [
              0.3333333333333333,
              "#9c179e"
             ],
             [
              0.4444444444444444,
              "#bd3786"
             ],
             [
              0.5555555555555556,
              "#d8576b"
             ],
             [
              0.6666666666666666,
              "#ed7953"
             ],
             [
              0.7777777777777778,
              "#fb9f3a"
             ],
             [
              0.8888888888888888,
              "#fdca26"
             ],
             [
              1,
              "#f0f921"
             ]
            ],
            "type": "contour"
           }
          ],
          "contourcarpet": [
           {
            "colorbar": {
             "outlinewidth": 0,
             "ticks": ""
            },
            "type": "contourcarpet"
           }
          ],
          "heatmap": [
           {
            "colorbar": {
             "outlinewidth": 0,
             "ticks": ""
            },
            "colorscale": [
             [
              0,
              "#0d0887"
             ],
             [
              0.1111111111111111,
              "#46039f"
             ],
             [
              0.2222222222222222,
              "#7201a8"
             ],
             [
              0.3333333333333333,
              "#9c179e"
             ],
             [
              0.4444444444444444,
              "#bd3786"
             ],
             [
              0.5555555555555556,
              "#d8576b"
             ],
             [
              0.6666666666666666,
              "#ed7953"
             ],
             [
              0.7777777777777778,
              "#fb9f3a"
             ],
             [
              0.8888888888888888,
              "#fdca26"
             ],
             [
              1,
              "#f0f921"
             ]
            ],
            "type": "heatmap"
           }
          ],
          "histogram": [
           {
            "marker": {
             "pattern": {
              "fillmode": "overlay",
              "size": 10,
              "solidity": 0.2
             }
            },
            "type": "histogram"
           }
          ],
          "histogram2d": [
           {
            "colorbar": {
             "outlinewidth": 0,
             "ticks": ""
            },
            "colorscale": [
             [
              0,
              "#0d0887"
             ],
             [
              0.1111111111111111,
              "#46039f"
             ],
             [
              0.2222222222222222,
              "#7201a8"
             ],
             [
              0.3333333333333333,
              "#9c179e"
             ],
             [
              0.4444444444444444,
              "#bd3786"
             ],
             [
              0.5555555555555556,
              "#d8576b"
             ],
             [
              0.6666666666666666,
              "#ed7953"
             ],
             [
              0.7777777777777778,
              "#fb9f3a"
             ],
             [
              0.8888888888888888,
              "#fdca26"
             ],
             [
              1,
              "#f0f921"
             ]
            ],
            "type": "histogram2d"
           }
          ],
          "histogram2dcontour": [
           {
            "colorbar": {
             "outlinewidth": 0,
             "ticks": ""
            },
            "colorscale": [
             [
              0,
              "#0d0887"
             ],
             [
              0.1111111111111111,
              "#46039f"
             ],
             [
              0.2222222222222222,
              "#7201a8"
             ],
             [
              0.3333333333333333,
              "#9c179e"
             ],
             [
              0.4444444444444444,
              "#bd3786"
             ],
             [
              0.5555555555555556,
              "#d8576b"
             ],
             [
              0.6666666666666666,
              "#ed7953"
             ],
             [
              0.7777777777777778,
              "#fb9f3a"
             ],
             [
              0.8888888888888888,
              "#fdca26"
             ],
             [
              1,
              "#f0f921"
             ]
            ],
            "type": "histogram2dcontour"
           }
          ],
          "mesh3d": [
           {
            "colorbar": {
             "outlinewidth": 0,
             "ticks": ""
            },
            "type": "mesh3d"
           }
          ],
          "parcoords": [
           {
            "line": {
             "colorbar": {
              "outlinewidth": 0,
              "ticks": ""
             }
            },
            "type": "parcoords"
           }
          ],
          "pie": [
           {
            "automargin": true,
            "type": "pie"
           }
          ],
          "scatter": [
           {
            "fillpattern": {
             "fillmode": "overlay",
             "size": 10,
             "solidity": 0.2
            },
            "type": "scatter"
           }
          ],
          "scatter3d": [
           {
            "line": {
             "colorbar": {
              "outlinewidth": 0,
              "ticks": ""
             }
            },
            "marker": {
             "colorbar": {
              "outlinewidth": 0,
              "ticks": ""
             }
            },
            "type": "scatter3d"
           }
          ],
          "scattercarpet": [
           {
            "marker": {
             "colorbar": {
              "outlinewidth": 0,
              "ticks": ""
             }
            },
            "type": "scattercarpet"
           }
          ],
          "scattergeo": [
           {
            "marker": {
             "colorbar": {
              "outlinewidth": 0,
              "ticks": ""
             }
            },
            "type": "scattergeo"
           }
          ],
          "scattergl": [
           {
            "marker": {
             "colorbar": {
              "outlinewidth": 0,
              "ticks": ""
             }
            },
            "type": "scattergl"
           }
          ],
          "scattermap": [
           {
            "marker": {
             "colorbar": {
              "outlinewidth": 0,
              "ticks": ""
             }
            },
            "type": "scattermap"
           }
          ],
          "scattermapbox": [
           {
            "marker": {
             "colorbar": {
              "outlinewidth": 0,
              "ticks": ""
             }
            },
            "type": "scattermapbox"
           }
          ],
          "scatterpolar": [
           {
            "marker": {
             "colorbar": {
              "outlinewidth": 0,
              "ticks": ""
             }
            },
            "type": "scatterpolar"
           }
          ],
          "scatterpolargl": [
           {
            "marker": {
             "colorbar": {
              "outlinewidth": 0,
              "ticks": ""
             }
            },
            "type": "scatterpolargl"
           }
          ],
          "scatterternary": [
           {
            "marker": {
             "colorbar": {
              "outlinewidth": 0,
              "ticks": ""
             }
            },
            "type": "scatterternary"
           }
          ],
          "surface": [
           {
            "colorbar": {
             "outlinewidth": 0,
             "ticks": ""
            },
            "colorscale": [
             [
              0,
              "#0d0887"
             ],
             [
              0.1111111111111111,
              "#46039f"
             ],
             [
              0.2222222222222222,
              "#7201a8"
             ],
             [
              0.3333333333333333,
              "#9c179e"
             ],
             [
              0.4444444444444444,
              "#bd3786"
             ],
             [
              0.5555555555555556,
              "#d8576b"
             ],
             [
              0.6666666666666666,
              "#ed7953"
             ],
             [
              0.7777777777777778,
              "#fb9f3a"
             ],
             [
              0.8888888888888888,
              "#fdca26"
             ],
             [
              1,
              "#f0f921"
             ]
            ],
            "type": "surface"
           }
          ],
          "table": [
           {
            "cells": {
             "fill": {
              "color": "#EBF0F8"
             },
             "line": {
              "color": "white"
             }
            },
            "header": {
             "fill": {
              "color": "#C8D4E3"
             },
             "line": {
              "color": "white"
             }
            },
            "type": "table"
           }
          ]
         },
         "layout": {
          "annotationdefaults": {
           "arrowcolor": "#2a3f5f",
           "arrowhead": 0,
           "arrowwidth": 1
          },
          "autotypenumbers": "strict",
          "coloraxis": {
           "colorbar": {
            "outlinewidth": 0,
            "ticks": ""
           }
          },
          "colorscale": {
           "diverging": [
            [
             0,
             "#8e0152"
            ],
            [
             0.1,
             "#c51b7d"
            ],
            [
             0.2,
             "#de77ae"
            ],
            [
             0.3,
             "#f1b6da"
            ],
            [
             0.4,
             "#fde0ef"
            ],
            [
             0.5,
             "#f7f7f7"
            ],
            [
             0.6,
             "#e6f5d0"
            ],
            [
             0.7,
             "#b8e186"
            ],
            [
             0.8,
             "#7fbc41"
            ],
            [
             0.9,
             "#4d9221"
            ],
            [
             1,
             "#276419"
            ]
           ],
           "sequential": [
            [
             0,
             "#0d0887"
            ],
            [
             0.1111111111111111,
             "#46039f"
            ],
            [
             0.2222222222222222,
             "#7201a8"
            ],
            [
             0.3333333333333333,
             "#9c179e"
            ],
            [
             0.4444444444444444,
             "#bd3786"
            ],
            [
             0.5555555555555556,
             "#d8576b"
            ],
            [
             0.6666666666666666,
             "#ed7953"
            ],
            [
             0.7777777777777778,
             "#fb9f3a"
            ],
            [
             0.8888888888888888,
             "#fdca26"
            ],
            [
             1,
             "#f0f921"
            ]
           ],
           "sequentialminus": [
            [
             0,
             "#0d0887"
            ],
            [
             0.1111111111111111,
             "#46039f"
            ],
            [
             0.2222222222222222,
             "#7201a8"
            ],
            [
             0.3333333333333333,
             "#9c179e"
            ],
            [
             0.4444444444444444,
             "#bd3786"
            ],
            [
             0.5555555555555556,
             "#d8576b"
            ],
            [
             0.6666666666666666,
             "#ed7953"
            ],
            [
             0.7777777777777778,
             "#fb9f3a"
            ],
            [
             0.8888888888888888,
             "#fdca26"
            ],
            [
             1,
             "#f0f921"
            ]
           ]
          },
          "colorway": [
           "#636efa",
           "#EF553B",
           "#00cc96",
           "#ab63fa",
           "#FFA15A",
           "#19d3f3",
           "#FF6692",
           "#B6E880",
           "#FF97FF",
           "#FECB52"
          ],
          "font": {
           "color": "#2a3f5f"
          },
          "geo": {
           "bgcolor": "white",
           "lakecolor": "white",
           "landcolor": "#E5ECF6",
           "showlakes": true,
           "showland": true,
           "subunitcolor": "white"
          },
          "hoverlabel": {
           "align": "left"
          },
          "hovermode": "closest",
          "mapbox": {
           "style": "light"
          },
          "paper_bgcolor": "white",
          "plot_bgcolor": "#E5ECF6",
          "polar": {
           "angularaxis": {
            "gridcolor": "white",
            "linecolor": "white",
            "ticks": ""
           },
           "bgcolor": "#E5ECF6",
           "radialaxis": {
            "gridcolor": "white",
            "linecolor": "white",
            "ticks": ""
           }
          },
          "scene": {
           "xaxis": {
            "backgroundcolor": "#E5ECF6",
            "gridcolor": "white",
            "gridwidth": 2,
            "linecolor": "white",
            "showbackground": true,
            "ticks": "",
            "zerolinecolor": "white"
           },
           "yaxis": {
            "backgroundcolor": "#E5ECF6",
            "gridcolor": "white",
            "gridwidth": 2,
            "linecolor": "white",
            "showbackground": true,
            "ticks": "",
            "zerolinecolor": "white"
           },
           "zaxis": {
            "backgroundcolor": "#E5ECF6",
            "gridcolor": "white",
            "gridwidth": 2,
            "linecolor": "white",
            "showbackground": true,
            "ticks": "",
            "zerolinecolor": "white"
           }
          },
          "shapedefaults": {
           "line": {
            "color": "#2a3f5f"
           }
          },
          "ternary": {
           "aaxis": {
            "gridcolor": "white",
            "linecolor": "white",
            "ticks": ""
           },
           "baxis": {
            "gridcolor": "white",
            "linecolor": "white",
            "ticks": ""
           },
           "bgcolor": "#E5ECF6",
           "caxis": {
            "gridcolor": "white",
            "linecolor": "white",
            "ticks": ""
           }
          },
          "title": {
           "x": 0.05
          },
          "xaxis": {
           "automargin": true,
           "gridcolor": "white",
           "linecolor": "white",
           "ticks": "",
           "title": {
            "standoff": 15
           },
           "zerolinecolor": "white",
           "zerolinewidth": 2
          },
          "yaxis": {
           "automargin": true,
           "gridcolor": "white",
           "linecolor": "white",
           "ticks": "",
           "title": {
            "standoff": 15
           },
           "zerolinecolor": "white",
           "zerolinewidth": 2
          }
         }
        },
        "title": {
         "font": {
          "color": "black",
          "family": "Arial",
          "size": 19
         },
         "text": "Distribution of Current Loand by Booked Year"
        },
        "width": 1200,
        "xaxis": {
         "anchor": "y",
         "categoryorder": "array",
         "domain": [
          0,
          1
         ],
         "gridcolor": "lightgray",
         "tickfont": {
          "color": "black",
          "family": "Arial",
          "size": 12
         },
         "title": {
          "font": {
           "color": "black",
           "family": "Arial",
           "size": 19
          },
          "standoff": 28,
          "text": "Booked Year"
         }
        },
        "yaxis": {
         "anchor": "x",
         "domain": [
          0,
          1
         ],
         "gridcolor": "lightgray",
         "tickfont": {
          "color": "black",
          "family": "Arial",
          "size": 14
         },
         "title": {
          "font": {
           "color": "black",
           "family": "Arial",
           "size": 19
          },
          "text": "%Current Loans"
         }
        }
       }
      }
     },
     "metadata": {},
     "output_type": "display_data"
    }
   ],
   "source": [
    "df_current  = df[df['loan_status']=='Current']\n",
    "\n",
    "df_current['year_vintage'] = df_current['d_vintage'].dt.year\n",
    "\n",
    "df_group = df_current.groupby('year_vintage').agg({'id':'count'}).reset_index()\n",
    "\n",
    "df_group['pct_target'] = (df_group['id'] / df_current.shape[0]) * 100\n",
    "\n",
    "utils_plot.plot_chart(\n",
    "    df= df_group, \n",
    "    chart_type=\"bar\",\n",
    "    x_col=\"year_vintage\",\n",
    "    y_col=\"pct_target\",\n",
    "    text_col=\"\",\n",
    "    color_sequence= [  '#b4a7d6', ],\n",
    "    text_as_percentage=True,\n",
    "    text_position=\"top center\",\n",
    "    x_label='Booked Year',\n",
    "    y_label='%Current Loans',\n",
    "    title=\"Distribution of Current Loand by Booked Year\",\n",
    "    width=1200,\n",
    "    height=500, \n",
    ")"
   ]
  },
  {
   "cell_type": "markdown",
   "id": "271d9a16",
   "metadata": {},
   "source": [
    "\n",
    "## Target across the time to decide the Test set and the train"
   ]
  },
  {
   "cell_type": "code",
   "execution_count": 9,
   "id": "c493e124",
   "metadata": {},
   "outputs": [
    {
     "data": {
      "application/vnd.plotly.v1+json": {
       "config": {
        "plotlyServerURL": "https://plot.ly"
       },
       "data": [
        {
         "hovertemplate": "Booked Date=%{x}<br>Mean of Charged Off Loans=%{y}<extra></extra>",
         "legendgroup": "",
         "line": {
          "color": "#b4a7d6",
          "dash": "solid"
         },
         "marker": {
          "symbol": "circle"
         },
         "mode": "lines+markers",
         "name": "",
         "orientation": "v",
         "showlegend": false,
         "type": "scatter",
         "x": [
          "2007-06-01T00:00:00.000000000",
          "2007-07-01T00:00:00.000000000",
          "2007-08-01T00:00:00.000000000",
          "2007-09-01T00:00:00.000000000",
          "2007-10-01T00:00:00.000000000",
          "2007-11-01T00:00:00.000000000",
          "2007-12-01T00:00:00.000000000",
          "2008-01-01T00:00:00.000000000",
          "2008-02-01T00:00:00.000000000",
          "2008-03-01T00:00:00.000000000",
          "2008-04-01T00:00:00.000000000",
          "2008-05-01T00:00:00.000000000",
          "2008-06-01T00:00:00.000000000",
          "2008-07-01T00:00:00.000000000",
          "2008-08-01T00:00:00.000000000",
          "2008-09-01T00:00:00.000000000",
          "2008-10-01T00:00:00.000000000",
          "2008-11-01T00:00:00.000000000",
          "2008-12-01T00:00:00.000000000",
          "2009-01-01T00:00:00.000000000",
          "2009-02-01T00:00:00.000000000",
          "2009-03-01T00:00:00.000000000",
          "2009-04-01T00:00:00.000000000",
          "2009-05-01T00:00:00.000000000",
          "2009-06-01T00:00:00.000000000",
          "2009-07-01T00:00:00.000000000",
          "2009-08-01T00:00:00.000000000",
          "2009-09-01T00:00:00.000000000",
          "2009-10-01T00:00:00.000000000",
          "2009-11-01T00:00:00.000000000",
          "2009-12-01T00:00:00.000000000",
          "2010-01-01T00:00:00.000000000",
          "2010-02-01T00:00:00.000000000",
          "2010-03-01T00:00:00.000000000",
          "2010-04-01T00:00:00.000000000",
          "2010-05-01T00:00:00.000000000",
          "2010-06-01T00:00:00.000000000",
          "2010-07-01T00:00:00.000000000",
          "2010-08-01T00:00:00.000000000",
          "2010-09-01T00:00:00.000000000",
          "2010-10-01T00:00:00.000000000",
          "2010-11-01T00:00:00.000000000",
          "2010-12-01T00:00:00.000000000",
          "2011-01-01T00:00:00.000000000",
          "2011-02-01T00:00:00.000000000",
          "2011-03-01T00:00:00.000000000",
          "2011-04-01T00:00:00.000000000",
          "2011-05-01T00:00:00.000000000",
          "2011-06-01T00:00:00.000000000",
          "2011-07-01T00:00:00.000000000",
          "2011-08-01T00:00:00.000000000",
          "2011-09-01T00:00:00.000000000",
          "2011-10-01T00:00:00.000000000",
          "2011-11-01T00:00:00.000000000",
          "2011-12-01T00:00:00.000000000",
          "2012-01-01T00:00:00.000000000",
          "2012-02-01T00:00:00.000000000",
          "2012-03-01T00:00:00.000000000",
          "2012-04-01T00:00:00.000000000",
          "2012-05-01T00:00:00.000000000",
          "2012-06-01T00:00:00.000000000",
          "2012-07-01T00:00:00.000000000",
          "2012-08-01T00:00:00.000000000",
          "2012-09-01T00:00:00.000000000",
          "2012-10-01T00:00:00.000000000",
          "2012-11-01T00:00:00.000000000",
          "2012-12-01T00:00:00.000000000",
          "2013-01-01T00:00:00.000000000",
          "2013-02-01T00:00:00.000000000",
          "2013-03-01T00:00:00.000000000",
          "2013-04-01T00:00:00.000000000",
          "2013-05-01T00:00:00.000000000",
          "2013-06-01T00:00:00.000000000",
          "2013-07-01T00:00:00.000000000",
          "2013-08-01T00:00:00.000000000",
          "2013-09-01T00:00:00.000000000",
          "2013-10-01T00:00:00.000000000",
          "2013-11-01T00:00:00.000000000",
          "2013-12-01T00:00:00.000000000",
          "2014-01-01T00:00:00.000000000",
          "2014-02-01T00:00:00.000000000",
          "2014-03-01T00:00:00.000000000",
          "2014-04-01T00:00:00.000000000",
          "2014-05-01T00:00:00.000000000",
          "2014-06-01T00:00:00.000000000",
          "2014-07-01T00:00:00.000000000",
          "2014-08-01T00:00:00.000000000",
          "2014-09-01T00:00:00.000000000",
          "2014-10-01T00:00:00.000000000",
          "2014-11-01T00:00:00.000000000",
          "2014-12-01T00:00:00.000000000",
          "2015-01-01T00:00:00.000000000",
          "2015-02-01T00:00:00.000000000",
          "2015-03-01T00:00:00.000000000",
          "2015-04-01T00:00:00.000000000",
          "2015-05-01T00:00:00.000000000",
          "2015-06-01T00:00:00.000000000",
          "2015-07-01T00:00:00.000000000",
          "2015-08-01T00:00:00.000000000",
          "2015-09-01T00:00:00.000000000",
          "2015-10-01T00:00:00.000000000",
          "2015-11-01T00:00:00.000000000",
          "2015-12-01T00:00:00.000000000",
          "2016-01-01T00:00:00.000000000",
          "2016-02-01T00:00:00.000000000",
          "2016-03-01T00:00:00.000000000",
          "2016-04-01T00:00:00.000000000",
          "2016-05-01T00:00:00.000000000",
          "2016-06-01T00:00:00.000000000",
          "2016-07-01T00:00:00.000000000",
          "2016-08-01T00:00:00.000000000",
          "2016-09-01T00:00:00.000000000",
          "2016-10-01T00:00:00.000000000",
          "2016-11-01T00:00:00.000000000",
          "2016-12-01T00:00:00.000000000",
          "2017-01-01T00:00:00.000000000",
          "2017-02-01T00:00:00.000000000",
          "2017-03-01T00:00:00.000000000",
          "2017-04-01T00:00:00.000000000",
          "2017-05-01T00:00:00.000000000",
          "2017-06-01T00:00:00.000000000",
          "2017-07-01T00:00:00.000000000",
          "2017-08-01T00:00:00.000000000",
          "2017-09-01T00:00:00.000000000",
          "2017-10-01T00:00:00.000000000",
          "2017-11-01T00:00:00.000000000",
          "2017-12-01T00:00:00.000000000",
          "2018-01-01T00:00:00.000000000",
          "2018-02-01T00:00:00.000000000",
          "2018-03-01T00:00:00.000000000",
          "2018-04-01T00:00:00.000000000",
          "2018-05-01T00:00:00.000000000",
          "2018-06-01T00:00:00.000000000",
          "2018-07-01T00:00:00.000000000",
          "2018-08-01T00:00:00.000000000",
          "2018-09-01T00:00:00.000000000",
          "2018-10-01T00:00:00.000000000",
          "2018-11-01T00:00:00.000000000",
          "2018-12-01T00:00:00.000000000"
         ],
         "xaxis": "x",
         "y": {
          "bdata": "AAAAAAAAKUCO4ziO4zgmQG8wRT7rBjtATTDeyj6HOEAMwzAMwzBAQLZt27ZtWz5AlDVlTVlTO0AJ1tHmfYo7QJpE75lE7zNAK+6dZKkjNkAxRT7rBlM4QJze9KY3vTVAvvfee++9MUD1nY36zkY1QAAAAAAAAChAs5jOYjqLMUDFJUOwjjYxQEtT/JIIqTJAzEPBldyeL0C4tkCst3suQPmb/E3+JitAmx8WKQNPKUDeVksW720tQD4YcqCJaSxAJEmSJEmSLEBXnN/bTTksQGDzVArpayZACAPOuBYJKkClOdIcaY4wQHY4xWMdTi1Aws9NvJ6UJUCiLS9paMsrQP75559//iVAMNcOzLUDJUBjOovpLCYmQIp9V4bNHi1AgtC8gdC8MUAbBSI4dmkqQPWdjfrORi1Af/Cn5FJTMUAvuuiii64uQO1CmO1CmCxAArp6gK4eKEBvetOb3vQqQDvFrHpBCipANxXNE2oBLUDDm2s9K2gsQPDVFrnOBDFAAzWMuWqJLUAVrkfhehQuQK89MYpaBixAQ0KTmTjNLUA9QjolYo4tQClM2xcK0y5ACVXdiAwDM0AQsypL+ugwQAAAAAAAcjBAUY62QapnLkDscmWASrYuQDw8PDw8vDBAu/9jpa60MkADkqvxULMxQBQIf/0eUDBAnU+NIDY/L0BT4PCdWLguQCJZ3+CbHzBAjXN/qnwzLkDmWp3QDI8uQB+pVa4Lry5Afb60f5ECLUCXR2Kgee8vQF/dI61MnjBA3Lt2W04oMEByS3cjLSIvQDgWWsovoS5AnvmLGdCZL0CBBz4v/2IvQN70pje9yS5AzJhABfugLkDOgFgLWrovQAduha87mzBAlVJMUrX5MECd5JnrFUUyQLjliMGfWTJArdUB/opOM0CVPjZJTsgyQBfF9/zI0DJAUXla6I7dMkCxHTm68LAzQOK0j237QTNACHjoKtJ6MkDCSri3wgs0QOf/mqOKYjNAgJatkT3XNEBB0q8qbHo0QHeKUeGmfDRAiJDLGQrONEAoe6KYvzc0QPmXCewH/zNA8VHZE6+YNEBjZjzNTQwzQOs3SWWj3zNAuJYjrUfcNEC1HYVaAzwzQJ9amIeGdjNAxfGfKfOlNUAOuWabH5w5QMbGS3y2KzpAZXHwidJOOEAUIrtycpw6QLCM/MUpKDpAW/TEK0nbOEB3JmgoXHI2QIL4diWtRDhAMJhvbyvtOEC4NEiYZK82QH3jMLvONzdApE6HAtjwNkDwEba3y8s3QM3O3+jE7zdAkddlVGKlN0BCczqt8w84QETgxjIo5TZAmABzYdb4OEBaso9+lS82QK+59X2i4jRAEGZsNXRYNUCw+f0lRnIzQC2ggECFejNA8bvTUHZzM0BzfiOws6szQFdGzreBIDJATdXTlP/tL0D5w2qycIMoQOXmPbHppiFAZjK1W0SPHEDoC/qCvqAPQIeHh4eHh/c/qqqqqqqq8D8=",
          "dtype": "f8"
         },
         "yaxis": "y"
        }
       ],
       "layout": {
        "height": 500,
        "legend": {
         "tracegroupgap": 0
        },
        "margin": {
         "t": 60
        },
        "plot_bgcolor": "white",
        "template": {
         "data": {
          "bar": [
           {
            "error_x": {
             "color": "#2a3f5f"
            },
            "error_y": {
             "color": "#2a3f5f"
            },
            "marker": {
             "line": {
              "color": "#E5ECF6",
              "width": 0.5
             },
             "pattern": {
              "fillmode": "overlay",
              "size": 10,
              "solidity": 0.2
             }
            },
            "type": "bar"
           }
          ],
          "barpolar": [
           {
            "marker": {
             "line": {
              "color": "#E5ECF6",
              "width": 0.5
             },
             "pattern": {
              "fillmode": "overlay",
              "size": 10,
              "solidity": 0.2
             }
            },
            "type": "barpolar"
           }
          ],
          "carpet": [
           {
            "aaxis": {
             "endlinecolor": "#2a3f5f",
             "gridcolor": "white",
             "linecolor": "white",
             "minorgridcolor": "white",
             "startlinecolor": "#2a3f5f"
            },
            "baxis": {
             "endlinecolor": "#2a3f5f",
             "gridcolor": "white",
             "linecolor": "white",
             "minorgridcolor": "white",
             "startlinecolor": "#2a3f5f"
            },
            "type": "carpet"
           }
          ],
          "choropleth": [
           {
            "colorbar": {
             "outlinewidth": 0,
             "ticks": ""
            },
            "type": "choropleth"
           }
          ],
          "contour": [
           {
            "colorbar": {
             "outlinewidth": 0,
             "ticks": ""
            },
            "colorscale": [
             [
              0,
              "#0d0887"
             ],
             [
              0.1111111111111111,
              "#46039f"
             ],
             [
              0.2222222222222222,
              "#7201a8"
             ],
             [
              0.3333333333333333,
              "#9c179e"
             ],
             [
              0.4444444444444444,
              "#bd3786"
             ],
             [
              0.5555555555555556,
              "#d8576b"
             ],
             [
              0.6666666666666666,
              "#ed7953"
             ],
             [
              0.7777777777777778,
              "#fb9f3a"
             ],
             [
              0.8888888888888888,
              "#fdca26"
             ],
             [
              1,
              "#f0f921"
             ]
            ],
            "type": "contour"
           }
          ],
          "contourcarpet": [
           {
            "colorbar": {
             "outlinewidth": 0,
             "ticks": ""
            },
            "type": "contourcarpet"
           }
          ],
          "heatmap": [
           {
            "colorbar": {
             "outlinewidth": 0,
             "ticks": ""
            },
            "colorscale": [
             [
              0,
              "#0d0887"
             ],
             [
              0.1111111111111111,
              "#46039f"
             ],
             [
              0.2222222222222222,
              "#7201a8"
             ],
             [
              0.3333333333333333,
              "#9c179e"
             ],
             [
              0.4444444444444444,
              "#bd3786"
             ],
             [
              0.5555555555555556,
              "#d8576b"
             ],
             [
              0.6666666666666666,
              "#ed7953"
             ],
             [
              0.7777777777777778,
              "#fb9f3a"
             ],
             [
              0.8888888888888888,
              "#fdca26"
             ],
             [
              1,
              "#f0f921"
             ]
            ],
            "type": "heatmap"
           }
          ],
          "histogram": [
           {
            "marker": {
             "pattern": {
              "fillmode": "overlay",
              "size": 10,
              "solidity": 0.2
             }
            },
            "type": "histogram"
           }
          ],
          "histogram2d": [
           {
            "colorbar": {
             "outlinewidth": 0,
             "ticks": ""
            },
            "colorscale": [
             [
              0,
              "#0d0887"
             ],
             [
              0.1111111111111111,
              "#46039f"
             ],
             [
              0.2222222222222222,
              "#7201a8"
             ],
             [
              0.3333333333333333,
              "#9c179e"
             ],
             [
              0.4444444444444444,
              "#bd3786"
             ],
             [
              0.5555555555555556,
              "#d8576b"
             ],
             [
              0.6666666666666666,
              "#ed7953"
             ],
             [
              0.7777777777777778,
              "#fb9f3a"
             ],
             [
              0.8888888888888888,
              "#fdca26"
             ],
             [
              1,
              "#f0f921"
             ]
            ],
            "type": "histogram2d"
           }
          ],
          "histogram2dcontour": [
           {
            "colorbar": {
             "outlinewidth": 0,
             "ticks": ""
            },
            "colorscale": [
             [
              0,
              "#0d0887"
             ],
             [
              0.1111111111111111,
              "#46039f"
             ],
             [
              0.2222222222222222,
              "#7201a8"
             ],
             [
              0.3333333333333333,
              "#9c179e"
             ],
             [
              0.4444444444444444,
              "#bd3786"
             ],
             [
              0.5555555555555556,
              "#d8576b"
             ],
             [
              0.6666666666666666,
              "#ed7953"
             ],
             [
              0.7777777777777778,
              "#fb9f3a"
             ],
             [
              0.8888888888888888,
              "#fdca26"
             ],
             [
              1,
              "#f0f921"
             ]
            ],
            "type": "histogram2dcontour"
           }
          ],
          "mesh3d": [
           {
            "colorbar": {
             "outlinewidth": 0,
             "ticks": ""
            },
            "type": "mesh3d"
           }
          ],
          "parcoords": [
           {
            "line": {
             "colorbar": {
              "outlinewidth": 0,
              "ticks": ""
             }
            },
            "type": "parcoords"
           }
          ],
          "pie": [
           {
            "automargin": true,
            "type": "pie"
           }
          ],
          "scatter": [
           {
            "fillpattern": {
             "fillmode": "overlay",
             "size": 10,
             "solidity": 0.2
            },
            "type": "scatter"
           }
          ],
          "scatter3d": [
           {
            "line": {
             "colorbar": {
              "outlinewidth": 0,
              "ticks": ""
             }
            },
            "marker": {
             "colorbar": {
              "outlinewidth": 0,
              "ticks": ""
             }
            },
            "type": "scatter3d"
           }
          ],
          "scattercarpet": [
           {
            "marker": {
             "colorbar": {
              "outlinewidth": 0,
              "ticks": ""
             }
            },
            "type": "scattercarpet"
           }
          ],
          "scattergeo": [
           {
            "marker": {
             "colorbar": {
              "outlinewidth": 0,
              "ticks": ""
             }
            },
            "type": "scattergeo"
           }
          ],
          "scattergl": [
           {
            "marker": {
             "colorbar": {
              "outlinewidth": 0,
              "ticks": ""
             }
            },
            "type": "scattergl"
           }
          ],
          "scattermap": [
           {
            "marker": {
             "colorbar": {
              "outlinewidth": 0,
              "ticks": ""
             }
            },
            "type": "scattermap"
           }
          ],
          "scattermapbox": [
           {
            "marker": {
             "colorbar": {
              "outlinewidth": 0,
              "ticks": ""
             }
            },
            "type": "scattermapbox"
           }
          ],
          "scatterpolar": [
           {
            "marker": {
             "colorbar": {
              "outlinewidth": 0,
              "ticks": ""
             }
            },
            "type": "scatterpolar"
           }
          ],
          "scatterpolargl": [
           {
            "marker": {
             "colorbar": {
              "outlinewidth": 0,
              "ticks": ""
             }
            },
            "type": "scatterpolargl"
           }
          ],
          "scatterternary": [
           {
            "marker": {
             "colorbar": {
              "outlinewidth": 0,
              "ticks": ""
             }
            },
            "type": "scatterternary"
           }
          ],
          "surface": [
           {
            "colorbar": {
             "outlinewidth": 0,
             "ticks": ""
            },
            "colorscale": [
             [
              0,
              "#0d0887"
             ],
             [
              0.1111111111111111,
              "#46039f"
             ],
             [
              0.2222222222222222,
              "#7201a8"
             ],
             [
              0.3333333333333333,
              "#9c179e"
             ],
             [
              0.4444444444444444,
              "#bd3786"
             ],
             [
              0.5555555555555556,
              "#d8576b"
             ],
             [
              0.6666666666666666,
              "#ed7953"
             ],
             [
              0.7777777777777778,
              "#fb9f3a"
             ],
             [
              0.8888888888888888,
              "#fdca26"
             ],
             [
              1,
              "#f0f921"
             ]
            ],
            "type": "surface"
           }
          ],
          "table": [
           {
            "cells": {
             "fill": {
              "color": "#EBF0F8"
             },
             "line": {
              "color": "white"
             }
            },
            "header": {
             "fill": {
              "color": "#C8D4E3"
             },
             "line": {
              "color": "white"
             }
            },
            "type": "table"
           }
          ]
         },
         "layout": {
          "annotationdefaults": {
           "arrowcolor": "#2a3f5f",
           "arrowhead": 0,
           "arrowwidth": 1
          },
          "autotypenumbers": "strict",
          "coloraxis": {
           "colorbar": {
            "outlinewidth": 0,
            "ticks": ""
           }
          },
          "colorscale": {
           "diverging": [
            [
             0,
             "#8e0152"
            ],
            [
             0.1,
             "#c51b7d"
            ],
            [
             0.2,
             "#de77ae"
            ],
            [
             0.3,
             "#f1b6da"
            ],
            [
             0.4,
             "#fde0ef"
            ],
            [
             0.5,
             "#f7f7f7"
            ],
            [
             0.6,
             "#e6f5d0"
            ],
            [
             0.7,
             "#b8e186"
            ],
            [
             0.8,
             "#7fbc41"
            ],
            [
             0.9,
             "#4d9221"
            ],
            [
             1,
             "#276419"
            ]
           ],
           "sequential": [
            [
             0,
             "#0d0887"
            ],
            [
             0.1111111111111111,
             "#46039f"
            ],
            [
             0.2222222222222222,
             "#7201a8"
            ],
            [
             0.3333333333333333,
             "#9c179e"
            ],
            [
             0.4444444444444444,
             "#bd3786"
            ],
            [
             0.5555555555555556,
             "#d8576b"
            ],
            [
             0.6666666666666666,
             "#ed7953"
            ],
            [
             0.7777777777777778,
             "#fb9f3a"
            ],
            [
             0.8888888888888888,
             "#fdca26"
            ],
            [
             1,
             "#f0f921"
            ]
           ],
           "sequentialminus": [
            [
             0,
             "#0d0887"
            ],
            [
             0.1111111111111111,
             "#46039f"
            ],
            [
             0.2222222222222222,
             "#7201a8"
            ],
            [
             0.3333333333333333,
             "#9c179e"
            ],
            [
             0.4444444444444444,
             "#bd3786"
            ],
            [
             0.5555555555555556,
             "#d8576b"
            ],
            [
             0.6666666666666666,
             "#ed7953"
            ],
            [
             0.7777777777777778,
             "#fb9f3a"
            ],
            [
             0.8888888888888888,
             "#fdca26"
            ],
            [
             1,
             "#f0f921"
            ]
           ]
          },
          "colorway": [
           "#636efa",
           "#EF553B",
           "#00cc96",
           "#ab63fa",
           "#FFA15A",
           "#19d3f3",
           "#FF6692",
           "#B6E880",
           "#FF97FF",
           "#FECB52"
          ],
          "font": {
           "color": "#2a3f5f"
          },
          "geo": {
           "bgcolor": "white",
           "lakecolor": "white",
           "landcolor": "#E5ECF6",
           "showlakes": true,
           "showland": true,
           "subunitcolor": "white"
          },
          "hoverlabel": {
           "align": "left"
          },
          "hovermode": "closest",
          "mapbox": {
           "style": "light"
          },
          "paper_bgcolor": "white",
          "plot_bgcolor": "#E5ECF6",
          "polar": {
           "angularaxis": {
            "gridcolor": "white",
            "linecolor": "white",
            "ticks": ""
           },
           "bgcolor": "#E5ECF6",
           "radialaxis": {
            "gridcolor": "white",
            "linecolor": "white",
            "ticks": ""
           }
          },
          "scene": {
           "xaxis": {
            "backgroundcolor": "#E5ECF6",
            "gridcolor": "white",
            "gridwidth": 2,
            "linecolor": "white",
            "showbackground": true,
            "ticks": "",
            "zerolinecolor": "white"
           },
           "yaxis": {
            "backgroundcolor": "#E5ECF6",
            "gridcolor": "white",
            "gridwidth": 2,
            "linecolor": "white",
            "showbackground": true,
            "ticks": "",
            "zerolinecolor": "white"
           },
           "zaxis": {
            "backgroundcolor": "#E5ECF6",
            "gridcolor": "white",
            "gridwidth": 2,
            "linecolor": "white",
            "showbackground": true,
            "ticks": "",
            "zerolinecolor": "white"
           }
          },
          "shapedefaults": {
           "line": {
            "color": "#2a3f5f"
           }
          },
          "ternary": {
           "aaxis": {
            "gridcolor": "white",
            "linecolor": "white",
            "ticks": ""
           },
           "baxis": {
            "gridcolor": "white",
            "linecolor": "white",
            "ticks": ""
           },
           "bgcolor": "#E5ECF6",
           "caxis": {
            "gridcolor": "white",
            "linecolor": "white",
            "ticks": ""
           }
          },
          "title": {
           "x": 0.05
          },
          "xaxis": {
           "automargin": true,
           "gridcolor": "white",
           "linecolor": "white",
           "ticks": "",
           "title": {
            "standoff": 15
           },
           "zerolinecolor": "white",
           "zerolinewidth": 2
          },
          "yaxis": {
           "automargin": true,
           "gridcolor": "white",
           "linecolor": "white",
           "ticks": "",
           "title": {
            "standoff": 15
           },
           "zerolinecolor": "white",
           "zerolinewidth": 2
          }
         }
        },
        "title": {
         "font": {
          "color": "black",
          "family": "Arial",
          "size": 19
         },
         "text": "Evolution of Charged Off Loans by Loan Booking Date"
        },
        "width": 1200,
        "xaxis": {
         "anchor": "y",
         "categoryorder": "array",
         "domain": [
          0,
          1
         ],
         "gridcolor": "lightgray",
         "tickfont": {
          "color": "black",
          "family": "Arial",
          "size": 12
         },
         "title": {
          "font": {
           "color": "black",
           "family": "Arial",
           "size": 19
          },
          "standoff": 28,
          "text": "Booked Date"
         }
        },
        "yaxis": {
         "anchor": "x",
         "domain": [
          0,
          1
         ],
         "gridcolor": "lightgray",
         "tickfont": {
          "color": "black",
          "family": "Arial",
          "size": 14
         },
         "title": {
          "font": {
           "color": "black",
           "family": "Arial",
           "size": 19
          },
          "text": "Mean of Charged Off Loans"
         }
        }
       }
      }
     },
     "metadata": {},
     "output_type": "display_data"
    }
   ],
   "source": [
    "df_group = df.groupby(['d_vintage']).agg({'target': 'mean'}).reset_index()\n",
    "\n",
    "df_group['target'] = df_group['target']*100\n",
    "\n",
    "utils_plot.plot_chart(\n",
    "    df= df_group, \n",
    "    chart_type=\"line\",\n",
    "    x_col=\"d_vintage\",\n",
    "    y_col=\"target\",\n",
    "    text_col=\"\",\n",
    "    color_sequence= [  '#b4a7d6', ],\n",
    "    text_as_percentage=True,\n",
    "    text_position=\"top center\",\n",
    "    x_label='Booked Date',\n",
    "    y_label='Mean of Charged Off Loans',\n",
    "    title=\"Evolution of Charged Off Loans by Loan Booking Date\",\n",
    "    width=1200,\n",
    "    height=500,\n",
    ")"
   ]
  },
  {
   "cell_type": "code",
   "execution_count": 10,
   "id": "13e9a196",
   "metadata": {},
   "outputs": [
    {
     "data": {
      "application/vnd.plotly.v1+json": {
       "config": {
        "plotlyServerURL": "https://plot.ly"
       },
       "data": [
        {
         "hovertemplate": "Set=Train<br>Booked Year=%{x}<br>%Current Loans=%{y}<extra></extra>",
         "legendgroup": "Train",
         "marker": {
          "color": "#b4a7d6",
          "pattern": {
           "shape": ""
          }
         },
         "name": "Train",
         "orientation": "v",
         "showlegend": true,
         "textposition": "auto",
         "type": "bar",
         "x": [
          "2007-06-01T00:00:00.000000000",
          "2007-07-01T00:00:00.000000000",
          "2007-08-01T00:00:00.000000000",
          "2007-09-01T00:00:00.000000000",
          "2007-10-01T00:00:00.000000000",
          "2007-11-01T00:00:00.000000000",
          "2007-12-01T00:00:00.000000000",
          "2008-01-01T00:00:00.000000000",
          "2008-02-01T00:00:00.000000000",
          "2008-03-01T00:00:00.000000000",
          "2008-04-01T00:00:00.000000000",
          "2008-05-01T00:00:00.000000000",
          "2008-06-01T00:00:00.000000000",
          "2008-07-01T00:00:00.000000000",
          "2008-08-01T00:00:00.000000000",
          "2008-09-01T00:00:00.000000000",
          "2008-10-01T00:00:00.000000000",
          "2008-11-01T00:00:00.000000000",
          "2008-12-01T00:00:00.000000000",
          "2009-01-01T00:00:00.000000000",
          "2009-02-01T00:00:00.000000000",
          "2009-03-01T00:00:00.000000000",
          "2009-04-01T00:00:00.000000000",
          "2009-05-01T00:00:00.000000000",
          "2009-06-01T00:00:00.000000000",
          "2009-07-01T00:00:00.000000000",
          "2009-08-01T00:00:00.000000000",
          "2009-09-01T00:00:00.000000000",
          "2009-10-01T00:00:00.000000000",
          "2009-11-01T00:00:00.000000000",
          "2009-12-01T00:00:00.000000000",
          "2010-01-01T00:00:00.000000000",
          "2010-02-01T00:00:00.000000000",
          "2010-03-01T00:00:00.000000000",
          "2010-04-01T00:00:00.000000000",
          "2010-05-01T00:00:00.000000000",
          "2010-06-01T00:00:00.000000000",
          "2010-07-01T00:00:00.000000000",
          "2010-08-01T00:00:00.000000000",
          "2010-09-01T00:00:00.000000000",
          "2010-10-01T00:00:00.000000000",
          "2010-11-01T00:00:00.000000000",
          "2010-12-01T00:00:00.000000000",
          "2011-01-01T00:00:00.000000000",
          "2011-02-01T00:00:00.000000000",
          "2011-03-01T00:00:00.000000000",
          "2011-04-01T00:00:00.000000000",
          "2011-05-01T00:00:00.000000000",
          "2011-06-01T00:00:00.000000000",
          "2011-07-01T00:00:00.000000000",
          "2011-08-01T00:00:00.000000000",
          "2011-09-01T00:00:00.000000000",
          "2011-10-01T00:00:00.000000000",
          "2011-11-01T00:00:00.000000000",
          "2011-12-01T00:00:00.000000000",
          "2012-01-01T00:00:00.000000000",
          "2012-02-01T00:00:00.000000000",
          "2012-03-01T00:00:00.000000000",
          "2012-04-01T00:00:00.000000000",
          "2012-05-01T00:00:00.000000000",
          "2012-06-01T00:00:00.000000000",
          "2012-07-01T00:00:00.000000000",
          "2012-08-01T00:00:00.000000000",
          "2012-09-01T00:00:00.000000000",
          "2012-10-01T00:00:00.000000000",
          "2012-11-01T00:00:00.000000000",
          "2012-12-01T00:00:00.000000000",
          "2013-01-01T00:00:00.000000000",
          "2013-02-01T00:00:00.000000000",
          "2013-03-01T00:00:00.000000000",
          "2013-04-01T00:00:00.000000000",
          "2013-05-01T00:00:00.000000000",
          "2013-06-01T00:00:00.000000000",
          "2013-07-01T00:00:00.000000000",
          "2013-08-01T00:00:00.000000000",
          "2013-09-01T00:00:00.000000000",
          "2013-10-01T00:00:00.000000000",
          "2013-11-01T00:00:00.000000000",
          "2013-12-01T00:00:00.000000000",
          "2014-01-01T00:00:00.000000000",
          "2014-02-01T00:00:00.000000000",
          "2014-03-01T00:00:00.000000000",
          "2014-04-01T00:00:00.000000000",
          "2014-05-01T00:00:00.000000000",
          "2014-06-01T00:00:00.000000000",
          "2014-07-01T00:00:00.000000000",
          "2014-08-01T00:00:00.000000000",
          "2014-09-01T00:00:00.000000000",
          "2014-10-01T00:00:00.000000000",
          "2014-11-01T00:00:00.000000000",
          "2014-12-01T00:00:00.000000000",
          "2015-01-01T00:00:00.000000000",
          "2015-02-01T00:00:00.000000000",
          "2015-03-01T00:00:00.000000000",
          "2015-04-01T00:00:00.000000000",
          "2015-05-01T00:00:00.000000000",
          "2015-06-01T00:00:00.000000000",
          "2015-07-01T00:00:00.000000000",
          "2015-08-01T00:00:00.000000000",
          "2015-09-01T00:00:00.000000000",
          "2015-10-01T00:00:00.000000000",
          "2015-11-01T00:00:00.000000000",
          "2015-12-01T00:00:00.000000000",
          "2016-01-01T00:00:00.000000000",
          "2016-02-01T00:00:00.000000000",
          "2016-03-01T00:00:00.000000000",
          "2016-04-01T00:00:00.000000000",
          "2016-05-01T00:00:00.000000000",
          "2016-06-01T00:00:00.000000000"
         ],
         "xaxis": "x",
         "y": {
          "bdata": "Svi110YrXT/wao99ZiRzP7hEnJsGfHY/aHZsHI8acD+PB+97Ved/PysmKlPpA4E/wQOTdm8hij+KiKpECiuXP9oB5XN8Ppc/7H/SKU6Jnj8hvCjIhayTPwz+iG6WeIE/r4WlwJ3Wgj9VomkGyGuFP02NXctpYn4/awsUELJRcT9uoLsD1YiCP/AUeh1xwI8/QOTJrNg3kz9DeXGg+26UP5kc+7az8JY/fYkBxoOcmD9QzQ9vh0uZP3MfADsgRZs/LWW85hbXnj++w+DSUTifP9qs7yN38KA/6CBnxJFBoz+ZHPu2s/CmP6/amhCjJKk/Duglsr79qD+v2poQoySpP9GX4+gY56k/ry+QYKhyrz9rCxQQslGxP7OqOR0IyLI/yWjZdvf7tD9Jo8CHQd22P8OzWLFFULY/XVylVlWUtj969FnSYGW3P9oB5XN8Prc/S6h7Eh1auT8Rfc2l4TS6PybGnt08prg/ZYuvyHZ/uz8mq4CWia69P7nvpksBLsA/OXIEEW9swT/L0Cj9qc3BP3oPeBkUXcI/TzCkal6gwz+u9bhXVhzEP2U2unhxMcU/JAlaB4WGxT8ioQqB0rTIPz2kFwm7Tsg/WRzzsjeryz851Hj8VavOPxGzCTRIJNA/yqztIhgf0j9G6t25jPfVP0dfrNsgutk/HKh1DwDm3D+N3vgW6LvdP9LEO1aJTN4/4uh4MXrM3D8FRE0eCVDgPwtIMKe78uE/RFMFQmij4z/La2N90VvmP0GlcIuTkeg/idazhTLf6T9GP9MJkkXsP6BPZzHYFe4/OUJbDw3U7j8BMu9waMTwPwz+iG6WePE/iccDZk/R8T+kzEFyOYjyP18dcLzzC/I/CrhDPnQ48z9h7epBdZH1PxxRTzv5evU/4Whc+AU28z/wNxLA/1gAQI8Xv6soC/U/v/7X65Ok5z+Xq46dImgFQHHD+lRaP/s/qWak8Dc85j8HJc3OUh4DQF4Z6iwNtPk/KALL8XM3+z+LQMZT2NwCQCH3jR3WCQFAY9m4CZ8z/j9hIGj/21wIQO7gx2QV0AJAUGhK767Z/T9mLKFchoIJQOBEIR50hwNAhiylXkQlB0CIhbIBItoAQIrDD5paiARAhcBhDJ0KDUCZuWa73Jv8PxF0sBIDfvU/s7WHNOib+D8=",
          "dtype": "f8"
         },
         "yaxis": "y"
        },
        {
         "hovertemplate": "Set=Test<br>Booked Year=%{x}<br>%Current Loans=%{y}<extra></extra>",
         "legendgroup": "Test",
         "marker": {
          "color": "#6c6480",
          "pattern": {
           "shape": ""
          }
         },
         "name": "Test",
         "orientation": "v",
         "showlegend": true,
         "textposition": "auto",
         "type": "bar",
         "x": [
          "2016-07-01T00:00:00.000000000",
          "2016-08-01T00:00:00.000000000",
          "2016-09-01T00:00:00.000000000",
          "2016-10-01T00:00:00.000000000",
          "2016-11-01T00:00:00.000000000",
          "2016-12-01T00:00:00.000000000",
          "2017-01-01T00:00:00.000000000",
          "2017-02-01T00:00:00.000000000",
          "2017-03-01T00:00:00.000000000",
          "2017-04-01T00:00:00.000000000",
          "2017-05-01T00:00:00.000000000",
          "2017-06-01T00:00:00.000000000",
          "2017-07-01T00:00:00.000000000",
          "2017-08-01T00:00:00.000000000",
          "2017-09-01T00:00:00.000000000",
          "2017-10-01T00:00:00.000000000",
          "2017-11-01T00:00:00.000000000",
          "2017-12-01T00:00:00.000000000",
          "2018-01-01T00:00:00.000000000",
          "2018-02-01T00:00:00.000000000",
          "2018-03-01T00:00:00.000000000",
          "2018-04-01T00:00:00.000000000",
          "2018-05-01T00:00:00.000000000",
          "2018-06-01T00:00:00.000000000",
          "2018-07-01T00:00:00.000000000",
          "2018-08-01T00:00:00.000000000",
          "2018-09-01T00:00:00.000000000",
          "2018-10-01T00:00:00.000000000",
          "2018-11-01T00:00:00.000000000",
          "2018-12-01T00:00:00.000000000"
         ],
         "xaxis": "x",
         "y": {
          "bdata": "QzoYf7bI+T95Hig592r6P1b75OWzEfQ/dzt3BKx/9j9Jx/th04v2P+Y5MABg/vY/JXPaETl18z+1MUJlWfjvP+RYsE8WMPQ//DmP+ooa7z+JboiGYyvzP3KyGbF1FPI/SYdtRZnA8T/OrUal8GHyP0trU3XZ0O8/wyyJ29xM7D+w4YYfgL7sPzk13HMr4+c/WjOv8edo5D9OKbhbgQbgP0mYcnBhCeE/J0kMq6Jv4D/CxDlVKnvfP4ZjFuifOdc/P1TdQ5F91D9vVONGrvHQP8BGTqC3Acc/79qiFB9qxD/OVzFF+/2+P7vZQ48ps7c/",
          "dtype": "f8"
         },
         "yaxis": "y"
        }
       ],
       "layout": {
        "barmode": "group",
        "height": 500,
        "legend": {
         "title": {
          "text": "Set"
         },
         "tracegroupgap": 0
        },
        "margin": {
         "t": 60
        },
        "plot_bgcolor": "white",
        "template": {
         "data": {
          "bar": [
           {
            "error_x": {
             "color": "#2a3f5f"
            },
            "error_y": {
             "color": "#2a3f5f"
            },
            "marker": {
             "line": {
              "color": "#E5ECF6",
              "width": 0.5
             },
             "pattern": {
              "fillmode": "overlay",
              "size": 10,
              "solidity": 0.2
             }
            },
            "type": "bar"
           }
          ],
          "barpolar": [
           {
            "marker": {
             "line": {
              "color": "#E5ECF6",
              "width": 0.5
             },
             "pattern": {
              "fillmode": "overlay",
              "size": 10,
              "solidity": 0.2
             }
            },
            "type": "barpolar"
           }
          ],
          "carpet": [
           {
            "aaxis": {
             "endlinecolor": "#2a3f5f",
             "gridcolor": "white",
             "linecolor": "white",
             "minorgridcolor": "white",
             "startlinecolor": "#2a3f5f"
            },
            "baxis": {
             "endlinecolor": "#2a3f5f",
             "gridcolor": "white",
             "linecolor": "white",
             "minorgridcolor": "white",
             "startlinecolor": "#2a3f5f"
            },
            "type": "carpet"
           }
          ],
          "choropleth": [
           {
            "colorbar": {
             "outlinewidth": 0,
             "ticks": ""
            },
            "type": "choropleth"
           }
          ],
          "contour": [
           {
            "colorbar": {
             "outlinewidth": 0,
             "ticks": ""
            },
            "colorscale": [
             [
              0,
              "#0d0887"
             ],
             [
              0.1111111111111111,
              "#46039f"
             ],
             [
              0.2222222222222222,
              "#7201a8"
             ],
             [
              0.3333333333333333,
              "#9c179e"
             ],
             [
              0.4444444444444444,
              "#bd3786"
             ],
             [
              0.5555555555555556,
              "#d8576b"
             ],
             [
              0.6666666666666666,
              "#ed7953"
             ],
             [
              0.7777777777777778,
              "#fb9f3a"
             ],
             [
              0.8888888888888888,
              "#fdca26"
             ],
             [
              1,
              "#f0f921"
             ]
            ],
            "type": "contour"
           }
          ],
          "contourcarpet": [
           {
            "colorbar": {
             "outlinewidth": 0,
             "ticks": ""
            },
            "type": "contourcarpet"
           }
          ],
          "heatmap": [
           {
            "colorbar": {
             "outlinewidth": 0,
             "ticks": ""
            },
            "colorscale": [
             [
              0,
              "#0d0887"
             ],
             [
              0.1111111111111111,
              "#46039f"
             ],
             [
              0.2222222222222222,
              "#7201a8"
             ],
             [
              0.3333333333333333,
              "#9c179e"
             ],
             [
              0.4444444444444444,
              "#bd3786"
             ],
             [
              0.5555555555555556,
              "#d8576b"
             ],
             [
              0.6666666666666666,
              "#ed7953"
             ],
             [
              0.7777777777777778,
              "#fb9f3a"
             ],
             [
              0.8888888888888888,
              "#fdca26"
             ],
             [
              1,
              "#f0f921"
             ]
            ],
            "type": "heatmap"
           }
          ],
          "histogram": [
           {
            "marker": {
             "pattern": {
              "fillmode": "overlay",
              "size": 10,
              "solidity": 0.2
             }
            },
            "type": "histogram"
           }
          ],
          "histogram2d": [
           {
            "colorbar": {
             "outlinewidth": 0,
             "ticks": ""
            },
            "colorscale": [
             [
              0,
              "#0d0887"
             ],
             [
              0.1111111111111111,
              "#46039f"
             ],
             [
              0.2222222222222222,
              "#7201a8"
             ],
             [
              0.3333333333333333,
              "#9c179e"
             ],
             [
              0.4444444444444444,
              "#bd3786"
             ],
             [
              0.5555555555555556,
              "#d8576b"
             ],
             [
              0.6666666666666666,
              "#ed7953"
             ],
             [
              0.7777777777777778,
              "#fb9f3a"
             ],
             [
              0.8888888888888888,
              "#fdca26"
             ],
             [
              1,
              "#f0f921"
             ]
            ],
            "type": "histogram2d"
           }
          ],
          "histogram2dcontour": [
           {
            "colorbar": {
             "outlinewidth": 0,
             "ticks": ""
            },
            "colorscale": [
             [
              0,
              "#0d0887"
             ],
             [
              0.1111111111111111,
              "#46039f"
             ],
             [
              0.2222222222222222,
              "#7201a8"
             ],
             [
              0.3333333333333333,
              "#9c179e"
             ],
             [
              0.4444444444444444,
              "#bd3786"
             ],
             [
              0.5555555555555556,
              "#d8576b"
             ],
             [
              0.6666666666666666,
              "#ed7953"
             ],
             [
              0.7777777777777778,
              "#fb9f3a"
             ],
             [
              0.8888888888888888,
              "#fdca26"
             ],
             [
              1,
              "#f0f921"
             ]
            ],
            "type": "histogram2dcontour"
           }
          ],
          "mesh3d": [
           {
            "colorbar": {
             "outlinewidth": 0,
             "ticks": ""
            },
            "type": "mesh3d"
           }
          ],
          "parcoords": [
           {
            "line": {
             "colorbar": {
              "outlinewidth": 0,
              "ticks": ""
             }
            },
            "type": "parcoords"
           }
          ],
          "pie": [
           {
            "automargin": true,
            "type": "pie"
           }
          ],
          "scatter": [
           {
            "fillpattern": {
             "fillmode": "overlay",
             "size": 10,
             "solidity": 0.2
            },
            "type": "scatter"
           }
          ],
          "scatter3d": [
           {
            "line": {
             "colorbar": {
              "outlinewidth": 0,
              "ticks": ""
             }
            },
            "marker": {
             "colorbar": {
              "outlinewidth": 0,
              "ticks": ""
             }
            },
            "type": "scatter3d"
           }
          ],
          "scattercarpet": [
           {
            "marker": {
             "colorbar": {
              "outlinewidth": 0,
              "ticks": ""
             }
            },
            "type": "scattercarpet"
           }
          ],
          "scattergeo": [
           {
            "marker": {
             "colorbar": {
              "outlinewidth": 0,
              "ticks": ""
             }
            },
            "type": "scattergeo"
           }
          ],
          "scattergl": [
           {
            "marker": {
             "colorbar": {
              "outlinewidth": 0,
              "ticks": ""
             }
            },
            "type": "scattergl"
           }
          ],
          "scattermap": [
           {
            "marker": {
             "colorbar": {
              "outlinewidth": 0,
              "ticks": ""
             }
            },
            "type": "scattermap"
           }
          ],
          "scattermapbox": [
           {
            "marker": {
             "colorbar": {
              "outlinewidth": 0,
              "ticks": ""
             }
            },
            "type": "scattermapbox"
           }
          ],
          "scatterpolar": [
           {
            "marker": {
             "colorbar": {
              "outlinewidth": 0,
              "ticks": ""
             }
            },
            "type": "scatterpolar"
           }
          ],
          "scatterpolargl": [
           {
            "marker": {
             "colorbar": {
              "outlinewidth": 0,
              "ticks": ""
             }
            },
            "type": "scatterpolargl"
           }
          ],
          "scatterternary": [
           {
            "marker": {
             "colorbar": {
              "outlinewidth": 0,
              "ticks": ""
             }
            },
            "type": "scatterternary"
           }
          ],
          "surface": [
           {
            "colorbar": {
             "outlinewidth": 0,
             "ticks": ""
            },
            "colorscale": [
             [
              0,
              "#0d0887"
             ],
             [
              0.1111111111111111,
              "#46039f"
             ],
             [
              0.2222222222222222,
              "#7201a8"
             ],
             [
              0.3333333333333333,
              "#9c179e"
             ],
             [
              0.4444444444444444,
              "#bd3786"
             ],
             [
              0.5555555555555556,
              "#d8576b"
             ],
             [
              0.6666666666666666,
              "#ed7953"
             ],
             [
              0.7777777777777778,
              "#fb9f3a"
             ],
             [
              0.8888888888888888,
              "#fdca26"
             ],
             [
              1,
              "#f0f921"
             ]
            ],
            "type": "surface"
           }
          ],
          "table": [
           {
            "cells": {
             "fill": {
              "color": "#EBF0F8"
             },
             "line": {
              "color": "white"
             }
            },
            "header": {
             "fill": {
              "color": "#C8D4E3"
             },
             "line": {
              "color": "white"
             }
            },
            "type": "table"
           }
          ]
         },
         "layout": {
          "annotationdefaults": {
           "arrowcolor": "#2a3f5f",
           "arrowhead": 0,
           "arrowwidth": 1
          },
          "autotypenumbers": "strict",
          "coloraxis": {
           "colorbar": {
            "outlinewidth": 0,
            "ticks": ""
           }
          },
          "colorscale": {
           "diverging": [
            [
             0,
             "#8e0152"
            ],
            [
             0.1,
             "#c51b7d"
            ],
            [
             0.2,
             "#de77ae"
            ],
            [
             0.3,
             "#f1b6da"
            ],
            [
             0.4,
             "#fde0ef"
            ],
            [
             0.5,
             "#f7f7f7"
            ],
            [
             0.6,
             "#e6f5d0"
            ],
            [
             0.7,
             "#b8e186"
            ],
            [
             0.8,
             "#7fbc41"
            ],
            [
             0.9,
             "#4d9221"
            ],
            [
             1,
             "#276419"
            ]
           ],
           "sequential": [
            [
             0,
             "#0d0887"
            ],
            [
             0.1111111111111111,
             "#46039f"
            ],
            [
             0.2222222222222222,
             "#7201a8"
            ],
            [
             0.3333333333333333,
             "#9c179e"
            ],
            [
             0.4444444444444444,
             "#bd3786"
            ],
            [
             0.5555555555555556,
             "#d8576b"
            ],
            [
             0.6666666666666666,
             "#ed7953"
            ],
            [
             0.7777777777777778,
             "#fb9f3a"
            ],
            [
             0.8888888888888888,
             "#fdca26"
            ],
            [
             1,
             "#f0f921"
            ]
           ],
           "sequentialminus": [
            [
             0,
             "#0d0887"
            ],
            [
             0.1111111111111111,
             "#46039f"
            ],
            [
             0.2222222222222222,
             "#7201a8"
            ],
            [
             0.3333333333333333,
             "#9c179e"
            ],
            [
             0.4444444444444444,
             "#bd3786"
            ],
            [
             0.5555555555555556,
             "#d8576b"
            ],
            [
             0.6666666666666666,
             "#ed7953"
            ],
            [
             0.7777777777777778,
             "#fb9f3a"
            ],
            [
             0.8888888888888888,
             "#fdca26"
            ],
            [
             1,
             "#f0f921"
            ]
           ]
          },
          "colorway": [
           "#636efa",
           "#EF553B",
           "#00cc96",
           "#ab63fa",
           "#FFA15A",
           "#19d3f3",
           "#FF6692",
           "#B6E880",
           "#FF97FF",
           "#FECB52"
          ],
          "font": {
           "color": "#2a3f5f"
          },
          "geo": {
           "bgcolor": "white",
           "lakecolor": "white",
           "landcolor": "#E5ECF6",
           "showlakes": true,
           "showland": true,
           "subunitcolor": "white"
          },
          "hoverlabel": {
           "align": "left"
          },
          "hovermode": "closest",
          "mapbox": {
           "style": "light"
          },
          "paper_bgcolor": "white",
          "plot_bgcolor": "#E5ECF6",
          "polar": {
           "angularaxis": {
            "gridcolor": "white",
            "linecolor": "white",
            "ticks": ""
           },
           "bgcolor": "#E5ECF6",
           "radialaxis": {
            "gridcolor": "white",
            "linecolor": "white",
            "ticks": ""
           }
          },
          "scene": {
           "xaxis": {
            "backgroundcolor": "#E5ECF6",
            "gridcolor": "white",
            "gridwidth": 2,
            "linecolor": "white",
            "showbackground": true,
            "ticks": "",
            "zerolinecolor": "white"
           },
           "yaxis": {
            "backgroundcolor": "#E5ECF6",
            "gridcolor": "white",
            "gridwidth": 2,
            "linecolor": "white",
            "showbackground": true,
            "ticks": "",
            "zerolinecolor": "white"
           },
           "zaxis": {
            "backgroundcolor": "#E5ECF6",
            "gridcolor": "white",
            "gridwidth": 2,
            "linecolor": "white",
            "showbackground": true,
            "ticks": "",
            "zerolinecolor": "white"
           }
          },
          "shapedefaults": {
           "line": {
            "color": "#2a3f5f"
           }
          },
          "ternary": {
           "aaxis": {
            "gridcolor": "white",
            "linecolor": "white",
            "ticks": ""
           },
           "baxis": {
            "gridcolor": "white",
            "linecolor": "white",
            "ticks": ""
           },
           "bgcolor": "#E5ECF6",
           "caxis": {
            "gridcolor": "white",
            "linecolor": "white",
            "ticks": ""
           }
          },
          "title": {
           "x": 0.05
          },
          "xaxis": {
           "automargin": true,
           "gridcolor": "white",
           "linecolor": "white",
           "ticks": "",
           "title": {
            "standoff": 15
           },
           "zerolinecolor": "white",
           "zerolinewidth": 2
          },
          "yaxis": {
           "automargin": true,
           "gridcolor": "white",
           "linecolor": "white",
           "ticks": "",
           "title": {
            "standoff": 15
           },
           "zerolinecolor": "white",
           "zerolinewidth": 2
          }
         }
        },
        "title": {
         "font": {
          "color": "black",
          "family": "Arial",
          "size": 19
         },
         "text": "Distribution of Current Loand by Booked Year"
        },
        "width": 1200,
        "xaxis": {
         "anchor": "y",
         "categoryorder": "array",
         "domain": [
          0,
          1
         ],
         "gridcolor": "lightgray",
         "tickfont": {
          "color": "black",
          "family": "Arial",
          "size": 12
         },
         "title": {
          "font": {
           "color": "black",
           "family": "Arial",
           "size": 19
          },
          "standoff": 28,
          "text": "Booked Year"
         }
        },
        "yaxis": {
         "anchor": "x",
         "domain": [
          0,
          1
         ],
         "gridcolor": "lightgray",
         "tickfont": {
          "color": "black",
          "family": "Arial",
          "size": 14
         },
         "title": {
          "font": {
           "color": "black",
           "family": "Arial",
           "size": 19
          },
          "text": "%Current Loans"
         }
        }
       }
      }
     },
     "metadata": {},
     "output_type": "display_data"
    }
   ],
   "source": [
    "df_group = df_target.groupby(['d_vintage','Set']).agg({'id':'count'}).reset_index()\n",
    "\n",
    "df_group['pct_target_pop'] = (df_group['id'] / df_target.shape[0]) * 100\n",
    "\n",
    "utils_plot.plot_chart(\n",
    "    df= df_group, \n",
    "    chart_type=\"bar\",\n",
    "    x_col=\"d_vintage\",\n",
    "    y_col=\"pct_target_pop\",\n",
    "    text_col=\"\",\n",
    "    color_sequence= [  '#b4a7d6',  '#6c6480'],\n",
    "    text_as_percentage=True,\n",
    "    group_col=\"Set\",\n",
    "    color ='Set',\n",
    "    text_position=\"top center\",\n",
    "    x_label='Booked Year',\n",
    "    y_label='%Current Loans',\n",
    "    title=\"Distribution of Current Loand by Booked Year\",\n",
    "    width=1200,\n",
    "    height=500, \n",
    ")"
   ]
  },
  {
   "cell_type": "code",
   "execution_count": 11,
   "id": "a7556630",
   "metadata": {},
   "outputs": [
    {
     "name": "stdout",
     "output_type": "stream",
     "text": [
      "Training population distribution              id\n",
      "Set            \n",
      "Test   0.255053\n",
      "Train  0.744947\n"
     ]
    }
   ],
   "source": [
    "print('Training population distribution', df_group.groupby(['Set']).agg({'id':'sum'})/df_target.shape[0])"
   ]
  },
  {
   "cell_type": "markdown",
   "id": "e9498d58",
   "metadata": {},
   "source": [
    "\n",
    "## Distribution Analysis"
   ]
  },
  {
   "cell_type": "markdown",
   "id": "56c2da3a",
   "metadata": {},
   "source": [
    "### PSI"
   ]
  },
  {
   "cell_type": "code",
   "execution_count": 12,
   "id": "70617ff3",
   "metadata": {},
   "outputs": [
    {
     "name": "stdout",
     "output_type": "stream",
     "text": [
      "Calculando PSI para las variables entre df_train y df_test:\n",
      "\n",
      "--- Variable: id ---\n",
      "PSI para 'id': 49.9744\n",
      "Interpretación: Cambio significativo (Variable inestable)\n",
      "------------------------------\n",
      "\n",
      "--- Variable: loan_amnt ---\n",
      "PSI para 'loan_amnt': 0.0402\n",
      "Interpretación: Sin cambio significativo (Variable estable)\n",
      "------------------------------\n",
      "\n",
      "--- Variable: funded_amnt ---\n",
      "PSI para 'funded_amnt': 0.0404\n",
      "Interpretación: Sin cambio significativo (Variable estable)\n",
      "------------------------------\n",
      "\n",
      "--- Variable: funded_amnt_inv ---\n",
      "PSI para 'funded_amnt_inv': 0.0396\n",
      "Interpretación: Sin cambio significativo (Variable estable)\n",
      "------------------------------\n",
      "\n",
      "--- Variable: term ---\n",
      "PSI para 'term': 0.0004\n",
      "Interpretación: Sin cambio significativo (Variable estable)\n",
      "------------------------------\n",
      "\n",
      "--- Variable: int_rate ---\n",
      "PSI para 'int_rate': 0.0506\n",
      "Interpretación: Sin cambio significativo (Variable estable)\n",
      "------------------------------\n",
      "\n",
      "--- Variable: installment ---\n",
      "PSI para 'installment': 0.0265\n",
      "Interpretación: Sin cambio significativo (Variable estable)\n",
      "------------------------------\n",
      "\n",
      "--- Variable: grade ---\n",
      "PSI para 'grade': 0.0392\n",
      "Interpretación: Sin cambio significativo (Variable estable)\n",
      "------------------------------\n",
      "\n",
      "--- Variable: sub_grade ---\n",
      "PSI para 'sub_grade': 0.0566\n",
      "Interpretación: Sin cambio significativo (Variable estable)\n",
      "------------------------------\n",
      "\n",
      "--- Variable: emp_title ---\n",
      "PSI para 'emp_title': 9.0400\n",
      "Interpretación: Cambio significativo (Variable inestable)\n",
      "------------------------------\n",
      "\n",
      "--- Variable: emp_length ---\n",
      "PSI para 'emp_length': 0.0136\n",
      "Interpretación: Sin cambio significativo (Variable estable)\n",
      "------------------------------\n",
      "\n",
      "--- Variable: home_ownership ---\n",
      "PSI para 'home_ownership': 0.0083\n",
      "Interpretación: Sin cambio significativo (Variable estable)\n",
      "------------------------------\n",
      "\n",
      "--- Variable: annual_inc ---\n",
      "PSI para 'annual_inc': 0.0088\n",
      "Interpretación: Sin cambio significativo (Variable estable)\n",
      "------------------------------\n",
      "\n",
      "--- Variable: verification_status ---\n",
      "PSI para 'verification_status': 0.0354\n",
      "Interpretación: Sin cambio significativo (Variable estable)\n",
      "------------------------------\n",
      "\n",
      "--- Variable: issue_d ---\n",
      "PSI para 'issue_d': 15.7313\n",
      "Interpretación: Cambio significativo (Variable inestable)\n",
      "------------------------------\n",
      "\n",
      "--- Variable: loan_status ---\n",
      "PSI para 'loan_status': 1.8005\n",
      "Interpretación: Cambio significativo (Variable inestable)\n",
      "------------------------------\n",
      "\n",
      "--- Variable: pymnt_plan ---\n",
      "PSI para 'pymnt_plan': 0.0008\n",
      "Interpretación: Sin cambio significativo (Variable estable)\n",
      "------------------------------\n",
      "\n",
      "--- Variable: url ---\n",
      "PSI para 'url': 49.9744\n",
      "Interpretación: Cambio significativo (Variable inestable)\n",
      "------------------------------\n",
      "\n",
      "--- Variable: desc ---\n",
      "PSI para 'desc': 8.3436\n",
      "Interpretación: Cambio significativo (Variable inestable)\n",
      "------------------------------\n",
      "\n",
      "--- Variable: purpose ---\n",
      "PSI para 'purpose': 0.0329\n",
      "Interpretación: Sin cambio significativo (Variable estable)\n",
      "------------------------------\n",
      "\n",
      "--- Variable: title ---\n",
      "PSI para 'title': 1.7073\n",
      "Interpretación: Cambio significativo (Variable inestable)\n",
      "------------------------------\n",
      "\n",
      "--- Variable: zip_code ---\n",
      "PSI para 'zip_code': 0.0198\n",
      "Interpretación: Sin cambio significativo (Variable estable)\n",
      "------------------------------\n",
      "\n",
      "--- Variable: addr_state ---\n",
      "PSI para 'addr_state': 0.0134\n",
      "Interpretación: Sin cambio significativo (Variable estable)\n",
      "------------------------------\n",
      "\n",
      "--- Variable: dti ---\n",
      "PSI para 'dti': 0.0060\n",
      "Interpretación: Sin cambio significativo (Variable estable)\n",
      "------------------------------\n",
      "\n",
      "--- Variable: delinq_2yrs ---\n",
      "PSI para 'delinq_2yrs': 0.0010\n",
      "Interpretación: Sin cambio significativo (Variable estable)\n",
      "------------------------------\n",
      "\n",
      "--- Variable: earliest_cr_line ---\n",
      "PSI para 'earliest_cr_line': 0.3697\n",
      "Interpretación: Cambio significativo (Variable inestable)\n",
      "------------------------------\n",
      "\n",
      "--- Variable: fico_range_low ---\n",
      "PSI para 'fico_range_low': 0.0440\n",
      "Interpretación: Sin cambio significativo (Variable estable)\n",
      "------------------------------\n",
      "\n",
      "--- Variable: fico_range_high ---\n",
      "PSI para 'fico_range_high': 0.0440\n",
      "Interpretación: Sin cambio significativo (Variable estable)\n",
      "------------------------------\n",
      "\n",
      "--- Variable: inq_last_6mths ---\n",
      "PSI para 'inq_last_6mths': 0.0313\n",
      "Interpretación: Sin cambio significativo (Variable estable)\n",
      "------------------------------\n",
      "\n",
      "--- Variable: mths_since_last_delinq ---\n",
      "PSI para 'mths_since_last_delinq': 0.0039\n",
      "Interpretación: Sin cambio significativo (Variable estable)\n",
      "------------------------------\n",
      "\n",
      "--- Variable: mths_since_last_record ---\n",
      "PSI para 'mths_since_last_record': 0.1001\n",
      "Interpretación: Cambio moderado (Requiere investigación)\n",
      "------------------------------\n",
      "\n",
      "--- Variable: open_acc ---\n",
      "PSI para 'open_acc': 0.0111\n",
      "Interpretación: Sin cambio significativo (Variable estable)\n",
      "------------------------------\n",
      "\n",
      "--- Variable: pub_rec ---\n",
      "PSI para 'pub_rec': 0.0034\n",
      "Interpretación: Sin cambio significativo (Variable estable)\n",
      "------------------------------\n",
      "\n",
      "--- Variable: revol_bal ---\n",
      "PSI para 'revol_bal': 0.0175\n",
      "Interpretación: Sin cambio significativo (Variable estable)\n",
      "------------------------------\n",
      "\n",
      "--- Variable: revol_util ---\n",
      "PSI para 'revol_util': 0.1038\n",
      "Interpretación: Cambio moderado (Requiere investigación)\n",
      "------------------------------\n",
      "\n",
      "--- Variable: total_acc ---\n",
      "PSI para 'total_acc': 0.0415\n",
      "Interpretación: Sin cambio significativo (Variable estable)\n",
      "------------------------------\n",
      "\n",
      "--- Variable: initial_list_status ---\n",
      "PSI para 'initial_list_status': 0.3017\n",
      "Interpretación: Cambio significativo (Variable inestable)\n",
      "------------------------------\n",
      "\n",
      "--- Variable: out_prncp ---\n",
      "PSI para 'out_prncp': 2.0534\n",
      "Interpretación: Cambio significativo (Variable inestable)\n",
      "------------------------------\n",
      "\n",
      "--- Variable: out_prncp_inv ---\n",
      "PSI para 'out_prncp_inv': 2.0529\n",
      "Interpretación: Cambio significativo (Variable inestable)\n",
      "------------------------------\n",
      "\n",
      "--- Variable: total_pymnt ---\n",
      "PSI para 'total_pymnt': 0.8085\n",
      "Interpretación: Cambio significativo (Variable inestable)\n",
      "------------------------------\n",
      "\n",
      "--- Variable: total_pymnt_inv ---\n",
      "PSI para 'total_pymnt_inv': 0.7953\n",
      "Interpretación: Cambio significativo (Variable inestable)\n",
      "------------------------------\n",
      "\n",
      "--- Variable: total_rec_prncp ---\n",
      "PSI para 'total_rec_prncp': 0.8118\n",
      "Interpretación: Cambio significativo (Variable inestable)\n",
      "------------------------------\n",
      "\n",
      "--- Variable: total_rec_int ---\n",
      "PSI para 'total_rec_int': 0.2552\n",
      "Interpretación: Cambio significativo (Variable inestable)\n",
      "------------------------------\n",
      "\n",
      "--- Variable: total_rec_late_fee ---\n",
      "Advertencia: No se pudieron crear 10 cuantiles únicos para 'total_rec_late_fee'. Usando estrategia de fallback para binning.\n",
      "PSI para 'total_rec_late_fee': 0.0001\n",
      "Interpretación: Sin cambio significativo (Variable estable)\n",
      "------------------------------\n",
      "\n",
      "--- Variable: recoveries ---\n",
      "Advertencia: No se pudieron crear 10 cuantiles únicos para 'recoveries'. Usando estrategia de fallback para binning.\n",
      "PSI para 'recoveries': 0.0085\n",
      "Interpretación: Sin cambio significativo (Variable estable)\n",
      "------------------------------\n",
      "\n",
      "--- Variable: collection_recovery_fee ---\n",
      "Advertencia: No se pudieron crear 10 cuantiles únicos para 'collection_recovery_fee'. Usando estrategia de fallback para binning.\n",
      "PSI para 'collection_recovery_fee': 0.0083\n",
      "Interpretación: Sin cambio significativo (Variable estable)\n",
      "------------------------------\n",
      "\n",
      "--- Variable: last_pymnt_d ---\n",
      "PSI para 'last_pymnt_d': 3.7807\n",
      "Interpretación: Cambio significativo (Variable inestable)\n",
      "------------------------------\n",
      "\n",
      "--- Variable: last_pymnt_amnt ---\n",
      "PSI para 'last_pymnt_amnt': 0.2295\n",
      "Interpretación: Cambio moderado (Requiere investigación)\n",
      "------------------------------\n",
      "\n",
      "--- Variable: next_pymnt_d ---\n",
      "PSI para 'next_pymnt_d': 0.0813\n",
      "Interpretación: Sin cambio significativo (Variable estable)\n",
      "------------------------------\n",
      "\n",
      "--- Variable: last_credit_pull_d ---\n",
      "PSI para 'last_credit_pull_d': 1.3095\n",
      "Interpretación: Cambio significativo (Variable inestable)\n",
      "------------------------------\n",
      "\n",
      "--- Variable: last_fico_range_high ---\n",
      "PSI para 'last_fico_range_high': 0.1234\n",
      "Interpretación: Cambio moderado (Requiere investigación)\n",
      "------------------------------\n",
      "\n",
      "--- Variable: last_fico_range_low ---\n",
      "PSI para 'last_fico_range_low': 0.1234\n",
      "Interpretación: Cambio moderado (Requiere investigación)\n",
      "------------------------------\n",
      "\n",
      "--- Variable: collections_12_mths_ex_med ---\n",
      "Advertencia: No se pudieron crear 10 cuantiles únicos para 'collections_12_mths_ex_med'. Usando estrategia de fallback para binning.\n",
      "PSI para 'collections_12_mths_ex_med': 0.0001\n",
      "Interpretación: Sin cambio significativo (Variable estable)\n",
      "------------------------------\n",
      "\n",
      "--- Variable: mths_since_last_major_derog ---\n",
      "PSI para 'mths_since_last_major_derog': 0.0060\n",
      "Interpretación: Sin cambio significativo (Variable estable)\n",
      "------------------------------\n",
      "\n",
      "--- Variable: policy_code ---\n",
      "Advertencia: No se pudieron crear 10 cuantiles únicos para 'policy_code'. Usando estrategia de fallback para binning.\n",
      "PSI para 'policy_code': 0.0000\n",
      "Interpretación: Sin cambio significativo (Variable estable)\n",
      "------------------------------\n",
      "\n",
      "--- Variable: application_type ---\n",
      "PSI para 'application_type': 0.3220\n",
      "Interpretación: Cambio significativo (Variable inestable)\n",
      "------------------------------\n",
      "\n",
      "--- Variable: annual_inc_joint ---\n",
      "PSI para 'annual_inc_joint': 0.0766\n",
      "Interpretación: Sin cambio significativo (Variable estable)\n",
      "------------------------------\n",
      "\n",
      "--- Variable: dti_joint ---\n",
      "PSI para 'dti_joint': 0.0249\n",
      "Interpretación: Sin cambio significativo (Variable estable)\n",
      "------------------------------\n",
      "\n",
      "--- Variable: verification_status_joint ---\n",
      "PSI para 'verification_status_joint': 0.5122\n",
      "Interpretación: Cambio significativo (Variable inestable)\n",
      "------------------------------\n",
      "\n",
      "--- Variable: acc_now_delinq ---\n",
      "Advertencia: No se pudieron crear 10 cuantiles únicos para 'acc_now_delinq'. Usando estrategia de fallback para binning.\n",
      "PSI para 'acc_now_delinq': 0.0014\n",
      "Interpretación: Sin cambio significativo (Variable estable)\n",
      "------------------------------\n",
      "\n",
      "--- Variable: tot_coll_amt ---\n",
      "PSI para 'tot_coll_amt': 0.0014\n",
      "Interpretación: Sin cambio significativo (Variable estable)\n",
      "------------------------------\n",
      "\n",
      "--- Variable: tot_cur_bal ---\n",
      "PSI para 'tot_cur_bal': 0.0086\n",
      "Interpretación: Sin cambio significativo (Variable estable)\n",
      "------------------------------\n",
      "\n",
      "--- Variable: open_acc_6m ---\n",
      "PSI para 'open_acc_6m': 0.0066\n",
      "Interpretación: Sin cambio significativo (Variable estable)\n",
      "------------------------------\n",
      "\n",
      "--- Variable: open_act_il ---\n",
      "PSI para 'open_act_il': 0.0003\n",
      "Interpretación: Sin cambio significativo (Variable estable)\n",
      "------------------------------\n",
      "\n",
      "--- Variable: open_il_12m ---\n",
      "PSI para 'open_il_12m': 0.0064\n",
      "Interpretación: Sin cambio significativo (Variable estable)\n",
      "------------------------------\n",
      "\n",
      "--- Variable: open_il_24m ---\n",
      "PSI para 'open_il_24m': 0.0026\n",
      "Interpretación: Sin cambio significativo (Variable estable)\n",
      "------------------------------\n",
      "\n",
      "--- Variable: mths_since_rcnt_il ---\n",
      "PSI para 'mths_since_rcnt_il': 0.0159\n",
      "Interpretación: Sin cambio significativo (Variable estable)\n",
      "------------------------------\n",
      "\n",
      "--- Variable: total_bal_il ---\n",
      "PSI para 'total_bal_il': 0.0026\n",
      "Interpretación: Sin cambio significativo (Variable estable)\n",
      "------------------------------\n",
      "\n",
      "--- Variable: il_util ---\n",
      "PSI para 'il_util': 0.0174\n",
      "Interpretación: Sin cambio significativo (Variable estable)\n",
      "------------------------------\n",
      "\n",
      "--- Variable: open_rv_12m ---\n",
      "PSI para 'open_rv_12m': 0.0048\n",
      "Interpretación: Sin cambio significativo (Variable estable)\n",
      "------------------------------\n",
      "\n",
      "--- Variable: open_rv_24m ---\n",
      "PSI para 'open_rv_24m': 0.0096\n",
      "Interpretación: Sin cambio significativo (Variable estable)\n",
      "------------------------------\n",
      "\n",
      "--- Variable: max_bal_bc ---\n",
      "PSI para 'max_bal_bc': 0.0045\n",
      "Interpretación: Sin cambio significativo (Variable estable)\n",
      "------------------------------\n",
      "\n",
      "--- Variable: all_util ---\n",
      "PSI para 'all_util': 0.0425\n",
      "Interpretación: Sin cambio significativo (Variable estable)\n",
      "------------------------------\n",
      "\n",
      "--- Variable: total_rev_hi_lim ---\n",
      "PSI para 'total_rev_hi_lim': 0.0178\n",
      "Interpretación: Sin cambio significativo (Variable estable)\n",
      "------------------------------\n",
      "\n",
      "--- Variable: inq_fi ---\n",
      "PSI para 'inq_fi': 0.0020\n",
      "Interpretación: Sin cambio significativo (Variable estable)\n",
      "------------------------------\n",
      "\n",
      "--- Variable: total_cu_tl ---\n",
      "PSI para 'total_cu_tl': 0.0007\n",
      "Interpretación: Sin cambio significativo (Variable estable)\n",
      "------------------------------\n",
      "\n",
      "--- Variable: inq_last_12m ---\n",
      "PSI para 'inq_last_12m': 0.0061\n",
      "Interpretación: Sin cambio significativo (Variable estable)\n",
      "------------------------------\n",
      "\n",
      "--- Variable: acc_open_past_24mths ---\n",
      "PSI para 'acc_open_past_24mths': 0.0028\n",
      "Interpretación: Sin cambio significativo (Variable estable)\n",
      "------------------------------\n",
      "\n",
      "--- Variable: avg_cur_bal ---\n",
      "PSI para 'avg_cur_bal': 0.0048\n",
      "Interpretación: Sin cambio significativo (Variable estable)\n",
      "------------------------------\n",
      "\n",
      "--- Variable: bc_open_to_buy ---\n",
      "PSI para 'bc_open_to_buy': 0.0895\n",
      "Interpretación: Sin cambio significativo (Variable estable)\n",
      "------------------------------\n",
      "\n",
      "--- Variable: bc_util ---\n",
      "PSI para 'bc_util': 0.1138\n",
      "Interpretación: Cambio moderado (Requiere investigación)\n",
      "------------------------------\n",
      "\n",
      "--- Variable: chargeoff_within_12_mths ---\n",
      "Advertencia: No se pudieron crear 10 cuantiles únicos para 'chargeoff_within_12_mths'. Usando estrategia de fallback para binning.\n",
      "PSI para 'chargeoff_within_12_mths': 0.0001\n",
      "Interpretación: Sin cambio significativo (Variable estable)\n",
      "------------------------------\n",
      "\n",
      "--- Variable: delinq_amnt ---\n",
      "Advertencia: No se pudieron crear 10 cuantiles únicos para 'delinq_amnt'. Usando estrategia de fallback para binning.\n",
      "PSI para 'delinq_amnt': 0.0001\n",
      "Interpretación: Sin cambio significativo (Variable estable)\n",
      "------------------------------\n",
      "\n",
      "--- Variable: mo_sin_old_il_acct ---\n",
      "PSI para 'mo_sin_old_il_acct': 0.0210\n",
      "Interpretación: Sin cambio significativo (Variable estable)\n",
      "------------------------------\n",
      "\n",
      "--- Variable: mo_sin_old_rev_tl_op ---\n",
      "PSI para 'mo_sin_old_rev_tl_op': 0.0413\n",
      "Interpretación: Sin cambio significativo (Variable estable)\n",
      "------------------------------\n",
      "\n",
      "--- Variable: mo_sin_rcnt_rev_tl_op ---\n",
      "PSI para 'mo_sin_rcnt_rev_tl_op': 0.0075\n",
      "Interpretación: Sin cambio significativo (Variable estable)\n",
      "------------------------------\n",
      "\n",
      "--- Variable: mo_sin_rcnt_tl ---\n",
      "PSI para 'mo_sin_rcnt_tl': 0.0049\n",
      "Interpretación: Sin cambio significativo (Variable estable)\n",
      "------------------------------\n",
      "\n",
      "--- Variable: mort_acc ---\n",
      "PSI para 'mort_acc': 0.0337\n",
      "Interpretación: Sin cambio significativo (Variable estable)\n",
      "------------------------------\n",
      "\n",
      "--- Variable: mths_since_recent_bc ---\n",
      "PSI para 'mths_since_recent_bc': 0.0028\n",
      "Interpretación: Sin cambio significativo (Variable estable)\n",
      "------------------------------\n",
      "\n",
      "--- Variable: mths_since_recent_bc_dlq ---\n",
      "PSI para 'mths_since_recent_bc_dlq': 0.0125\n",
      "Interpretación: Sin cambio significativo (Variable estable)\n",
      "------------------------------\n",
      "\n",
      "--- Variable: mths_since_recent_inq ---\n",
      "PSI para 'mths_since_recent_inq': 0.0041\n",
      "Interpretación: Sin cambio significativo (Variable estable)\n",
      "------------------------------\n",
      "\n",
      "--- Variable: mths_since_recent_revol_delinq ---\n",
      "PSI para 'mths_since_recent_revol_delinq': 0.0066\n",
      "Interpretación: Sin cambio significativo (Variable estable)\n",
      "------------------------------\n",
      "\n",
      "--- Variable: num_accts_ever_120_pd ---\n",
      "PSI para 'num_accts_ever_120_pd': 0.0005\n",
      "Interpretación: Sin cambio significativo (Variable estable)\n",
      "------------------------------\n",
      "\n",
      "--- Variable: num_actv_bc_tl ---\n",
      "PSI para 'num_actv_bc_tl': 0.0125\n",
      "Interpretación: Sin cambio significativo (Variable estable)\n",
      "------------------------------\n",
      "\n",
      "--- Variable: num_actv_rev_tl ---\n",
      "PSI para 'num_actv_rev_tl': 0.0268\n",
      "Interpretación: Sin cambio significativo (Variable estable)\n",
      "------------------------------\n",
      "\n",
      "--- Variable: num_bc_sats ---\n",
      "PSI para 'num_bc_sats': 0.0074\n",
      "Interpretación: Sin cambio significativo (Variable estable)\n",
      "------------------------------\n",
      "\n",
      "--- Variable: num_bc_tl ---\n",
      "PSI para 'num_bc_tl': 0.0651\n",
      "Interpretación: Sin cambio significativo (Variable estable)\n",
      "------------------------------\n",
      "\n",
      "--- Variable: num_il_tl ---\n",
      "PSI para 'num_il_tl': 0.0014\n",
      "Interpretación: Sin cambio significativo (Variable estable)\n",
      "------------------------------\n",
      "\n",
      "--- Variable: num_op_rev_tl ---\n",
      "PSI para 'num_op_rev_tl': 0.0164\n",
      "Interpretación: Sin cambio significativo (Variable estable)\n",
      "------------------------------\n",
      "\n",
      "--- Variable: num_rev_accts ---\n",
      "PSI para 'num_rev_accts': 0.0625\n",
      "Interpretación: Sin cambio significativo (Variable estable)\n",
      "------------------------------\n",
      "\n",
      "--- Variable: num_rev_tl_bal_gt_0 ---\n",
      "PSI para 'num_rev_tl_bal_gt_0': 0.0273\n",
      "Interpretación: Sin cambio significativo (Variable estable)\n",
      "------------------------------\n",
      "\n",
      "--- Variable: num_sats ---\n",
      "PSI para 'num_sats': 0.0141\n",
      "Interpretación: Sin cambio significativo (Variable estable)\n",
      "------------------------------\n",
      "\n",
      "--- Variable: num_tl_120dpd_2m ---\n",
      "Advertencia: No se pudieron crear 10 cuantiles únicos para 'num_tl_120dpd_2m'. Usando estrategia de fallback para binning.\n",
      "PSI para 'num_tl_120dpd_2m': 0.0003\n",
      "Interpretación: Sin cambio significativo (Variable estable)\n",
      "------------------------------\n",
      "\n",
      "--- Variable: num_tl_30dpd ---\n",
      "Advertencia: No se pudieron crear 10 cuantiles únicos para 'num_tl_30dpd'. Usando estrategia de fallback para binning.\n",
      "PSI para 'num_tl_30dpd': 0.0012\n",
      "Interpretación: Sin cambio significativo (Variable estable)\n",
      "------------------------------\n",
      "\n",
      "--- Variable: num_tl_90g_dpd_24m ---\n",
      "Advertencia: No se pudieron crear 10 cuantiles únicos para 'num_tl_90g_dpd_24m'. Usando estrategia de fallback para binning.\n",
      "PSI para 'num_tl_90g_dpd_24m': 0.0001\n",
      "Interpretación: Sin cambio significativo (Variable estable)\n",
      "------------------------------\n",
      "\n",
      "--- Variable: num_tl_op_past_12m ---\n",
      "PSI para 'num_tl_op_past_12m': 0.0078\n",
      "Interpretación: Sin cambio significativo (Variable estable)\n",
      "------------------------------\n",
      "\n",
      "--- Variable: pct_tl_nvr_dlq ---\n",
      "PSI para 'pct_tl_nvr_dlq': 0.0031\n",
      "Interpretación: Sin cambio significativo (Variable estable)\n",
      "------------------------------\n",
      "\n",
      "--- Variable: percent_bc_gt_75 ---\n",
      "PSI para 'percent_bc_gt_75': 0.1162\n",
      "Interpretación: Cambio moderado (Requiere investigación)\n",
      "------------------------------\n",
      "\n",
      "--- Variable: pub_rec_bankruptcies ---\n",
      "PSI para 'pub_rec_bankruptcies': 0.0013\n",
      "Interpretación: Sin cambio significativo (Variable estable)\n",
      "------------------------------\n",
      "\n",
      "--- Variable: tax_liens ---\n",
      "Advertencia: No se pudieron crear 10 cuantiles únicos para 'tax_liens'. Usando estrategia de fallback para binning.\n",
      "PSI para 'tax_liens': 0.0001\n",
      "Interpretación: Sin cambio significativo (Variable estable)\n",
      "------------------------------\n",
      "\n",
      "--- Variable: tot_hi_cred_lim ---\n",
      "PSI para 'tot_hi_cred_lim': 0.0062\n",
      "Interpretación: Sin cambio significativo (Variable estable)\n",
      "------------------------------\n",
      "\n",
      "--- Variable: total_bal_ex_mort ---\n",
      "PSI para 'total_bal_ex_mort': 0.0104\n",
      "Interpretación: Sin cambio significativo (Variable estable)\n",
      "------------------------------\n",
      "\n",
      "--- Variable: total_bc_limit ---\n",
      "PSI para 'total_bc_limit': 0.0251\n",
      "Interpretación: Sin cambio significativo (Variable estable)\n",
      "------------------------------\n",
      "\n",
      "--- Variable: total_il_high_credit_limit ---\n",
      "PSI para 'total_il_high_credit_limit': 0.0092\n",
      "Interpretación: Sin cambio significativo (Variable estable)\n",
      "------------------------------\n",
      "\n",
      "--- Variable: revol_bal_joint ---\n",
      "Advertencia: actual_series para 'revol_bal_joint' está vacía después de eliminar NaNs. No se puede calcular PSI.\n",
      "PSI para 'revol_bal_joint': No se pudo calcular (NaN)\n",
      "------------------------------\n",
      "\n",
      "--- Variable: sec_app_fico_range_low ---\n",
      "Advertencia: actual_series para 'sec_app_fico_range_low' está vacía después de eliminar NaNs. No se puede calcular PSI.\n",
      "PSI para 'sec_app_fico_range_low': No se pudo calcular (NaN)\n",
      "------------------------------\n",
      "\n",
      "--- Variable: sec_app_fico_range_high ---\n",
      "Advertencia: actual_series para 'sec_app_fico_range_high' está vacía después de eliminar NaNs. No se puede calcular PSI.\n",
      "PSI para 'sec_app_fico_range_high': No se pudo calcular (NaN)\n",
      "------------------------------\n",
      "\n",
      "--- Variable: sec_app_earliest_cr_line ---\n",
      "Advertencia: actual_series para 'sec_app_earliest_cr_line' está vacía después de eliminar NaNs. No se puede calcular PSI.\n",
      "PSI para 'sec_app_earliest_cr_line': No se pudo calcular (NaN)\n",
      "------------------------------\n",
      "\n",
      "--- Variable: sec_app_inq_last_6mths ---\n",
      "Advertencia: actual_series para 'sec_app_inq_last_6mths' está vacía después de eliminar NaNs. No se puede calcular PSI.\n",
      "PSI para 'sec_app_inq_last_6mths': No se pudo calcular (NaN)\n",
      "------------------------------\n",
      "\n",
      "--- Variable: sec_app_mort_acc ---\n",
      "Advertencia: actual_series para 'sec_app_mort_acc' está vacía después de eliminar NaNs. No se puede calcular PSI.\n",
      "PSI para 'sec_app_mort_acc': No se pudo calcular (NaN)\n",
      "------------------------------\n",
      "\n",
      "--- Variable: sec_app_open_acc ---\n",
      "Advertencia: actual_series para 'sec_app_open_acc' está vacía después de eliminar NaNs. No se puede calcular PSI.\n",
      "PSI para 'sec_app_open_acc': No se pudo calcular (NaN)\n",
      "------------------------------\n",
      "\n",
      "--- Variable: sec_app_revol_util ---\n",
      "Advertencia: actual_series para 'sec_app_revol_util' está vacía después de eliminar NaNs. No se puede calcular PSI.\n",
      "PSI para 'sec_app_revol_util': No se pudo calcular (NaN)\n",
      "------------------------------\n",
      "\n",
      "--- Variable: sec_app_open_act_il ---\n",
      "Advertencia: actual_series para 'sec_app_open_act_il' está vacía después de eliminar NaNs. No se puede calcular PSI.\n",
      "PSI para 'sec_app_open_act_il': No se pudo calcular (NaN)\n",
      "------------------------------\n",
      "\n",
      "--- Variable: sec_app_num_rev_accts ---\n",
      "Advertencia: actual_series para 'sec_app_num_rev_accts' está vacía después de eliminar NaNs. No se puede calcular PSI.\n",
      "PSI para 'sec_app_num_rev_accts': No se pudo calcular (NaN)\n",
      "------------------------------\n",
      "\n",
      "--- Variable: sec_app_chargeoff_within_12_mths ---\n",
      "Advertencia: actual_series para 'sec_app_chargeoff_within_12_mths' está vacía después de eliminar NaNs. No se puede calcular PSI.\n",
      "PSI para 'sec_app_chargeoff_within_12_mths': No se pudo calcular (NaN)\n",
      "------------------------------\n",
      "\n",
      "--- Variable: sec_app_collections_12_mths_ex_med ---\n",
      "Advertencia: actual_series para 'sec_app_collections_12_mths_ex_med' está vacía después de eliminar NaNs. No se puede calcular PSI.\n",
      "PSI para 'sec_app_collections_12_mths_ex_med': No se pudo calcular (NaN)\n",
      "------------------------------\n",
      "\n",
      "--- Variable: sec_app_mths_since_last_major_derog ---\n",
      "Advertencia: actual_series para 'sec_app_mths_since_last_major_derog' está vacía después de eliminar NaNs. No se puede calcular PSI.\n",
      "PSI para 'sec_app_mths_since_last_major_derog': No se pudo calcular (NaN)\n",
      "------------------------------\n",
      "\n",
      "--- Variable: hardship_flag ---\n",
      "PSI para 'hardship_flag': 0.0010\n",
      "Interpretación: Sin cambio significativo (Variable estable)\n",
      "------------------------------\n",
      "\n",
      "--- Variable: hardship_type ---\n",
      "PSI para 'hardship_type': 0.0000\n",
      "Interpretación: Sin cambio significativo (Variable estable)\n",
      "------------------------------\n",
      "\n",
      "--- Variable: hardship_reason ---\n",
      "PSI para 'hardship_reason': 0.0051\n",
      "Interpretación: Sin cambio significativo (Variable estable)\n",
      "------------------------------\n",
      "\n",
      "--- Variable: hardship_status ---\n",
      "PSI para 'hardship_status': 0.2199\n",
      "Interpretación: Cambio moderado (Requiere investigación)\n",
      "------------------------------\n",
      "\n",
      "--- Variable: deferral_term ---\n",
      "Advertencia: No se pudieron crear 10 cuantiles únicos para 'deferral_term'. Usando estrategia de fallback para binning.\n",
      "PSI para 'deferral_term': 0.0000\n",
      "Interpretación: Sin cambio significativo (Variable estable)\n",
      "------------------------------\n",
      "\n",
      "--- Variable: hardship_amount ---\n",
      "PSI para 'hardship_amount': 0.1933\n",
      "Interpretación: Cambio moderado (Requiere investigación)\n",
      "------------------------------\n",
      "\n",
      "--- Variable: hardship_start_date ---\n",
      "PSI para 'hardship_start_date': 0.9694\n",
      "Interpretación: Cambio significativo (Variable inestable)\n",
      "------------------------------\n",
      "\n",
      "--- Variable: hardship_end_date ---\n",
      "PSI para 'hardship_end_date': 0.9020\n",
      "Interpretación: Cambio significativo (Variable inestable)\n",
      "------------------------------\n",
      "\n",
      "--- Variable: payment_plan_start_date ---\n",
      "PSI para 'payment_plan_start_date': 0.9530\n",
      "Interpretación: Cambio significativo (Variable inestable)\n",
      "------------------------------\n",
      "\n",
      "--- Variable: hardship_length ---\n",
      "Advertencia: No se pudieron crear 10 cuantiles únicos para 'hardship_length'. Usando estrategia de fallback para binning.\n",
      "PSI para 'hardship_length': 0.0000\n",
      "Interpretación: Sin cambio significativo (Variable estable)\n",
      "------------------------------\n",
      "\n",
      "--- Variable: hardship_dpd ---\n",
      "PSI para 'hardship_dpd': 0.0096\n",
      "Interpretación: Sin cambio significativo (Variable estable)\n",
      "------------------------------\n",
      "\n",
      "--- Variable: hardship_loan_status ---\n",
      "PSI para 'hardship_loan_status': 0.0219\n",
      "Interpretación: Sin cambio significativo (Variable estable)\n",
      "------------------------------\n",
      "\n",
      "--- Variable: orig_projected_additional_accrued_interest ---\n",
      "PSI para 'orig_projected_additional_accrued_interest': 0.1952\n",
      "Interpretación: Cambio moderado (Requiere investigación)\n",
      "------------------------------\n",
      "\n",
      "--- Variable: hardship_payoff_balance_amount ---\n",
      "PSI para 'hardship_payoff_balance_amount': 0.2666\n",
      "Interpretación: Cambio significativo (Variable inestable)\n",
      "------------------------------\n",
      "\n",
      "--- Variable: hardship_last_payment_amount ---\n",
      "PSI para 'hardship_last_payment_amount': 0.0236\n",
      "Interpretación: Sin cambio significativo (Variable estable)\n",
      "------------------------------\n",
      "\n",
      "--- Variable: disbursement_method ---\n",
      "PSI para 'disbursement_method': 0.2114\n",
      "Interpretación: Cambio moderado (Requiere investigación)\n",
      "------------------------------\n",
      "\n",
      "--- Variable: debt_settlement_flag ---\n",
      "PSI para 'debt_settlement_flag': 0.0131\n",
      "Interpretación: Sin cambio significativo (Variable estable)\n",
      "------------------------------\n",
      "\n",
      "--- Variable: debt_settlement_flag_date ---\n",
      "PSI para 'debt_settlement_flag_date': 1.1996\n",
      "Interpretación: Cambio significativo (Variable inestable)\n",
      "------------------------------\n",
      "\n",
      "--- Variable: settlement_status ---\n",
      "PSI para 'settlement_status': 0.6434\n",
      "Interpretación: Cambio significativo (Variable inestable)\n",
      "------------------------------\n",
      "\n",
      "--- Variable: settlement_date ---\n",
      "PSI para 'settlement_date': 1.8359\n",
      "Interpretación: Cambio significativo (Variable inestable)\n",
      "------------------------------\n",
      "\n",
      "--- Variable: settlement_amount ---\n",
      "PSI para 'settlement_amount': 0.0665\n",
      "Interpretación: Sin cambio significativo (Variable estable)\n",
      "------------------------------\n",
      "\n",
      "--- Variable: settlement_percentage ---\n",
      "PSI para 'settlement_percentage': 0.1543\n",
      "Interpretación: Cambio moderado (Requiere investigación)\n",
      "------------------------------\n",
      "\n",
      "--- Variable: settlement_term ---\n",
      "PSI para 'settlement_term': 0.3737\n",
      "Interpretación: Cambio significativo (Variable inestable)\n",
      "------------------------------\n",
      "\n",
      "--- Variable: d_vintage ---\n",
      "PSI para 'd_vintage': 15.7313\n",
      "Interpretación: Cambio significativo (Variable inestable)\n",
      "------------------------------\n",
      "\n",
      "--- Variable: target ---\n",
      "Advertencia: No se pudieron crear 10 cuantiles únicos para 'target'. Usando estrategia de fallback para binning.\n",
      "PSI para 'target': 0.0072\n",
      "Interpretación: Sin cambio significativo (Variable estable)\n",
      "------------------------------\n",
      "\n",
      "\n",
      "Resumen de PSI (ordenado de mayor a menor):\n",
      "                                Variable        PSI\n",
      "0                                     id  49.974388\n",
      "17                                   url  49.974388\n",
      "150                            d_vintage  15.731325\n",
      "14                               issue_d  15.731325\n",
      "9                              emp_title   9.039951\n",
      "..                                   ...        ...\n",
      "122                  sec_app_open_act_il        NaN\n",
      "123                sec_app_num_rev_accts        NaN\n",
      "124     sec_app_chargeoff_within_12_mths        NaN\n",
      "125   sec_app_collections_12_mths_ex_med        NaN\n",
      "126  sec_app_mths_since_last_major_derog        NaN\n",
      "\n",
      "[152 rows x 2 columns]\n"
     ]
    }
   ],
   "source": [
    "\n",
    "\n",
    "df_train =df[df['d_vintage']>=pd.to_datetime('2016-07-01')]\n",
    "df_test =df[df['d_vintage']<pd.to_datetime('2016-07-01')]\n",
    "\n",
    "\n",
    "df_train['verification_status_joint'] = df_train['verification_status_joint'].fillna('None')\n",
    "df_test['verification_status_joint'] = df_test['verification_status_joint'].fillna('None')\n",
    "\n",
    "\n",
    "\n",
    "columns_to_check_psi = df.columns.tolist()\n",
    "\n",
    "psi_results = {}\n",
    "\n",
    "print(\"Calculando PSI para las variables entre df_train y df_test:\\n\")\n",
    "\n",
    "for column_name in columns_to_check_psi:\n",
    "    if column_name not in df_train.columns or column_name not in df_test.columns:\n",
    "        print(f\"Advertencia: La columna '{column_name}' no se encuentra en ambos DataFrames. Omitiendo.\")\n",
    "        continue\n",
    "\n",
    "    print(f\"--- Variable: {column_name} ---\")\n",
    "    \n",
    "    expected_series = df_train[column_name]\n",
    "    actual_series = df_test[column_name]\n",
    "    \n",
    "    # Puedes especificar 'variable_type' si lo deseas, o dejar que la función lo infiera.\n",
    "    # Si es una variable numérica con pocos valores únicos que quieres tratar como categórica,\n",
    "    # o viceversa, especifícalo.\n",
    "    # Por ejemplo, para una variable numérica:\n",
    "    # psi_value, psi_df_detail = calculate_psi(expected_series, actual_series, bins=10, variable_type='numerical')\n",
    "    # O para una categórica:\n",
    "    # psi_value, psi_df_detail = calculate_psi(expected_series, actual_series, variable_type='categorical')\n",
    "    \n",
    "    # Dejando que la función infiera el tipo:\n",
    "    psi_value, psi_df_detail = calculate_psi(expected_series, actual_series, bins=10) # bins se usa para numéricas\n",
    "    \n",
    "    psi_results[column_name] = {'psi_value': psi_value, 'psi_detail': psi_df_detail}\n",
    "    \n",
    "    if pd.isna(psi_value):\n",
    "        print(f\"PSI para '{column_name}': No se pudo calcular (NaN)\")\n",
    "    else:\n",
    "        print(f\"PSI para '{column_name}': {psi_value:.4f}\")\n",
    "        if psi_value < 0.1:\n",
    "            print(\"Interpretación: Sin cambio significativo (Variable estable)\")\n",
    "        elif psi_value < 0.25:\n",
    "            print(\"Interpretación: Cambio moderado (Requiere investigación)\")\n",
    "        else:\n",
    "            print(\"Interpretación: Cambio significativo (Variable inestable)\")\n",
    "    \n",
    "    # Opcional: mostrar el DataFrame de detalle para cada variable\n",
    "    # print(\"\\nDetalle del PSI:\")\n",
    "    # print(psi_df_detail)\n",
    "    print(\"-\" * 30 + \"\\n\")\n",
    "\n",
    "# Ahora psi_results contiene el PSI y el detalle para cada variable\n",
    "# Puedes, por ejemplo, crear un resumen:\n",
    "summary_psi = pd.DataFrame([(col, res['psi_value']) for col, res in psi_results.items()], \n",
    "                           columns=['Variable', 'PSI'])\n",
    "summary_psi = summary_psi.sort_values(by='PSI', ascending=False)\n",
    "\n",
    "print(\"\\nResumen de PSI (ordenado de mayor a menor):\")\n",
    "print(summary_psi)"
   ]
  },
  {
   "cell_type": "code",
   "execution_count": 13,
   "id": "ad113385",
   "metadata": {},
   "outputs": [
    {
     "data": {
      "text/html": [
       "<div>\n",
       "<style scoped>\n",
       "    .dataframe tbody tr th:only-of-type {\n",
       "        vertical-align: middle;\n",
       "    }\n",
       "\n",
       "    .dataframe tbody tr th {\n",
       "        vertical-align: top;\n",
       "    }\n",
       "\n",
       "    .dataframe thead th {\n",
       "        text-align: right;\n",
       "    }\n",
       "</style>\n",
       "<table border=\"1\" class=\"dataframe\">\n",
       "  <thead>\n",
       "    <tr style=\"text-align: right;\">\n",
       "      <th></th>\n",
       "      <th>Variable</th>\n",
       "      <th>PSI</th>\n",
       "    </tr>\n",
       "  </thead>\n",
       "  <tbody>\n",
       "    <tr>\n",
       "      <th>0</th>\n",
       "      <td>id</td>\n",
       "      <td>49.974388</td>\n",
       "    </tr>\n",
       "    <tr>\n",
       "      <th>1</th>\n",
       "      <td>url</td>\n",
       "      <td>49.974388</td>\n",
       "    </tr>\n",
       "    <tr>\n",
       "      <th>2</th>\n",
       "      <td>d_vintage</td>\n",
       "      <td>15.731325</td>\n",
       "    </tr>\n",
       "    <tr>\n",
       "      <th>3</th>\n",
       "      <td>issue_d</td>\n",
       "      <td>15.731325</td>\n",
       "    </tr>\n",
       "    <tr>\n",
       "      <th>4</th>\n",
       "      <td>emp_title</td>\n",
       "      <td>9.039951</td>\n",
       "    </tr>\n",
       "    <tr>\n",
       "      <th>5</th>\n",
       "      <td>desc</td>\n",
       "      <td>8.343615</td>\n",
       "    </tr>\n",
       "    <tr>\n",
       "      <th>6</th>\n",
       "      <td>last_pymnt_d</td>\n",
       "      <td>3.780655</td>\n",
       "    </tr>\n",
       "    <tr>\n",
       "      <th>7</th>\n",
       "      <td>out_prncp</td>\n",
       "      <td>2.053414</td>\n",
       "    </tr>\n",
       "    <tr>\n",
       "      <th>8</th>\n",
       "      <td>out_prncp_inv</td>\n",
       "      <td>2.052888</td>\n",
       "    </tr>\n",
       "    <tr>\n",
       "      <th>9</th>\n",
       "      <td>settlement_date</td>\n",
       "      <td>1.835869</td>\n",
       "    </tr>\n",
       "    <tr>\n",
       "      <th>10</th>\n",
       "      <td>loan_status</td>\n",
       "      <td>1.800543</td>\n",
       "    </tr>\n",
       "    <tr>\n",
       "      <th>11</th>\n",
       "      <td>title</td>\n",
       "      <td>1.707321</td>\n",
       "    </tr>\n",
       "    <tr>\n",
       "      <th>12</th>\n",
       "      <td>last_credit_pull_d</td>\n",
       "      <td>1.309535</td>\n",
       "    </tr>\n",
       "    <tr>\n",
       "      <th>13</th>\n",
       "      <td>debt_settlement_flag_date</td>\n",
       "      <td>1.199605</td>\n",
       "    </tr>\n",
       "    <tr>\n",
       "      <th>14</th>\n",
       "      <td>hardship_start_date</td>\n",
       "      <td>0.969438</td>\n",
       "    </tr>\n",
       "    <tr>\n",
       "      <th>15</th>\n",
       "      <td>payment_plan_start_date</td>\n",
       "      <td>0.952996</td>\n",
       "    </tr>\n",
       "    <tr>\n",
       "      <th>16</th>\n",
       "      <td>hardship_end_date</td>\n",
       "      <td>0.901972</td>\n",
       "    </tr>\n",
       "    <tr>\n",
       "      <th>17</th>\n",
       "      <td>total_rec_prncp</td>\n",
       "      <td>0.811847</td>\n",
       "    </tr>\n",
       "    <tr>\n",
       "      <th>18</th>\n",
       "      <td>total_pymnt</td>\n",
       "      <td>0.808460</td>\n",
       "    </tr>\n",
       "    <tr>\n",
       "      <th>19</th>\n",
       "      <td>total_pymnt_inv</td>\n",
       "      <td>0.795278</td>\n",
       "    </tr>\n",
       "    <tr>\n",
       "      <th>20</th>\n",
       "      <td>settlement_status</td>\n",
       "      <td>0.643421</td>\n",
       "    </tr>\n",
       "    <tr>\n",
       "      <th>21</th>\n",
       "      <td>verification_status_joint</td>\n",
       "      <td>0.512226</td>\n",
       "    </tr>\n",
       "    <tr>\n",
       "      <th>22</th>\n",
       "      <td>settlement_term</td>\n",
       "      <td>0.373683</td>\n",
       "    </tr>\n",
       "    <tr>\n",
       "      <th>23</th>\n",
       "      <td>earliest_cr_line</td>\n",
       "      <td>0.369723</td>\n",
       "    </tr>\n",
       "    <tr>\n",
       "      <th>24</th>\n",
       "      <td>application_type</td>\n",
       "      <td>0.321954</td>\n",
       "    </tr>\n",
       "    <tr>\n",
       "      <th>25</th>\n",
       "      <td>initial_list_status</td>\n",
       "      <td>0.301689</td>\n",
       "    </tr>\n",
       "    <tr>\n",
       "      <th>26</th>\n",
       "      <td>hardship_payoff_balance_amount</td>\n",
       "      <td>0.266649</td>\n",
       "    </tr>\n",
       "    <tr>\n",
       "      <th>27</th>\n",
       "      <td>total_rec_int</td>\n",
       "      <td>0.255245</td>\n",
       "    </tr>\n",
       "    <tr>\n",
       "      <th>28</th>\n",
       "      <td>revol_bal_joint</td>\n",
       "      <td>NaN</td>\n",
       "    </tr>\n",
       "    <tr>\n",
       "      <th>29</th>\n",
       "      <td>sec_app_fico_range_low</td>\n",
       "      <td>NaN</td>\n",
       "    </tr>\n",
       "    <tr>\n",
       "      <th>30</th>\n",
       "      <td>sec_app_fico_range_high</td>\n",
       "      <td>NaN</td>\n",
       "    </tr>\n",
       "    <tr>\n",
       "      <th>31</th>\n",
       "      <td>sec_app_earliest_cr_line</td>\n",
       "      <td>NaN</td>\n",
       "    </tr>\n",
       "    <tr>\n",
       "      <th>32</th>\n",
       "      <td>sec_app_inq_last_6mths</td>\n",
       "      <td>NaN</td>\n",
       "    </tr>\n",
       "    <tr>\n",
       "      <th>33</th>\n",
       "      <td>sec_app_mort_acc</td>\n",
       "      <td>NaN</td>\n",
       "    </tr>\n",
       "    <tr>\n",
       "      <th>34</th>\n",
       "      <td>sec_app_open_acc</td>\n",
       "      <td>NaN</td>\n",
       "    </tr>\n",
       "    <tr>\n",
       "      <th>35</th>\n",
       "      <td>sec_app_revol_util</td>\n",
       "      <td>NaN</td>\n",
       "    </tr>\n",
       "    <tr>\n",
       "      <th>36</th>\n",
       "      <td>sec_app_open_act_il</td>\n",
       "      <td>NaN</td>\n",
       "    </tr>\n",
       "    <tr>\n",
       "      <th>37</th>\n",
       "      <td>sec_app_num_rev_accts</td>\n",
       "      <td>NaN</td>\n",
       "    </tr>\n",
       "    <tr>\n",
       "      <th>38</th>\n",
       "      <td>sec_app_chargeoff_within_12_mths</td>\n",
       "      <td>NaN</td>\n",
       "    </tr>\n",
       "    <tr>\n",
       "      <th>39</th>\n",
       "      <td>sec_app_collections_12_mths_ex_med</td>\n",
       "      <td>NaN</td>\n",
       "    </tr>\n",
       "    <tr>\n",
       "      <th>40</th>\n",
       "      <td>sec_app_mths_since_last_major_derog</td>\n",
       "      <td>NaN</td>\n",
       "    </tr>\n",
       "  </tbody>\n",
       "</table>\n",
       "</div>"
      ],
      "text/plain": [
       "                               Variable        PSI\n",
       "0                                    id  49.974388\n",
       "1                                   url  49.974388\n",
       "2                             d_vintage  15.731325\n",
       "3                               issue_d  15.731325\n",
       "4                             emp_title   9.039951\n",
       "5                                  desc   8.343615\n",
       "6                          last_pymnt_d   3.780655\n",
       "7                             out_prncp   2.053414\n",
       "8                         out_prncp_inv   2.052888\n",
       "9                       settlement_date   1.835869\n",
       "10                          loan_status   1.800543\n",
       "11                                title   1.707321\n",
       "12                   last_credit_pull_d   1.309535\n",
       "13            debt_settlement_flag_date   1.199605\n",
       "14                  hardship_start_date   0.969438\n",
       "15              payment_plan_start_date   0.952996\n",
       "16                    hardship_end_date   0.901972\n",
       "17                      total_rec_prncp   0.811847\n",
       "18                          total_pymnt   0.808460\n",
       "19                      total_pymnt_inv   0.795278\n",
       "20                    settlement_status   0.643421\n",
       "21            verification_status_joint   0.512226\n",
       "22                      settlement_term   0.373683\n",
       "23                     earliest_cr_line   0.369723\n",
       "24                     application_type   0.321954\n",
       "25                  initial_list_status   0.301689\n",
       "26       hardship_payoff_balance_amount   0.266649\n",
       "27                        total_rec_int   0.255245\n",
       "28                      revol_bal_joint        NaN\n",
       "29               sec_app_fico_range_low        NaN\n",
       "30              sec_app_fico_range_high        NaN\n",
       "31             sec_app_earliest_cr_line        NaN\n",
       "32               sec_app_inq_last_6mths        NaN\n",
       "33                     sec_app_mort_acc        NaN\n",
       "34                     sec_app_open_acc        NaN\n",
       "35                   sec_app_revol_util        NaN\n",
       "36                  sec_app_open_act_il        NaN\n",
       "37                sec_app_num_rev_accts        NaN\n",
       "38     sec_app_chargeoff_within_12_mths        NaN\n",
       "39   sec_app_collections_12_mths_ex_med        NaN\n",
       "40  sec_app_mths_since_last_major_derog        NaN"
      ]
     },
     "execution_count": 13,
     "metadata": {},
     "output_type": "execute_result"
    }
   ],
   "source": [
    "list_total_psi = summary_psi[(summary_psi['PSI']>=0.25) | (summary_psi['PSI'].isna())]['Variable']\n",
    "\n",
    "summary_psi[(summary_psi['PSI']>=0.25) | (summary_psi['PSI'].isna())].reset_index(drop=True)"
   ]
  },
  {
   "cell_type": "code",
   "execution_count": 14,
   "id": "8d2072a2",
   "metadata": {},
   "outputs": [
    {
     "name": "stdout",
     "output_type": "stream",
     "text": [
      "Number of features with high PSI: 41\n"
     ]
    }
   ],
   "source": [
    "\n",
    "\n",
    "variables_do_not_use_or_extreme_caution = {\n",
    "    # Unique identifiers\n",
    "    \"id\": \"Unique loan identifier\",  # PSI: 49.97\n",
    "    \"url\": \"URL of the loan page\",  # PSI: 49.97\n",
    "\n",
    "    # Free text with high cardinality\n",
    "    \"emp_title\": \"Job title of the borrower\",  # PSI: 9.04\n",
    "    \"desc\": \"Loan purpose description provided by the borrower\",  # PSI: 8.34\n",
    "    \"title\": \"Loan title provided by the borrower\",  # PSI: 1.71\n",
    "\n",
    "    # Variables with DATA LEAKAGE risk (post-origination information or consequence of default)\n",
    "    \"last_pymnt_d\": \"Date of the last payment received\",  # PSI: 3.78\n",
    "    \"out_prncp\": \"Remaining outstanding principal balance\",  # PSI: 2.05\n",
    "    \"out_prncp_inv\": \"Remaining outstanding principal balance (investor portion)\",  # PSI: 2.05\n",
    "    \"total_pymnt\": \"Total payments received to date for the funded amount\",  # PSI: 0.81\n",
    "    \"total_pymnt_inv\": \"Total payments received to date for the investor-funded portion\",  # PSI: 0.80\n",
    "    \"total_rec_prncp\": \"Principal received to date\",  # PSI: 0.81\n",
    "    \"total_rec_int\": \"Interest received to date\",  # PSI: 0.26\n",
    "    \"loan_status\": \"Current loan status (e.g., Fully Paid, Charged Off)\",  # PSI: 1.80 (If not target, it's leakage)\n",
    "\n",
    "    # Variables related to post-default settlements or financial hardship\n",
    "    \"settlement_date\": \"Date a debt settlement plan was agreed upon\",  # PSI: 1.84\n",
    "    \"debt_settlement_flag_date\": \"Date the debt settlement flag was activated\",  # PSI: 1.20\n",
    "    \"settlement_status\": \"Status of a debt settlement plan (e.g., COMPLETE, ACTIVE)\",  # PSI: 0.64\n",
    "    \"settlement_term\": \"Term (in months) of a debt settlement plan\",  # PSI: 0.37\n",
    "    \"hardship_start_date\": \"Start date of a hardship plan\",  # PSI: 0.97\n",
    "    \"payment_plan_start_date\": \"Start date of a payment plan (associated with hardship)\",  # PSI: 0.95\n",
    "    \"hardship_end_date\": \"End date of a hardship plan\",  # PSI: 0.90\n",
    "    \"hardship_payoff_balance_amount\": \"Payoff balance amount under a hardship plan\"  # PSI: 0.27\n",
    "}\n",
    "\n",
    "#-------------------------------------------------------------------------------\n",
    "# Category 2: REQUIRES INVESTIGATION or TRANSFORMATION (for high numerical PSI)\n",
    "# (Possible transformation, or exclusion if not stabilized or not crucial)\n",
    "#-------------------------------------------------------------------------------\n",
    "\n",
    "variables_investigate_or_transform = {\n",
    "    # Dates that may reflect temporary changes or need transformation (e.g., to age)\n",
    "    \"d_vintage\": \"Loan 'vintage' or original grouping date\",  # PSI: 15.73\n",
    "    \"issue_d\": \"Month and year the loan was funded (issued)\",  # PSI: 15.73\n",
    "    \"last_credit_pull_d\": \"Most recent month and year credit bureau was pulled for this loan\",  # PSI: 1.31\n",
    "    \"earliest_cr_line\": \"Month and year of the borrower's earliest reported credit line\",  # PSI: 0.37\n",
    "\n",
    "    # Other categorical variables with distribution changes\n",
    "    \"verification_status_joint\": \"Income verification status for a joint application\",  # PSI: 5.74\n",
    "    \"application_type\": \"Indicates if the application was individual or joint\",  # PSI: 0.32\n",
    "    \"initial_list_status\": \"Initial listing status of the loan (for P2P platforms, e.g., 'w' for whole, 'f' for fractional)\"  # PSI: 0.30\n",
    "}\n",
    "\n",
    "#-------------------------------------------------------------------------------\n",
    "# Category 3: PSI is NaN - INVESTIGATE CAUSE and likely DO NOT USE\n",
    "# (Stability could not be calculated, high risk if used without understanding why)\n",
    "#-------------------------------------------------------------------------------\n",
    "variables_psi_is_nan = {\n",
    "    \"revol_bal_joint\": \"Total revolving balance on joint accounts\",  # PSI: NaN\n",
    "    \"sec_app_fico_range_low\": \"Lower bound of FICO range for the secondary applicant\",  # PSI: NaN\n",
    "    \"sec_app_fico_range_high\": \"Upper bound of FICO range for the secondary applicant\",  # PSI: NaN\n",
    "    \"sec_app_earliest_cr_line\": \"Earliest credit line date for the secondary applicant\",  # PSI: NaN\n",
    "    \"sec_app_inq_last_6mths\": \"Credit inquiries in the last 6 months for the secondary applicant\",  # PSI: NaN\n",
    "    \"sec_app_mort_acc\": \"Number of mortgage accounts for the secondary applicant\",  # PSI: NaN\n",
    "    \"sec_app_open_acc\": \"Number of open credit lines for the secondary applicant\",  # PSI: NaN\n",
    "    \"sec_app_revol_util\": \"Revolving credit utilization rate for the secondary applicant\",  # PSI: NaN\n",
    "    \"sec_app_open_act_il\": \"Number of open installment accounts (excluding mortgages) for the secondary applicant\",  # PSI: NaN\n",
    "    \"sec_app_num_rev_accts\": \"Number of revolving accounts for the secondary applicant\",  # PSI: NaN\n",
    "    \"sec_app_chargeoff_within_12_mths\": \"Charge-offs within the last 12 months for the secondary applicant\",  # PSI: NaN\n",
    "    \"sec_app_collections_12_mths_ex_med\": \"Collections in the last 12 months (excluding medical) for the secondary applicant\",  # PSI: NaN\n",
    "    \"sec_app_mths_since_last_major_derog\": \"Months since last major derogatory event for the secondary applicant\"  # PSI: NaN\n",
    "}\n",
    "\n",
    "\n",
    "\n",
    "psi_total_vars = list(variables_do_not_use_or_extreme_caution.keys()) + list(variables_investigate_or_transform.keys()) + list(variables_psi_is_nan.keys())\n",
    "\n",
    "print('Number of features with high PSI:', len(psi_total_vars))\n"
   ]
  },
  {
   "cell_type": "markdown",
   "id": "fbeda880",
   "metadata": {},
   "source": [
    "### Deep  dive on High PSI features"
   ]
  },
  {
   "cell_type": "code",
   "execution_count": 15,
   "id": "f9091ebc",
   "metadata": {},
   "outputs": [
    {
     "name": "stderr",
     "output_type": "stream",
     "text": [
      "/var/folders/v4/7dg4p38j5c31bxdhb2vhmmb00000gp/T/ipykernel_73975/3340324263.py:17: UserWarning:\n",
      "\n",
      "Could not infer format, so each element will be parsed individually, falling back to `dateutil`. To ensure parsing is consistent and as-expected, please specify a format.\n",
      "\n",
      "/var/folders/v4/7dg4p38j5c31bxdhb2vhmmb00000gp/T/ipykernel_73975/3340324263.py:18: UserWarning:\n",
      "\n",
      "Could not infer format, so each element will be parsed individually, falling back to `dateutil`. To ensure parsing is consistent and as-expected, please specify a format.\n",
      "\n",
      "/var/folders/v4/7dg4p38j5c31bxdhb2vhmmb00000gp/T/ipykernel_73975/3340324263.py:17: UserWarning:\n",
      "\n",
      "Could not infer format, so each element will be parsed individually, falling back to `dateutil`. To ensure parsing is consistent and as-expected, please specify a format.\n",
      "\n",
      "/var/folders/v4/7dg4p38j5c31bxdhb2vhmmb00000gp/T/ipykernel_73975/3340324263.py:18: UserWarning:\n",
      "\n",
      "Could not infer format, so each element will be parsed individually, falling back to `dateutil`. To ensure parsing is consistent and as-expected, please specify a format.\n",
      "\n",
      "/var/folders/v4/7dg4p38j5c31bxdhb2vhmmb00000gp/T/ipykernel_73975/3340324263.py:17: UserWarning:\n",
      "\n",
      "Could not infer format, so each element will be parsed individually, falling back to `dateutil`. To ensure parsing is consistent and as-expected, please specify a format.\n",
      "\n",
      "/var/folders/v4/7dg4p38j5c31bxdhb2vhmmb00000gp/T/ipykernel_73975/3340324263.py:18: UserWarning:\n",
      "\n",
      "Could not infer format, so each element will be parsed individually, falling back to `dateutil`. To ensure parsing is consistent and as-expected, please specify a format.\n",
      "\n",
      "/var/folders/v4/7dg4p38j5c31bxdhb2vhmmb00000gp/T/ipykernel_73975/3340324263.py:17: UserWarning:\n",
      "\n",
      "Could not infer format, so each element will be parsed individually, falling back to `dateutil`. To ensure parsing is consistent and as-expected, please specify a format.\n",
      "\n",
      "/var/folders/v4/7dg4p38j5c31bxdhb2vhmmb00000gp/T/ipykernel_73975/3340324263.py:18: UserWarning:\n",
      "\n",
      "Could not infer format, so each element will be parsed individually, falling back to `dateutil`. To ensure parsing is consistent and as-expected, please specify a format.\n",
      "\n",
      "/var/folders/v4/7dg4p38j5c31bxdhb2vhmmb00000gp/T/ipykernel_73975/3340324263.py:17: UserWarning:\n",
      "\n",
      "Could not infer format, so each element will be parsed individually, falling back to `dateutil`. To ensure parsing is consistent and as-expected, please specify a format.\n",
      "\n",
      "/var/folders/v4/7dg4p38j5c31bxdhb2vhmmb00000gp/T/ipykernel_73975/3340324263.py:18: UserWarning:\n",
      "\n",
      "Could not infer format, so each element will be parsed individually, falling back to `dateutil`. To ensure parsing is consistent and as-expected, please specify a format.\n",
      "\n",
      "/var/folders/v4/7dg4p38j5c31bxdhb2vhmmb00000gp/T/ipykernel_73975/3340324263.py:17: UserWarning:\n",
      "\n",
      "Could not infer format, so each element will be parsed individually, falling back to `dateutil`. To ensure parsing is consistent and as-expected, please specify a format.\n",
      "\n",
      "/var/folders/v4/7dg4p38j5c31bxdhb2vhmmb00000gp/T/ipykernel_73975/3340324263.py:18: UserWarning:\n",
      "\n",
      "Could not infer format, so each element will be parsed individually, falling back to `dateutil`. To ensure parsing is consistent and as-expected, please specify a format.\n",
      "\n",
      "/var/folders/v4/7dg4p38j5c31bxdhb2vhmmb00000gp/T/ipykernel_73975/3340324263.py:17: UserWarning:\n",
      "\n",
      "Could not infer format, so each element will be parsed individually, falling back to `dateutil`. To ensure parsing is consistent and as-expected, please specify a format.\n",
      "\n",
      "/var/folders/v4/7dg4p38j5c31bxdhb2vhmmb00000gp/T/ipykernel_73975/3340324263.py:18: UserWarning:\n",
      "\n",
      "Could not infer format, so each element will be parsed individually, falling back to `dateutil`. To ensure parsing is consistent and as-expected, please specify a format.\n",
      "\n",
      "/var/folders/v4/7dg4p38j5c31bxdhb2vhmmb00000gp/T/ipykernel_73975/3340324263.py:17: UserWarning:\n",
      "\n",
      "Could not infer format, so each element will be parsed individually, falling back to `dateutil`. To ensure parsing is consistent and as-expected, please specify a format.\n",
      "\n",
      "/var/folders/v4/7dg4p38j5c31bxdhb2vhmmb00000gp/T/ipykernel_73975/3340324263.py:18: UserWarning:\n",
      "\n",
      "Could not infer format, so each element will be parsed individually, falling back to `dateutil`. To ensure parsing is consistent and as-expected, please specify a format.\n",
      "\n",
      "/var/folders/v4/7dg4p38j5c31bxdhb2vhmmb00000gp/T/ipykernel_73975/3340324263.py:17: UserWarning:\n",
      "\n",
      "Could not infer format, so each element will be parsed individually, falling back to `dateutil`. To ensure parsing is consistent and as-expected, please specify a format.\n",
      "\n",
      "/var/folders/v4/7dg4p38j5c31bxdhb2vhmmb00000gp/T/ipykernel_73975/3340324263.py:18: UserWarning:\n",
      "\n",
      "Could not infer format, so each element will be parsed individually, falling back to `dateutil`. To ensure parsing is consistent and as-expected, please specify a format.\n",
      "\n",
      "/var/folders/v4/7dg4p38j5c31bxdhb2vhmmb00000gp/T/ipykernel_73975/3340324263.py:17: UserWarning:\n",
      "\n",
      "Could not infer format, so each element will be parsed individually, falling back to `dateutil`. To ensure parsing is consistent and as-expected, please specify a format.\n",
      "\n"
     ]
    }
   ],
   "source": [
    "date_features = [\n",
    "    \"d_vintage\",\n",
    "    \"issue_d\",\n",
    "    \"last_pymnt_d\",\n",
    "    \"settlement_date\",\n",
    "    \"last_credit_pull_d\",\n",
    "    \"debt_settlement_flag_date\",\n",
    "    \"hardship_start_date\",\n",
    "    \"payment_plan_start_date\",\n",
    "    \"hardship_end_date\",\n",
    "    \"earliest_cr_line\",\n",
    "    \"sec_app_earliest_cr_line\"\n",
    "]\n",
    "\n",
    "for col in date_features:\n",
    "   if col in df_train.columns and col in df_test.columns: # Good practice to check if column exists\n",
    "        df_train[col] = pd.to_datetime(df_train[col], errors='coerce')\n",
    "        df_test[col] = pd.to_datetime(df_test[col], errors='coerce')"
   ]
  },
  {
   "cell_type": "code",
   "execution_count": 16,
   "id": "6c74dde3",
   "metadata": {},
   "outputs": [
    {
     "data": {
      "text/html": [
       "<div>\n",
       "<style scoped>\n",
       "    .dataframe tbody tr th:only-of-type {\n",
       "        vertical-align: middle;\n",
       "    }\n",
       "\n",
       "    .dataframe tbody tr th {\n",
       "        vertical-align: top;\n",
       "    }\n",
       "\n",
       "    .dataframe thead th {\n",
       "        text-align: right;\n",
       "    }\n",
       "</style>\n",
       "<table border=\"1\" class=\"dataframe\">\n",
       "  <thead>\n",
       "    <tr style=\"text-align: right;\">\n",
       "      <th></th>\n",
       "      <th>d_vintage</th>\n",
       "      <th>issue_d</th>\n",
       "      <th>last_pymnt_d</th>\n",
       "      <th>settlement_date</th>\n",
       "      <th>last_credit_pull_d</th>\n",
       "      <th>debt_settlement_flag_date</th>\n",
       "      <th>hardship_start_date</th>\n",
       "      <th>payment_plan_start_date</th>\n",
       "      <th>hardship_end_date</th>\n",
       "      <th>earliest_cr_line</th>\n",
       "      <th>sec_app_earliest_cr_line</th>\n",
       "    </tr>\n",
       "  </thead>\n",
       "  <tbody>\n",
       "    <tr>\n",
       "      <th>count</th>\n",
       "      <td>1119181</td>\n",
       "      <td>1119181</td>\n",
       "      <td>1118240</td>\n",
       "      <td>24598</td>\n",
       "      <td>1119130</td>\n",
       "      <td>24598</td>\n",
       "      <td>5449</td>\n",
       "      <td>5449</td>\n",
       "      <td>5449</td>\n",
       "      <td>1119152</td>\n",
       "      <td>0</td>\n",
       "    </tr>\n",
       "    <tr>\n",
       "      <th>mean</th>\n",
       "      <td>2014-11-13 23:06:45.029392128</td>\n",
       "      <td>2014-11-13 23:06:45.029392128</td>\n",
       "      <td>2017-01-10 01:50:23.247961600</td>\n",
       "      <td>2017-10-07 14:26:35.251645952</td>\n",
       "      <td>2018-04-16 14:25:55.495429632</td>\n",
       "      <td>2018-03-07 00:47:11.059435264</td>\n",
       "      <td>2017-11-20 12:48:29.598092032</td>\n",
       "      <td>2017-12-01 14:46:05.571664128</td>\n",
       "      <td>2018-02-01 23:16:39.596255232</td>\n",
       "      <td>1998-06-04 15:02:27.917709184</td>\n",
       "      <td>NaT</td>\n",
       "    </tr>\n",
       "    <tr>\n",
       "      <th>min</th>\n",
       "      <td>2007-06-01 00:00:00</td>\n",
       "      <td>2007-06-01 00:00:00</td>\n",
       "      <td>2007-12-01 00:00:00</td>\n",
       "      <td>2009-03-01 00:00:00</td>\n",
       "      <td>2007-05-01 00:00:00</td>\n",
       "      <td>2010-02-01 00:00:00</td>\n",
       "      <td>2017-01-01 00:00:00</td>\n",
       "      <td>2017-02-01 00:00:00</td>\n",
       "      <td>2017-03-01 00:00:00</td>\n",
       "      <td>1933-03-01 00:00:00</td>\n",
       "      <td>NaT</td>\n",
       "    </tr>\n",
       "    <tr>\n",
       "      <th>25%</th>\n",
       "      <td>2014-04-01 00:00:00</td>\n",
       "      <td>2014-04-01 00:00:00</td>\n",
       "      <td>2016-02-01 00:00:00</td>\n",
       "      <td>2017-05-01 00:00:00</td>\n",
       "      <td>2017-10-01 00:00:00</td>\n",
       "      <td>2017-11-01 00:00:00</td>\n",
       "      <td>2017-09-01 00:00:00</td>\n",
       "      <td>2017-09-01 00:00:00</td>\n",
       "      <td>2017-11-01 00:00:00</td>\n",
       "      <td>1994-08-01 00:00:00</td>\n",
       "      <td>NaT</td>\n",
       "    </tr>\n",
       "    <tr>\n",
       "      <th>50%</th>\n",
       "      <td>2015-04-01 00:00:00</td>\n",
       "      <td>2015-04-01 00:00:00</td>\n",
       "      <td>2017-03-01 00:00:00</td>\n",
       "      <td>2017-12-01 00:00:00</td>\n",
       "      <td>2018-11-01 00:00:00</td>\n",
       "      <td>2018-06-01 00:00:00</td>\n",
       "      <td>2017-10-01 00:00:00</td>\n",
       "      <td>2017-10-01 00:00:00</td>\n",
       "      <td>2017-12-01 00:00:00</td>\n",
       "      <td>1999-11-01 00:00:00</td>\n",
       "      <td>NaT</td>\n",
       "    </tr>\n",
       "    <tr>\n",
       "      <th>75%</th>\n",
       "      <td>2015-11-01 00:00:00</td>\n",
       "      <td>2015-11-01 00:00:00</td>\n",
       "      <td>2018-05-01 00:00:00</td>\n",
       "      <td>2018-06-01 00:00:00</td>\n",
       "      <td>2019-03-01 00:00:00</td>\n",
       "      <td>2018-11-01 00:00:00</td>\n",
       "      <td>2018-02-01 00:00:00</td>\n",
       "      <td>2018-02-01 00:00:00</td>\n",
       "      <td>2018-04-01 00:00:00</td>\n",
       "      <td>2003-09-01 00:00:00</td>\n",
       "      <td>NaT</td>\n",
       "    </tr>\n",
       "    <tr>\n",
       "      <th>max</th>\n",
       "      <td>2016-06-01 00:00:00</td>\n",
       "      <td>2016-06-01 00:00:00</td>\n",
       "      <td>2019-03-01 00:00:00</td>\n",
       "      <td>2019-03-01 00:00:00</td>\n",
       "      <td>2019-03-01 00:00:00</td>\n",
       "      <td>2019-03-01 00:00:00</td>\n",
       "      <td>2019-03-01 00:00:00</td>\n",
       "      <td>2019-04-01 00:00:00</td>\n",
       "      <td>2019-06-01 00:00:00</td>\n",
       "      <td>2013-05-01 00:00:00</td>\n",
       "      <td>NaT</td>\n",
       "    </tr>\n",
       "  </tbody>\n",
       "</table>\n",
       "</div>"
      ],
      "text/plain": [
       "                           d_vintage                        issue_d  \\\n",
       "count                        1119181                        1119181   \n",
       "mean   2014-11-13 23:06:45.029392128  2014-11-13 23:06:45.029392128   \n",
       "min              2007-06-01 00:00:00            2007-06-01 00:00:00   \n",
       "25%              2014-04-01 00:00:00            2014-04-01 00:00:00   \n",
       "50%              2015-04-01 00:00:00            2015-04-01 00:00:00   \n",
       "75%              2015-11-01 00:00:00            2015-11-01 00:00:00   \n",
       "max              2016-06-01 00:00:00            2016-06-01 00:00:00   \n",
       "\n",
       "                        last_pymnt_d                settlement_date  \\\n",
       "count                        1118240                          24598   \n",
       "mean   2017-01-10 01:50:23.247961600  2017-10-07 14:26:35.251645952   \n",
       "min              2007-12-01 00:00:00            2009-03-01 00:00:00   \n",
       "25%              2016-02-01 00:00:00            2017-05-01 00:00:00   \n",
       "50%              2017-03-01 00:00:00            2017-12-01 00:00:00   \n",
       "75%              2018-05-01 00:00:00            2018-06-01 00:00:00   \n",
       "max              2019-03-01 00:00:00            2019-03-01 00:00:00   \n",
       "\n",
       "                  last_credit_pull_d      debt_settlement_flag_date  \\\n",
       "count                        1119130                          24598   \n",
       "mean   2018-04-16 14:25:55.495429632  2018-03-07 00:47:11.059435264   \n",
       "min              2007-05-01 00:00:00            2010-02-01 00:00:00   \n",
       "25%              2017-10-01 00:00:00            2017-11-01 00:00:00   \n",
       "50%              2018-11-01 00:00:00            2018-06-01 00:00:00   \n",
       "75%              2019-03-01 00:00:00            2018-11-01 00:00:00   \n",
       "max              2019-03-01 00:00:00            2019-03-01 00:00:00   \n",
       "\n",
       "                 hardship_start_date        payment_plan_start_date  \\\n",
       "count                           5449                           5449   \n",
       "mean   2017-11-20 12:48:29.598092032  2017-12-01 14:46:05.571664128   \n",
       "min              2017-01-01 00:00:00            2017-02-01 00:00:00   \n",
       "25%              2017-09-01 00:00:00            2017-09-01 00:00:00   \n",
       "50%              2017-10-01 00:00:00            2017-10-01 00:00:00   \n",
       "75%              2018-02-01 00:00:00            2018-02-01 00:00:00   \n",
       "max              2019-03-01 00:00:00            2019-04-01 00:00:00   \n",
       "\n",
       "                   hardship_end_date               earliest_cr_line  \\\n",
       "count                           5449                        1119152   \n",
       "mean   2018-02-01 23:16:39.596255232  1998-06-04 15:02:27.917709184   \n",
       "min              2017-03-01 00:00:00            1933-03-01 00:00:00   \n",
       "25%              2017-11-01 00:00:00            1994-08-01 00:00:00   \n",
       "50%              2017-12-01 00:00:00            1999-11-01 00:00:00   \n",
       "75%              2018-04-01 00:00:00            2003-09-01 00:00:00   \n",
       "max              2019-06-01 00:00:00            2013-05-01 00:00:00   \n",
       "\n",
       "      sec_app_earliest_cr_line  \n",
       "count                        0  \n",
       "mean                       NaT  \n",
       "min                        NaT  \n",
       "25%                        NaT  \n",
       "50%                        NaT  \n",
       "75%                        NaT  \n",
       "max                        NaT  "
      ]
     },
     "execution_count": 16,
     "metadata": {},
     "output_type": "execute_result"
    }
   ],
   "source": [
    "df_test[date_features].describe()"
   ]
  },
  {
   "cell_type": "markdown",
   "id": "d648f974",
   "metadata": {},
   "source": [
    "#### Plots- Deep Dive"
   ]
  },
  {
   "cell_type": "code",
   "execution_count": 17,
   "id": "a5c17435",
   "metadata": {},
   "outputs": [
    {
     "data": {
      "application/vnd.plotly.v1+json": {
       "config": {
        "plotlyServerURL": "https://plot.ly"
       },
       "data": [
        {
         "alignmentgroup": "True",
         "hovertemplate": "Dataset=Test<br>initial_list_status=%{x}<br>Proportion=%{y}<extra></extra>",
         "legendgroup": "Test",
         "marker": {
          "color": "#6c6480",
          "pattern": {
           "shape": ""
          }
         },
         "name": "Test",
         "offsetgroup": "Test",
         "orientation": "v",
         "showlegend": true,
         "textposition": "auto",
         "type": "bar",
         "x": [
          "w",
          "f"
         ],
         "xaxis": "x",
         "y": {
          "bdata": "Bnqvn/ur4T/zC6HACKjcPw==",
          "dtype": "f8"
         },
         "yaxis": "y"
        },
        {
         "alignmentgroup": "True",
         "hovertemplate": "Dataset=Train<br>initial_list_status=%{x}<br>Proportion=%{y}<extra></extra>",
         "legendgroup": "Train",
         "marker": {
          "color": "#b4a7d6",
          "pattern": {
           "shape": ""
          }
         },
         "name": "Train",
         "offsetgroup": "Train",
         "orientation": "v",
         "showlegend": true,
         "textposition": "auto",
         "type": "bar",
         "x": [
          "w",
          "f"
         ],
         "xaxis": "x",
         "y": {
          "bdata": "m1dwp9u36T+VoT5ikSDJPw==",
          "dtype": "f8"
         },
         "yaxis": "y"
        }
       ],
       "layout": {
        "barmode": "group",
        "legend": {
         "title": {
          "text": "Dataset"
         },
         "tracegroupgap": 0
        },
        "plot_bgcolor": "white",
        "template": {
         "data": {
          "bar": [
           {
            "error_x": {
             "color": "#2a3f5f"
            },
            "error_y": {
             "color": "#2a3f5f"
            },
            "marker": {
             "line": {
              "color": "#E5ECF6",
              "width": 0.5
             },
             "pattern": {
              "fillmode": "overlay",
              "size": 10,
              "solidity": 0.2
             }
            },
            "type": "bar"
           }
          ],
          "barpolar": [
           {
            "marker": {
             "line": {
              "color": "#E5ECF6",
              "width": 0.5
             },
             "pattern": {
              "fillmode": "overlay",
              "size": 10,
              "solidity": 0.2
             }
            },
            "type": "barpolar"
           }
          ],
          "carpet": [
           {
            "aaxis": {
             "endlinecolor": "#2a3f5f",
             "gridcolor": "white",
             "linecolor": "white",
             "minorgridcolor": "white",
             "startlinecolor": "#2a3f5f"
            },
            "baxis": {
             "endlinecolor": "#2a3f5f",
             "gridcolor": "white",
             "linecolor": "white",
             "minorgridcolor": "white",
             "startlinecolor": "#2a3f5f"
            },
            "type": "carpet"
           }
          ],
          "choropleth": [
           {
            "colorbar": {
             "outlinewidth": 0,
             "ticks": ""
            },
            "type": "choropleth"
           }
          ],
          "contour": [
           {
            "colorbar": {
             "outlinewidth": 0,
             "ticks": ""
            },
            "colorscale": [
             [
              0,
              "#0d0887"
             ],
             [
              0.1111111111111111,
              "#46039f"
             ],
             [
              0.2222222222222222,
              "#7201a8"
             ],
             [
              0.3333333333333333,
              "#9c179e"
             ],
             [
              0.4444444444444444,
              "#bd3786"
             ],
             [
              0.5555555555555556,
              "#d8576b"
             ],
             [
              0.6666666666666666,
              "#ed7953"
             ],
             [
              0.7777777777777778,
              "#fb9f3a"
             ],
             [
              0.8888888888888888,
              "#fdca26"
             ],
             [
              1,
              "#f0f921"
             ]
            ],
            "type": "contour"
           }
          ],
          "contourcarpet": [
           {
            "colorbar": {
             "outlinewidth": 0,
             "ticks": ""
            },
            "type": "contourcarpet"
           }
          ],
          "heatmap": [
           {
            "colorbar": {
             "outlinewidth": 0,
             "ticks": ""
            },
            "colorscale": [
             [
              0,
              "#0d0887"
             ],
             [
              0.1111111111111111,
              "#46039f"
             ],
             [
              0.2222222222222222,
              "#7201a8"
             ],
             [
              0.3333333333333333,
              "#9c179e"
             ],
             [
              0.4444444444444444,
              "#bd3786"
             ],
             [
              0.5555555555555556,
              "#d8576b"
             ],
             [
              0.6666666666666666,
              "#ed7953"
             ],
             [
              0.7777777777777778,
              "#fb9f3a"
             ],
             [
              0.8888888888888888,
              "#fdca26"
             ],
             [
              1,
              "#f0f921"
             ]
            ],
            "type": "heatmap"
           }
          ],
          "histogram": [
           {
            "marker": {
             "pattern": {
              "fillmode": "overlay",
              "size": 10,
              "solidity": 0.2
             }
            },
            "type": "histogram"
           }
          ],
          "histogram2d": [
           {
            "colorbar": {
             "outlinewidth": 0,
             "ticks": ""
            },
            "colorscale": [
             [
              0,
              "#0d0887"
             ],
             [
              0.1111111111111111,
              "#46039f"
             ],
             [
              0.2222222222222222,
              "#7201a8"
             ],
             [
              0.3333333333333333,
              "#9c179e"
             ],
             [
              0.4444444444444444,
              "#bd3786"
             ],
             [
              0.5555555555555556,
              "#d8576b"
             ],
             [
              0.6666666666666666,
              "#ed7953"
             ],
             [
              0.7777777777777778,
              "#fb9f3a"
             ],
             [
              0.8888888888888888,
              "#fdca26"
             ],
             [
              1,
              "#f0f921"
             ]
            ],
            "type": "histogram2d"
           }
          ],
          "histogram2dcontour": [
           {
            "colorbar": {
             "outlinewidth": 0,
             "ticks": ""
            },
            "colorscale": [
             [
              0,
              "#0d0887"
             ],
             [
              0.1111111111111111,
              "#46039f"
             ],
             [
              0.2222222222222222,
              "#7201a8"
             ],
             [
              0.3333333333333333,
              "#9c179e"
             ],
             [
              0.4444444444444444,
              "#bd3786"
             ],
             [
              0.5555555555555556,
              "#d8576b"
             ],
             [
              0.6666666666666666,
              "#ed7953"
             ],
             [
              0.7777777777777778,
              "#fb9f3a"
             ],
             [
              0.8888888888888888,
              "#fdca26"
             ],
             [
              1,
              "#f0f921"
             ]
            ],
            "type": "histogram2dcontour"
           }
          ],
          "mesh3d": [
           {
            "colorbar": {
             "outlinewidth": 0,
             "ticks": ""
            },
            "type": "mesh3d"
           }
          ],
          "parcoords": [
           {
            "line": {
             "colorbar": {
              "outlinewidth": 0,
              "ticks": ""
             }
            },
            "type": "parcoords"
           }
          ],
          "pie": [
           {
            "automargin": true,
            "type": "pie"
           }
          ],
          "scatter": [
           {
            "fillpattern": {
             "fillmode": "overlay",
             "size": 10,
             "solidity": 0.2
            },
            "type": "scatter"
           }
          ],
          "scatter3d": [
           {
            "line": {
             "colorbar": {
              "outlinewidth": 0,
              "ticks": ""
             }
            },
            "marker": {
             "colorbar": {
              "outlinewidth": 0,
              "ticks": ""
             }
            },
            "type": "scatter3d"
           }
          ],
          "scattercarpet": [
           {
            "marker": {
             "colorbar": {
              "outlinewidth": 0,
              "ticks": ""
             }
            },
            "type": "scattercarpet"
           }
          ],
          "scattergeo": [
           {
            "marker": {
             "colorbar": {
              "outlinewidth": 0,
              "ticks": ""
             }
            },
            "type": "scattergeo"
           }
          ],
          "scattergl": [
           {
            "marker": {
             "colorbar": {
              "outlinewidth": 0,
              "ticks": ""
             }
            },
            "type": "scattergl"
           }
          ],
          "scattermap": [
           {
            "marker": {
             "colorbar": {
              "outlinewidth": 0,
              "ticks": ""
             }
            },
            "type": "scattermap"
           }
          ],
          "scattermapbox": [
           {
            "marker": {
             "colorbar": {
              "outlinewidth": 0,
              "ticks": ""
             }
            },
            "type": "scattermapbox"
           }
          ],
          "scatterpolar": [
           {
            "marker": {
             "colorbar": {
              "outlinewidth": 0,
              "ticks": ""
             }
            },
            "type": "scatterpolar"
           }
          ],
          "scatterpolargl": [
           {
            "marker": {
             "colorbar": {
              "outlinewidth": 0,
              "ticks": ""
             }
            },
            "type": "scatterpolargl"
           }
          ],
          "scatterternary": [
           {
            "marker": {
             "colorbar": {
              "outlinewidth": 0,
              "ticks": ""
             }
            },
            "type": "scatterternary"
           }
          ],
          "surface": [
           {
            "colorbar": {
             "outlinewidth": 0,
             "ticks": ""
            },
            "colorscale": [
             [
              0,
              "#0d0887"
             ],
             [
              0.1111111111111111,
              "#46039f"
             ],
             [
              0.2222222222222222,
              "#7201a8"
             ],
             [
              0.3333333333333333,
              "#9c179e"
             ],
             [
              0.4444444444444444,
              "#bd3786"
             ],
             [
              0.5555555555555556,
              "#d8576b"
             ],
             [
              0.6666666666666666,
              "#ed7953"
             ],
             [
              0.7777777777777778,
              "#fb9f3a"
             ],
             [
              0.8888888888888888,
              "#fdca26"
             ],
             [
              1,
              "#f0f921"
             ]
            ],
            "type": "surface"
           }
          ],
          "table": [
           {
            "cells": {
             "fill": {
              "color": "#EBF0F8"
             },
             "line": {
              "color": "white"
             }
            },
            "header": {
             "fill": {
              "color": "#C8D4E3"
             },
             "line": {
              "color": "white"
             }
            },
            "type": "table"
           }
          ]
         },
         "layout": {
          "annotationdefaults": {
           "arrowcolor": "#2a3f5f",
           "arrowhead": 0,
           "arrowwidth": 1
          },
          "autotypenumbers": "strict",
          "coloraxis": {
           "colorbar": {
            "outlinewidth": 0,
            "ticks": ""
           }
          },
          "colorscale": {
           "diverging": [
            [
             0,
             "#8e0152"
            ],
            [
             0.1,
             "#c51b7d"
            ],
            [
             0.2,
             "#de77ae"
            ],
            [
             0.3,
             "#f1b6da"
            ],
            [
             0.4,
             "#fde0ef"
            ],
            [
             0.5,
             "#f7f7f7"
            ],
            [
             0.6,
             "#e6f5d0"
            ],
            [
             0.7,
             "#b8e186"
            ],
            [
             0.8,
             "#7fbc41"
            ],
            [
             0.9,
             "#4d9221"
            ],
            [
             1,
             "#276419"
            ]
           ],
           "sequential": [
            [
             0,
             "#0d0887"
            ],
            [
             0.1111111111111111,
             "#46039f"
            ],
            [
             0.2222222222222222,
             "#7201a8"
            ],
            [
             0.3333333333333333,
             "#9c179e"
            ],
            [
             0.4444444444444444,
             "#bd3786"
            ],
            [
             0.5555555555555556,
             "#d8576b"
            ],
            [
             0.6666666666666666,
             "#ed7953"
            ],
            [
             0.7777777777777778,
             "#fb9f3a"
            ],
            [
             0.8888888888888888,
             "#fdca26"
            ],
            [
             1,
             "#f0f921"
            ]
           ],
           "sequentialminus": [
            [
             0,
             "#0d0887"
            ],
            [
             0.1111111111111111,
             "#46039f"
            ],
            [
             0.2222222222222222,
             "#7201a8"
            ],
            [
             0.3333333333333333,
             "#9c179e"
            ],
            [
             0.4444444444444444,
             "#bd3786"
            ],
            [
             0.5555555555555556,
             "#d8576b"
            ],
            [
             0.6666666666666666,
             "#ed7953"
            ],
            [
             0.7777777777777778,
             "#fb9f3a"
            ],
            [
             0.8888888888888888,
             "#fdca26"
            ],
            [
             1,
             "#f0f921"
            ]
           ]
          },
          "colorway": [
           "#636efa",
           "#EF553B",
           "#00cc96",
           "#ab63fa",
           "#FFA15A",
           "#19d3f3",
           "#FF6692",
           "#B6E880",
           "#FF97FF",
           "#FECB52"
          ],
          "font": {
           "color": "#2a3f5f"
          },
          "geo": {
           "bgcolor": "white",
           "lakecolor": "white",
           "landcolor": "#E5ECF6",
           "showlakes": true,
           "showland": true,
           "subunitcolor": "white"
          },
          "hoverlabel": {
           "align": "left"
          },
          "hovermode": "closest",
          "mapbox": {
           "style": "light"
          },
          "paper_bgcolor": "white",
          "plot_bgcolor": "#E5ECF6",
          "polar": {
           "angularaxis": {
            "gridcolor": "white",
            "linecolor": "white",
            "ticks": ""
           },
           "bgcolor": "#E5ECF6",
           "radialaxis": {
            "gridcolor": "white",
            "linecolor": "white",
            "ticks": ""
           }
          },
          "scene": {
           "xaxis": {
            "backgroundcolor": "#E5ECF6",
            "gridcolor": "white",
            "gridwidth": 2,
            "linecolor": "white",
            "showbackground": true,
            "ticks": "",
            "zerolinecolor": "white"
           },
           "yaxis": {
            "backgroundcolor": "#E5ECF6",
            "gridcolor": "white",
            "gridwidth": 2,
            "linecolor": "white",
            "showbackground": true,
            "ticks": "",
            "zerolinecolor": "white"
           },
           "zaxis": {
            "backgroundcolor": "#E5ECF6",
            "gridcolor": "white",
            "gridwidth": 2,
            "linecolor": "white",
            "showbackground": true,
            "ticks": "",
            "zerolinecolor": "white"
           }
          },
          "shapedefaults": {
           "line": {
            "color": "#2a3f5f"
           }
          },
          "ternary": {
           "aaxis": {
            "gridcolor": "white",
            "linecolor": "white",
            "ticks": ""
           },
           "baxis": {
            "gridcolor": "white",
            "linecolor": "white",
            "ticks": ""
           },
           "bgcolor": "#E5ECF6",
           "caxis": {
            "gridcolor": "white",
            "linecolor": "white",
            "ticks": ""
           }
          },
          "title": {
           "x": 0.05
          },
          "xaxis": {
           "automargin": true,
           "gridcolor": "white",
           "linecolor": "white",
           "ticks": "",
           "title": {
            "standoff": 15
           },
           "zerolinecolor": "white",
           "zerolinewidth": 2
          },
          "yaxis": {
           "automargin": true,
           "gridcolor": "white",
           "linecolor": "white",
           "ticks": "",
           "title": {
            "standoff": 15
           },
           "zerolinecolor": "white",
           "zerolinewidth": 2
          }
         }
        },
        "title": {
         "text": "Distribution comparisson of Initial Status (Train vs Test)"
        },
        "xaxis": {
         "anchor": "y",
         "domain": [
          0,
          1
         ],
         "gridcolor": "lightgrey",
         "linecolor": "black",
         "linewidth": 1,
         "mirror": true,
         "showline": true,
         "title": {
          "text": "Initial Status"
         }
        },
        "yaxis": {
         "anchor": "x",
         "domain": [
          0,
          1
         ],
         "gridcolor": "lightgrey",
         "linecolor": "black",
         "linewidth": 1,
         "mirror": true,
         "showline": true,
         "title": {
          "text": "Relative Proportion"
         }
        }
       }
      }
     },
     "metadata": {},
     "output_type": "display_data"
    }
   ],
   "source": [
    "fig = utils_plot.plot_comparative_distribution_plotly(\n",
    "    df_train,\n",
    "    df_test,\n",
    "    column_name='initial_list_status',\n",
    "    plot_type='bar', \n",
    "    bins=30,        \n",
    "    color_discrete_sequence=[  '#b4a7d6',  '#6c6480'],\n",
    "    title_suffix=\" - Loan Amount Distribution (Train vs Test)\"\n",
    ")\n",
    "\n",
    "if fig:\n",
    "    \n",
    "    fig.update_layout(\n",
    "        xaxis_title=\"Initial Status\", \n",
    "        yaxis_title=\"Relative Proportion\",      \n",
    "        legend_title=\"Dataset\" ,     \n",
    "        title= 'Distribution comparisson of Initial Status (Train vs Test)'\n",
    "    )\n",
    "\n",
    "\n",
    "    fig.show()"
   ]
  },
  {
   "cell_type": "code",
   "execution_count": 18,
   "id": "66074a7c",
   "metadata": {},
   "outputs": [
    {
     "data": {
      "application/vnd.plotly.v1+json": {
       "config": {
        "plotlyServerURL": "https://plot.ly"
       },
       "data": [
        {
         "alignmentgroup": "True",
         "hovertemplate": "Dataset=Test<br>application_type=%{x}<br>Proportion=%{y}<extra></extra>",
         "legendgroup": "Test",
         "marker": {
          "color": "#6c6480",
          "pattern": {
           "shape": ""
          }
         },
         "name": "Test",
         "offsetgroup": "Test",
         "orientation": "v",
         "showlegend": true,
         "textposition": "auto",
         "type": "bar",
         "x": [
          "Individual",
          "Joint App"
         ],
         "xaxis": "x",
         "y": {
          "bdata": "jMD8Uvzd7z/muZ+B1gFxPw==",
          "dtype": "f8"
         },
         "yaxis": "y"
        },
        {
         "alignmentgroup": "True",
         "hovertemplate": "Dataset=Train<br>application_type=%{x}<br>Proportion=%{y}<extra></extra>",
         "legendgroup": "Train",
         "marker": {
          "color": "#b4a7d6",
          "pattern": {
           "shape": ""
          }
         },
         "name": "Train",
         "offsetgroup": "Train",
         "orientation": "v",
         "showlegend": true,
         "textposition": "auto",
         "type": "bar",
         "x": [
          "Individual",
          "Joint App"
         ],
         "xaxis": "x",
         "y": {
          "bdata": "y9IWpA+/7D+maUnfgge6Pw==",
          "dtype": "f8"
         },
         "yaxis": "y"
        }
       ],
       "layout": {
        "barmode": "group",
        "legend": {
         "title": {
          "text": "Dataset"
         },
         "tracegroupgap": 0
        },
        "plot_bgcolor": "white",
        "template": {
         "data": {
          "bar": [
           {
            "error_x": {
             "color": "#2a3f5f"
            },
            "error_y": {
             "color": "#2a3f5f"
            },
            "marker": {
             "line": {
              "color": "#E5ECF6",
              "width": 0.5
             },
             "pattern": {
              "fillmode": "overlay",
              "size": 10,
              "solidity": 0.2
             }
            },
            "type": "bar"
           }
          ],
          "barpolar": [
           {
            "marker": {
             "line": {
              "color": "#E5ECF6",
              "width": 0.5
             },
             "pattern": {
              "fillmode": "overlay",
              "size": 10,
              "solidity": 0.2
             }
            },
            "type": "barpolar"
           }
          ],
          "carpet": [
           {
            "aaxis": {
             "endlinecolor": "#2a3f5f",
             "gridcolor": "white",
             "linecolor": "white",
             "minorgridcolor": "white",
             "startlinecolor": "#2a3f5f"
            },
            "baxis": {
             "endlinecolor": "#2a3f5f",
             "gridcolor": "white",
             "linecolor": "white",
             "minorgridcolor": "white",
             "startlinecolor": "#2a3f5f"
            },
            "type": "carpet"
           }
          ],
          "choropleth": [
           {
            "colorbar": {
             "outlinewidth": 0,
             "ticks": ""
            },
            "type": "choropleth"
           }
          ],
          "contour": [
           {
            "colorbar": {
             "outlinewidth": 0,
             "ticks": ""
            },
            "colorscale": [
             [
              0,
              "#0d0887"
             ],
             [
              0.1111111111111111,
              "#46039f"
             ],
             [
              0.2222222222222222,
              "#7201a8"
             ],
             [
              0.3333333333333333,
              "#9c179e"
             ],
             [
              0.4444444444444444,
              "#bd3786"
             ],
             [
              0.5555555555555556,
              "#d8576b"
             ],
             [
              0.6666666666666666,
              "#ed7953"
             ],
             [
              0.7777777777777778,
              "#fb9f3a"
             ],
             [
              0.8888888888888888,
              "#fdca26"
             ],
             [
              1,
              "#f0f921"
             ]
            ],
            "type": "contour"
           }
          ],
          "contourcarpet": [
           {
            "colorbar": {
             "outlinewidth": 0,
             "ticks": ""
            },
            "type": "contourcarpet"
           }
          ],
          "heatmap": [
           {
            "colorbar": {
             "outlinewidth": 0,
             "ticks": ""
            },
            "colorscale": [
             [
              0,
              "#0d0887"
             ],
             [
              0.1111111111111111,
              "#46039f"
             ],
             [
              0.2222222222222222,
              "#7201a8"
             ],
             [
              0.3333333333333333,
              "#9c179e"
             ],
             [
              0.4444444444444444,
              "#bd3786"
             ],
             [
              0.5555555555555556,
              "#d8576b"
             ],
             [
              0.6666666666666666,
              "#ed7953"
             ],
             [
              0.7777777777777778,
              "#fb9f3a"
             ],
             [
              0.8888888888888888,
              "#fdca26"
             ],
             [
              1,
              "#f0f921"
             ]
            ],
            "type": "heatmap"
           }
          ],
          "histogram": [
           {
            "marker": {
             "pattern": {
              "fillmode": "overlay",
              "size": 10,
              "solidity": 0.2
             }
            },
            "type": "histogram"
           }
          ],
          "histogram2d": [
           {
            "colorbar": {
             "outlinewidth": 0,
             "ticks": ""
            },
            "colorscale": [
             [
              0,
              "#0d0887"
             ],
             [
              0.1111111111111111,
              "#46039f"
             ],
             [
              0.2222222222222222,
              "#7201a8"
             ],
             [
              0.3333333333333333,
              "#9c179e"
             ],
             [
              0.4444444444444444,
              "#bd3786"
             ],
             [
              0.5555555555555556,
              "#d8576b"
             ],
             [
              0.6666666666666666,
              "#ed7953"
             ],
             [
              0.7777777777777778,
              "#fb9f3a"
             ],
             [
              0.8888888888888888,
              "#fdca26"
             ],
             [
              1,
              "#f0f921"
             ]
            ],
            "type": "histogram2d"
           }
          ],
          "histogram2dcontour": [
           {
            "colorbar": {
             "outlinewidth": 0,
             "ticks": ""
            },
            "colorscale": [
             [
              0,
              "#0d0887"
             ],
             [
              0.1111111111111111,
              "#46039f"
             ],
             [
              0.2222222222222222,
              "#7201a8"
             ],
             [
              0.3333333333333333,
              "#9c179e"
             ],
             [
              0.4444444444444444,
              "#bd3786"
             ],
             [
              0.5555555555555556,
              "#d8576b"
             ],
             [
              0.6666666666666666,
              "#ed7953"
             ],
             [
              0.7777777777777778,
              "#fb9f3a"
             ],
             [
              0.8888888888888888,
              "#fdca26"
             ],
             [
              1,
              "#f0f921"
             ]
            ],
            "type": "histogram2dcontour"
           }
          ],
          "mesh3d": [
           {
            "colorbar": {
             "outlinewidth": 0,
             "ticks": ""
            },
            "type": "mesh3d"
           }
          ],
          "parcoords": [
           {
            "line": {
             "colorbar": {
              "outlinewidth": 0,
              "ticks": ""
             }
            },
            "type": "parcoords"
           }
          ],
          "pie": [
           {
            "automargin": true,
            "type": "pie"
           }
          ],
          "scatter": [
           {
            "fillpattern": {
             "fillmode": "overlay",
             "size": 10,
             "solidity": 0.2
            },
            "type": "scatter"
           }
          ],
          "scatter3d": [
           {
            "line": {
             "colorbar": {
              "outlinewidth": 0,
              "ticks": ""
             }
            },
            "marker": {
             "colorbar": {
              "outlinewidth": 0,
              "ticks": ""
             }
            },
            "type": "scatter3d"
           }
          ],
          "scattercarpet": [
           {
            "marker": {
             "colorbar": {
              "outlinewidth": 0,
              "ticks": ""
             }
            },
            "type": "scattercarpet"
           }
          ],
          "scattergeo": [
           {
            "marker": {
             "colorbar": {
              "outlinewidth": 0,
              "ticks": ""
             }
            },
            "type": "scattergeo"
           }
          ],
          "scattergl": [
           {
            "marker": {
             "colorbar": {
              "outlinewidth": 0,
              "ticks": ""
             }
            },
            "type": "scattergl"
           }
          ],
          "scattermap": [
           {
            "marker": {
             "colorbar": {
              "outlinewidth": 0,
              "ticks": ""
             }
            },
            "type": "scattermap"
           }
          ],
          "scattermapbox": [
           {
            "marker": {
             "colorbar": {
              "outlinewidth": 0,
              "ticks": ""
             }
            },
            "type": "scattermapbox"
           }
          ],
          "scatterpolar": [
           {
            "marker": {
             "colorbar": {
              "outlinewidth": 0,
              "ticks": ""
             }
            },
            "type": "scatterpolar"
           }
          ],
          "scatterpolargl": [
           {
            "marker": {
             "colorbar": {
              "outlinewidth": 0,
              "ticks": ""
             }
            },
            "type": "scatterpolargl"
           }
          ],
          "scatterternary": [
           {
            "marker": {
             "colorbar": {
              "outlinewidth": 0,
              "ticks": ""
             }
            },
            "type": "scatterternary"
           }
          ],
          "surface": [
           {
            "colorbar": {
             "outlinewidth": 0,
             "ticks": ""
            },
            "colorscale": [
             [
              0,
              "#0d0887"
             ],
             [
              0.1111111111111111,
              "#46039f"
             ],
             [
              0.2222222222222222,
              "#7201a8"
             ],
             [
              0.3333333333333333,
              "#9c179e"
             ],
             [
              0.4444444444444444,
              "#bd3786"
             ],
             [
              0.5555555555555556,
              "#d8576b"
             ],
             [
              0.6666666666666666,
              "#ed7953"
             ],
             [
              0.7777777777777778,
              "#fb9f3a"
             ],
             [
              0.8888888888888888,
              "#fdca26"
             ],
             [
              1,
              "#f0f921"
             ]
            ],
            "type": "surface"
           }
          ],
          "table": [
           {
            "cells": {
             "fill": {
              "color": "#EBF0F8"
             },
             "line": {
              "color": "white"
             }
            },
            "header": {
             "fill": {
              "color": "#C8D4E3"
             },
             "line": {
              "color": "white"
             }
            },
            "type": "table"
           }
          ]
         },
         "layout": {
          "annotationdefaults": {
           "arrowcolor": "#2a3f5f",
           "arrowhead": 0,
           "arrowwidth": 1
          },
          "autotypenumbers": "strict",
          "coloraxis": {
           "colorbar": {
            "outlinewidth": 0,
            "ticks": ""
           }
          },
          "colorscale": {
           "diverging": [
            [
             0,
             "#8e0152"
            ],
            [
             0.1,
             "#c51b7d"
            ],
            [
             0.2,
             "#de77ae"
            ],
            [
             0.3,
             "#f1b6da"
            ],
            [
             0.4,
             "#fde0ef"
            ],
            [
             0.5,
             "#f7f7f7"
            ],
            [
             0.6,
             "#e6f5d0"
            ],
            [
             0.7,
             "#b8e186"
            ],
            [
             0.8,
             "#7fbc41"
            ],
            [
             0.9,
             "#4d9221"
            ],
            [
             1,
             "#276419"
            ]
           ],
           "sequential": [
            [
             0,
             "#0d0887"
            ],
            [
             0.1111111111111111,
             "#46039f"
            ],
            [
             0.2222222222222222,
             "#7201a8"
            ],
            [
             0.3333333333333333,
             "#9c179e"
            ],
            [
             0.4444444444444444,
             "#bd3786"
            ],
            [
             0.5555555555555556,
             "#d8576b"
            ],
            [
             0.6666666666666666,
             "#ed7953"
            ],
            [
             0.7777777777777778,
             "#fb9f3a"
            ],
            [
             0.8888888888888888,
             "#fdca26"
            ],
            [
             1,
             "#f0f921"
            ]
           ],
           "sequentialminus": [
            [
             0,
             "#0d0887"
            ],
            [
             0.1111111111111111,
             "#46039f"
            ],
            [
             0.2222222222222222,
             "#7201a8"
            ],
            [
             0.3333333333333333,
             "#9c179e"
            ],
            [
             0.4444444444444444,
             "#bd3786"
            ],
            [
             0.5555555555555556,
             "#d8576b"
            ],
            [
             0.6666666666666666,
             "#ed7953"
            ],
            [
             0.7777777777777778,
             "#fb9f3a"
            ],
            [
             0.8888888888888888,
             "#fdca26"
            ],
            [
             1,
             "#f0f921"
            ]
           ]
          },
          "colorway": [
           "#636efa",
           "#EF553B",
           "#00cc96",
           "#ab63fa",
           "#FFA15A",
           "#19d3f3",
           "#FF6692",
           "#B6E880",
           "#FF97FF",
           "#FECB52"
          ],
          "font": {
           "color": "#2a3f5f"
          },
          "geo": {
           "bgcolor": "white",
           "lakecolor": "white",
           "landcolor": "#E5ECF6",
           "showlakes": true,
           "showland": true,
           "subunitcolor": "white"
          },
          "hoverlabel": {
           "align": "left"
          },
          "hovermode": "closest",
          "mapbox": {
           "style": "light"
          },
          "paper_bgcolor": "white",
          "plot_bgcolor": "#E5ECF6",
          "polar": {
           "angularaxis": {
            "gridcolor": "white",
            "linecolor": "white",
            "ticks": ""
           },
           "bgcolor": "#E5ECF6",
           "radialaxis": {
            "gridcolor": "white",
            "linecolor": "white",
            "ticks": ""
           }
          },
          "scene": {
           "xaxis": {
            "backgroundcolor": "#E5ECF6",
            "gridcolor": "white",
            "gridwidth": 2,
            "linecolor": "white",
            "showbackground": true,
            "ticks": "",
            "zerolinecolor": "white"
           },
           "yaxis": {
            "backgroundcolor": "#E5ECF6",
            "gridcolor": "white",
            "gridwidth": 2,
            "linecolor": "white",
            "showbackground": true,
            "ticks": "",
            "zerolinecolor": "white"
           },
           "zaxis": {
            "backgroundcolor": "#E5ECF6",
            "gridcolor": "white",
            "gridwidth": 2,
            "linecolor": "white",
            "showbackground": true,
            "ticks": "",
            "zerolinecolor": "white"
           }
          },
          "shapedefaults": {
           "line": {
            "color": "#2a3f5f"
           }
          },
          "ternary": {
           "aaxis": {
            "gridcolor": "white",
            "linecolor": "white",
            "ticks": ""
           },
           "baxis": {
            "gridcolor": "white",
            "linecolor": "white",
            "ticks": ""
           },
           "bgcolor": "#E5ECF6",
           "caxis": {
            "gridcolor": "white",
            "linecolor": "white",
            "ticks": ""
           }
          },
          "title": {
           "x": 0.05
          },
          "xaxis": {
           "automargin": true,
           "gridcolor": "white",
           "linecolor": "white",
           "ticks": "",
           "title": {
            "standoff": 15
           },
           "zerolinecolor": "white",
           "zerolinewidth": 2
          },
          "yaxis": {
           "automargin": true,
           "gridcolor": "white",
           "linecolor": "white",
           "ticks": "",
           "title": {
            "standoff": 15
           },
           "zerolinecolor": "white",
           "zerolinewidth": 2
          }
         }
        },
        "title": {
         "text": "Distribution comparisson of Application Type (Train vs Test)"
        },
        "xaxis": {
         "anchor": "y",
         "domain": [
          0,
          1
         ],
         "gridcolor": "lightgrey",
         "linecolor": "black",
         "linewidth": 1,
         "mirror": true,
         "showline": true,
         "title": {
          "text": "Application Type"
         }
        },
        "yaxis": {
         "anchor": "x",
         "domain": [
          0,
          1
         ],
         "gridcolor": "lightgrey",
         "linecolor": "black",
         "linewidth": 1,
         "mirror": true,
         "showline": true,
         "title": {
          "text": "Relative Proportion"
         }
        }
       }
      }
     },
     "metadata": {},
     "output_type": "display_data"
    }
   ],
   "source": [
    "fig = utils_plot.plot_comparative_distribution_plotly(\n",
    "    df_train,\n",
    "    df_test,\n",
    "    column_name='application_type',\n",
    "    plot_type='bar', \n",
    "    bins=30,        \n",
    "    color_discrete_sequence=[  '#b4a7d6',  '#6c6480'],\n",
    "    title_suffix=\" - Loan Amount Distribution (Train vs Test)\"\n",
    ")\n",
    "\n",
    "if fig:\n",
    "    \n",
    "    fig.update_layout(\n",
    "        xaxis_title=\"Application Type\", \n",
    "        yaxis_title=\"Relative Proportion\",      \n",
    "        legend_title=\"Dataset\" ,     \n",
    "        title= 'Distribution comparisson of Application Type (Train vs Test)'\n",
    "    )\n",
    "\n",
    "\n",
    "    fig.show()"
   ]
  },
  {
   "cell_type": "code",
   "execution_count": 19,
   "id": "d377f0b8",
   "metadata": {},
   "outputs": [
    {
     "data": {
      "application/vnd.plotly.v1+json": {
       "config": {
        "plotlyServerURL": "https://plot.ly"
       },
       "data": [
        {
         "alignmentgroup": "True",
         "hovertemplate": "Dataset=Test<br>verification_status_joint=%{x}<br>Proportion=%{y}<extra></extra>",
         "legendgroup": "Test",
         "marker": {
          "color": "#6c6480",
          "pattern": {
           "shape": ""
          }
         },
         "name": "Test",
         "offsetgroup": "Test",
         "orientation": "v",
         "showlegend": true,
         "textposition": "auto",
         "type": "bar",
         "x": [
          "None",
          "Not Verified"
         ],
         "xaxis": "x",
         "y": {
          "bdata": "jMD8Uvzd7z/muZ+B1gFxPw==",
          "dtype": "f8"
         },
         "yaxis": "y"
        },
        {
         "alignmentgroup": "True",
         "hovertemplate": "Dataset=Train<br>verification_status_joint=%{x}<br>Proportion=%{y}<extra></extra>",
         "legendgroup": "Train",
         "marker": {
          "color": "#b4a7d6",
          "pattern": {
           "shape": ""
          }
         },
         "name": "Train",
         "offsetgroup": "Train",
         "orientation": "v",
         "showlegend": true,
         "textposition": "auto",
         "type": "bar",
         "x": [
          "None",
          "Not Verified",
          "Source Verified",
          "Verified"
         ],
         "xaxis": "x",
         "y": {
          "bdata": "jzgs9czi7D8VVxl3v6mnPwZ1INoSPp8//colks8UlT8=",
          "dtype": "f8"
         },
         "yaxis": "y"
        }
       ],
       "layout": {
        "barmode": "group",
        "legend": {
         "title": {
          "text": "Dataset"
         },
         "tracegroupgap": 0
        },
        "plot_bgcolor": "white",
        "template": {
         "data": {
          "bar": [
           {
            "error_x": {
             "color": "#2a3f5f"
            },
            "error_y": {
             "color": "#2a3f5f"
            },
            "marker": {
             "line": {
              "color": "#E5ECF6",
              "width": 0.5
             },
             "pattern": {
              "fillmode": "overlay",
              "size": 10,
              "solidity": 0.2
             }
            },
            "type": "bar"
           }
          ],
          "barpolar": [
           {
            "marker": {
             "line": {
              "color": "#E5ECF6",
              "width": 0.5
             },
             "pattern": {
              "fillmode": "overlay",
              "size": 10,
              "solidity": 0.2
             }
            },
            "type": "barpolar"
           }
          ],
          "carpet": [
           {
            "aaxis": {
             "endlinecolor": "#2a3f5f",
             "gridcolor": "white",
             "linecolor": "white",
             "minorgridcolor": "white",
             "startlinecolor": "#2a3f5f"
            },
            "baxis": {
             "endlinecolor": "#2a3f5f",
             "gridcolor": "white",
             "linecolor": "white",
             "minorgridcolor": "white",
             "startlinecolor": "#2a3f5f"
            },
            "type": "carpet"
           }
          ],
          "choropleth": [
           {
            "colorbar": {
             "outlinewidth": 0,
             "ticks": ""
            },
            "type": "choropleth"
           }
          ],
          "contour": [
           {
            "colorbar": {
             "outlinewidth": 0,
             "ticks": ""
            },
            "colorscale": [
             [
              0,
              "#0d0887"
             ],
             [
              0.1111111111111111,
              "#46039f"
             ],
             [
              0.2222222222222222,
              "#7201a8"
             ],
             [
              0.3333333333333333,
              "#9c179e"
             ],
             [
              0.4444444444444444,
              "#bd3786"
             ],
             [
              0.5555555555555556,
              "#d8576b"
             ],
             [
              0.6666666666666666,
              "#ed7953"
             ],
             [
              0.7777777777777778,
              "#fb9f3a"
             ],
             [
              0.8888888888888888,
              "#fdca26"
             ],
             [
              1,
              "#f0f921"
             ]
            ],
            "type": "contour"
           }
          ],
          "contourcarpet": [
           {
            "colorbar": {
             "outlinewidth": 0,
             "ticks": ""
            },
            "type": "contourcarpet"
           }
          ],
          "heatmap": [
           {
            "colorbar": {
             "outlinewidth": 0,
             "ticks": ""
            },
            "colorscale": [
             [
              0,
              "#0d0887"
             ],
             [
              0.1111111111111111,
              "#46039f"
             ],
             [
              0.2222222222222222,
              "#7201a8"
             ],
             [
              0.3333333333333333,
              "#9c179e"
             ],
             [
              0.4444444444444444,
              "#bd3786"
             ],
             [
              0.5555555555555556,
              "#d8576b"
             ],
             [
              0.6666666666666666,
              "#ed7953"
             ],
             [
              0.7777777777777778,
              "#fb9f3a"
             ],
             [
              0.8888888888888888,
              "#fdca26"
             ],
             [
              1,
              "#f0f921"
             ]
            ],
            "type": "heatmap"
           }
          ],
          "histogram": [
           {
            "marker": {
             "pattern": {
              "fillmode": "overlay",
              "size": 10,
              "solidity": 0.2
             }
            },
            "type": "histogram"
           }
          ],
          "histogram2d": [
           {
            "colorbar": {
             "outlinewidth": 0,
             "ticks": ""
            },
            "colorscale": [
             [
              0,
              "#0d0887"
             ],
             [
              0.1111111111111111,
              "#46039f"
             ],
             [
              0.2222222222222222,
              "#7201a8"
             ],
             [
              0.3333333333333333,
              "#9c179e"
             ],
             [
              0.4444444444444444,
              "#bd3786"
             ],
             [
              0.5555555555555556,
              "#d8576b"
             ],
             [
              0.6666666666666666,
              "#ed7953"
             ],
             [
              0.7777777777777778,
              "#fb9f3a"
             ],
             [
              0.8888888888888888,
              "#fdca26"
             ],
             [
              1,
              "#f0f921"
             ]
            ],
            "type": "histogram2d"
           }
          ],
          "histogram2dcontour": [
           {
            "colorbar": {
             "outlinewidth": 0,
             "ticks": ""
            },
            "colorscale": [
             [
              0,
              "#0d0887"
             ],
             [
              0.1111111111111111,
              "#46039f"
             ],
             [
              0.2222222222222222,
              "#7201a8"
             ],
             [
              0.3333333333333333,
              "#9c179e"
             ],
             [
              0.4444444444444444,
              "#bd3786"
             ],
             [
              0.5555555555555556,
              "#d8576b"
             ],
             [
              0.6666666666666666,
              "#ed7953"
             ],
             [
              0.7777777777777778,
              "#fb9f3a"
             ],
             [
              0.8888888888888888,
              "#fdca26"
             ],
             [
              1,
              "#f0f921"
             ]
            ],
            "type": "histogram2dcontour"
           }
          ],
          "mesh3d": [
           {
            "colorbar": {
             "outlinewidth": 0,
             "ticks": ""
            },
            "type": "mesh3d"
           }
          ],
          "parcoords": [
           {
            "line": {
             "colorbar": {
              "outlinewidth": 0,
              "ticks": ""
             }
            },
            "type": "parcoords"
           }
          ],
          "pie": [
           {
            "automargin": true,
            "type": "pie"
           }
          ],
          "scatter": [
           {
            "fillpattern": {
             "fillmode": "overlay",
             "size": 10,
             "solidity": 0.2
            },
            "type": "scatter"
           }
          ],
          "scatter3d": [
           {
            "line": {
             "colorbar": {
              "outlinewidth": 0,
              "ticks": ""
             }
            },
            "marker": {
             "colorbar": {
              "outlinewidth": 0,
              "ticks": ""
             }
            },
            "type": "scatter3d"
           }
          ],
          "scattercarpet": [
           {
            "marker": {
             "colorbar": {
              "outlinewidth": 0,
              "ticks": ""
             }
            },
            "type": "scattercarpet"
           }
          ],
          "scattergeo": [
           {
            "marker": {
             "colorbar": {
              "outlinewidth": 0,
              "ticks": ""
             }
            },
            "type": "scattergeo"
           }
          ],
          "scattergl": [
           {
            "marker": {
             "colorbar": {
              "outlinewidth": 0,
              "ticks": ""
             }
            },
            "type": "scattergl"
           }
          ],
          "scattermap": [
           {
            "marker": {
             "colorbar": {
              "outlinewidth": 0,
              "ticks": ""
             }
            },
            "type": "scattermap"
           }
          ],
          "scattermapbox": [
           {
            "marker": {
             "colorbar": {
              "outlinewidth": 0,
              "ticks": ""
             }
            },
            "type": "scattermapbox"
           }
          ],
          "scatterpolar": [
           {
            "marker": {
             "colorbar": {
              "outlinewidth": 0,
              "ticks": ""
             }
            },
            "type": "scatterpolar"
           }
          ],
          "scatterpolargl": [
           {
            "marker": {
             "colorbar": {
              "outlinewidth": 0,
              "ticks": ""
             }
            },
            "type": "scatterpolargl"
           }
          ],
          "scatterternary": [
           {
            "marker": {
             "colorbar": {
              "outlinewidth": 0,
              "ticks": ""
             }
            },
            "type": "scatterternary"
           }
          ],
          "surface": [
           {
            "colorbar": {
             "outlinewidth": 0,
             "ticks": ""
            },
            "colorscale": [
             [
              0,
              "#0d0887"
             ],
             [
              0.1111111111111111,
              "#46039f"
             ],
             [
              0.2222222222222222,
              "#7201a8"
             ],
             [
              0.3333333333333333,
              "#9c179e"
             ],
             [
              0.4444444444444444,
              "#bd3786"
             ],
             [
              0.5555555555555556,
              "#d8576b"
             ],
             [
              0.6666666666666666,
              "#ed7953"
             ],
             [
              0.7777777777777778,
              "#fb9f3a"
             ],
             [
              0.8888888888888888,
              "#fdca26"
             ],
             [
              1,
              "#f0f921"
             ]
            ],
            "type": "surface"
           }
          ],
          "table": [
           {
            "cells": {
             "fill": {
              "color": "#EBF0F8"
             },
             "line": {
              "color": "white"
             }
            },
            "header": {
             "fill": {
              "color": "#C8D4E3"
             },
             "line": {
              "color": "white"
             }
            },
            "type": "table"
           }
          ]
         },
         "layout": {
          "annotationdefaults": {
           "arrowcolor": "#2a3f5f",
           "arrowhead": 0,
           "arrowwidth": 1
          },
          "autotypenumbers": "strict",
          "coloraxis": {
           "colorbar": {
            "outlinewidth": 0,
            "ticks": ""
           }
          },
          "colorscale": {
           "diverging": [
            [
             0,
             "#8e0152"
            ],
            [
             0.1,
             "#c51b7d"
            ],
            [
             0.2,
             "#de77ae"
            ],
            [
             0.3,
             "#f1b6da"
            ],
            [
             0.4,
             "#fde0ef"
            ],
            [
             0.5,
             "#f7f7f7"
            ],
            [
             0.6,
             "#e6f5d0"
            ],
            [
             0.7,
             "#b8e186"
            ],
            [
             0.8,
             "#7fbc41"
            ],
            [
             0.9,
             "#4d9221"
            ],
            [
             1,
             "#276419"
            ]
           ],
           "sequential": [
            [
             0,
             "#0d0887"
            ],
            [
             0.1111111111111111,
             "#46039f"
            ],
            [
             0.2222222222222222,
             "#7201a8"
            ],
            [
             0.3333333333333333,
             "#9c179e"
            ],
            [
             0.4444444444444444,
             "#bd3786"
            ],
            [
             0.5555555555555556,
             "#d8576b"
            ],
            [
             0.6666666666666666,
             "#ed7953"
            ],
            [
             0.7777777777777778,
             "#fb9f3a"
            ],
            [
             0.8888888888888888,
             "#fdca26"
            ],
            [
             1,
             "#f0f921"
            ]
           ],
           "sequentialminus": [
            [
             0,
             "#0d0887"
            ],
            [
             0.1111111111111111,
             "#46039f"
            ],
            [
             0.2222222222222222,
             "#7201a8"
            ],
            [
             0.3333333333333333,
             "#9c179e"
            ],
            [
             0.4444444444444444,
             "#bd3786"
            ],
            [
             0.5555555555555556,
             "#d8576b"
            ],
            [
             0.6666666666666666,
             "#ed7953"
            ],
            [
             0.7777777777777778,
             "#fb9f3a"
            ],
            [
             0.8888888888888888,
             "#fdca26"
            ],
            [
             1,
             "#f0f921"
            ]
           ]
          },
          "colorway": [
           "#636efa",
           "#EF553B",
           "#00cc96",
           "#ab63fa",
           "#FFA15A",
           "#19d3f3",
           "#FF6692",
           "#B6E880",
           "#FF97FF",
           "#FECB52"
          ],
          "font": {
           "color": "#2a3f5f"
          },
          "geo": {
           "bgcolor": "white",
           "lakecolor": "white",
           "landcolor": "#E5ECF6",
           "showlakes": true,
           "showland": true,
           "subunitcolor": "white"
          },
          "hoverlabel": {
           "align": "left"
          },
          "hovermode": "closest",
          "mapbox": {
           "style": "light"
          },
          "paper_bgcolor": "white",
          "plot_bgcolor": "#E5ECF6",
          "polar": {
           "angularaxis": {
            "gridcolor": "white",
            "linecolor": "white",
            "ticks": ""
           },
           "bgcolor": "#E5ECF6",
           "radialaxis": {
            "gridcolor": "white",
            "linecolor": "white",
            "ticks": ""
           }
          },
          "scene": {
           "xaxis": {
            "backgroundcolor": "#E5ECF6",
            "gridcolor": "white",
            "gridwidth": 2,
            "linecolor": "white",
            "showbackground": true,
            "ticks": "",
            "zerolinecolor": "white"
           },
           "yaxis": {
            "backgroundcolor": "#E5ECF6",
            "gridcolor": "white",
            "gridwidth": 2,
            "linecolor": "white",
            "showbackground": true,
            "ticks": "",
            "zerolinecolor": "white"
           },
           "zaxis": {
            "backgroundcolor": "#E5ECF6",
            "gridcolor": "white",
            "gridwidth": 2,
            "linecolor": "white",
            "showbackground": true,
            "ticks": "",
            "zerolinecolor": "white"
           }
          },
          "shapedefaults": {
           "line": {
            "color": "#2a3f5f"
           }
          },
          "ternary": {
           "aaxis": {
            "gridcolor": "white",
            "linecolor": "white",
            "ticks": ""
           },
           "baxis": {
            "gridcolor": "white",
            "linecolor": "white",
            "ticks": ""
           },
           "bgcolor": "#E5ECF6",
           "caxis": {
            "gridcolor": "white",
            "linecolor": "white",
            "ticks": ""
           }
          },
          "title": {
           "x": 0.05
          },
          "xaxis": {
           "automargin": true,
           "gridcolor": "white",
           "linecolor": "white",
           "ticks": "",
           "title": {
            "standoff": 15
           },
           "zerolinecolor": "white",
           "zerolinewidth": 2
          },
          "yaxis": {
           "automargin": true,
           "gridcolor": "white",
           "linecolor": "white",
           "ticks": "",
           "title": {
            "standoff": 15
           },
           "zerolinecolor": "white",
           "zerolinewidth": 2
          }
         }
        },
        "title": {
         "text": "Distribution comparisson of Verification Status (Train vs Test)"
        },
        "xaxis": {
         "anchor": "y",
         "domain": [
          0,
          1
         ],
         "gridcolor": "lightgrey",
         "linecolor": "black",
         "linewidth": 1,
         "mirror": true,
         "showline": true,
         "title": {
          "text": "Verification Status"
         }
        },
        "yaxis": {
         "anchor": "x",
         "domain": [
          0,
          1
         ],
         "gridcolor": "lightgrey",
         "linecolor": "black",
         "linewidth": 1,
         "mirror": true,
         "showline": true,
         "title": {
          "text": "Relative Proportion"
         }
        }
       }
      }
     },
     "metadata": {},
     "output_type": "display_data"
    }
   ],
   "source": [
    "fig = utils_plot.plot_comparative_distribution_plotly(\n",
    "    df_train,\n",
    "    df_test,\n",
    "    column_name='verification_status_joint',\n",
    "    plot_type='bar', \n",
    "    bins=30,        \n",
    "    color_discrete_sequence=[  '#b4a7d6',  '#6c6480'],\n",
    "    title_suffix=\" - Verification Status (Train vs Test)\"\n",
    ")\n",
    "\n",
    "if fig:\n",
    "    \n",
    "    fig.update_layout(\n",
    "        xaxis_title=\"Verification Status\", \n",
    "        yaxis_title=\"Relative Proportion\",      \n",
    "        legend_title=\"Dataset\" ,     \n",
    "        title= 'Distribution comparisson of Verification Status (Train vs Test)'\n",
    "    )\n",
    "\n",
    "\n",
    "    fig.show()"
   ]
  },
  {
   "cell_type": "code",
   "execution_count": 20,
   "id": "944adf97",
   "metadata": {},
   "outputs": [],
   "source": [
    "\n",
    "\n",
    "variables_do_not_use_or_extreme_caution = {\n",
    "    # Unique identifiers\n",
    "    \"id\": \"Unique loan identifier\",  # PSI: 49.97\n",
    "    \"url\": \"URL of the loan page\",  # PSI: 49.97\n",
    "\n",
    "    # Free text with high cardinality\n",
    "    \"emp_title\": \"Job title of the borrower\",  # PSI: 9.04\n",
    "    \"desc\": \"Loan purpose description provided by the borrower\",  # PSI: 8.34\n",
    "    \"title\": \"Loan title provided by the borrower\",  # PSI: 1.71\n",
    "\n",
    "    # Variables with DATA LEAKAGE risk (post-origination information or consequence of default)\n",
    "    \"last_pymnt_d\": \"Date of the last payment received\",  # PSI: 3.78\n",
    "    \"out_prncp\": \"Remaining outstanding principal balance\",  # PSI: 2.05\n",
    "    \"out_prncp_inv\": \"Remaining outstanding principal balance (investor portion)\",  # PSI: 2.05\n",
    "    \"total_pymnt\": \"Total payments received to date for the funded amount\",  # PSI: 0.81\n",
    "    \"total_pymnt_inv\": \"Total payments received to date for the investor-funded portion\",  # PSI: 0.80\n",
    "    \"total_rec_prncp\": \"Principal received to date\",  # PSI: 0.81\n",
    "    \"total_rec_int\": \"Interest received to date\",  # PSI: 0.26\n",
    "    \"loan_status\": \"Current loan status (e.g., Fully Paid, Charged Off)\",  # PSI: 1.80 (If not target, it's leakage)\n",
    "\n",
    "    # Variables related to post-default settlements or financial hardship\n",
    "    \"settlement_date\": \"Date a debt settlement plan was agreed upon\",  # PSI: 1.84\n",
    "    \"debt_settlement_flag_date\": \"Date the debt settlement flag was activated\",  # PSI: 1.20\n",
    "    \"settlement_status\": \"Status of a debt settlement plan (e.g., COMPLETE, ACTIVE)\",  # PSI: 0.64\n",
    "    \"settlement_term\": \"Term (in months) of a debt settlement plan\",  # PSI: 0.37\n",
    "    \"hardship_start_date\": \"Start date of a hardship plan\",  # PSI: 0.97\n",
    "    \"payment_plan_start_date\": \"Start date of a payment plan (associated with hardship)\",  # PSI: 0.95\n",
    "    \"hardship_end_date\": \"End date of a hardship plan\",  # PSI: 0.90\n",
    "    \"hardship_payoff_balance_amount\": \"Payoff balance amount under a hardship plan\"  # PSI: 0.27\n",
    "}"
   ]
  },
  {
   "cell_type": "code",
   "execution_count": 21,
   "id": "de3f9182",
   "metadata": {},
   "outputs": [],
   "source": [
    "post_default_vars_psi = [\n",
    "    \"settlement_date\",\n",
    "    \"debt_settlement_flag_date\",\n",
    "    \"settlement_status\",\n",
    "    \"settlement_term\",\n",
    "    \"hardship_start_date\",\n",
    "    \"payment_plan_start_date\",\n",
    "    \"hardship_end_date\",\n",
    "    \"hardship_payoff_balance_amount\"\n",
    "]\n",
    "#-----------------------------------------------------------------------------------------------------------------------\n",
    "leakage_vars_psi = [\n",
    "    \"last_pymnt_d\",\n",
    "    \"out_prncp\",\n",
    "    \"out_prncp_inv\",\n",
    "    \"total_pymnt\",\n",
    "    \"total_pymnt_inv\",\n",
    "    \"total_rec_prncp\",\n",
    "    \"total_rec_int\",\n",
    "    \"loan_status\"\n",
    "]\n",
    "\n",
    "#------------------------------------------------------------------------------------------------------------------------\n",
    "features_to_drop_deep_psi = ['verification_status_joint', 'application_type', 'url',     \"last_pymnt_d\", \"settlement_date\",  \"last_credit_pull_d\", \n",
    "                             \"debt_settlement_flag_date\", \"hardship_start_date\", \"payment_plan_start_date\", \"hardship_end_date\"]"
   ]
  },
  {
   "cell_type": "code",
   "execution_count": 22,
   "id": "3240cbd8",
   "metadata": {},
   "outputs": [
    {
     "data": {
      "text/plain": [
       "41"
      ]
     },
     "execution_count": 22,
     "metadata": {},
     "output_type": "execute_result"
    }
   ],
   "source": [
    "len(list(variables_psi_is_nan.keys())+ features_to_drop_deep_psi+features_to_drop_deep_psi +leakage_vars_psi)"
   ]
  },
  {
   "cell_type": "markdown",
   "id": "cca5bd4d",
   "metadata": {},
   "source": [
    "# Feature distribution analysis"
   ]
  },
  {
   "cell_type": "code",
   "execution_count": 45,
   "id": "cfd9fc1b",
   "metadata": {},
   "outputs": [
    {
     "name": "stdout",
     "output_type": "stream",
     "text": [
      "Initial dimension of data model: (1348059, 120)\n",
      "  Converting 'issue_d'...\n",
      "  Converting 'earliest_cr_line'...\n"
     ]
    },
    {
     "name": "stderr",
     "output_type": "stream",
     "text": [
      "/var/folders/v4/7dg4p38j5c31bxdhb2vhmmb00000gp/T/ipykernel_73975/4191784565.py:24: UserWarning:\n",
      "\n",
      "Could not infer format, so each element will be parsed individually, falling back to `dateutil`. To ensure parsing is consistent and as-expected, please specify a format.\n",
      "\n",
      "/var/folders/v4/7dg4p38j5c31bxdhb2vhmmb00000gp/T/ipykernel_73975/4191784565.py:24: UserWarning:\n",
      "\n",
      "Could not infer format, so each element will be parsed individually, falling back to `dateutil`. To ensure parsing is consistent and as-expected, please specify a format.\n",
      "\n",
      "/var/folders/v4/7dg4p38j5c31bxdhb2vhmmb00000gp/T/ipykernel_73975/4191784565.py:24: UserWarning:\n",
      "\n",
      "Could not infer format, so each element will be parsed individually, falling back to `dateutil`. To ensure parsing is consistent and as-expected, please specify a format.\n",
      "\n"
     ]
    },
    {
     "name": "stdout",
     "output_type": "stream",
     "text": [
      "  Warning: Column 'last_pymnt_d' not found in df_model.\n",
      "  Converting 'next_pymnt_d'...\n",
      "  Warning: Column 'last_credit_pull_d' not found in df_model.\n",
      "  Warning: Column 'hardship_start_date' not found in df_model.\n",
      "  Warning: Column 'hardship_end_date' not found in df_model.\n",
      "  Warning: Column 'payment_plan_start_date' not found in df_model.\n",
      "  Warning: Column 'debt_settlement_flag_date' not found in df_model.\n",
      "  Warning: Column 'settlement_date' not found in df_model.\n",
      "  Converting 'd_vintage'...\n"
     ]
    }
   ],
   "source": [
    "df_model = df_target.drop(list(variables_psi_is_nan.keys())+ features_to_drop_deep_psi + post_default_vars_psi +leakage_vars_psi, axis=1)\n",
    "\n",
    "print('Initial dimension of data model:', df_model.shape)\n",
    "\n",
    "#Dates transformation\n",
    "\n",
    "date_features_refined = [\n",
    "    \"issue_d\",\n",
    "    \"earliest_cr_line\",\n",
    "    \"last_pymnt_d\",\n",
    "    \"next_pymnt_d\",\n",
    "    \"last_credit_pull_d\",\n",
    "    \"hardship_start_date\",\n",
    "    \"hardship_end_date\",\n",
    "    \"payment_plan_start_date\",\n",
    "    \"debt_settlement_flag_date\",\n",
    "    \"settlement_date\",\n",
    "    \"d_vintage\"\n",
    "]\n",
    "\n",
    "for col in date_features_refined:\n",
    "    if col in df_model.columns:\n",
    "        print(f\"  Converting '{col}'...\")\n",
    "        df_model[col] = pd.to_datetime(df_model[col], errors='coerce')\n",
    "    else:\n",
    "        print(f\"  Warning: Column '{col}' not found in df_model.\")\n"
   ]
  },
  {
   "cell_type": "markdown",
   "id": "435d80a2",
   "metadata": {},
   "source": [
    "### Null Values & Detecting constant features"
   ]
  },
  {
   "cell_type": "code",
   "execution_count": 46,
   "id": "3682ae26",
   "metadata": {},
   "outputs": [
    {
     "name": "stdout",
     "output_type": "stream",
     "text": [
      "Dimensiones del DataFrame: (1348059, 120)\n"
     ]
    }
   ],
   "source": [
    "print('Dimensiones del DataFrame:', df_model.shape)\n",
    "\n",
    "variable_quality_summary = eda_utils.assess_variable_quality(\n",
    "    df=df_model,\n",
    "    null_perc_threshold=95.0,  \n",
    "    constant_perc_threshold=85.0 \n",
    ")"
   ]
  },
  {
   "cell_type": "code",
   "execution_count": 47,
   "id": "d0c57a8a",
   "metadata": {},
   "outputs": [
    {
     "data": {
      "application/vnd.plotly.v1+json": {
       "config": {
        "plotlyServerURL": "https://plot.ly"
       },
       "data": [
        {
         "hovertemplate": "Feature=%{x}<br>%Features=%{y}<extra></extra>",
         "legendgroup": "",
         "marker": {
          "color": "#b4a7d6",
          "pattern": {
           "shape": ""
          }
         },
         "name": "",
         "orientation": "v",
         "showlegend": false,
         "textposition": "auto",
         "type": "bar",
         "x": [
          "Keep",
          "Review: Constant-Like",
          "Review: High Nulls",
          "Remove: Constant (Single Value)",
          "Remove: High Nulls & Constant-Like"
         ],
         "xaxis": "x",
         "y": {
          "bdata": "VVVVVVVVUkBVVVVVVVUnQAAAAAAAACRAAAAAAAAABEAAAAAAAAAEQA==",
          "dtype": "f8"
         },
         "yaxis": "y"
        }
       ],
       "layout": {
        "barmode": "group",
        "height": 500,
        "legend": {
         "tracegroupgap": 0
        },
        "margin": {
         "t": 60
        },
        "plot_bgcolor": "white",
        "template": {
         "data": {
          "bar": [
           {
            "error_x": {
             "color": "#2a3f5f"
            },
            "error_y": {
             "color": "#2a3f5f"
            },
            "marker": {
             "line": {
              "color": "#E5ECF6",
              "width": 0.5
             },
             "pattern": {
              "fillmode": "overlay",
              "size": 10,
              "solidity": 0.2
             }
            },
            "type": "bar"
           }
          ],
          "barpolar": [
           {
            "marker": {
             "line": {
              "color": "#E5ECF6",
              "width": 0.5
             },
             "pattern": {
              "fillmode": "overlay",
              "size": 10,
              "solidity": 0.2
             }
            },
            "type": "barpolar"
           }
          ],
          "carpet": [
           {
            "aaxis": {
             "endlinecolor": "#2a3f5f",
             "gridcolor": "white",
             "linecolor": "white",
             "minorgridcolor": "white",
             "startlinecolor": "#2a3f5f"
            },
            "baxis": {
             "endlinecolor": "#2a3f5f",
             "gridcolor": "white",
             "linecolor": "white",
             "minorgridcolor": "white",
             "startlinecolor": "#2a3f5f"
            },
            "type": "carpet"
           }
          ],
          "choropleth": [
           {
            "colorbar": {
             "outlinewidth": 0,
             "ticks": ""
            },
            "type": "choropleth"
           }
          ],
          "contour": [
           {
            "colorbar": {
             "outlinewidth": 0,
             "ticks": ""
            },
            "colorscale": [
             [
              0,
              "#0d0887"
             ],
             [
              0.1111111111111111,
              "#46039f"
             ],
             [
              0.2222222222222222,
              "#7201a8"
             ],
             [
              0.3333333333333333,
              "#9c179e"
             ],
             [
              0.4444444444444444,
              "#bd3786"
             ],
             [
              0.5555555555555556,
              "#d8576b"
             ],
             [
              0.6666666666666666,
              "#ed7953"
             ],
             [
              0.7777777777777778,
              "#fb9f3a"
             ],
             [
              0.8888888888888888,
              "#fdca26"
             ],
             [
              1,
              "#f0f921"
             ]
            ],
            "type": "contour"
           }
          ],
          "contourcarpet": [
           {
            "colorbar": {
             "outlinewidth": 0,
             "ticks": ""
            },
            "type": "contourcarpet"
           }
          ],
          "heatmap": [
           {
            "colorbar": {
             "outlinewidth": 0,
             "ticks": ""
            },
            "colorscale": [
             [
              0,
              "#0d0887"
             ],
             [
              0.1111111111111111,
              "#46039f"
             ],
             [
              0.2222222222222222,
              "#7201a8"
             ],
             [
              0.3333333333333333,
              "#9c179e"
             ],
             [
              0.4444444444444444,
              "#bd3786"
             ],
             [
              0.5555555555555556,
              "#d8576b"
             ],
             [
              0.6666666666666666,
              "#ed7953"
             ],
             [
              0.7777777777777778,
              "#fb9f3a"
             ],
             [
              0.8888888888888888,
              "#fdca26"
             ],
             [
              1,
              "#f0f921"
             ]
            ],
            "type": "heatmap"
           }
          ],
          "histogram": [
           {
            "marker": {
             "pattern": {
              "fillmode": "overlay",
              "size": 10,
              "solidity": 0.2
             }
            },
            "type": "histogram"
           }
          ],
          "histogram2d": [
           {
            "colorbar": {
             "outlinewidth": 0,
             "ticks": ""
            },
            "colorscale": [
             [
              0,
              "#0d0887"
             ],
             [
              0.1111111111111111,
              "#46039f"
             ],
             [
              0.2222222222222222,
              "#7201a8"
             ],
             [
              0.3333333333333333,
              "#9c179e"
             ],
             [
              0.4444444444444444,
              "#bd3786"
             ],
             [
              0.5555555555555556,
              "#d8576b"
             ],
             [
              0.6666666666666666,
              "#ed7953"
             ],
             [
              0.7777777777777778,
              "#fb9f3a"
             ],
             [
              0.8888888888888888,
              "#fdca26"
             ],
             [
              1,
              "#f0f921"
             ]
            ],
            "type": "histogram2d"
           }
          ],
          "histogram2dcontour": [
           {
            "colorbar": {
             "outlinewidth": 0,
             "ticks": ""
            },
            "colorscale": [
             [
              0,
              "#0d0887"
             ],
             [
              0.1111111111111111,
              "#46039f"
             ],
             [
              0.2222222222222222,
              "#7201a8"
             ],
             [
              0.3333333333333333,
              "#9c179e"
             ],
             [
              0.4444444444444444,
              "#bd3786"
             ],
             [
              0.5555555555555556,
              "#d8576b"
             ],
             [
              0.6666666666666666,
              "#ed7953"
             ],
             [
              0.7777777777777778,
              "#fb9f3a"
             ],
             [
              0.8888888888888888,
              "#fdca26"
             ],
             [
              1,
              "#f0f921"
             ]
            ],
            "type": "histogram2dcontour"
           }
          ],
          "mesh3d": [
           {
            "colorbar": {
             "outlinewidth": 0,
             "ticks": ""
            },
            "type": "mesh3d"
           }
          ],
          "parcoords": [
           {
            "line": {
             "colorbar": {
              "outlinewidth": 0,
              "ticks": ""
             }
            },
            "type": "parcoords"
           }
          ],
          "pie": [
           {
            "automargin": true,
            "type": "pie"
           }
          ],
          "scatter": [
           {
            "fillpattern": {
             "fillmode": "overlay",
             "size": 10,
             "solidity": 0.2
            },
            "type": "scatter"
           }
          ],
          "scatter3d": [
           {
            "line": {
             "colorbar": {
              "outlinewidth": 0,
              "ticks": ""
             }
            },
            "marker": {
             "colorbar": {
              "outlinewidth": 0,
              "ticks": ""
             }
            },
            "type": "scatter3d"
           }
          ],
          "scattercarpet": [
           {
            "marker": {
             "colorbar": {
              "outlinewidth": 0,
              "ticks": ""
             }
            },
            "type": "scattercarpet"
           }
          ],
          "scattergeo": [
           {
            "marker": {
             "colorbar": {
              "outlinewidth": 0,
              "ticks": ""
             }
            },
            "type": "scattergeo"
           }
          ],
          "scattergl": [
           {
            "marker": {
             "colorbar": {
              "outlinewidth": 0,
              "ticks": ""
             }
            },
            "type": "scattergl"
           }
          ],
          "scattermap": [
           {
            "marker": {
             "colorbar": {
              "outlinewidth": 0,
              "ticks": ""
             }
            },
            "type": "scattermap"
           }
          ],
          "scattermapbox": [
           {
            "marker": {
             "colorbar": {
              "outlinewidth": 0,
              "ticks": ""
             }
            },
            "type": "scattermapbox"
           }
          ],
          "scatterpolar": [
           {
            "marker": {
             "colorbar": {
              "outlinewidth": 0,
              "ticks": ""
             }
            },
            "type": "scatterpolar"
           }
          ],
          "scatterpolargl": [
           {
            "marker": {
             "colorbar": {
              "outlinewidth": 0,
              "ticks": ""
             }
            },
            "type": "scatterpolargl"
           }
          ],
          "scatterternary": [
           {
            "marker": {
             "colorbar": {
              "outlinewidth": 0,
              "ticks": ""
             }
            },
            "type": "scatterternary"
           }
          ],
          "surface": [
           {
            "colorbar": {
             "outlinewidth": 0,
             "ticks": ""
            },
            "colorscale": [
             [
              0,
              "#0d0887"
             ],
             [
              0.1111111111111111,
              "#46039f"
             ],
             [
              0.2222222222222222,
              "#7201a8"
             ],
             [
              0.3333333333333333,
              "#9c179e"
             ],
             [
              0.4444444444444444,
              "#bd3786"
             ],
             [
              0.5555555555555556,
              "#d8576b"
             ],
             [
              0.6666666666666666,
              "#ed7953"
             ],
             [
              0.7777777777777778,
              "#fb9f3a"
             ],
             [
              0.8888888888888888,
              "#fdca26"
             ],
             [
              1,
              "#f0f921"
             ]
            ],
            "type": "surface"
           }
          ],
          "table": [
           {
            "cells": {
             "fill": {
              "color": "#EBF0F8"
             },
             "line": {
              "color": "white"
             }
            },
            "header": {
             "fill": {
              "color": "#C8D4E3"
             },
             "line": {
              "color": "white"
             }
            },
            "type": "table"
           }
          ]
         },
         "layout": {
          "annotationdefaults": {
           "arrowcolor": "#2a3f5f",
           "arrowhead": 0,
           "arrowwidth": 1
          },
          "autotypenumbers": "strict",
          "coloraxis": {
           "colorbar": {
            "outlinewidth": 0,
            "ticks": ""
           }
          },
          "colorscale": {
           "diverging": [
            [
             0,
             "#8e0152"
            ],
            [
             0.1,
             "#c51b7d"
            ],
            [
             0.2,
             "#de77ae"
            ],
            [
             0.3,
             "#f1b6da"
            ],
            [
             0.4,
             "#fde0ef"
            ],
            [
             0.5,
             "#f7f7f7"
            ],
            [
             0.6,
             "#e6f5d0"
            ],
            [
             0.7,
             "#b8e186"
            ],
            [
             0.8,
             "#7fbc41"
            ],
            [
             0.9,
             "#4d9221"
            ],
            [
             1,
             "#276419"
            ]
           ],
           "sequential": [
            [
             0,
             "#0d0887"
            ],
            [
             0.1111111111111111,
             "#46039f"
            ],
            [
             0.2222222222222222,
             "#7201a8"
            ],
            [
             0.3333333333333333,
             "#9c179e"
            ],
            [
             0.4444444444444444,
             "#bd3786"
            ],
            [
             0.5555555555555556,
             "#d8576b"
            ],
            [
             0.6666666666666666,
             "#ed7953"
            ],
            [
             0.7777777777777778,
             "#fb9f3a"
            ],
            [
             0.8888888888888888,
             "#fdca26"
            ],
            [
             1,
             "#f0f921"
            ]
           ],
           "sequentialminus": [
            [
             0,
             "#0d0887"
            ],
            [
             0.1111111111111111,
             "#46039f"
            ],
            [
             0.2222222222222222,
             "#7201a8"
            ],
            [
             0.3333333333333333,
             "#9c179e"
            ],
            [
             0.4444444444444444,
             "#bd3786"
            ],
            [
             0.5555555555555556,
             "#d8576b"
            ],
            [
             0.6666666666666666,
             "#ed7953"
            ],
            [
             0.7777777777777778,
             "#fb9f3a"
            ],
            [
             0.8888888888888888,
             "#fdca26"
            ],
            [
             1,
             "#f0f921"
            ]
           ]
          },
          "colorway": [
           "#636efa",
           "#EF553B",
           "#00cc96",
           "#ab63fa",
           "#FFA15A",
           "#19d3f3",
           "#FF6692",
           "#B6E880",
           "#FF97FF",
           "#FECB52"
          ],
          "font": {
           "color": "#2a3f5f"
          },
          "geo": {
           "bgcolor": "white",
           "lakecolor": "white",
           "landcolor": "#E5ECF6",
           "showlakes": true,
           "showland": true,
           "subunitcolor": "white"
          },
          "hoverlabel": {
           "align": "left"
          },
          "hovermode": "closest",
          "mapbox": {
           "style": "light"
          },
          "paper_bgcolor": "white",
          "plot_bgcolor": "#E5ECF6",
          "polar": {
           "angularaxis": {
            "gridcolor": "white",
            "linecolor": "white",
            "ticks": ""
           },
           "bgcolor": "#E5ECF6",
           "radialaxis": {
            "gridcolor": "white",
            "linecolor": "white",
            "ticks": ""
           }
          },
          "scene": {
           "xaxis": {
            "backgroundcolor": "#E5ECF6",
            "gridcolor": "white",
            "gridwidth": 2,
            "linecolor": "white",
            "showbackground": true,
            "ticks": "",
            "zerolinecolor": "white"
           },
           "yaxis": {
            "backgroundcolor": "#E5ECF6",
            "gridcolor": "white",
            "gridwidth": 2,
            "linecolor": "white",
            "showbackground": true,
            "ticks": "",
            "zerolinecolor": "white"
           },
           "zaxis": {
            "backgroundcolor": "#E5ECF6",
            "gridcolor": "white",
            "gridwidth": 2,
            "linecolor": "white",
            "showbackground": true,
            "ticks": "",
            "zerolinecolor": "white"
           }
          },
          "shapedefaults": {
           "line": {
            "color": "#2a3f5f"
           }
          },
          "ternary": {
           "aaxis": {
            "gridcolor": "white",
            "linecolor": "white",
            "ticks": ""
           },
           "baxis": {
            "gridcolor": "white",
            "linecolor": "white",
            "ticks": ""
           },
           "bgcolor": "#E5ECF6",
           "caxis": {
            "gridcolor": "white",
            "linecolor": "white",
            "ticks": ""
           }
          },
          "title": {
           "x": 0.05
          },
          "xaxis": {
           "automargin": true,
           "gridcolor": "white",
           "linecolor": "white",
           "ticks": "",
           "title": {
            "standoff": 15
           },
           "zerolinecolor": "white",
           "zerolinewidth": 2
          },
          "yaxis": {
           "automargin": true,
           "gridcolor": "white",
           "linecolor": "white",
           "ticks": "",
           "title": {
            "standoff": 15
           },
           "zerolinecolor": "white",
           "zerolinewidth": 2
          }
         }
        },
        "title": {
         "font": {
          "color": "black",
          "family": "Arial",
          "size": 19
         },
         "text": "Distribution of features by recommendation from Null values and Variability analysis"
        },
        "width": 1200,
        "xaxis": {
         "anchor": "y",
         "categoryorder": "array",
         "domain": [
          0,
          1
         ],
         "gridcolor": "lightgray",
         "tickfont": {
          "color": "black",
          "family": "Arial",
          "size": 12
         },
         "title": {
          "font": {
           "color": "black",
           "family": "Arial",
           "size": 19
          },
          "standoff": 28,
          "text": "Feature"
         }
        },
        "yaxis": {
         "anchor": "x",
         "domain": [
          0,
          1
         ],
         "gridcolor": "lightgray",
         "tickfont": {
          "color": "black",
          "family": "Arial",
          "size": 14
         },
         "title": {
          "font": {
           "color": "black",
           "family": "Arial",
           "size": 19
          },
          "text": "%Features"
         }
        }
       }
      }
     },
     "metadata": {},
     "output_type": "display_data"
    }
   ],
   "source": [
    "df_group = variable_quality_summary.groupby('Recommendation').agg({'Variable':'count'}).reset_index()\n",
    "\n",
    "df_group['pct_features'] = (df_group['Variable'] / df_group['Variable'].sum()) * 100\n",
    "\n",
    "utils_plot.plot_chart(\n",
    "    df= df_group.sort_values(by='pct_features', ascending=False), \n",
    "    chart_type=\"bar\",\n",
    "    x_col=\"Recommendation\",\n",
    "    y_col=\"pct_features\",\n",
    "    text_col=\"\",\n",
    "    color_sequence= [  '#b4a7d6', ],\n",
    "    text_as_percentage=True,\n",
    "    text_position=\"top center\",\n",
    "    x_label='Feature',\n",
    "    y_label='%Features',\n",
    "    title=\"Distribution of features by recommendation from Null values and Variability analysis\",\n",
    "    width=1200,\n",
    "    height=500,\n",
    ")"
   ]
  },
  {
   "cell_type": "markdown",
   "id": "aca32641",
   "metadata": {},
   "source": [
    "### Removing problematic features"
   ]
  },
  {
   "cell_type": "code",
   "execution_count": 48,
   "id": "1fa10cd7",
   "metadata": {},
   "outputs": [
    {
     "name": "stdout",
     "output_type": "stream",
     "text": [
      "Number of variables to remove: 32\n",
      "New dimension of dataset (1348059, 88)\n"
     ]
    }
   ],
   "source": [
    "remove_high_nulls_constant_like = list(variable_quality_summary[variable_quality_summary['Recommendation']=='Remove: High Nulls & Constant-Like']['Variable'].values)\n",
    "\n",
    "remove_constant_like = list(variable_quality_summary[variable_quality_summary['Recommendation']=='Remove: Constant (Single Value)']['Variable'].values)\n",
    "\n",
    "remove_high_nulls = list(variable_quality_summary[variable_quality_summary['Recommendation']=='Review: High Nulls']['Variable'].values)\n",
    "\n",
    "remove_constant_like_prob = list(variable_quality_summary[variable_quality_summary['Recommendation']=='Review: Constant-Like']['Variable'].values)\n",
    "\n",
    "remove_total = list(np.unique(np.array(remove_high_nulls_constant_like + remove_constant_like + remove_high_nulls + remove_constant_like_prob)))\n",
    "\n",
    "print('Number of variables to remove:', len(remove_total))\n",
    "\n",
    "\n",
    "df_model = df_model.drop(remove_total, axis=1)\n",
    "\n",
    "print('New dimension of dataset',df_model.shape)\n"
   ]
  },
  {
   "cell_type": "markdown",
   "id": "9a5afc54",
   "metadata": {},
   "source": [
    "#### Null analysis across the time "
   ]
  },
  {
   "cell_type": "code",
   "execution_count": 49,
   "id": "b1d78358",
   "metadata": {},
   "outputs": [
    {
     "name": "stdout",
     "output_type": "stream",
     "text": [
      "Advertencia: La columna de agrupación 'd_vintage' no debe estar en `analyze_cols` y será omitida.\n"
     ]
    }
   ],
   "source": [
    "vintage_null_alerts_df = eda_utils.generate_null_alerts_by_vintage(\n",
    "        df=df_model,\n",
    "        group_col='d_vintage',\n",
    "        analyze_cols=df_model.columns,\n",
    "        high_null_perc_threshold=90,\n",
    "        min_increase_perc_threshold=15\n",
    "    )"
   ]
  },
  {
   "cell_type": "code",
   "execution_count": 50,
   "id": "bdd99652",
   "metadata": {},
   "outputs": [
    {
     "name": "stdout",
     "output_type": "stream",
     "text": [
      "Number of problematic features 50\n"
     ]
    }
   ],
   "source": [
    "print('Number of problematic features', len(vintage_null_alerts_df[vintage_null_alerts_df['Alert_Type']=='High Null Percentage']['Variable'].value_counts()))"
   ]
  },
  {
   "cell_type": "code",
   "execution_count": null,
   "id": "416b2c8b",
   "metadata": {},
   "outputs": [
    {
     "data": {
      "text/plain": [
       "array(['desc', 'mths_since_last_record', 'mths_since_last_major_derog',\n",
       "       'tot_coll_amt', 'tot_cur_bal', 'open_acc_6m', 'open_act_il',\n",
       "       'open_il_12m', 'open_il_24m', 'mths_since_rcnt_il', 'total_bal_il',\n",
       "       'il_util', 'open_rv_12m', 'open_rv_24m', 'max_bal_bc', 'all_util',\n",
       "       'total_rev_hi_lim', 'inq_fi', 'total_cu_tl', 'inq_last_12m',\n",
       "       'acc_open_past_24mths', 'avg_cur_bal', 'bc_open_to_buy', 'bc_util',\n",
       "       'mo_sin_old_il_acct', 'mo_sin_old_rev_tl_op',\n",
       "       'mo_sin_rcnt_rev_tl_op', 'mo_sin_rcnt_tl', 'mort_acc',\n",
       "       'mths_since_recent_bc', 'mths_since_recent_bc_dlq',\n",
       "       'mths_since_recent_inq', 'mths_since_recent_revol_delinq',\n",
       "       'num_accts_ever_120_pd', 'num_actv_bc_tl', 'num_actv_rev_tl',\n",
       "       'num_bc_sats', 'num_bc_tl', 'num_il_tl', 'num_op_rev_tl',\n",
       "       'num_rev_accts', 'num_rev_tl_bal_gt_0', 'num_sats',\n",
       "       'num_tl_op_past_12m', 'pct_tl_nvr_dlq', 'percent_bc_gt_75',\n",
       "       'tot_hi_cred_lim', 'total_bal_ex_mort', 'total_bc_limit',\n",
       "       'total_il_high_credit_limit'], dtype=object)"
      ]
     },
     "execution_count": 42,
     "metadata": {},
     "output_type": "execute_result"
    }
   ],
   "source": []
  },
  {
   "cell_type": "code",
   "execution_count": 51,
   "id": "819b1b1d",
   "metadata": {},
   "outputs": [
    {
     "name": "stdout",
     "output_type": "stream",
     "text": [
      "--- 1. Porcentaje de Nulos Global ---\n",
      "desc                              90.656566\n",
      "mths_since_last_record            82.981828\n",
      "mths_since_recent_bc_dlq          76.334864\n",
      "mths_since_last_major_derog       73.758567\n",
      "mths_since_recent_revol_delinq    66.621491\n",
      "il_util                           65.504774\n",
      "mths_since_rcnt_il                61.175141\n",
      "all_util                          60.124520\n",
      "inq_last_12m                      60.120662\n",
      "open_acc_6m                       60.120662\n",
      "total_cu_tl                       60.120662\n",
      "max_bal_bc                        60.120588\n",
      "inq_fi                            60.120588\n",
      "open_rv_12m                       60.120588\n",
      "open_rv_24m                       60.120588\n",
      "total_bal_il                      60.120588\n",
      "open_il_24m                       60.120588\n",
      "open_il_12m                       60.120588\n",
      "open_act_il                       60.120588\n",
      "mths_since_recent_inq             13.116637\n",
      "mo_sin_old_il_acct                 8.035553\n",
      "pct_tl_nvr_dlq                     5.224549\n",
      "avg_cur_bal                        5.214757\n",
      "num_rev_accts                      5.213199\n",
      "mo_sin_rcnt_rev_tl_op              5.213199\n",
      "mo_sin_old_rev_tl_op               5.213199\n",
      "num_il_tl                          5.213125\n",
      "num_bc_tl                          5.213125\n",
      "tot_hi_cred_lim                    5.213125\n",
      "tot_coll_amt                       5.213125\n",
      "num_tl_op_past_12m                 5.213125\n",
      "num_rev_tl_bal_gt_0                5.213125\n",
      "tot_cur_bal                        5.213125\n",
      "num_op_rev_tl                      5.213125\n",
      "mo_sin_rcnt_tl                     5.213125\n",
      "total_il_high_credit_limit         5.213125\n",
      "num_actv_rev_tl                    5.213125\n",
      "num_actv_bc_tl                     5.213125\n",
      "num_accts_ever_120_pd              5.213125\n",
      "total_rev_hi_lim                   5.213125\n",
      "bc_util                            4.796600\n",
      "percent_bc_gt_75                   4.770118\n",
      "bc_open_to_buy                     4.739555\n",
      "mths_since_recent_bc               4.671161\n",
      "num_bc_sats                        4.346249\n",
      "num_sats                           4.346249\n",
      "acc_open_past_24mths               3.711262\n",
      "mort_acc                           3.711262\n",
      "total_bal_ex_mort                  3.711262\n",
      "total_bc_limit                     3.711262\n",
      "dtype: float64\n",
      "\n",
      "--- 2. Distribución de Nulos por Vintage (Análisis y Gráficos) ---\n",
      "Mostrando gráficos de nulos por vintage para el Top 5 de variables con más nulos...\n"
     ]
    },
    {
     "data": {
      "application/vnd.plotly.v1+json": {
       "config": {
        "plotlyServerURL": "https://plot.ly"
       },
       "data": [
        {
         "hovertemplate": "Vintage=%{x}<br>Null Percentage (%)=%{y}<extra></extra>",
         "legendgroup": "",
         "line": {
          "color": "#C9C0E0",
          "dash": "solid"
         },
         "marker": {
          "symbol": "circle"
         },
         "mode": "lines+markers",
         "name": "",
         "orientation": "v",
         "showlegend": false,
         "type": "scatter",
         "x": [
          "2007-06-01T00:00:00.000000000",
          "2007-07-01T00:00:00.000000000",
          "2007-08-01T00:00:00.000000000",
          "2007-09-01T00:00:00.000000000",
          "2007-10-01T00:00:00.000000000",
          "2007-11-01T00:00:00.000000000",
          "2007-12-01T00:00:00.000000000",
          "2008-01-01T00:00:00.000000000",
          "2008-02-01T00:00:00.000000000",
          "2008-03-01T00:00:00.000000000",
          "2008-04-01T00:00:00.000000000",
          "2008-05-01T00:00:00.000000000",
          "2008-06-01T00:00:00.000000000",
          "2008-07-01T00:00:00.000000000",
          "2008-08-01T00:00:00.000000000",
          "2008-09-01T00:00:00.000000000",
          "2008-10-01T00:00:00.000000000",
          "2008-11-01T00:00:00.000000000",
          "2008-12-01T00:00:00.000000000",
          "2009-01-01T00:00:00.000000000",
          "2009-02-01T00:00:00.000000000",
          "2009-03-01T00:00:00.000000000",
          "2009-04-01T00:00:00.000000000",
          "2009-05-01T00:00:00.000000000",
          "2009-06-01T00:00:00.000000000",
          "2009-07-01T00:00:00.000000000",
          "2009-08-01T00:00:00.000000000",
          "2009-09-01T00:00:00.000000000",
          "2009-10-01T00:00:00.000000000",
          "2009-11-01T00:00:00.000000000",
          "2009-12-01T00:00:00.000000000",
          "2010-01-01T00:00:00.000000000",
          "2010-02-01T00:00:00.000000000",
          "2010-03-01T00:00:00.000000000",
          "2010-04-01T00:00:00.000000000",
          "2010-05-01T00:00:00.000000000",
          "2010-06-01T00:00:00.000000000",
          "2010-07-01T00:00:00.000000000",
          "2010-08-01T00:00:00.000000000",
          "2010-09-01T00:00:00.000000000",
          "2010-10-01T00:00:00.000000000",
          "2010-11-01T00:00:00.000000000",
          "2010-12-01T00:00:00.000000000",
          "2011-01-01T00:00:00.000000000",
          "2011-02-01T00:00:00.000000000",
          "2011-03-01T00:00:00.000000000",
          "2011-04-01T00:00:00.000000000",
          "2011-05-01T00:00:00.000000000",
          "2011-06-01T00:00:00.000000000",
          "2011-07-01T00:00:00.000000000",
          "2011-08-01T00:00:00.000000000",
          "2011-09-01T00:00:00.000000000",
          "2011-10-01T00:00:00.000000000",
          "2011-11-01T00:00:00.000000000",
          "2011-12-01T00:00:00.000000000",
          "2012-01-01T00:00:00.000000000",
          "2012-02-01T00:00:00.000000000",
          "2012-03-01T00:00:00.000000000",
          "2012-04-01T00:00:00.000000000",
          "2012-05-01T00:00:00.000000000",
          "2012-06-01T00:00:00.000000000",
          "2012-07-01T00:00:00.000000000",
          "2012-08-01T00:00:00.000000000",
          "2012-09-01T00:00:00.000000000",
          "2012-10-01T00:00:00.000000000",
          "2012-11-01T00:00:00.000000000",
          "2012-12-01T00:00:00.000000000",
          "2013-01-01T00:00:00.000000000",
          "2013-02-01T00:00:00.000000000",
          "2013-03-01T00:00:00.000000000",
          "2013-04-01T00:00:00.000000000",
          "2013-05-01T00:00:00.000000000",
          "2013-06-01T00:00:00.000000000",
          "2013-07-01T00:00:00.000000000",
          "2013-08-01T00:00:00.000000000",
          "2013-09-01T00:00:00.000000000",
          "2013-10-01T00:00:00.000000000",
          "2013-11-01T00:00:00.000000000",
          "2013-12-01T00:00:00.000000000",
          "2014-01-01T00:00:00.000000000",
          "2014-02-01T00:00:00.000000000",
          "2014-03-01T00:00:00.000000000",
          "2014-04-01T00:00:00.000000000",
          "2014-05-01T00:00:00.000000000",
          "2014-06-01T00:00:00.000000000",
          "2014-07-01T00:00:00.000000000",
          "2014-08-01T00:00:00.000000000",
          "2014-09-01T00:00:00.000000000",
          "2014-10-01T00:00:00.000000000",
          "2014-11-01T00:00:00.000000000",
          "2014-12-01T00:00:00.000000000",
          "2015-01-01T00:00:00.000000000",
          "2015-02-01T00:00:00.000000000",
          "2015-03-01T00:00:00.000000000",
          "2015-04-01T00:00:00.000000000",
          "2015-05-01T00:00:00.000000000",
          "2015-06-01T00:00:00.000000000",
          "2015-07-01T00:00:00.000000000",
          "2015-08-01T00:00:00.000000000",
          "2015-09-01T00:00:00.000000000",
          "2015-10-01T00:00:00.000000000",
          "2015-11-01T00:00:00.000000000",
          "2015-12-01T00:00:00.000000000",
          "2016-01-01T00:00:00.000000000",
          "2016-02-01T00:00:00.000000000",
          "2016-03-01T00:00:00.000000000",
          "2016-04-01T00:00:00.000000000",
          "2016-05-01T00:00:00.000000000",
          "2016-06-01T00:00:00.000000000",
          "2016-07-01T00:00:00.000000000",
          "2016-08-01T00:00:00.000000000",
          "2016-09-01T00:00:00.000000000",
          "2016-10-01T00:00:00.000000000",
          "2016-11-01T00:00:00.000000000",
          "2016-12-01T00:00:00.000000000",
          "2017-01-01T00:00:00.000000000",
          "2017-02-01T00:00:00.000000000",
          "2017-03-01T00:00:00.000000000",
          "2017-04-01T00:00:00.000000000",
          "2017-05-01T00:00:00.000000000",
          "2017-06-01T00:00:00.000000000",
          "2017-07-01T00:00:00.000000000",
          "2017-08-01T00:00:00.000000000",
          "2017-09-01T00:00:00.000000000",
          "2017-10-01T00:00:00.000000000",
          "2017-11-01T00:00:00.000000000",
          "2017-12-01T00:00:00.000000000",
          "2018-01-01T00:00:00.000000000",
          "2018-02-01T00:00:00.000000000",
          "2018-03-01T00:00:00.000000000",
          "2018-04-01T00:00:00.000000000",
          "2018-05-01T00:00:00.000000000",
          "2018-06-01T00:00:00.000000000",
          "2018-07-01T00:00:00.000000000",
          "2018-08-01T00:00:00.000000000",
          "2018-09-01T00:00:00.000000000",
          "2018-10-01T00:00:00.000000000",
          "2018-11-01T00:00:00.000000000",
          "2018-12-01T00:00:00.000000000"
         ],
         "xaxis": "x",
         "y": {
          "bdata": "qqqqqqqqIEDv+77v+74vQHaDKfJZNxBAAAAAAAAAAAAAAAAAAAAAAAAAAAAAAAAAAAAAAAAAAAAAAAAAAAAAAAAAAAAAAAAAAAAAAAAAAAAAAAAAAAAAAAAAAAAAAAAAAAAAAAAAAAAAAAAAAAAAAAAAAAAAAAAAAAAAAAAAAAAAAAAAAAAAAAAAAAAAAAAAAAAAAAAAAAAyN17RtMrXPwAAAAAAAAAAAAAAAAAAAAAAAAAAAAAAAIxkFc7J09E/AAAAAAAAAAAAAAAAAAAAAJnlyM8Vs9w/AAAAAAAAAADK3+Rv8jcBQASu/SiBax9AJlDRWzoNK0Ahwu8eiPAjQPfbb7/99i9ADSrCLTUbPUBAgvsI7iM/QOIDJaVqtDtAwjibwjibQEAZqhhPD+ZBQMTkCmJyBUVAQURH0STxREC+Y2pg7zhCQKlT/qhT/kBAKZ9OyqeTQkD4GSV+RglEQImEMB2GTENACFJuKppnQkAW1XFrUI9JQAwey3u1xUVACp+kLECcQkB4d3d3d3dFQDK3VECLfkBAgslnnht7QkBMgldyLexGQES6k/mQbkdABit5HWEsRUBPNjwWE+NFQAAAAAAAeERAj2UeQyJNR0CcqY7EWDBHQDw8PDw8PEdA5LUo+XV5QUCBNQPiKSk8QJs3tQxZaT5AR7/kN7nUQEAff3b7yE1DQLyh4HDHhkRA6VRiKy6lRUAMNUrFXqZGQKOw592270RAm5P+zU/dSkD5u3SLP9pOQEMWspCFLFBA1Kz2XhePUUAko882F0xPQM04AglhnlBA2oq0m5+tUEA2PhmhmkVRQKc3velN21FA5UGqQGxFUUAFos3/+UhQQFVKLaaKsU9Aurou+relUkDX5J1ycu9YQAAAAAAAAFlAAAAAAAAAWUAnEAKGxP9YQOeKdpej/1hAAAAAAAAAWUDfJWmU0v9YQCr2eUNx/1hA4i8YLaL+WEAEGxXczv5YQJQ7jmDR/lhAABUdwZr+WEDISkMVMP5YQBy1GItw/lhAY/DXnL//WEAAAAAAAABZQKhUWaKY/1hAAAAAAAAAWUCfuaDi2f9YQJPC0dk4/1hAgg3H+YH/WEBUgsNNxv9YQD22JvBx/1hABKbhmVj/WEAyFyMHvP9YQIu23I/w/lhA6m3j+rD/WEAChsOUtP9YQBUY8cds/1hAvM3XGp//WEAAAAAAAABZQAAAAAAAAFlAAAAAAAAAWUAAAAAAAABZQAAAAAAAAFlAAAAAAAAAWUAAAAAAAABZQAAAAAAAAFlAAAAAAAAAWUAAAAAAAABZQAAAAAAAAFlAAAAAAAAAWUAAAAAAAABZQAAAAAAAAFlAAAAAAAAAWUAAAAAAAABZQAAAAAAAAFlAAAAAAAAAWUAAAAAAAABZQAAAAAAAAFlAAAAAAAAAWUAAAAAAAABZQAAAAAAAAFlAAAAAAAAAWUAAAAAAAABZQAAAAAAAAFlAAAAAAAAAWUA=",
          "dtype": "f8"
         },
         "yaxis": "y"
        }
       ],
       "layout": {
        "legend": {
         "tracegroupgap": 0
        },
        "template": {
         "data": {
          "bar": [
           {
            "error_x": {
             "color": "#2a3f5f"
            },
            "error_y": {
             "color": "#2a3f5f"
            },
            "marker": {
             "line": {
              "color": "white",
              "width": 0.5
             },
             "pattern": {
              "fillmode": "overlay",
              "size": 10,
              "solidity": 0.2
             }
            },
            "type": "bar"
           }
          ],
          "barpolar": [
           {
            "marker": {
             "line": {
              "color": "white",
              "width": 0.5
             },
             "pattern": {
              "fillmode": "overlay",
              "size": 10,
              "solidity": 0.2
             }
            },
            "type": "barpolar"
           }
          ],
          "carpet": [
           {
            "aaxis": {
             "endlinecolor": "#2a3f5f",
             "gridcolor": "#C8D4E3",
             "linecolor": "#C8D4E3",
             "minorgridcolor": "#C8D4E3",
             "startlinecolor": "#2a3f5f"
            },
            "baxis": {
             "endlinecolor": "#2a3f5f",
             "gridcolor": "#C8D4E3",
             "linecolor": "#C8D4E3",
             "minorgridcolor": "#C8D4E3",
             "startlinecolor": "#2a3f5f"
            },
            "type": "carpet"
           }
          ],
          "choropleth": [
           {
            "colorbar": {
             "outlinewidth": 0,
             "ticks": ""
            },
            "type": "choropleth"
           }
          ],
          "contour": [
           {
            "colorbar": {
             "outlinewidth": 0,
             "ticks": ""
            },
            "colorscale": [
             [
              0,
              "#0d0887"
             ],
             [
              0.1111111111111111,
              "#46039f"
             ],
             [
              0.2222222222222222,
              "#7201a8"
             ],
             [
              0.3333333333333333,
              "#9c179e"
             ],
             [
              0.4444444444444444,
              "#bd3786"
             ],
             [
              0.5555555555555556,
              "#d8576b"
             ],
             [
              0.6666666666666666,
              "#ed7953"
             ],
             [
              0.7777777777777778,
              "#fb9f3a"
             ],
             [
              0.8888888888888888,
              "#fdca26"
             ],
             [
              1,
              "#f0f921"
             ]
            ],
            "type": "contour"
           }
          ],
          "contourcarpet": [
           {
            "colorbar": {
             "outlinewidth": 0,
             "ticks": ""
            },
            "type": "contourcarpet"
           }
          ],
          "heatmap": [
           {
            "colorbar": {
             "outlinewidth": 0,
             "ticks": ""
            },
            "colorscale": [
             [
              0,
              "#0d0887"
             ],
             [
              0.1111111111111111,
              "#46039f"
             ],
             [
              0.2222222222222222,
              "#7201a8"
             ],
             [
              0.3333333333333333,
              "#9c179e"
             ],
             [
              0.4444444444444444,
              "#bd3786"
             ],
             [
              0.5555555555555556,
              "#d8576b"
             ],
             [
              0.6666666666666666,
              "#ed7953"
             ],
             [
              0.7777777777777778,
              "#fb9f3a"
             ],
             [
              0.8888888888888888,
              "#fdca26"
             ],
             [
              1,
              "#f0f921"
             ]
            ],
            "type": "heatmap"
           }
          ],
          "histogram": [
           {
            "marker": {
             "pattern": {
              "fillmode": "overlay",
              "size": 10,
              "solidity": 0.2
             }
            },
            "type": "histogram"
           }
          ],
          "histogram2d": [
           {
            "colorbar": {
             "outlinewidth": 0,
             "ticks": ""
            },
            "colorscale": [
             [
              0,
              "#0d0887"
             ],
             [
              0.1111111111111111,
              "#46039f"
             ],
             [
              0.2222222222222222,
              "#7201a8"
             ],
             [
              0.3333333333333333,
              "#9c179e"
             ],
             [
              0.4444444444444444,
              "#bd3786"
             ],
             [
              0.5555555555555556,
              "#d8576b"
             ],
             [
              0.6666666666666666,
              "#ed7953"
             ],
             [
              0.7777777777777778,
              "#fb9f3a"
             ],
             [
              0.8888888888888888,
              "#fdca26"
             ],
             [
              1,
              "#f0f921"
             ]
            ],
            "type": "histogram2d"
           }
          ],
          "histogram2dcontour": [
           {
            "colorbar": {
             "outlinewidth": 0,
             "ticks": ""
            },
            "colorscale": [
             [
              0,
              "#0d0887"
             ],
             [
              0.1111111111111111,
              "#46039f"
             ],
             [
              0.2222222222222222,
              "#7201a8"
             ],
             [
              0.3333333333333333,
              "#9c179e"
             ],
             [
              0.4444444444444444,
              "#bd3786"
             ],
             [
              0.5555555555555556,
              "#d8576b"
             ],
             [
              0.6666666666666666,
              "#ed7953"
             ],
             [
              0.7777777777777778,
              "#fb9f3a"
             ],
             [
              0.8888888888888888,
              "#fdca26"
             ],
             [
              1,
              "#f0f921"
             ]
            ],
            "type": "histogram2dcontour"
           }
          ],
          "mesh3d": [
           {
            "colorbar": {
             "outlinewidth": 0,
             "ticks": ""
            },
            "type": "mesh3d"
           }
          ],
          "parcoords": [
           {
            "line": {
             "colorbar": {
              "outlinewidth": 0,
              "ticks": ""
             }
            },
            "type": "parcoords"
           }
          ],
          "pie": [
           {
            "automargin": true,
            "type": "pie"
           }
          ],
          "scatter": [
           {
            "fillpattern": {
             "fillmode": "overlay",
             "size": 10,
             "solidity": 0.2
            },
            "type": "scatter"
           }
          ],
          "scatter3d": [
           {
            "line": {
             "colorbar": {
              "outlinewidth": 0,
              "ticks": ""
             }
            },
            "marker": {
             "colorbar": {
              "outlinewidth": 0,
              "ticks": ""
             }
            },
            "type": "scatter3d"
           }
          ],
          "scattercarpet": [
           {
            "marker": {
             "colorbar": {
              "outlinewidth": 0,
              "ticks": ""
             }
            },
            "type": "scattercarpet"
           }
          ],
          "scattergeo": [
           {
            "marker": {
             "colorbar": {
              "outlinewidth": 0,
              "ticks": ""
             }
            },
            "type": "scattergeo"
           }
          ],
          "scattergl": [
           {
            "marker": {
             "colorbar": {
              "outlinewidth": 0,
              "ticks": ""
             }
            },
            "type": "scattergl"
           }
          ],
          "scattermap": [
           {
            "marker": {
             "colorbar": {
              "outlinewidth": 0,
              "ticks": ""
             }
            },
            "type": "scattermap"
           }
          ],
          "scattermapbox": [
           {
            "marker": {
             "colorbar": {
              "outlinewidth": 0,
              "ticks": ""
             }
            },
            "type": "scattermapbox"
           }
          ],
          "scatterpolar": [
           {
            "marker": {
             "colorbar": {
              "outlinewidth": 0,
              "ticks": ""
             }
            },
            "type": "scatterpolar"
           }
          ],
          "scatterpolargl": [
           {
            "marker": {
             "colorbar": {
              "outlinewidth": 0,
              "ticks": ""
             }
            },
            "type": "scatterpolargl"
           }
          ],
          "scatterternary": [
           {
            "marker": {
             "colorbar": {
              "outlinewidth": 0,
              "ticks": ""
             }
            },
            "type": "scatterternary"
           }
          ],
          "surface": [
           {
            "colorbar": {
             "outlinewidth": 0,
             "ticks": ""
            },
            "colorscale": [
             [
              0,
              "#0d0887"
             ],
             [
              0.1111111111111111,
              "#46039f"
             ],
             [
              0.2222222222222222,
              "#7201a8"
             ],
             [
              0.3333333333333333,
              "#9c179e"
             ],
             [
              0.4444444444444444,
              "#bd3786"
             ],
             [
              0.5555555555555556,
              "#d8576b"
             ],
             [
              0.6666666666666666,
              "#ed7953"
             ],
             [
              0.7777777777777778,
              "#fb9f3a"
             ],
             [
              0.8888888888888888,
              "#fdca26"
             ],
             [
              1,
              "#f0f921"
             ]
            ],
            "type": "surface"
           }
          ],
          "table": [
           {
            "cells": {
             "fill": {
              "color": "#EBF0F8"
             },
             "line": {
              "color": "white"
             }
            },
            "header": {
             "fill": {
              "color": "#C8D4E3"
             },
             "line": {
              "color": "white"
             }
            },
            "type": "table"
           }
          ]
         },
         "layout": {
          "annotationdefaults": {
           "arrowcolor": "#2a3f5f",
           "arrowhead": 0,
           "arrowwidth": 1
          },
          "autotypenumbers": "strict",
          "coloraxis": {
           "colorbar": {
            "outlinewidth": 0,
            "ticks": ""
           }
          },
          "colorscale": {
           "diverging": [
            [
             0,
             "#8e0152"
            ],
            [
             0.1,
             "#c51b7d"
            ],
            [
             0.2,
             "#de77ae"
            ],
            [
             0.3,
             "#f1b6da"
            ],
            [
             0.4,
             "#fde0ef"
            ],
            [
             0.5,
             "#f7f7f7"
            ],
            [
             0.6,
             "#e6f5d0"
            ],
            [
             0.7,
             "#b8e186"
            ],
            [
             0.8,
             "#7fbc41"
            ],
            [
             0.9,
             "#4d9221"
            ],
            [
             1,
             "#276419"
            ]
           ],
           "sequential": [
            [
             0,
             "#0d0887"
            ],
            [
             0.1111111111111111,
             "#46039f"
            ],
            [
             0.2222222222222222,
             "#7201a8"
            ],
            [
             0.3333333333333333,
             "#9c179e"
            ],
            [
             0.4444444444444444,
             "#bd3786"
            ],
            [
             0.5555555555555556,
             "#d8576b"
            ],
            [
             0.6666666666666666,
             "#ed7953"
            ],
            [
             0.7777777777777778,
             "#fb9f3a"
            ],
            [
             0.8888888888888888,
             "#fdca26"
            ],
            [
             1,
             "#f0f921"
            ]
           ],
           "sequentialminus": [
            [
             0,
             "#0d0887"
            ],
            [
             0.1111111111111111,
             "#46039f"
            ],
            [
             0.2222222222222222,
             "#7201a8"
            ],
            [
             0.3333333333333333,
             "#9c179e"
            ],
            [
             0.4444444444444444,
             "#bd3786"
            ],
            [
             0.5555555555555556,
             "#d8576b"
            ],
            [
             0.6666666666666666,
             "#ed7953"
            ],
            [
             0.7777777777777778,
             "#fb9f3a"
            ],
            [
             0.8888888888888888,
             "#fdca26"
            ],
            [
             1,
             "#f0f921"
            ]
           ]
          },
          "colorway": [
           "#636efa",
           "#EF553B",
           "#00cc96",
           "#ab63fa",
           "#FFA15A",
           "#19d3f3",
           "#FF6692",
           "#B6E880",
           "#FF97FF",
           "#FECB52"
          ],
          "font": {
           "color": "#2a3f5f"
          },
          "geo": {
           "bgcolor": "white",
           "lakecolor": "white",
           "landcolor": "white",
           "showlakes": true,
           "showland": true,
           "subunitcolor": "#C8D4E3"
          },
          "hoverlabel": {
           "align": "left"
          },
          "hovermode": "closest",
          "mapbox": {
           "style": "light"
          },
          "paper_bgcolor": "white",
          "plot_bgcolor": "white",
          "polar": {
           "angularaxis": {
            "gridcolor": "#EBF0F8",
            "linecolor": "#EBF0F8",
            "ticks": ""
           },
           "bgcolor": "white",
           "radialaxis": {
            "gridcolor": "#EBF0F8",
            "linecolor": "#EBF0F8",
            "ticks": ""
           }
          },
          "scene": {
           "xaxis": {
            "backgroundcolor": "white",
            "gridcolor": "#DFE8F3",
            "gridwidth": 2,
            "linecolor": "#EBF0F8",
            "showbackground": true,
            "ticks": "",
            "zerolinecolor": "#EBF0F8"
           },
           "yaxis": {
            "backgroundcolor": "white",
            "gridcolor": "#DFE8F3",
            "gridwidth": 2,
            "linecolor": "#EBF0F8",
            "showbackground": true,
            "ticks": "",
            "zerolinecolor": "#EBF0F8"
           },
           "zaxis": {
            "backgroundcolor": "white",
            "gridcolor": "#DFE8F3",
            "gridwidth": 2,
            "linecolor": "#EBF0F8",
            "showbackground": true,
            "ticks": "",
            "zerolinecolor": "#EBF0F8"
           }
          },
          "shapedefaults": {
           "line": {
            "color": "#2a3f5f"
           }
          },
          "ternary": {
           "aaxis": {
            "gridcolor": "#DFE8F3",
            "linecolor": "#A2B1C6",
            "ticks": ""
           },
           "baxis": {
            "gridcolor": "#DFE8F3",
            "linecolor": "#A2B1C6",
            "ticks": ""
           },
           "bgcolor": "white",
           "caxis": {
            "gridcolor": "#DFE8F3",
            "linecolor": "#A2B1C6",
            "ticks": ""
           }
          },
          "title": {
           "x": 0.05
          },
          "xaxis": {
           "automargin": true,
           "gridcolor": "#EBF0F8",
           "linecolor": "#EBF0F8",
           "ticks": "",
           "title": {
            "standoff": 15
           },
           "zerolinecolor": "#EBF0F8",
           "zerolinewidth": 2
          },
          "yaxis": {
           "automargin": true,
           "gridcolor": "#EBF0F8",
           "linecolor": "#EBF0F8",
           "ticks": "",
           "title": {
            "standoff": 15
           },
           "zerolinecolor": "#EBF0F8",
           "zerolinewidth": 2
          }
         }
        },
        "title": {
         "text": "Porcentaje de Nulos para \"desc\" por Vintage"
        },
        "xaxis": {
         "anchor": "y",
         "domain": [
          0,
          1
         ],
         "title": {
          "text": "Vintage"
         }
        },
        "yaxis": {
         "anchor": "x",
         "domain": [
          0,
          1
         ],
         "title": {
          "text": "Null Percentage (%)"
         }
        }
       }
      }
     },
     "metadata": {},
     "output_type": "display_data"
    },
    {
     "data": {
      "application/vnd.plotly.v1+json": {
       "config": {
        "plotlyServerURL": "https://plot.ly"
       },
       "data": [
        {
         "hovertemplate": "Vintage=%{x}<br>Null Percentage (%)=%{y}<extra></extra>",
         "legendgroup": "",
         "line": {
          "color": "#C9C0E0",
          "dash": "solid"
         },
         "marker": {
          "symbol": "circle"
         },
         "mode": "lines+markers",
         "name": "",
         "orientation": "v",
         "showlegend": false,
         "type": "scatter",
         "x": [
          "2007-06-01T00:00:00.000000000",
          "2007-07-01T00:00:00.000000000",
          "2007-08-01T00:00:00.000000000",
          "2007-09-01T00:00:00.000000000",
          "2007-10-01T00:00:00.000000000",
          "2007-11-01T00:00:00.000000000",
          "2007-12-01T00:00:00.000000000",
          "2008-01-01T00:00:00.000000000",
          "2008-02-01T00:00:00.000000000",
          "2008-03-01T00:00:00.000000000",
          "2008-04-01T00:00:00.000000000",
          "2008-05-01T00:00:00.000000000",
          "2008-06-01T00:00:00.000000000",
          "2008-07-01T00:00:00.000000000",
          "2008-08-01T00:00:00.000000000",
          "2008-09-01T00:00:00.000000000",
          "2008-10-01T00:00:00.000000000",
          "2008-11-01T00:00:00.000000000",
          "2008-12-01T00:00:00.000000000",
          "2009-01-01T00:00:00.000000000",
          "2009-02-01T00:00:00.000000000",
          "2009-03-01T00:00:00.000000000",
          "2009-04-01T00:00:00.000000000",
          "2009-05-01T00:00:00.000000000",
          "2009-06-01T00:00:00.000000000",
          "2009-07-01T00:00:00.000000000",
          "2009-08-01T00:00:00.000000000",
          "2009-09-01T00:00:00.000000000",
          "2009-10-01T00:00:00.000000000",
          "2009-11-01T00:00:00.000000000",
          "2009-12-01T00:00:00.000000000",
          "2010-01-01T00:00:00.000000000",
          "2010-02-01T00:00:00.000000000",
          "2010-03-01T00:00:00.000000000",
          "2010-04-01T00:00:00.000000000",
          "2010-05-01T00:00:00.000000000",
          "2010-06-01T00:00:00.000000000",
          "2010-07-01T00:00:00.000000000",
          "2010-08-01T00:00:00.000000000",
          "2010-09-01T00:00:00.000000000",
          "2010-10-01T00:00:00.000000000",
          "2010-11-01T00:00:00.000000000",
          "2010-12-01T00:00:00.000000000",
          "2011-01-01T00:00:00.000000000",
          "2011-02-01T00:00:00.000000000",
          "2011-03-01T00:00:00.000000000",
          "2011-04-01T00:00:00.000000000",
          "2011-05-01T00:00:00.000000000",
          "2011-06-01T00:00:00.000000000",
          "2011-07-01T00:00:00.000000000",
          "2011-08-01T00:00:00.000000000",
          "2011-09-01T00:00:00.000000000",
          "2011-10-01T00:00:00.000000000",
          "2011-11-01T00:00:00.000000000",
          "2011-12-01T00:00:00.000000000",
          "2012-01-01T00:00:00.000000000",
          "2012-02-01T00:00:00.000000000",
          "2012-03-01T00:00:00.000000000",
          "2012-04-01T00:00:00.000000000",
          "2012-05-01T00:00:00.000000000",
          "2012-06-01T00:00:00.000000000",
          "2012-07-01T00:00:00.000000000",
          "2012-08-01T00:00:00.000000000",
          "2012-09-01T00:00:00.000000000",
          "2012-10-01T00:00:00.000000000",
          "2012-11-01T00:00:00.000000000",
          "2012-12-01T00:00:00.000000000",
          "2013-01-01T00:00:00.000000000",
          "2013-02-01T00:00:00.000000000",
          "2013-03-01T00:00:00.000000000",
          "2013-04-01T00:00:00.000000000",
          "2013-05-01T00:00:00.000000000",
          "2013-06-01T00:00:00.000000000",
          "2013-07-01T00:00:00.000000000",
          "2013-08-01T00:00:00.000000000",
          "2013-09-01T00:00:00.000000000",
          "2013-10-01T00:00:00.000000000",
          "2013-11-01T00:00:00.000000000",
          "2013-12-01T00:00:00.000000000",
          "2014-01-01T00:00:00.000000000",
          "2014-02-01T00:00:00.000000000",
          "2014-03-01T00:00:00.000000000",
          "2014-04-01T00:00:00.000000000",
          "2014-05-01T00:00:00.000000000",
          "2014-06-01T00:00:00.000000000",
          "2014-07-01T00:00:00.000000000",
          "2014-08-01T00:00:00.000000000",
          "2014-09-01T00:00:00.000000000",
          "2014-10-01T00:00:00.000000000",
          "2014-11-01T00:00:00.000000000",
          "2014-12-01T00:00:00.000000000",
          "2015-01-01T00:00:00.000000000",
          "2015-02-01T00:00:00.000000000",
          "2015-03-01T00:00:00.000000000",
          "2015-04-01T00:00:00.000000000",
          "2015-05-01T00:00:00.000000000",
          "2015-06-01T00:00:00.000000000",
          "2015-07-01T00:00:00.000000000",
          "2015-08-01T00:00:00.000000000",
          "2015-09-01T00:00:00.000000000",
          "2015-10-01T00:00:00.000000000",
          "2015-11-01T00:00:00.000000000",
          "2015-12-01T00:00:00.000000000",
          "2016-01-01T00:00:00.000000000",
          "2016-02-01T00:00:00.000000000",
          "2016-03-01T00:00:00.000000000",
          "2016-04-01T00:00:00.000000000",
          "2016-05-01T00:00:00.000000000",
          "2016-06-01T00:00:00.000000000",
          "2016-07-01T00:00:00.000000000",
          "2016-08-01T00:00:00.000000000",
          "2016-09-01T00:00:00.000000000",
          "2016-10-01T00:00:00.000000000",
          "2016-11-01T00:00:00.000000000",
          "2016-12-01T00:00:00.000000000",
          "2017-01-01T00:00:00.000000000",
          "2017-02-01T00:00:00.000000000",
          "2017-03-01T00:00:00.000000000",
          "2017-04-01T00:00:00.000000000",
          "2017-05-01T00:00:00.000000000",
          "2017-06-01T00:00:00.000000000",
          "2017-07-01T00:00:00.000000000",
          "2017-08-01T00:00:00.000000000",
          "2017-09-01T00:00:00.000000000",
          "2017-10-01T00:00:00.000000000",
          "2017-11-01T00:00:00.000000000",
          "2017-12-01T00:00:00.000000000",
          "2018-01-01T00:00:00.000000000",
          "2018-02-01T00:00:00.000000000",
          "2018-03-01T00:00:00.000000000",
          "2018-04-01T00:00:00.000000000",
          "2018-05-01T00:00:00.000000000",
          "2018-06-01T00:00:00.000000000",
          "2018-07-01T00:00:00.000000000",
          "2018-08-01T00:00:00.000000000",
          "2018-09-01T00:00:00.000000000",
          "2018-10-01T00:00:00.000000000",
          "2018-11-01T00:00:00.000000000",
          "2018-12-01T00:00:00.000000000"
         ],
         "xaxis": "x",
         "y": {
          "bdata": "AAAAAADgVUCO4ziO4zgmQG8wRT7rBitAg/FW9jmkFkCf53me53nuPwAAAAAAAAAAAAAAAAAAAAAAAAAAAAAAAAAAAAAAAAAA906y1BFiR0DyWTeYIp9VQDi96U1veldAlFJKKaWUVkCO+s5GfWdXQAAAAAAAAFdA5TWU11BeVkCxjjbvU1xXQDkBz6fHzVdAvelNb3rTVkCNHOqyVINXQKNgUbAoWFdASRl4ujX/V0AvT31R7vJXQCVU5jt0m1dA74Yf1SVmV0D06D4B2gZYQPf32B3aflhAGtciQU2FV0Bl3DJuGfdXQIe2vKShrVdAekun4e7lV0CEQr7eoJBXQBJIIIEEkldAeDGoCLeUV0AgwX0E92FXQAVnGmLJbldAF9wqF9wqV0Dl+t3HiZZXQI76zkZ9Z1dAaKALgtSBV0DirPyEOFtXQPb19fX11VdASvl0Uj6dV0Ap8TNK/IxXQLOjGQf+nFdAB+9bI6urV0ClQ1mN86NXQIbNgUQrjFdAjLlqifVgV0BnZmZmZmZXQBSs2gpxg1dAR3ZHJUGGV0DglVwLe6FXQDaDt4jNAFhAgQrZ2qp1WEBYfTfOSFZYQAAAAACAWFhAc8GjHG0DWEAuwpnqSAxYQGlpaWlpSVhAwVE1nRhpWEAxWOKH+DxYQJAq8a3aQVhAeyqCz3ZRWEBvdTFqdolYQCtnVk2kgFhAC+mPr+AqWEDzcJ8L23NUQBoNVbBojFdAWQ8QKYESWEC8BefkDhRXQN4jrUyegFVAzdb9s0uTVUBi8RtSrqNVQGA6G94G1lVAoIxGPwLKVUCGmZjVGwBWQDi96U1v9FVAN3yrfie1VUBHbObzDkhUQHiJf7UUSlRAjd7hGM0JVEA1eaec3EtUQBUg4h9BUlRA2Rwwm06HVEBj5Y/MTKhUQJQAbOTa5FRAyhwE3PrMVEAkYUUCuINUQIg8fMd7tFRA2CLDRLQkVUAmT7mH66VUQPru+wh7iVRAcyuE26tqVEALp5yW1F1UQL8QRgKXaFRAhJt1qX5zVEBnkeelL1NUQP2v4+npclRAGen6xZ2GVEApZ581gpxUQOty0UfUXlRAwduMLn5EVEA5qcGug5VUQGzgc3XSfFRAtLebEUpJVEBELIvSKkhUQMUrJrNgzlNAGqNNSHDDU0BtHAMyfaBTQImz2/miq1NAImWIS8+UU0A1j7c+/ZBTQGTJCBHUqlNAGSMggKCGU0A5kV48F7hTQF0VQRjXlVNAwOMkvfmfU0D+xbabgo1TQIBpAApfjFNAKiahC0zTU0DF+3KKo0FUQCyDUmHi1VRASkbgBkjfVECwaUsEvLZUQBOed34qvlRABZkv/9/1VEAS5N4DXfJUQF/j7Acx7VRA6PQ+A70lVUC+fk388kdVQCu8mujxilVAZfK2ulxTVUDR4twLopNVQOi2qvR9ZFVARKttHiCwVUAv6Av6gr5VQA8PDw8PD1ZAip3YiZ3QVUA=",
          "dtype": "f8"
         },
         "yaxis": "y"
        }
       ],
       "layout": {
        "legend": {
         "tracegroupgap": 0
        },
        "template": {
         "data": {
          "bar": [
           {
            "error_x": {
             "color": "#2a3f5f"
            },
            "error_y": {
             "color": "#2a3f5f"
            },
            "marker": {
             "line": {
              "color": "white",
              "width": 0.5
             },
             "pattern": {
              "fillmode": "overlay",
              "size": 10,
              "solidity": 0.2
             }
            },
            "type": "bar"
           }
          ],
          "barpolar": [
           {
            "marker": {
             "line": {
              "color": "white",
              "width": 0.5
             },
             "pattern": {
              "fillmode": "overlay",
              "size": 10,
              "solidity": 0.2
             }
            },
            "type": "barpolar"
           }
          ],
          "carpet": [
           {
            "aaxis": {
             "endlinecolor": "#2a3f5f",
             "gridcolor": "#C8D4E3",
             "linecolor": "#C8D4E3",
             "minorgridcolor": "#C8D4E3",
             "startlinecolor": "#2a3f5f"
            },
            "baxis": {
             "endlinecolor": "#2a3f5f",
             "gridcolor": "#C8D4E3",
             "linecolor": "#C8D4E3",
             "minorgridcolor": "#C8D4E3",
             "startlinecolor": "#2a3f5f"
            },
            "type": "carpet"
           }
          ],
          "choropleth": [
           {
            "colorbar": {
             "outlinewidth": 0,
             "ticks": ""
            },
            "type": "choropleth"
           }
          ],
          "contour": [
           {
            "colorbar": {
             "outlinewidth": 0,
             "ticks": ""
            },
            "colorscale": [
             [
              0,
              "#0d0887"
             ],
             [
              0.1111111111111111,
              "#46039f"
             ],
             [
              0.2222222222222222,
              "#7201a8"
             ],
             [
              0.3333333333333333,
              "#9c179e"
             ],
             [
              0.4444444444444444,
              "#bd3786"
             ],
             [
              0.5555555555555556,
              "#d8576b"
             ],
             [
              0.6666666666666666,
              "#ed7953"
             ],
             [
              0.7777777777777778,
              "#fb9f3a"
             ],
             [
              0.8888888888888888,
              "#fdca26"
             ],
             [
              1,
              "#f0f921"
             ]
            ],
            "type": "contour"
           }
          ],
          "contourcarpet": [
           {
            "colorbar": {
             "outlinewidth": 0,
             "ticks": ""
            },
            "type": "contourcarpet"
           }
          ],
          "heatmap": [
           {
            "colorbar": {
             "outlinewidth": 0,
             "ticks": ""
            },
            "colorscale": [
             [
              0,
              "#0d0887"
             ],
             [
              0.1111111111111111,
              "#46039f"
             ],
             [
              0.2222222222222222,
              "#7201a8"
             ],
             [
              0.3333333333333333,
              "#9c179e"
             ],
             [
              0.4444444444444444,
              "#bd3786"
             ],
             [
              0.5555555555555556,
              "#d8576b"
             ],
             [
              0.6666666666666666,
              "#ed7953"
             ],
             [
              0.7777777777777778,
              "#fb9f3a"
             ],
             [
              0.8888888888888888,
              "#fdca26"
             ],
             [
              1,
              "#f0f921"
             ]
            ],
            "type": "heatmap"
           }
          ],
          "histogram": [
           {
            "marker": {
             "pattern": {
              "fillmode": "overlay",
              "size": 10,
              "solidity": 0.2
             }
            },
            "type": "histogram"
           }
          ],
          "histogram2d": [
           {
            "colorbar": {
             "outlinewidth": 0,
             "ticks": ""
            },
            "colorscale": [
             [
              0,
              "#0d0887"
             ],
             [
              0.1111111111111111,
              "#46039f"
             ],
             [
              0.2222222222222222,
              "#7201a8"
             ],
             [
              0.3333333333333333,
              "#9c179e"
             ],
             [
              0.4444444444444444,
              "#bd3786"
             ],
             [
              0.5555555555555556,
              "#d8576b"
             ],
             [
              0.6666666666666666,
              "#ed7953"
             ],
             [
              0.7777777777777778,
              "#fb9f3a"
             ],
             [
              0.8888888888888888,
              "#fdca26"
             ],
             [
              1,
              "#f0f921"
             ]
            ],
            "type": "histogram2d"
           }
          ],
          "histogram2dcontour": [
           {
            "colorbar": {
             "outlinewidth": 0,
             "ticks": ""
            },
            "colorscale": [
             [
              0,
              "#0d0887"
             ],
             [
              0.1111111111111111,
              "#46039f"
             ],
             [
              0.2222222222222222,
              "#7201a8"
             ],
             [
              0.3333333333333333,
              "#9c179e"
             ],
             [
              0.4444444444444444,
              "#bd3786"
             ],
             [
              0.5555555555555556,
              "#d8576b"
             ],
             [
              0.6666666666666666,
              "#ed7953"
             ],
             [
              0.7777777777777778,
              "#fb9f3a"
             ],
             [
              0.8888888888888888,
              "#fdca26"
             ],
             [
              1,
              "#f0f921"
             ]
            ],
            "type": "histogram2dcontour"
           }
          ],
          "mesh3d": [
           {
            "colorbar": {
             "outlinewidth": 0,
             "ticks": ""
            },
            "type": "mesh3d"
           }
          ],
          "parcoords": [
           {
            "line": {
             "colorbar": {
              "outlinewidth": 0,
              "ticks": ""
             }
            },
            "type": "parcoords"
           }
          ],
          "pie": [
           {
            "automargin": true,
            "type": "pie"
           }
          ],
          "scatter": [
           {
            "fillpattern": {
             "fillmode": "overlay",
             "size": 10,
             "solidity": 0.2
            },
            "type": "scatter"
           }
          ],
          "scatter3d": [
           {
            "line": {
             "colorbar": {
              "outlinewidth": 0,
              "ticks": ""
             }
            },
            "marker": {
             "colorbar": {
              "outlinewidth": 0,
              "ticks": ""
             }
            },
            "type": "scatter3d"
           }
          ],
          "scattercarpet": [
           {
            "marker": {
             "colorbar": {
              "outlinewidth": 0,
              "ticks": ""
             }
            },
            "type": "scattercarpet"
           }
          ],
          "scattergeo": [
           {
            "marker": {
             "colorbar": {
              "outlinewidth": 0,
              "ticks": ""
             }
            },
            "type": "scattergeo"
           }
          ],
          "scattergl": [
           {
            "marker": {
             "colorbar": {
              "outlinewidth": 0,
              "ticks": ""
             }
            },
            "type": "scattergl"
           }
          ],
          "scattermap": [
           {
            "marker": {
             "colorbar": {
              "outlinewidth": 0,
              "ticks": ""
             }
            },
            "type": "scattermap"
           }
          ],
          "scattermapbox": [
           {
            "marker": {
             "colorbar": {
              "outlinewidth": 0,
              "ticks": ""
             }
            },
            "type": "scattermapbox"
           }
          ],
          "scatterpolar": [
           {
            "marker": {
             "colorbar": {
              "outlinewidth": 0,
              "ticks": ""
             }
            },
            "type": "scatterpolar"
           }
          ],
          "scatterpolargl": [
           {
            "marker": {
             "colorbar": {
              "outlinewidth": 0,
              "ticks": ""
             }
            },
            "type": "scatterpolargl"
           }
          ],
          "scatterternary": [
           {
            "marker": {
             "colorbar": {
              "outlinewidth": 0,
              "ticks": ""
             }
            },
            "type": "scatterternary"
           }
          ],
          "surface": [
           {
            "colorbar": {
             "outlinewidth": 0,
             "ticks": ""
            },
            "colorscale": [
             [
              0,
              "#0d0887"
             ],
             [
              0.1111111111111111,
              "#46039f"
             ],
             [
              0.2222222222222222,
              "#7201a8"
             ],
             [
              0.3333333333333333,
              "#9c179e"
             ],
             [
              0.4444444444444444,
              "#bd3786"
             ],
             [
              0.5555555555555556,
              "#d8576b"
             ],
             [
              0.6666666666666666,
              "#ed7953"
             ],
             [
              0.7777777777777778,
              "#fb9f3a"
             ],
             [
              0.8888888888888888,
              "#fdca26"
             ],
             [
              1,
              "#f0f921"
             ]
            ],
            "type": "surface"
           }
          ],
          "table": [
           {
            "cells": {
             "fill": {
              "color": "#EBF0F8"
             },
             "line": {
              "color": "white"
             }
            },
            "header": {
             "fill": {
              "color": "#C8D4E3"
             },
             "line": {
              "color": "white"
             }
            },
            "type": "table"
           }
          ]
         },
         "layout": {
          "annotationdefaults": {
           "arrowcolor": "#2a3f5f",
           "arrowhead": 0,
           "arrowwidth": 1
          },
          "autotypenumbers": "strict",
          "coloraxis": {
           "colorbar": {
            "outlinewidth": 0,
            "ticks": ""
           }
          },
          "colorscale": {
           "diverging": [
            [
             0,
             "#8e0152"
            ],
            [
             0.1,
             "#c51b7d"
            ],
            [
             0.2,
             "#de77ae"
            ],
            [
             0.3,
             "#f1b6da"
            ],
            [
             0.4,
             "#fde0ef"
            ],
            [
             0.5,
             "#f7f7f7"
            ],
            [
             0.6,
             "#e6f5d0"
            ],
            [
             0.7,
             "#b8e186"
            ],
            [
             0.8,
             "#7fbc41"
            ],
            [
             0.9,
             "#4d9221"
            ],
            [
             1,
             "#276419"
            ]
           ],
           "sequential": [
            [
             0,
             "#0d0887"
            ],
            [
             0.1111111111111111,
             "#46039f"
            ],
            [
             0.2222222222222222,
             "#7201a8"
            ],
            [
             0.3333333333333333,
             "#9c179e"
            ],
            [
             0.4444444444444444,
             "#bd3786"
            ],
            [
             0.5555555555555556,
             "#d8576b"
            ],
            [
             0.6666666666666666,
             "#ed7953"
            ],
            [
             0.7777777777777778,
             "#fb9f3a"
            ],
            [
             0.8888888888888888,
             "#fdca26"
            ],
            [
             1,
             "#f0f921"
            ]
           ],
           "sequentialminus": [
            [
             0,
             "#0d0887"
            ],
            [
             0.1111111111111111,
             "#46039f"
            ],
            [
             0.2222222222222222,
             "#7201a8"
            ],
            [
             0.3333333333333333,
             "#9c179e"
            ],
            [
             0.4444444444444444,
             "#bd3786"
            ],
            [
             0.5555555555555556,
             "#d8576b"
            ],
            [
             0.6666666666666666,
             "#ed7953"
            ],
            [
             0.7777777777777778,
             "#fb9f3a"
            ],
            [
             0.8888888888888888,
             "#fdca26"
            ],
            [
             1,
             "#f0f921"
            ]
           ]
          },
          "colorway": [
           "#636efa",
           "#EF553B",
           "#00cc96",
           "#ab63fa",
           "#FFA15A",
           "#19d3f3",
           "#FF6692",
           "#B6E880",
           "#FF97FF",
           "#FECB52"
          ],
          "font": {
           "color": "#2a3f5f"
          },
          "geo": {
           "bgcolor": "white",
           "lakecolor": "white",
           "landcolor": "white",
           "showlakes": true,
           "showland": true,
           "subunitcolor": "#C8D4E3"
          },
          "hoverlabel": {
           "align": "left"
          },
          "hovermode": "closest",
          "mapbox": {
           "style": "light"
          },
          "paper_bgcolor": "white",
          "plot_bgcolor": "white",
          "polar": {
           "angularaxis": {
            "gridcolor": "#EBF0F8",
            "linecolor": "#EBF0F8",
            "ticks": ""
           },
           "bgcolor": "white",
           "radialaxis": {
            "gridcolor": "#EBF0F8",
            "linecolor": "#EBF0F8",
            "ticks": ""
           }
          },
          "scene": {
           "xaxis": {
            "backgroundcolor": "white",
            "gridcolor": "#DFE8F3",
            "gridwidth": 2,
            "linecolor": "#EBF0F8",
            "showbackground": true,
            "ticks": "",
            "zerolinecolor": "#EBF0F8"
           },
           "yaxis": {
            "backgroundcolor": "white",
            "gridcolor": "#DFE8F3",
            "gridwidth": 2,
            "linecolor": "#EBF0F8",
            "showbackground": true,
            "ticks": "",
            "zerolinecolor": "#EBF0F8"
           },
           "zaxis": {
            "backgroundcolor": "white",
            "gridcolor": "#DFE8F3",
            "gridwidth": 2,
            "linecolor": "#EBF0F8",
            "showbackground": true,
            "ticks": "",
            "zerolinecolor": "#EBF0F8"
           }
          },
          "shapedefaults": {
           "line": {
            "color": "#2a3f5f"
           }
          },
          "ternary": {
           "aaxis": {
            "gridcolor": "#DFE8F3",
            "linecolor": "#A2B1C6",
            "ticks": ""
           },
           "baxis": {
            "gridcolor": "#DFE8F3",
            "linecolor": "#A2B1C6",
            "ticks": ""
           },
           "bgcolor": "white",
           "caxis": {
            "gridcolor": "#DFE8F3",
            "linecolor": "#A2B1C6",
            "ticks": ""
           }
          },
          "title": {
           "x": 0.05
          },
          "xaxis": {
           "automargin": true,
           "gridcolor": "#EBF0F8",
           "linecolor": "#EBF0F8",
           "ticks": "",
           "title": {
            "standoff": 15
           },
           "zerolinecolor": "#EBF0F8",
           "zerolinewidth": 2
          },
          "yaxis": {
           "automargin": true,
           "gridcolor": "#EBF0F8",
           "linecolor": "#EBF0F8",
           "ticks": "",
           "title": {
            "standoff": 15
           },
           "zerolinecolor": "#EBF0F8",
           "zerolinewidth": 2
          }
         }
        },
        "title": {
         "text": "Porcentaje de Nulos para \"mths_since_last_record\" por Vintage"
        },
        "xaxis": {
         "anchor": "y",
         "domain": [
          0,
          1
         ],
         "title": {
          "text": "Vintage"
         }
        },
        "yaxis": {
         "anchor": "x",
         "domain": [
          0,
          1
         ],
         "title": {
          "text": "Null Percentage (%)"
         }
        }
       }
      }
     },
     "metadata": {},
     "output_type": "display_data"
    },
    {
     "data": {
      "application/vnd.plotly.v1+json": {
       "config": {
        "plotlyServerURL": "https://plot.ly"
       },
       "data": [
        {
         "hovertemplate": "Vintage=%{x}<br>Null Percentage (%)=%{y}<extra></extra>",
         "legendgroup": "",
         "line": {
          "color": "#C9C0E0",
          "dash": "solid"
         },
         "marker": {
          "symbol": "circle"
         },
         "mode": "lines+markers",
         "name": "",
         "orientation": "v",
         "showlegend": false,
         "type": "scatter",
         "x": [
          "2007-06-01T00:00:00.000000000",
          "2007-07-01T00:00:00.000000000",
          "2007-08-01T00:00:00.000000000",
          "2007-09-01T00:00:00.000000000",
          "2007-10-01T00:00:00.000000000",
          "2007-11-01T00:00:00.000000000",
          "2007-12-01T00:00:00.000000000",
          "2008-01-01T00:00:00.000000000",
          "2008-02-01T00:00:00.000000000",
          "2008-03-01T00:00:00.000000000",
          "2008-04-01T00:00:00.000000000",
          "2008-05-01T00:00:00.000000000",
          "2008-06-01T00:00:00.000000000",
          "2008-07-01T00:00:00.000000000",
          "2008-08-01T00:00:00.000000000",
          "2008-09-01T00:00:00.000000000",
          "2008-10-01T00:00:00.000000000",
          "2008-11-01T00:00:00.000000000",
          "2008-12-01T00:00:00.000000000",
          "2009-01-01T00:00:00.000000000",
          "2009-02-01T00:00:00.000000000",
          "2009-03-01T00:00:00.000000000",
          "2009-04-01T00:00:00.000000000",
          "2009-05-01T00:00:00.000000000",
          "2009-06-01T00:00:00.000000000",
          "2009-07-01T00:00:00.000000000",
          "2009-08-01T00:00:00.000000000",
          "2009-09-01T00:00:00.000000000",
          "2009-10-01T00:00:00.000000000",
          "2009-11-01T00:00:00.000000000",
          "2009-12-01T00:00:00.000000000",
          "2010-01-01T00:00:00.000000000",
          "2010-02-01T00:00:00.000000000",
          "2010-03-01T00:00:00.000000000",
          "2010-04-01T00:00:00.000000000",
          "2010-05-01T00:00:00.000000000",
          "2010-06-01T00:00:00.000000000",
          "2010-07-01T00:00:00.000000000",
          "2010-08-01T00:00:00.000000000",
          "2010-09-01T00:00:00.000000000",
          "2010-10-01T00:00:00.000000000",
          "2010-11-01T00:00:00.000000000",
          "2010-12-01T00:00:00.000000000",
          "2011-01-01T00:00:00.000000000",
          "2011-02-01T00:00:00.000000000",
          "2011-03-01T00:00:00.000000000",
          "2011-04-01T00:00:00.000000000",
          "2011-05-01T00:00:00.000000000",
          "2011-06-01T00:00:00.000000000",
          "2011-07-01T00:00:00.000000000",
          "2011-08-01T00:00:00.000000000",
          "2011-09-01T00:00:00.000000000",
          "2011-10-01T00:00:00.000000000",
          "2011-11-01T00:00:00.000000000",
          "2011-12-01T00:00:00.000000000",
          "2012-01-01T00:00:00.000000000",
          "2012-02-01T00:00:00.000000000",
          "2012-03-01T00:00:00.000000000",
          "2012-04-01T00:00:00.000000000",
          "2012-05-01T00:00:00.000000000",
          "2012-06-01T00:00:00.000000000",
          "2012-07-01T00:00:00.000000000",
          "2012-08-01T00:00:00.000000000",
          "2012-09-01T00:00:00.000000000",
          "2012-10-01T00:00:00.000000000",
          "2012-11-01T00:00:00.000000000",
          "2012-12-01T00:00:00.000000000",
          "2013-01-01T00:00:00.000000000",
          "2013-02-01T00:00:00.000000000",
          "2013-03-01T00:00:00.000000000",
          "2013-04-01T00:00:00.000000000",
          "2013-05-01T00:00:00.000000000",
          "2013-06-01T00:00:00.000000000",
          "2013-07-01T00:00:00.000000000",
          "2013-08-01T00:00:00.000000000",
          "2013-09-01T00:00:00.000000000",
          "2013-10-01T00:00:00.000000000",
          "2013-11-01T00:00:00.000000000",
          "2013-12-01T00:00:00.000000000",
          "2014-01-01T00:00:00.000000000",
          "2014-02-01T00:00:00.000000000",
          "2014-03-01T00:00:00.000000000",
          "2014-04-01T00:00:00.000000000",
          "2014-05-01T00:00:00.000000000",
          "2014-06-01T00:00:00.000000000",
          "2014-07-01T00:00:00.000000000",
          "2014-08-01T00:00:00.000000000",
          "2014-09-01T00:00:00.000000000",
          "2014-10-01T00:00:00.000000000",
          "2014-11-01T00:00:00.000000000",
          "2014-12-01T00:00:00.000000000",
          "2015-01-01T00:00:00.000000000",
          "2015-02-01T00:00:00.000000000",
          "2015-03-01T00:00:00.000000000",
          "2015-04-01T00:00:00.000000000",
          "2015-05-01T00:00:00.000000000",
          "2015-06-01T00:00:00.000000000",
          "2015-07-01T00:00:00.000000000",
          "2015-08-01T00:00:00.000000000",
          "2015-09-01T00:00:00.000000000",
          "2015-10-01T00:00:00.000000000",
          "2015-11-01T00:00:00.000000000",
          "2015-12-01T00:00:00.000000000",
          "2016-01-01T00:00:00.000000000",
          "2016-02-01T00:00:00.000000000",
          "2016-03-01T00:00:00.000000000",
          "2016-04-01T00:00:00.000000000",
          "2016-05-01T00:00:00.000000000",
          "2016-06-01T00:00:00.000000000",
          "2016-07-01T00:00:00.000000000",
          "2016-08-01T00:00:00.000000000",
          "2016-09-01T00:00:00.000000000",
          "2016-10-01T00:00:00.000000000",
          "2016-11-01T00:00:00.000000000",
          "2016-12-01T00:00:00.000000000",
          "2017-01-01T00:00:00.000000000",
          "2017-02-01T00:00:00.000000000",
          "2017-03-01T00:00:00.000000000",
          "2017-04-01T00:00:00.000000000",
          "2017-05-01T00:00:00.000000000",
          "2017-06-01T00:00:00.000000000",
          "2017-07-01T00:00:00.000000000",
          "2017-08-01T00:00:00.000000000",
          "2017-09-01T00:00:00.000000000",
          "2017-10-01T00:00:00.000000000",
          "2017-11-01T00:00:00.000000000",
          "2017-12-01T00:00:00.000000000",
          "2018-01-01T00:00:00.000000000",
          "2018-02-01T00:00:00.000000000",
          "2018-03-01T00:00:00.000000000",
          "2018-04-01T00:00:00.000000000",
          "2018-05-01T00:00:00.000000000",
          "2018-06-01T00:00:00.000000000",
          "2018-07-01T00:00:00.000000000",
          "2018-08-01T00:00:00.000000000",
          "2018-09-01T00:00:00.000000000",
          "2018-10-01T00:00:00.000000000",
          "2018-11-01T00:00:00.000000000",
          "2018-12-01T00:00:00.000000000"
         ],
         "xaxis": "x",
         "y": {
          "bdata": "AAAAAAAAWUAAAAAAAABZQAAAAAAAAFlAAAAAAAAAWUAAAAAAAABZQAAAAAAAAFlAAAAAAAAAWUAAAAAAAABZQAAAAAAAAFlAAAAAAAAAWUAAAAAAAABZQAAAAAAAAFlAAAAAAAAAWUAAAAAAAABZQAAAAAAAAFlAAAAAAAAAWUAAAAAAAABZQAAAAAAAAFlAAAAAAAAAWUAAAAAAAABZQAAAAAAAAFlAAAAAAAAAWUAAAAAAAABZQAAAAAAAAFlAAAAAAAAAWUAAAAAAAABZQAAAAAAAAFlAAAAAAAAAWUAAAAAAAABZQAAAAAAAAFlAAAAAAAAAWUAAAAAAAABZQAAAAAAAAFlAAAAAAAAAWUAAAAAAAABZQAAAAAAAAFlAAAAAAAAAWUAAAAAAAABZQAAAAAAAAFlAAAAAAAAAWUAAAAAAAABZQAAAAAAAAFlAAAAAAAAAWUAAAAAAAABZQAAAAAAAAFlAAAAAAAAAWUAAAAAAAABZQAAAAAAAAFlAAAAAAAAAWUAAAAAAAABZQAAAAAAAAFlAAAAAAAAAWUAAAAAAAABZQAAAAAAAAFlAAAAAAAAAWUAAAAAAAABZQAAAAAAAAFlAAAAAAAAAWUAAAAAAAABZQAAAAAAAAFlAAAAAAAAAWUAAAAAAAABZQEgqA7eaH1hAb6wkqI5AVECBYDH4+LNTQF5X+QTOyFFA+j8acWTqT0BiAmhZvFhTQDQ4ZPAklVRA+EuZxo7aU0DXCQJ/XbBTQHrTm970plNAoH7rkstnU0BbLQtU36dTQEVcFAg4VVNAQFjZ6gKEU0CraJBRhS1TQGQhC1nIClNA8Rc5w4LLUkAhY0/1uSdSQLXaGuFON1JArJVCBvocUkDC7k2nWTdSQFWZ9MqKxlJAKTQb9NeZUkAIEwBo63dSQIH5QHZhsVJAV8PSizixUkAxff9c4jFSQJ4X4qHXM1JAGMkOlR6HUkCpSIvDNGZSQPLR3Du9lVJAMsYdN81GUkDjd2PyCWVSQM301/zNblJAngy/85ppUkA0DfdWPo9SQC68lUo8flJAuGHAKrTSUkD4wfdj+5ZSQHspOZH3pFJAMIaaOcyHUkDTcxB7wZJSQItfWUcjoFJAX9vJvQjRUkCo6VqqL8NSQPMfpehysFJA6EHtiCmSUkC1Yr4P3m9SQMg3/7F2mFJAGTKfYRBeUkBcdDIeG65SQKd/wIE9t1JArwKpcueJUkC+pUHCJPtSQMiI39yBDFNAOn8rFq//UkDGE7Qx8CZTQFBo7TIFCFNAitYiZ4cHU0AMHXsjIwdTQHp2CNxYvlJAiUYp3V8/U0Air4I1EphTQAUoh6NttlNAJTulD5fSU0DU+xE23OpTQEctavBE2lNA7Haq7XHWU0DT5XorHvxTQDxJ0TVCq1NAIWrTgvnoU0BgbeUPq4lTQECARJXP0lNAO9uD4KWSU0DKmrKmrClUQKGgoKCgMFRAhDRIgzQIVEA=",
          "dtype": "f8"
         },
         "yaxis": "y"
        }
       ],
       "layout": {
        "legend": {
         "tracegroupgap": 0
        },
        "template": {
         "data": {
          "bar": [
           {
            "error_x": {
             "color": "#2a3f5f"
            },
            "error_y": {
             "color": "#2a3f5f"
            },
            "marker": {
             "line": {
              "color": "white",
              "width": 0.5
             },
             "pattern": {
              "fillmode": "overlay",
              "size": 10,
              "solidity": 0.2
             }
            },
            "type": "bar"
           }
          ],
          "barpolar": [
           {
            "marker": {
             "line": {
              "color": "white",
              "width": 0.5
             },
             "pattern": {
              "fillmode": "overlay",
              "size": 10,
              "solidity": 0.2
             }
            },
            "type": "barpolar"
           }
          ],
          "carpet": [
           {
            "aaxis": {
             "endlinecolor": "#2a3f5f",
             "gridcolor": "#C8D4E3",
             "linecolor": "#C8D4E3",
             "minorgridcolor": "#C8D4E3",
             "startlinecolor": "#2a3f5f"
            },
            "baxis": {
             "endlinecolor": "#2a3f5f",
             "gridcolor": "#C8D4E3",
             "linecolor": "#C8D4E3",
             "minorgridcolor": "#C8D4E3",
             "startlinecolor": "#2a3f5f"
            },
            "type": "carpet"
           }
          ],
          "choropleth": [
           {
            "colorbar": {
             "outlinewidth": 0,
             "ticks": ""
            },
            "type": "choropleth"
           }
          ],
          "contour": [
           {
            "colorbar": {
             "outlinewidth": 0,
             "ticks": ""
            },
            "colorscale": [
             [
              0,
              "#0d0887"
             ],
             [
              0.1111111111111111,
              "#46039f"
             ],
             [
              0.2222222222222222,
              "#7201a8"
             ],
             [
              0.3333333333333333,
              "#9c179e"
             ],
             [
              0.4444444444444444,
              "#bd3786"
             ],
             [
              0.5555555555555556,
              "#d8576b"
             ],
             [
              0.6666666666666666,
              "#ed7953"
             ],
             [
              0.7777777777777778,
              "#fb9f3a"
             ],
             [
              0.8888888888888888,
              "#fdca26"
             ],
             [
              1,
              "#f0f921"
             ]
            ],
            "type": "contour"
           }
          ],
          "contourcarpet": [
           {
            "colorbar": {
             "outlinewidth": 0,
             "ticks": ""
            },
            "type": "contourcarpet"
           }
          ],
          "heatmap": [
           {
            "colorbar": {
             "outlinewidth": 0,
             "ticks": ""
            },
            "colorscale": [
             [
              0,
              "#0d0887"
             ],
             [
              0.1111111111111111,
              "#46039f"
             ],
             [
              0.2222222222222222,
              "#7201a8"
             ],
             [
              0.3333333333333333,
              "#9c179e"
             ],
             [
              0.4444444444444444,
              "#bd3786"
             ],
             [
              0.5555555555555556,
              "#d8576b"
             ],
             [
              0.6666666666666666,
              "#ed7953"
             ],
             [
              0.7777777777777778,
              "#fb9f3a"
             ],
             [
              0.8888888888888888,
              "#fdca26"
             ],
             [
              1,
              "#f0f921"
             ]
            ],
            "type": "heatmap"
           }
          ],
          "histogram": [
           {
            "marker": {
             "pattern": {
              "fillmode": "overlay",
              "size": 10,
              "solidity": 0.2
             }
            },
            "type": "histogram"
           }
          ],
          "histogram2d": [
           {
            "colorbar": {
             "outlinewidth": 0,
             "ticks": ""
            },
            "colorscale": [
             [
              0,
              "#0d0887"
             ],
             [
              0.1111111111111111,
              "#46039f"
             ],
             [
              0.2222222222222222,
              "#7201a8"
             ],
             [
              0.3333333333333333,
              "#9c179e"
             ],
             [
              0.4444444444444444,
              "#bd3786"
             ],
             [
              0.5555555555555556,
              "#d8576b"
             ],
             [
              0.6666666666666666,
              "#ed7953"
             ],
             [
              0.7777777777777778,
              "#fb9f3a"
             ],
             [
              0.8888888888888888,
              "#fdca26"
             ],
             [
              1,
              "#f0f921"
             ]
            ],
            "type": "histogram2d"
           }
          ],
          "histogram2dcontour": [
           {
            "colorbar": {
             "outlinewidth": 0,
             "ticks": ""
            },
            "colorscale": [
             [
              0,
              "#0d0887"
             ],
             [
              0.1111111111111111,
              "#46039f"
             ],
             [
              0.2222222222222222,
              "#7201a8"
             ],
             [
              0.3333333333333333,
              "#9c179e"
             ],
             [
              0.4444444444444444,
              "#bd3786"
             ],
             [
              0.5555555555555556,
              "#d8576b"
             ],
             [
              0.6666666666666666,
              "#ed7953"
             ],
             [
              0.7777777777777778,
              "#fb9f3a"
             ],
             [
              0.8888888888888888,
              "#fdca26"
             ],
             [
              1,
              "#f0f921"
             ]
            ],
            "type": "histogram2dcontour"
           }
          ],
          "mesh3d": [
           {
            "colorbar": {
             "outlinewidth": 0,
             "ticks": ""
            },
            "type": "mesh3d"
           }
          ],
          "parcoords": [
           {
            "line": {
             "colorbar": {
              "outlinewidth": 0,
              "ticks": ""
             }
            },
            "type": "parcoords"
           }
          ],
          "pie": [
           {
            "automargin": true,
            "type": "pie"
           }
          ],
          "scatter": [
           {
            "fillpattern": {
             "fillmode": "overlay",
             "size": 10,
             "solidity": 0.2
            },
            "type": "scatter"
           }
          ],
          "scatter3d": [
           {
            "line": {
             "colorbar": {
              "outlinewidth": 0,
              "ticks": ""
             }
            },
            "marker": {
             "colorbar": {
              "outlinewidth": 0,
              "ticks": ""
             }
            },
            "type": "scatter3d"
           }
          ],
          "scattercarpet": [
           {
            "marker": {
             "colorbar": {
              "outlinewidth": 0,
              "ticks": ""
             }
            },
            "type": "scattercarpet"
           }
          ],
          "scattergeo": [
           {
            "marker": {
             "colorbar": {
              "outlinewidth": 0,
              "ticks": ""
             }
            },
            "type": "scattergeo"
           }
          ],
          "scattergl": [
           {
            "marker": {
             "colorbar": {
              "outlinewidth": 0,
              "ticks": ""
             }
            },
            "type": "scattergl"
           }
          ],
          "scattermap": [
           {
            "marker": {
             "colorbar": {
              "outlinewidth": 0,
              "ticks": ""
             }
            },
            "type": "scattermap"
           }
          ],
          "scattermapbox": [
           {
            "marker": {
             "colorbar": {
              "outlinewidth": 0,
              "ticks": ""
             }
            },
            "type": "scattermapbox"
           }
          ],
          "scatterpolar": [
           {
            "marker": {
             "colorbar": {
              "outlinewidth": 0,
              "ticks": ""
             }
            },
            "type": "scatterpolar"
           }
          ],
          "scatterpolargl": [
           {
            "marker": {
             "colorbar": {
              "outlinewidth": 0,
              "ticks": ""
             }
            },
            "type": "scatterpolargl"
           }
          ],
          "scatterternary": [
           {
            "marker": {
             "colorbar": {
              "outlinewidth": 0,
              "ticks": ""
             }
            },
            "type": "scatterternary"
           }
          ],
          "surface": [
           {
            "colorbar": {
             "outlinewidth": 0,
             "ticks": ""
            },
            "colorscale": [
             [
              0,
              "#0d0887"
             ],
             [
              0.1111111111111111,
              "#46039f"
             ],
             [
              0.2222222222222222,
              "#7201a8"
             ],
             [
              0.3333333333333333,
              "#9c179e"
             ],
             [
              0.4444444444444444,
              "#bd3786"
             ],
             [
              0.5555555555555556,
              "#d8576b"
             ],
             [
              0.6666666666666666,
              "#ed7953"
             ],
             [
              0.7777777777777778,
              "#fb9f3a"
             ],
             [
              0.8888888888888888,
              "#fdca26"
             ],
             [
              1,
              "#f0f921"
             ]
            ],
            "type": "surface"
           }
          ],
          "table": [
           {
            "cells": {
             "fill": {
              "color": "#EBF0F8"
             },
             "line": {
              "color": "white"
             }
            },
            "header": {
             "fill": {
              "color": "#C8D4E3"
             },
             "line": {
              "color": "white"
             }
            },
            "type": "table"
           }
          ]
         },
         "layout": {
          "annotationdefaults": {
           "arrowcolor": "#2a3f5f",
           "arrowhead": 0,
           "arrowwidth": 1
          },
          "autotypenumbers": "strict",
          "coloraxis": {
           "colorbar": {
            "outlinewidth": 0,
            "ticks": ""
           }
          },
          "colorscale": {
           "diverging": [
            [
             0,
             "#8e0152"
            ],
            [
             0.1,
             "#c51b7d"
            ],
            [
             0.2,
             "#de77ae"
            ],
            [
             0.3,
             "#f1b6da"
            ],
            [
             0.4,
             "#fde0ef"
            ],
            [
             0.5,
             "#f7f7f7"
            ],
            [
             0.6,
             "#e6f5d0"
            ],
            [
             0.7,
             "#b8e186"
            ],
            [
             0.8,
             "#7fbc41"
            ],
            [
             0.9,
             "#4d9221"
            ],
            [
             1,
             "#276419"
            ]
           ],
           "sequential": [
            [
             0,
             "#0d0887"
            ],
            [
             0.1111111111111111,
             "#46039f"
            ],
            [
             0.2222222222222222,
             "#7201a8"
            ],
            [
             0.3333333333333333,
             "#9c179e"
            ],
            [
             0.4444444444444444,
             "#bd3786"
            ],
            [
             0.5555555555555556,
             "#d8576b"
            ],
            [
             0.6666666666666666,
             "#ed7953"
            ],
            [
             0.7777777777777778,
             "#fb9f3a"
            ],
            [
             0.8888888888888888,
             "#fdca26"
            ],
            [
             1,
             "#f0f921"
            ]
           ],
           "sequentialminus": [
            [
             0,
             "#0d0887"
            ],
            [
             0.1111111111111111,
             "#46039f"
            ],
            [
             0.2222222222222222,
             "#7201a8"
            ],
            [
             0.3333333333333333,
             "#9c179e"
            ],
            [
             0.4444444444444444,
             "#bd3786"
            ],
            [
             0.5555555555555556,
             "#d8576b"
            ],
            [
             0.6666666666666666,
             "#ed7953"
            ],
            [
             0.7777777777777778,
             "#fb9f3a"
            ],
            [
             0.8888888888888888,
             "#fdca26"
            ],
            [
             1,
             "#f0f921"
            ]
           ]
          },
          "colorway": [
           "#636efa",
           "#EF553B",
           "#00cc96",
           "#ab63fa",
           "#FFA15A",
           "#19d3f3",
           "#FF6692",
           "#B6E880",
           "#FF97FF",
           "#FECB52"
          ],
          "font": {
           "color": "#2a3f5f"
          },
          "geo": {
           "bgcolor": "white",
           "lakecolor": "white",
           "landcolor": "white",
           "showlakes": true,
           "showland": true,
           "subunitcolor": "#C8D4E3"
          },
          "hoverlabel": {
           "align": "left"
          },
          "hovermode": "closest",
          "mapbox": {
           "style": "light"
          },
          "paper_bgcolor": "white",
          "plot_bgcolor": "white",
          "polar": {
           "angularaxis": {
            "gridcolor": "#EBF0F8",
            "linecolor": "#EBF0F8",
            "ticks": ""
           },
           "bgcolor": "white",
           "radialaxis": {
            "gridcolor": "#EBF0F8",
            "linecolor": "#EBF0F8",
            "ticks": ""
           }
          },
          "scene": {
           "xaxis": {
            "backgroundcolor": "white",
            "gridcolor": "#DFE8F3",
            "gridwidth": 2,
            "linecolor": "#EBF0F8",
            "showbackground": true,
            "ticks": "",
            "zerolinecolor": "#EBF0F8"
           },
           "yaxis": {
            "backgroundcolor": "white",
            "gridcolor": "#DFE8F3",
            "gridwidth": 2,
            "linecolor": "#EBF0F8",
            "showbackground": true,
            "ticks": "",
            "zerolinecolor": "#EBF0F8"
           },
           "zaxis": {
            "backgroundcolor": "white",
            "gridcolor": "#DFE8F3",
            "gridwidth": 2,
            "linecolor": "#EBF0F8",
            "showbackground": true,
            "ticks": "",
            "zerolinecolor": "#EBF0F8"
           }
          },
          "shapedefaults": {
           "line": {
            "color": "#2a3f5f"
           }
          },
          "ternary": {
           "aaxis": {
            "gridcolor": "#DFE8F3",
            "linecolor": "#A2B1C6",
            "ticks": ""
           },
           "baxis": {
            "gridcolor": "#DFE8F3",
            "linecolor": "#A2B1C6",
            "ticks": ""
           },
           "bgcolor": "white",
           "caxis": {
            "gridcolor": "#DFE8F3",
            "linecolor": "#A2B1C6",
            "ticks": ""
           }
          },
          "title": {
           "x": 0.05
          },
          "xaxis": {
           "automargin": true,
           "gridcolor": "#EBF0F8",
           "linecolor": "#EBF0F8",
           "ticks": "",
           "title": {
            "standoff": 15
           },
           "zerolinecolor": "#EBF0F8",
           "zerolinewidth": 2
          },
          "yaxis": {
           "automargin": true,
           "gridcolor": "#EBF0F8",
           "linecolor": "#EBF0F8",
           "ticks": "",
           "title": {
            "standoff": 15
           },
           "zerolinecolor": "#EBF0F8",
           "zerolinewidth": 2
          }
         }
        },
        "title": {
         "text": "Porcentaje de Nulos para \"mths_since_recent_bc_dlq\" por Vintage"
        },
        "xaxis": {
         "anchor": "y",
         "domain": [
          0,
          1
         ],
         "title": {
          "text": "Vintage"
         }
        },
        "yaxis": {
         "anchor": "x",
         "domain": [
          0,
          1
         ],
         "title": {
          "text": "Null Percentage (%)"
         }
        }
       }
      }
     },
     "metadata": {},
     "output_type": "display_data"
    },
    {
     "data": {
      "application/vnd.plotly.v1+json": {
       "config": {
        "plotlyServerURL": "https://plot.ly"
       },
       "data": [
        {
         "hovertemplate": "Vintage=%{x}<br>Null Percentage (%)=%{y}<extra></extra>",
         "legendgroup": "",
         "line": {
          "color": "#C9C0E0",
          "dash": "solid"
         },
         "marker": {
          "symbol": "circle"
         },
         "mode": "lines+markers",
         "name": "",
         "orientation": "v",
         "showlegend": false,
         "type": "scatter",
         "x": [
          "2007-06-01T00:00:00.000000000",
          "2007-07-01T00:00:00.000000000",
          "2007-08-01T00:00:00.000000000",
          "2007-09-01T00:00:00.000000000",
          "2007-10-01T00:00:00.000000000",
          "2007-11-01T00:00:00.000000000",
          "2007-12-01T00:00:00.000000000",
          "2008-01-01T00:00:00.000000000",
          "2008-02-01T00:00:00.000000000",
          "2008-03-01T00:00:00.000000000",
          "2008-04-01T00:00:00.000000000",
          "2008-05-01T00:00:00.000000000",
          "2008-06-01T00:00:00.000000000",
          "2008-07-01T00:00:00.000000000",
          "2008-08-01T00:00:00.000000000",
          "2008-09-01T00:00:00.000000000",
          "2008-10-01T00:00:00.000000000",
          "2008-11-01T00:00:00.000000000",
          "2008-12-01T00:00:00.000000000",
          "2009-01-01T00:00:00.000000000",
          "2009-02-01T00:00:00.000000000",
          "2009-03-01T00:00:00.000000000",
          "2009-04-01T00:00:00.000000000",
          "2009-05-01T00:00:00.000000000",
          "2009-06-01T00:00:00.000000000",
          "2009-07-01T00:00:00.000000000",
          "2009-08-01T00:00:00.000000000",
          "2009-09-01T00:00:00.000000000",
          "2009-10-01T00:00:00.000000000",
          "2009-11-01T00:00:00.000000000",
          "2009-12-01T00:00:00.000000000",
          "2010-01-01T00:00:00.000000000",
          "2010-02-01T00:00:00.000000000",
          "2010-03-01T00:00:00.000000000",
          "2010-04-01T00:00:00.000000000",
          "2010-05-01T00:00:00.000000000",
          "2010-06-01T00:00:00.000000000",
          "2010-07-01T00:00:00.000000000",
          "2010-08-01T00:00:00.000000000",
          "2010-09-01T00:00:00.000000000",
          "2010-10-01T00:00:00.000000000",
          "2010-11-01T00:00:00.000000000",
          "2010-12-01T00:00:00.000000000",
          "2011-01-01T00:00:00.000000000",
          "2011-02-01T00:00:00.000000000",
          "2011-03-01T00:00:00.000000000",
          "2011-04-01T00:00:00.000000000",
          "2011-05-01T00:00:00.000000000",
          "2011-06-01T00:00:00.000000000",
          "2011-07-01T00:00:00.000000000",
          "2011-08-01T00:00:00.000000000",
          "2011-09-01T00:00:00.000000000",
          "2011-10-01T00:00:00.000000000",
          "2011-11-01T00:00:00.000000000",
          "2011-12-01T00:00:00.000000000",
          "2012-01-01T00:00:00.000000000",
          "2012-02-01T00:00:00.000000000",
          "2012-03-01T00:00:00.000000000",
          "2012-04-01T00:00:00.000000000",
          "2012-05-01T00:00:00.000000000",
          "2012-06-01T00:00:00.000000000",
          "2012-07-01T00:00:00.000000000",
          "2012-08-01T00:00:00.000000000",
          "2012-09-01T00:00:00.000000000",
          "2012-10-01T00:00:00.000000000",
          "2012-11-01T00:00:00.000000000",
          "2012-12-01T00:00:00.000000000",
          "2013-01-01T00:00:00.000000000",
          "2013-02-01T00:00:00.000000000",
          "2013-03-01T00:00:00.000000000",
          "2013-04-01T00:00:00.000000000",
          "2013-05-01T00:00:00.000000000",
          "2013-06-01T00:00:00.000000000",
          "2013-07-01T00:00:00.000000000",
          "2013-08-01T00:00:00.000000000",
          "2013-09-01T00:00:00.000000000",
          "2013-10-01T00:00:00.000000000",
          "2013-11-01T00:00:00.000000000",
          "2013-12-01T00:00:00.000000000",
          "2014-01-01T00:00:00.000000000",
          "2014-02-01T00:00:00.000000000",
          "2014-03-01T00:00:00.000000000",
          "2014-04-01T00:00:00.000000000",
          "2014-05-01T00:00:00.000000000",
          "2014-06-01T00:00:00.000000000",
          "2014-07-01T00:00:00.000000000",
          "2014-08-01T00:00:00.000000000",
          "2014-09-01T00:00:00.000000000",
          "2014-10-01T00:00:00.000000000",
          "2014-11-01T00:00:00.000000000",
          "2014-12-01T00:00:00.000000000",
          "2015-01-01T00:00:00.000000000",
          "2015-02-01T00:00:00.000000000",
          "2015-03-01T00:00:00.000000000",
          "2015-04-01T00:00:00.000000000",
          "2015-05-01T00:00:00.000000000",
          "2015-06-01T00:00:00.000000000",
          "2015-07-01T00:00:00.000000000",
          "2015-08-01T00:00:00.000000000",
          "2015-09-01T00:00:00.000000000",
          "2015-10-01T00:00:00.000000000",
          "2015-11-01T00:00:00.000000000",
          "2015-12-01T00:00:00.000000000",
          "2016-01-01T00:00:00.000000000",
          "2016-02-01T00:00:00.000000000",
          "2016-03-01T00:00:00.000000000",
          "2016-04-01T00:00:00.000000000",
          "2016-05-01T00:00:00.000000000",
          "2016-06-01T00:00:00.000000000",
          "2016-07-01T00:00:00.000000000",
          "2016-08-01T00:00:00.000000000",
          "2016-09-01T00:00:00.000000000",
          "2016-10-01T00:00:00.000000000",
          "2016-11-01T00:00:00.000000000",
          "2016-12-01T00:00:00.000000000",
          "2017-01-01T00:00:00.000000000",
          "2017-02-01T00:00:00.000000000",
          "2017-03-01T00:00:00.000000000",
          "2017-04-01T00:00:00.000000000",
          "2017-05-01T00:00:00.000000000",
          "2017-06-01T00:00:00.000000000",
          "2017-07-01T00:00:00.000000000",
          "2017-08-01T00:00:00.000000000",
          "2017-09-01T00:00:00.000000000",
          "2017-10-01T00:00:00.000000000",
          "2017-11-01T00:00:00.000000000",
          "2017-12-01T00:00:00.000000000",
          "2018-01-01T00:00:00.000000000",
          "2018-02-01T00:00:00.000000000",
          "2018-03-01T00:00:00.000000000",
          "2018-04-01T00:00:00.000000000",
          "2018-05-01T00:00:00.000000000",
          "2018-06-01T00:00:00.000000000",
          "2018-07-01T00:00:00.000000000",
          "2018-08-01T00:00:00.000000000",
          "2018-09-01T00:00:00.000000000",
          "2018-10-01T00:00:00.000000000",
          "2018-11-01T00:00:00.000000000",
          "2018-12-01T00:00:00.000000000"
         ],
         "xaxis": "x",
         "y": {
          "bdata": "AAAAAAAAWUAAAAAAAABZQAAAAAAAAFlAAAAAAAAAWUAAAAAAAABZQAAAAAAAAFlAAAAAAAAAWUAAAAAAAABZQAAAAAAAAFlAAAAAAAAAWUAAAAAAAABZQAAAAAAAAFlAAAAAAAAAWUAAAAAAAABZQAAAAAAAAFlAAAAAAAAAWUAAAAAAAABZQAAAAAAAAFlAAAAAAAAAWUAAAAAAAABZQAAAAAAAAFlAAAAAAAAAWUAAAAAAAABZQAAAAAAAAFlAAAAAAAAAWUAAAAAAAABZQAAAAAAAAFlAAAAAAAAAWUAAAAAAAABZQAAAAAAAAFlAAAAAAAAAWUAAAAAAAABZQAAAAAAAAFlAAAAAAAAAWUAAAAAAAABZQAAAAAAAAFlAAAAAAAAAWUAAAAAAAABZQAAAAAAAAFlAAAAAAAAAWUAAAAAAAABZQAAAAAAAAFlAAAAAAAAAWUAAAAAAAABZQAAAAAAAAFlAAAAAAAAAWUAAAAAAAABZQAAAAAAAAFlAAAAAAAAAWUAAAAAAAABZQAAAAAAAAFlAAAAAAAAAWUAAAAAAAABZQAAAAAAAAFlAAAAAAAAAWUAAAAAAAABZQAAAAAAAAFlAAAAAAAAAWUAAAAAAAABZQAAAAAAAAFlAAAAAAAAAWUAAAAAAAABZQNRWdiU1UVhA9XTFDy9XVUCQXSlU8/lUQFX14mXGIVNA29OCQsxsUUD2BYTf1j1UQCag1hXjJVVAolfw2W2CVEAISWPRuFBUQMdxHMdxHFRA6LtAVC/7U0AJI1vo4RNUQGz+5ipayFNAUu7y1BflU0BjjNN6WrFTQC1kIQtZoFNAOpf/lcFaU0A0r19mMgFSQN5uO/602lFACtjvnj2DUUDokm+8EKlRQORBP+TcAFJAkRdDY1YZUkCjsNPf8c9RQEHHjNX9alJAj10NSy9iUkA67kz5bZtRQH0VfcuYolFAGMkOlR6HUkCcRRtJZrVRQCTl83/N0VFAGkyFtJKJUUCX/hYxyYxRQHXl9jpdmFFAk3MwCHOpUUDjM4sxY4FRQMsOeLmlflFAw0dlT7ziUUCBNqCBaY5RQGlsTHjihlFAL1E49ix7UUCizyh1rJ5RQI7MLj2V2lFAJfz49NvZUUAqBIOyT95RQIhgO/p5nVFA2z8ap+/pUUCTUwVpFGlRQOT2694NjVFAgh5lTSiCUUCeNGY0EqVRQIQwbA3jPFFAO2S7Z25xUUAKv58BXOZRQC68I8beAlJAyZ5qlKv4UUDZvCJSrDRSQKq0loQl51FAxo0Mldv2UUB2IbH/GbVRQDnN1+rZzVFAWjoDteE1UkAbVtOPk3RSQDNsCt/yoFJAqdbWDSCsUkBYORcurtlSQAc8z7mk+FJAFOBGlS/6UkCDrsyI4dlSQCOVr2SwwVJAVBlB7y8NU0BWoWhx7sVSQMRywNUcTlNAOUuIOlomU0DQF/QFfUFTQDc3Nzc351JA+pZv+ZZPU0A=",
          "dtype": "f8"
         },
         "yaxis": "y"
        }
       ],
       "layout": {
        "legend": {
         "tracegroupgap": 0
        },
        "template": {
         "data": {
          "bar": [
           {
            "error_x": {
             "color": "#2a3f5f"
            },
            "error_y": {
             "color": "#2a3f5f"
            },
            "marker": {
             "line": {
              "color": "white",
              "width": 0.5
             },
             "pattern": {
              "fillmode": "overlay",
              "size": 10,
              "solidity": 0.2
             }
            },
            "type": "bar"
           }
          ],
          "barpolar": [
           {
            "marker": {
             "line": {
              "color": "white",
              "width": 0.5
             },
             "pattern": {
              "fillmode": "overlay",
              "size": 10,
              "solidity": 0.2
             }
            },
            "type": "barpolar"
           }
          ],
          "carpet": [
           {
            "aaxis": {
             "endlinecolor": "#2a3f5f",
             "gridcolor": "#C8D4E3",
             "linecolor": "#C8D4E3",
             "minorgridcolor": "#C8D4E3",
             "startlinecolor": "#2a3f5f"
            },
            "baxis": {
             "endlinecolor": "#2a3f5f",
             "gridcolor": "#C8D4E3",
             "linecolor": "#C8D4E3",
             "minorgridcolor": "#C8D4E3",
             "startlinecolor": "#2a3f5f"
            },
            "type": "carpet"
           }
          ],
          "choropleth": [
           {
            "colorbar": {
             "outlinewidth": 0,
             "ticks": ""
            },
            "type": "choropleth"
           }
          ],
          "contour": [
           {
            "colorbar": {
             "outlinewidth": 0,
             "ticks": ""
            },
            "colorscale": [
             [
              0,
              "#0d0887"
             ],
             [
              0.1111111111111111,
              "#46039f"
             ],
             [
              0.2222222222222222,
              "#7201a8"
             ],
             [
              0.3333333333333333,
              "#9c179e"
             ],
             [
              0.4444444444444444,
              "#bd3786"
             ],
             [
              0.5555555555555556,
              "#d8576b"
             ],
             [
              0.6666666666666666,
              "#ed7953"
             ],
             [
              0.7777777777777778,
              "#fb9f3a"
             ],
             [
              0.8888888888888888,
              "#fdca26"
             ],
             [
              1,
              "#f0f921"
             ]
            ],
            "type": "contour"
           }
          ],
          "contourcarpet": [
           {
            "colorbar": {
             "outlinewidth": 0,
             "ticks": ""
            },
            "type": "contourcarpet"
           }
          ],
          "heatmap": [
           {
            "colorbar": {
             "outlinewidth": 0,
             "ticks": ""
            },
            "colorscale": [
             [
              0,
              "#0d0887"
             ],
             [
              0.1111111111111111,
              "#46039f"
             ],
             [
              0.2222222222222222,
              "#7201a8"
             ],
             [
              0.3333333333333333,
              "#9c179e"
             ],
             [
              0.4444444444444444,
              "#bd3786"
             ],
             [
              0.5555555555555556,
              "#d8576b"
             ],
             [
              0.6666666666666666,
              "#ed7953"
             ],
             [
              0.7777777777777778,
              "#fb9f3a"
             ],
             [
              0.8888888888888888,
              "#fdca26"
             ],
             [
              1,
              "#f0f921"
             ]
            ],
            "type": "heatmap"
           }
          ],
          "histogram": [
           {
            "marker": {
             "pattern": {
              "fillmode": "overlay",
              "size": 10,
              "solidity": 0.2
             }
            },
            "type": "histogram"
           }
          ],
          "histogram2d": [
           {
            "colorbar": {
             "outlinewidth": 0,
             "ticks": ""
            },
            "colorscale": [
             [
              0,
              "#0d0887"
             ],
             [
              0.1111111111111111,
              "#46039f"
             ],
             [
              0.2222222222222222,
              "#7201a8"
             ],
             [
              0.3333333333333333,
              "#9c179e"
             ],
             [
              0.4444444444444444,
              "#bd3786"
             ],
             [
              0.5555555555555556,
              "#d8576b"
             ],
             [
              0.6666666666666666,
              "#ed7953"
             ],
             [
              0.7777777777777778,
              "#fb9f3a"
             ],
             [
              0.8888888888888888,
              "#fdca26"
             ],
             [
              1,
              "#f0f921"
             ]
            ],
            "type": "histogram2d"
           }
          ],
          "histogram2dcontour": [
           {
            "colorbar": {
             "outlinewidth": 0,
             "ticks": ""
            },
            "colorscale": [
             [
              0,
              "#0d0887"
             ],
             [
              0.1111111111111111,
              "#46039f"
             ],
             [
              0.2222222222222222,
              "#7201a8"
             ],
             [
              0.3333333333333333,
              "#9c179e"
             ],
             [
              0.4444444444444444,
              "#bd3786"
             ],
             [
              0.5555555555555556,
              "#d8576b"
             ],
             [
              0.6666666666666666,
              "#ed7953"
             ],
             [
              0.7777777777777778,
              "#fb9f3a"
             ],
             [
              0.8888888888888888,
              "#fdca26"
             ],
             [
              1,
              "#f0f921"
             ]
            ],
            "type": "histogram2dcontour"
           }
          ],
          "mesh3d": [
           {
            "colorbar": {
             "outlinewidth": 0,
             "ticks": ""
            },
            "type": "mesh3d"
           }
          ],
          "parcoords": [
           {
            "line": {
             "colorbar": {
              "outlinewidth": 0,
              "ticks": ""
             }
            },
            "type": "parcoords"
           }
          ],
          "pie": [
           {
            "automargin": true,
            "type": "pie"
           }
          ],
          "scatter": [
           {
            "fillpattern": {
             "fillmode": "overlay",
             "size": 10,
             "solidity": 0.2
            },
            "type": "scatter"
           }
          ],
          "scatter3d": [
           {
            "line": {
             "colorbar": {
              "outlinewidth": 0,
              "ticks": ""
             }
            },
            "marker": {
             "colorbar": {
              "outlinewidth": 0,
              "ticks": ""
             }
            },
            "type": "scatter3d"
           }
          ],
          "scattercarpet": [
           {
            "marker": {
             "colorbar": {
              "outlinewidth": 0,
              "ticks": ""
             }
            },
            "type": "scattercarpet"
           }
          ],
          "scattergeo": [
           {
            "marker": {
             "colorbar": {
              "outlinewidth": 0,
              "ticks": ""
             }
            },
            "type": "scattergeo"
           }
          ],
          "scattergl": [
           {
            "marker": {
             "colorbar": {
              "outlinewidth": 0,
              "ticks": ""
             }
            },
            "type": "scattergl"
           }
          ],
          "scattermap": [
           {
            "marker": {
             "colorbar": {
              "outlinewidth": 0,
              "ticks": ""
             }
            },
            "type": "scattermap"
           }
          ],
          "scattermapbox": [
           {
            "marker": {
             "colorbar": {
              "outlinewidth": 0,
              "ticks": ""
             }
            },
            "type": "scattermapbox"
           }
          ],
          "scatterpolar": [
           {
            "marker": {
             "colorbar": {
              "outlinewidth": 0,
              "ticks": ""
             }
            },
            "type": "scatterpolar"
           }
          ],
          "scatterpolargl": [
           {
            "marker": {
             "colorbar": {
              "outlinewidth": 0,
              "ticks": ""
             }
            },
            "type": "scatterpolargl"
           }
          ],
          "scatterternary": [
           {
            "marker": {
             "colorbar": {
              "outlinewidth": 0,
              "ticks": ""
             }
            },
            "type": "scatterternary"
           }
          ],
          "surface": [
           {
            "colorbar": {
             "outlinewidth": 0,
             "ticks": ""
            },
            "colorscale": [
             [
              0,
              "#0d0887"
             ],
             [
              0.1111111111111111,
              "#46039f"
             ],
             [
              0.2222222222222222,
              "#7201a8"
             ],
             [
              0.3333333333333333,
              "#9c179e"
             ],
             [
              0.4444444444444444,
              "#bd3786"
             ],
             [
              0.5555555555555556,
              "#d8576b"
             ],
             [
              0.6666666666666666,
              "#ed7953"
             ],
             [
              0.7777777777777778,
              "#fb9f3a"
             ],
             [
              0.8888888888888888,
              "#fdca26"
             ],
             [
              1,
              "#f0f921"
             ]
            ],
            "type": "surface"
           }
          ],
          "table": [
           {
            "cells": {
             "fill": {
              "color": "#EBF0F8"
             },
             "line": {
              "color": "white"
             }
            },
            "header": {
             "fill": {
              "color": "#C8D4E3"
             },
             "line": {
              "color": "white"
             }
            },
            "type": "table"
           }
          ]
         },
         "layout": {
          "annotationdefaults": {
           "arrowcolor": "#2a3f5f",
           "arrowhead": 0,
           "arrowwidth": 1
          },
          "autotypenumbers": "strict",
          "coloraxis": {
           "colorbar": {
            "outlinewidth": 0,
            "ticks": ""
           }
          },
          "colorscale": {
           "diverging": [
            [
             0,
             "#8e0152"
            ],
            [
             0.1,
             "#c51b7d"
            ],
            [
             0.2,
             "#de77ae"
            ],
            [
             0.3,
             "#f1b6da"
            ],
            [
             0.4,
             "#fde0ef"
            ],
            [
             0.5,
             "#f7f7f7"
            ],
            [
             0.6,
             "#e6f5d0"
            ],
            [
             0.7,
             "#b8e186"
            ],
            [
             0.8,
             "#7fbc41"
            ],
            [
             0.9,
             "#4d9221"
            ],
            [
             1,
             "#276419"
            ]
           ],
           "sequential": [
            [
             0,
             "#0d0887"
            ],
            [
             0.1111111111111111,
             "#46039f"
            ],
            [
             0.2222222222222222,
             "#7201a8"
            ],
            [
             0.3333333333333333,
             "#9c179e"
            ],
            [
             0.4444444444444444,
             "#bd3786"
            ],
            [
             0.5555555555555556,
             "#d8576b"
            ],
            [
             0.6666666666666666,
             "#ed7953"
            ],
            [
             0.7777777777777778,
             "#fb9f3a"
            ],
            [
             0.8888888888888888,
             "#fdca26"
            ],
            [
             1,
             "#f0f921"
            ]
           ],
           "sequentialminus": [
            [
             0,
             "#0d0887"
            ],
            [
             0.1111111111111111,
             "#46039f"
            ],
            [
             0.2222222222222222,
             "#7201a8"
            ],
            [
             0.3333333333333333,
             "#9c179e"
            ],
            [
             0.4444444444444444,
             "#bd3786"
            ],
            [
             0.5555555555555556,
             "#d8576b"
            ],
            [
             0.6666666666666666,
             "#ed7953"
            ],
            [
             0.7777777777777778,
             "#fb9f3a"
            ],
            [
             0.8888888888888888,
             "#fdca26"
            ],
            [
             1,
             "#f0f921"
            ]
           ]
          },
          "colorway": [
           "#636efa",
           "#EF553B",
           "#00cc96",
           "#ab63fa",
           "#FFA15A",
           "#19d3f3",
           "#FF6692",
           "#B6E880",
           "#FF97FF",
           "#FECB52"
          ],
          "font": {
           "color": "#2a3f5f"
          },
          "geo": {
           "bgcolor": "white",
           "lakecolor": "white",
           "landcolor": "white",
           "showlakes": true,
           "showland": true,
           "subunitcolor": "#C8D4E3"
          },
          "hoverlabel": {
           "align": "left"
          },
          "hovermode": "closest",
          "mapbox": {
           "style": "light"
          },
          "paper_bgcolor": "white",
          "plot_bgcolor": "white",
          "polar": {
           "angularaxis": {
            "gridcolor": "#EBF0F8",
            "linecolor": "#EBF0F8",
            "ticks": ""
           },
           "bgcolor": "white",
           "radialaxis": {
            "gridcolor": "#EBF0F8",
            "linecolor": "#EBF0F8",
            "ticks": ""
           }
          },
          "scene": {
           "xaxis": {
            "backgroundcolor": "white",
            "gridcolor": "#DFE8F3",
            "gridwidth": 2,
            "linecolor": "#EBF0F8",
            "showbackground": true,
            "ticks": "",
            "zerolinecolor": "#EBF0F8"
           },
           "yaxis": {
            "backgroundcolor": "white",
            "gridcolor": "#DFE8F3",
            "gridwidth": 2,
            "linecolor": "#EBF0F8",
            "showbackground": true,
            "ticks": "",
            "zerolinecolor": "#EBF0F8"
           },
           "zaxis": {
            "backgroundcolor": "white",
            "gridcolor": "#DFE8F3",
            "gridwidth": 2,
            "linecolor": "#EBF0F8",
            "showbackground": true,
            "ticks": "",
            "zerolinecolor": "#EBF0F8"
           }
          },
          "shapedefaults": {
           "line": {
            "color": "#2a3f5f"
           }
          },
          "ternary": {
           "aaxis": {
            "gridcolor": "#DFE8F3",
            "linecolor": "#A2B1C6",
            "ticks": ""
           },
           "baxis": {
            "gridcolor": "#DFE8F3",
            "linecolor": "#A2B1C6",
            "ticks": ""
           },
           "bgcolor": "white",
           "caxis": {
            "gridcolor": "#DFE8F3",
            "linecolor": "#A2B1C6",
            "ticks": ""
           }
          },
          "title": {
           "x": 0.05
          },
          "xaxis": {
           "automargin": true,
           "gridcolor": "#EBF0F8",
           "linecolor": "#EBF0F8",
           "ticks": "",
           "title": {
            "standoff": 15
           },
           "zerolinecolor": "#EBF0F8",
           "zerolinewidth": 2
          },
          "yaxis": {
           "automargin": true,
           "gridcolor": "#EBF0F8",
           "linecolor": "#EBF0F8",
           "ticks": "",
           "title": {
            "standoff": 15
           },
           "zerolinecolor": "#EBF0F8",
           "zerolinewidth": 2
          }
         }
        },
        "title": {
         "text": "Porcentaje de Nulos para \"mths_since_last_major_derog\" por Vintage"
        },
        "xaxis": {
         "anchor": "y",
         "domain": [
          0,
          1
         ],
         "title": {
          "text": "Vintage"
         }
        },
        "yaxis": {
         "anchor": "x",
         "domain": [
          0,
          1
         ],
         "title": {
          "text": "Null Percentage (%)"
         }
        }
       }
      }
     },
     "metadata": {},
     "output_type": "display_data"
    },
    {
     "data": {
      "application/vnd.plotly.v1+json": {
       "config": {
        "plotlyServerURL": "https://plot.ly"
       },
       "data": [
        {
         "hovertemplate": "Vintage=%{x}<br>Null Percentage (%)=%{y}<extra></extra>",
         "legendgroup": "",
         "line": {
          "color": "#C9C0E0",
          "dash": "solid"
         },
         "marker": {
          "symbol": "circle"
         },
         "mode": "lines+markers",
         "name": "",
         "orientation": "v",
         "showlegend": false,
         "type": "scatter",
         "x": [
          "2007-06-01T00:00:00.000000000",
          "2007-07-01T00:00:00.000000000",
          "2007-08-01T00:00:00.000000000",
          "2007-09-01T00:00:00.000000000",
          "2007-10-01T00:00:00.000000000",
          "2007-11-01T00:00:00.000000000",
          "2007-12-01T00:00:00.000000000",
          "2008-01-01T00:00:00.000000000",
          "2008-02-01T00:00:00.000000000",
          "2008-03-01T00:00:00.000000000",
          "2008-04-01T00:00:00.000000000",
          "2008-05-01T00:00:00.000000000",
          "2008-06-01T00:00:00.000000000",
          "2008-07-01T00:00:00.000000000",
          "2008-08-01T00:00:00.000000000",
          "2008-09-01T00:00:00.000000000",
          "2008-10-01T00:00:00.000000000",
          "2008-11-01T00:00:00.000000000",
          "2008-12-01T00:00:00.000000000",
          "2009-01-01T00:00:00.000000000",
          "2009-02-01T00:00:00.000000000",
          "2009-03-01T00:00:00.000000000",
          "2009-04-01T00:00:00.000000000",
          "2009-05-01T00:00:00.000000000",
          "2009-06-01T00:00:00.000000000",
          "2009-07-01T00:00:00.000000000",
          "2009-08-01T00:00:00.000000000",
          "2009-09-01T00:00:00.000000000",
          "2009-10-01T00:00:00.000000000",
          "2009-11-01T00:00:00.000000000",
          "2009-12-01T00:00:00.000000000",
          "2010-01-01T00:00:00.000000000",
          "2010-02-01T00:00:00.000000000",
          "2010-03-01T00:00:00.000000000",
          "2010-04-01T00:00:00.000000000",
          "2010-05-01T00:00:00.000000000",
          "2010-06-01T00:00:00.000000000",
          "2010-07-01T00:00:00.000000000",
          "2010-08-01T00:00:00.000000000",
          "2010-09-01T00:00:00.000000000",
          "2010-10-01T00:00:00.000000000",
          "2010-11-01T00:00:00.000000000",
          "2010-12-01T00:00:00.000000000",
          "2011-01-01T00:00:00.000000000",
          "2011-02-01T00:00:00.000000000",
          "2011-03-01T00:00:00.000000000",
          "2011-04-01T00:00:00.000000000",
          "2011-05-01T00:00:00.000000000",
          "2011-06-01T00:00:00.000000000",
          "2011-07-01T00:00:00.000000000",
          "2011-08-01T00:00:00.000000000",
          "2011-09-01T00:00:00.000000000",
          "2011-10-01T00:00:00.000000000",
          "2011-11-01T00:00:00.000000000",
          "2011-12-01T00:00:00.000000000",
          "2012-01-01T00:00:00.000000000",
          "2012-02-01T00:00:00.000000000",
          "2012-03-01T00:00:00.000000000",
          "2012-04-01T00:00:00.000000000",
          "2012-05-01T00:00:00.000000000",
          "2012-06-01T00:00:00.000000000",
          "2012-07-01T00:00:00.000000000",
          "2012-08-01T00:00:00.000000000",
          "2012-09-01T00:00:00.000000000",
          "2012-10-01T00:00:00.000000000",
          "2012-11-01T00:00:00.000000000",
          "2012-12-01T00:00:00.000000000",
          "2013-01-01T00:00:00.000000000",
          "2013-02-01T00:00:00.000000000",
          "2013-03-01T00:00:00.000000000",
          "2013-04-01T00:00:00.000000000",
          "2013-05-01T00:00:00.000000000",
          "2013-06-01T00:00:00.000000000",
          "2013-07-01T00:00:00.000000000",
          "2013-08-01T00:00:00.000000000",
          "2013-09-01T00:00:00.000000000",
          "2013-10-01T00:00:00.000000000",
          "2013-11-01T00:00:00.000000000",
          "2013-12-01T00:00:00.000000000",
          "2014-01-01T00:00:00.000000000",
          "2014-02-01T00:00:00.000000000",
          "2014-03-01T00:00:00.000000000",
          "2014-04-01T00:00:00.000000000",
          "2014-05-01T00:00:00.000000000",
          "2014-06-01T00:00:00.000000000",
          "2014-07-01T00:00:00.000000000",
          "2014-08-01T00:00:00.000000000",
          "2014-09-01T00:00:00.000000000",
          "2014-10-01T00:00:00.000000000",
          "2014-11-01T00:00:00.000000000",
          "2014-12-01T00:00:00.000000000",
          "2015-01-01T00:00:00.000000000",
          "2015-02-01T00:00:00.000000000",
          "2015-03-01T00:00:00.000000000",
          "2015-04-01T00:00:00.000000000",
          "2015-05-01T00:00:00.000000000",
          "2015-06-01T00:00:00.000000000",
          "2015-07-01T00:00:00.000000000",
          "2015-08-01T00:00:00.000000000",
          "2015-09-01T00:00:00.000000000",
          "2015-10-01T00:00:00.000000000",
          "2015-11-01T00:00:00.000000000",
          "2015-12-01T00:00:00.000000000",
          "2016-01-01T00:00:00.000000000",
          "2016-02-01T00:00:00.000000000",
          "2016-03-01T00:00:00.000000000",
          "2016-04-01T00:00:00.000000000",
          "2016-05-01T00:00:00.000000000",
          "2016-06-01T00:00:00.000000000",
          "2016-07-01T00:00:00.000000000",
          "2016-08-01T00:00:00.000000000",
          "2016-09-01T00:00:00.000000000",
          "2016-10-01T00:00:00.000000000",
          "2016-11-01T00:00:00.000000000",
          "2016-12-01T00:00:00.000000000",
          "2017-01-01T00:00:00.000000000",
          "2017-02-01T00:00:00.000000000",
          "2017-03-01T00:00:00.000000000",
          "2017-04-01T00:00:00.000000000",
          "2017-05-01T00:00:00.000000000",
          "2017-06-01T00:00:00.000000000",
          "2017-07-01T00:00:00.000000000",
          "2017-08-01T00:00:00.000000000",
          "2017-09-01T00:00:00.000000000",
          "2017-10-01T00:00:00.000000000",
          "2017-11-01T00:00:00.000000000",
          "2017-12-01T00:00:00.000000000",
          "2018-01-01T00:00:00.000000000",
          "2018-02-01T00:00:00.000000000",
          "2018-03-01T00:00:00.000000000",
          "2018-04-01T00:00:00.000000000",
          "2018-05-01T00:00:00.000000000",
          "2018-06-01T00:00:00.000000000",
          "2018-07-01T00:00:00.000000000",
          "2018-08-01T00:00:00.000000000",
          "2018-09-01T00:00:00.000000000",
          "2018-10-01T00:00:00.000000000",
          "2018-11-01T00:00:00.000000000",
          "2018-12-01T00:00:00.000000000"
         ],
         "xaxis": "x",
         "y": {
          "bdata": "AAAAAAAAWUAAAAAAAABZQAAAAAAAAFlAAAAAAAAAWUAAAAAAAABZQAAAAAAAAFlAAAAAAAAAWUAAAAAAAABZQAAAAAAAAFlAAAAAAAAAWUAAAAAAAABZQAAAAAAAAFlAAAAAAAAAWUAAAAAAAABZQAAAAAAAAFlAAAAAAAAAWUAAAAAAAABZQAAAAAAAAFlAAAAAAAAAWUAAAAAAAABZQAAAAAAAAFlAAAAAAAAAWUAAAAAAAABZQAAAAAAAAFlAAAAAAAAAWUAAAAAAAABZQAAAAAAAAFlAAAAAAAAAWUAAAAAAAABZQAAAAAAAAFlAAAAAAAAAWUAAAAAAAABZQAAAAAAAAFlAAAAAAAAAWUAAAAAAAABZQAAAAAAAAFlAAAAAAAAAWUAAAAAAAABZQAAAAAAAAFlAAAAAAAAAWUAAAAAAAABZQAAAAAAAAFlAAAAAAAAAWUAAAAAAAABZQAAAAAAAAFlAAAAAAAAAWUAAAAAAAABZQAAAAAAAAFlAAAAAAAAAWUAAAAAAAABZQAAAAAAAAFlAAAAAAAAAWUAAAAAAAABZQAAAAAAAAFlAAAAAAAAAWUAAAAAAAABZQAAAAAAAAFlAYODz1ITMV0DUZz+Q7jFTQA8PDw8PL1NAvTjiW7a5UkD5IT6P8YZSQAqizr4rJlJAkrad1mfNUkCfIhcGrQFSQIUb37VD7E5AiO7m0N0cSkBShAxi1XxRQJiaWixSHVNAXLK8zrcMUkAhVv3llvBRQPTVPdLK5FFAWGRw1RuFUUCiK8NsiqRRQEPFLVM1WFFAj6i7cOuIUUDG1oycj+VQQKc3velN9VBAieIvcobFUEDM1zVqJ7JPQCfVnNnH+k9A+Kb/KrC8T0DcDXZvOs1PQEv8OlNSclBAeSkV/4A6UEA0pCFUmfdPQCbznKX5W1BAz6895LJiUEBDZGK3SoxPQB+hq4WBRU9AS5Rif+0iUEBGBbezD8tPQOfXt/ieFVBAzZMzvAKpT0CcltRdTs5PQA8rpbyt5U9AqAKUrAWCT0CSFaH4NeVPQFZtKR5FzU9AX2qJHlxNUECpOteCW+lPQFO7VH8sDlBAx6TYTe7TT0Dowjzcmr5PQMSZ3o1WAlBAPWsMKgpBUEAny5V5VSpQQMY4LK6IIVBAq23Z5VyyT0B0xfVuosZPQOeHTMkZ109AsWTZTRKjT0A+JhRZBd9PQJHFKyQly09A5NwE0Mq8T0CTtqLuO01QQAviZZyxYFBAnZ9DI+leUEB8AYyeQ3VQQAJ/xcxfPFBA+vyzKpNLUED94rodsztQQBvLoFSYFlBA7iOlzsfZUEBzgMlM5FxRQNDXoGjXf1FAFX4cYGKLUUAziQAFhKVRQIOj2LESzVFAlRSHzQ6ZUUC77/miZq5RQBXi4Ok6ZlFAPoyO8ZKuUUCXFQMlvFFRQF41mBYVelFA1NEymdotUUChL+gL+oJRQGRkZGRk5FFALt/yLd/yUUA=",
          "dtype": "f8"
         },
         "yaxis": "y"
        }
       ],
       "layout": {
        "legend": {
         "tracegroupgap": 0
        },
        "template": {
         "data": {
          "bar": [
           {
            "error_x": {
             "color": "#2a3f5f"
            },
            "error_y": {
             "color": "#2a3f5f"
            },
            "marker": {
             "line": {
              "color": "white",
              "width": 0.5
             },
             "pattern": {
              "fillmode": "overlay",
              "size": 10,
              "solidity": 0.2
             }
            },
            "type": "bar"
           }
          ],
          "barpolar": [
           {
            "marker": {
             "line": {
              "color": "white",
              "width": 0.5
             },
             "pattern": {
              "fillmode": "overlay",
              "size": 10,
              "solidity": 0.2
             }
            },
            "type": "barpolar"
           }
          ],
          "carpet": [
           {
            "aaxis": {
             "endlinecolor": "#2a3f5f",
             "gridcolor": "#C8D4E3",
             "linecolor": "#C8D4E3",
             "minorgridcolor": "#C8D4E3",
             "startlinecolor": "#2a3f5f"
            },
            "baxis": {
             "endlinecolor": "#2a3f5f",
             "gridcolor": "#C8D4E3",
             "linecolor": "#C8D4E3",
             "minorgridcolor": "#C8D4E3",
             "startlinecolor": "#2a3f5f"
            },
            "type": "carpet"
           }
          ],
          "choropleth": [
           {
            "colorbar": {
             "outlinewidth": 0,
             "ticks": ""
            },
            "type": "choropleth"
           }
          ],
          "contour": [
           {
            "colorbar": {
             "outlinewidth": 0,
             "ticks": ""
            },
            "colorscale": [
             [
              0,
              "#0d0887"
             ],
             [
              0.1111111111111111,
              "#46039f"
             ],
             [
              0.2222222222222222,
              "#7201a8"
             ],
             [
              0.3333333333333333,
              "#9c179e"
             ],
             [
              0.4444444444444444,
              "#bd3786"
             ],
             [
              0.5555555555555556,
              "#d8576b"
             ],
             [
              0.6666666666666666,
              "#ed7953"
             ],
             [
              0.7777777777777778,
              "#fb9f3a"
             ],
             [
              0.8888888888888888,
              "#fdca26"
             ],
             [
              1,
              "#f0f921"
             ]
            ],
            "type": "contour"
           }
          ],
          "contourcarpet": [
           {
            "colorbar": {
             "outlinewidth": 0,
             "ticks": ""
            },
            "type": "contourcarpet"
           }
          ],
          "heatmap": [
           {
            "colorbar": {
             "outlinewidth": 0,
             "ticks": ""
            },
            "colorscale": [
             [
              0,
              "#0d0887"
             ],
             [
              0.1111111111111111,
              "#46039f"
             ],
             [
              0.2222222222222222,
              "#7201a8"
             ],
             [
              0.3333333333333333,
              "#9c179e"
             ],
             [
              0.4444444444444444,
              "#bd3786"
             ],
             [
              0.5555555555555556,
              "#d8576b"
             ],
             [
              0.6666666666666666,
              "#ed7953"
             ],
             [
              0.7777777777777778,
              "#fb9f3a"
             ],
             [
              0.8888888888888888,
              "#fdca26"
             ],
             [
              1,
              "#f0f921"
             ]
            ],
            "type": "heatmap"
           }
          ],
          "histogram": [
           {
            "marker": {
             "pattern": {
              "fillmode": "overlay",
              "size": 10,
              "solidity": 0.2
             }
            },
            "type": "histogram"
           }
          ],
          "histogram2d": [
           {
            "colorbar": {
             "outlinewidth": 0,
             "ticks": ""
            },
            "colorscale": [
             [
              0,
              "#0d0887"
             ],
             [
              0.1111111111111111,
              "#46039f"
             ],
             [
              0.2222222222222222,
              "#7201a8"
             ],
             [
              0.3333333333333333,
              "#9c179e"
             ],
             [
              0.4444444444444444,
              "#bd3786"
             ],
             [
              0.5555555555555556,
              "#d8576b"
             ],
             [
              0.6666666666666666,
              "#ed7953"
             ],
             [
              0.7777777777777778,
              "#fb9f3a"
             ],
             [
              0.8888888888888888,
              "#fdca26"
             ],
             [
              1,
              "#f0f921"
             ]
            ],
            "type": "histogram2d"
           }
          ],
          "histogram2dcontour": [
           {
            "colorbar": {
             "outlinewidth": 0,
             "ticks": ""
            },
            "colorscale": [
             [
              0,
              "#0d0887"
             ],
             [
              0.1111111111111111,
              "#46039f"
             ],
             [
              0.2222222222222222,
              "#7201a8"
             ],
             [
              0.3333333333333333,
              "#9c179e"
             ],
             [
              0.4444444444444444,
              "#bd3786"
             ],
             [
              0.5555555555555556,
              "#d8576b"
             ],
             [
              0.6666666666666666,
              "#ed7953"
             ],
             [
              0.7777777777777778,
              "#fb9f3a"
             ],
             [
              0.8888888888888888,
              "#fdca26"
             ],
             [
              1,
              "#f0f921"
             ]
            ],
            "type": "histogram2dcontour"
           }
          ],
          "mesh3d": [
           {
            "colorbar": {
             "outlinewidth": 0,
             "ticks": ""
            },
            "type": "mesh3d"
           }
          ],
          "parcoords": [
           {
            "line": {
             "colorbar": {
              "outlinewidth": 0,
              "ticks": ""
             }
            },
            "type": "parcoords"
           }
          ],
          "pie": [
           {
            "automargin": true,
            "type": "pie"
           }
          ],
          "scatter": [
           {
            "fillpattern": {
             "fillmode": "overlay",
             "size": 10,
             "solidity": 0.2
            },
            "type": "scatter"
           }
          ],
          "scatter3d": [
           {
            "line": {
             "colorbar": {
              "outlinewidth": 0,
              "ticks": ""
             }
            },
            "marker": {
             "colorbar": {
              "outlinewidth": 0,
              "ticks": ""
             }
            },
            "type": "scatter3d"
           }
          ],
          "scattercarpet": [
           {
            "marker": {
             "colorbar": {
              "outlinewidth": 0,
              "ticks": ""
             }
            },
            "type": "scattercarpet"
           }
          ],
          "scattergeo": [
           {
            "marker": {
             "colorbar": {
              "outlinewidth": 0,
              "ticks": ""
             }
            },
            "type": "scattergeo"
           }
          ],
          "scattergl": [
           {
            "marker": {
             "colorbar": {
              "outlinewidth": 0,
              "ticks": ""
             }
            },
            "type": "scattergl"
           }
          ],
          "scattermap": [
           {
            "marker": {
             "colorbar": {
              "outlinewidth": 0,
              "ticks": ""
             }
            },
            "type": "scattermap"
           }
          ],
          "scattermapbox": [
           {
            "marker": {
             "colorbar": {
              "outlinewidth": 0,
              "ticks": ""
             }
            },
            "type": "scattermapbox"
           }
          ],
          "scatterpolar": [
           {
            "marker": {
             "colorbar": {
              "outlinewidth": 0,
              "ticks": ""
             }
            },
            "type": "scatterpolar"
           }
          ],
          "scatterpolargl": [
           {
            "marker": {
             "colorbar": {
              "outlinewidth": 0,
              "ticks": ""
             }
            },
            "type": "scatterpolargl"
           }
          ],
          "scatterternary": [
           {
            "marker": {
             "colorbar": {
              "outlinewidth": 0,
              "ticks": ""
             }
            },
            "type": "scatterternary"
           }
          ],
          "surface": [
           {
            "colorbar": {
             "outlinewidth": 0,
             "ticks": ""
            },
            "colorscale": [
             [
              0,
              "#0d0887"
             ],
             [
              0.1111111111111111,
              "#46039f"
             ],
             [
              0.2222222222222222,
              "#7201a8"
             ],
             [
              0.3333333333333333,
              "#9c179e"
             ],
             [
              0.4444444444444444,
              "#bd3786"
             ],
             [
              0.5555555555555556,
              "#d8576b"
             ],
             [
              0.6666666666666666,
              "#ed7953"
             ],
             [
              0.7777777777777778,
              "#fb9f3a"
             ],
             [
              0.8888888888888888,
              "#fdca26"
             ],
             [
              1,
              "#f0f921"
             ]
            ],
            "type": "surface"
           }
          ],
          "table": [
           {
            "cells": {
             "fill": {
              "color": "#EBF0F8"
             },
             "line": {
              "color": "white"
             }
            },
            "header": {
             "fill": {
              "color": "#C8D4E3"
             },
             "line": {
              "color": "white"
             }
            },
            "type": "table"
           }
          ]
         },
         "layout": {
          "annotationdefaults": {
           "arrowcolor": "#2a3f5f",
           "arrowhead": 0,
           "arrowwidth": 1
          },
          "autotypenumbers": "strict",
          "coloraxis": {
           "colorbar": {
            "outlinewidth": 0,
            "ticks": ""
           }
          },
          "colorscale": {
           "diverging": [
            [
             0,
             "#8e0152"
            ],
            [
             0.1,
             "#c51b7d"
            ],
            [
             0.2,
             "#de77ae"
            ],
            [
             0.3,
             "#f1b6da"
            ],
            [
             0.4,
             "#fde0ef"
            ],
            [
             0.5,
             "#f7f7f7"
            ],
            [
             0.6,
             "#e6f5d0"
            ],
            [
             0.7,
             "#b8e186"
            ],
            [
             0.8,
             "#7fbc41"
            ],
            [
             0.9,
             "#4d9221"
            ],
            [
             1,
             "#276419"
            ]
           ],
           "sequential": [
            [
             0,
             "#0d0887"
            ],
            [
             0.1111111111111111,
             "#46039f"
            ],
            [
             0.2222222222222222,
             "#7201a8"
            ],
            [
             0.3333333333333333,
             "#9c179e"
            ],
            [
             0.4444444444444444,
             "#bd3786"
            ],
            [
             0.5555555555555556,
             "#d8576b"
            ],
            [
             0.6666666666666666,
             "#ed7953"
            ],
            [
             0.7777777777777778,
             "#fb9f3a"
            ],
            [
             0.8888888888888888,
             "#fdca26"
            ],
            [
             1,
             "#f0f921"
            ]
           ],
           "sequentialminus": [
            [
             0,
             "#0d0887"
            ],
            [
             0.1111111111111111,
             "#46039f"
            ],
            [
             0.2222222222222222,
             "#7201a8"
            ],
            [
             0.3333333333333333,
             "#9c179e"
            ],
            [
             0.4444444444444444,
             "#bd3786"
            ],
            [
             0.5555555555555556,
             "#d8576b"
            ],
            [
             0.6666666666666666,
             "#ed7953"
            ],
            [
             0.7777777777777778,
             "#fb9f3a"
            ],
            [
             0.8888888888888888,
             "#fdca26"
            ],
            [
             1,
             "#f0f921"
            ]
           ]
          },
          "colorway": [
           "#636efa",
           "#EF553B",
           "#00cc96",
           "#ab63fa",
           "#FFA15A",
           "#19d3f3",
           "#FF6692",
           "#B6E880",
           "#FF97FF",
           "#FECB52"
          ],
          "font": {
           "color": "#2a3f5f"
          },
          "geo": {
           "bgcolor": "white",
           "lakecolor": "white",
           "landcolor": "white",
           "showlakes": true,
           "showland": true,
           "subunitcolor": "#C8D4E3"
          },
          "hoverlabel": {
           "align": "left"
          },
          "hovermode": "closest",
          "mapbox": {
           "style": "light"
          },
          "paper_bgcolor": "white",
          "plot_bgcolor": "white",
          "polar": {
           "angularaxis": {
            "gridcolor": "#EBF0F8",
            "linecolor": "#EBF0F8",
            "ticks": ""
           },
           "bgcolor": "white",
           "radialaxis": {
            "gridcolor": "#EBF0F8",
            "linecolor": "#EBF0F8",
            "ticks": ""
           }
          },
          "scene": {
           "xaxis": {
            "backgroundcolor": "white",
            "gridcolor": "#DFE8F3",
            "gridwidth": 2,
            "linecolor": "#EBF0F8",
            "showbackground": true,
            "ticks": "",
            "zerolinecolor": "#EBF0F8"
           },
           "yaxis": {
            "backgroundcolor": "white",
            "gridcolor": "#DFE8F3",
            "gridwidth": 2,
            "linecolor": "#EBF0F8",
            "showbackground": true,
            "ticks": "",
            "zerolinecolor": "#EBF0F8"
           },
           "zaxis": {
            "backgroundcolor": "white",
            "gridcolor": "#DFE8F3",
            "gridwidth": 2,
            "linecolor": "#EBF0F8",
            "showbackground": true,
            "ticks": "",
            "zerolinecolor": "#EBF0F8"
           }
          },
          "shapedefaults": {
           "line": {
            "color": "#2a3f5f"
           }
          },
          "ternary": {
           "aaxis": {
            "gridcolor": "#DFE8F3",
            "linecolor": "#A2B1C6",
            "ticks": ""
           },
           "baxis": {
            "gridcolor": "#DFE8F3",
            "linecolor": "#A2B1C6",
            "ticks": ""
           },
           "bgcolor": "white",
           "caxis": {
            "gridcolor": "#DFE8F3",
            "linecolor": "#A2B1C6",
            "ticks": ""
           }
          },
          "title": {
           "x": 0.05
          },
          "xaxis": {
           "automargin": true,
           "gridcolor": "#EBF0F8",
           "linecolor": "#EBF0F8",
           "ticks": "",
           "title": {
            "standoff": 15
           },
           "zerolinecolor": "#EBF0F8",
           "zerolinewidth": 2
          },
          "yaxis": {
           "automargin": true,
           "gridcolor": "#EBF0F8",
           "linecolor": "#EBF0F8",
           "ticks": "",
           "title": {
            "standoff": 15
           },
           "zerolinecolor": "#EBF0F8",
           "zerolinewidth": 2
          }
         }
        },
        "title": {
         "text": "Porcentaje de Nulos para \"mths_since_recent_revol_delinq\" por Vintage"
        },
        "xaxis": {
         "anchor": "y",
         "domain": [
          0,
          1
         ],
         "title": {
          "text": "Vintage"
         }
        },
        "yaxis": {
         "anchor": "x",
         "domain": [
          0,
          1
         ],
         "title": {
          "text": "Null Percentage (%)"
         }
        }
       }
      }
     },
     "metadata": {},
     "output_type": "display_data"
    },
    {
     "name": "stdout",
     "output_type": "stream",
     "text": [
      "\n",
      "--- 3. Entender el Significado (Conceptual) ---\n",
      "Este paso es conceptual. Analiza qué significa que una variable como 'mths_since_last_record' sea nula. ¿Significa que nunca hubo un registro, o que el dato no se capturó?\n",
      "\n",
      "--- 4. Relación de Nulidad con la Variable Objetivo (Resumen Tabular) ---\n",
      "\n",
      "Resumen del Análisis de Nulidad vs Target:\n",
      "                          Variable  Target_Mean_if_Null  Target_Mean_if_Not_Null  IV_Score_Nullity IV_Interpretation              Z_Test_Interpretation      Z_P_Value     Chi2_Interpretation   Chi2_P_Value  Count_if_Null  Count_if_Not_Null\n",
      "31           mths_since_recent_inq             0.150780                 0.207181          0.015539            Inútil  Diferencia Significativa (p<0.05)   0.000000e+00  Significativo (p<0.05)   0.000000e+00         176820            1171239\n",
      "15                        all_util             0.184119                 0.223403          0.014300            Inútil  Diferencia Significativa (p<0.05)   0.000000e+00  Significativo (p<0.05)   0.000000e+00         810514             537545\n",
      "19                    inq_last_12m             0.184120                 0.223398          0.014297            Inútil  Diferencia Significativa (p<0.05)   0.000000e+00  Significativo (p<0.05)   0.000000e+00         810462             537597\n",
      "18                     total_cu_tl             0.184120                 0.223398          0.014297            Inútil  Diferencia Significativa (p<0.05)   0.000000e+00  Significativo (p<0.05)   0.000000e+00         810462             537597\n",
      "5                      open_acc_6m             0.184120                 0.223398          0.014297            Inútil  Diferencia Significativa (p<0.05)   0.000000e+00  Significativo (p<0.05)   0.000000e+00         810462             537597\n",
      "14                      max_bal_bc             0.184120                 0.223397          0.014296            Inútil  Diferencia Significativa (p<0.05)   0.000000e+00  Significativo (p<0.05)   0.000000e+00         810461             537598\n",
      "17                          inq_fi             0.184120                 0.223397          0.014296            Inútil  Diferencia Significativa (p<0.05)   0.000000e+00  Significativo (p<0.05)   0.000000e+00         810461             537598\n",
      "6                      open_act_il             0.184120                 0.223397          0.014296            Inútil  Diferencia Significativa (p<0.05)   0.000000e+00  Significativo (p<0.05)   0.000000e+00         810461             537598\n",
      "7                      open_il_12m             0.184120                 0.223397          0.014296            Inútil  Diferencia Significativa (p<0.05)   0.000000e+00  Significativo (p<0.05)   0.000000e+00         810461             537598\n",
      "8                      open_il_24m             0.184120                 0.223397          0.014296            Inútil  Diferencia Significativa (p<0.05)   0.000000e+00  Significativo (p<0.05)   0.000000e+00         810461             537598\n",
      "10                    total_bal_il             0.184120                 0.223397          0.014296            Inútil  Diferencia Significativa (p<0.05)   0.000000e+00  Significativo (p<0.05)   0.000000e+00         810461             537598\n",
      "12                     open_rv_12m             0.184120                 0.223397          0.014296            Inútil  Diferencia Significativa (p<0.05)   0.000000e+00  Significativo (p<0.05)   0.000000e+00         810461             537598\n",
      "13                     open_rv_24m             0.184120                 0.223397          0.014296            Inútil  Diferencia Significativa (p<0.05)   0.000000e+00  Significativo (p<0.05)   0.000000e+00         810461             537598\n",
      "11                         il_util             0.186198                 0.225581          0.013442            Inútil  Diferencia Significativa (p<0.05)   0.000000e+00  Significativo (p<0.05)   0.000000e+00         883043             465016\n",
      "9               mths_since_rcnt_il             0.185531                 0.222241          0.012362            Inútil  Diferencia Significativa (p<0.05)   0.000000e+00  Significativo (p<0.05)   0.000000e+00         824677             523382\n",
      "0                             desc             0.204329                 0.155683          0.008538            Inútil  Diferencia Significativa (p<0.05)   0.000000e+00  Significativo (p<0.05)   0.000000e+00        1222104             125955\n",
      "1           mths_since_last_record             0.194039                 0.227792          0.006057            Inútil  Diferencia Significativa (p<0.05)  5.566851e-297  Significativo (p<0.05)  6.187104e-297        1118644             229415\n",
      "2      mths_since_last_major_derog             0.192800                 0.219412          0.005246            Inútil  Diferencia Significativa (p<0.05)  2.438958e-253  Significativo (p<0.05)  2.650821e-253         994309             353750\n",
      "44                  pct_tl_nvr_dlq             0.157617                 0.202108          0.004174            Inútil  Diferencia Significativa (p<0.05)  9.547170e-182  Significativo (p<0.05)  1.097420e-181          70430            1277629\n",
      "40                   num_rev_accts             0.157648                 0.202101          0.004158            Inútil  Diferencia Significativa (p<0.05)  4.441590e-181  Significativo (p<0.05)  5.104890e-181          70277            1277782\n",
      "43              num_tl_op_past_12m             0.157650                 0.202101          0.004158            Inútil  Diferencia Significativa (p<0.05)  4.669666e-181  Significativo (p<0.05)  5.366986e-181          70276            1277783\n",
      "46                 tot_hi_cred_lim             0.157650                 0.202101          0.004158            Inútil  Diferencia Significativa (p<0.05)  4.669666e-181  Significativo (p<0.05)  5.366986e-181          70276            1277783\n",
      "41             num_rev_tl_bal_gt_0             0.157650                 0.202101          0.004158            Inútil  Diferencia Significativa (p<0.05)  4.669666e-181  Significativo (p<0.05)  5.366986e-181          70276            1277783\n",
      "39                   num_op_rev_tl             0.157650                 0.202101          0.004158            Inútil  Diferencia Significativa (p<0.05)  4.669666e-181  Significativo (p<0.05)  5.366986e-181          70276            1277783\n",
      "38                       num_il_tl             0.157650                 0.202101          0.004158            Inútil  Diferencia Significativa (p<0.05)  4.669666e-181  Significativo (p<0.05)  5.366986e-181          70276            1277783\n",
      "37                       num_bc_tl             0.157650                 0.202101          0.004158            Inútil  Diferencia Significativa (p<0.05)  4.669666e-181  Significativo (p<0.05)  5.366986e-181          70276            1277783\n",
      "35                 num_actv_rev_tl             0.157650                 0.202101          0.004158            Inútil  Diferencia Significativa (p<0.05)  4.669666e-181  Significativo (p<0.05)  5.366986e-181          70276            1277783\n",
      "34                  num_actv_bc_tl             0.157650                 0.202101          0.004158            Inútil  Diferencia Significativa (p<0.05)  4.669666e-181  Significativo (p<0.05)  5.366986e-181          70276            1277783\n",
      "33           num_accts_ever_120_pd             0.157650                 0.202101          0.004158            Inútil  Diferencia Significativa (p<0.05)  4.669666e-181  Significativo (p<0.05)  5.366986e-181          70276            1277783\n",
      "49      total_il_high_credit_limit             0.157650                 0.202101          0.004158            Inútil  Diferencia Significativa (p<0.05)  4.669666e-181  Significativo (p<0.05)  5.366986e-181          70276            1277783\n",
      "16                total_rev_hi_lim             0.157650                 0.202101          0.004158            Inútil  Diferencia Significativa (p<0.05)  4.669666e-181  Significativo (p<0.05)  5.366986e-181          70276            1277783\n",
      "3                     tot_coll_amt             0.157650                 0.202101          0.004158            Inútil  Diferencia Significativa (p<0.05)  4.669666e-181  Significativo (p<0.05)  5.366986e-181          70276            1277783\n",
      "4                      tot_cur_bal             0.157650                 0.202101          0.004158            Inútil  Diferencia Significativa (p<0.05)  4.669666e-181  Significativo (p<0.05)  5.366986e-181          70276            1277783\n",
      "27                  mo_sin_rcnt_tl             0.157650                 0.202101          0.004158            Inútil  Diferencia Significativa (p<0.05)  4.669666e-181  Significativo (p<0.05)  5.366986e-181          70276            1277783\n",
      "25            mo_sin_old_rev_tl_op             0.157662                 0.202100          0.004155            Inútil  Diferencia Significativa (p<0.05)  5.867108e-181  Significativo (p<0.05)  6.742976e-181          70277            1277782\n",
      "26           mo_sin_rcnt_rev_tl_op             0.157662                 0.202100          0.004155            Inútil  Diferencia Significativa (p<0.05)  5.867108e-181  Significativo (p<0.05)  6.742976e-181          70277            1277782\n",
      "21                     avg_cur_bal             0.157700                 0.202099          0.004149            Inútil  Diferencia Significativa (p<0.05)  1.088690e-180  Significativo (p<0.05)  1.251059e-180          70298            1277761\n",
      "42                        num_sats             0.154037                 0.201862          0.004087            Inútil  Diferencia Significativa (p<0.05)  2.163585e-176  Significativo (p<0.05)  2.513095e-176          58590            1289469\n",
      "36                     num_bc_sats             0.154037                 0.201862          0.004087            Inútil  Diferencia Significativa (p<0.05)  2.163585e-176  Significativo (p<0.05)  2.513095e-176          58590            1289469\n",
      "20            acc_open_past_24mths             0.152848                 0.201593          0.003662            Inútil  Diferencia Significativa (p<0.05)  1.014171e-157  Significativo (p<0.05)  1.181420e-157          50030            1298029\n",
      "28                        mort_acc             0.152848                 0.201593          0.003662            Inútil  Diferencia Significativa (p<0.05)  1.014171e-157  Significativo (p<0.05)  1.181420e-157          50030            1298029\n",
      "47               total_bal_ex_mort             0.152848                 0.201593          0.003662            Inútil  Diferencia Significativa (p<0.05)  1.014171e-157  Significativo (p<0.05)  1.181420e-157          50030            1298029\n",
      "48                  total_bc_limit             0.152848                 0.201593          0.003662            Inútil  Diferencia Significativa (p<0.05)  1.014171e-157  Significativo (p<0.05)  1.181420e-157          50030            1298029\n",
      "29            mths_since_recent_bc             0.164983                 0.201489          0.002487            Inútil  Diferencia Significativa (p<0.05)  7.829897e-111  Significativo (p<0.05)  8.778765e-111          62970            1285089\n",
      "22                  bc_open_to_buy             0.165764                 0.201476          0.002409            Inútil  Diferencia Significativa (p<0.05)  1.334282e-107  Significativo (p<0.05)  1.492273e-107          63892            1284167\n",
      "45                percent_bc_gt_75             0.165915                 0.201480          0.002403            Inútil  Diferencia Significativa (p<0.05)  2.246634e-107  Significativo (p<0.05)  2.511499e-107          64304            1283755\n",
      "23                         bc_util             0.166375                 0.201467          0.002349            Inútil  Diferencia Significativa (p<0.05)  3.980787e-105  Significativo (p<0.05)  4.443520e-105          64661            1283398\n",
      "24              mo_sin_old_il_acct             0.178058                 0.201682          0.001679            Inútil  Diferencia Significativa (p<0.05)   1.312207e-77  Significativo (p<0.05)   1.413116e-77         108324            1239735\n",
      "30        mths_since_recent_bc_dlq             0.196667                 0.209836          0.001210            Inútil  Diferencia Significativa (p<0.05)   2.102641e-59  Significativo (p<0.05)   2.191384e-59        1029039             319020\n",
      "32  mths_since_recent_revol_delinq             0.196278                 0.206780          0.000953            Inútil  Diferencia Significativa (p<0.05)   6.919563e-47  Significativo (p<0.05)   7.151704e-47         898097             449962\n",
      "\n",
      "--- 5. Correlación de Nulidad entre Variables (Heatmap) ---\n"
     ]
    },
    {
     "data": {
      "application/vnd.plotly.v1+json": {
       "config": {
        "plotlyServerURL": "https://plot.ly"
       },
       "data": [
        {
         "coloraxis": "coloraxis",
         "hovertemplate": "x: %{x}<br>y: %{y}<br>color: %{z}<extra></extra>",
         "name": "0",
         "type": "heatmap",
         "x": [
          "desc",
          "mths_since_last_record",
          "mths_since_last_major_derog",
          "tot_coll_amt",
          "tot_cur_bal",
          "open_acc_6m",
          "open_act_il",
          "open_il_12m",
          "open_il_24m",
          "mths_since_rcnt_il",
          "total_bal_il",
          "il_util",
          "open_rv_12m",
          "open_rv_24m",
          "max_bal_bc",
          "all_util",
          "total_rev_hi_lim",
          "inq_fi",
          "total_cu_tl",
          "inq_last_12m",
          "acc_open_past_24mths",
          "avg_cur_bal",
          "bc_open_to_buy",
          "bc_util",
          "mo_sin_old_il_acct",
          "mo_sin_old_rev_tl_op",
          "mo_sin_rcnt_rev_tl_op",
          "mo_sin_rcnt_tl",
          "mort_acc",
          "mths_since_recent_bc",
          "mths_since_recent_bc_dlq",
          "mths_since_recent_inq",
          "mths_since_recent_revol_delinq",
          "num_accts_ever_120_pd",
          "num_actv_bc_tl",
          "num_actv_rev_tl",
          "num_bc_sats",
          "num_bc_tl",
          "num_il_tl",
          "num_op_rev_tl",
          "num_rev_accts",
          "num_rev_tl_bal_gt_0",
          "num_sats",
          "num_tl_op_past_12m",
          "pct_tl_nvr_dlq",
          "percent_bc_gt_75",
          "tot_hi_cred_lim",
          "total_bal_ex_mort",
          "total_bc_limit",
          "total_il_high_credit_limit"
         ],
         "xaxis": "x",
         "y": [
          "desc",
          "mths_since_last_record",
          "mths_since_last_major_derog",
          "tot_coll_amt",
          "tot_cur_bal",
          "open_acc_6m",
          "open_act_il",
          "open_il_12m",
          "open_il_24m",
          "mths_since_rcnt_il",
          "total_bal_il",
          "il_util",
          "open_rv_12m",
          "open_rv_24m",
          "max_bal_bc",
          "all_util",
          "total_rev_hi_lim",
          "inq_fi",
          "total_cu_tl",
          "inq_last_12m",
          "acc_open_past_24mths",
          "avg_cur_bal",
          "bc_open_to_buy",
          "bc_util",
          "mo_sin_old_il_acct",
          "mo_sin_old_rev_tl_op",
          "mo_sin_rcnt_rev_tl_op",
          "mo_sin_rcnt_tl",
          "mort_acc",
          "mths_since_recent_bc",
          "mths_since_recent_bc_dlq",
          "mths_since_recent_inq",
          "mths_since_recent_revol_delinq",
          "num_accts_ever_120_pd",
          "num_actv_bc_tl",
          "num_actv_rev_tl",
          "num_bc_sats",
          "num_bc_tl",
          "num_il_tl",
          "num_op_rev_tl",
          "num_rev_accts",
          "num_rev_tl_bal_gt_0",
          "num_sats",
          "num_tl_op_past_12m",
          "pct_tl_nvr_dlq",
          "percent_bc_gt_75",
          "tot_hi_cred_lim",
          "total_bal_ex_mort",
          "total_bc_limit",
          "total_il_high_credit_limit"
         ],
         "yaxis": "y",
         "z": {
          "bdata": "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",
          "dtype": "f8",
          "shape": "50, 50"
         }
        }
       ],
       "layout": {
        "coloraxis": {
         "colorscale": [
          [
           0,
           "rgb(45,0,75)"
          ],
          [
           0.1,
           "rgb(84,39,136)"
          ],
          [
           0.2,
           "rgb(128,115,172)"
          ],
          [
           0.3,
           "rgb(178,171,210)"
          ],
          [
           0.4,
           "rgb(216,218,235)"
          ],
          [
           0.5,
           "rgb(247,247,247)"
          ],
          [
           0.6,
           "rgb(254,224,182)"
          ],
          [
           0.7,
           "rgb(253,184,99)"
          ],
          [
           0.8,
           "rgb(224,130,20)"
          ],
          [
           0.9,
           "rgb(179,88,6)"
          ],
          [
           1,
           "rgb(127,59,8)"
          ]
         ]
        },
        "height": 800,
        "template": {
         "data": {
          "bar": [
           {
            "error_x": {
             "color": "#2a3f5f"
            },
            "error_y": {
             "color": "#2a3f5f"
            },
            "marker": {
             "line": {
              "color": "white",
              "width": 0.5
             },
             "pattern": {
              "fillmode": "overlay",
              "size": 10,
              "solidity": 0.2
             }
            },
            "type": "bar"
           }
          ],
          "barpolar": [
           {
            "marker": {
             "line": {
              "color": "white",
              "width": 0.5
             },
             "pattern": {
              "fillmode": "overlay",
              "size": 10,
              "solidity": 0.2
             }
            },
            "type": "barpolar"
           }
          ],
          "carpet": [
           {
            "aaxis": {
             "endlinecolor": "#2a3f5f",
             "gridcolor": "#C8D4E3",
             "linecolor": "#C8D4E3",
             "minorgridcolor": "#C8D4E3",
             "startlinecolor": "#2a3f5f"
            },
            "baxis": {
             "endlinecolor": "#2a3f5f",
             "gridcolor": "#C8D4E3",
             "linecolor": "#C8D4E3",
             "minorgridcolor": "#C8D4E3",
             "startlinecolor": "#2a3f5f"
            },
            "type": "carpet"
           }
          ],
          "choropleth": [
           {
            "colorbar": {
             "outlinewidth": 0,
             "ticks": ""
            },
            "type": "choropleth"
           }
          ],
          "contour": [
           {
            "colorbar": {
             "outlinewidth": 0,
             "ticks": ""
            },
            "colorscale": [
             [
              0,
              "#0d0887"
             ],
             [
              0.1111111111111111,
              "#46039f"
             ],
             [
              0.2222222222222222,
              "#7201a8"
             ],
             [
              0.3333333333333333,
              "#9c179e"
             ],
             [
              0.4444444444444444,
              "#bd3786"
             ],
             [
              0.5555555555555556,
              "#d8576b"
             ],
             [
              0.6666666666666666,
              "#ed7953"
             ],
             [
              0.7777777777777778,
              "#fb9f3a"
             ],
             [
              0.8888888888888888,
              "#fdca26"
             ],
             [
              1,
              "#f0f921"
             ]
            ],
            "type": "contour"
           }
          ],
          "contourcarpet": [
           {
            "colorbar": {
             "outlinewidth": 0,
             "ticks": ""
            },
            "type": "contourcarpet"
           }
          ],
          "heatmap": [
           {
            "colorbar": {
             "outlinewidth": 0,
             "ticks": ""
            },
            "colorscale": [
             [
              0,
              "#0d0887"
             ],
             [
              0.1111111111111111,
              "#46039f"
             ],
             [
              0.2222222222222222,
              "#7201a8"
             ],
             [
              0.3333333333333333,
              "#9c179e"
             ],
             [
              0.4444444444444444,
              "#bd3786"
             ],
             [
              0.5555555555555556,
              "#d8576b"
             ],
             [
              0.6666666666666666,
              "#ed7953"
             ],
             [
              0.7777777777777778,
              "#fb9f3a"
             ],
             [
              0.8888888888888888,
              "#fdca26"
             ],
             [
              1,
              "#f0f921"
             ]
            ],
            "type": "heatmap"
           }
          ],
          "histogram": [
           {
            "marker": {
             "pattern": {
              "fillmode": "overlay",
              "size": 10,
              "solidity": 0.2
             }
            },
            "type": "histogram"
           }
          ],
          "histogram2d": [
           {
            "colorbar": {
             "outlinewidth": 0,
             "ticks": ""
            },
            "colorscale": [
             [
              0,
              "#0d0887"
             ],
             [
              0.1111111111111111,
              "#46039f"
             ],
             [
              0.2222222222222222,
              "#7201a8"
             ],
             [
              0.3333333333333333,
              "#9c179e"
             ],
             [
              0.4444444444444444,
              "#bd3786"
             ],
             [
              0.5555555555555556,
              "#d8576b"
             ],
             [
              0.6666666666666666,
              "#ed7953"
             ],
             [
              0.7777777777777778,
              "#fb9f3a"
             ],
             [
              0.8888888888888888,
              "#fdca26"
             ],
             [
              1,
              "#f0f921"
             ]
            ],
            "type": "histogram2d"
           }
          ],
          "histogram2dcontour": [
           {
            "colorbar": {
             "outlinewidth": 0,
             "ticks": ""
            },
            "colorscale": [
             [
              0,
              "#0d0887"
             ],
             [
              0.1111111111111111,
              "#46039f"
             ],
             [
              0.2222222222222222,
              "#7201a8"
             ],
             [
              0.3333333333333333,
              "#9c179e"
             ],
             [
              0.4444444444444444,
              "#bd3786"
             ],
             [
              0.5555555555555556,
              "#d8576b"
             ],
             [
              0.6666666666666666,
              "#ed7953"
             ],
             [
              0.7777777777777778,
              "#fb9f3a"
             ],
             [
              0.8888888888888888,
              "#fdca26"
             ],
             [
              1,
              "#f0f921"
             ]
            ],
            "type": "histogram2dcontour"
           }
          ],
          "mesh3d": [
           {
            "colorbar": {
             "outlinewidth": 0,
             "ticks": ""
            },
            "type": "mesh3d"
           }
          ],
          "parcoords": [
           {
            "line": {
             "colorbar": {
              "outlinewidth": 0,
              "ticks": ""
             }
            },
            "type": "parcoords"
           }
          ],
          "pie": [
           {
            "automargin": true,
            "type": "pie"
           }
          ],
          "scatter": [
           {
            "fillpattern": {
             "fillmode": "overlay",
             "size": 10,
             "solidity": 0.2
            },
            "type": "scatter"
           }
          ],
          "scatter3d": [
           {
            "line": {
             "colorbar": {
              "outlinewidth": 0,
              "ticks": ""
             }
            },
            "marker": {
             "colorbar": {
              "outlinewidth": 0,
              "ticks": ""
             }
            },
            "type": "scatter3d"
           }
          ],
          "scattercarpet": [
           {
            "marker": {
             "colorbar": {
              "outlinewidth": 0,
              "ticks": ""
             }
            },
            "type": "scattercarpet"
           }
          ],
          "scattergeo": [
           {
            "marker": {
             "colorbar": {
              "outlinewidth": 0,
              "ticks": ""
             }
            },
            "type": "scattergeo"
           }
          ],
          "scattergl": [
           {
            "marker": {
             "colorbar": {
              "outlinewidth": 0,
              "ticks": ""
             }
            },
            "type": "scattergl"
           }
          ],
          "scattermap": [
           {
            "marker": {
             "colorbar": {
              "outlinewidth": 0,
              "ticks": ""
             }
            },
            "type": "scattermap"
           }
          ],
          "scattermapbox": [
           {
            "marker": {
             "colorbar": {
              "outlinewidth": 0,
              "ticks": ""
             }
            },
            "type": "scattermapbox"
           }
          ],
          "scatterpolar": [
           {
            "marker": {
             "colorbar": {
              "outlinewidth": 0,
              "ticks": ""
             }
            },
            "type": "scatterpolar"
           }
          ],
          "scatterpolargl": [
           {
            "marker": {
             "colorbar": {
              "outlinewidth": 0,
              "ticks": ""
             }
            },
            "type": "scatterpolargl"
           }
          ],
          "scatterternary": [
           {
            "marker": {
             "colorbar": {
              "outlinewidth": 0,
              "ticks": ""
             }
            },
            "type": "scatterternary"
           }
          ],
          "surface": [
           {
            "colorbar": {
             "outlinewidth": 0,
             "ticks": ""
            },
            "colorscale": [
             [
              0,
              "#0d0887"
             ],
             [
              0.1111111111111111,
              "#46039f"
             ],
             [
              0.2222222222222222,
              "#7201a8"
             ],
             [
              0.3333333333333333,
              "#9c179e"
             ],
             [
              0.4444444444444444,
              "#bd3786"
             ],
             [
              0.5555555555555556,
              "#d8576b"
             ],
             [
              0.6666666666666666,
              "#ed7953"
             ],
             [
              0.7777777777777778,
              "#fb9f3a"
             ],
             [
              0.8888888888888888,
              "#fdca26"
             ],
             [
              1,
              "#f0f921"
             ]
            ],
            "type": "surface"
           }
          ],
          "table": [
           {
            "cells": {
             "fill": {
              "color": "#EBF0F8"
             },
             "line": {
              "color": "white"
             }
            },
            "header": {
             "fill": {
              "color": "#C8D4E3"
             },
             "line": {
              "color": "white"
             }
            },
            "type": "table"
           }
          ]
         },
         "layout": {
          "annotationdefaults": {
           "arrowcolor": "#2a3f5f",
           "arrowhead": 0,
           "arrowwidth": 1
          },
          "autotypenumbers": "strict",
          "coloraxis": {
           "colorbar": {
            "outlinewidth": 0,
            "ticks": ""
           }
          },
          "colorscale": {
           "diverging": [
            [
             0,
             "#8e0152"
            ],
            [
             0.1,
             "#c51b7d"
            ],
            [
             0.2,
             "#de77ae"
            ],
            [
             0.3,
             "#f1b6da"
            ],
            [
             0.4,
             "#fde0ef"
            ],
            [
             0.5,
             "#f7f7f7"
            ],
            [
             0.6,
             "#e6f5d0"
            ],
            [
             0.7,
             "#b8e186"
            ],
            [
             0.8,
             "#7fbc41"
            ],
            [
             0.9,
             "#4d9221"
            ],
            [
             1,
             "#276419"
            ]
           ],
           "sequential": [
            [
             0,
             "#0d0887"
            ],
            [
             0.1111111111111111,
             "#46039f"
            ],
            [
             0.2222222222222222,
             "#7201a8"
            ],
            [
             0.3333333333333333,
             "#9c179e"
            ],
            [
             0.4444444444444444,
             "#bd3786"
            ],
            [
             0.5555555555555556,
             "#d8576b"
            ],
            [
             0.6666666666666666,
             "#ed7953"
            ],
            [
             0.7777777777777778,
             "#fb9f3a"
            ],
            [
             0.8888888888888888,
             "#fdca26"
            ],
            [
             1,
             "#f0f921"
            ]
           ],
           "sequentialminus": [
            [
             0,
             "#0d0887"
            ],
            [
             0.1111111111111111,
             "#46039f"
            ],
            [
             0.2222222222222222,
             "#7201a8"
            ],
            [
             0.3333333333333333,
             "#9c179e"
            ],
            [
             0.4444444444444444,
             "#bd3786"
            ],
            [
             0.5555555555555556,
             "#d8576b"
            ],
            [
             0.6666666666666666,
             "#ed7953"
            ],
            [
             0.7777777777777778,
             "#fb9f3a"
            ],
            [
             0.8888888888888888,
             "#fdca26"
            ],
            [
             1,
             "#f0f921"
            ]
           ]
          },
          "colorway": [
           "#636efa",
           "#EF553B",
           "#00cc96",
           "#ab63fa",
           "#FFA15A",
           "#19d3f3",
           "#FF6692",
           "#B6E880",
           "#FF97FF",
           "#FECB52"
          ],
          "font": {
           "color": "#2a3f5f"
          },
          "geo": {
           "bgcolor": "white",
           "lakecolor": "white",
           "landcolor": "white",
           "showlakes": true,
           "showland": true,
           "subunitcolor": "#C8D4E3"
          },
          "hoverlabel": {
           "align": "left"
          },
          "hovermode": "closest",
          "mapbox": {
           "style": "light"
          },
          "paper_bgcolor": "white",
          "plot_bgcolor": "white",
          "polar": {
           "angularaxis": {
            "gridcolor": "#EBF0F8",
            "linecolor": "#EBF0F8",
            "ticks": ""
           },
           "bgcolor": "white",
           "radialaxis": {
            "gridcolor": "#EBF0F8",
            "linecolor": "#EBF0F8",
            "ticks": ""
           }
          },
          "scene": {
           "xaxis": {
            "backgroundcolor": "white",
            "gridcolor": "#DFE8F3",
            "gridwidth": 2,
            "linecolor": "#EBF0F8",
            "showbackground": true,
            "ticks": "",
            "zerolinecolor": "#EBF0F8"
           },
           "yaxis": {
            "backgroundcolor": "white",
            "gridcolor": "#DFE8F3",
            "gridwidth": 2,
            "linecolor": "#EBF0F8",
            "showbackground": true,
            "ticks": "",
            "zerolinecolor": "#EBF0F8"
           },
           "zaxis": {
            "backgroundcolor": "white",
            "gridcolor": "#DFE8F3",
            "gridwidth": 2,
            "linecolor": "#EBF0F8",
            "showbackground": true,
            "ticks": "",
            "zerolinecolor": "#EBF0F8"
           }
          },
          "shapedefaults": {
           "line": {
            "color": "#2a3f5f"
           }
          },
          "ternary": {
           "aaxis": {
            "gridcolor": "#DFE8F3",
            "linecolor": "#A2B1C6",
            "ticks": ""
           },
           "baxis": {
            "gridcolor": "#DFE8F3",
            "linecolor": "#A2B1C6",
            "ticks": ""
           },
           "bgcolor": "white",
           "caxis": {
            "gridcolor": "#DFE8F3",
            "linecolor": "#A2B1C6",
            "ticks": ""
           }
          },
          "title": {
           "x": 0.05
          },
          "xaxis": {
           "automargin": true,
           "gridcolor": "#EBF0F8",
           "linecolor": "#EBF0F8",
           "ticks": "",
           "title": {
            "standoff": 15
           },
           "zerolinecolor": "#EBF0F8",
           "zerolinewidth": 2
          },
          "yaxis": {
           "automargin": true,
           "gridcolor": "#EBF0F8",
           "linecolor": "#EBF0F8",
           "ticks": "",
           "title": {
            "standoff": 15
           },
           "zerolinecolor": "#EBF0F8",
           "zerolinewidth": 2
          }
         }
        },
        "title": {
         "text": "Missingness Correlation Heatmap"
        },
        "width": 900,
        "xaxis": {
         "anchor": "y",
         "constrain": "domain",
         "domain": [
          0,
          1
         ],
         "scaleanchor": "y"
        },
        "yaxis": {
         "anchor": "x",
         "autorange": "reversed",
         "constrain": "domain",
         "domain": [
          0,
          1
         ]
        }
       }
      }
     },
     "metadata": {},
     "output_type": "display_data"
    },
    {
     "name": "stdout",
     "output_type": "stream",
     "text": [
      "\n",
      "--- 6. Impacto de Imputación vs. Eliminación (Conceptual) ---\n",
      "Basado en el IV y el Z-test, si la nulidad es un 'Predictor Fuerte' y la diferencia es 'Significativa', considera crear una categoría 'Missing' en lugar de imputar.\n",
      "\n",
      "--- 7. Fuente de Datos y Periodo (Conceptual) ---\n",
      "El análisis por vintage puede revelar si los nulos son un problema reciente (ej. cambio en un formulario) o si siempre han existido.\n",
      "\n",
      "--- Fin de la Exploración ---\n"
     ]
    }
   ],
   "source": [
    "try:\n",
    "    alternative_purple_scale = [px.colors.sequential.Purples[2], px.colors.sequential.Purples[5]]\n",
    "\n",
    "except IndexError:\n",
    "    # Fallback si la escala de Purples es más corta de lo esperado (poco probable)\n",
    "    alternative_purple_scale = [px.colors.sequential.Purples[0], px.colors.sequential.Purples[-1]]\n",
    "\n",
    "\n",
    "\n",
    "chosen_color_sequence = alternative_purple_scale\n",
    "\n",
    "\n",
    "df_analisis_nulos_por_vintage = eda_utils.analyze_null_values_by_group(\n",
    "        df=df_model,  \n",
    "        group_col='d_vintage',  \n",
    "        analyze_cols=None \n",
    "                          \n",
    "    )\n",
    "\n",
    "\n",
    "\n",
    "\n",
    "\n",
    " #------------------------------------------------------------------------------------------------------------------------   \n",
    "\n",
    "# --- Configuración Inicial ---\n",
    "\n",
    "# Lista de variables a analizar (ya definida en tu script)\n",
    "variables_con_altos_nulos = list(vintage_null_alerts_df[vintage_null_alerts_df['Alert_Type']=='High Null Percentage']['Variable'].unique())\n",
    "\n",
    "# Variable objetivo y colores para gráficos\n",
    "target_variable_name = 'target'\n",
    "main_plot_color = '#C9C0E0'\n",
    "\n",
    "# --- 1. Verificar el Porcentaje de Nulos Global ---\n",
    "print(\"--- 1. Porcentaje de Nulos Global ---\")\n",
    "global_null_percentages = df_model[variables_con_altos_nulos].isnull().mean() * 100\n",
    "print(global_null_percentages.sort_values(ascending=False))\n",
    "\n",
    "# --- 2. Analizar la Distribución de Nulos a Través de los Vintages ---\n",
    "print(\"\\n--- 2. Distribución de Nulos por Vintage (Análisis y Gráficos) ---\")\n",
    "try:\n",
    "    df_analisis_nulos_por_vintage = analyze_null_values_by_group(\n",
    "        df=df_model,\n",
    "        group_col='d_vintage',\n",
    "        analyze_cols=variables_con_altos_nulos\n",
    "    )\n",
    "    \n",
    "    variables_a_graficar = global_null_percentages.sort_values(ascending=False).head(5).index # Graficar el top 5 para no saturar\n",
    "    print(f\"Mostrando gráficos de nulos por vintage para el Top {len(variables_a_graficar)} de variables con más nulos...\")\n",
    "\n",
    "    for var in variables_a_graficar:\n",
    "        col_name = (var, 'Null Percentage (%)')\n",
    "        if col_name in df_analisis_nulos_por_vintage.columns:\n",
    "            vintage_col_name = df_analisis_nulos_por_vintage.index.name or 'Vintage'\n",
    "            fig = px.line(\n",
    "                x=df_analisis_nulos_por_vintage.index,\n",
    "                y=df_analisis_nulos_por_vintage[col_name],\n",
    "                title=f'Porcentaje de Nulos para \"{var}\" por Vintage',\n",
    "                labels={'x': vintage_col_name, 'y': 'Null Percentage (%)'},\n",
    "                markers=True\n",
    "            )\n",
    "            fig.update_traces(line=dict(color=main_plot_color))\n",
    "            fig.update_layout(template='plotly_white')\n",
    "            fig.show()\n",
    "except Exception as e:\n",
    "    print(f\"Error al analizar nulos por vintage: {e}. Omite el paso 2.\")\n",
    "\n",
    "# --- 3. Entender el Significado de la Variable (Dominio del Problema) ---\n",
    "print(\"\\n--- 3. Entender el Significado (Conceptual) ---\")\n",
    "print(\"Este paso es conceptual. Analiza qué significa que una variable como 'mths_since_last_record' sea nula. ¿Significa que nunca hubo un registro, o que el dato no se capturó?\")\n",
    "\n",
    "# --- 4. Relación de Nulidad con la Variable Objetivo (Análisis Estadístico Completo) ---\n",
    "print(\"\\n--- 4. Relación de Nulidad con la Variable Objetivo (Resumen Tabular) ---\")\n",
    "all_vars_summary_data = []\n",
    "\n",
    "for var in variables_con_altos_nulos:\n",
    "    # Usamos un bloque try-except general por variable para aislar errores\n",
    "    try:\n",
    "        if var not in df_model.columns:\n",
    "            print(f\"Advertencia: La variable '{var}' no se encontró. Omitiendo.\")\n",
    "            continue\n",
    "\n",
    "        # Columna temporal para análisis\n",
    "        null_indicator_col = f'{var}_is_null'\n",
    "        df_model[null_indicator_col] = df_model[var].isnull().map({True: 'Null', False: 'Not Null'})\n",
    "        \n",
    "        # a. Estadísticas Descriptivas\n",
    "        summary_stats = df_model.groupby(null_indicator_col)[target_variable_name].agg(['mean', 'count', 'std'])\n",
    "        mean_null = summary_stats.loc['Null', 'mean'] if 'Null' in summary_stats.index else 0\n",
    "        count_null = summary_stats.loc['Null', 'count'] if 'Null' in summary_stats.index else 0\n",
    "        \n",
    "        mean_not_null = summary_stats.loc['Not Null', 'mean'] if 'Not Null' in summary_stats.index else 0\n",
    "        count_not_null = summary_stats.loc['Not Null', 'count'] if 'Not Null' in summary_stats.index else 0\n",
    "\n",
    "        # b. Information Value (IV)\n",
    "        iv_score, iv_interp = np.nan, \"No calculable\"\n",
    "        if count_null > 0 and count_not_null > 0:\n",
    "            _, iv_score = calculate_woe_iv(df_model, null_indicator_col, target_variable_name)\n",
    "            if iv_score < 0.02: iv_interp = 'Inútil'\n",
    "            elif iv_score < 0.1: iv_interp = 'Débil'\n",
    "            elif iv_score < 0.3: iv_interp = 'Medio'\n",
    "            elif iv_score < 0.5: iv_interp = 'Fuerte'\n",
    "            else: iv_interp = 'Sospechoso'\n",
    "\n",
    "        # c. Tabla de Contingencia (base para Chi2 y Z-test)\n",
    "        contingency_table = pd.crosstab(df_model[null_indicator_col], df_model[target_variable_name])\n",
    "        \n",
    "        # d. Test Chi-cuadrado\n",
    "        chi2_stat, chi2_p, chi2_interp = np.nan, np.nan, \"No aplicable\"\n",
    "        if contingency_table.shape == (2, 2): # Solo si hay nulos/no-nulos y target 0/1\n",
    "            chi2_stat, chi2_p, _, _ = chi2_contingency(contingency_table)\n",
    "            chi2_interp = 'Significativo (p<0.05)' if chi2_p < 0.05 else 'No Significativo'\n",
    "\n",
    "        # e. Z-test para Proporciones (¡NUEVA MEJORA!)\n",
    "        z_stat, z_p, z_interp = np.nan, np.nan, \"No aplicable\"\n",
    "        if contingency_table.shape == (2, 2):\n",
    "            counts = np.array([contingency_table.loc['Null', 1], contingency_table.loc['Not Null', 1]])\n",
    "            nobs = np.array([count_null, count_not_null])\n",
    "            z_stat, z_p = proportions_ztest(counts, nobs, value=0)\n",
    "            z_interp = 'Diferencia Significativa (p<0.05)' if z_p < 0.05 else 'Sin Diferencia Significativa'\n",
    "\n",
    "        all_vars_summary_data.append({\n",
    "            'Variable': var,\n",
    "            'Target_Mean_if_Null': mean_null,\n",
    "            'Target_Mean_if_Not_Null': mean_not_null,\n",
    "            'IV_Score_Nullity': iv_score,\n",
    "            'IV_Interpretation': iv_interp,\n",
    "            'Z_Test_Interpretation': z_interp,\n",
    "            'Z_P_Value': z_p,\n",
    "            'Chi2_Interpretation': chi2_interp,\n",
    "            'Chi2_P_Value': chi2_p,\n",
    "            'Count_if_Null': count_null,\n",
    "            'Count_if_Not_Null': count_not_null,\n",
    "        })\n",
    "    except Exception as e:\n",
    "        print(f\"Error procesando la variable '{var}': {e}. Omitiendo.\")\n",
    "    finally:\n",
    "        # Limpiar columna temporal de forma segura\n",
    "        if null_indicator_col in df_model.columns:\n",
    "            df_model.drop(columns=[null_indicator_col], inplace=True)\n",
    "\n",
    "# Crear y mostrar el DataFrame de resumen final\n",
    "if all_vars_summary_data:\n",
    "    df_target_analysis_summary = pd.DataFrame(all_vars_summary_data)\n",
    "    print(\"\\nResumen del Análisis de Nulidad vs Target:\")\n",
    "    pd.set_option('display.max_columns', None)\n",
    "    pd.set_option('display.width', 1200)\n",
    "    print(df_target_analysis_summary.sort_values(by='IV_Score_Nullity', ascending=False))\n",
    "\n",
    "# --- 5. Correlación de Nulidad entre Variables ---\n",
    "print(\"\\n--- 5. Correlación de Nulidad entre Variables (Heatmap) ---\")\n",
    "try:\n",
    "    df_null_indicators = df_model[variables_con_altos_nulos].isnull().astype(int)\n",
    "    null_correlation_matrix = df_null_indicators.corr()\n",
    "    fig_heatmap = px.imshow(\n",
    "        null_correlation_matrix,\n",
    "        title='Missingness Correlation Heatmap',\n",
    "        color_continuous_scale='PuOr_r',\n",
    "        text_auto=False\n",
    "    )\n",
    "    fig_heatmap.update_layout(template='plotly_white', width=900, height=800)\n",
    "    fig_heatmap.show()\n",
    "except Exception as e:\n",
    "    print(f\"No se pudo generar el heatmap de correlación: {e}\")\n",
    "\n",
    "# --- Pasos Conceptuales Finales ---\n",
    "print(\"\\n--- 6. Impacto de Imputación vs. Eliminación (Conceptual) ---\")\n",
    "print(\"Basado en el IV y el Z-test, si la nulidad es un 'Predictor Fuerte' y la diferencia es 'Significativa', considera crear una categoría 'Missing' en lugar de imputar.\")\n",
    "\n",
    "print(\"\\n--- 7. Fuente de Datos y Periodo (Conceptual) ---\")\n",
    "print(\"El análisis por vintage puede revelar si los nulos son un problema reciente (ej. cambio en un formulario) o si siempre han existido.\")\n",
    "\n",
    "print(\"\\n--- Fin de la Exploración ---\")"
   ]
  },
  {
   "cell_type": "code",
   "execution_count": null,
   "id": "5e7c3f42",
   "metadata": {},
   "outputs": [],
   "source": [
    "\n",
    "\n",
    "# --- Configuración ---\n",
    "TARGET = 'target'\n",
    "\n",
    "# Lista de variables a analizar. \n",
    "# He seleccionado un mix representativo. ¡Puedes ampliar esta lista con todas tus variables!\n",
    "variables_to_analyze = [\n",
    "    # Variables categóricas clave\n",
    "    'grade',\n",
    "    'sub_grade',\n",
    "    'home_ownership',\n",
    "    'verification_status',\n",
    "    'purpose',\n",
    "    'term',\n",
    "    # Variables numéricas clave\n",
    "    'loan_amnt',\n",
    "    'int_rate',\n",
    "    'installment',\n",
    "    'annual_inc',\n",
    "    'dti',\n",
    "    'open_acc',\n",
    "    'pub_rec',\n",
    "    'revol_bal',\n",
    "    'revol_util',\n",
    "    'total_acc',\n",
    "    'mths_since_last_delinq', # Variable con nulos que podría ser predictiva\n",
    "    'mths_since_recent_inq'   # Otra variable con nulos\n",
    "]\n",
    "\n",
    "# --- Bucle de Análisis de IV ---\n",
    "iv_results = []\n",
    "print(f\"Calculando Information Value para {len(variables_to_analyze)} variables...\")\n",
    "\n",
    "for var in variables_to_analyze:\n",
    "    print(f\"Procesando: {var}...\")\n",
    "    try:\n",
    "        # La función devuelve el df detallado y el IV total. Solo necesitamos el IV total.\n",
    "        df_woe_iv, iv_score = calculate_woe_iv(df_model, var, TARGET)\n",
    "        \n",
    "        iv_results.append({\n",
    "            'Variable': var,\n",
    "            'IV_Score': iv_score\n",
    "        })\n",
    "        \n",
    "    except Exception as e:\n",
    "        print(f\"  -> ¡Error! No se pudo calcular el IV para '{var}'. Razón: {e}\")\n",
    "        iv_results.append({\n",
    "            'Variable': var,\n",
    "            'IV_Score': np.nan\n",
    "        })\n",
    "\n",
    "print(\"\\nCálculo de IV completado.\")\n",
    "\n",
    "# --- Crear y Mostrar el DataFrame de Resultados ---\n",
    "if iv_results:\n",
    "    # Convertir lista de resultados a DataFrame\n",
    "    df_iv_summary = pd.DataFrame(iv_results).sort_values(by='IV_Score', ascending=False).reset_index(drop=True)\n",
    "\n",
    "    # Añadir interpretación basada en las reglas de Siddiqi\n",
    "    def iv_interpretation(iv):\n",
    "        if pd.isna(iv):\n",
    "            return \"Error en cálculo\"\n",
    "        if iv < 0.02: return 'Inútil'\n",
    "        elif iv < 0.1: return 'Predictor Débil'\n",
    "        elif iv < 0.3: return 'Predictor Medio'\n",
    "        elif iv < 0.5: return 'Predictor Fuerte'\n",
    "        else: return 'Sospechoso'\n",
    "\n",
    "    df_iv_summary['Interpretation'] = df_iv_summary['IV_Score'].apply(iv_interpretation)\n",
    "    \n",
    "    print(\"Ranking de Poder Predictivo de las Variables (Information Value):\")\n",
    "    display(df_iv_summary)\n",
    "else:\n",
    "    print(\"No se pudieron generar resultados de IV.\")\n",
    "\n",
    "# --- Ejemplo para ver el detalle de una variable FUERTE ---\n",
    "# Una vez que tengas el ranking, puedes inspeccionar las variables más fuertes.\n",
    "# Por ejemplo, si 'grade' sale con IV alto, puedes hacer esto:\n",
    "print(\"\\nEjemplo de tabla de detalle para la variable 'grade':\")\n",
    "try:\n",
    "    df_detail_grade, _ = calculate_woe_iv(df_model, 'grade', TARGET)\n",
    "    display(df_detail_grade)\n",
    "except Exception as e:\n",
    "    print(f\"No se pudo generar la tabla de detalle para 'grade': {e}\")"
   ]
  },
  {
   "cell_type": "code",
   "execution_count": 53,
   "id": "d3392cb6",
   "metadata": {},
   "outputs": [
    {
     "data": {
      "text/html": [
       "<div>\n",
       "<style scoped>\n",
       "    .dataframe tbody tr th:only-of-type {\n",
       "        vertical-align: middle;\n",
       "    }\n",
       "\n",
       "    .dataframe tbody tr th {\n",
       "        vertical-align: top;\n",
       "    }\n",
       "\n",
       "    .dataframe thead th {\n",
       "        text-align: right;\n",
       "    }\n",
       "</style>\n",
       "<table border=\"1\" class=\"dataframe\">\n",
       "  <thead>\n",
       "    <tr style=\"text-align: right;\">\n",
       "      <th></th>\n",
       "      <th>Variable</th>\n",
       "      <th>Target_Mean_if_Null</th>\n",
       "      <th>Target_Mean_if_Not_Null</th>\n",
       "      <th>IV_Score_Nullity</th>\n",
       "      <th>IV_Interpretation</th>\n",
       "      <th>Z_Test_Interpretation</th>\n",
       "      <th>Z_P_Value</th>\n",
       "      <th>Chi2_Interpretation</th>\n",
       "      <th>Chi2_P_Value</th>\n",
       "      <th>Count_if_Null</th>\n",
       "      <th>Count_if_Not_Null</th>\n",
       "    </tr>\n",
       "  </thead>\n",
       "  <tbody>\n",
       "    <tr>\n",
       "      <th>0</th>\n",
       "      <td>desc</td>\n",
       "      <td>0.204329</td>\n",
       "      <td>0.155683</td>\n",
       "      <td>0.008538</td>\n",
       "      <td>Inútil</td>\n",
       "      <td>Diferencia Significativa (p&lt;0.05)</td>\n",
       "      <td>0.000000e+00</td>\n",
       "      <td>Significativo (p&lt;0.05)</td>\n",
       "      <td>0.000000e+00</td>\n",
       "      <td>1222104</td>\n",
       "      <td>125955</td>\n",
       "    </tr>\n",
       "    <tr>\n",
       "      <th>1</th>\n",
       "      <td>mths_since_last_record</td>\n",
       "      <td>0.194039</td>\n",
       "      <td>0.227792</td>\n",
       "      <td>0.006057</td>\n",
       "      <td>Inútil</td>\n",
       "      <td>Diferencia Significativa (p&lt;0.05)</td>\n",
       "      <td>5.566851e-297</td>\n",
       "      <td>Significativo (p&lt;0.05)</td>\n",
       "      <td>6.187104e-297</td>\n",
       "      <td>1118644</td>\n",
       "      <td>229415</td>\n",
       "    </tr>\n",
       "    <tr>\n",
       "      <th>2</th>\n",
       "      <td>mths_since_last_major_derog</td>\n",
       "      <td>0.192800</td>\n",
       "      <td>0.219412</td>\n",
       "      <td>0.005246</td>\n",
       "      <td>Inútil</td>\n",
       "      <td>Diferencia Significativa (p&lt;0.05)</td>\n",
       "      <td>2.438958e-253</td>\n",
       "      <td>Significativo (p&lt;0.05)</td>\n",
       "      <td>2.650821e-253</td>\n",
       "      <td>994309</td>\n",
       "      <td>353750</td>\n",
       "    </tr>\n",
       "    <tr>\n",
       "      <th>3</th>\n",
       "      <td>tot_coll_amt</td>\n",
       "      <td>0.157650</td>\n",
       "      <td>0.202101</td>\n",
       "      <td>0.004158</td>\n",
       "      <td>Inútil</td>\n",
       "      <td>Diferencia Significativa (p&lt;0.05)</td>\n",
       "      <td>4.669666e-181</td>\n",
       "      <td>Significativo (p&lt;0.05)</td>\n",
       "      <td>5.366986e-181</td>\n",
       "      <td>70276</td>\n",
       "      <td>1277783</td>\n",
       "    </tr>\n",
       "    <tr>\n",
       "      <th>4</th>\n",
       "      <td>tot_cur_bal</td>\n",
       "      <td>0.157650</td>\n",
       "      <td>0.202101</td>\n",
       "      <td>0.004158</td>\n",
       "      <td>Inútil</td>\n",
       "      <td>Diferencia Significativa (p&lt;0.05)</td>\n",
       "      <td>4.669666e-181</td>\n",
       "      <td>Significativo (p&lt;0.05)</td>\n",
       "      <td>5.366986e-181</td>\n",
       "      <td>70276</td>\n",
       "      <td>1277783</td>\n",
       "    </tr>\n",
       "    <tr>\n",
       "      <th>5</th>\n",
       "      <td>open_acc_6m</td>\n",
       "      <td>0.184120</td>\n",
       "      <td>0.223398</td>\n",
       "      <td>0.014297</td>\n",
       "      <td>Inútil</td>\n",
       "      <td>Diferencia Significativa (p&lt;0.05)</td>\n",
       "      <td>0.000000e+00</td>\n",
       "      <td>Significativo (p&lt;0.05)</td>\n",
       "      <td>0.000000e+00</td>\n",
       "      <td>810462</td>\n",
       "      <td>537597</td>\n",
       "    </tr>\n",
       "    <tr>\n",
       "      <th>6</th>\n",
       "      <td>open_act_il</td>\n",
       "      <td>0.184120</td>\n",
       "      <td>0.223397</td>\n",
       "      <td>0.014296</td>\n",
       "      <td>Inútil</td>\n",
       "      <td>Diferencia Significativa (p&lt;0.05)</td>\n",
       "      <td>0.000000e+00</td>\n",
       "      <td>Significativo (p&lt;0.05)</td>\n",
       "      <td>0.000000e+00</td>\n",
       "      <td>810461</td>\n",
       "      <td>537598</td>\n",
       "    </tr>\n",
       "    <tr>\n",
       "      <th>7</th>\n",
       "      <td>open_il_12m</td>\n",
       "      <td>0.184120</td>\n",
       "      <td>0.223397</td>\n",
       "      <td>0.014296</td>\n",
       "      <td>Inútil</td>\n",
       "      <td>Diferencia Significativa (p&lt;0.05)</td>\n",
       "      <td>0.000000e+00</td>\n",
       "      <td>Significativo (p&lt;0.05)</td>\n",
       "      <td>0.000000e+00</td>\n",
       "      <td>810461</td>\n",
       "      <td>537598</td>\n",
       "    </tr>\n",
       "    <tr>\n",
       "      <th>8</th>\n",
       "      <td>open_il_24m</td>\n",
       "      <td>0.184120</td>\n",
       "      <td>0.223397</td>\n",
       "      <td>0.014296</td>\n",
       "      <td>Inútil</td>\n",
       "      <td>Diferencia Significativa (p&lt;0.05)</td>\n",
       "      <td>0.000000e+00</td>\n",
       "      <td>Significativo (p&lt;0.05)</td>\n",
       "      <td>0.000000e+00</td>\n",
       "      <td>810461</td>\n",
       "      <td>537598</td>\n",
       "    </tr>\n",
       "    <tr>\n",
       "      <th>9</th>\n",
       "      <td>mths_since_rcnt_il</td>\n",
       "      <td>0.185531</td>\n",
       "      <td>0.222241</td>\n",
       "      <td>0.012362</td>\n",
       "      <td>Inútil</td>\n",
       "      <td>Diferencia Significativa (p&lt;0.05)</td>\n",
       "      <td>0.000000e+00</td>\n",
       "      <td>Significativo (p&lt;0.05)</td>\n",
       "      <td>0.000000e+00</td>\n",
       "      <td>824677</td>\n",
       "      <td>523382</td>\n",
       "    </tr>\n",
       "    <tr>\n",
       "      <th>10</th>\n",
       "      <td>total_bal_il</td>\n",
       "      <td>0.184120</td>\n",
       "      <td>0.223397</td>\n",
       "      <td>0.014296</td>\n",
       "      <td>Inútil</td>\n",
       "      <td>Diferencia Significativa (p&lt;0.05)</td>\n",
       "      <td>0.000000e+00</td>\n",
       "      <td>Significativo (p&lt;0.05)</td>\n",
       "      <td>0.000000e+00</td>\n",
       "      <td>810461</td>\n",
       "      <td>537598</td>\n",
       "    </tr>\n",
       "    <tr>\n",
       "      <th>11</th>\n",
       "      <td>il_util</td>\n",
       "      <td>0.186198</td>\n",
       "      <td>0.225581</td>\n",
       "      <td>0.013442</td>\n",
       "      <td>Inútil</td>\n",
       "      <td>Diferencia Significativa (p&lt;0.05)</td>\n",
       "      <td>0.000000e+00</td>\n",
       "      <td>Significativo (p&lt;0.05)</td>\n",
       "      <td>0.000000e+00</td>\n",
       "      <td>883043</td>\n",
       "      <td>465016</td>\n",
       "    </tr>\n",
       "    <tr>\n",
       "      <th>12</th>\n",
       "      <td>open_rv_12m</td>\n",
       "      <td>0.184120</td>\n",
       "      <td>0.223397</td>\n",
       "      <td>0.014296</td>\n",
       "      <td>Inútil</td>\n",
       "      <td>Diferencia Significativa (p&lt;0.05)</td>\n",
       "      <td>0.000000e+00</td>\n",
       "      <td>Significativo (p&lt;0.05)</td>\n",
       "      <td>0.000000e+00</td>\n",
       "      <td>810461</td>\n",
       "      <td>537598</td>\n",
       "    </tr>\n",
       "    <tr>\n",
       "      <th>13</th>\n",
       "      <td>open_rv_24m</td>\n",
       "      <td>0.184120</td>\n",
       "      <td>0.223397</td>\n",
       "      <td>0.014296</td>\n",
       "      <td>Inútil</td>\n",
       "      <td>Diferencia Significativa (p&lt;0.05)</td>\n",
       "      <td>0.000000e+00</td>\n",
       "      <td>Significativo (p&lt;0.05)</td>\n",
       "      <td>0.000000e+00</td>\n",
       "      <td>810461</td>\n",
       "      <td>537598</td>\n",
       "    </tr>\n",
       "    <tr>\n",
       "      <th>14</th>\n",
       "      <td>max_bal_bc</td>\n",
       "      <td>0.184120</td>\n",
       "      <td>0.223397</td>\n",
       "      <td>0.014296</td>\n",
       "      <td>Inútil</td>\n",
       "      <td>Diferencia Significativa (p&lt;0.05)</td>\n",
       "      <td>0.000000e+00</td>\n",
       "      <td>Significativo (p&lt;0.05)</td>\n",
       "      <td>0.000000e+00</td>\n",
       "      <td>810461</td>\n",
       "      <td>537598</td>\n",
       "    </tr>\n",
       "    <tr>\n",
       "      <th>15</th>\n",
       "      <td>all_util</td>\n",
       "      <td>0.184119</td>\n",
       "      <td>0.223403</td>\n",
       "      <td>0.014300</td>\n",
       "      <td>Inútil</td>\n",
       "      <td>Diferencia Significativa (p&lt;0.05)</td>\n",
       "      <td>0.000000e+00</td>\n",
       "      <td>Significativo (p&lt;0.05)</td>\n",
       "      <td>0.000000e+00</td>\n",
       "      <td>810514</td>\n",
       "      <td>537545</td>\n",
       "    </tr>\n",
       "    <tr>\n",
       "      <th>16</th>\n",
       "      <td>total_rev_hi_lim</td>\n",
       "      <td>0.157650</td>\n",
       "      <td>0.202101</td>\n",
       "      <td>0.004158</td>\n",
       "      <td>Inútil</td>\n",
       "      <td>Diferencia Significativa (p&lt;0.05)</td>\n",
       "      <td>4.669666e-181</td>\n",
       "      <td>Significativo (p&lt;0.05)</td>\n",
       "      <td>5.366986e-181</td>\n",
       "      <td>70276</td>\n",
       "      <td>1277783</td>\n",
       "    </tr>\n",
       "    <tr>\n",
       "      <th>17</th>\n",
       "      <td>inq_fi</td>\n",
       "      <td>0.184120</td>\n",
       "      <td>0.223397</td>\n",
       "      <td>0.014296</td>\n",
       "      <td>Inútil</td>\n",
       "      <td>Diferencia Significativa (p&lt;0.05)</td>\n",
       "      <td>0.000000e+00</td>\n",
       "      <td>Significativo (p&lt;0.05)</td>\n",
       "      <td>0.000000e+00</td>\n",
       "      <td>810461</td>\n",
       "      <td>537598</td>\n",
       "    </tr>\n",
       "    <tr>\n",
       "      <th>18</th>\n",
       "      <td>total_cu_tl</td>\n",
       "      <td>0.184120</td>\n",
       "      <td>0.223398</td>\n",
       "      <td>0.014297</td>\n",
       "      <td>Inútil</td>\n",
       "      <td>Diferencia Significativa (p&lt;0.05)</td>\n",
       "      <td>0.000000e+00</td>\n",
       "      <td>Significativo (p&lt;0.05)</td>\n",
       "      <td>0.000000e+00</td>\n",
       "      <td>810462</td>\n",
       "      <td>537597</td>\n",
       "    </tr>\n",
       "    <tr>\n",
       "      <th>19</th>\n",
       "      <td>inq_last_12m</td>\n",
       "      <td>0.184120</td>\n",
       "      <td>0.223398</td>\n",
       "      <td>0.014297</td>\n",
       "      <td>Inútil</td>\n",
       "      <td>Diferencia Significativa (p&lt;0.05)</td>\n",
       "      <td>0.000000e+00</td>\n",
       "      <td>Significativo (p&lt;0.05)</td>\n",
       "      <td>0.000000e+00</td>\n",
       "      <td>810462</td>\n",
       "      <td>537597</td>\n",
       "    </tr>\n",
       "    <tr>\n",
       "      <th>20</th>\n",
       "      <td>acc_open_past_24mths</td>\n",
       "      <td>0.152848</td>\n",
       "      <td>0.201593</td>\n",
       "      <td>0.003662</td>\n",
       "      <td>Inútil</td>\n",
       "      <td>Diferencia Significativa (p&lt;0.05)</td>\n",
       "      <td>1.014171e-157</td>\n",
       "      <td>Significativo (p&lt;0.05)</td>\n",
       "      <td>1.181420e-157</td>\n",
       "      <td>50030</td>\n",
       "      <td>1298029</td>\n",
       "    </tr>\n",
       "    <tr>\n",
       "      <th>21</th>\n",
       "      <td>avg_cur_bal</td>\n",
       "      <td>0.157700</td>\n",
       "      <td>0.202099</td>\n",
       "      <td>0.004149</td>\n",
       "      <td>Inútil</td>\n",
       "      <td>Diferencia Significativa (p&lt;0.05)</td>\n",
       "      <td>1.088690e-180</td>\n",
       "      <td>Significativo (p&lt;0.05)</td>\n",
       "      <td>1.251059e-180</td>\n",
       "      <td>70298</td>\n",
       "      <td>1277761</td>\n",
       "    </tr>\n",
       "    <tr>\n",
       "      <th>22</th>\n",
       "      <td>bc_open_to_buy</td>\n",
       "      <td>0.165764</td>\n",
       "      <td>0.201476</td>\n",
       "      <td>0.002409</td>\n",
       "      <td>Inútil</td>\n",
       "      <td>Diferencia Significativa (p&lt;0.05)</td>\n",
       "      <td>1.334282e-107</td>\n",
       "      <td>Significativo (p&lt;0.05)</td>\n",
       "      <td>1.492273e-107</td>\n",
       "      <td>63892</td>\n",
       "      <td>1284167</td>\n",
       "    </tr>\n",
       "    <tr>\n",
       "      <th>23</th>\n",
       "      <td>bc_util</td>\n",
       "      <td>0.166375</td>\n",
       "      <td>0.201467</td>\n",
       "      <td>0.002349</td>\n",
       "      <td>Inútil</td>\n",
       "      <td>Diferencia Significativa (p&lt;0.05)</td>\n",
       "      <td>3.980787e-105</td>\n",
       "      <td>Significativo (p&lt;0.05)</td>\n",
       "      <td>4.443520e-105</td>\n",
       "      <td>64661</td>\n",
       "      <td>1283398</td>\n",
       "    </tr>\n",
       "    <tr>\n",
       "      <th>24</th>\n",
       "      <td>mo_sin_old_il_acct</td>\n",
       "      <td>0.178058</td>\n",
       "      <td>0.201682</td>\n",
       "      <td>0.001679</td>\n",
       "      <td>Inútil</td>\n",
       "      <td>Diferencia Significativa (p&lt;0.05)</td>\n",
       "      <td>1.312207e-77</td>\n",
       "      <td>Significativo (p&lt;0.05)</td>\n",
       "      <td>1.413116e-77</td>\n",
       "      <td>108324</td>\n",
       "      <td>1239735</td>\n",
       "    </tr>\n",
       "    <tr>\n",
       "      <th>25</th>\n",
       "      <td>mo_sin_old_rev_tl_op</td>\n",
       "      <td>0.157662</td>\n",
       "      <td>0.202100</td>\n",
       "      <td>0.004155</td>\n",
       "      <td>Inútil</td>\n",
       "      <td>Diferencia Significativa (p&lt;0.05)</td>\n",
       "      <td>5.867108e-181</td>\n",
       "      <td>Significativo (p&lt;0.05)</td>\n",
       "      <td>6.742976e-181</td>\n",
       "      <td>70277</td>\n",
       "      <td>1277782</td>\n",
       "    </tr>\n",
       "    <tr>\n",
       "      <th>26</th>\n",
       "      <td>mo_sin_rcnt_rev_tl_op</td>\n",
       "      <td>0.157662</td>\n",
       "      <td>0.202100</td>\n",
       "      <td>0.004155</td>\n",
       "      <td>Inútil</td>\n",
       "      <td>Diferencia Significativa (p&lt;0.05)</td>\n",
       "      <td>5.867108e-181</td>\n",
       "      <td>Significativo (p&lt;0.05)</td>\n",
       "      <td>6.742976e-181</td>\n",
       "      <td>70277</td>\n",
       "      <td>1277782</td>\n",
       "    </tr>\n",
       "    <tr>\n",
       "      <th>27</th>\n",
       "      <td>mo_sin_rcnt_tl</td>\n",
       "      <td>0.157650</td>\n",
       "      <td>0.202101</td>\n",
       "      <td>0.004158</td>\n",
       "      <td>Inútil</td>\n",
       "      <td>Diferencia Significativa (p&lt;0.05)</td>\n",
       "      <td>4.669666e-181</td>\n",
       "      <td>Significativo (p&lt;0.05)</td>\n",
       "      <td>5.366986e-181</td>\n",
       "      <td>70276</td>\n",
       "      <td>1277783</td>\n",
       "    </tr>\n",
       "    <tr>\n",
       "      <th>28</th>\n",
       "      <td>mort_acc</td>\n",
       "      <td>0.152848</td>\n",
       "      <td>0.201593</td>\n",
       "      <td>0.003662</td>\n",
       "      <td>Inútil</td>\n",
       "      <td>Diferencia Significativa (p&lt;0.05)</td>\n",
       "      <td>1.014171e-157</td>\n",
       "      <td>Significativo (p&lt;0.05)</td>\n",
       "      <td>1.181420e-157</td>\n",
       "      <td>50030</td>\n",
       "      <td>1298029</td>\n",
       "    </tr>\n",
       "    <tr>\n",
       "      <th>29</th>\n",
       "      <td>mths_since_recent_bc</td>\n",
       "      <td>0.164983</td>\n",
       "      <td>0.201489</td>\n",
       "      <td>0.002487</td>\n",
       "      <td>Inútil</td>\n",
       "      <td>Diferencia Significativa (p&lt;0.05)</td>\n",
       "      <td>7.829897e-111</td>\n",
       "      <td>Significativo (p&lt;0.05)</td>\n",
       "      <td>8.778765e-111</td>\n",
       "      <td>62970</td>\n",
       "      <td>1285089</td>\n",
       "    </tr>\n",
       "    <tr>\n",
       "      <th>30</th>\n",
       "      <td>mths_since_recent_bc_dlq</td>\n",
       "      <td>0.196667</td>\n",
       "      <td>0.209836</td>\n",
       "      <td>0.001210</td>\n",
       "      <td>Inútil</td>\n",
       "      <td>Diferencia Significativa (p&lt;0.05)</td>\n",
       "      <td>2.102641e-59</td>\n",
       "      <td>Significativo (p&lt;0.05)</td>\n",
       "      <td>2.191384e-59</td>\n",
       "      <td>1029039</td>\n",
       "      <td>319020</td>\n",
       "    </tr>\n",
       "    <tr>\n",
       "      <th>31</th>\n",
       "      <td>mths_since_recent_inq</td>\n",
       "      <td>0.150780</td>\n",
       "      <td>0.207181</td>\n",
       "      <td>0.015539</td>\n",
       "      <td>Inútil</td>\n",
       "      <td>Diferencia Significativa (p&lt;0.05)</td>\n",
       "      <td>0.000000e+00</td>\n",
       "      <td>Significativo (p&lt;0.05)</td>\n",
       "      <td>0.000000e+00</td>\n",
       "      <td>176820</td>\n",
       "      <td>1171239</td>\n",
       "    </tr>\n",
       "    <tr>\n",
       "      <th>32</th>\n",
       "      <td>mths_since_recent_revol_delinq</td>\n",
       "      <td>0.196278</td>\n",
       "      <td>0.206780</td>\n",
       "      <td>0.000953</td>\n",
       "      <td>Inútil</td>\n",
       "      <td>Diferencia Significativa (p&lt;0.05)</td>\n",
       "      <td>6.919563e-47</td>\n",
       "      <td>Significativo (p&lt;0.05)</td>\n",
       "      <td>7.151704e-47</td>\n",
       "      <td>898097</td>\n",
       "      <td>449962</td>\n",
       "    </tr>\n",
       "    <tr>\n",
       "      <th>33</th>\n",
       "      <td>num_accts_ever_120_pd</td>\n",
       "      <td>0.157650</td>\n",
       "      <td>0.202101</td>\n",
       "      <td>0.004158</td>\n",
       "      <td>Inútil</td>\n",
       "      <td>Diferencia Significativa (p&lt;0.05)</td>\n",
       "      <td>4.669666e-181</td>\n",
       "      <td>Significativo (p&lt;0.05)</td>\n",
       "      <td>5.366986e-181</td>\n",
       "      <td>70276</td>\n",
       "      <td>1277783</td>\n",
       "    </tr>\n",
       "    <tr>\n",
       "      <th>34</th>\n",
       "      <td>num_actv_bc_tl</td>\n",
       "      <td>0.157650</td>\n",
       "      <td>0.202101</td>\n",
       "      <td>0.004158</td>\n",
       "      <td>Inútil</td>\n",
       "      <td>Diferencia Significativa (p&lt;0.05)</td>\n",
       "      <td>4.669666e-181</td>\n",
       "      <td>Significativo (p&lt;0.05)</td>\n",
       "      <td>5.366986e-181</td>\n",
       "      <td>70276</td>\n",
       "      <td>1277783</td>\n",
       "    </tr>\n",
       "    <tr>\n",
       "      <th>35</th>\n",
       "      <td>num_actv_rev_tl</td>\n",
       "      <td>0.157650</td>\n",
       "      <td>0.202101</td>\n",
       "      <td>0.004158</td>\n",
       "      <td>Inútil</td>\n",
       "      <td>Diferencia Significativa (p&lt;0.05)</td>\n",
       "      <td>4.669666e-181</td>\n",
       "      <td>Significativo (p&lt;0.05)</td>\n",
       "      <td>5.366986e-181</td>\n",
       "      <td>70276</td>\n",
       "      <td>1277783</td>\n",
       "    </tr>\n",
       "    <tr>\n",
       "      <th>36</th>\n",
       "      <td>num_bc_sats</td>\n",
       "      <td>0.154037</td>\n",
       "      <td>0.201862</td>\n",
       "      <td>0.004087</td>\n",
       "      <td>Inútil</td>\n",
       "      <td>Diferencia Significativa (p&lt;0.05)</td>\n",
       "      <td>2.163585e-176</td>\n",
       "      <td>Significativo (p&lt;0.05)</td>\n",
       "      <td>2.513095e-176</td>\n",
       "      <td>58590</td>\n",
       "      <td>1289469</td>\n",
       "    </tr>\n",
       "    <tr>\n",
       "      <th>37</th>\n",
       "      <td>num_bc_tl</td>\n",
       "      <td>0.157650</td>\n",
       "      <td>0.202101</td>\n",
       "      <td>0.004158</td>\n",
       "      <td>Inútil</td>\n",
       "      <td>Diferencia Significativa (p&lt;0.05)</td>\n",
       "      <td>4.669666e-181</td>\n",
       "      <td>Significativo (p&lt;0.05)</td>\n",
       "      <td>5.366986e-181</td>\n",
       "      <td>70276</td>\n",
       "      <td>1277783</td>\n",
       "    </tr>\n",
       "    <tr>\n",
       "      <th>38</th>\n",
       "      <td>num_il_tl</td>\n",
       "      <td>0.157650</td>\n",
       "      <td>0.202101</td>\n",
       "      <td>0.004158</td>\n",
       "      <td>Inútil</td>\n",
       "      <td>Diferencia Significativa (p&lt;0.05)</td>\n",
       "      <td>4.669666e-181</td>\n",
       "      <td>Significativo (p&lt;0.05)</td>\n",
       "      <td>5.366986e-181</td>\n",
       "      <td>70276</td>\n",
       "      <td>1277783</td>\n",
       "    </tr>\n",
       "    <tr>\n",
       "      <th>39</th>\n",
       "      <td>num_op_rev_tl</td>\n",
       "      <td>0.157650</td>\n",
       "      <td>0.202101</td>\n",
       "      <td>0.004158</td>\n",
       "      <td>Inútil</td>\n",
       "      <td>Diferencia Significativa (p&lt;0.05)</td>\n",
       "      <td>4.669666e-181</td>\n",
       "      <td>Significativo (p&lt;0.05)</td>\n",
       "      <td>5.366986e-181</td>\n",
       "      <td>70276</td>\n",
       "      <td>1277783</td>\n",
       "    </tr>\n",
       "    <tr>\n",
       "      <th>40</th>\n",
       "      <td>num_rev_accts</td>\n",
       "      <td>0.157648</td>\n",
       "      <td>0.202101</td>\n",
       "      <td>0.004158</td>\n",
       "      <td>Inútil</td>\n",
       "      <td>Diferencia Significativa (p&lt;0.05)</td>\n",
       "      <td>4.441590e-181</td>\n",
       "      <td>Significativo (p&lt;0.05)</td>\n",
       "      <td>5.104890e-181</td>\n",
       "      <td>70277</td>\n",
       "      <td>1277782</td>\n",
       "    </tr>\n",
       "    <tr>\n",
       "      <th>41</th>\n",
       "      <td>num_rev_tl_bal_gt_0</td>\n",
       "      <td>0.157650</td>\n",
       "      <td>0.202101</td>\n",
       "      <td>0.004158</td>\n",
       "      <td>Inútil</td>\n",
       "      <td>Diferencia Significativa (p&lt;0.05)</td>\n",
       "      <td>4.669666e-181</td>\n",
       "      <td>Significativo (p&lt;0.05)</td>\n",
       "      <td>5.366986e-181</td>\n",
       "      <td>70276</td>\n",
       "      <td>1277783</td>\n",
       "    </tr>\n",
       "    <tr>\n",
       "      <th>42</th>\n",
       "      <td>num_sats</td>\n",
       "      <td>0.154037</td>\n",
       "      <td>0.201862</td>\n",
       "      <td>0.004087</td>\n",
       "      <td>Inútil</td>\n",
       "      <td>Diferencia Significativa (p&lt;0.05)</td>\n",
       "      <td>2.163585e-176</td>\n",
       "      <td>Significativo (p&lt;0.05)</td>\n",
       "      <td>2.513095e-176</td>\n",
       "      <td>58590</td>\n",
       "      <td>1289469</td>\n",
       "    </tr>\n",
       "    <tr>\n",
       "      <th>43</th>\n",
       "      <td>num_tl_op_past_12m</td>\n",
       "      <td>0.157650</td>\n",
       "      <td>0.202101</td>\n",
       "      <td>0.004158</td>\n",
       "      <td>Inútil</td>\n",
       "      <td>Diferencia Significativa (p&lt;0.05)</td>\n",
       "      <td>4.669666e-181</td>\n",
       "      <td>Significativo (p&lt;0.05)</td>\n",
       "      <td>5.366986e-181</td>\n",
       "      <td>70276</td>\n",
       "      <td>1277783</td>\n",
       "    </tr>\n",
       "    <tr>\n",
       "      <th>44</th>\n",
       "      <td>pct_tl_nvr_dlq</td>\n",
       "      <td>0.157617</td>\n",
       "      <td>0.202108</td>\n",
       "      <td>0.004174</td>\n",
       "      <td>Inútil</td>\n",
       "      <td>Diferencia Significativa (p&lt;0.05)</td>\n",
       "      <td>9.547170e-182</td>\n",
       "      <td>Significativo (p&lt;0.05)</td>\n",
       "      <td>1.097420e-181</td>\n",
       "      <td>70430</td>\n",
       "      <td>1277629</td>\n",
       "    </tr>\n",
       "    <tr>\n",
       "      <th>45</th>\n",
       "      <td>percent_bc_gt_75</td>\n",
       "      <td>0.165915</td>\n",
       "      <td>0.201480</td>\n",
       "      <td>0.002403</td>\n",
       "      <td>Inútil</td>\n",
       "      <td>Diferencia Significativa (p&lt;0.05)</td>\n",
       "      <td>2.246634e-107</td>\n",
       "      <td>Significativo (p&lt;0.05)</td>\n",
       "      <td>2.511499e-107</td>\n",
       "      <td>64304</td>\n",
       "      <td>1283755</td>\n",
       "    </tr>\n",
       "    <tr>\n",
       "      <th>46</th>\n",
       "      <td>tot_hi_cred_lim</td>\n",
       "      <td>0.157650</td>\n",
       "      <td>0.202101</td>\n",
       "      <td>0.004158</td>\n",
       "      <td>Inútil</td>\n",
       "      <td>Diferencia Significativa (p&lt;0.05)</td>\n",
       "      <td>4.669666e-181</td>\n",
       "      <td>Significativo (p&lt;0.05)</td>\n",
       "      <td>5.366986e-181</td>\n",
       "      <td>70276</td>\n",
       "      <td>1277783</td>\n",
       "    </tr>\n",
       "    <tr>\n",
       "      <th>47</th>\n",
       "      <td>total_bal_ex_mort</td>\n",
       "      <td>0.152848</td>\n",
       "      <td>0.201593</td>\n",
       "      <td>0.003662</td>\n",
       "      <td>Inútil</td>\n",
       "      <td>Diferencia Significativa (p&lt;0.05)</td>\n",
       "      <td>1.014171e-157</td>\n",
       "      <td>Significativo (p&lt;0.05)</td>\n",
       "      <td>1.181420e-157</td>\n",
       "      <td>50030</td>\n",
       "      <td>1298029</td>\n",
       "    </tr>\n",
       "    <tr>\n",
       "      <th>48</th>\n",
       "      <td>total_bc_limit</td>\n",
       "      <td>0.152848</td>\n",
       "      <td>0.201593</td>\n",
       "      <td>0.003662</td>\n",
       "      <td>Inútil</td>\n",
       "      <td>Diferencia Significativa (p&lt;0.05)</td>\n",
       "      <td>1.014171e-157</td>\n",
       "      <td>Significativo (p&lt;0.05)</td>\n",
       "      <td>1.181420e-157</td>\n",
       "      <td>50030</td>\n",
       "      <td>1298029</td>\n",
       "    </tr>\n",
       "    <tr>\n",
       "      <th>49</th>\n",
       "      <td>total_il_high_credit_limit</td>\n",
       "      <td>0.157650</td>\n",
       "      <td>0.202101</td>\n",
       "      <td>0.004158</td>\n",
       "      <td>Inútil</td>\n",
       "      <td>Diferencia Significativa (p&lt;0.05)</td>\n",
       "      <td>4.669666e-181</td>\n",
       "      <td>Significativo (p&lt;0.05)</td>\n",
       "      <td>5.366986e-181</td>\n",
       "      <td>70276</td>\n",
       "      <td>1277783</td>\n",
       "    </tr>\n",
       "  </tbody>\n",
       "</table>\n",
       "</div>"
      ],
      "text/plain": [
       "                          Variable  Target_Mean_if_Null  Target_Mean_if_Not_Null  IV_Score_Nullity IV_Interpretation              Z_Test_Interpretation      Z_P_Value     Chi2_Interpretation   Chi2_P_Value  Count_if_Null  Count_if_Not_Null\n",
       "0                             desc             0.204329                 0.155683          0.008538            Inútil  Diferencia Significativa (p<0.05)   0.000000e+00  Significativo (p<0.05)   0.000000e+00        1222104             125955\n",
       "1           mths_since_last_record             0.194039                 0.227792          0.006057            Inútil  Diferencia Significativa (p<0.05)  5.566851e-297  Significativo (p<0.05)  6.187104e-297        1118644             229415\n",
       "2      mths_since_last_major_derog             0.192800                 0.219412          0.005246            Inútil  Diferencia Significativa (p<0.05)  2.438958e-253  Significativo (p<0.05)  2.650821e-253         994309             353750\n",
       "3                     tot_coll_amt             0.157650                 0.202101          0.004158            Inútil  Diferencia Significativa (p<0.05)  4.669666e-181  Significativo (p<0.05)  5.366986e-181          70276            1277783\n",
       "4                      tot_cur_bal             0.157650                 0.202101          0.004158            Inútil  Diferencia Significativa (p<0.05)  4.669666e-181  Significativo (p<0.05)  5.366986e-181          70276            1277783\n",
       "5                      open_acc_6m             0.184120                 0.223398          0.014297            Inútil  Diferencia Significativa (p<0.05)   0.000000e+00  Significativo (p<0.05)   0.000000e+00         810462             537597\n",
       "6                      open_act_il             0.184120                 0.223397          0.014296            Inútil  Diferencia Significativa (p<0.05)   0.000000e+00  Significativo (p<0.05)   0.000000e+00         810461             537598\n",
       "7                      open_il_12m             0.184120                 0.223397          0.014296            Inútil  Diferencia Significativa (p<0.05)   0.000000e+00  Significativo (p<0.05)   0.000000e+00         810461             537598\n",
       "8                      open_il_24m             0.184120                 0.223397          0.014296            Inútil  Diferencia Significativa (p<0.05)   0.000000e+00  Significativo (p<0.05)   0.000000e+00         810461             537598\n",
       "9               mths_since_rcnt_il             0.185531                 0.222241          0.012362            Inútil  Diferencia Significativa (p<0.05)   0.000000e+00  Significativo (p<0.05)   0.000000e+00         824677             523382\n",
       "10                    total_bal_il             0.184120                 0.223397          0.014296            Inútil  Diferencia Significativa (p<0.05)   0.000000e+00  Significativo (p<0.05)   0.000000e+00         810461             537598\n",
       "11                         il_util             0.186198                 0.225581          0.013442            Inútil  Diferencia Significativa (p<0.05)   0.000000e+00  Significativo (p<0.05)   0.000000e+00         883043             465016\n",
       "12                     open_rv_12m             0.184120                 0.223397          0.014296            Inútil  Diferencia Significativa (p<0.05)   0.000000e+00  Significativo (p<0.05)   0.000000e+00         810461             537598\n",
       "13                     open_rv_24m             0.184120                 0.223397          0.014296            Inútil  Diferencia Significativa (p<0.05)   0.000000e+00  Significativo (p<0.05)   0.000000e+00         810461             537598\n",
       "14                      max_bal_bc             0.184120                 0.223397          0.014296            Inútil  Diferencia Significativa (p<0.05)   0.000000e+00  Significativo (p<0.05)   0.000000e+00         810461             537598\n",
       "15                        all_util             0.184119                 0.223403          0.014300            Inútil  Diferencia Significativa (p<0.05)   0.000000e+00  Significativo (p<0.05)   0.000000e+00         810514             537545\n",
       "16                total_rev_hi_lim             0.157650                 0.202101          0.004158            Inútil  Diferencia Significativa (p<0.05)  4.669666e-181  Significativo (p<0.05)  5.366986e-181          70276            1277783\n",
       "17                          inq_fi             0.184120                 0.223397          0.014296            Inútil  Diferencia Significativa (p<0.05)   0.000000e+00  Significativo (p<0.05)   0.000000e+00         810461             537598\n",
       "18                     total_cu_tl             0.184120                 0.223398          0.014297            Inútil  Diferencia Significativa (p<0.05)   0.000000e+00  Significativo (p<0.05)   0.000000e+00         810462             537597\n",
       "19                    inq_last_12m             0.184120                 0.223398          0.014297            Inútil  Diferencia Significativa (p<0.05)   0.000000e+00  Significativo (p<0.05)   0.000000e+00         810462             537597\n",
       "20            acc_open_past_24mths             0.152848                 0.201593          0.003662            Inútil  Diferencia Significativa (p<0.05)  1.014171e-157  Significativo (p<0.05)  1.181420e-157          50030            1298029\n",
       "21                     avg_cur_bal             0.157700                 0.202099          0.004149            Inútil  Diferencia Significativa (p<0.05)  1.088690e-180  Significativo (p<0.05)  1.251059e-180          70298            1277761\n",
       "22                  bc_open_to_buy             0.165764                 0.201476          0.002409            Inútil  Diferencia Significativa (p<0.05)  1.334282e-107  Significativo (p<0.05)  1.492273e-107          63892            1284167\n",
       "23                         bc_util             0.166375                 0.201467          0.002349            Inútil  Diferencia Significativa (p<0.05)  3.980787e-105  Significativo (p<0.05)  4.443520e-105          64661            1283398\n",
       "24              mo_sin_old_il_acct             0.178058                 0.201682          0.001679            Inútil  Diferencia Significativa (p<0.05)   1.312207e-77  Significativo (p<0.05)   1.413116e-77         108324            1239735\n",
       "25            mo_sin_old_rev_tl_op             0.157662                 0.202100          0.004155            Inútil  Diferencia Significativa (p<0.05)  5.867108e-181  Significativo (p<0.05)  6.742976e-181          70277            1277782\n",
       "26           mo_sin_rcnt_rev_tl_op             0.157662                 0.202100          0.004155            Inútil  Diferencia Significativa (p<0.05)  5.867108e-181  Significativo (p<0.05)  6.742976e-181          70277            1277782\n",
       "27                  mo_sin_rcnt_tl             0.157650                 0.202101          0.004158            Inútil  Diferencia Significativa (p<0.05)  4.669666e-181  Significativo (p<0.05)  5.366986e-181          70276            1277783\n",
       "28                        mort_acc             0.152848                 0.201593          0.003662            Inútil  Diferencia Significativa (p<0.05)  1.014171e-157  Significativo (p<0.05)  1.181420e-157          50030            1298029\n",
       "29            mths_since_recent_bc             0.164983                 0.201489          0.002487            Inútil  Diferencia Significativa (p<0.05)  7.829897e-111  Significativo (p<0.05)  8.778765e-111          62970            1285089\n",
       "30        mths_since_recent_bc_dlq             0.196667                 0.209836          0.001210            Inútil  Diferencia Significativa (p<0.05)   2.102641e-59  Significativo (p<0.05)   2.191384e-59        1029039             319020\n",
       "31           mths_since_recent_inq             0.150780                 0.207181          0.015539            Inútil  Diferencia Significativa (p<0.05)   0.000000e+00  Significativo (p<0.05)   0.000000e+00         176820            1171239\n",
       "32  mths_since_recent_revol_delinq             0.196278                 0.206780          0.000953            Inútil  Diferencia Significativa (p<0.05)   6.919563e-47  Significativo (p<0.05)   7.151704e-47         898097             449962\n",
       "33           num_accts_ever_120_pd             0.157650                 0.202101          0.004158            Inútil  Diferencia Significativa (p<0.05)  4.669666e-181  Significativo (p<0.05)  5.366986e-181          70276            1277783\n",
       "34                  num_actv_bc_tl             0.157650                 0.202101          0.004158            Inútil  Diferencia Significativa (p<0.05)  4.669666e-181  Significativo (p<0.05)  5.366986e-181          70276            1277783\n",
       "35                 num_actv_rev_tl             0.157650                 0.202101          0.004158            Inútil  Diferencia Significativa (p<0.05)  4.669666e-181  Significativo (p<0.05)  5.366986e-181          70276            1277783\n",
       "36                     num_bc_sats             0.154037                 0.201862          0.004087            Inútil  Diferencia Significativa (p<0.05)  2.163585e-176  Significativo (p<0.05)  2.513095e-176          58590            1289469\n",
       "37                       num_bc_tl             0.157650                 0.202101          0.004158            Inútil  Diferencia Significativa (p<0.05)  4.669666e-181  Significativo (p<0.05)  5.366986e-181          70276            1277783\n",
       "38                       num_il_tl             0.157650                 0.202101          0.004158            Inútil  Diferencia Significativa (p<0.05)  4.669666e-181  Significativo (p<0.05)  5.366986e-181          70276            1277783\n",
       "39                   num_op_rev_tl             0.157650                 0.202101          0.004158            Inútil  Diferencia Significativa (p<0.05)  4.669666e-181  Significativo (p<0.05)  5.366986e-181          70276            1277783\n",
       "40                   num_rev_accts             0.157648                 0.202101          0.004158            Inútil  Diferencia Significativa (p<0.05)  4.441590e-181  Significativo (p<0.05)  5.104890e-181          70277            1277782\n",
       "41             num_rev_tl_bal_gt_0             0.157650                 0.202101          0.004158            Inútil  Diferencia Significativa (p<0.05)  4.669666e-181  Significativo (p<0.05)  5.366986e-181          70276            1277783\n",
       "42                        num_sats             0.154037                 0.201862          0.004087            Inútil  Diferencia Significativa (p<0.05)  2.163585e-176  Significativo (p<0.05)  2.513095e-176          58590            1289469\n",
       "43              num_tl_op_past_12m             0.157650                 0.202101          0.004158            Inútil  Diferencia Significativa (p<0.05)  4.669666e-181  Significativo (p<0.05)  5.366986e-181          70276            1277783\n",
       "44                  pct_tl_nvr_dlq             0.157617                 0.202108          0.004174            Inútil  Diferencia Significativa (p<0.05)  9.547170e-182  Significativo (p<0.05)  1.097420e-181          70430            1277629\n",
       "45                percent_bc_gt_75             0.165915                 0.201480          0.002403            Inútil  Diferencia Significativa (p<0.05)  2.246634e-107  Significativo (p<0.05)  2.511499e-107          64304            1283755\n",
       "46                 tot_hi_cred_lim             0.157650                 0.202101          0.004158            Inútil  Diferencia Significativa (p<0.05)  4.669666e-181  Significativo (p<0.05)  5.366986e-181          70276            1277783\n",
       "47               total_bal_ex_mort             0.152848                 0.201593          0.003662            Inútil  Diferencia Significativa (p<0.05)  1.014171e-157  Significativo (p<0.05)  1.181420e-157          50030            1298029\n",
       "48                  total_bc_limit             0.152848                 0.201593          0.003662            Inútil  Diferencia Significativa (p<0.05)  1.014171e-157  Significativo (p<0.05)  1.181420e-157          50030            1298029\n",
       "49      total_il_high_credit_limit             0.157650                 0.202101          0.004158            Inútil  Diferencia Significativa (p<0.05)  4.669666e-181  Significativo (p<0.05)  5.366986e-181          70276            1277783"
      ]
     },
     "execution_count": 53,
     "metadata": {},
     "output_type": "execute_result"
    }
   ],
   "source": [
    "df_target_analysis_summary"
   ]
  },
  {
   "cell_type": "markdown",
   "id": "2e0c2741",
   "metadata": {},
   "source": [
    "Evaluating general predictive power of the features"
   ]
  },
  {
   "cell_type": "code",
   "execution_count": 54,
   "id": "2ada2f67",
   "metadata": {},
   "outputs": [
    {
     "name": "stdout",
     "output_type": "stream",
     "text": [
      "Calculando Information Value para 50 variables...\n",
      "Procesando: desc...\n",
      "Procesando: mths_since_last_record...\n",
      "Procesando: mths_since_last_major_derog...\n",
      "Procesando: tot_coll_amt...\n",
      "Procesando: tot_cur_bal...\n",
      "Procesando: open_acc_6m...\n",
      "Procesando: open_act_il...\n",
      "Procesando: open_il_12m...\n",
      "Procesando: open_il_24m...\n",
      "Procesando: mths_since_rcnt_il...\n",
      "Procesando: total_bal_il...\n",
      "Procesando: il_util...\n",
      "Procesando: open_rv_12m...\n",
      "Procesando: open_rv_24m...\n",
      "Procesando: max_bal_bc...\n",
      "Procesando: all_util...\n",
      "Procesando: total_rev_hi_lim...\n",
      "Procesando: inq_fi...\n",
      "Procesando: total_cu_tl...\n",
      "Procesando: inq_last_12m...\n",
      "Procesando: acc_open_past_24mths...\n",
      "Procesando: avg_cur_bal...\n",
      "Procesando: bc_open_to_buy...\n",
      "Procesando: bc_util...\n",
      "Procesando: mo_sin_old_il_acct...\n",
      "Procesando: mo_sin_old_rev_tl_op...\n",
      "Procesando: mo_sin_rcnt_rev_tl_op...\n",
      "Procesando: mo_sin_rcnt_tl...\n",
      "Procesando: mort_acc...\n",
      "Procesando: mths_since_recent_bc...\n",
      "Procesando: mths_since_recent_bc_dlq...\n",
      "Procesando: mths_since_recent_inq...\n",
      "Procesando: mths_since_recent_revol_delinq...\n",
      "Procesando: num_accts_ever_120_pd...\n",
      "Procesando: num_actv_bc_tl...\n",
      "Procesando: num_actv_rev_tl...\n",
      "Procesando: num_bc_sats...\n",
      "Procesando: num_bc_tl...\n",
      "Procesando: num_il_tl...\n",
      "Procesando: num_op_rev_tl...\n",
      "Procesando: num_rev_accts...\n",
      "Procesando: num_rev_tl_bal_gt_0...\n",
      "Procesando: num_sats...\n",
      "Procesando: num_tl_op_past_12m...\n",
      "Procesando: pct_tl_nvr_dlq...\n",
      "Procesando: percent_bc_gt_75...\n",
      "Procesando: tot_hi_cred_lim...\n",
      "Procesando: total_bal_ex_mort...\n",
      "Procesando: total_bc_limit...\n",
      "Procesando: total_il_high_credit_limit...\n",
      "\n",
      "Cálculo de IV completado.\n",
      "Ranking de Poder Predictivo de las Variables (Information Value):\n"
     ]
    },
    {
     "data": {
      "text/html": [
       "<div>\n",
       "<style scoped>\n",
       "    .dataframe tbody tr th:only-of-type {\n",
       "        vertical-align: middle;\n",
       "    }\n",
       "\n",
       "    .dataframe tbody tr th {\n",
       "        vertical-align: top;\n",
       "    }\n",
       "\n",
       "    .dataframe thead th {\n",
       "        text-align: right;\n",
       "    }\n",
       "</style>\n",
       "<table border=\"1\" class=\"dataframe\">\n",
       "  <thead>\n",
       "    <tr style=\"text-align: right;\">\n",
       "      <th></th>\n",
       "      <th>Variable</th>\n",
       "      <th>IV_Score</th>\n",
       "      <th>Interpretation</th>\n",
       "    </tr>\n",
       "  </thead>\n",
       "  <tbody>\n",
       "    <tr>\n",
       "      <th>0</th>\n",
       "      <td>desc</td>\n",
       "      <td>1.916766</td>\n",
       "      <td>Sospechoso</td>\n",
       "    </tr>\n",
       "    <tr>\n",
       "      <th>1</th>\n",
       "      <td>acc_open_past_24mths</td>\n",
       "      <td>0.064334</td>\n",
       "      <td>Predictor Débil</td>\n",
       "    </tr>\n",
       "    <tr>\n",
       "      <th>2</th>\n",
       "      <td>bc_open_to_buy</td>\n",
       "      <td>0.057767</td>\n",
       "      <td>Predictor Débil</td>\n",
       "    </tr>\n",
       "    <tr>\n",
       "      <th>3</th>\n",
       "      <td>avg_cur_bal</td>\n",
       "      <td>0.052992</td>\n",
       "      <td>Predictor Débil</td>\n",
       "    </tr>\n",
       "    <tr>\n",
       "      <th>4</th>\n",
       "      <td>tot_hi_cred_lim</td>\n",
       "      <td>0.048874</td>\n",
       "      <td>Predictor Débil</td>\n",
       "    </tr>\n",
       "    <tr>\n",
       "      <th>5</th>\n",
       "      <td>num_tl_op_past_12m</td>\n",
       "      <td>0.045755</td>\n",
       "      <td>Predictor Débil</td>\n",
       "    </tr>\n",
       "    <tr>\n",
       "      <th>6</th>\n",
       "      <td>tot_cur_bal</td>\n",
       "      <td>0.042884</td>\n",
       "      <td>Predictor Débil</td>\n",
       "    </tr>\n",
       "    <tr>\n",
       "      <th>7</th>\n",
       "      <td>total_bc_limit</td>\n",
       "      <td>0.041359</td>\n",
       "      <td>Predictor Débil</td>\n",
       "    </tr>\n",
       "    <tr>\n",
       "      <th>8</th>\n",
       "      <td>mort_acc</td>\n",
       "      <td>0.039339</td>\n",
       "      <td>Predictor Débil</td>\n",
       "    </tr>\n",
       "    <tr>\n",
       "      <th>9</th>\n",
       "      <td>all_util</td>\n",
       "      <td>0.035598</td>\n",
       "      <td>Predictor Débil</td>\n",
       "    </tr>\n",
       "    <tr>\n",
       "      <th>10</th>\n",
       "      <td>mths_since_recent_inq</td>\n",
       "      <td>0.035407</td>\n",
       "      <td>Predictor Débil</td>\n",
       "    </tr>\n",
       "    <tr>\n",
       "      <th>11</th>\n",
       "      <td>num_actv_rev_tl</td>\n",
       "      <td>0.033335</td>\n",
       "      <td>Predictor Débil</td>\n",
       "    </tr>\n",
       "    <tr>\n",
       "      <th>12</th>\n",
       "      <td>mo_sin_rcnt_tl</td>\n",
       "      <td>0.032801</td>\n",
       "      <td>Predictor Débil</td>\n",
       "    </tr>\n",
       "    <tr>\n",
       "      <th>13</th>\n",
       "      <td>num_rev_tl_bal_gt_0</td>\n",
       "      <td>0.031945</td>\n",
       "      <td>Predictor Débil</td>\n",
       "    </tr>\n",
       "    <tr>\n",
       "      <th>14</th>\n",
       "      <td>open_rv_24m</td>\n",
       "      <td>0.031155</td>\n",
       "      <td>Predictor Débil</td>\n",
       "    </tr>\n",
       "    <tr>\n",
       "      <th>15</th>\n",
       "      <td>total_rev_hi_lim</td>\n",
       "      <td>0.030878</td>\n",
       "      <td>Predictor Débil</td>\n",
       "    </tr>\n",
       "    <tr>\n",
       "      <th>16</th>\n",
       "      <td>percent_bc_gt_75</td>\n",
       "      <td>0.030266</td>\n",
       "      <td>Predictor Débil</td>\n",
       "    </tr>\n",
       "    <tr>\n",
       "      <th>17</th>\n",
       "      <td>bc_util</td>\n",
       "      <td>0.029872</td>\n",
       "      <td>Predictor Débil</td>\n",
       "    </tr>\n",
       "    <tr>\n",
       "      <th>18</th>\n",
       "      <td>mo_sin_rcnt_rev_tl_op</td>\n",
       "      <td>0.028425</td>\n",
       "      <td>Predictor Débil</td>\n",
       "    </tr>\n",
       "    <tr>\n",
       "      <th>19</th>\n",
       "      <td>mths_since_recent_bc</td>\n",
       "      <td>0.026188</td>\n",
       "      <td>Predictor Débil</td>\n",
       "    </tr>\n",
       "    <tr>\n",
       "      <th>20</th>\n",
       "      <td>mo_sin_old_rev_tl_op</td>\n",
       "      <td>0.026083</td>\n",
       "      <td>Predictor Débil</td>\n",
       "    </tr>\n",
       "    <tr>\n",
       "      <th>21</th>\n",
       "      <td>open_rv_12m</td>\n",
       "      <td>0.023174</td>\n",
       "      <td>Predictor Débil</td>\n",
       "    </tr>\n",
       "    <tr>\n",
       "      <th>22</th>\n",
       "      <td>inq_last_12m</td>\n",
       "      <td>0.022204</td>\n",
       "      <td>Predictor Débil</td>\n",
       "    </tr>\n",
       "    <tr>\n",
       "      <th>23</th>\n",
       "      <td>open_acc_6m</td>\n",
       "      <td>0.021341</td>\n",
       "      <td>Predictor Débil</td>\n",
       "    </tr>\n",
       "    <tr>\n",
       "      <th>24</th>\n",
       "      <td>il_util</td>\n",
       "      <td>0.019118</td>\n",
       "      <td>Inútil</td>\n",
       "    </tr>\n",
       "    <tr>\n",
       "      <th>25</th>\n",
       "      <td>max_bal_bc</td>\n",
       "      <td>0.019001</td>\n",
       "      <td>Inútil</td>\n",
       "    </tr>\n",
       "    <tr>\n",
       "      <th>26</th>\n",
       "      <td>open_il_24m</td>\n",
       "      <td>0.017886</td>\n",
       "      <td>Inútil</td>\n",
       "    </tr>\n",
       "    <tr>\n",
       "      <th>27</th>\n",
       "      <td>open_il_12m</td>\n",
       "      <td>0.017645</td>\n",
       "      <td>Inútil</td>\n",
       "    </tr>\n",
       "    <tr>\n",
       "      <th>28</th>\n",
       "      <td>inq_fi</td>\n",
       "      <td>0.017474</td>\n",
       "      <td>Inútil</td>\n",
       "    </tr>\n",
       "    <tr>\n",
       "      <th>29</th>\n",
       "      <td>mths_since_rcnt_il</td>\n",
       "      <td>0.017154</td>\n",
       "      <td>Inútil</td>\n",
       "    </tr>\n",
       "    <tr>\n",
       "      <th>30</th>\n",
       "      <td>total_cu_tl</td>\n",
       "      <td>0.015049</td>\n",
       "      <td>Inútil</td>\n",
       "    </tr>\n",
       "    <tr>\n",
       "      <th>31</th>\n",
       "      <td>open_act_il</td>\n",
       "      <td>0.014930</td>\n",
       "      <td>Inútil</td>\n",
       "    </tr>\n",
       "    <tr>\n",
       "      <th>32</th>\n",
       "      <td>total_bal_il</td>\n",
       "      <td>0.014659</td>\n",
       "      <td>Inútil</td>\n",
       "    </tr>\n",
       "    <tr>\n",
       "      <th>33</th>\n",
       "      <td>num_actv_bc_tl</td>\n",
       "      <td>0.014416</td>\n",
       "      <td>Inútil</td>\n",
       "    </tr>\n",
       "    <tr>\n",
       "      <th>34</th>\n",
       "      <td>num_op_rev_tl</td>\n",
       "      <td>0.010772</td>\n",
       "      <td>Inútil</td>\n",
       "    </tr>\n",
       "    <tr>\n",
       "      <th>35</th>\n",
       "      <td>mo_sin_old_il_acct</td>\n",
       "      <td>0.008802</td>\n",
       "      <td>Inútil</td>\n",
       "    </tr>\n",
       "    <tr>\n",
       "      <th>36</th>\n",
       "      <td>num_sats</td>\n",
       "      <td>0.008287</td>\n",
       "      <td>Inútil</td>\n",
       "    </tr>\n",
       "    <tr>\n",
       "      <th>37</th>\n",
       "      <td>mths_since_last_record</td>\n",
       "      <td>0.006765</td>\n",
       "      <td>Inútil</td>\n",
       "    </tr>\n",
       "    <tr>\n",
       "      <th>38</th>\n",
       "      <td>num_bc_tl</td>\n",
       "      <td>0.006669</td>\n",
       "      <td>Inútil</td>\n",
       "    </tr>\n",
       "    <tr>\n",
       "      <th>39</th>\n",
       "      <td>total_bal_ex_mort</td>\n",
       "      <td>0.005846</td>\n",
       "      <td>Inútil</td>\n",
       "    </tr>\n",
       "    <tr>\n",
       "      <th>40</th>\n",
       "      <td>tot_coll_amt</td>\n",
       "      <td>0.005634</td>\n",
       "      <td>Inútil</td>\n",
       "    </tr>\n",
       "    <tr>\n",
       "      <th>41</th>\n",
       "      <td>pct_tl_nvr_dlq</td>\n",
       "      <td>0.005604</td>\n",
       "      <td>Inútil</td>\n",
       "    </tr>\n",
       "    <tr>\n",
       "      <th>42</th>\n",
       "      <td>num_bc_sats</td>\n",
       "      <td>0.005597</td>\n",
       "      <td>Inútil</td>\n",
       "    </tr>\n",
       "    <tr>\n",
       "      <th>43</th>\n",
       "      <td>mths_since_last_major_derog</td>\n",
       "      <td>0.005492</td>\n",
       "      <td>Inútil</td>\n",
       "    </tr>\n",
       "    <tr>\n",
       "      <th>44</th>\n",
       "      <td>total_il_high_credit_limit</td>\n",
       "      <td>0.004897</td>\n",
       "      <td>Inútil</td>\n",
       "    </tr>\n",
       "    <tr>\n",
       "      <th>45</th>\n",
       "      <td>num_il_tl</td>\n",
       "      <td>0.004844</td>\n",
       "      <td>Inútil</td>\n",
       "    </tr>\n",
       "    <tr>\n",
       "      <th>46</th>\n",
       "      <td>num_rev_accts</td>\n",
       "      <td>0.004681</td>\n",
       "      <td>Inútil</td>\n",
       "    </tr>\n",
       "    <tr>\n",
       "      <th>47</th>\n",
       "      <td>num_accts_ever_120_pd</td>\n",
       "      <td>0.004657</td>\n",
       "      <td>Inútil</td>\n",
       "    </tr>\n",
       "    <tr>\n",
       "      <th>48</th>\n",
       "      <td>mths_since_recent_bc_dlq</td>\n",
       "      <td>0.001600</td>\n",
       "      <td>Inútil</td>\n",
       "    </tr>\n",
       "    <tr>\n",
       "      <th>49</th>\n",
       "      <td>mths_since_recent_revol_delinq</td>\n",
       "      <td>0.001493</td>\n",
       "      <td>Inútil</td>\n",
       "    </tr>\n",
       "  </tbody>\n",
       "</table>\n",
       "</div>"
      ],
      "text/plain": [
       "                          Variable  IV_Score   Interpretation\n",
       "0                             desc  1.916766       Sospechoso\n",
       "1             acc_open_past_24mths  0.064334  Predictor Débil\n",
       "2                   bc_open_to_buy  0.057767  Predictor Débil\n",
       "3                      avg_cur_bal  0.052992  Predictor Débil\n",
       "4                  tot_hi_cred_lim  0.048874  Predictor Débil\n",
       "5               num_tl_op_past_12m  0.045755  Predictor Débil\n",
       "6                      tot_cur_bal  0.042884  Predictor Débil\n",
       "7                   total_bc_limit  0.041359  Predictor Débil\n",
       "8                         mort_acc  0.039339  Predictor Débil\n",
       "9                         all_util  0.035598  Predictor Débil\n",
       "10           mths_since_recent_inq  0.035407  Predictor Débil\n",
       "11                 num_actv_rev_tl  0.033335  Predictor Débil\n",
       "12                  mo_sin_rcnt_tl  0.032801  Predictor Débil\n",
       "13             num_rev_tl_bal_gt_0  0.031945  Predictor Débil\n",
       "14                     open_rv_24m  0.031155  Predictor Débil\n",
       "15                total_rev_hi_lim  0.030878  Predictor Débil\n",
       "16                percent_bc_gt_75  0.030266  Predictor Débil\n",
       "17                         bc_util  0.029872  Predictor Débil\n",
       "18           mo_sin_rcnt_rev_tl_op  0.028425  Predictor Débil\n",
       "19            mths_since_recent_bc  0.026188  Predictor Débil\n",
       "20            mo_sin_old_rev_tl_op  0.026083  Predictor Débil\n",
       "21                     open_rv_12m  0.023174  Predictor Débil\n",
       "22                    inq_last_12m  0.022204  Predictor Débil\n",
       "23                     open_acc_6m  0.021341  Predictor Débil\n",
       "24                         il_util  0.019118           Inútil\n",
       "25                      max_bal_bc  0.019001           Inútil\n",
       "26                     open_il_24m  0.017886           Inútil\n",
       "27                     open_il_12m  0.017645           Inútil\n",
       "28                          inq_fi  0.017474           Inútil\n",
       "29              mths_since_rcnt_il  0.017154           Inútil\n",
       "30                     total_cu_tl  0.015049           Inútil\n",
       "31                     open_act_il  0.014930           Inútil\n",
       "32                    total_bal_il  0.014659           Inútil\n",
       "33                  num_actv_bc_tl  0.014416           Inútil\n",
       "34                   num_op_rev_tl  0.010772           Inútil\n",
       "35              mo_sin_old_il_acct  0.008802           Inútil\n",
       "36                        num_sats  0.008287           Inútil\n",
       "37          mths_since_last_record  0.006765           Inútil\n",
       "38                       num_bc_tl  0.006669           Inútil\n",
       "39               total_bal_ex_mort  0.005846           Inútil\n",
       "40                    tot_coll_amt  0.005634           Inútil\n",
       "41                  pct_tl_nvr_dlq  0.005604           Inútil\n",
       "42                     num_bc_sats  0.005597           Inútil\n",
       "43     mths_since_last_major_derog  0.005492           Inútil\n",
       "44      total_il_high_credit_limit  0.004897           Inútil\n",
       "45                       num_il_tl  0.004844           Inútil\n",
       "46                   num_rev_accts  0.004681           Inútil\n",
       "47           num_accts_ever_120_pd  0.004657           Inútil\n",
       "48        mths_since_recent_bc_dlq  0.001600           Inútil\n",
       "49  mths_since_recent_revol_delinq  0.001493           Inútil"
      ]
     },
     "metadata": {},
     "output_type": "display_data"
    }
   ],
   "source": [
    "\n",
    "\n",
    "# --- Configuración ---\n",
    "TARGET = 'target'\n",
    "\n",
    "# Lista de variables a analizar (proporcionada por ti)\n",
    "variables_to_analyze = [\n",
    "    'desc', 'mths_since_last_record', 'mths_since_last_major_derog',\n",
    "    'tot_coll_amt', 'tot_cur_bal', 'open_acc_6m', 'open_act_il',\n",
    "    'open_il_12m', 'open_il_24m', 'mths_since_rcnt_il', 'total_bal_il',\n",
    "    'il_util', 'open_rv_12m', 'open_rv_24m', 'max_bal_bc', 'all_util',\n",
    "    'total_rev_hi_lim', 'inq_fi', 'total_cu_tl', 'inq_last_12m',\n",
    "    'acc_open_past_24mths', 'avg_cur_bal', 'bc_open_to_buy', 'bc_util',\n",
    "    'mo_sin_old_il_acct', 'mo_sin_old_rev_tl_op',\n",
    "    'mo_sin_rcnt_rev_tl_op', 'mo_sin_rcnt_tl', 'mort_acc',\n",
    "    'mths_since_recent_bc', 'mths_since_recent_bc_dlq',\n",
    "    'mths_since_recent_inq', 'mths_since_recent_revol_delinq',\n",
    "    'num_accts_ever_120_pd', 'num_actv_bc_tl', 'num_actv_rev_tl',\n",
    "    'num_bc_sats', 'num_bc_tl', 'num_il_tl', 'num_op_rev_tl',\n",
    "    'num_rev_accts', 'num_rev_tl_bal_gt_0', 'num_sats',\n",
    "    'num_tl_op_past_12m', 'pct_tl_nvr_dlq', 'percent_bc_gt_75',\n",
    "    'tot_hi_cred_lim', 'total_bal_ex_mort', 'total_bc_limit',\n",
    "    'total_il_high_credit_limit'\n",
    "]\n",
    "\n",
    "# --- Bucle de Análisis de IV ---\n",
    "iv_results = []\n",
    "print(f\"Calculando Information Value para {len(variables_to_analyze)} variables...\")\n",
    "\n",
    "for var in variables_to_analyze:\n",
    "    print(f\"Procesando: {var}...\")\n",
    "    try:\n",
    "        # La función devuelve el df detallado y el IV total. Solo necesitamos el IV total.\n",
    "        df_woe_iv, iv_score = calculate_woe_iv(df_model, var, TARGET)\n",
    "        \n",
    "        iv_results.append({\n",
    "            'Variable': var,\n",
    "            'IV_Score': iv_score\n",
    "        })\n",
    "        \n",
    "    except Exception as e:\n",
    "        print(f\"  -> ¡Error! No se pudo calcular el IV para '{var}'. Razón: {e}\")\n",
    "        iv_results.append({\n",
    "            'Variable': var,\n",
    "            'IV_Score': np.nan\n",
    "        })\n",
    "\n",
    "print(\"\\nCálculo de IV completado.\")\n",
    "\n",
    "# --- Crear y Mostrar el DataFrame de Resultados ---\n",
    "if iv_results:\n",
    "    # Convertir lista de resultados a DataFrame\n",
    "    df_iv_summary = pd.DataFrame(iv_results).sort_values(by='IV_Score', ascending=False).reset_index(drop=True)\n",
    "\n",
    "    # Añadir interpretación basada en las reglas de Siddiqi\n",
    "    def iv_interpretation(iv):\n",
    "        if pd.isna(iv):\n",
    "            return \"Error en cálculo\"\n",
    "        if iv < 0.02: return 'Inútil'\n",
    "        elif iv < 0.1: return 'Predictor Débil'\n",
    "        elif iv < 0.3: return 'Predictor Medio'\n",
    "        elif iv < 0.5: return 'Predictor Fuerte'\n",
    "        else: return 'Sospechoso'\n",
    "\n",
    "    df_iv_summary['Interpretation'] = df_iv_summary['IV_Score'].apply(iv_interpretation)\n",
    "    \n",
    "    print(\"Ranking de Poder Predictivo de las Variables (Information Value):\")\n",
    "    display(df_iv_summary)\n",
    "else:\n",
    "    print(\"No se pudieron generar resultados de IV.\")"
   ]
  },
  {
   "cell_type": "code",
   "execution_count": 55,
   "id": "3a8ab797",
   "metadata": {},
   "outputs": [],
   "source": [
    "features_to_drop = ['desc', 'mths_since_last_record', ] + df_iv_summary[df_iv_summary['Interpretation']=='Inútil']['Variable'].tolist()\n",
    "\n",
    "df_model = df_model.drop(features_to_drop, axis=1)"
   ]
  },
  {
   "cell_type": "code",
   "execution_count": 58,
   "id": "d1155476",
   "metadata": {},
   "outputs": [],
   "source": [
    "####Savind data until here\n",
    "df_model.reset_index(drop=True).to_csv(\"df_model.csv\", index=False)"
   ]
  },
  {
   "cell_type": "markdown",
   "id": "4f2c9746",
   "metadata": {},
   "source": [
    "## Correlation analysis + IV"
   ]
  },
  {
   "cell_type": "code",
   "execution_count": 31,
   "id": "f898922a",
   "metadata": {},
   "outputs": [
    {
     "name": "stdout",
     "output_type": "stream",
     "text": [
      "Dimension of data (1348059, 61)\n"
     ]
    },
    {
     "data": {
      "text/html": [
       "<div>\n",
       "<style scoped>\n",
       "    .dataframe tbody tr th:only-of-type {\n",
       "        vertical-align: middle;\n",
       "    }\n",
       "\n",
       "    .dataframe tbody tr th {\n",
       "        vertical-align: top;\n",
       "    }\n",
       "\n",
       "    .dataframe thead th {\n",
       "        text-align: right;\n",
       "    }\n",
       "</style>\n",
       "<table border=\"1\" class=\"dataframe\">\n",
       "  <thead>\n",
       "    <tr style=\"text-align: right;\">\n",
       "      <th></th>\n",
       "      <th>id</th>\n",
       "      <th>loan_amnt</th>\n",
       "      <th>funded_amnt</th>\n",
       "      <th>funded_amnt_inv</th>\n",
       "      <th>term</th>\n",
       "      <th>int_rate</th>\n",
       "      <th>installment</th>\n",
       "      <th>grade</th>\n",
       "      <th>sub_grade</th>\n",
       "      <th>emp_title</th>\n",
       "      <th>emp_length</th>\n",
       "      <th>home_ownership</th>\n",
       "      <th>annual_inc</th>\n",
       "      <th>verification_status</th>\n",
       "      <th>purpose</th>\n",
       "      <th>title</th>\n",
       "      <th>zip_code</th>\n",
       "      <th>addr_state</th>\n",
       "      <th>dti</th>\n",
       "      <th>delinq_2yrs</th>\n",
       "      <th>fico_range_low</th>\n",
       "      <th>fico_range_high</th>\n",
       "      <th>inq_last_6mths</th>\n",
       "      <th>mths_since_last_delinq</th>\n",
       "      <th>open_acc</th>\n",
       "      <th>pub_rec</th>\n",
       "      <th>revol_bal</th>\n",
       "      <th>revol_util</th>\n",
       "      <th>total_acc</th>\n",
       "      <th>initial_list_status</th>\n",
       "      <th>last_pymnt_amnt</th>\n",
       "      <th>last_fico_range_high</th>\n",
       "      <th>last_fico_range_low</th>\n",
       "      <th>tot_cur_bal</th>\n",
       "      <th>open_acc_6m</th>\n",
       "      <th>open_rv_12m</th>\n",
       "      <th>open_rv_24m</th>\n",
       "      <th>all_util</th>\n",
       "      <th>total_rev_hi_lim</th>\n",
       "      <th>inq_last_12m</th>\n",
       "      <th>acc_open_past_24mths</th>\n",
       "      <th>avg_cur_bal</th>\n",
       "      <th>bc_open_to_buy</th>\n",
       "      <th>bc_util</th>\n",
       "      <th>mo_sin_old_rev_tl_op</th>\n",
       "      <th>mo_sin_rcnt_rev_tl_op</th>\n",
       "      <th>mo_sin_rcnt_tl</th>\n",
       "      <th>mort_acc</th>\n",
       "      <th>mths_since_recent_bc</th>\n",
       "      <th>mths_since_recent_inq</th>\n",
       "      <th>num_actv_rev_tl</th>\n",
       "      <th>num_rev_tl_bal_gt_0</th>\n",
       "      <th>num_tl_op_past_12m</th>\n",
       "      <th>percent_bc_gt_75</th>\n",
       "      <th>tot_hi_cred_lim</th>\n",
       "      <th>total_bc_limit</th>\n",
       "      <th>d_vintage</th>\n",
       "      <th>target</th>\n",
       "      <th>Set</th>\n",
       "      <th>credit_history_length_months</th>\n",
       "    </tr>\n",
       "  </thead>\n",
       "  <tbody>\n",
       "    <tr>\n",
       "      <th>0</th>\n",
       "      <td>68407277</td>\n",
       "      <td>3600.0</td>\n",
       "      <td>3600.0</td>\n",
       "      <td>3600.0</td>\n",
       "      <td>36 months</td>\n",
       "      <td>13.99</td>\n",
       "      <td>123.03</td>\n",
       "      <td>C</td>\n",
       "      <td>C4</td>\n",
       "      <td>leadman</td>\n",
       "      <td>10+ years</td>\n",
       "      <td>MORTGAGE</td>\n",
       "      <td>55000.0</td>\n",
       "      <td>Not Verified</td>\n",
       "      <td>debt_consolidation</td>\n",
       "      <td>Debt consolidation</td>\n",
       "      <td>190xx</td>\n",
       "      <td>PA</td>\n",
       "      <td>5.91</td>\n",
       "      <td>0.0</td>\n",
       "      <td>675.0</td>\n",
       "      <td>679.0</td>\n",
       "      <td>1.0</td>\n",
       "      <td>30.0</td>\n",
       "      <td>7.0</td>\n",
       "      <td>0.0</td>\n",
       "      <td>2765.0</td>\n",
       "      <td>29.7</td>\n",
       "      <td>13.0</td>\n",
       "      <td>w</td>\n",
       "      <td>122.67</td>\n",
       "      <td>564.0</td>\n",
       "      <td>560.0</td>\n",
       "      <td>144904.0</td>\n",
       "      <td>2.0</td>\n",
       "      <td>3.0</td>\n",
       "      <td>3.0</td>\n",
       "      <td>34.0</td>\n",
       "      <td>9300.0</td>\n",
       "      <td>4.0</td>\n",
       "      <td>4.0</td>\n",
       "      <td>20701.0</td>\n",
       "      <td>1506.0</td>\n",
       "      <td>37.2</td>\n",
       "      <td>128.0</td>\n",
       "      <td>3.0</td>\n",
       "      <td>3.0</td>\n",
       "      <td>1.0</td>\n",
       "      <td>4.0</td>\n",
       "      <td>4.0</td>\n",
       "      <td>4.0</td>\n",
       "      <td>4.0</td>\n",
       "      <td>3.0</td>\n",
       "      <td>0.0</td>\n",
       "      <td>178050.0</td>\n",
       "      <td>2400.0</td>\n",
       "      <td>2015-12-01</td>\n",
       "      <td>0.0</td>\n",
       "      <td>Train</td>\n",
       "      <td>148.00</td>\n",
       "    </tr>\n",
       "    <tr>\n",
       "      <th>1</th>\n",
       "      <td>68355089</td>\n",
       "      <td>24700.0</td>\n",
       "      <td>24700.0</td>\n",
       "      <td>24700.0</td>\n",
       "      <td>36 months</td>\n",
       "      <td>11.99</td>\n",
       "      <td>820.28</td>\n",
       "      <td>C</td>\n",
       "      <td>C1</td>\n",
       "      <td>Engineer</td>\n",
       "      <td>10+ years</td>\n",
       "      <td>MORTGAGE</td>\n",
       "      <td>65000.0</td>\n",
       "      <td>Not Verified</td>\n",
       "      <td>small_business</td>\n",
       "      <td>Business</td>\n",
       "      <td>577xx</td>\n",
       "      <td>SD</td>\n",
       "      <td>16.06</td>\n",
       "      <td>1.0</td>\n",
       "      <td>715.0</td>\n",
       "      <td>719.0</td>\n",
       "      <td>4.0</td>\n",
       "      <td>6.0</td>\n",
       "      <td>22.0</td>\n",
       "      <td>0.0</td>\n",
       "      <td>21470.0</td>\n",
       "      <td>19.2</td>\n",
       "      <td>38.0</td>\n",
       "      <td>w</td>\n",
       "      <td>926.35</td>\n",
       "      <td>699.0</td>\n",
       "      <td>695.0</td>\n",
       "      <td>204396.0</td>\n",
       "      <td>1.0</td>\n",
       "      <td>2.0</td>\n",
       "      <td>3.0</td>\n",
       "      <td>29.0</td>\n",
       "      <td>111800.0</td>\n",
       "      <td>6.0</td>\n",
       "      <td>4.0</td>\n",
       "      <td>9733.0</td>\n",
       "      <td>57830.0</td>\n",
       "      <td>27.1</td>\n",
       "      <td>192.0</td>\n",
       "      <td>2.0</td>\n",
       "      <td>2.0</td>\n",
       "      <td>4.0</td>\n",
       "      <td>2.0</td>\n",
       "      <td>0.0</td>\n",
       "      <td>5.0</td>\n",
       "      <td>5.0</td>\n",
       "      <td>2.0</td>\n",
       "      <td>7.7</td>\n",
       "      <td>314017.0</td>\n",
       "      <td>79300.0</td>\n",
       "      <td>2015-12-01</td>\n",
       "      <td>0.0</td>\n",
       "      <td>Train</td>\n",
       "      <td>191.98</td>\n",
       "    </tr>\n",
       "    <tr>\n",
       "      <th>2</th>\n",
       "      <td>68341763</td>\n",
       "      <td>20000.0</td>\n",
       "      <td>20000.0</td>\n",
       "      <td>20000.0</td>\n",
       "      <td>60 months</td>\n",
       "      <td>10.78</td>\n",
       "      <td>432.66</td>\n",
       "      <td>B</td>\n",
       "      <td>B4</td>\n",
       "      <td>truck driver</td>\n",
       "      <td>10+ years</td>\n",
       "      <td>MORTGAGE</td>\n",
       "      <td>63000.0</td>\n",
       "      <td>Not Verified</td>\n",
       "      <td>home_improvement</td>\n",
       "      <td>NaN</td>\n",
       "      <td>605xx</td>\n",
       "      <td>IL</td>\n",
       "      <td>10.78</td>\n",
       "      <td>0.0</td>\n",
       "      <td>695.0</td>\n",
       "      <td>699.0</td>\n",
       "      <td>0.0</td>\n",
       "      <td>NaN</td>\n",
       "      <td>6.0</td>\n",
       "      <td>0.0</td>\n",
       "      <td>7869.0</td>\n",
       "      <td>56.2</td>\n",
       "      <td>18.0</td>\n",
       "      <td>w</td>\n",
       "      <td>15813.30</td>\n",
       "      <td>704.0</td>\n",
       "      <td>700.0</td>\n",
       "      <td>189699.0</td>\n",
       "      <td>0.0</td>\n",
       "      <td>0.0</td>\n",
       "      <td>2.0</td>\n",
       "      <td>65.0</td>\n",
       "      <td>14000.0</td>\n",
       "      <td>1.0</td>\n",
       "      <td>6.0</td>\n",
       "      <td>31617.0</td>\n",
       "      <td>2737.0</td>\n",
       "      <td>55.9</td>\n",
       "      <td>184.0</td>\n",
       "      <td>14.0</td>\n",
       "      <td>14.0</td>\n",
       "      <td>5.0</td>\n",
       "      <td>101.0</td>\n",
       "      <td>10.0</td>\n",
       "      <td>3.0</td>\n",
       "      <td>3.0</td>\n",
       "      <td>0.0</td>\n",
       "      <td>50.0</td>\n",
       "      <td>218418.0</td>\n",
       "      <td>6200.0</td>\n",
       "      <td>2015-12-01</td>\n",
       "      <td>0.0</td>\n",
       "      <td>Train</td>\n",
       "      <td>183.97</td>\n",
       "    </tr>\n",
       "    <tr>\n",
       "      <th>3</th>\n",
       "      <td>68476807</td>\n",
       "      <td>10400.0</td>\n",
       "      <td>10400.0</td>\n",
       "      <td>10400.0</td>\n",
       "      <td>60 months</td>\n",
       "      <td>22.45</td>\n",
       "      <td>289.91</td>\n",
       "      <td>F</td>\n",
       "      <td>F1</td>\n",
       "      <td>Contract Specialist</td>\n",
       "      <td>3 years</td>\n",
       "      <td>MORTGAGE</td>\n",
       "      <td>104433.0</td>\n",
       "      <td>Source Verified</td>\n",
       "      <td>major_purchase</td>\n",
       "      <td>Major purchase</td>\n",
       "      <td>174xx</td>\n",
       "      <td>PA</td>\n",
       "      <td>25.37</td>\n",
       "      <td>1.0</td>\n",
       "      <td>695.0</td>\n",
       "      <td>699.0</td>\n",
       "      <td>3.0</td>\n",
       "      <td>12.0</td>\n",
       "      <td>12.0</td>\n",
       "      <td>0.0</td>\n",
       "      <td>21929.0</td>\n",
       "      <td>64.5</td>\n",
       "      <td>35.0</td>\n",
       "      <td>w</td>\n",
       "      <td>10128.96</td>\n",
       "      <td>704.0</td>\n",
       "      <td>700.0</td>\n",
       "      <td>331730.0</td>\n",
       "      <td>1.0</td>\n",
       "      <td>4.0</td>\n",
       "      <td>7.0</td>\n",
       "      <td>78.0</td>\n",
       "      <td>34000.0</td>\n",
       "      <td>3.0</td>\n",
       "      <td>10.0</td>\n",
       "      <td>27644.0</td>\n",
       "      <td>4567.0</td>\n",
       "      <td>77.5</td>\n",
       "      <td>210.0</td>\n",
       "      <td>4.0</td>\n",
       "      <td>4.0</td>\n",
       "      <td>6.0</td>\n",
       "      <td>4.0</td>\n",
       "      <td>1.0</td>\n",
       "      <td>6.0</td>\n",
       "      <td>6.0</td>\n",
       "      <td>4.0</td>\n",
       "      <td>60.0</td>\n",
       "      <td>439570.0</td>\n",
       "      <td>20300.0</td>\n",
       "      <td>2015-12-01</td>\n",
       "      <td>0.0</td>\n",
       "      <td>Train</td>\n",
       "      <td>209.99</td>\n",
       "    </tr>\n",
       "    <tr>\n",
       "      <th>4</th>\n",
       "      <td>68426831</td>\n",
       "      <td>11950.0</td>\n",
       "      <td>11950.0</td>\n",
       "      <td>11950.0</td>\n",
       "      <td>36 months</td>\n",
       "      <td>13.44</td>\n",
       "      <td>405.18</td>\n",
       "      <td>C</td>\n",
       "      <td>C3</td>\n",
       "      <td>Veterinary Tecnician</td>\n",
       "      <td>4 years</td>\n",
       "      <td>RENT</td>\n",
       "      <td>34000.0</td>\n",
       "      <td>Source Verified</td>\n",
       "      <td>debt_consolidation</td>\n",
       "      <td>Debt consolidation</td>\n",
       "      <td>300xx</td>\n",
       "      <td>GA</td>\n",
       "      <td>10.20</td>\n",
       "      <td>0.0</td>\n",
       "      <td>690.0</td>\n",
       "      <td>694.0</td>\n",
       "      <td>0.0</td>\n",
       "      <td>NaN</td>\n",
       "      <td>5.0</td>\n",
       "      <td>0.0</td>\n",
       "      <td>8822.0</td>\n",
       "      <td>68.4</td>\n",
       "      <td>6.0</td>\n",
       "      <td>w</td>\n",
       "      <td>7653.56</td>\n",
       "      <td>759.0</td>\n",
       "      <td>755.0</td>\n",
       "      <td>12798.0</td>\n",
       "      <td>0.0</td>\n",
       "      <td>0.0</td>\n",
       "      <td>0.0</td>\n",
       "      <td>76.0</td>\n",
       "      <td>12900.0</td>\n",
       "      <td>0.0</td>\n",
       "      <td>0.0</td>\n",
       "      <td>2560.0</td>\n",
       "      <td>844.0</td>\n",
       "      <td>91.0</td>\n",
       "      <td>54.0</td>\n",
       "      <td>32.0</td>\n",
       "      <td>32.0</td>\n",
       "      <td>0.0</td>\n",
       "      <td>36.0</td>\n",
       "      <td>NaN</td>\n",
       "      <td>3.0</td>\n",
       "      <td>3.0</td>\n",
       "      <td>0.0</td>\n",
       "      <td>100.0</td>\n",
       "      <td>16900.0</td>\n",
       "      <td>9400.0</td>\n",
       "      <td>2015-12-01</td>\n",
       "      <td>0.0</td>\n",
       "      <td>Train</td>\n",
       "      <td>337.98</td>\n",
       "    </tr>\n",
       "  </tbody>\n",
       "</table>\n",
       "</div>"
      ],
      "text/plain": [
       "         id  loan_amnt  funded_amnt  funded_amnt_inv        term  int_rate  \\\n",
       "0  68407277     3600.0       3600.0           3600.0   36 months     13.99   \n",
       "1  68355089    24700.0      24700.0          24700.0   36 months     11.99   \n",
       "2  68341763    20000.0      20000.0          20000.0   60 months     10.78   \n",
       "3  68476807    10400.0      10400.0          10400.0   60 months     22.45   \n",
       "4  68426831    11950.0      11950.0          11950.0   36 months     13.44   \n",
       "\n",
       "   installment grade sub_grade             emp_title emp_length  \\\n",
       "0       123.03     C        C4               leadman  10+ years   \n",
       "1       820.28     C        C1              Engineer  10+ years   \n",
       "2       432.66     B        B4          truck driver  10+ years   \n",
       "3       289.91     F        F1   Contract Specialist    3 years   \n",
       "4       405.18     C        C3  Veterinary Tecnician    4 years   \n",
       "\n",
       "  home_ownership  annual_inc verification_status             purpose  \\\n",
       "0       MORTGAGE     55000.0        Not Verified  debt_consolidation   \n",
       "1       MORTGAGE     65000.0        Not Verified      small_business   \n",
       "2       MORTGAGE     63000.0        Not Verified    home_improvement   \n",
       "3       MORTGAGE    104433.0     Source Verified      major_purchase   \n",
       "4           RENT     34000.0     Source Verified  debt_consolidation   \n",
       "\n",
       "                title zip_code addr_state    dti  delinq_2yrs  fico_range_low  \\\n",
       "0  Debt consolidation    190xx         PA   5.91          0.0           675.0   \n",
       "1            Business    577xx         SD  16.06          1.0           715.0   \n",
       "2                 NaN    605xx         IL  10.78          0.0           695.0   \n",
       "3      Major purchase    174xx         PA  25.37          1.0           695.0   \n",
       "4  Debt consolidation    300xx         GA  10.20          0.0           690.0   \n",
       "\n",
       "   fico_range_high  inq_last_6mths  mths_since_last_delinq  open_acc  pub_rec  \\\n",
       "0            679.0             1.0                    30.0       7.0      0.0   \n",
       "1            719.0             4.0                     6.0      22.0      0.0   \n",
       "2            699.0             0.0                     NaN       6.0      0.0   \n",
       "3            699.0             3.0                    12.0      12.0      0.0   \n",
       "4            694.0             0.0                     NaN       5.0      0.0   \n",
       "\n",
       "   revol_bal  revol_util  total_acc initial_list_status  last_pymnt_amnt  \\\n",
       "0     2765.0        29.7       13.0                   w           122.67   \n",
       "1    21470.0        19.2       38.0                   w           926.35   \n",
       "2     7869.0        56.2       18.0                   w         15813.30   \n",
       "3    21929.0        64.5       35.0                   w         10128.96   \n",
       "4     8822.0        68.4        6.0                   w          7653.56   \n",
       "\n",
       "   last_fico_range_high  last_fico_range_low  tot_cur_bal  open_acc_6m  \\\n",
       "0                 564.0                560.0     144904.0          2.0   \n",
       "1                 699.0                695.0     204396.0          1.0   \n",
       "2                 704.0                700.0     189699.0          0.0   \n",
       "3                 704.0                700.0     331730.0          1.0   \n",
       "4                 759.0                755.0      12798.0          0.0   \n",
       "\n",
       "   open_rv_12m  open_rv_24m  all_util  total_rev_hi_lim  inq_last_12m  \\\n",
       "0          3.0          3.0      34.0            9300.0           4.0   \n",
       "1          2.0          3.0      29.0          111800.0           6.0   \n",
       "2          0.0          2.0      65.0           14000.0           1.0   \n",
       "3          4.0          7.0      78.0           34000.0           3.0   \n",
       "4          0.0          0.0      76.0           12900.0           0.0   \n",
       "\n",
       "   acc_open_past_24mths  avg_cur_bal  bc_open_to_buy  bc_util  \\\n",
       "0                   4.0      20701.0          1506.0     37.2   \n",
       "1                   4.0       9733.0         57830.0     27.1   \n",
       "2                   6.0      31617.0          2737.0     55.9   \n",
       "3                  10.0      27644.0          4567.0     77.5   \n",
       "4                   0.0       2560.0           844.0     91.0   \n",
       "\n",
       "   mo_sin_old_rev_tl_op  mo_sin_rcnt_rev_tl_op  mo_sin_rcnt_tl  mort_acc  \\\n",
       "0                 128.0                    3.0             3.0       1.0   \n",
       "1                 192.0                    2.0             2.0       4.0   \n",
       "2                 184.0                   14.0            14.0       5.0   \n",
       "3                 210.0                    4.0             4.0       6.0   \n",
       "4                  54.0                   32.0            32.0       0.0   \n",
       "\n",
       "   mths_since_recent_bc  mths_since_recent_inq  num_actv_rev_tl  \\\n",
       "0                   4.0                    4.0              4.0   \n",
       "1                   2.0                    0.0              5.0   \n",
       "2                 101.0                   10.0              3.0   \n",
       "3                   4.0                    1.0              6.0   \n",
       "4                  36.0                    NaN              3.0   \n",
       "\n",
       "   num_rev_tl_bal_gt_0  num_tl_op_past_12m  percent_bc_gt_75  tot_hi_cred_lim  \\\n",
       "0                  4.0                 3.0               0.0         178050.0   \n",
       "1                  5.0                 2.0               7.7         314017.0   \n",
       "2                  3.0                 0.0              50.0         218418.0   \n",
       "3                  6.0                 4.0              60.0         439570.0   \n",
       "4                  3.0                 0.0             100.0          16900.0   \n",
       "\n",
       "   total_bc_limit   d_vintage  target    Set  credit_history_length_months  \n",
       "0          2400.0  2015-12-01     0.0  Train                        148.00  \n",
       "1         79300.0  2015-12-01     0.0  Train                        191.98  \n",
       "2          6200.0  2015-12-01     0.0  Train                        183.97  \n",
       "3         20300.0  2015-12-01     0.0  Train                        209.99  \n",
       "4          9400.0  2015-12-01     0.0  Train                        337.98  "
      ]
     },
     "execution_count": 31,
     "metadata": {},
     "output_type": "execute_result"
    }
   ],
   "source": [
    "\n",
    "\n",
    "df_model = pd.read_csv('df_model.csv')\n",
    "print('Dimension of data', df_model.shape)\n",
    "\n",
    "####### Quick data transformation\n",
    "\n",
    "# Create datetime columns\n",
    "df_model['issue_d_dt'] = pd.to_datetime(df_model['issue_d'], errors='coerce')\n",
    "df_model['earliest_cr_line_dt'] = pd.to_datetime(df_model['earliest_cr_line'], errors='coerce')\n",
    "\n",
    "# Calculate difference and create new feature\n",
    "time_difference = df_model['issue_d_dt'] - df_model['earliest_cr_line_dt']\n",
    "df_model['credit_history_length_months'] = (time_difference.dt.days / 30.44).round(2)\n",
    "\n",
    "# --- CORRECCIÓN AQUÍ ---\n",
    "# Se corrige el error de tipeo y se eliminan también las columnas de fecha originales\n",
    "# que ya no son necesarias.\n",
    "df_model = df_model.drop(columns=['issue_d', 'earliest_cr_line', 'issue_d_dt', 'earliest_cr_line_dt'])\n",
    "\n",
    "df_model.head()"
   ]
  },
  {
   "cell_type": "code",
   "execution_count": null,
   "id": "cabec5eb",
   "metadata": {},
   "outputs": [],
   "source": [
    "# --- Configuración ---\n",
    "TARGET = 'target'\n",
    "CORRELATION_THRESHOLD = 0.70\n",
    "\n",
    "# --- 1. Definir la Lista Completa de Variables a Analizar ---\n",
    "all_variables_to_analyze = list(set(df_model.columns))\n",
    "vars_to_remove = ['issue_d', 'id', 'd_vintage', 'earliest_cr_line', TARGET]\n",
    "for var in vars_to_remove:\n",
    "    if var in all_variables_to_analyze:\n",
    "        all_variables_to_analyze.remove(var)\n",
    "\n",
    "print(f\"Se analizará el IV para un total de {len(all_variables_to_analyze)} variables únicas.\")\n",
    "\n",
    "# --- 2. Recalcular IV para todas las variables ---\n",
    "iv_results = []\n",
    "for var in all_variables_to_analyze:\n",
    "    try:\n",
    "        _, iv_score = calculate_woe_iv(df_model, var, TARGET)\n",
    "        iv_results.append({'Variable': var, 'IV_Score': iv_score})\n",
    "    except Exception as e:\n",
    "        print(f\"  -> Advertencia: No se pudo calcular el IV para '{var}'. Razón: {e}\")\n",
    "        iv_results.append({'Variable': var, 'IV_Score': np.nan})\n",
    "\n",
    "df_iv_all = pd.DataFrame(iv_results)\n",
    "\n",
    "def iv_interpretation(iv):\n",
    "    if pd.isna(iv): return \"Error\"\n",
    "    if iv < 0.02: return 'Inútil'\n",
    "    elif iv < 0.1: return 'Débil'\n",
    "    elif iv < 0.3: return 'Medio'\n",
    "    elif iv < 0.5: return 'Fuerte'\n",
    "    else: return 'Sospechoso'\n",
    "df_iv_all['Interpretation'] = df_iv_all['IV_Score'].apply(iv_interpretation)\n",
    "print(\"\\nCálculo de IV completado para todas las variables.\")\n",
    "\n",
    "# --- 3. Seleccionar Candidatas y Preparar Análisis de Correlación ---\n",
    "candidate_features = df_iv_all[\n",
    "    (df_iv_all['IV_Score'] >= 0.02) & \n",
    "    (df_iv_all['Interpretation'] != 'Sospechoso')\n",
    "]['Variable'].tolist()\n",
    "\n",
    "print(f\"\\nSe han seleccionado {len(candidate_features)} variables candidatas con IV >= 0.02.\")\n",
    "iv_lookup = df_iv_all.set_index('Variable')['IV_Score'].to_dict()\n",
    "\n",
    "features_in_df = [f for f in candidate_features if f in df_model.columns]\n",
    "df_candidates = df_model[features_in_df]\n",
    "numeric_features_for_corr = df_candidates.select_dtypes(include=np.number).columns.tolist()\n",
    "\n",
    "# --- 4. Identificar y Resolver Conflictos de Correlación ---\n",
    "corr_matrix = df_model[numeric_features_for_corr].corr().abs()\n",
    "upper_tri = corr_matrix.where(np.triu(np.ones(corr_matrix.shape), k=1).astype(bool))\n",
    "\n",
    "# --- INICIO DE LA MODIFICACIÓN ---\n",
    "conflict_summary = []\n",
    "to_drop = set()\n",
    "\n",
    "for column in upper_tri.columns:\n",
    "    high_corr_features = upper_tri[column][upper_tri[column] > CORRELATION_THRESHOLD]\n",
    "    for feature, corr_value in high_corr_features.items():\n",
    "        var1, var2 = column, feature\n",
    "        iv1, iv2 = iv_lookup.get(var1, 0), iv_lookup.get(var2, 0)\n",
    "        \n",
    "        # Decidir cuál variable descartar\n",
    "        if iv1 < iv2:\n",
    "            var_to_drop = var1\n",
    "            var_to_keep = var2\n",
    "        else:\n",
    "            var_to_drop = var2\n",
    "            var_to_keep = var1\n",
    "            \n",
    "        to_drop.add(var_to_drop)\n",
    "        \n",
    "        # Añadir detalles del conflicto al resumen\n",
    "        conflict_summary.append({\n",
    "            'Variable_1': var1,\n",
    "            'Variable_2': var2,\n",
    "            'Correlation': corr_value,\n",
    "            'IV_Variable_1': iv1,\n",
    "            'IV_Variable_2': iv2,\n",
    "            'Variable_To_Drop': var_to_drop,\n",
    "            'Variable_To_Keep': var_to_keep\n",
    "        })\n",
    "\n",
    "# --- 5. Presentar Resultados en un DataFrame ---\n",
    "print(f\"\\n--- Resumen del Análisis de Multicolinealidad (Umbral > {CORRELATION_THRESHOLD}) ---\")\n",
    "\n",
    "if conflict_summary:\n",
    "    df_correlation_summary = pd.DataFrame(conflict_summary)\n",
    "    df_correlation_summary = df_correlation_summary.sort_values(by='Correlation', ascending=False).reset_index(drop=True)\n",
    "    \n",
    "    print(f\"Se encontraron {len(df_correlation_summary)} conflictos de alta correlación.\")\n",
    "    # Mostrar el DataFrame de resumen\n",
    "    display(df_correlation_summary)\n",
    "\n",
    "    final_drop_list = sorted(list(to_drop))\n",
    "    print(f\"\\nSe recomienda eliminar las siguientes {len(final_drop_list)} variables:\")\n",
    "    print(final_drop_list)\n",
    "    \n",
    "    final_features = [f for f in candidate_features if f not in final_drop_list]\n",
    "    print(f\"\\nEl número final de variables recomendadas es: {len(final_features)}\")\n",
    "else:\n",
    "    print(\"¡Excelente! No se encontraron variables con correlación por encima del umbral.\")\n",
    "    final_features = candidate_features\n",
    "    print(f\"El número final de variables se mantiene en: {len(final_features)}\")\n",
    "\n",
    "# --- FIN DE LA MODIFICACIÓN ---"
   ]
  },
  {
   "cell_type": "code",
   "execution_count": 33,
   "id": "635eb647",
   "metadata": {},
   "outputs": [
    {
     "name": "stdout",
     "output_type": "stream",
     "text": [
      "Dimension of features to drop: 15\n",
      "Final Dimension of Dataset: (1348059, 45)\n"
     ]
    }
   ],
   "source": [
    "list_corr_features_drop = list(df_correlation_summary['Variable_To_Drop'].unique())\n",
    "print('Dimension of features to drop:', len(list_corr_features_drop))\n",
    "\n",
    "df_model_f = df_model.drop(list_corr_features_drop, axis=1)\n",
    "\n",
    "print('Final Dimension of Dataset:', df_model_f.shape)"
   ]
  },
  {
   "cell_type": "code",
   "execution_count": 35,
   "id": "58221e97",
   "metadata": {},
   "outputs": [
    {
     "data": {
      "text/html": [
       "<div>\n",
       "<style scoped>\n",
       "    .dataframe tbody tr th:only-of-type {\n",
       "        vertical-align: middle;\n",
       "    }\n",
       "\n",
       "    .dataframe tbody tr th {\n",
       "        vertical-align: top;\n",
       "    }\n",
       "\n",
       "    .dataframe thead th {\n",
       "        text-align: right;\n",
       "    }\n",
       "</style>\n",
       "<table border=\"1\" class=\"dataframe\">\n",
       "  <thead>\n",
       "    <tr style=\"text-align: right;\">\n",
       "      <th></th>\n",
       "      <th>Variable</th>\n",
       "      <th>IV_Score</th>\n",
       "      <th>Interpretation</th>\n",
       "    </tr>\n",
       "  </thead>\n",
       "  <tbody>\n",
       "    <tr>\n",
       "      <th>0</th>\n",
       "      <td>emp_title</td>\n",
       "      <td>6.741013</td>\n",
       "      <td>Sospechoso</td>\n",
       "    </tr>\n",
       "    <tr>\n",
       "      <th>1</th>\n",
       "      <td>last_pymnt_amnt</td>\n",
       "      <td>4.177115</td>\n",
       "      <td>Sospechoso</td>\n",
       "    </tr>\n",
       "    <tr>\n",
       "      <th>2</th>\n",
       "      <td>last_fico_range_low</td>\n",
       "      <td>4.098737</td>\n",
       "      <td>Sospechoso</td>\n",
       "    </tr>\n",
       "    <tr>\n",
       "      <th>3</th>\n",
       "      <td>last_fico_range_high</td>\n",
       "      <td>4.098737</td>\n",
       "      <td>Sospechoso</td>\n",
       "    </tr>\n",
       "    <tr>\n",
       "      <th>4</th>\n",
       "      <td>title</td>\n",
       "      <td>1.043574</td>\n",
       "      <td>Sospechoso</td>\n",
       "    </tr>\n",
       "    <tr>\n",
       "      <th>5</th>\n",
       "      <td>sub_grade</td>\n",
       "      <td>0.495516</td>\n",
       "      <td>Fuerte</td>\n",
       "    </tr>\n",
       "    <tr>\n",
       "      <th>6</th>\n",
       "      <td>grade</td>\n",
       "      <td>0.461092</td>\n",
       "      <td>Fuerte</td>\n",
       "    </tr>\n",
       "    <tr>\n",
       "      <th>7</th>\n",
       "      <td>int_rate</td>\n",
       "      <td>0.449055</td>\n",
       "      <td>Fuerte</td>\n",
       "    </tr>\n",
       "    <tr>\n",
       "      <th>8</th>\n",
       "      <td>term</td>\n",
       "      <td>0.173626</td>\n",
       "      <td>Medio</td>\n",
       "    </tr>\n",
       "    <tr>\n",
       "      <th>9</th>\n",
       "      <td>fico_range_high</td>\n",
       "      <td>0.122664</td>\n",
       "      <td>Medio</td>\n",
       "    </tr>\n",
       "    <tr>\n",
       "      <th>10</th>\n",
       "      <td>dti</td>\n",
       "      <td>0.072139</td>\n",
       "      <td>Débil</td>\n",
       "    </tr>\n",
       "    <tr>\n",
       "      <th>11</th>\n",
       "      <td>acc_open_past_24mths</td>\n",
       "      <td>0.064334</td>\n",
       "      <td>Débil</td>\n",
       "    </tr>\n",
       "    <tr>\n",
       "      <th>12</th>\n",
       "      <td>bc_open_to_buy</td>\n",
       "      <td>0.057767</td>\n",
       "      <td>Débil</td>\n",
       "    </tr>\n",
       "    <tr>\n",
       "      <th>13</th>\n",
       "      <td>verification_status</td>\n",
       "      <td>0.055062</td>\n",
       "      <td>Débil</td>\n",
       "    </tr>\n",
       "    <tr>\n",
       "      <th>14</th>\n",
       "      <td>avg_cur_bal</td>\n",
       "      <td>0.052992</td>\n",
       "      <td>Débil</td>\n",
       "    </tr>\n",
       "    <tr>\n",
       "      <th>15</th>\n",
       "      <td>mort_acc</td>\n",
       "      <td>0.039339</td>\n",
       "      <td>Débil</td>\n",
       "    </tr>\n",
       "    <tr>\n",
       "      <th>16</th>\n",
       "      <td>all_util</td>\n",
       "      <td>0.035598</td>\n",
       "      <td>Débil</td>\n",
       "    </tr>\n",
       "    <tr>\n",
       "      <th>17</th>\n",
       "      <td>mths_since_recent_inq</td>\n",
       "      <td>0.035407</td>\n",
       "      <td>Débil</td>\n",
       "    </tr>\n",
       "    <tr>\n",
       "      <th>18</th>\n",
       "      <td>zip_code</td>\n",
       "      <td>0.034700</td>\n",
       "      <td>Débil</td>\n",
       "    </tr>\n",
       "    <tr>\n",
       "      <th>19</th>\n",
       "      <td>funded_amnt</td>\n",
       "      <td>0.034513</td>\n",
       "      <td>Débil</td>\n",
       "    </tr>\n",
       "    <tr>\n",
       "      <th>20</th>\n",
       "      <td>num_actv_rev_tl</td>\n",
       "      <td>0.033335</td>\n",
       "      <td>Débil</td>\n",
       "    </tr>\n",
       "    <tr>\n",
       "      <th>21</th>\n",
       "      <td>mo_sin_rcnt_tl</td>\n",
       "      <td>0.032801</td>\n",
       "      <td>Débil</td>\n",
       "    </tr>\n",
       "    <tr>\n",
       "      <th>22</th>\n",
       "      <td>home_ownership</td>\n",
       "      <td>0.031183</td>\n",
       "      <td>Débil</td>\n",
       "    </tr>\n",
       "    <tr>\n",
       "      <th>23</th>\n",
       "      <td>percent_bc_gt_75</td>\n",
       "      <td>0.030266</td>\n",
       "      <td>Débil</td>\n",
       "    </tr>\n",
       "    <tr>\n",
       "      <th>24</th>\n",
       "      <td>annual_inc</td>\n",
       "      <td>0.029197</td>\n",
       "      <td>Débil</td>\n",
       "    </tr>\n",
       "    <tr>\n",
       "      <th>25</th>\n",
       "      <td>mo_sin_rcnt_rev_tl_op</td>\n",
       "      <td>0.028425</td>\n",
       "      <td>Débil</td>\n",
       "    </tr>\n",
       "    <tr>\n",
       "      <th>26</th>\n",
       "      <td>mths_since_recent_bc</td>\n",
       "      <td>0.026188</td>\n",
       "      <td>Débil</td>\n",
       "    </tr>\n",
       "    <tr>\n",
       "      <th>27</th>\n",
       "      <td>mo_sin_old_rev_tl_op</td>\n",
       "      <td>0.026083</td>\n",
       "      <td>Débil</td>\n",
       "    </tr>\n",
       "    <tr>\n",
       "      <th>28</th>\n",
       "      <td>inq_last_12m</td>\n",
       "      <td>0.022204</td>\n",
       "      <td>Débil</td>\n",
       "    </tr>\n",
       "    <tr>\n",
       "      <th>29</th>\n",
       "      <td>purpose</td>\n",
       "      <td>0.019500</td>\n",
       "      <td>Inútil</td>\n",
       "    </tr>\n",
       "    <tr>\n",
       "      <th>30</th>\n",
       "      <td>inq_last_6mths</td>\n",
       "      <td>0.017807</td>\n",
       "      <td>Inútil</td>\n",
       "    </tr>\n",
       "    <tr>\n",
       "      <th>31</th>\n",
       "      <td>addr_state</td>\n",
       "      <td>0.016386</td>\n",
       "      <td>Inútil</td>\n",
       "    </tr>\n",
       "    <tr>\n",
       "      <th>32</th>\n",
       "      <td>emp_length</td>\n",
       "      <td>0.012025</td>\n",
       "      <td>Inútil</td>\n",
       "    </tr>\n",
       "    <tr>\n",
       "      <th>33</th>\n",
       "      <td>credit_history_length_months</td>\n",
       "      <td>0.009625</td>\n",
       "      <td>Inútil</td>\n",
       "    </tr>\n",
       "    <tr>\n",
       "      <th>34</th>\n",
       "      <td>Set</td>\n",
       "      <td>0.008572</td>\n",
       "      <td>Inútil</td>\n",
       "    </tr>\n",
       "    <tr>\n",
       "      <th>35</th>\n",
       "      <td>open_acc</td>\n",
       "      <td>0.004784</td>\n",
       "      <td>Inútil</td>\n",
       "    </tr>\n",
       "    <tr>\n",
       "      <th>36</th>\n",
       "      <td>revol_bal</td>\n",
       "      <td>0.003550</td>\n",
       "      <td>Inútil</td>\n",
       "    </tr>\n",
       "    <tr>\n",
       "      <th>37</th>\n",
       "      <td>mths_since_last_delinq</td>\n",
       "      <td>0.002726</td>\n",
       "      <td>Inútil</td>\n",
       "    </tr>\n",
       "    <tr>\n",
       "      <th>38</th>\n",
       "      <td>delinq_2yrs</td>\n",
       "      <td>0.001898</td>\n",
       "      <td>Inútil</td>\n",
       "    </tr>\n",
       "    <tr>\n",
       "      <th>39</th>\n",
       "      <td>total_acc</td>\n",
       "      <td>0.001743</td>\n",
       "      <td>Inútil</td>\n",
       "    </tr>\n",
       "    <tr>\n",
       "      <th>40</th>\n",
       "      <td>pub_rec</td>\n",
       "      <td>0.001266</td>\n",
       "      <td>Inútil</td>\n",
       "    </tr>\n",
       "    <tr>\n",
       "      <th>41</th>\n",
       "      <td>initial_list_status</td>\n",
       "      <td>0.000290</td>\n",
       "      <td>Inútil</td>\n",
       "    </tr>\n",
       "  </tbody>\n",
       "</table>\n",
       "</div>"
      ],
      "text/plain": [
       "                        Variable  IV_Score Interpretation\n",
       "0                      emp_title  6.741013     Sospechoso\n",
       "1                last_pymnt_amnt  4.177115     Sospechoso\n",
       "2            last_fico_range_low  4.098737     Sospechoso\n",
       "3           last_fico_range_high  4.098737     Sospechoso\n",
       "4                          title  1.043574     Sospechoso\n",
       "5                      sub_grade  0.495516         Fuerte\n",
       "6                          grade  0.461092         Fuerte\n",
       "7                       int_rate  0.449055         Fuerte\n",
       "8                           term  0.173626          Medio\n",
       "9                fico_range_high  0.122664          Medio\n",
       "10                           dti  0.072139          Débil\n",
       "11          acc_open_past_24mths  0.064334          Débil\n",
       "12                bc_open_to_buy  0.057767          Débil\n",
       "13           verification_status  0.055062          Débil\n",
       "14                   avg_cur_bal  0.052992          Débil\n",
       "15                      mort_acc  0.039339          Débil\n",
       "16                      all_util  0.035598          Débil\n",
       "17         mths_since_recent_inq  0.035407          Débil\n",
       "18                      zip_code  0.034700          Débil\n",
       "19                   funded_amnt  0.034513          Débil\n",
       "20               num_actv_rev_tl  0.033335          Débil\n",
       "21                mo_sin_rcnt_tl  0.032801          Débil\n",
       "22                home_ownership  0.031183          Débil\n",
       "23              percent_bc_gt_75  0.030266          Débil\n",
       "24                    annual_inc  0.029197          Débil\n",
       "25         mo_sin_rcnt_rev_tl_op  0.028425          Débil\n",
       "26          mths_since_recent_bc  0.026188          Débil\n",
       "27          mo_sin_old_rev_tl_op  0.026083          Débil\n",
       "28                  inq_last_12m  0.022204          Débil\n",
       "29                       purpose  0.019500         Inútil\n",
       "30                inq_last_6mths  0.017807         Inútil\n",
       "31                    addr_state  0.016386         Inútil\n",
       "32                    emp_length  0.012025         Inútil\n",
       "33  credit_history_length_months  0.009625         Inútil\n",
       "34                           Set  0.008572         Inútil\n",
       "35                      open_acc  0.004784         Inútil\n",
       "36                     revol_bal  0.003550         Inútil\n",
       "37        mths_since_last_delinq  0.002726         Inútil\n",
       "38                   delinq_2yrs  0.001898         Inútil\n",
       "39                     total_acc  0.001743         Inútil\n",
       "40                       pub_rec  0.001266         Inútil\n",
       "41           initial_list_status  0.000290         Inútil"
      ]
     },
     "execution_count": 35,
     "metadata": {},
     "output_type": "execute_result"
    }
   ],
   "source": [
    "df_iv_all[df_iv_all['Variable'].isin(df_model_f.columns)].sort_values(by='IV_Score', ascending=False).reset_index(drop=True).head(50)"
   ]
  },
  {
   "cell_type": "markdown",
   "id": "cfb6ec73",
   "metadata": {},
   "source": [
    "### Saving"
   ]
  },
  {
   "cell_type": "code",
   "execution_count": null,
   "id": "02cfb720",
   "metadata": {},
   "outputs": [],
   "source": [
    "####Savind data until here\n",
    "\n",
    "df_model_f = df_model_f.drop(['last_pymnt_amnt', 'last_fico_range_low', 'last_fico_range_high' ], axis=1)\n",
    "\n",
    "\n",
    "df_model_f.reset_index(drop=True).to_csv(\"df_model_to_fe.csv\", index=False)"
   ]
  },
  {
   "cell_type": "code",
   "execution_count": null,
   "id": "c0e9237c",
   "metadata": {},
   "outputs": [],
   "source": []
  },
  {
   "cell_type": "code",
   "execution_count": 38,
   "id": "3c02dbc4",
   "metadata": {},
   "outputs": [
    {
     "data": {
      "text/plain": [
       "(1348059, 42)"
      ]
     },
     "execution_count": 38,
     "metadata": {},
     "output_type": "execute_result"
    }
   ],
   "source": [
    "df_model_f.shape"
   ]
  },
  {
   "cell_type": "code",
   "execution_count": null,
   "id": "3871ffc1",
   "metadata": {},
   "outputs": [],
   "source": []
  }
 ],
 "metadata": {
  "kernelspec": {
   "display_name": "myenv",
   "language": "python",
   "name": "python3"
  },
  "language_info": {
   "codemirror_mode": {
    "name": "ipython",
    "version": 3
   },
   "file_extension": ".py",
   "mimetype": "text/x-python",
   "name": "python",
   "nbconvert_exporter": "python",
   "pygments_lexer": "ipython3",
   "version": "3.11.13"
  }
 },
 "nbformat": 4,
 "nbformat_minor": 5
}
