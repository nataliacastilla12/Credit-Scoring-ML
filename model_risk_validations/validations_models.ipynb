{
 "cells": [
  {
   "cell_type": "code",
   "execution_count": null,
   "id": "f4556b5f",
   "metadata": {},
   "outputs": [],
   "source": [
    "import numpy as np\n",
    "import pandas as pd\n",
    "\n",
    "\n",
    "from sklearn.preprocessing import KBinsDiscretizer\n",
    "import shap\n",
    "from sklearn.ensemble import RandomForestClassifier\n",
    "\n",
    "#------------------------------------Plots\n",
    "import matplotlib.pyplot as plt\n",
    "import seaborn as sns\n",
    "import plotly.figure_factory as ff\n",
    "import plotly\n",
    "import plotly.express as px\n",
    "import plotly.graph_objects as go\n",
    "from plotly.subplots import make_subplots\n",
    "import plotly.io as pio\n",
    "from plotly import tools\n",
    "from plotly.offline import download_plotlyjs, init_notebook_mode, plot, iplot\n",
    "import joblib \n",
    "\n",
    "\n",
    "\n",
    "spark.conf.set(\"spark.sql.execution.arrow.pyspark.enabled\", \"false\")\n",
    "pd.set_option('display.max_columns', 500)\n",
    "\n",
    "#--------------------Model\n",
    "\n",
    "import importlib\n",
    "import modeling_utils\n",
    "importlib.reload(modeling_utils) \n",
    "from eda_utils import calculate_psi, plot_distribution_plotly, calculate_woe_iv\n",
    "\n",
    "from sklearn.linear_model import LogisticRegression\n",
    "from xgboost import XGBClassifier\n",
    "from sklearn.metrics import precision_recall_curve, roc_auc_score, classification_report, f1_score, confusion_matrix, roc_curve, auc, precision_score, recall_score,  brier_score_loss\n",
    "from modeling_utils import plot_model_evaluation_summary, generate_classification_report\n",
    "import joblib\n",
    "from risk_validation_phase1 import *\n"
   ]
  },
  {
   "cell_type": "markdown",
   "id": "b2e1ea46",
   "metadata": {},
   "source": [
    "# Global Variables "
   ]
  },
  {
   "cell_type": "code",
   "execution_count": 4,
   "id": "562d2556",
   "metadata": {},
   "outputs": [
    {
     "name": "stdout",
     "output_type": "stream",
     "text": [
      "Len of the features 21\n",
      "Len of the features 23\n"
     ]
    }
   ],
   "source": [
    "lr_training_vars = [ 'home_ownership', 'addr_state', 'dti', 'fico_range_high', 'all_util',\n",
    "       'inq_last_12m', 'acc_open_past_24mths', 'avg_cur_bal', 'bc_open_to_buy',\n",
    "       'mo_sin_old_rev_tl_op', 'mo_sin_rcnt_tl', 'mort_acc',\n",
    "       'mths_since_recent_bc', 'mths_since_recent_inq', 'num_actv_rev_tl',\n",
    "       'emp_length_numeric', 'emp_title_final_grouped', 'title_grouped',\n",
    "       'region_median_income', 'loan_to_income_ratio', 'open_acc_ratio']\n",
    "\n",
    "print('Len of the features', len(lr_training_vars))\n",
    "\n",
    "xgboost_training_vars = ['loan_amnt', 'home_ownership', 'annual_inc', 'addr_state', 'dti',\n",
    "       'fico_range_high', 'all_util', 'inq_last_12m', 'acc_open_past_24mths',\n",
    "       'avg_cur_bal', 'bc_open_to_buy', 'mo_sin_old_rev_tl_op',\n",
    "       'mo_sin_rcnt_tl', 'mort_acc', 'mths_since_recent_bc',\n",
    "       'mths_since_recent_inq', 'num_actv_rev_tl', 'emp_length_numeric',\n",
    "       'emp_title_final_grouped', 'title_grouped', 'region_median_income',\n",
    "       'loan_to_income_ratio', 'open_acc_ratio']\n",
    "       \n",
    "\n",
    "\n",
    "print('Len of the features', len(xgboost_training_vars))\n"
   ]
  },
  {
   "cell_type": "markdown",
   "id": "181f42a5",
   "metadata": {},
   "source": [
    "# Global Functions"
   ]
  },
  {
   "cell_type": "code",
   "execution_count": 5,
   "id": "00bce1a6",
   "metadata": {},
   "outputs": [],
   "source": [
    "def calculate_model_scores(df):\n",
    "    \"\"\"\n",
    "    Calcula los scores calibrados para todos los modelos\n",
    "    \n",
    "    Parameters:\n",
    "    df: DataFrame con los datos de entrada\n",
    "    \n",
    "    Returns:\n",
    "    DataFrame original con columnas adicionales de scores\n",
    "    \"\"\"\n",
    "    \n",
    "    # Crear una copia del DataFrame para no modificar el original\n",
    "    df_scores = df.copy()\n",
    "    \n",
    "    # 1. Baseline Model Score\n",
    "    X_lr = df[lr_training_vars]\n",
    "    baseline_proba = base_model.predict_proba(X_lr)[:, 1]\n",
    "    df_scores['baseline_score'] = base_model_cal.predict(baseline_proba)\n",
    "    \n",
    "    # 2. Weighted Model Score\n",
    "    weighted_proba = weighted_model.predict_proba(X_lr)[:, 1]\n",
    "    df_scores['weighted_score'] = weighted_model_cal.predict(weighted_proba)\n",
    "    \n",
    "    # 3. Undersampled Model Score\n",
    "    under_proba = under_model.predict_proba(X_lr)[:, 1]\n",
    "    df_scores['undersampled_score'] = under_model_cal.predict(under_proba)\n",
    "    \n",
    "    # 4. XGBoost Model Score (con variables adicionales)\n",
    "    X_xgb = df[xgboost_training_vars]\n",
    "    xgb_proba = xgboost_model.predict_proba(X_xgb)[:, 1]\n",
    "    df_scores['xgboost_score'] = xgboost_model_cal.predict(xgb_proba)\n",
    "    \n",
    "    return df_scores"
   ]
  },
  {
   "cell_type": "markdown",
   "id": "5e7e316f",
   "metadata": {},
   "source": [
    "# Load models"
   ]
  },
  {
   "cell_type": "code",
   "execution_count": 6,
   "id": "8aafb0d9",
   "metadata": {},
   "outputs": [],
   "source": [
    "\n",
    "xgboost_model =  joblib.load('final_xgboost_model.joblib', 'wb')\n",
    "\n",
    "xgboost_model_cal = joblib.load('xgboost_isotonic_calibrator.joblib')\n",
    "\n",
    "#-------------------------------------------------------------------------------------------------------------\n",
    "\n",
    "base_model = joblib.load('final_logistic_model.joblib')\n",
    "\n",
    "base_model_cal = joblib.load('lr_isotonic_calibrator.joblib')\n",
    "\n",
    "\n",
    "\n",
    "weighted_model = joblib.load('final_logistic_model_weights.joblib')\n",
    "\n",
    "weighted_model_cal = joblib.load('lr_isotonic_calibrator_weights.joblib')\n",
    "\n",
    "\n",
    "\n",
    "under_model = joblib.load('final_logistic_model_undersampling.joblib')\n",
    "\n",
    "under_model_cal = joblib.load('lr_isotonic_calibrator_undersampling.joblib')\n"
   ]
  },
  {
   "cell_type": "markdown",
   "id": "866abeb7",
   "metadata": {},
   "source": [
    "\n",
    "# Load data"
   ]
  },
  {
   "cell_type": "code",
   "execution_count": 7,
   "id": "c54680a1",
   "metadata": {},
   "outputs": [
    {
     "name": "stdout",
     "output_type": "stream",
     "text": [
      "Dimension of the data: (2260698, 33)\n"
     ]
    }
   ],
   "source": [
    "df = pd.read_csv('df_total_woe_validations.csv').rename(columns={'funded_amnt':'loan_amnt'})\n",
    "\n",
    "df['d_vintage'] = pd.to_datetime(df['d_vintage'])\n",
    "\n",
    "\n",
    "df = df.drop(['int_rate'], axis=1)\n",
    "print('Dimension of the data:', df.shape)"
   ]
  },
  {
   "cell_type": "markdown",
   "id": "761aa86c",
   "metadata": {},
   "source": [
    "# Calculating the scores"
   ]
  },
  {
   "cell_type": "code",
   "execution_count": 8,
   "id": "388422b2",
   "metadata": {},
   "outputs": [
    {
     "name": "stdout",
     "output_type": "stream",
     "text": [
      "Dimension filtered data (1141486, 37)\n"
     ]
    }
   ],
   "source": [
    "df_with_scores = calculate_model_scores(df)\n",
    "\n",
    "df_filter = df_with_scores[df_with_scores['d_vintage']>=pd.to_datetime('2016-07-01') ]\n",
    "\n",
    "print('Dimension filtered data', df_filter.shape)\n"
   ]
  },
  {
   "cell_type": "markdown",
   "id": "9ad465af",
   "metadata": {},
   "source": [
    "# Loan amount USD"
   ]
  },
  {
   "cell_type": "code",
   "execution_count": null,
   "id": "c42d77ea",
   "metadata": {},
   "outputs": [],
   "source": [
    "df_loan_amnt = spark.sql(\"\"\"select id, issue_d, funded_amnt as real_loan_amnt, int_rate , term , total_rec_prncp,\n",
    "recoveries, collection_recovery_fee from data_credit_test_ds_chanllenges\"\"\").toPandas()\n",
    "\n",
    "\n",
    "df_loan_amnt['term'] = df_loan_amnt['term'].str.extract('(\\d+)')\n",
    "\n",
    "\n",
    "df_loan_amnt['d_vintage'] = pd.to_datetime(df_loan_amnt['issue_d'], format='%b-%Y')\n",
    "\n",
    "df_filter = df_filter.merge(df_loan_amnt, on=['id', 'd_vintage'], how='left').drop_duplicates()"
   ]
  },
  {
   "cell_type": "code",
   "execution_count": 10,
   "id": "627f946e",
   "metadata": {},
   "outputs": [],
   "source": [
    "df_filter = df_filter.drop(['loan_amnt', 'term_numeric'], axis=1)\n",
    "\n",
    "df_filter['term'] = df_filter['term'].astype(float)\n",
    "\n",
    "df_filter_target = df_filter[df_filter['target'].notna()]"
   ]
  },
  {
   "cell_type": "markdown",
   "id": "b44aae76",
   "metadata": {},
   "source": [
    "# Risk Analysis"
   ]
  },
  {
   "cell_type": "markdown",
   "id": "781a8e97",
   "metadata": {},
   "source": [
    "### LGD"
   ]
  },
  {
   "cell_type": "code",
   "execution_count": 11,
   "id": "7de72bce",
   "metadata": {},
   "outputs": [
    {
     "name": "stdout",
     "output_type": "stream",
     "text": [
      "Total loans: 343827\n",
      "Defaulted loans: 77515 (22.54%)\n",
      "Average LGD: 0.0838\n",
      "Weighted average LGD: 0.7704\n"
     ]
    },
    {
     "data": {
      "image/png": "[encoded data removed]",
      "text/plain": [
       "<Figure size 1000x600 with 1 Axes>"
      ]
     },
     "metadata": {},
     "output_type": "display_data"
    },
    {
     "name": "stdout",
     "output_type": "stream",
     "text": [
      "Weighted average LGD for defaulted loans: 0.7713\n"
     ]
    }
   ],
   "source": [
    "# Función para calcular el LGD a nivel de préstamo con las columnas disponibles\n",
    "def calculate_lgd(df):\n",
    "    \"\"\"\n",
    "    Calculate Loss Given Default (LGD) for each loan in the DataFrame.\n",
    "    \n",
    "    Parameters:\n",
    "    - df: DataFrame with loan data\n",
    "    \n",
    "    Returns:\n",
    "    - DataFrame with added 'loss_amount' and 'lgd' columns\n",
    "    \"\"\"\n",
    "    # Create a copy to avoid modifying the original DataFrame\n",
    "    result_df = df.copy()\n",
    "    \n",
    "    # Step 1: Identify defaulted loans (assuming target=1 means default)\n",
    "    defaulted_mask = result_df['target'] == 1\n",
    "    \n",
    "    # Step 2: Calculate loss amount for all loans (will be 0 for non-defaulted loans)\n",
    "    result_df['loss_amount'] = 0.0\n",
    "    \n",
    "    # Calculate loss amount only for defaulted loans using available columns\n",
    "    result_df.loc[defaulted_mask, 'loss_amount'] = (\n",
    "        result_df.loc[defaulted_mask, 'real_loan_amnt'] - \n",
    "        result_df.loc[defaulted_mask, 'total_rec_prncp'] - \n",
    "        result_df.loc[defaulted_mask, 'recoveries'] \n",
    "    ).clip(lower=0)\n",
    "    \n",
    "    # Step 3: Calculate LGD for each loan\n",
    "    result_df['lgd'] = 0.0\n",
    "    non_zero_funded = (result_df['real_loan_amnt'] > 0) & defaulted_mask\n",
    "    result_df.loc[non_zero_funded, 'lgd'] = (\n",
    "        result_df.loc[non_zero_funded, 'loss_amount'] / \n",
    "        result_df.loc[non_zero_funded, 'real_loan_amnt']\n",
    "    ).clip(lower=0, upper=1)  # LGD should be between 0 and 1\n",
    "    \n",
    "    # Step 4: Calculate portfolio-level statistics\n",
    "    total_defaulted = defaulted_mask.sum()\n",
    "    avg_lgd = result_df.loc[defaulted_mask, 'lgd'].mean() if total_defaulted > 0 else 0\n",
    "    weighted_lgd = (\n",
    "        (result_df.loc[defaulted_mask, 'lgd'] * result_df.loc[defaulted_mask, 'real_loan_amnt']).sum() / \n",
    "        result_df.loc[defaulted_mask, 'real_loan_amnt'].sum()\n",
    "    ) if total_defaulted > 0 else 0\n",
    "    \n",
    "    print(f\"Total loans: {len(result_df)}\")\n",
    "    print(f\"Defaulted loans: {total_defaulted} ({total_defaulted/len(result_df)*100:.2f}%)\")\n",
    "    print(f\"Average LGD: {avg_lgd:.4f}\")\n",
    "    print(f\"Weighted average LGD: {weighted_lgd:.4f}\")\n",
    "    \n",
    "    return result_df\n",
    "\n",
    "# Ejemplo de uso\n",
    "df_with_lgd = calculate_lgd(df_filter_target )\n",
    "\n",
    "\n",
    "\n",
    "#----------Plot--------------------------------------------------------------------------------\n",
    "defaulted_loans = df_with_lgd[df_with_lgd['lgd'] > 0]\n",
    "\n",
    "plt.figure(figsize=(10, 6))\n",
    "sns.histplot(defaulted_loans['lgd'], bins=20, kde=True, color='#b4a7d6')\n",
    "plt.title('Distribution of LGD for Defaulted Loans')\n",
    "plt.xlabel('Loss Given Default (LGD)')\n",
    "plt.ylabel('Count')\n",
    "plt.grid(True, alpha=0.3)\n",
    "plt.show()\n",
    "\n",
    "# También puedes calcular el LGD promedio ponderado para usar en tus análisis\n",
    "weighted_lgd = (\n",
    "    (defaulted_loans['lgd'] * defaulted_loans['real_loan_amnt']).sum() / \n",
    "    defaulted_loans['real_loan_amnt'].sum()\n",
    ")\n",
    "print(f\"Weighted average LGD for defaulted loans: {weighted_lgd:.4f}\")"
   ]
  },
  {
   "cell_type": "code",
   "execution_count": 12,
   "id": "cf2ebe10",
   "metadata": {},
   "outputs": [
    {
     "name": "stdout",
     "output_type": "stream",
     "text": [
      "🎯 EXECUTING PHASE 1: RISK VALIDATION ANALYSIS\n",
      "======================================================================\n",
      "======================================================================\n",
      "PHASE 1: RISK VALIDATION - STANDARD QCUT DECILES\n",
      "======================================================================\n",
      "Using 343,827 Test observations with target for validation\n",
      "\n",
      "Decile distribution for Baseline (Test set):\n",
      "  Decile 1: 37,903 observations (11.0%)\n",
      "  Decile 2: 34,319 observations (10.0%)\n",
      "  Decile 3: 32,401 observations (9.4%)\n",
      "  Decile 4: 34,432 observations (10.0%)\n",
      "  Decile 5: 34,573 observations (10.1%)\n",
      "  Decile 6: 42,044 observations (12.2%)\n",
      "  Decile 7: 30,864 observations (9.0%)\n",
      "  Decile 8: 29,999 observations (8.7%)\n",
      "  Decile 9: 36,347 observations (10.6%)\n",
      "  Decile 10: 30,945 observations (9.0%)\n",
      "Score boundaries for Baseline:\n",
      "  Decile 1: 0.0000 to 0.0737\n",
      "  Decile 2: 0.0744 to 0.1039\n",
      "  Decile 3: 0.1084 to 0.1267\n",
      "  ... (showing first 3 deciles)\n",
      "✓ Successfully created Baseline_decile\n",
      "\n",
      "Decile distribution for Weighted (Test set):\n",
      "  Decile 1: 34,896 observations (10.1%)\n",
      "  Decile 2: 36,564 observations (10.6%)\n",
      "  Decile 3: 40,628 observations (11.8%)\n",
      "  Decile 4: 25,827 observations (7.5%)\n",
      "  Decile 5: 37,999 observations (11.1%)\n",
      "  Decile 6: 32,451 observations (9.4%)\n",
      "  Decile 7: 40,586 observations (11.8%)\n",
      "  Decile 8: 26,153 observations (7.6%)\n",
      "  Decile 9: 36,588 observations (10.6%)\n",
      "  Decile 10: 32,135 observations (9.3%)\n",
      "Score boundaries for Weighted:\n",
      "  Decile 1: 0.0000 to 0.0675\n",
      "  Decile 2: 0.0677 to 0.1026\n",
      "  Decile 3: 0.1068 to 0.1296\n",
      "  ... (showing first 3 deciles)\n",
      "✓ Successfully created Weighted_decile\n",
      "\n",
      "Decile distribution for Undersampled (Test set):\n",
      "  Decile 1: 40,597 observations (11.8%)\n",
      "  Decile 2: 28,535 observations (8.3%)\n",
      "  Decile 3: 40,743 observations (11.8%)\n",
      "  Decile 4: 32,737 observations (9.5%)\n",
      "  Decile 5: 40,479 observations (11.8%)\n",
      "  Decile 6: 28,541 observations (8.3%)\n",
      "  Decile 7: 31,431 observations (9.1%)\n",
      "  Decile 8: 38,030 observations (11.1%)\n",
      "  Decile 9: 31,706 observations (9.2%)\n",
      "  Decile 10: 31,028 observations (9.0%)\n",
      "Score boundaries for Undersampled:\n",
      "  Decile 1: 0.0000 to 0.0779\n",
      "  Decile 2: 0.0798 to 0.1027\n",
      "  Decile 3: 0.1063 to 0.1383\n",
      "  ... (showing first 3 deciles)\n",
      "✓ Successfully created Undersampled_decile\n",
      "\n",
      "Decile distribution for Xgboost (Test set):\n",
      "  Decile 1: 35,627 observations (10.4%)\n",
      "  Decile 2: 33,372 observations (9.7%)\n",
      "  Decile 3: 35,255 observations (10.3%)\n",
      "  Decile 4: 33,776 observations (9.8%)\n",
      "  Decile 5: 37,596 observations (10.9%)\n",
      "  Decile 6: 37,466 observations (10.9%)\n",
      "  Decile 7: 30,553 observations (8.9%)\n",
      "  Decile 8: 33,500 observations (9.7%)\n",
      "  Decile 9: 36,583 observations (10.6%)\n",
      "  Decile 10: 30,099 observations (8.8%)\n",
      "Score boundaries for Xgboost:\n",
      "  Decile 1: 0.0000 to 0.0622\n",
      "  Decile 2: 0.0630 to 0.0992\n",
      "  Decile 3: 0.0992 to 0.1236\n",
      "  ... (showing first 3 deciles)\n",
      "✓ Successfully created Xgboost_decile\n",
      "\n",
      "==================================================\n",
      "VERIFICATION OF MODEL DIFFERENCES\n",
      "==================================================\n",
      "Comparison Baseline_decile vs Weighted_decile:\n",
      "Same decile: 315,960/343,827 (91.9%)\n",
      "Different decile: 27,867/343,827 (8.1%)\n",
      "\n",
      "Comparison Baseline_decile vs Xgboost_decile:\n",
      "Same decile: 151,664/343,827 (44.1%)\n",
      "Different decile: 192,163/343,827 (55.9%)\n",
      "\n",
      "✅ Decile creation completed with proper model differentiation!\n",
      "Filtering diagnostics:\n",
      "Total rows in dataset: 343,827\n",
      "Test set rows: 343,827 (100.0% of total)\n",
      "Test set with non-null target: 343,827 (100.0% of Test set)\n",
      "\n",
      "Calculating comprehensive risk metrics for Test set...\n",
      "Test set size: 343,827 observations\n",
      "\n",
      "Found 4 decile columns: ['Baseline_decile', 'Weighted_decile', 'Undersampled_decile', 'Xgboost_decile']\n",
      "Overall Statistics:\n",
      "  Default Rate: 0.225 (22.5%)\n",
      "  Total Defaults: 77,515.0\n",
      "  Total Exposure: $553,574,625\n",
      "\n",
      "Analyzing Baseline model...\n",
      "Decile distribution for Baseline:\n",
      "  Decile 1: 37,903 loans (11.0%)\n",
      "  Decile 2: 34,319 loans (10.0%)\n",
      "  Decile 3: 32,401 loans (9.4%)\n",
      "  Decile 4: 34,432 loans (10.0%)\n",
      "  Decile 5: 34,573 loans (10.1%)\n",
      "  Decile 6: 42,044 loans (12.2%)\n",
      "  Decile 7: 30,864 loans (9.0%)\n",
      "  Decile 8: 29,999 loans (8.7%)\n",
      "  Decile 9: 36,347 loans (10.6%)\n",
      "  Decile 10: 30,945 loans (9.0%)\n",
      "\n",
      "Summary for Baseline:\n",
      "  Total loans: 343,827\n",
      "  Total defaults: 77,515.0\n",
      "  Overall default rate: 22.54%\n",
      "\n",
      "  Decile 6 cutoff metrics:\n",
      "    Approved loans: 215,672 (62.7% of total)\n",
      "    Default rate: 15.62%\n",
      "    Loss rate: 17.08%\n",
      "    Expected loss: $32.76M\n",
      "✓ Completed risk analysis for Baseline\n",
      "Analyzing Weighted model...\n",
      "Decile distribution for Weighted:\n",
      "  Decile 1: 34,896 loans (10.1%)\n",
      "  Decile 2: 36,564 loans (10.6%)\n",
      "  Decile 3: 40,628 loans (11.8%)\n",
      "  Decile 4: 25,827 loans (7.5%)\n",
      "  Decile 5: 37,999 loans (11.1%)\n",
      "  Decile 6: 32,451 loans (9.4%)\n",
      "  Decile 7: 40,586 loans (11.8%)\n",
      "  Decile 8: 26,153 loans (7.6%)\n",
      "  Decile 9: 36,588 loans (10.6%)\n",
      "  Decile 10: 32,135 loans (9.3%)\n",
      "\n",
      "Summary for Weighted:\n",
      "  Total loans: 343,827\n",
      "  Total defaults: 77,515.0\n",
      "  Overall default rate: 22.54%\n",
      "\n",
      "  Decile 6 cutoff metrics:\n",
      "    Approved loans: 208,365 (60.6% of total)\n",
      "    Default rate: 15.31%\n",
      "    Loss rate: 16.68%\n",
      "    Expected loss: $30.86M\n",
      "✓ Completed risk analysis for Weighted\n",
      "Analyzing Undersampled model...\n",
      "Decile distribution for Undersampled:\n",
      "  Decile 1: 40,597 loans (11.8%)\n",
      "  Decile 2: 28,535 loans (8.3%)\n",
      "  Decile 3: 40,743 loans (11.8%)\n",
      "  Decile 4: 32,737 loans (9.5%)\n",
      "  Decile 5: 40,479 loans (11.8%)\n",
      "  Decile 6: 28,541 loans (8.3%)\n",
      "  Decile 7: 31,431 loans (9.1%)\n",
      "  Decile 8: 38,030 loans (11.1%)\n",
      "  Decile 9: 31,706 loans (9.2%)\n",
      "  Decile 10: 31,028 loans (9.0%)\n",
      "\n",
      "Summary for Undersampled:\n",
      "  Total loans: 343,827\n",
      "  Total defaults: 77,515.0\n",
      "  Overall default rate: 22.54%\n",
      "\n",
      "  Decile 6 cutoff metrics:\n",
      "    Approved loans: 211,632 (61.6% of total)\n",
      "    Default rate: 15.46%\n",
      "    Loss rate: 16.68%\n",
      "    Expected loss: $30.73M\n",
      "✓ Completed risk analysis for Undersampled\n",
      "Analyzing Xgboost model...\n",
      "Decile distribution for Xgboost:\n",
      "  Decile 1: 35,627 loans (10.4%)\n",
      "  Decile 2: 33,372 loans (9.7%)\n",
      "  Decile 3: 35,255 loans (10.3%)\n",
      "  Decile 4: 33,776 loans (9.8%)\n",
      "  Decile 5: 37,596 loans (10.9%)\n",
      "  Decile 6: 37,466 loans (10.9%)\n",
      "  Decile 7: 30,553 loans (8.9%)\n",
      "  Decile 8: 33,500 loans (9.7%)\n",
      "  Decile 9: 36,583 loans (10.6%)\n",
      "  Decile 10: 30,099 loans (8.8%)\n",
      "\n",
      "Summary for Xgboost:\n",
      "  Total loans: 343,827\n",
      "  Total defaults: 77,515.0\n",
      "  Overall default rate: 22.54%\n",
      "\n",
      "  Decile 6 cutoff metrics:\n",
      "    Approved loans: 213,092 (62.0% of total)\n",
      "    Default rate: 14.74%\n",
      "    Loss rate: 15.58%\n",
      "    Expected loss: $28.29M\n",
      "✓ Completed risk analysis for Xgboost\n",
      "================================================================================\n",
      "RISK VALIDATION SUMMARY TABLES\n",
      "================================================================================\n",
      "\n",
      "1. DEFAULT RATE AND LIFT BY DECILE:\n",
      "--------------------------------------------------\n",
      "       Default_Rate                                   Lift               \\\n",
      "Model      Baseline Undersampled Weighted Xgboost Baseline Undersampled   \n",
      "Decile                                                                    \n",
      "1             0.067        0.073    0.065   0.049     0.30         0.32   \n",
      "2             0.117        0.117    0.115   0.101     0.52         0.52   \n",
      "3             0.145        0.145    0.148   0.133     0.64         0.64   \n",
      "4             0.172        0.174    0.173   0.166     0.76         0.77   \n",
      "5             0.198        0.203    0.199   0.196     0.88         0.90   \n",
      "6             0.231        0.232    0.228   0.230     1.02         1.03   \n",
      "7             0.266        0.263    0.263   0.269     1.18         1.17   \n",
      "8             0.297        0.301    0.298   0.304     1.32         1.34   \n",
      "9             0.350        0.352    0.348   0.365     1.55         1.56   \n",
      "10            0.451        0.449    0.449   0.477     2.00         1.99   \n",
      "\n",
      "                         \n",
      "Model  Weighted Xgboost  \n",
      "Decile                   \n",
      "1          0.29    0.22  \n",
      "2          0.51    0.45  \n",
      "3          0.66    0.59  \n",
      "4          0.77    0.74  \n",
      "5          0.88    0.87  \n",
      "6          1.01    1.02  \n",
      "7          1.17    1.19  \n",
      "8          1.32    1.35  \n",
      "9          1.54    1.62  \n",
      "10         1.99    2.12  \n",
      "\n",
      "\n",
      "2. LOSS RATE BY DECILE (%):\n",
      "----------------------------------------\n",
      "Model  Baseline Undersampled Weighted Xgboost\n",
      "Decile                                       \n",
      "1         4.30%        4.50%    4.17%   3.30%\n",
      "2         8.07%        7.11%    7.86%   5.77%\n",
      "3         8.77%        9.18%    9.11%   7.49%\n",
      "4        11.72%       11.48%   12.07%  10.26%\n",
      "5        12.67%       12.69%   12.69%  12.70%\n",
      "6        14.79%       14.87%   14.36%  14.30%\n",
      "7        16.47%       16.51%   16.56%  15.32%\n",
      "8        18.04%       17.77%   17.92%  18.22%\n",
      "9        21.83%       21.63%   21.58%  22.73%\n",
      "10       27.16%       27.28%   27.17%  28.37%\n",
      "\n",
      "\n",
      "3. EXPECTED LOSS BY DECILE ($):\n",
      "----------------------------------------\n",
      "Model      Baseline Undersampled     Weighted      Xgboost\n",
      "Decile                                                    \n",
      "1        $2,342,100   $2,460,465   $2,065,215   $1,546,905\n",
      "2        $3,992,220   $2,794,155   $4,215,855   $2,535,960\n",
      "3        $4,103,445   $5,201,520   $5,294,865   $3,597,540\n",
      "4        $5,928,255   $5,513,070   $4,626,915   $4,927,155\n",
      "5        $6,629,430   $7,925,880   $7,220,805   $7,015,275\n",
      "6        $9,763,800   $6,832,185   $7,433,865   $8,667,855\n",
      "7        $8,222,385   $8,428,740  $10,774,305   $7,951,650\n",
      "8        $9,358,350  $11,933,100   $8,193,615  $10,840,830\n",
      "9       $14,414,910  $13,065,555  $14,195,850  $16,016,685\n",
      "10      $17,933,340  $18,533,565  $18,666,945  $19,588,380\n",
      "\n",
      "\n",
      "4. PORTFOLIO DISTRIBUTION:\n",
      "------------------------------\n",
      "\n",
      "Portfolio Distribution (Baseline Model):\n",
      " Decile    Loans Portfolio_% Avg_Loan Exposure_%\n",
      "      1 37,903.0       11.0%  $11,921       9.9%\n",
      "      2 34,319.0       10.0%  $12,699       8.9%\n",
      "      3 32,401.0        9.4%  $12,902       8.4%\n",
      "      4 34,432.0       10.0%  $13,094       9.1%\n",
      "      5 34,573.0       10.1%  $13,752       9.5%\n",
      "      6 42,044.0       12.2%  $14,042      11.9%\n",
      "      7 30,864.0        9.0%  $15,067       9.0%\n",
      "      8 29,999.0        8.7%  $15,837       9.4%\n",
      "      9 36,347.0       10.6%  $16,755      11.9%\n",
      "     10 30,945.0        9.0%  $18,876      11.9%\n",
      "\n",
      "===== RISK VALIDATION VISUALIZATION DATA VALUES =====\n",
      "\n",
      "DEFAULT RATE BY DECILE (%)\n",
      "Decile     Baseline        Weighted        Undersampled    Xgboost        \n",
      "----------------------------------------------------------------------\n",
      "1          6.65            6.48            7.25            4.95           \n",
      "2          11.70           11.48           11.67           10.05          \n",
      "3          14.46           14.80           14.47           13.31          \n",
      "4          17.18           17.32           17.41           16.59          \n",
      "5          19.80           19.87           20.33           19.61          \n",
      "6          23.07           22.85           23.22           23.03          \n",
      "7          26.58           26.30           26.28           26.87          \n",
      "8          29.75           29.79           30.12           30.37          \n",
      "9          35.04           34.76           35.19           36.54          \n",
      "10         45.14           44.87           44.86           47.69          \n",
      "\n",
      "LOSS RATE BY DECILE (%)\n",
      "Decile     Baseline        Weighted        Undersampled    Xgboost        \n",
      "----------------------------------------------------------------------\n",
      "1          4.30            4.17            4.50            3.30           \n",
      "2          8.07            7.86            7.11            5.77           \n",
      "3          8.77            9.11            9.18            7.49           \n",
      "4          11.72           12.07           11.48           10.26          \n",
      "5          12.67           12.69           12.69           12.70          \n",
      "6          14.79           14.36           14.87           14.30          \n",
      "7          16.47           16.56           16.51           15.32          \n",
      "8          18.04           17.92           17.77           18.22          \n",
      "9          21.83           21.58           21.63           22.73          \n",
      "10         27.16           27.17           27.28           28.37          \n",
      "\n",
      "EXPECTED LOSS BY DECILE ($)\n",
      "Decile     Baseline        Weighted        Undersampled    Xgboost        \n",
      "----------------------------------------------------------------------\n",
      "1          2342100.00      2065215.00      2460465.00      1546905.00     \n",
      "2          3992220.00      4215855.00      2794155.00      2535960.00     \n",
      "3          4103445.00      5294865.00      5201520.00      3597540.00     \n",
      "4          5928255.00      4626915.00      5513070.00      4927155.00     \n",
      "5          6629430.00      7220805.00      7925880.00      7015275.00     \n",
      "6          9763800.00      7433865.00      6832185.00      8667855.00     \n",
      "7          8222385.00      10774305.00     8428740.00      7951650.00     \n",
      "8          9358350.00      8193615.00      11933100.00     10840830.00    \n",
      "9          14414910.00     14195850.00     13065555.00     16016685.00    \n",
      "10         17933340.00     18666945.00     18533565.00     19588380.00    \n",
      "default.Baseline [0, np.float64(3.2535638263561895), np.float64(8.435786621944139), np.float64(14.478488034573953), np.float64(22.109269173708313), np.float64(30.938528026833517), np.float64(43.453525124169516), np.float64(54.0359930336064), np.float64(65.54860349609753), np.float64(81.97768173901825), np.float64(100.0)]\n",
      "default.Weighted [0, np.float64(2.918144875185448), np.float64(8.331290717925564), np.float64(16.089789073082628), np.float64(21.86157517899761), np.float64(31.601625491840288), np.float64(41.166225891762885), np.float64(54.937753983100045), np.float64(64.98871186222021), np.float64(81.39714893891505), np.float64(100.0)]\n",
      "default.Undersampled [0, np.float64(3.7992646584532026), np.float64(8.096497452106044), np.float64(15.702767206347158), np.float64(23.0561826743211), np.float64(33.672192478875054), np.float64(42.22021544217248), np.float64(52.87492743339999), np.float64(67.65013223247114), np.float64(82.04347545636328), np.float64(100.0)]\n",
      "default.Xgboost [0, np.float64(2.2731084306263307), np.float64(6.600012900728891), np.float64(12.65303489647165), np.float64(19.880023221312005), np.float64(29.390440559891637), np.float64(40.52118944720377), np.float64(51.112687866864476), np.float64(64.2378894407534), np.float64(81.48100367670774), np.float64(100.00000000000001)]\n",
      "CumLoss.Baseline [0, np.float64(2.832446478026771), np.float64(7.6604851947801285), np.float64(12.623035187533027), np.float64(19.79244084723782), np.float64(27.809820828803517), np.float64(39.61778843144977), np.float64(49.56162747941107), np.float64(60.87925930454314), np.float64(78.31210207836702), np.float64(100.0)]\n",
      "Cum Loss\n",
      "CumLoss.Weighted [0, np.float64(2.497592311651107), np.float64(7.5960866742409), np.float64(13.999494607666978), np.float64(19.59510926796297), np.float64(28.327675636080514), np.float64(37.317908648068254), np.float64(50.347942485409206), np.float64(60.25698819185099), np.float64(77.4249081504763), np.float64(100.0)]\n",
      "Cum Loss\n",
      "CumLoss.Undersampled [0, np.float64(2.9755925979070663), np.float64(6.3547371642410795), np.float64(12.645257212226142), np.float64(19.31255395643649), np.float64(28.89781115777837), np.float64(37.1603953089578), np.float64(47.35379222932984), np.float64(61.785228575746), np.float64(77.58621283910583), np.float64(100.0)]\n",
      "Cum Loss\n",
      "CumLoss.Xgboost [0, np.float64(1.870767951450409), np.float64(4.937661325096611), np.float64(9.288389091870204), np.float64(15.247102565437515), np.float64(23.73110878470196), np.float64(34.21368227293762), np.float64(43.83010473013482), np.float64(56.94059136707901), np.float64(76.31055977915116), np.float64(100.0)]\n",
      "Cum Loss\n",
      "\n",
      "===== ADVANCED XGBOOST ANALYSIS DATA VALUES =====\n",
      "\n",
      "MODEL EFFICIENCY CURVE DATA\n",
      "Percentage of portfolio vs. percentage of defaults captured\n",
      "Portfolio %     Baseline        Weighted        Undersampled    Xgboost        \n",
      "--------------------------------------------------------------------------------\n",
      "10              3.25            2.92            3.80            2.27           \n",
      "20              8.44            8.33            8.10            6.60           \n",
      "30              14.48           16.09           15.70           19.88          \n",
      "40              22.11           21.86           23.06           29.39          \n",
      "50              30.94           31.60           33.67           40.52          \n",
      "60              43.45           41.17           42.22           51.11          \n",
      "70              54.04           54.94           52.87           64.24          \n",
      "80              65.55           64.99           67.65           64.24          \n",
      "90              81.98           81.40           82.04           81.48          \n",
      "100             100.00          100.00          100.00          100.00         \n",
      "\n",
      "RISK CONCENTRATION DATA\n",
      "Percentage of portfolio vs. percentage of expected loss\n",
      "Portfolio %     Baseline        Weighted        Undersampled    Xgboost        \n",
      "--------------------------------------------------------------------------------\n",
      "10              2.83            2.50            2.98            1.87           \n",
      "20              7.66            7.60            6.35            4.94           \n",
      "30              12.62           14.00           12.65           15.25          \n",
      "40              19.79           19.60           19.31           23.73          \n",
      "50              27.81           28.33           28.90           34.21          \n",
      "60              39.62           37.32           37.16           43.83          \n",
      "70              49.56           50.35           47.35           56.94          \n",
      "80              60.88           60.26           61.79           56.94          \n",
      "90              78.31           77.42           77.59           76.31          \n",
      "100             100.00          100.00          100.00          100.00         \n",
      "\n",
      "======================================================================\n",
      "✅ PHASE 1: RISK VALIDATION COMPLETED SUCCESSFULLY!\n",
      "======================================================================\n",
      "\n",
      "Generated outputs:\n",
      "- Simple qcut deciles\n",
      "- Comprehensive risk metrics by decile\n",
      "- Summary tables (default rate, loss rate, expected loss)\n",
      "- 4 consolidated interactive visualizations\n",
      "- 3 advanced XGBoost analysis visualizations\n",
      "- Cutoff policy analysis (decile 6)\n",
      "\n",
      "Next: Execute Phase 2 (Temporal Performance & Stability)\n"
     ]
    },
    {
     "data": {
      "application/vnd.plotly.v1+json": {
       "config": {
        "plotlyServerURL": "https://plot.ly"
       },
       "data": [
        {
         "legendgroup": "Baseline",
         "line": {
          "color": "#1560bd",
          "width": 2
         },
         "marker": {
          "size": 4
         },
         "mode": "lines+markers",
         "name": "Baseline",
         "type": "scatter",
         "x": {
          "bdata": "AQIDBAUGBwgJCg==",
          "dtype": "i1"
         },
         "xaxis": "x",
         "y": {
          "bdata": "zu/ByoSdGkBXeFXi5mgnQEwStOml6SxAKl8M/8QtMUBpR6QuucszQNb662nNEjdAqrkBm/CTOkDG/QqIZr89QHCek5PFhEFARZFooIKSRkA=",
          "dtype": "f8"
         },
         "yaxis": "y"
        },
        {
         "legendgroup": "Weighted",
         "line": {
          "color": "#75caed",
          "width": 2
         },
         "marker": {
          "size": 4
         },
         "mode": "lines+markers",
         "name": "Weighted",
         "type": "scatter",
         "x": {
          "bdata": "AQIDBAUGBwgJCg==",
          "dtype": "i1"
         },
         "xaxis": "x",
         "y": {
          "bdata": "G1MMa7DtGUBT50zul/MmQJirCEjumi1AsQiRSK1SMUD7o9Qbc94zQD+tfdfE2DZA9H9tOFtNOkC0WArHQso9QFdsEz6iYUFAtDzkusRvRkA=",
          "dtype": "f8"
         },
         "yaxis": "y"
        },
        {
         "legendgroup": "Undersampled",
         "line": {
          "color": "#8B7EC8",
          "width": 2
         },
         "marker": {
          "size": 4
         },
         "mode": "lines+markers",
         "name": "Undersampled",
         "type": "scatter",
         "x": {
          "bdata": "AQIDBAUGBwgJCg==",
          "dtype": "i1"
         },
         "xaxis": "x",
         "y": {
          "bdata": "MPtOB1UEHUCXdwK7xVgnQAU0r8xA8SxADsYxg1dpMUDW74M+PVQ0QIyurLw5NzdAu4TopM9GOkCWq5Fknh0+QCje76IumEFAi/GNfwNuRkA=",
          "dtype": "f8"
         },
         "yaxis": "y"
        },
        {
         "legendgroup": "Xgboost",
         "line": {
          "color": "#d62728",
          "width": 2
         },
         "marker": {
          "size": 4
         },
         "mode": "lines+markers",
         "name": "Xgboost",
         "type": "scatter",
         "x": {
          "bdata": "AQIDBAUGBwgJCg==",
          "dtype": "i1"
         },
         "xaxis": "x",
         "y": {
          "bdata": "q/qxPWLIE0BNYetfxhkkQAO/uYwUnipA1NA6JfOVMECgxJufxJszQOXh5qVkBzdAPJhfBxDfOkA5avsZwl4+QPyiM8ueREJACHd3lqfYR0A=",
          "dtype": "f8"
         },
         "yaxis": "y"
        },
        {
         "legendgroup": "Baseline",
         "line": {
          "color": "#1560bd",
          "width": 2
         },
         "marker": {
          "size": 4
         },
         "mode": "lines+markers",
         "name": "Baseline",
         "showlegend": false,
         "type": "scatter",
         "x": {
          "bdata": "AQIDBAUGBwgJCg==",
          "dtype": "i1"
         },
         "xaxis": "x2",
         "y": {
          "bdata": "3rNgKUouEUCwY/gEZSIgQId1rcsojCFAthT6OrZwJ0CjKSzW01YpQJ053Cdpky1A07zrJvN4MEAWYjCFtgkyQGbIoeSP1DVAs5dCRAspO0A=",
          "dtype": "f8"
         },
         "yaxis": "y2"
        },
        {
         "legendgroup": "Weighted",
         "line": {
          "color": "#75caed",
          "width": 2
         },
         "marker": {
          "size": 4
         },
         "mode": "lines+markers",
         "name": "Weighted",
         "showlegend": false,
         "type": "scatter",
         "x": {
          "bdata": "AQIDBAUGBwgJCg==",
          "dtype": "i1"
         },
         "xaxis": "x2",
         "y": {
          "bdata": "cj4OzeqyEEDeeU4CZW4fQEMn7ygTNiJAWM3OyYAjKEBdKQH7QGApQGsWo4wouCxAdlZaJGmPMEBkcHRgsesxQHCXfL7lkzVADIMVj1gqO0A=",
          "dtype": "f8"
         },
         "yaxis": "y2"
        },
        {
         "legendgroup": "Undersampled",
         "line": {
          "color": "#8B7EC8",
          "width": 2
         },
         "marker": {
          "size": 4
         },
         "mode": "lines+markers",
         "name": "Undersampled",
         "showlegend": false,
         "type": "scatter",
         "x": {
          "bdata": "AQIDBAUGBwgJCg==",
          "dtype": "i1"
         },
         "xaxis": "x2",
         "y": {
          "bdata": "C4Mg1PUBEkBE4vPeHnUcQKwOG5gFXSJA8jrz+Lr1JkCgoEP6GGIpQO35vwznvi1ACX3rEBSCMEA7BlstPcQxQL33mySgoDVAU7QGp6ZGO0A=",
          "dtype": "f8"
         },
         "yaxis": "y2"
        },
        {
         "legendgroup": "Xgboost",
         "line": {
          "color": "#d62728",
          "width": 2
         },
         "marker": {
          "size": 4
         },
         "mode": "lines+markers",
         "name": "Xgboost",
         "showlegend": false,
         "type": "scatter",
         "x": {
          "bdata": "AQIDBAUGBwgJCg==",
          "dtype": "i1"
         },
         "xaxis": "x2",
         "y": {
          "bdata": "yYpqDjpwCkBpvP35bRcXQNu5aIeH8R1AqfL1PxiDJEB4zJiPeWYpQMo98lB7mSxAOF6Gp+ekLkAr7ZAQsDgyQIJnUkyzuzZAyfT1VXhfPEA=",
          "dtype": "f8"
         },
         "yaxis": "y2"
        },
        {
         "legendgroup": "Baseline",
         "marker": {
          "color": "#1560bd"
         },
         "name": "Baseline",
         "opacity": 0.7,
         "showlegend": false,
         "type": "bar",
         "x": {
          "bdata": "AQIDBAUGBwgJCg==",
          "dtype": "i1"
         },
         "xaxis": "x3",
         "y": {
          "bdata": "AAAAAGreQUEAAAAATnVOQQAAAICKTk9BAAAAwE+dVkEAAACADUpZQQAAAAB7n2JBAAAAQKxdX0EAAADAgdlhQQAAAMCHfmtBAAAAwEEacUE=",
          "dtype": "f8"
         },
         "yaxis": "y3"
        },
        {
         "legendgroup": "Weighted",
         "marker": {
          "color": "#75caed"
         },
         "name": "Weighted",
         "opacity": 0.7,
         "showlegend": false,
         "type": "bar",
         "x": {
          "bdata": "AQIDBAUGBwgJCg==",
          "dtype": "i1"
         },
         "xaxis": "x3",
         "y": {
          "bdata": "AAAAAD+DP0EAAADACxVQQQAAAEDEMlRBAAAAwHimUUEAAABAkYtbQQAAAECiW1xBAAAAIOSMZEEAAADAk0FfQQAAAECRE2tBAAAAEFzNcUE=",
          "dtype": "f8"
         },
         "yaxis": "y3"
        },
        {
         "legendgroup": "Undersampled",
         "marker": {
          "color": "#8B7EC8"
         },
         "name": "Undersampled",
         "opacity": 0.7,
         "showlegend": false,
         "type": "bar",
         "x": {
          "bdata": "AQIDBAUGBwgJCg==",
          "dtype": "i1"
         },
         "xaxis": "x3",
         "y": {
          "bdata": "AAAAgJjFQkEAAACAVVFFQQAAAACc11NBAAAAgNsHVUEAAAAAHjxeQQAAAEAOEFpBAAAAgJgTYEEAAACAtcJmQQAAAGCq62hBAAAA0MuscUE=",
          "dtype": "f8"
         },
         "yaxis": "y3"
        },
        {
         "legendgroup": "Xgboost",
         "marker": {
          "color": "#d62728"
         },
         "name": "Xgboost",
         "opacity": 0.7,
         "showlegend": false,
         "type": "bar",
         "x": {
          "bdata": "AQIDBAUGBwgJCg==",
          "dtype": "i1"
         },
         "xaxis": "x3",
         "y": {
          "bdata": "AAAAAJmaN0EAAAAADFlDQQAAAABycktBAAAAwKzLUkEAAADA2sJaQQAAAOBZiGBBAAAAgEhVXkEAAADAX61kQQAAAKCljG5BAAAAwFGuckE=",
          "dtype": "f8"
         },
         "yaxis": "y3"
        },
        {
         "legendgroup": "Baseline",
         "marker": {
          "color": "#1560bd"
         },
         "name": "Baseline",
         "opacity": 0.7,
         "showlegend": false,
         "type": "bar",
         "x": [
          "Top 1 Decile",
          "Top 2 Deciles",
          "Top 3 Deciles"
         ],
         "xaxis": "x4",
         "y": [
          3.2535638263561895,
          8.435786621944139,
          14.478488034573953
         ],
         "yaxis": "y4"
        },
        {
         "legendgroup": "Weighted",
         "marker": {
          "color": "#75caed"
         },
         "name": "Weighted",
         "opacity": 0.7,
         "showlegend": false,
         "type": "bar",
         "x": [
          "Top 1 Decile",
          "Top 2 Deciles",
          "Top 3 Deciles"
         ],
         "xaxis": "x4",
         "y": [
          2.918144875185448,
          8.331290717925564,
          16.089789073082628
         ],
         "yaxis": "y4"
        },
        {
         "legendgroup": "Undersampled",
         "marker": {
          "color": "#8B7EC8"
         },
         "name": "Undersampled",
         "opacity": 0.7,
         "showlegend": false,
         "type": "bar",
         "x": [
          "Top 1 Decile",
          "Top 2 Deciles",
          "Top 3 Deciles"
         ],
         "xaxis": "x4",
         "y": [
          3.7992646584532026,
          8.096497452106044,
          15.702767206347158
         ],
         "yaxis": "y4"
        },
        {
         "legendgroup": "Xgboost",
         "marker": {
          "color": "#d62728"
         },
         "name": "Xgboost",
         "opacity": 0.7,
         "showlegend": false,
         "type": "bar",
         "x": [
          "Top 1 Decile",
          "Top 2 Deciles",
          "Top 3 Deciles"
         ],
         "xaxis": "x4",
         "y": [
          2.2731084306263307,
          6.600012900728891,
          12.65303489647165
         ],
         "yaxis": "y4"
        }
       ],
       "layout": {
        "annotations": [
         {
          "font": {
           "size": 16
          },
          "showarrow": false,
          "text": "Default Rate by Decile",
          "x": 0.225,
          "xanchor": "center",
          "xref": "paper",
          "y": 1,
          "yanchor": "bottom",
          "yref": "paper"
         },
         {
          "font": {
           "size": 16
          },
          "showarrow": false,
          "text": "Loss Rate by Decile",
          "x": 0.775,
          "xanchor": "center",
          "xref": "paper",
          "y": 1,
          "yanchor": "bottom",
          "yref": "paper"
         },
         {
          "font": {
           "size": 16
          },
          "showarrow": false,
          "text": "Expected Loss by Decile ($)",
          "x": 0.225,
          "xanchor": "center",
          "xref": "paper",
          "y": 0.375,
          "yanchor": "bottom",
          "yref": "paper"
         },
         {
          "font": {
           "size": 16
          },
          "showarrow": false,
          "text": "Risk Concentration Analysis",
          "x": 0.775,
          "xanchor": "center",
          "xref": "paper",
          "y": 0.375,
          "yanchor": "bottom",
          "yref": "paper"
         }
        ],
        "barmode": "group",
        "font": {
         "family": "Arial",
         "size": 11
        },
        "height": 700,
        "legend": {
         "x": 1.02,
         "xanchor": "left",
         "y": 1
        },
        "template": {
         "data": {
          "bar": [
           {
            "error_x": {
             "color": "#2a3f5f"
            },
            "error_y": {
             "color": "#2a3f5f"
            },
            "marker": {
             "line": {
              "color": "white",
              "width": 0.5
             },
             "pattern": {
              "fillmode": "overlay",
              "size": 10,
              "solidity": 0.2
             }
            },
            "type": "bar"
           }
          ],
          "barpolar": [
           {
            "marker": {
             "line": {
              "color": "white",
              "width": 0.5
             },
             "pattern": {
              "fillmode": "overlay",
              "size": 10,
              "solidity": 0.2
             }
            },
            "type": "barpolar"
           }
          ],
          "carpet": [
           {
            "aaxis": {
             "endlinecolor": "#2a3f5f",
             "gridcolor": "#C8D4E3",
             "linecolor": "#C8D4E3",
             "minorgridcolor": "#C8D4E3",
             "startlinecolor": "#2a3f5f"
            },
            "baxis": {
             "endlinecolor": "#2a3f5f",
             "gridcolor": "#C8D4E3",
             "linecolor": "#C8D4E3",
             "minorgridcolor": "#C8D4E3",
             "startlinecolor": "#2a3f5f"
            },
            "type": "carpet"
           }
          ],
          "choropleth": [
           {
            "colorbar": {
             "outlinewidth": 0,
             "ticks": ""
            },
            "type": "choropleth"
           }
          ],
          "contour": [
           {
            "colorbar": {
             "outlinewidth": 0,
             "ticks": ""
            },
            "colorscale": [
             [
              0,
              "#0d0887"
             ],
             [
              0.1111111111111111,
              "#46039f"
             ],
             [
              0.2222222222222222,
              "#7201a8"
             ],
             [
              0.3333333333333333,
              "#9c179e"
             ],
             [
              0.4444444444444444,
              "#bd3786"
             ],
             [
              0.5555555555555556,
              "#d8576b"
             ],
             [
              0.6666666666666666,
              "#ed7953"
             ],
             [
              0.7777777777777778,
              "#fb9f3a"
             ],
             [
              0.8888888888888888,
              "#fdca26"
             ],
             [
              1,
              "#f0f921"
             ]
            ],
            "type": "contour"
           }
          ],
          "contourcarpet": [
           {
            "colorbar": {
             "outlinewidth": 0,
             "ticks": ""
            },
            "type": "contourcarpet"
           }
          ],
          "heatmap": [
           {
            "colorbar": {
             "outlinewidth": 0,
             "ticks": ""
            },
            "colorscale": [
             [
              0,
              "#0d0887"
             ],
             [
              0.1111111111111111,
              "#46039f"
             ],
             [
              0.2222222222222222,
              "#7201a8"
             ],
             [
              0.3333333333333333,
              "#9c179e"
             ],
             [
              0.4444444444444444,
              "#bd3786"
             ],
             [
              0.5555555555555556,
              "#d8576b"
             ],
             [
              0.6666666666666666,
              "#ed7953"
             ],
             [
              0.7777777777777778,
              "#fb9f3a"
             ],
             [
              0.8888888888888888,
              "#fdca26"
             ],
             [
              1,
              "#f0f921"
             ]
            ],
            "type": "heatmap"
           }
          ],
          "histogram": [
           {
            "marker": {
             "pattern": {
              "fillmode": "overlay",
              "size": 10,
              "solidity": 0.2
             }
            },
            "type": "histogram"
           }
          ],
          "histogram2d": [
           {
            "colorbar": {
             "outlinewidth": 0,
             "ticks": ""
            },
            "colorscale": [
             [
              0,
              "#0d0887"
             ],
             [
              0.1111111111111111,
              "#46039f"
             ],
             [
              0.2222222222222222,
              "#7201a8"
             ],
             [
              0.3333333333333333,
              "#9c179e"
             ],
             [
              0.4444444444444444,
              "#bd3786"
             ],
             [
              0.5555555555555556,
              "#d8576b"
             ],
             [
              0.6666666666666666,
              "#ed7953"
             ],
             [
              0.7777777777777778,
              "#fb9f3a"
             ],
             [
              0.8888888888888888,
              "#fdca26"
             ],
             [
              1,
              "#f0f921"
             ]
            ],
            "type": "histogram2d"
           }
          ],
          "histogram2dcontour": [
           {
            "colorbar": {
             "outlinewidth": 0,
             "ticks": ""
            },
            "colorscale": [
             [
              0,
              "#0d0887"
             ],
             [
              0.1111111111111111,
              "#46039f"
             ],
             [
              0.2222222222222222,
              "#7201a8"
             ],
             [
              0.3333333333333333,
              "#9c179e"
             ],
             [
              0.4444444444444444,
              "#bd3786"
             ],
             [
              0.5555555555555556,
              "#d8576b"
             ],
             [
              0.6666666666666666,
              "#ed7953"
             ],
             [
              0.7777777777777778,
              "#fb9f3a"
             ],
             [
              0.8888888888888888,
              "#fdca26"
             ],
             [
              1,
              "#f0f921"
             ]
            ],
            "type": "histogram2dcontour"
           }
          ],
          "mesh3d": [
           {
            "colorbar": {
             "outlinewidth": 0,
             "ticks": ""
            },
            "type": "mesh3d"
           }
          ],
          "parcoords": [
           {
            "line": {
             "colorbar": {
              "outlinewidth": 0,
              "ticks": ""
             }
            },
            "type": "parcoords"
           }
          ],
          "pie": [
           {
            "automargin": true,
            "type": "pie"
           }
          ],
          "scatter": [
           {
            "fillpattern": {
             "fillmode": "overlay",
             "size": 10,
             "solidity": 0.2
            },
            "type": "scatter"
           }
          ],
          "scatter3d": [
           {
            "line": {
             "colorbar": {
              "outlinewidth": 0,
              "ticks": ""
             }
            },
            "marker": {
             "colorbar": {
              "outlinewidth": 0,
              "ticks": ""
             }
            },
            "type": "scatter3d"
           }
          ],
          "scattercarpet": [
           {
            "marker": {
             "colorbar": {
              "outlinewidth": 0,
              "ticks": ""
             }
            },
            "type": "scattercarpet"
           }
          ],
          "scattergeo": [
           {
            "marker": {
             "colorbar": {
              "outlinewidth": 0,
              "ticks": ""
             }
            },
            "type": "scattergeo"
           }
          ],
          "scattergl": [
           {
            "marker": {
             "colorbar": {
              "outlinewidth": 0,
              "ticks": ""
             }
            },
            "type": "scattergl"
           }
          ],
          "scattermap": [
           {
            "marker": {
             "colorbar": {
              "outlinewidth": 0,
              "ticks": ""
             }
            },
            "type": "scattermap"
           }
          ],
          "scattermapbox": [
           {
            "marker": {
             "colorbar": {
              "outlinewidth": 0,
              "ticks": ""
             }
            },
            "type": "scattermapbox"
           }
          ],
          "scatterpolar": [
           {
            "marker": {
             "colorbar": {
              "outlinewidth": 0,
              "ticks": ""
             }
            },
            "type": "scatterpolar"
           }
          ],
          "scatterpolargl": [
           {
            "marker": {
             "colorbar": {
              "outlinewidth": 0,
              "ticks": ""
             }
            },
            "type": "scatterpolargl"
           }
          ],
          "scatterternary": [
           {
            "marker": {
             "colorbar": {
              "outlinewidth": 0,
              "ticks": ""
             }
            },
            "type": "scatterternary"
           }
          ],
          "surface": [
           {
            "colorbar": {
             "outlinewidth": 0,
             "ticks": ""
            },
            "colorscale": [
             [
              0,
              "#0d0887"
             ],
             [
              0.1111111111111111,
              "#46039f"
             ],
             [
              0.2222222222222222,
              "#7201a8"
             ],
             [
              0.3333333333333333,
              "#9c179e"
             ],
             [
              0.4444444444444444,
              "#bd3786"
             ],
             [
              0.5555555555555556,
              "#d8576b"
             ],
             [
              0.6666666666666666,
              "#ed7953"
             ],
             [
              0.7777777777777778,
              "#fb9f3a"
             ],
             [
              0.8888888888888888,
              "#fdca26"
             ],
             [
              1,
              "#f0f921"
             ]
            ],
            "type": "surface"
           }
          ],
          "table": [
           {
            "cells": {
             "fill": {
              "color": "#EBF0F8"
             },
             "line": {
              "color": "white"
             }
            },
            "header": {
             "fill": {
              "color": "#C8D4E3"
             },
             "line": {
              "color": "white"
             }
            },
            "type": "table"
           }
          ]
         },
         "layout": {
          "annotationdefaults": {
           "arrowcolor": "#2a3f5f",
           "arrowhead": 0,
           "arrowwidth": 1
          },
          "autotypenumbers": "strict",
          "coloraxis": {
           "colorbar": {
            "outlinewidth": 0,
            "ticks": ""
           }
          },
          "colorscale": {
           "diverging": [
            [
             0,
             "#8e0152"
            ],
            [
             0.1,
             "#c51b7d"
            ],
            [
             0.2,
             "#de77ae"
            ],
            [
             0.3,
             "#f1b6da"
            ],
            [
             0.4,
             "#fde0ef"
            ],
            [
             0.5,
             "#f7f7f7"
            ],
            [
             0.6,
             "#e6f5d0"
            ],
            [
             0.7,
             "#b8e186"
            ],
            [
             0.8,
             "#7fbc41"
            ],
            [
             0.9,
             "#4d9221"
            ],
            [
             1,
             "#276419"
            ]
           ],
           "sequential": [
            [
             0,
             "#0d0887"
            ],
            [
             0.1111111111111111,
             "#46039f"
            ],
            [
             0.2222222222222222,
             "#7201a8"
            ],
            [
             0.3333333333333333,
             "#9c179e"
            ],
            [
             0.4444444444444444,
             "#bd3786"
            ],
            [
             0.5555555555555556,
             "#d8576b"
            ],
            [
             0.6666666666666666,
             "#ed7953"
            ],
            [
             0.7777777777777778,
             "#fb9f3a"
            ],
            [
             0.8888888888888888,
             "#fdca26"
            ],
            [
             1,
             "#f0f921"
            ]
           ],
           "sequentialminus": [
            [
             0,
             "#0d0887"
            ],
            [
             0.1111111111111111,
             "#46039f"
            ],
            [
             0.2222222222222222,
             "#7201a8"
            ],
            [
             0.3333333333333333,
             "#9c179e"
            ],
            [
             0.4444444444444444,
             "#bd3786"
            ],
            [
             0.5555555555555556,
             "#d8576b"
            ],
            [
             0.6666666666666666,
             "#ed7953"
            ],
            [
             0.7777777777777778,
             "#fb9f3a"
            ],
            [
             0.8888888888888888,
             "#fdca26"
            ],
            [
             1,
             "#f0f921"
            ]
           ]
          },
          "colorway": [
           "#636efa",
           "#EF553B",
           "#00cc96",
           "#ab63fa",
           "#FFA15A",
           "#19d3f3",
           "#FF6692",
           "#B6E880",
           "#FF97FF",
           "#FECB52"
          ],
          "font": {
           "color": "#2a3f5f"
          },
          "geo": {
           "bgcolor": "white",
           "lakecolor": "white",
           "landcolor": "white",
           "showlakes": true,
           "showland": true,
           "subunitcolor": "#C8D4E3"
          },
          "hoverlabel": {
           "align": "left"
          },
          "hovermode": "closest",
          "mapbox": {
           "style": "light"
          },
          "paper_bgcolor": "white",
          "plot_bgcolor": "white",
          "polar": {
           "angularaxis": {
            "gridcolor": "#EBF0F8",
            "linecolor": "#EBF0F8",
            "ticks": ""
           },
           "bgcolor": "white",
           "radialaxis": {
            "gridcolor": "#EBF0F8",
            "linecolor": "#EBF0F8",
            "ticks": ""
           }
          },
          "scene": {
           "xaxis": {
            "backgroundcolor": "white",
            "gridcolor": "#DFE8F3",
            "gridwidth": 2,
            "linecolor": "#EBF0F8",
            "showbackground": true,
            "ticks": "",
            "zerolinecolor": "#EBF0F8"
           },
           "yaxis": {
            "backgroundcolor": "white",
            "gridcolor": "#DFE8F3",
            "gridwidth": 2,
            "linecolor": "#EBF0F8",
            "showbackground": true,
            "ticks": "",
            "zerolinecolor": "#EBF0F8"
           },
           "zaxis": {
            "backgroundcolor": "white",
            "gridcolor": "#DFE8F3",
            "gridwidth": 2,
            "linecolor": "#EBF0F8",
            "showbackground": true,
            "ticks": "",
            "zerolinecolor": "#EBF0F8"
           }
          },
          "shapedefaults": {
           "line": {
            "color": "#2a3f5f"
           }
          },
          "ternary": {
           "aaxis": {
            "gridcolor": "#DFE8F3",
            "linecolor": "#A2B1C6",
            "ticks": ""
           },
           "baxis": {
            "gridcolor": "#DFE8F3",
            "linecolor": "#A2B1C6",
            "ticks": ""
           },
           "bgcolor": "white",
           "caxis": {
            "gridcolor": "#DFE8F3",
            "linecolor": "#A2B1C6",
            "ticks": ""
           }
          },
          "title": {
           "x": 0.05
          },
          "xaxis": {
           "automargin": true,
           "gridcolor": "#EBF0F8",
           "linecolor": "#EBF0F8",
           "ticks": "",
           "title": {
            "standoff": 15
           },
           "zerolinecolor": "#EBF0F8",
           "zerolinewidth": 2
          },
          "yaxis": {
           "automargin": true,
           "gridcolor": "#EBF0F8",
           "linecolor": "#EBF0F8",
           "ticks": "",
           "title": {
            "standoff": 15
           },
           "zerolinecolor": "#EBF0F8",
           "zerolinewidth": 2
          }
         }
        },
        "title": {
         "text": "Risk Metrics Dashboard - Model Comparison"
        },
        "xaxis": {
         "anchor": "y",
         "domain": [
          0,
          0.45
         ],
         "dtick": 1,
         "gridcolor": "lightgray",
         "title": {
          "text": "Risk Decile"
         }
        },
        "xaxis2": {
         "anchor": "y2",
         "domain": [
          0.55,
          1
         ],
         "dtick": 1,
         "gridcolor": "lightgray",
         "title": {
          "text": "Risk Decile"
         }
        },
        "xaxis3": {
         "anchor": "y3",
         "domain": [
          0,
          0.45
         ],
         "dtick": 1,
         "gridcolor": "lightgray",
         "title": {
          "text": "Risk Decile"
         }
        },
        "xaxis4": {
         "anchor": "y4",
         "domain": [
          0.55,
          1
         ],
         "gridcolor": "lightgray",
         "title": {
          "text": "Risk Concentration"
         }
        },
        "yaxis": {
         "anchor": "x",
         "domain": [
          0.625,
          1
         ],
         "gridcolor": "lightgray",
         "title": {
          "text": "Default Rate (%)"
         }
        },
        "yaxis2": {
         "anchor": "x2",
         "domain": [
          0.625,
          1
         ],
         "gridcolor": "lightgray",
         "title": {
          "text": "Loss Rate (%)"
         }
        },
        "yaxis3": {
         "anchor": "x3",
         "domain": [
          0,
          0.375
         ],
         "gridcolor": "lightgray",
         "title": {
          "text": "Expected Loss ($)"
         }
        },
        "yaxis4": {
         "anchor": "x4",
         "domain": [
          0,
          0.375
         ],
         "gridcolor": "lightgray",
         "title": {
          "text": "% of Total Defaults"
         }
        }
       }
      }
     },
     "metadata": {},
     "output_type": "display_data"
    },
    {
     "data": {
      "application/vnd.plotly.v1+json": {
       "config": {
        "plotlyServerURL": "https://plot.ly"
       },
       "data": [
        {
         "colorbar": {
          "title": {
           "text": "Lift Value"
          }
         },
         "colorscale": [
          [
           0,
           "rgb(49,54,149)"
          ],
          [
           0.1,
           "rgb(69,117,180)"
          ],
          [
           0.2,
           "rgb(116,173,209)"
          ],
          [
           0.3,
           "rgb(171,217,233)"
          ],
          [
           0.4,
           "rgb(224,243,248)"
          ],
          [
           0.5,
           "rgb(255,255,191)"
          ],
          [
           0.6,
           "rgb(254,224,144)"
          ],
          [
           0.7,
           "rgb(253,174,97)"
          ],
          [
           0.8,
           "rgb(244,109,67)"
          ],
          [
           0.9,
           "rgb(215,48,39)"
          ],
          [
           1,
           "rgb(165,0,38)"
          ]
         ],
         "hoverongaps": false,
         "hovertemplate": "<b>%{y}</b><br><b>%{x}</b><br>Lift: %{z:.2f}<br><extra></extra>",
         "text": [
          [
           "0.30",
           "0.52",
           "0.64",
           "0.76",
           "0.88",
           "1.02",
           "1.18",
           "1.32",
           "1.55",
           "2.00"
          ],
          [
           "0.29",
           "0.51",
           "0.66",
           "0.77",
           "0.88",
           "1.01",
           "1.17",
           "1.32",
           "1.54",
           "1.99"
          ],
          [
           "0.32",
           "0.52",
           "0.64",
           "0.77",
           "0.90",
           "1.03",
           "1.17",
           "1.34",
           "1.56",
           "1.99"
          ],
          [
           "0.22",
           "0.45",
           "0.59",
           "0.74",
           "0.87",
           "1.02",
           "1.19",
           "1.35",
           "1.62",
           "2.12"
          ]
         ],
         "textfont": {
          "size": 10
         },
         "texttemplate": "%{text}",
         "type": "heatmap",
         "x": [
          "Decile 1",
          "Decile 2",
          "Decile 3",
          "Decile 4",
          "Decile 5",
          "Decile 6",
          "Decile 7",
          "Decile 8",
          "Decile 9",
          "Decile 10"
         ],
         "y": [
          "Baseline Model",
          "Weighted Model",
          "Undersampled Model",
          "Xgboost Model"
         ],
         "z": [
          [
           0.29513840321994816,
           0.5191841595438732,
           0.6412283258542238,
           0.7619855328546555,
           0.8780660005476756,
           1.0234501729106995,
           1.178893919744024,
           1.3194927555874991,
           1.5541201983736497,
           2.002442921544214
          ],
          [
           0.28752206499323335,
           0.5090213586237298,
           0.65658688932721,
           0.7683803389624932,
           0.8813106342045208,
           1.0133949220992222,
           1.1666641672153408,
           1.3213744865614847,
           1.541943723288716,
           1.9904037565830575
          ],
          [
           0.32177002481020506,
           0.5177868090917385,
           0.6418871734510124,
           0.7723074136625458,
           0.9017196084563288,
           1.0297610775381607,
           1.1655301007946868,
           1.335817602011632,
           1.560846533981318,
           1.9897956569114932
          ],
          [
           0.21937183944114277,
           0.4457948529431719,
           0.5903254556035302,
           0.7356802803069885,
           0.8697569587913125,
           1.0214733352046839,
           1.1919101650039876,
           1.3471040840434352,
           1.6206019840924666,
           2.115462622960434
          ]
         ]
        }
       ],
       "layout": {
        "annotations": [
         {
          "font": {
           "color": "gray",
           "size": 10
          },
          "showarrow": false,
          "text": "Higher lift values (red) indicate better risk discrimination",
          "x": 0.5,
          "xref": "paper",
          "y": -0.25,
          "yref": "paper"
         }
        ],
        "font": {
         "family": "Arial",
         "size": 12
        },
        "height": 500,
        "margin": {
         "b": 120,
         "l": 100,
         "r": 50,
         "t": 80
        },
        "template": {
         "data": {
          "bar": [
           {
            "error_x": {
             "color": "#2a3f5f"
            },
            "error_y": {
             "color": "#2a3f5f"
            },
            "marker": {
             "line": {
              "color": "white",
              "width": 0.5
             },
             "pattern": {
              "fillmode": "overlay",
              "size": 10,
              "solidity": 0.2
             }
            },
            "type": "bar"
           }
          ],
          "barpolar": [
           {
            "marker": {
             "line": {
              "color": "white",
              "width": 0.5
             },
             "pattern": {
              "fillmode": "overlay",
              "size": 10,
              "solidity": 0.2
             }
            },
            "type": "barpolar"
           }
          ],
          "carpet": [
           {
            "aaxis": {
             "endlinecolor": "#2a3f5f",
             "gridcolor": "#C8D4E3",
             "linecolor": "#C8D4E3",
             "minorgridcolor": "#C8D4E3",
             "startlinecolor": "#2a3f5f"
            },
            "baxis": {
             "endlinecolor": "#2a3f5f",
             "gridcolor": "#C8D4E3",
             "linecolor": "#C8D4E3",
             "minorgridcolor": "#C8D4E3",
             "startlinecolor": "#2a3f5f"
            },
            "type": "carpet"
           }
          ],
          "choropleth": [
           {
            "colorbar": {
             "outlinewidth": 0,
             "ticks": ""
            },
            "type": "choropleth"
           }
          ],
          "contour": [
           {
            "colorbar": {
             "outlinewidth": 0,
             "ticks": ""
            },
            "colorscale": [
             [
              0,
              "#0d0887"
             ],
             [
              0.1111111111111111,
              "#46039f"
             ],
             [
              0.2222222222222222,
              "#7201a8"
             ],
             [
              0.3333333333333333,
              "#9c179e"
             ],
             [
              0.4444444444444444,
              "#bd3786"
             ],
             [
              0.5555555555555556,
              "#d8576b"
             ],
             [
              0.6666666666666666,
              "#ed7953"
             ],
             [
              0.7777777777777778,
              "#fb9f3a"
             ],
             [
              0.8888888888888888,
              "#fdca26"
             ],
             [
              1,
              "#f0f921"
             ]
            ],
            "type": "contour"
           }
          ],
          "contourcarpet": [
           {
            "colorbar": {
             "outlinewidth": 0,
             "ticks": ""
            },
            "type": "contourcarpet"
           }
          ],
          "heatmap": [
           {
            "colorbar": {
             "outlinewidth": 0,
             "ticks": ""
            },
            "colorscale": [
             [
              0,
              "#0d0887"
             ],
             [
              0.1111111111111111,
              "#46039f"
             ],
             [
              0.2222222222222222,
              "#7201a8"
             ],
             [
              0.3333333333333333,
              "#9c179e"
             ],
             [
              0.4444444444444444,
              "#bd3786"
             ],
             [
              0.5555555555555556,
              "#d8576b"
             ],
             [
              0.6666666666666666,
              "#ed7953"
             ],
             [
              0.7777777777777778,
              "#fb9f3a"
             ],
             [
              0.8888888888888888,
              "#fdca26"
             ],
             [
              1,
              "#f0f921"
             ]
            ],
            "type": "heatmap"
           }
          ],
          "histogram": [
           {
            "marker": {
             "pattern": {
              "fillmode": "overlay",
              "size": 10,
              "solidity": 0.2
             }
            },
            "type": "histogram"
           }
          ],
          "histogram2d": [
           {
            "colorbar": {
             "outlinewidth": 0,
             "ticks": ""
            },
            "colorscale": [
             [
              0,
              "#0d0887"
             ],
             [
              0.1111111111111111,
              "#46039f"
             ],
             [
              0.2222222222222222,
              "#7201a8"
             ],
             [
              0.3333333333333333,
              "#9c179e"
             ],
             [
              0.4444444444444444,
              "#bd3786"
             ],
             [
              0.5555555555555556,
              "#d8576b"
             ],
             [
              0.6666666666666666,
              "#ed7953"
             ],
             [
              0.7777777777777778,
              "#fb9f3a"
             ],
             [
              0.8888888888888888,
              "#fdca26"
             ],
             [
              1,
              "#f0f921"
             ]
            ],
            "type": "histogram2d"
           }
          ],
          "histogram2dcontour": [
           {
            "colorbar": {
             "outlinewidth": 0,
             "ticks": ""
            },
            "colorscale": [
             [
              0,
              "#0d0887"
             ],
             [
              0.1111111111111111,
              "#46039f"
             ],
             [
              0.2222222222222222,
              "#7201a8"
             ],
             [
              0.3333333333333333,
              "#9c179e"
             ],
             [
              0.4444444444444444,
              "#bd3786"
             ],
             [
              0.5555555555555556,
              "#d8576b"
             ],
             [
              0.6666666666666666,
              "#ed7953"
             ],
             [
              0.7777777777777778,
              "#fb9f3a"
             ],
             [
              0.8888888888888888,
              "#fdca26"
             ],
             [
              1,
              "#f0f921"
             ]
            ],
            "type": "histogram2dcontour"
           }
          ],
          "mesh3d": [
           {
            "colorbar": {
             "outlinewidth": 0,
             "ticks": ""
            },
            "type": "mesh3d"
           }
          ],
          "parcoords": [
           {
            "line": {
             "colorbar": {
              "outlinewidth": 0,
              "ticks": ""
             }
            },
            "type": "parcoords"
           }
          ],
          "pie": [
           {
            "automargin": true,
            "type": "pie"
           }
          ],
          "scatter": [
           {
            "fillpattern": {
             "fillmode": "overlay",
             "size": 10,
             "solidity": 0.2
            },
            "type": "scatter"
           }
          ],
          "scatter3d": [
           {
            "line": {
             "colorbar": {
              "outlinewidth": 0,
              "ticks": ""
             }
            },
            "marker": {
             "colorbar": {
              "outlinewidth": 0,
              "ticks": ""
             }
            },
            "type": "scatter3d"
           }
          ],
          "scattercarpet": [
           {
            "marker": {
             "colorbar": {
              "outlinewidth": 0,
              "ticks": ""
             }
            },
            "type": "scattercarpet"
           }
          ],
          "scattergeo": [
           {
            "marker": {
             "colorbar": {
              "outlinewidth": 0,
              "ticks": ""
             }
            },
            "type": "scattergeo"
           }
          ],
          "scattergl": [
           {
            "marker": {
             "colorbar": {
              "outlinewidth": 0,
              "ticks": ""
             }
            },
            "type": "scattergl"
           }
          ],
          "scattermap": [
           {
            "marker": {
             "colorbar": {
              "outlinewidth": 0,
              "ticks": ""
             }
            },
            "type": "scattermap"
           }
          ],
          "scattermapbox": [
           {
            "marker": {
             "colorbar": {
              "outlinewidth": 0,
              "ticks": ""
             }
            },
            "type": "scattermapbox"
           }
          ],
          "scatterpolar": [
           {
            "marker": {
             "colorbar": {
              "outlinewidth": 0,
              "ticks": ""
             }
            },
            "type": "scatterpolar"
           }
          ],
          "scatterpolargl": [
           {
            "marker": {
             "colorbar": {
              "outlinewidth": 0,
              "ticks": ""
             }
            },
            "type": "scatterpolargl"
           }
          ],
          "scatterternary": [
           {
            "marker": {
             "colorbar": {
              "outlinewidth": 0,
              "ticks": ""
             }
            },
            "type": "scatterternary"
           }
          ],
          "surface": [
           {
            "colorbar": {
             "outlinewidth": 0,
             "ticks": ""
            },
            "colorscale": [
             [
              0,
              "#0d0887"
             ],
             [
              0.1111111111111111,
              "#46039f"
             ],
             [
              0.2222222222222222,
              "#7201a8"
             ],
             [
              0.3333333333333333,
              "#9c179e"
             ],
             [
              0.4444444444444444,
              "#bd3786"
             ],
             [
              0.5555555555555556,
              "#d8576b"
             ],
             [
              0.6666666666666666,
              "#ed7953"
             ],
             [
              0.7777777777777778,
              "#fb9f3a"
             ],
             [
              0.8888888888888888,
              "#fdca26"
             ],
             [
              1,
              "#f0f921"
             ]
            ],
            "type": "surface"
           }
          ],
          "table": [
           {
            "cells": {
             "fill": {
              "color": "#EBF0F8"
             },
             "line": {
              "color": "white"
             }
            },
            "header": {
             "fill": {
              "color": "#C8D4E3"
             },
             "line": {
              "color": "white"
             }
            },
            "type": "table"
           }
          ]
         },
         "layout": {
          "annotationdefaults": {
           "arrowcolor": "#2a3f5f",
           "arrowhead": 0,
           "arrowwidth": 1
          },
          "autotypenumbers": "strict",
          "coloraxis": {
           "colorbar": {
            "outlinewidth": 0,
            "ticks": ""
           }
          },
          "colorscale": {
           "diverging": [
            [
             0,
             "#8e0152"
            ],
            [
             0.1,
             "#c51b7d"
            ],
            [
             0.2,
             "#de77ae"
            ],
            [
             0.3,
             "#f1b6da"
            ],
            [
             0.4,
             "#fde0ef"
            ],
            [
             0.5,
             "#f7f7f7"
            ],
            [
             0.6,
             "#e6f5d0"
            ],
            [
             0.7,
             "#b8e186"
            ],
            [
             0.8,
             "#7fbc41"
            ],
            [
             0.9,
             "#4d9221"
            ],
            [
             1,
             "#276419"
            ]
           ],
           "sequential": [
            [
             0,
             "#0d0887"
            ],
            [
             0.1111111111111111,
             "#46039f"
            ],
            [
             0.2222222222222222,
             "#7201a8"
            ],
            [
             0.3333333333333333,
             "#9c179e"
            ],
            [
             0.4444444444444444,
             "#bd3786"
            ],
            [
             0.5555555555555556,
             "#d8576b"
            ],
            [
             0.6666666666666666,
             "#ed7953"
            ],
            [
             0.7777777777777778,
             "#fb9f3a"
            ],
            [
             0.8888888888888888,
             "#fdca26"
            ],
            [
             1,
             "#f0f921"
            ]
           ],
           "sequentialminus": [
            [
             0,
             "#0d0887"
            ],
            [
             0.1111111111111111,
             "#46039f"
            ],
            [
             0.2222222222222222,
             "#7201a8"
            ],
            [
             0.3333333333333333,
             "#9c179e"
            ],
            [
             0.4444444444444444,
             "#bd3786"
            ],
            [
             0.5555555555555556,
             "#d8576b"
            ],
            [
             0.6666666666666666,
             "#ed7953"
            ],
            [
             0.7777777777777778,
             "#fb9f3a"
            ],
            [
             0.8888888888888888,
             "#fdca26"
            ],
            [
             1,
             "#f0f921"
            ]
           ]
          },
          "colorway": [
           "#636efa",
           "#EF553B",
           "#00cc96",
           "#ab63fa",
           "#FFA15A",
           "#19d3f3",
           "#FF6692",
           "#B6E880",
           "#FF97FF",
           "#FECB52"
          ],
          "font": {
           "color": "#2a3f5f"
          },
          "geo": {
           "bgcolor": "white",
           "lakecolor": "white",
           "landcolor": "white",
           "showlakes": true,
           "showland": true,
           "subunitcolor": "#C8D4E3"
          },
          "hoverlabel": {
           "align": "left"
          },
          "hovermode": "closest",
          "mapbox": {
           "style": "light"
          },
          "paper_bgcolor": "white",
          "plot_bgcolor": "white",
          "polar": {
           "angularaxis": {
            "gridcolor": "#EBF0F8",
            "linecolor": "#EBF0F8",
            "ticks": ""
           },
           "bgcolor": "white",
           "radialaxis": {
            "gridcolor": "#EBF0F8",
            "linecolor": "#EBF0F8",
            "ticks": ""
           }
          },
          "scene": {
           "xaxis": {
            "backgroundcolor": "white",
            "gridcolor": "#DFE8F3",
            "gridwidth": 2,
            "linecolor": "#EBF0F8",
            "showbackground": true,
            "ticks": "",
            "zerolinecolor": "#EBF0F8"
           },
           "yaxis": {
            "backgroundcolor": "white",
            "gridcolor": "#DFE8F3",
            "gridwidth": 2,
            "linecolor": "#EBF0F8",
            "showbackground": true,
            "ticks": "",
            "zerolinecolor": "#EBF0F8"
           },
           "zaxis": {
            "backgroundcolor": "white",
            "gridcolor": "#DFE8F3",
            "gridwidth": 2,
            "linecolor": "#EBF0F8",
            "showbackground": true,
            "ticks": "",
            "zerolinecolor": "#EBF0F8"
           }
          },
          "shapedefaults": {
           "line": {
            "color": "#2a3f5f"
           }
          },
          "ternary": {
           "aaxis": {
            "gridcolor": "#DFE8F3",
            "linecolor": "#A2B1C6",
            "ticks": ""
           },
           "baxis": {
            "gridcolor": "#DFE8F3",
            "linecolor": "#A2B1C6",
            "ticks": ""
           },
           "bgcolor": "white",
           "caxis": {
            "gridcolor": "#DFE8F3",
            "linecolor": "#A2B1C6",
            "ticks": ""
           }
          },
          "title": {
           "x": 0.05
          },
          "xaxis": {
           "automargin": true,
           "gridcolor": "#EBF0F8",
           "linecolor": "#EBF0F8",
           "ticks": "",
           "title": {
            "standoff": 15
           },
           "zerolinecolor": "#EBF0F8",
           "zerolinewidth": 2
          },
          "yaxis": {
           "automargin": true,
           "gridcolor": "#EBF0F8",
           "linecolor": "#EBF0F8",
           "ticks": "",
           "title": {
            "standoff": 15
           },
           "zerolinecolor": "#EBF0F8",
           "zerolinewidth": 2
          }
         }
        },
        "title": {
         "text": "Lift Heatmap by Model and Decile"
        },
        "xaxis": {
         "tickangle": 0,
         "tickfont": {
          "size": 10
         },
         "title": {
          "text": "Risk Decile (1=Lowest Risk, 10=Highest Risk)"
         }
        },
        "yaxis": {
         "tickfont": {
          "size": 10
         },
         "title": {
          "text": "Model"
         }
        }
       }
      }
     },
     "metadata": {},
     "output_type": "display_data"
    },
    {
     "data": {
      "application/vnd.plotly.v1+json": {
       "config": {
        "plotlyServerURL": "https://plot.ly"
       },
       "data": [
        {
         "line": {
          "color": "#1560bd",
          "width": 2
         },
         "marker": {
          "size": 6
         },
         "mode": "lines",
         "name": "Baseline Model",
         "type": "scatter",
         "x": [
          0,
          10,
          20,
          30,
          40,
          50,
          60,
          70,
          80,
          90,
          100
         ],
         "y": [
          0,
          3.2535638263561895,
          8.435786621944139,
          14.478488034573953,
          22.109269173708313,
          30.938528026833517,
          43.453525124169516,
          54.0359930336064,
          65.54860349609753,
          81.97768173901825,
          100
         ]
        },
        {
         "line": {
          "color": "#75caed",
          "width": 2
         },
         "marker": {
          "size": 6
         },
         "mode": "lines",
         "name": "Weighted Model",
         "type": "scatter",
         "x": [
          0,
          10,
          20,
          30,
          40,
          50,
          60,
          70,
          80,
          90,
          100
         ],
         "y": [
          0,
          2.918144875185448,
          8.331290717925564,
          16.089789073082628,
          21.86157517899761,
          31.601625491840288,
          41.166225891762885,
          54.937753983100045,
          64.98871186222021,
          81.39714893891505,
          100
         ]
        },
        {
         "line": {
          "color": "#8B7EC8",
          "width": 2
         },
         "marker": {
          "size": 6
         },
         "mode": "lines",
         "name": "Undersampled Model",
         "type": "scatter",
         "x": [
          0,
          10,
          20,
          30,
          40,
          50,
          60,
          70,
          80,
          90,
          100
         ],
         "y": [
          0,
          3.7992646584532026,
          8.096497452106044,
          15.702767206347158,
          23.0561826743211,
          33.672192478875054,
          42.22021544217248,
          52.87492743339999,
          67.65013223247114,
          82.04347545636328,
          100
         ]
        },
        {
         "line": {
          "color": "#d62728",
          "width": 2
         },
         "marker": {
          "size": 6
         },
         "mode": "lines",
         "name": "Xgboost Model",
         "type": "scatter",
         "x": [
          0,
          10,
          20,
          30,
          40,
          50,
          60,
          70,
          80,
          90,
          100
         ],
         "y": [
          0,
          2.2731084306263307,
          6.600012900728891,
          12.65303489647165,
          19.880023221312005,
          29.390440559891637,
          40.52118944720377,
          51.112687866864476,
          64.2378894407534,
          81.48100367670774,
          100.00000000000001
         ]
        },
        {
         "line": {
          "color": "gray",
          "dash": "dash",
          "width": 2
         },
         "mode": "lines",
         "name": "Random Model",
         "showlegend": true,
         "type": "scatter",
         "x": [
          0,
          100
         ],
         "y": [
          0,
          100
         ]
        }
       ],
       "layout": {
        "font": {
         "family": "Arial",
         "size": 12
        },
        "height": 500,
        "legend": {
         "x": 0.02,
         "y": 0.98
        },
        "margin": {
         "b": 60,
         "l": 60,
         "r": 60,
         "t": 80
        },
        "template": {
         "data": {
          "bar": [
           {
            "error_x": {
             "color": "#2a3f5f"
            },
            "error_y": {
             "color": "#2a3f5f"
            },
            "marker": {
             "line": {
              "color": "white",
              "width": 0.5
             },
             "pattern": {
              "fillmode": "overlay",
              "size": 10,
              "solidity": 0.2
             }
            },
            "type": "bar"
           }
          ],
          "barpolar": [
           {
            "marker": {
             "line": {
              "color": "white",
              "width": 0.5
             },
             "pattern": {
              "fillmode": "overlay",
              "size": 10,
              "solidity": 0.2
             }
            },
            "type": "barpolar"
           }
          ],
          "carpet": [
           {
            "aaxis": {
             "endlinecolor": "#2a3f5f",
             "gridcolor": "#C8D4E3",
             "linecolor": "#C8D4E3",
             "minorgridcolor": "#C8D4E3",
             "startlinecolor": "#2a3f5f"
            },
            "baxis": {
             "endlinecolor": "#2a3f5f",
             "gridcolor": "#C8D4E3",
             "linecolor": "#C8D4E3",
             "minorgridcolor": "#C8D4E3",
             "startlinecolor": "#2a3f5f"
            },
            "type": "carpet"
           }
          ],
          "choropleth": [
           {
            "colorbar": {
             "outlinewidth": 0,
             "ticks": ""
            },
            "type": "choropleth"
           }
          ],
          "contour": [
           {
            "colorbar": {
             "outlinewidth": 0,
             "ticks": ""
            },
            "colorscale": [
             [
              0,
              "#0d0887"
             ],
             [
              0.1111111111111111,
              "#46039f"
             ],
             [
              0.2222222222222222,
              "#7201a8"
             ],
             [
              0.3333333333333333,
              "#9c179e"
             ],
             [
              0.4444444444444444,
              "#bd3786"
             ],
             [
              0.5555555555555556,
              "#d8576b"
             ],
             [
              0.6666666666666666,
              "#ed7953"
             ],
             [
              0.7777777777777778,
              "#fb9f3a"
             ],
             [
              0.8888888888888888,
              "#fdca26"
             ],
             [
              1,
              "#f0f921"
             ]
            ],
            "type": "contour"
           }
          ],
          "contourcarpet": [
           {
            "colorbar": {
             "outlinewidth": 0,
             "ticks": ""
            },
            "type": "contourcarpet"
           }
          ],
          "heatmap": [
           {
            "colorbar": {
             "outlinewidth": 0,
             "ticks": ""
            },
            "colorscale": [
             [
              0,
              "#0d0887"
             ],
             [
              0.1111111111111111,
              "#46039f"
             ],
             [
              0.2222222222222222,
              "#7201a8"
             ],
             [
              0.3333333333333333,
              "#9c179e"
             ],
             [
              0.4444444444444444,
              "#bd3786"
             ],
             [
              0.5555555555555556,
              "#d8576b"
             ],
             [
              0.6666666666666666,
              "#ed7953"
             ],
             [
              0.7777777777777778,
              "#fb9f3a"
             ],
             [
              0.8888888888888888,
              "#fdca26"
             ],
             [
              1,
              "#f0f921"
             ]
            ],
            "type": "heatmap"
           }
          ],
          "histogram": [
           {
            "marker": {
             "pattern": {
              "fillmode": "overlay",
              "size": 10,
              "solidity": 0.2
             }
            },
            "type": "histogram"
           }
          ],
          "histogram2d": [
           {
            "colorbar": {
             "outlinewidth": 0,
             "ticks": ""
            },
            "colorscale": [
             [
              0,
              "#0d0887"
             ],
             [
              0.1111111111111111,
              "#46039f"
             ],
             [
              0.2222222222222222,
              "#7201a8"
             ],
             [
              0.3333333333333333,
              "#9c179e"
             ],
             [
              0.4444444444444444,
              "#bd3786"
             ],
             [
              0.5555555555555556,
              "#d8576b"
             ],
             [
              0.6666666666666666,
              "#ed7953"
             ],
             [
              0.7777777777777778,
              "#fb9f3a"
             ],
             [
              0.8888888888888888,
              "#fdca26"
             ],
             [
              1,
              "#f0f921"
             ]
            ],
            "type": "histogram2d"
           }
          ],
          "histogram2dcontour": [
           {
            "colorbar": {
             "outlinewidth": 0,
             "ticks": ""
            },
            "colorscale": [
             [
              0,
              "#0d0887"
             ],
             [
              0.1111111111111111,
              "#46039f"
             ],
             [
              0.2222222222222222,
              "#7201a8"
             ],
             [
              0.3333333333333333,
              "#9c179e"
             ],
             [
              0.4444444444444444,
              "#bd3786"
             ],
             [
              0.5555555555555556,
              "#d8576b"
             ],
             [
              0.6666666666666666,
              "#ed7953"
             ],
             [
              0.7777777777777778,
              "#fb9f3a"
             ],
             [
              0.8888888888888888,
              "#fdca26"
             ],
             [
              1,
              "#f0f921"
             ]
            ],
            "type": "histogram2dcontour"
           }
          ],
          "mesh3d": [
           {
            "colorbar": {
             "outlinewidth": 0,
             "ticks": ""
            },
            "type": "mesh3d"
           }
          ],
          "parcoords": [
           {
            "line": {
             "colorbar": {
              "outlinewidth": 0,
              "ticks": ""
             }
            },
            "type": "parcoords"
           }
          ],
          "pie": [
           {
            "automargin": true,
            "type": "pie"
           }
          ],
          "scatter": [
           {
            "fillpattern": {
             "fillmode": "overlay",
             "size": 10,
             "solidity": 0.2
            },
            "type": "scatter"
           }
          ],
          "scatter3d": [
           {
            "line": {
             "colorbar": {
              "outlinewidth": 0,
              "ticks": ""
             }
            },
            "marker": {
             "colorbar": {
              "outlinewidth": 0,
              "ticks": ""
             }
            },
            "type": "scatter3d"
           }
          ],
          "scattercarpet": [
           {
            "marker": {
             "colorbar": {
              "outlinewidth": 0,
              "ticks": ""
             }
            },
            "type": "scattercarpet"
           }
          ],
          "scattergeo": [
           {
            "marker": {
             "colorbar": {
              "outlinewidth": 0,
              "ticks": ""
             }
            },
            "type": "scattergeo"
           }
          ],
          "scattergl": [
           {
            "marker": {
             "colorbar": {
              "outlinewidth": 0,
              "ticks": ""
             }
            },
            "type": "scattergl"
           }
          ],
          "scattermap": [
           {
            "marker": {
             "colorbar": {
              "outlinewidth": 0,
              "ticks": ""
             }
            },
            "type": "scattermap"
           }
          ],
          "scattermapbox": [
           {
            "marker": {
             "colorbar": {
              "outlinewidth": 0,
              "ticks": ""
             }
            },
            "type": "scattermapbox"
           }
          ],
          "scatterpolar": [
           {
            "marker": {
             "colorbar": {
              "outlinewidth": 0,
              "ticks": ""
             }
            },
            "type": "scatterpolar"
           }
          ],
          "scatterpolargl": [
           {
            "marker": {
             "colorbar": {
              "outlinewidth": 0,
              "ticks": ""
             }
            },
            "type": "scatterpolargl"
           }
          ],
          "scatterternary": [
           {
            "marker": {
             "colorbar": {
              "outlinewidth": 0,
              "ticks": ""
             }
            },
            "type": "scatterternary"
           }
          ],
          "surface": [
           {
            "colorbar": {
             "outlinewidth": 0,
             "ticks": ""
            },
            "colorscale": [
             [
              0,
              "#0d0887"
             ],
             [
              0.1111111111111111,
              "#46039f"
             ],
             [
              0.2222222222222222,
              "#7201a8"
             ],
             [
              0.3333333333333333,
              "#9c179e"
             ],
             [
              0.4444444444444444,
              "#bd3786"
             ],
             [
              0.5555555555555556,
              "#d8576b"
             ],
             [
              0.6666666666666666,
              "#ed7953"
             ],
             [
              0.7777777777777778,
              "#fb9f3a"
             ],
             [
              0.8888888888888888,
              "#fdca26"
             ],
             [
              1,
              "#f0f921"
             ]
            ],
            "type": "surface"
           }
          ],
          "table": [
           {
            "cells": {
             "fill": {
              "color": "#EBF0F8"
             },
             "line": {
              "color": "white"
             }
            },
            "header": {
             "fill": {
              "color": "#C8D4E3"
             },
             "line": {
              "color": "white"
             }
            },
            "type": "table"
           }
          ]
         },
         "layout": {
          "annotationdefaults": {
           "arrowcolor": "#2a3f5f",
           "arrowhead": 0,
           "arrowwidth": 1
          },
          "autotypenumbers": "strict",
          "coloraxis": {
           "colorbar": {
            "outlinewidth": 0,
            "ticks": ""
           }
          },
          "colorscale": {
           "diverging": [
            [
             0,
             "#8e0152"
            ],
            [
             0.1,
             "#c51b7d"
            ],
            [
             0.2,
             "#de77ae"
            ],
            [
             0.3,
             "#f1b6da"
            ],
            [
             0.4,
             "#fde0ef"
            ],
            [
             0.5,
             "#f7f7f7"
            ],
            [
             0.6,
             "#e6f5d0"
            ],
            [
             0.7,
             "#b8e186"
            ],
            [
             0.8,
             "#7fbc41"
            ],
            [
             0.9,
             "#4d9221"
            ],
            [
             1,
             "#276419"
            ]
           ],
           "sequential": [
            [
             0,
             "#0d0887"
            ],
            [
             0.1111111111111111,
             "#46039f"
            ],
            [
             0.2222222222222222,
             "#7201a8"
            ],
            [
             0.3333333333333333,
             "#9c179e"
            ],
            [
             0.4444444444444444,
             "#bd3786"
            ],
            [
             0.5555555555555556,
             "#d8576b"
            ],
            [
             0.6666666666666666,
             "#ed7953"
            ],
            [
             0.7777777777777778,
             "#fb9f3a"
            ],
            [
             0.8888888888888888,
             "#fdca26"
            ],
            [
             1,
             "#f0f921"
            ]
           ],
           "sequentialminus": [
            [
             0,
             "#0d0887"
            ],
            [
             0.1111111111111111,
             "#46039f"
            ],
            [
             0.2222222222222222,
             "#7201a8"
            ],
            [
             0.3333333333333333,
             "#9c179e"
            ],
            [
             0.4444444444444444,
             "#bd3786"
            ],
            [
             0.5555555555555556,
             "#d8576b"
            ],
            [
             0.6666666666666666,
             "#ed7953"
            ],
            [
             0.7777777777777778,
             "#fb9f3a"
            ],
            [
             0.8888888888888888,
             "#fdca26"
            ],
            [
             1,
             "#f0f921"
            ]
           ]
          },
          "colorway": [
           "#636efa",
           "#EF553B",
           "#00cc96",
           "#ab63fa",
           "#FFA15A",
           "#19d3f3",
           "#FF6692",
           "#B6E880",
           "#FF97FF",
           "#FECB52"
          ],
          "font": {
           "color": "#2a3f5f"
          },
          "geo": {
           "bgcolor": "white",
           "lakecolor": "white",
           "landcolor": "white",
           "showlakes": true,
           "showland": true,
           "subunitcolor": "#C8D4E3"
          },
          "hoverlabel": {
           "align": "left"
          },
          "hovermode": "closest",
          "mapbox": {
           "style": "light"
          },
          "paper_bgcolor": "white",
          "plot_bgcolor": "white",
          "polar": {
           "angularaxis": {
            "gridcolor": "#EBF0F8",
            "linecolor": "#EBF0F8",
            "ticks": ""
           },
           "bgcolor": "white",
           "radialaxis": {
            "gridcolor": "#EBF0F8",
            "linecolor": "#EBF0F8",
            "ticks": ""
           }
          },
          "scene": {
           "xaxis": {
            "backgroundcolor": "white",
            "gridcolor": "#DFE8F3",
            "gridwidth": 2,
            "linecolor": "#EBF0F8",
            "showbackground": true,
            "ticks": "",
            "zerolinecolor": "#EBF0F8"
           },
           "yaxis": {
            "backgroundcolor": "white",
            "gridcolor": "#DFE8F3",
            "gridwidth": 2,
            "linecolor": "#EBF0F8",
            "showbackground": true,
            "ticks": "",
            "zerolinecolor": "#EBF0F8"
           },
           "zaxis": {
            "backgroundcolor": "white",
            "gridcolor": "#DFE8F3",
            "gridwidth": 2,
            "linecolor": "#EBF0F8",
            "showbackground": true,
            "ticks": "",
            "zerolinecolor": "#EBF0F8"
           }
          },
          "shapedefaults": {
           "line": {
            "color": "#2a3f5f"
           }
          },
          "ternary": {
           "aaxis": {
            "gridcolor": "#DFE8F3",
            "linecolor": "#A2B1C6",
            "ticks": ""
           },
           "baxis": {
            "gridcolor": "#DFE8F3",
            "linecolor": "#A2B1C6",
            "ticks": ""
           },
           "bgcolor": "white",
           "caxis": {
            "gridcolor": "#DFE8F3",
            "linecolor": "#A2B1C6",
            "ticks": ""
           }
          },
          "title": {
           "x": 0.05
          },
          "xaxis": {
           "automargin": true,
           "gridcolor": "#EBF0F8",
           "linecolor": "#EBF0F8",
           "ticks": "",
           "title": {
            "standoff": 15
           },
           "zerolinecolor": "#EBF0F8",
           "zerolinewidth": 2
          },
          "yaxis": {
           "automargin": true,
           "gridcolor": "#EBF0F8",
           "linecolor": "#EBF0F8",
           "ticks": "",
           "title": {
            "standoff": 15
           },
           "zerolinecolor": "#EBF0F8",
           "zerolinewidth": 2
          }
         }
        },
        "title": {
         "text": "Default Capture Efficiency Curve - Portfolio vs Default Capture"
        },
        "xaxis": {
         "dtick": 10,
         "gridcolor": "lightgray",
         "title": {
          "text": "Cumulative % of Portfolio (by Risk Score)"
         }
        },
        "yaxis": {
         "dtick": 10,
         "gridcolor": "lightgray",
         "title": {
          "text": "Cumulative % of Defaults Captured"
         }
        }
       }
      }
     },
     "metadata": {},
     "output_type": "display_data"
    },
    {
     "data": {
      "application/vnd.plotly.v1+json": {
       "config": {
        "plotlyServerURL": "https://plot.ly"
       },
       "data": [
        {
         "line": {
          "color": "#1560bd",
          "width": 2
         },
         "marker": {
          "size": 6
         },
         "mode": "lines",
         "name": "Baseline Model",
         "type": "scatter",
         "x": [
          0,
          10,
          20,
          30,
          40,
          50,
          60,
          70,
          80,
          90,
          100
         ],
         "y": [
          0,
          2.832446478026771,
          7.6604851947801285,
          12.623035187533027,
          19.79244084723782,
          27.809820828803517,
          39.61778843144977,
          49.56162747941107,
          60.87925930454314,
          78.31210207836702,
          100
         ]
        },
        {
         "line": {
          "color": "#75caed",
          "width": 2
         },
         "marker": {
          "size": 6
         },
         "mode": "lines",
         "name": "Weighted Model",
         "type": "scatter",
         "x": [
          0,
          10,
          20,
          30,
          40,
          50,
          60,
          70,
          80,
          90,
          100
         ],
         "y": [
          0,
          2.497592311651107,
          7.5960866742409,
          13.999494607666978,
          19.59510926796297,
          28.327675636080514,
          37.317908648068254,
          50.347942485409206,
          60.25698819185099,
          77.4249081504763,
          100
         ]
        },
        {
         "line": {
          "color": "#8B7EC8",
          "width": 2
         },
         "marker": {
          "size": 6
         },
         "mode": "lines",
         "name": "Undersampled Model",
         "type": "scatter",
         "x": [
          0,
          10,
          20,
          30,
          40,
          50,
          60,
          70,
          80,
          90,
          100
         ],
         "y": [
          0,
          2.9755925979070663,
          6.3547371642410795,
          12.645257212226142,
          19.31255395643649,
          28.89781115777837,
          37.1603953089578,
          47.35379222932984,
          61.785228575746,
          77.58621283910583,
          100
         ]
        },
        {
         "line": {
          "color": "#d62728",
          "width": 2
         },
         "marker": {
          "size": 6
         },
         "mode": "lines",
         "name": "Xgboost Model",
         "type": "scatter",
         "x": [
          0,
          10,
          20,
          30,
          40,
          50,
          60,
          70,
          80,
          90,
          100
         ],
         "y": [
          0,
          1.870767951450409,
          4.937661325096611,
          9.288389091870204,
          15.247102565437515,
          23.73110878470196,
          34.21368227293762,
          43.83010473013482,
          56.94059136707901,
          76.31055977915116,
          100
         ]
        },
        {
         "line": {
          "color": "gray",
          "dash": "dash",
          "width": 2
         },
         "mode": "lines",
         "name": "Random Model",
         "showlegend": true,
         "type": "scatter",
         "x": [
          0,
          100
         ],
         "y": [
          0,
          100
         ]
        }
       ],
       "layout": {
        "font": {
         "family": "Arial",
         "size": 12
        },
        "height": 500,
        "legend": {
         "x": 0.02,
         "y": 0.98
        },
        "margin": {
         "b": 60,
         "l": 60,
         "r": 60,
         "t": 80
        },
        "template": {
         "data": {
          "bar": [
           {
            "error_x": {
             "color": "#2a3f5f"
            },
            "error_y": {
             "color": "#2a3f5f"
            },
            "marker": {
             "line": {
              "color": "white",
              "width": 0.5
             },
             "pattern": {
              "fillmode": "overlay",
              "size": 10,
              "solidity": 0.2
             }
            },
            "type": "bar"
           }
          ],
          "barpolar": [
           {
            "marker": {
             "line": {
              "color": "white",
              "width": 0.5
             },
             "pattern": {
              "fillmode": "overlay",
              "size": 10,
              "solidity": 0.2
             }
            },
            "type": "barpolar"
           }
          ],
          "carpet": [
           {
            "aaxis": {
             "endlinecolor": "#2a3f5f",
             "gridcolor": "#C8D4E3",
             "linecolor": "#C8D4E3",
             "minorgridcolor": "#C8D4E3",
             "startlinecolor": "#2a3f5f"
            },
            "baxis": {
             "endlinecolor": "#2a3f5f",
             "gridcolor": "#C8D4E3",
             "linecolor": "#C8D4E3",
             "minorgridcolor": "#C8D4E3",
             "startlinecolor": "#2a3f5f"
            },
            "type": "carpet"
           }
          ],
          "choropleth": [
           {
            "colorbar": {
             "outlinewidth": 0,
             "ticks": ""
            },
            "type": "choropleth"
           }
          ],
          "contour": [
           {
            "colorbar": {
             "outlinewidth": 0,
             "ticks": ""
            },
            "colorscale": [
             [
              0,
              "#0d0887"
             ],
             [
              0.1111111111111111,
              "#46039f"
             ],
             [
              0.2222222222222222,
              "#7201a8"
             ],
             [
              0.3333333333333333,
              "#9c179e"
             ],
             [
              0.4444444444444444,
              "#bd3786"
             ],
             [
              0.5555555555555556,
              "#d8576b"
             ],
             [
              0.6666666666666666,
              "#ed7953"
             ],
             [
              0.7777777777777778,
              "#fb9f3a"
             ],
             [
              0.8888888888888888,
              "#fdca26"
             ],
             [
              1,
              "#f0f921"
             ]
            ],
            "type": "contour"
           }
          ],
          "contourcarpet": [
           {
            "colorbar": {
             "outlinewidth": 0,
             "ticks": ""
            },
            "type": "contourcarpet"
           }
          ],
          "heatmap": [
           {
            "colorbar": {
             "outlinewidth": 0,
             "ticks": ""
            },
            "colorscale": [
             [
              0,
              "#0d0887"
             ],
             [
              0.1111111111111111,
              "#46039f"
             ],
             [
              0.2222222222222222,
              "#7201a8"
             ],
             [
              0.3333333333333333,
              "#9c179e"
             ],
             [
              0.4444444444444444,
              "#bd3786"
             ],
             [
              0.5555555555555556,
              "#d8576b"
             ],
             [
              0.6666666666666666,
              "#ed7953"
             ],
             [
              0.7777777777777778,
              "#fb9f3a"
             ],
             [
              0.8888888888888888,
              "#fdca26"
             ],
             [
              1,
              "#f0f921"
             ]
            ],
            "type": "heatmap"
           }
          ],
          "histogram": [
           {
            "marker": {
             "pattern": {
              "fillmode": "overlay",
              "size": 10,
              "solidity": 0.2
             }
            },
            "type": "histogram"
           }
          ],
          "histogram2d": [
           {
            "colorbar": {
             "outlinewidth": 0,
             "ticks": ""
            },
            "colorscale": [
             [
              0,
              "#0d0887"
             ],
             [
              0.1111111111111111,
              "#46039f"
             ],
             [
              0.2222222222222222,
              "#7201a8"
             ],
             [
              0.3333333333333333,
              "#9c179e"
             ],
             [
              0.4444444444444444,
              "#bd3786"
             ],
             [
              0.5555555555555556,
              "#d8576b"
             ],
             [
              0.6666666666666666,
              "#ed7953"
             ],
             [
              0.7777777777777778,
              "#fb9f3a"
             ],
             [
              0.8888888888888888,
              "#fdca26"
             ],
             [
              1,
              "#f0f921"
             ]
            ],
            "type": "histogram2d"
           }
          ],
          "histogram2dcontour": [
           {
            "colorbar": {
             "outlinewidth": 0,
             "ticks": ""
            },
            "colorscale": [
             [
              0,
              "#0d0887"
             ],
             [
              0.1111111111111111,
              "#46039f"
             ],
             [
              0.2222222222222222,
              "#7201a8"
             ],
             [
              0.3333333333333333,
              "#9c179e"
             ],
             [
              0.4444444444444444,
              "#bd3786"
             ],
             [
              0.5555555555555556,
              "#d8576b"
             ],
             [
              0.6666666666666666,
              "#ed7953"
             ],
             [
              0.7777777777777778,
              "#fb9f3a"
             ],
             [
              0.8888888888888888,
              "#fdca26"
             ],
             [
              1,
              "#f0f921"
             ]
            ],
            "type": "histogram2dcontour"
           }
          ],
          "mesh3d": [
           {
            "colorbar": {
             "outlinewidth": 0,
             "ticks": ""
            },
            "type": "mesh3d"
           }
          ],
          "parcoords": [
           {
            "line": {
             "colorbar": {
              "outlinewidth": 0,
              "ticks": ""
             }
            },
            "type": "parcoords"
           }
          ],
          "pie": [
           {
            "automargin": true,
            "type": "pie"
           }
          ],
          "scatter": [
           {
            "fillpattern": {
             "fillmode": "overlay",
             "size": 10,
             "solidity": 0.2
            },
            "type": "scatter"
           }
          ],
          "scatter3d": [
           {
            "line": {
             "colorbar": {
              "outlinewidth": 0,
              "ticks": ""
             }
            },
            "marker": {
             "colorbar": {
              "outlinewidth": 0,
              "ticks": ""
             }
            },
            "type": "scatter3d"
           }
          ],
          "scattercarpet": [
           {
            "marker": {
             "colorbar": {
              "outlinewidth": 0,
              "ticks": ""
             }
            },
            "type": "scattercarpet"
           }
          ],
          "scattergeo": [
           {
            "marker": {
             "colorbar": {
              "outlinewidth": 0,
              "ticks": ""
             }
            },
            "type": "scattergeo"
           }
          ],
          "scattergl": [
           {
            "marker": {
             "colorbar": {
              "outlinewidth": 0,
              "ticks": ""
             }
            },
            "type": "scattergl"
           }
          ],
          "scattermap": [
           {
            "marker": {
             "colorbar": {
              "outlinewidth": 0,
              "ticks": ""
             }
            },
            "type": "scattermap"
           }
          ],
          "scattermapbox": [
           {
            "marker": {
             "colorbar": {
              "outlinewidth": 0,
              "ticks": ""
             }
            },
            "type": "scattermapbox"
           }
          ],
          "scatterpolar": [
           {
            "marker": {
             "colorbar": {
              "outlinewidth": 0,
              "ticks": ""
             }
            },
            "type": "scatterpolar"
           }
          ],
          "scatterpolargl": [
           {
            "marker": {
             "colorbar": {
              "outlinewidth": 0,
              "ticks": ""
             }
            },
            "type": "scatterpolargl"
           }
          ],
          "scatterternary": [
           {
            "marker": {
             "colorbar": {
              "outlinewidth": 0,
              "ticks": ""
             }
            },
            "type": "scatterternary"
           }
          ],
          "surface": [
           {
            "colorbar": {
             "outlinewidth": 0,
             "ticks": ""
            },
            "colorscale": [
             [
              0,
              "#0d0887"
             ],
             [
              0.1111111111111111,
              "#46039f"
             ],
             [
              0.2222222222222222,
              "#7201a8"
             ],
             [
              0.3333333333333333,
              "#9c179e"
             ],
             [
              0.4444444444444444,
              "#bd3786"
             ],
             [
              0.5555555555555556,
              "#d8576b"
             ],
             [
              0.6666666666666666,
              "#ed7953"
             ],
             [
              0.7777777777777778,
              "#fb9f3a"
             ],
             [
              0.8888888888888888,
              "#fdca26"
             ],
             [
              1,
              "#f0f921"
             ]
            ],
            "type": "surface"
           }
          ],
          "table": [
           {
            "cells": {
             "fill": {
              "color": "#EBF0F8"
             },
             "line": {
              "color": "white"
             }
            },
            "header": {
             "fill": {
              "color": "#C8D4E3"
             },
             "line": {
              "color": "white"
             }
            },
            "type": "table"
           }
          ]
         },
         "layout": {
          "annotationdefaults": {
           "arrowcolor": "#2a3f5f",
           "arrowhead": 0,
           "arrowwidth": 1
          },
          "autotypenumbers": "strict",
          "coloraxis": {
           "colorbar": {
            "outlinewidth": 0,
            "ticks": ""
           }
          },
          "colorscale": {
           "diverging": [
            [
             0,
             "#8e0152"
            ],
            [
             0.1,
             "#c51b7d"
            ],
            [
             0.2,
             "#de77ae"
            ],
            [
             0.3,
             "#f1b6da"
            ],
            [
             0.4,
             "#fde0ef"
            ],
            [
             0.5,
             "#f7f7f7"
            ],
            [
             0.6,
             "#e6f5d0"
            ],
            [
             0.7,
             "#b8e186"
            ],
            [
             0.8,
             "#7fbc41"
            ],
            [
             0.9,
             "#4d9221"
            ],
            [
             1,
             "#276419"
            ]
           ],
           "sequential": [
            [
             0,
             "#0d0887"
            ],
            [
             0.1111111111111111,
             "#46039f"
            ],
            [
             0.2222222222222222,
             "#7201a8"
            ],
            [
             0.3333333333333333,
             "#9c179e"
            ],
            [
             0.4444444444444444,
             "#bd3786"
            ],
            [
             0.5555555555555556,
             "#d8576b"
            ],
            [
             0.6666666666666666,
             "#ed7953"
            ],
            [
             0.7777777777777778,
             "#fb9f3a"
            ],
            [
             0.8888888888888888,
             "#fdca26"
            ],
            [
             1,
             "#f0f921"
            ]
           ],
           "sequentialminus": [
            [
             0,
             "#0d0887"
            ],
            [
             0.1111111111111111,
             "#46039f"
            ],
            [
             0.2222222222222222,
             "#7201a8"
            ],
            [
             0.3333333333333333,
             "#9c179e"
            ],
            [
             0.4444444444444444,
             "#bd3786"
            ],
            [
             0.5555555555555556,
             "#d8576b"
            ],
            [
             0.6666666666666666,
             "#ed7953"
            ],
            [
             0.7777777777777778,
             "#fb9f3a"
            ],
            [
             0.8888888888888888,
             "#fdca26"
            ],
            [
             1,
             "#f0f921"
            ]
           ]
          },
          "colorway": [
           "#636efa",
           "#EF553B",
           "#00cc96",
           "#ab63fa",
           "#FFA15A",
           "#19d3f3",
           "#FF6692",
           "#B6E880",
           "#FF97FF",
           "#FECB52"
          ],
          "font": {
           "color": "#2a3f5f"
          },
          "geo": {
           "bgcolor": "white",
           "lakecolor": "white",
           "landcolor": "white",
           "showlakes": true,
           "showland": true,
           "subunitcolor": "#C8D4E3"
          },
          "hoverlabel": {
           "align": "left"
          },
          "hovermode": "closest",
          "mapbox": {
           "style": "light"
          },
          "paper_bgcolor": "white",
          "plot_bgcolor": "white",
          "polar": {
           "angularaxis": {
            "gridcolor": "#EBF0F8",
            "linecolor": "#EBF0F8",
            "ticks": ""
           },
           "bgcolor": "white",
           "radialaxis": {
            "gridcolor": "#EBF0F8",
            "linecolor": "#EBF0F8",
            "ticks": ""
           }
          },
          "scene": {
           "xaxis": {
            "backgroundcolor": "white",
            "gridcolor": "#DFE8F3",
            "gridwidth": 2,
            "linecolor": "#EBF0F8",
            "showbackground": true,
            "ticks": "",
            "zerolinecolor": "#EBF0F8"
           },
           "yaxis": {
            "backgroundcolor": "white",
            "gridcolor": "#DFE8F3",
            "gridwidth": 2,
            "linecolor": "#EBF0F8",
            "showbackground": true,
            "ticks": "",
            "zerolinecolor": "#EBF0F8"
           },
           "zaxis": {
            "backgroundcolor": "white",
            "gridcolor": "#DFE8F3",
            "gridwidth": 2,
            "linecolor": "#EBF0F8",
            "showbackground": true,
            "ticks": "",
            "zerolinecolor": "#EBF0F8"
           }
          },
          "shapedefaults": {
           "line": {
            "color": "#2a3f5f"
           }
          },
          "ternary": {
           "aaxis": {
            "gridcolor": "#DFE8F3",
            "linecolor": "#A2B1C6",
            "ticks": ""
           },
           "baxis": {
            "gridcolor": "#DFE8F3",
            "linecolor": "#A2B1C6",
            "ticks": ""
           },
           "bgcolor": "white",
           "caxis": {
            "gridcolor": "#DFE8F3",
            "linecolor": "#A2B1C6",
            "ticks": ""
           }
          },
          "title": {
           "x": 0.05
          },
          "xaxis": {
           "automargin": true,
           "gridcolor": "#EBF0F8",
           "linecolor": "#EBF0F8",
           "ticks": "",
           "title": {
            "standoff": 15
           },
           "zerolinecolor": "#EBF0F8",
           "zerolinewidth": 2
          },
          "yaxis": {
           "automargin": true,
           "gridcolor": "#EBF0F8",
           "linecolor": "#EBF0F8",
           "ticks": "",
           "title": {
            "standoff": 15
           },
           "zerolinecolor": "#EBF0F8",
           "zerolinewidth": 2
          }
         }
        },
        "title": {
         "text": "Loss Capture Efficiency Curve - Portfolio vs Loss Capture"
        },
        "xaxis": {
         "dtick": 10,
         "gridcolor": "lightgray",
         "title": {
          "text": "Cumulative % of Portfolio (by Risk Score)"
         }
        },
        "yaxis": {
         "dtick": 10,
         "gridcolor": "lightgray",
         "title": {
          "text": "Cumulative % of Loss Captured"
         }
        }
       }
      }
     },
     "metadata": {},
     "output_type": "display_data"
    }
   ],
   "source": [
    "import importlib\n",
    "import risk_validation_phase1\n",
    "importlib.reload(risk_validation_phase1)\n",
    "from risk_validation_phase1 import *\n",
    "\n",
    "# Ejecutar la Fase 1 con tasas de interés, LGD y términos específicos por préstamo\n",
    "results_phase1 = execute_phase1_risk_validation(\n",
    "    df_with_lgd,\n",
    "    interest_rate_col='int_rate',  # Usar tasas de interés específicas por préstamo\n",
    "    cutoff_decile=6,   \n",
    "    term_col='term',\n",
    "    lgd_col='lgd'            # Punto de corte para análisis de política\n",
    "\n",
    ")\n",
    "\n",
    "# Las 4 visualizaciones principales\n",
    "results_phase1['visualizations']['dashboard'].show()                    # 📊 Métricas básicas\n",
    "results_phase1['visualizations']['lift_heatmap'].show()                # 🎨 Heatmap de lift\n",
    "results_phase1['visualizations']['default_capture_efficiency'].show()  # 📈 Captura de defaults\n",
    "results_phase1['visualizations']['loss_capture_efficiency'].show()     # 💰 Captura de pérdidas\n"
   ]
  },
  {
   "cell_type": "code",
   "execution_count": 38,
   "id": "5c72d3eb",
   "metadata": {},
   "outputs": [],
   "source": [
    "\n",
    "\n",
    "risk_xgboost = risk_results[ 'Xgboost']['decile_metrics'][['decile', 'cumulative_defaults_pct',  'cumulative_expected_loss']].rename(columns={'cumulative_defaults_pct':'cumulative_defaults_pct_xgboost', 'cumulative_expected_loss':'cumulative_expected_loss_xgboost'}).set_index(['decile'])\n",
    "risk_weighted= risk_results[ 'Weighted']['decile_metrics'][['decile', 'cumulative_defaults_pct',  'cumulative_expected_loss']].rename(columns={'cumulative_defaults_pct':'cumulative_defaults_pct_weighted', 'cumulative_expected_loss':'cumulative_expected_loss_weighted'}).set_index(['decile'])\n",
    "risk_baseline = risk_results[ 'Baseline']['decile_metrics'][['decile', 'cumulative_defaults_pct',  'cumulative_expected_loss']].rename(columns={'cumulative_defaults_pct':'cumulative_defaults_pct_baseline', 'cumulative_expected_loss':'cumulative_expected_loss_baseline'}).set_index(['decile'])\n",
    "risk_under = risk_results[ 'Undersampled']['decile_metrics'][['decile', 'cumulative_defaults_pct',  'cumulative_expected_loss']].rename(columns={'cumulative_defaults_pct':'cumulative_defaults_pct_under', 'cumulative_expected_loss':'cumulative_expected_loss_under'}).set_index(['decile'])\n",
    "\n",
    "\n",
    "df_total= pd.concat([risk_xgboost,risk_weighted,risk_baseline,risk_under], axis=1)\n",
    "\n",
    "\n",
    "df_total['cumulative_expected_loss_xgboost'] = (df_total['cumulative_expected_loss_xgboost']/(df_total['cumulative_expected_loss_xgboost'].max())*100)\n",
    "df_total['cumulative_expected_loss_weighted'] = (df_total['cumulative_expected_loss_weighted']/(df_total['cumulative_expected_loss_weighted'].max())*100)\n",
    "df_total['cumulative_expected_loss_baseline'] = (df_total['cumulative_expected_loss_baseline']/(df_total['cumulative_expected_loss_baseline'].max())*100)\n",
    "df_total['cumulative_expected_loss_under']  = (df_total['cumulative_expected_loss_under']/(df_total['cumulative_expected_loss_under'].max())*100)"
   ]
  },
  {
   "cell_type": "code",
   "execution_count": 40,
   "id": "ff7e49a6",
   "metadata": {},
   "outputs": [
    {
     "data": {
      "text/html": [
       "<div>\n",
       "<style scoped>\n",
       "    .dataframe tbody tr th:only-of-type {\n",
       "        vertical-align: middle;\n",
       "    }\n",
       "\n",
       "    .dataframe tbody tr th {\n",
       "        vertical-align: top;\n",
       "    }\n",
       "\n",
       "    .dataframe thead th {\n",
       "        text-align: right;\n",
       "    }\n",
       "</style>\n",
       "<table border=\"1\" class=\"dataframe\">\n",
       "  <thead>\n",
       "    <tr style=\"text-align: right;\">\n",
       "      <th></th>\n",
       "      <th>decile</th>\n",
       "      <th>cumulative_defaults_pct_xgboost</th>\n",
       "      <th>cumulative_expected_loss_xgboost</th>\n",
       "      <th>cumulative_defaults_pct_weighted</th>\n",
       "      <th>cumulative_expected_loss_weighted</th>\n",
       "      <th>cumulative_defaults_pct_baseline</th>\n",
       "      <th>cumulative_expected_loss_baseline</th>\n",
       "      <th>cumulative_defaults_pct_under</th>\n",
       "      <th>cumulative_expected_loss_under</th>\n",
       "    </tr>\n",
       "  </thead>\n",
       "  <tbody>\n",
       "    <tr>\n",
       "      <th>0</th>\n",
       "      <td>1</td>\n",
       "      <td>2.27</td>\n",
       "      <td>1.87</td>\n",
       "      <td>2.92</td>\n",
       "      <td>2.50</td>\n",
       "      <td>3.25</td>\n",
       "      <td>2.83</td>\n",
       "      <td>3.80</td>\n",
       "      <td>2.98</td>\n",
       "    </tr>\n",
       "    <tr>\n",
       "      <th>1</th>\n",
       "      <td>2</td>\n",
       "      <td>6.60</td>\n",
       "      <td>4.94</td>\n",
       "      <td>8.33</td>\n",
       "      <td>7.60</td>\n",
       "      <td>8.44</td>\n",
       "      <td>7.66</td>\n",
       "      <td>8.10</td>\n",
       "      <td>6.35</td>\n",
       "    </tr>\n",
       "    <tr>\n",
       "      <th>2</th>\n",
       "      <td>3</td>\n",
       "      <td>12.65</td>\n",
       "      <td>9.29</td>\n",
       "      <td>16.09</td>\n",
       "      <td>14.00</td>\n",
       "      <td>14.48</td>\n",
       "      <td>12.62</td>\n",
       "      <td>15.70</td>\n",
       "      <td>12.65</td>\n",
       "    </tr>\n",
       "    <tr>\n",
       "      <th>3</th>\n",
       "      <td>4</td>\n",
       "      <td>19.88</td>\n",
       "      <td>15.25</td>\n",
       "      <td>21.86</td>\n",
       "      <td>19.60</td>\n",
       "      <td>22.11</td>\n",
       "      <td>19.79</td>\n",
       "      <td>23.06</td>\n",
       "      <td>19.31</td>\n",
       "    </tr>\n",
       "    <tr>\n",
       "      <th>4</th>\n",
       "      <td>5</td>\n",
       "      <td>29.39</td>\n",
       "      <td>23.73</td>\n",
       "      <td>31.60</td>\n",
       "      <td>28.33</td>\n",
       "      <td>30.94</td>\n",
       "      <td>27.81</td>\n",
       "      <td>33.67</td>\n",
       "      <td>28.90</td>\n",
       "    </tr>\n",
       "    <tr>\n",
       "      <th>5</th>\n",
       "      <td>6</td>\n",
       "      <td>40.52</td>\n",
       "      <td>34.21</td>\n",
       "      <td>41.17</td>\n",
       "      <td>37.32</td>\n",
       "      <td>43.45</td>\n",
       "      <td>39.62</td>\n",
       "      <td>42.22</td>\n",
       "      <td>37.16</td>\n",
       "    </tr>\n",
       "    <tr>\n",
       "      <th>6</th>\n",
       "      <td>7</td>\n",
       "      <td>51.11</td>\n",
       "      <td>43.83</td>\n",
       "      <td>54.94</td>\n",
       "      <td>50.35</td>\n",
       "      <td>54.04</td>\n",
       "      <td>49.56</td>\n",
       "      <td>52.87</td>\n",
       "      <td>47.35</td>\n",
       "    </tr>\n",
       "    <tr>\n",
       "      <th>7</th>\n",
       "      <td>8</td>\n",
       "      <td>64.24</td>\n",
       "      <td>56.94</td>\n",
       "      <td>64.99</td>\n",
       "      <td>60.26</td>\n",
       "      <td>65.55</td>\n",
       "      <td>60.88</td>\n",
       "      <td>67.65</td>\n",
       "      <td>61.79</td>\n",
       "    </tr>\n",
       "    <tr>\n",
       "      <th>8</th>\n",
       "      <td>9</td>\n",
       "      <td>81.48</td>\n",
       "      <td>76.31</td>\n",
       "      <td>81.40</td>\n",
       "      <td>77.42</td>\n",
       "      <td>81.98</td>\n",
       "      <td>78.31</td>\n",
       "      <td>82.04</td>\n",
       "      <td>77.59</td>\n",
       "    </tr>\n",
       "    <tr>\n",
       "      <th>9</th>\n",
       "      <td>10</td>\n",
       "      <td>100.00</td>\n",
       "      <td>100.00</td>\n",
       "      <td>100.00</td>\n",
       "      <td>100.00</td>\n",
       "      <td>100.00</td>\n",
       "      <td>100.00</td>\n",
       "      <td>100.00</td>\n",
       "      <td>100.00</td>\n",
       "    </tr>\n",
       "  </tbody>\n",
       "</table>\n",
       "</div>"
      ],
      "text/plain": [
       "   decile  cumulative_defaults_pct_xgboost  cumulative_expected_loss_xgboost  \\\n",
       "0       1                             2.27                              1.87   \n",
       "1       2                             6.60                              4.94   \n",
       "2       3                            12.65                              9.29   \n",
       "3       4                            19.88                             15.25   \n",
       "4       5                            29.39                             23.73   \n",
       "5       6                            40.52                             34.21   \n",
       "6       7                            51.11                             43.83   \n",
       "7       8                            64.24                             56.94   \n",
       "8       9                            81.48                             76.31   \n",
       "9      10                           100.00                            100.00   \n",
       "\n",
       "   cumulative_defaults_pct_weighted  cumulative_expected_loss_weighted  \\\n",
       "0                              2.92                               2.50   \n",
       "1                              8.33                               7.60   \n",
       "2                             16.09                              14.00   \n",
       "3                             21.86                              19.60   \n",
       "4                             31.60                              28.33   \n",
       "5                             41.17                              37.32   \n",
       "6                             54.94                              50.35   \n",
       "7                             64.99                              60.26   \n",
       "8                             81.40                              77.42   \n",
       "9                            100.00                             100.00   \n",
       "\n",
       "   cumulative_defaults_pct_baseline  cumulative_expected_loss_baseline  \\\n",
       "0                              3.25                               2.83   \n",
       "1                              8.44                               7.66   \n",
       "2                             14.48                              12.62   \n",
       "3                             22.11                              19.79   \n",
       "4                             30.94                              27.81   \n",
       "5                             43.45                              39.62   \n",
       "6                             54.04                              49.56   \n",
       "7                             65.55                              60.88   \n",
       "8                             81.98                              78.31   \n",
       "9                            100.00                             100.00   \n",
       "\n",
       "   cumulative_defaults_pct_under  cumulative_expected_loss_under  \n",
       "0                           3.80                            2.98  \n",
       "1                           8.10                            6.35  \n",
       "2                          15.70                           12.65  \n",
       "3                          23.06                           19.31  \n",
       "4                          33.67                           28.90  \n",
       "5                          42.22                           37.16  \n",
       "6                          52.87                           47.35  \n",
       "7                          67.65                           61.79  \n",
       "8                          82.04                           77.59  \n",
       "9                         100.00                          100.00  "
      ]
     },
     "execution_count": 40,
     "metadata": {},
     "output_type": "execute_result"
    }
   ],
   "source": [
    "df_total.reset_index()"
   ]
  },
  {
   "cell_type": "code",
   "execution_count": 31,
   "id": "9f0744d5",
   "metadata": {},
   "outputs": [
    {
     "data": {
      "text/html": [
       "<div>\n",
       "<style scoped>\n",
       "    .dataframe tbody tr th:only-of-type {\n",
       "        vertical-align: middle;\n",
       "    }\n",
       "\n",
       "    .dataframe tbody tr th {\n",
       "        vertical-align: top;\n",
       "    }\n",
       "\n",
       "    .dataframe thead th {\n",
       "        text-align: right;\n",
       "    }\n",
       "</style>\n",
       "<table border=\"1\" class=\"dataframe\">\n",
       "  <thead>\n",
       "    <tr style=\"text-align: right;\">\n",
       "      <th></th>\n",
       "      <th>cumulative_defaults_pct_xgboost</th>\n",
       "      <th>cumulative_expected_loss_xgboost</th>\n",
       "      <th>cumulative_defaults_pct_weighted</th>\n",
       "      <th>cumulative_expected_loss_weighted</th>\n",
       "      <th>cumulative_defaults_pct_baseline</th>\n",
       "      <th>cumulative_expected_loss_baseline</th>\n",
       "      <th>cumulative_defaults_pct_under</th>\n",
       "      <th>cumulative_expected_loss_under</th>\n",
       "    </tr>\n",
       "    <tr>\n",
       "      <th>decile</th>\n",
       "      <th></th>\n",
       "      <th></th>\n",
       "      <th></th>\n",
       "      <th></th>\n",
       "      <th></th>\n",
       "      <th></th>\n",
       "      <th></th>\n",
       "      <th></th>\n",
       "    </tr>\n",
       "  </thead>\n",
       "  <tbody>\n",
       "    <tr>\n",
       "      <th>1</th>\n",
       "      <td>2.27</td>\n",
       "      <td>0.02</td>\n",
       "      <td>2.92</td>\n",
       "      <td>0.02</td>\n",
       "      <td>3.25</td>\n",
       "      <td>0.03</td>\n",
       "      <td>3.80</td>\n",
       "      <td>2460465.00</td>\n",
       "    </tr>\n",
       "    <tr>\n",
       "      <th>2</th>\n",
       "      <td>6.60</td>\n",
       "      <td>0.05</td>\n",
       "      <td>8.33</td>\n",
       "      <td>0.08</td>\n",
       "      <td>8.44</td>\n",
       "      <td>0.08</td>\n",
       "      <td>8.10</td>\n",
       "      <td>5254620.00</td>\n",
       "    </tr>\n",
       "    <tr>\n",
       "      <th>3</th>\n",
       "      <td>12.65</td>\n",
       "      <td>0.09</td>\n",
       "      <td>16.09</td>\n",
       "      <td>0.14</td>\n",
       "      <td>14.48</td>\n",
       "      <td>0.13</td>\n",
       "      <td>15.70</td>\n",
       "      <td>10456140.00</td>\n",
       "    </tr>\n",
       "    <tr>\n",
       "      <th>4</th>\n",
       "      <td>19.88</td>\n",
       "      <td>0.15</td>\n",
       "      <td>21.86</td>\n",
       "      <td>0.20</td>\n",
       "      <td>22.11</td>\n",
       "      <td>0.20</td>\n",
       "      <td>23.06</td>\n",
       "      <td>15969210.00</td>\n",
       "    </tr>\n",
       "    <tr>\n",
       "      <th>5</th>\n",
       "      <td>29.39</td>\n",
       "      <td>0.24</td>\n",
       "      <td>31.60</td>\n",
       "      <td>0.28</td>\n",
       "      <td>30.94</td>\n",
       "      <td>0.28</td>\n",
       "      <td>33.67</td>\n",
       "      <td>23895090.00</td>\n",
       "    </tr>\n",
       "    <tr>\n",
       "      <th>6</th>\n",
       "      <td>40.52</td>\n",
       "      <td>0.34</td>\n",
       "      <td>41.17</td>\n",
       "      <td>0.37</td>\n",
       "      <td>43.45</td>\n",
       "      <td>0.40</td>\n",
       "      <td>42.22</td>\n",
       "      <td>30727275.00</td>\n",
       "    </tr>\n",
       "    <tr>\n",
       "      <th>7</th>\n",
       "      <td>51.11</td>\n",
       "      <td>0.44</td>\n",
       "      <td>54.94</td>\n",
       "      <td>0.50</td>\n",
       "      <td>54.04</td>\n",
       "      <td>0.50</td>\n",
       "      <td>52.87</td>\n",
       "      <td>39156015.00</td>\n",
       "    </tr>\n",
       "    <tr>\n",
       "      <th>8</th>\n",
       "      <td>64.24</td>\n",
       "      <td>0.57</td>\n",
       "      <td>64.99</td>\n",
       "      <td>0.60</td>\n",
       "      <td>65.55</td>\n",
       "      <td>0.61</td>\n",
       "      <td>67.65</td>\n",
       "      <td>51089115.00</td>\n",
       "    </tr>\n",
       "    <tr>\n",
       "      <th>9</th>\n",
       "      <td>81.48</td>\n",
       "      <td>0.76</td>\n",
       "      <td>81.40</td>\n",
       "      <td>0.77</td>\n",
       "      <td>81.98</td>\n",
       "      <td>0.78</td>\n",
       "      <td>82.04</td>\n",
       "      <td>64154670.00</td>\n",
       "    </tr>\n",
       "    <tr>\n",
       "      <th>10</th>\n",
       "      <td>100.00</td>\n",
       "      <td>1.00</td>\n",
       "      <td>100.00</td>\n",
       "      <td>1.00</td>\n",
       "      <td>100.00</td>\n",
       "      <td>1.00</td>\n",
       "      <td>100.00</td>\n",
       "      <td>82688235.00</td>\n",
       "    </tr>\n",
       "  </tbody>\n",
       "</table>\n",
       "</div>"
      ],
      "text/plain": [
       "        cumulative_defaults_pct_xgboost  cumulative_expected_loss_xgboost  \\\n",
       "decile                                                                      \n",
       "1                                  2.27                              0.02   \n",
       "2                                  6.60                              0.05   \n",
       "3                                 12.65                              0.09   \n",
       "4                                 19.88                              0.15   \n",
       "5                                 29.39                              0.24   \n",
       "6                                 40.52                              0.34   \n",
       "7                                 51.11                              0.44   \n",
       "8                                 64.24                              0.57   \n",
       "9                                 81.48                              0.76   \n",
       "10                               100.00                              1.00   \n",
       "\n",
       "        cumulative_defaults_pct_weighted  cumulative_expected_loss_weighted  \\\n",
       "decile                                                                        \n",
       "1                                   2.92                               0.02   \n",
       "2                                   8.33                               0.08   \n",
       "3                                  16.09                               0.14   \n",
       "4                                  21.86                               0.20   \n",
       "5                                  31.60                               0.28   \n",
       "6                                  41.17                               0.37   \n",
       "7                                  54.94                               0.50   \n",
       "8                                  64.99                               0.60   \n",
       "9                                  81.40                               0.77   \n",
       "10                                100.00                               1.00   \n",
       "\n",
       "        cumulative_defaults_pct_baseline  cumulative_expected_loss_baseline  \\\n",
       "decile                                                                        \n",
       "1                                   3.25                               0.03   \n",
       "2                                   8.44                               0.08   \n",
       "3                                  14.48                               0.13   \n",
       "4                                  22.11                               0.20   \n",
       "5                                  30.94                               0.28   \n",
       "6                                  43.45                               0.40   \n",
       "7                                  54.04                               0.50   \n",
       "8                                  65.55                               0.61   \n",
       "9                                  81.98                               0.78   \n",
       "10                                100.00                               1.00   \n",
       "\n",
       "        cumulative_defaults_pct_under  cumulative_expected_loss_under  \n",
       "decile                                                                 \n",
       "1                                3.80                      2460465.00  \n",
       "2                                8.10                      5254620.00  \n",
       "3                               15.70                     10456140.00  \n",
       "4                               23.06                     15969210.00  \n",
       "5                               33.67                     23895090.00  \n",
       "6                               42.22                     30727275.00  \n",
       "7                               52.87                     39156015.00  \n",
       "8                               67.65                     51089115.00  \n",
       "9                               82.04                     64154670.00  \n",
       "10                             100.00                     82688235.00  "
      ]
     },
     "execution_count": 31,
     "metadata": {},
     "output_type": "execute_result"
    }
   ],
   "source": [
    "df_total"
   ]
  },
  {
   "cell_type": "markdown",
   "id": "4e05fe93",
   "metadata": {},
   "source": [
    "## Model financial impact comparisson"
   ]
  },
  {
   "cell_type": "markdown",
   "id": "21bc6d14",
   "metadata": {},
   "source": [
    "### Point cut"
   ]
  },
  {
   "cell_type": "markdown",
   "id": "7ccbbdb6",
   "metadata": {},
   "source": [
    "### Policy"
   ]
  },
  {
   "cell_type": "code",
   "execution_count": 15,
   "id": "6b85d1a0",
   "metadata": {},
   "outputs": [
    {
     "name": "stdout",
     "output_type": "stream",
     "text": [
      "======================================================================\n",
      "PHASE 1: RISK VALIDATION - STANDARD QCUT DECILES\n",
      "======================================================================\n",
      "Using 343,827 Test observations with target for validation\n",
      "\n",
      "Decile distribution for Baseline (Test set):\n",
      "  Decile 1: 37,903 observations (11.0%)\n",
      "  Decile 2: 34,319 observations (10.0%)\n",
      "  Decile 3: 32,401 observations (9.4%)\n",
      "  Decile 4: 34,432 observations (10.0%)\n",
      "  Decile 5: 34,573 observations (10.1%)\n",
      "  Decile 6: 42,044 observations (12.2%)\n",
      "  Decile 7: 30,864 observations (9.0%)\n",
      "  Decile 8: 29,999 observations (8.7%)\n",
      "  Decile 9: 36,347 observations (10.6%)\n",
      "  Decile 10: 30,945 observations (9.0%)\n",
      "Score boundaries for Baseline:\n",
      "  Decile 1: 0.0000 to 0.0737\n",
      "  Decile 2: 0.0744 to 0.1039\n",
      "  Decile 3: 0.1084 to 0.1267\n",
      "  ... (showing first 3 deciles)\n",
      "✓ Successfully created Baseline_decile\n",
      "\n",
      "Decile distribution for Weighted (Test set):\n",
      "  Decile 1: 34,896 observations (10.1%)\n",
      "  Decile 2: 36,564 observations (10.6%)\n",
      "  Decile 3: 40,628 observations (11.8%)\n",
      "  Decile 4: 25,827 observations (7.5%)\n",
      "  Decile 5: 37,999 observations (11.1%)\n",
      "  Decile 6: 32,451 observations (9.4%)\n",
      "  Decile 7: 40,586 observations (11.8%)\n",
      "  Decile 8: 26,153 observations (7.6%)\n",
      "  Decile 9: 36,588 observations (10.6%)\n",
      "  Decile 10: 32,135 observations (9.3%)\n",
      "Score boundaries for Weighted:\n",
      "  Decile 1: 0.0000 to 0.0675\n",
      "  Decile 2: 0.0677 to 0.1026\n",
      "  Decile 3: 0.1068 to 0.1296\n",
      "  ... (showing first 3 deciles)\n",
      "✓ Successfully created Weighted_decile\n",
      "\n",
      "Decile distribution for Undersampled (Test set):\n",
      "  Decile 1: 40,597 observations (11.8%)\n",
      "  Decile 2: 28,535 observations (8.3%)\n",
      "  Decile 3: 40,743 observations (11.8%)\n",
      "  Decile 4: 32,737 observations (9.5%)\n",
      "  Decile 5: 40,479 observations (11.8%)\n",
      "  Decile 6: 28,541 observations (8.3%)\n",
      "  Decile 7: 31,431 observations (9.1%)\n",
      "  Decile 8: 38,030 observations (11.1%)\n",
      "  Decile 9: 31,706 observations (9.2%)\n",
      "  Decile 10: 31,028 observations (9.0%)\n",
      "Score boundaries for Undersampled:\n",
      "  Decile 1: 0.0000 to 0.0779\n",
      "  Decile 2: 0.0798 to 0.1027\n",
      "  Decile 3: 0.1063 to 0.1383\n",
      "  ... (showing first 3 deciles)\n",
      "✓ Successfully created Undersampled_decile\n",
      "\n",
      "Decile distribution for Xgboost (Test set):\n",
      "  Decile 1: 35,627 observations (10.4%)\n",
      "  Decile 2: 33,372 observations (9.7%)\n",
      "  Decile 3: 35,255 observations (10.3%)\n",
      "  Decile 4: 33,776 observations (9.8%)\n",
      "  Decile 5: 37,596 observations (10.9%)\n",
      "  Decile 6: 37,466 observations (10.9%)\n",
      "  Decile 7: 30,553 observations (8.9%)\n",
      "  Decile 8: 33,500 observations (9.7%)\n",
      "  Decile 9: 36,583 observations (10.6%)\n",
      "  Decile 10: 30,099 observations (8.8%)\n",
      "Score boundaries for Xgboost:\n",
      "  Decile 1: 0.0000 to 0.0622\n",
      "  Decile 2: 0.0630 to 0.0992\n",
      "  Decile 3: 0.0992 to 0.1236\n",
      "  ... (showing first 3 deciles)\n",
      "✓ Successfully created Xgboost_decile\n",
      "\n",
      "==================================================\n",
      "VERIFICATION OF MODEL DIFFERENCES\n",
      "==================================================\n",
      "Comparison Baseline_decile vs Weighted_decile:\n",
      "Same decile: 315,960/343,827 (91.9%)\n",
      "Different decile: 27,867/343,827 (8.1%)\n",
      "\n",
      "Comparison Baseline_decile vs Xgboost_decile:\n",
      "Same decile: 151,664/343,827 (44.1%)\n",
      "Different decile: 192,163/343,827 (55.9%)\n",
      "\n",
      "✅ Decile creation completed with proper model differentiation!\n"
     ]
    }
   ],
   "source": [
    "df_with_deciles, decile_info  = create_simple_qcut_deciles(  df_with_lgd)"
   ]
  },
  {
   "cell_type": "code",
   "execution_count": 16,
   "id": "dd75c32a",
   "metadata": {},
   "outputs": [
    {
     "name": "stdout",
     "output_type": "stream",
     "text": [
      "Filtering diagnostics:\n",
      "Total rows in dataset: 343,827\n",
      "Test set rows: 343,827 (100.0% of total)\n",
      "Test set with non-null target: 343,827 (100.0% of Test set)\n",
      "\n",
      "Calculating comprehensive risk metrics for Test set...\n",
      "Test set size: 343,827 observations\n",
      "\n",
      "Found 4 decile columns: ['Baseline_decile', 'Weighted_decile', 'Undersampled_decile', 'Xgboost_decile']\n",
      "Overall Statistics:\n",
      "  Default Rate: 0.225 (22.5%)\n",
      "  Total Defaults: 77,515.0\n",
      "  Total Exposure: $553,574,625\n",
      "\n",
      "Analyzing Baseline model...\n",
      "Decile distribution for Baseline:\n",
      "  Decile 1: 37,903 loans (11.0%)\n",
      "  Decile 2: 34,319 loans (10.0%)\n",
      "  Decile 3: 32,401 loans (9.4%)\n",
      "  Decile 4: 34,432 loans (10.0%)\n",
      "  Decile 5: 34,573 loans (10.1%)\n",
      "  Decile 6: 42,044 loans (12.2%)\n",
      "  Decile 7: 30,864 loans (9.0%)\n",
      "  Decile 8: 29,999 loans (8.7%)\n",
      "  Decile 9: 36,347 loans (10.6%)\n",
      "  Decile 10: 30,945 loans (9.0%)\n",
      "\n",
      "Summary for Baseline:\n",
      "  Total loans: 343,827\n",
      "  Total defaults: 77,515.0\n",
      "  Overall default rate: 22.54%\n",
      "\n",
      "  Decile 6 cutoff metrics:\n",
      "    Approved loans: 215,672 (62.7% of total)\n",
      "    Default rate: 15.62%\n",
      "    Loss rate: 17.08%\n",
      "    Expected loss: $32.76M\n",
      "✓ Completed risk analysis for Baseline\n",
      "Analyzing Weighted model...\n",
      "Decile distribution for Weighted:\n",
      "  Decile 1: 34,896 loans (10.1%)\n",
      "  Decile 2: 36,564 loans (10.6%)\n",
      "  Decile 3: 40,628 loans (11.8%)\n",
      "  Decile 4: 25,827 loans (7.5%)\n",
      "  Decile 5: 37,999 loans (11.1%)\n",
      "  Decile 6: 32,451 loans (9.4%)\n",
      "  Decile 7: 40,586 loans (11.8%)\n",
      "  Decile 8: 26,153 loans (7.6%)\n",
      "  Decile 9: 36,588 loans (10.6%)\n",
      "  Decile 10: 32,135 loans (9.3%)\n",
      "\n",
      "Summary for Weighted:\n",
      "  Total loans: 343,827\n",
      "  Total defaults: 77,515.0\n",
      "  Overall default rate: 22.54%\n",
      "\n",
      "  Decile 6 cutoff metrics:\n",
      "    Approved loans: 208,365 (60.6% of total)\n",
      "    Default rate: 15.31%\n",
      "    Loss rate: 16.68%\n",
      "    Expected loss: $30.86M\n",
      "✓ Completed risk analysis for Weighted\n",
      "Analyzing Undersampled model...\n",
      "Decile distribution for Undersampled:\n",
      "  Decile 1: 40,597 loans (11.8%)\n",
      "  Decile 2: 28,535 loans (8.3%)\n",
      "  Decile 3: 40,743 loans (11.8%)\n",
      "  Decile 4: 32,737 loans (9.5%)\n",
      "  Decile 5: 40,479 loans (11.8%)\n",
      "  Decile 6: 28,541 loans (8.3%)\n",
      "  Decile 7: 31,431 loans (9.1%)\n",
      "  Decile 8: 38,030 loans (11.1%)\n",
      "  Decile 9: 31,706 loans (9.2%)\n",
      "  Decile 10: 31,028 loans (9.0%)\n",
      "\n",
      "Summary for Undersampled:\n",
      "  Total loans: 343,827\n",
      "  Total defaults: 77,515.0\n",
      "  Overall default rate: 22.54%\n",
      "\n",
      "  Decile 6 cutoff metrics:\n",
      "    Approved loans: 211,632 (61.6% of total)\n",
      "    Default rate: 15.46%\n",
      "    Loss rate: 16.68%\n",
      "    Expected loss: $30.73M\n",
      "✓ Completed risk analysis for Undersampled\n",
      "Analyzing Xgboost model...\n",
      "Decile distribution for Xgboost:\n",
      "  Decile 1: 35,627 loans (10.4%)\n",
      "  Decile 2: 33,372 loans (9.7%)\n",
      "  Decile 3: 35,255 loans (10.3%)\n",
      "  Decile 4: 33,776 loans (9.8%)\n",
      "  Decile 5: 37,596 loans (10.9%)\n",
      "  Decile 6: 37,466 loans (10.9%)\n",
      "  Decile 7: 30,553 loans (8.9%)\n",
      "  Decile 8: 33,500 loans (9.7%)\n",
      "  Decile 9: 36,583 loans (10.6%)\n",
      "  Decile 10: 30,099 loans (8.8%)\n",
      "\n",
      "Summary for Xgboost:\n",
      "  Total loans: 343,827\n",
      "  Total defaults: 77,515.0\n",
      "  Overall default rate: 22.54%\n",
      "\n",
      "  Decile 6 cutoff metrics:\n",
      "    Approved loans: 213,092 (62.0% of total)\n",
      "    Default rate: 14.74%\n",
      "    Loss rate: 15.58%\n",
      "    Expected loss: $28.29M\n",
      "✓ Completed risk analysis for Xgboost\n"
     ]
    }
   ],
   "source": [
    "risk_results = calculate_comprehensive_risk_metrics(df_with_deciles)"
   ]
  },
  {
   "cell_type": "code",
   "execution_count": 18,
   "id": "f814b7f6",
   "metadata": {},
   "outputs": [
    {
     "name": "stdout",
     "output_type": "stream",
     "text": [
      "[{'model': 'Weighted', 'deciles': [1, 2, 3, 4, 5, 6, 7, 8, 9, 10], 'cumulative_value': [276885.0, 53250.0, -1138170.0, 163170.0, -428205.0, 1901730.0, -650190.0, 514545.0, 733605.0, 0.0], 'smoothed_value': [-269345.0, -269345.0, -307250.0, -467735.0, 545565.0, 274445.0, 588695.0, 199320.0, 416050.0, 416050.0]}, {'model': 'Undersampled', 'deciles': [1, 2, 3, 4, 5, 6, 7, 8, 9, 10], 'cumulative_value': [-118365.0, 1079700.0, -18375.0, 396810.0, -899640.0, 2031975.0, 1825620.0, -749130.0, 600225.0, 0.0], 'smoothed_value': [314320.0, 314320.0, 486045.0, -173735.0, 509715.0, 985985.0, 1036155.0, 558905.0, -49635.0, -49635.0]}, {'model': 'Xgboost', 'deciles': [1, 2, 3, 4, 5, 6, 7, 8, 9, 10], 'cumulative_value': [795195.0, 2251455.0, 2757360.0, 3758460.0, 3372615.0, 4468560.0, 4739295.0, 3256815.0, 1655040.0, 0.0], 'smoothed_value': [1934670.0, 1934670.0, 2922425.0, 3296145.0, 3866545.0, 4193490.0, 4154890.0, 3217050.0, 1637285.0, 1637285.0]}]\n"
     ]
    },
    {
     "data": {
      "application/vnd.plotly.v1+json": {
       "config": {
        "plotlyServerURL": "https://plot.ly"
       },
       "data": [
        {
         "line": {
          "color": "#75caed",
          "dash": "dot",
          "width": 1
         },
         "marker": {
          "size": 4
         },
         "mode": "lines+markers",
         "name": "Weighted (Raw)",
         "opacity": 0.5,
         "showlegend": false,
         "type": "scatter",
         "x": [
          1,
          2,
          3,
          4,
          5,
          6,
          7,
          8,
          9,
          10
         ],
         "y": [
          276885,
          53250,
          -1138170,
          163170,
          -428205,
          1901730,
          -650190,
          514545,
          733605,
          0
         ]
        },
        {
         "line": {
          "color": "#75caed",
          "width": 2
         },
         "marker": {
          "size": 6
         },
         "mode": "lines+markers",
         "name": "Weighted vs Baseline",
         "type": "scatter",
         "x": [
          1,
          2,
          3,
          4,
          5,
          6,
          7,
          8,
          9,
          10
         ],
         "y": [
          -269345,
          -269345,
          -307250,
          -467735,
          545565,
          274445,
          588695,
          199320,
          416050,
          416050
         ]
        },
        {
         "line": {
          "color": "#8B7EC8",
          "dash": "dot",
          "width": 1
         },
         "marker": {
          "size": 4
         },
         "mode": "lines+markers",
         "name": "Undersampled (Raw)",
         "opacity": 0.5,
         "showlegend": false,
         "type": "scatter",
         "x": [
          1,
          2,
          3,
          4,
          5,
          6,
          7,
          8,
          9,
          10
         ],
         "y": [
          -118365,
          1079700,
          -18375,
          396810,
          -899640,
          2031975,
          1825620,
          -749130,
          600225,
          0
         ]
        },
        {
         "line": {
          "color": "#8B7EC8",
          "width": 2
         },
         "marker": {
          "size": 6
         },
         "mode": "lines+markers",
         "name": "Undersampled vs Baseline",
         "type": "scatter",
         "x": [
          1,
          2,
          3,
          4,
          5,
          6,
          7,
          8,
          9,
          10
         ],
         "y": [
          314320,
          314320,
          486045,
          -173735,
          509715,
          985985,
          1036155,
          558905,
          -49635,
          -49635
         ]
        },
        {
         "line": {
          "color": "#d62728",
          "dash": "dot",
          "width": 1
         },
         "marker": {
          "size": 4
         },
         "mode": "lines+markers",
         "name": "Xgboost (Raw)",
         "opacity": 0.5,
         "showlegend": false,
         "type": "scatter",
         "x": [
          1,
          2,
          3,
          4,
          5,
          6,
          7,
          8,
          9,
          10
         ],
         "y": [
          795195,
          2251455,
          2757360,
          3758460,
          3372615,
          4468560,
          4739295,
          3256815,
          1655040,
          0
         ]
        },
        {
         "line": {
          "color": "#d62728",
          "width": 2
         },
         "marker": {
          "size": 6
         },
         "mode": "lines+markers",
         "name": "Xgboost vs Baseline",
         "type": "scatter",
         "x": [
          1,
          2,
          3,
          4,
          5,
          6,
          7,
          8,
          9,
          10
         ],
         "y": [
          1934670,
          1934670,
          2922425,
          3296145,
          3866545,
          4193490,
          4154890,
          3217050,
          1637285,
          1637285
         ]
        }
       ],
       "layout": {
        "annotations": [
         {
          "showarrow": false,
          "text": "Break-even vs Baseline",
          "x": 1,
          "xanchor": "right",
          "xref": "x domain",
          "y": 0,
          "yanchor": "bottom",
          "yref": "y"
         }
        ],
        "font": {
         "family": "Arial",
         "size": 12
        },
        "height": 600,
        "legend": {
         "x": 0.02,
         "y": 0.98
        },
        "shapes": [
         {
          "line": {
           "color": "gray",
           "dash": "dash"
          },
          "type": "line",
          "x0": 0,
          "x1": 1,
          "xref": "x domain",
          "y0": 0,
          "y1": 0,
          "yref": "y"
         }
        ],
        "template": {
         "data": {
          "bar": [
           {
            "error_x": {
             "color": "#2a3f5f"
            },
            "error_y": {
             "color": "#2a3f5f"
            },
            "marker": {
             "line": {
              "color": "white",
              "width": 0.5
             },
             "pattern": {
              "fillmode": "overlay",
              "size": 10,
              "solidity": 0.2
             }
            },
            "type": "bar"
           }
          ],
          "barpolar": [
           {
            "marker": {
             "line": {
              "color": "white",
              "width": 0.5
             },
             "pattern": {
              "fillmode": "overlay",
              "size": 10,
              "solidity": 0.2
             }
            },
            "type": "barpolar"
           }
          ],
          "carpet": [
           {
            "aaxis": {
             "endlinecolor": "#2a3f5f",
             "gridcolor": "#C8D4E3",
             "linecolor": "#C8D4E3",
             "minorgridcolor": "#C8D4E3",
             "startlinecolor": "#2a3f5f"
            },
            "baxis": {
             "endlinecolor": "#2a3f5f",
             "gridcolor": "#C8D4E3",
             "linecolor": "#C8D4E3",
             "minorgridcolor": "#C8D4E3",
             "startlinecolor": "#2a3f5f"
            },
            "type": "carpet"
           }
          ],
          "choropleth": [
           {
            "colorbar": {
             "outlinewidth": 0,
             "ticks": ""
            },
            "type": "choropleth"
           }
          ],
          "contour": [
           {
            "colorbar": {
             "outlinewidth": 0,
             "ticks": ""
            },
            "colorscale": [
             [
              0,
              "#0d0887"
             ],
             [
              0.1111111111111111,
              "#46039f"
             ],
             [
              0.2222222222222222,
              "#7201a8"
             ],
             [
              0.3333333333333333,
              "#9c179e"
             ],
             [
              0.4444444444444444,
              "#bd3786"
             ],
             [
              0.5555555555555556,
              "#d8576b"
             ],
             [
              0.6666666666666666,
              "#ed7953"
             ],
             [
              0.7777777777777778,
              "#fb9f3a"
             ],
             [
              0.8888888888888888,
              "#fdca26"
             ],
             [
              1,
              "#f0f921"
             ]
            ],
            "type": "contour"
           }
          ],
          "contourcarpet": [
           {
            "colorbar": {
             "outlinewidth": 0,
             "ticks": ""
            },
            "type": "contourcarpet"
           }
          ],
          "heatmap": [
           {
            "colorbar": {
             "outlinewidth": 0,
             "ticks": ""
            },
            "colorscale": [
             [
              0,
              "#0d0887"
             ],
             [
              0.1111111111111111,
              "#46039f"
             ],
             [
              0.2222222222222222,
              "#7201a8"
             ],
             [
              0.3333333333333333,
              "#9c179e"
             ],
             [
              0.4444444444444444,
              "#bd3786"
             ],
             [
              0.5555555555555556,
              "#d8576b"
             ],
             [
              0.6666666666666666,
              "#ed7953"
             ],
             [
              0.7777777777777778,
              "#fb9f3a"
             ],
             [
              0.8888888888888888,
              "#fdca26"
             ],
             [
              1,
              "#f0f921"
             ]
            ],
            "type": "heatmap"
           }
          ],
          "histogram": [
           {
            "marker": {
             "pattern": {
              "fillmode": "overlay",
              "size": 10,
              "solidity": 0.2
             }
            },
            "type": "histogram"
           }
          ],
          "histogram2d": [
           {
            "colorbar": {
             "outlinewidth": 0,
             "ticks": ""
            },
            "colorscale": [
             [
              0,
              "#0d0887"
             ],
             [
              0.1111111111111111,
              "#46039f"
             ],
             [
              0.2222222222222222,
              "#7201a8"
             ],
             [
              0.3333333333333333,
              "#9c179e"
             ],
             [
              0.4444444444444444,
              "#bd3786"
             ],
             [
              0.5555555555555556,
              "#d8576b"
             ],
             [
              0.6666666666666666,
              "#ed7953"
             ],
             [
              0.7777777777777778,
              "#fb9f3a"
             ],
             [
              0.8888888888888888,
              "#fdca26"
             ],
             [
              1,
              "#f0f921"
             ]
            ],
            "type": "histogram2d"
           }
          ],
          "histogram2dcontour": [
           {
            "colorbar": {
             "outlinewidth": 0,
             "ticks": ""
            },
            "colorscale": [
             [
              0,
              "#0d0887"
             ],
             [
              0.1111111111111111,
              "#46039f"
             ],
             [
              0.2222222222222222,
              "#7201a8"
             ],
             [
              0.3333333333333333,
              "#9c179e"
             ],
             [
              0.4444444444444444,
              "#bd3786"
             ],
             [
              0.5555555555555556,
              "#d8576b"
             ],
             [
              0.6666666666666666,
              "#ed7953"
             ],
             [
              0.7777777777777778,
              "#fb9f3a"
             ],
             [
              0.8888888888888888,
              "#fdca26"
             ],
             [
              1,
              "#f0f921"
             ]
            ],
            "type": "histogram2dcontour"
           }
          ],
          "mesh3d": [
           {
            "colorbar": {
             "outlinewidth": 0,
             "ticks": ""
            },
            "type": "mesh3d"
           }
          ],
          "parcoords": [
           {
            "line": {
             "colorbar": {
              "outlinewidth": 0,
              "ticks": ""
             }
            },
            "type": "parcoords"
           }
          ],
          "pie": [
           {
            "automargin": true,
            "type": "pie"
           }
          ],
          "scatter": [
           {
            "fillpattern": {
             "fillmode": "overlay",
             "size": 10,
             "solidity": 0.2
            },
            "type": "scatter"
           }
          ],
          "scatter3d": [
           {
            "line": {
             "colorbar": {
              "outlinewidth": 0,
              "ticks": ""
             }
            },
            "marker": {
             "colorbar": {
              "outlinewidth": 0,
              "ticks": ""
             }
            },
            "type": "scatter3d"
           }
          ],
          "scattercarpet": [
           {
            "marker": {
             "colorbar": {
              "outlinewidth": 0,
              "ticks": ""
             }
            },
            "type": "scattercarpet"
           }
          ],
          "scattergeo": [
           {
            "marker": {
             "colorbar": {
              "outlinewidth": 0,
              "ticks": ""
             }
            },
            "type": "scattergeo"
           }
          ],
          "scattergl": [
           {
            "marker": {
             "colorbar": {
              "outlinewidth": 0,
              "ticks": ""
             }
            },
            "type": "scattergl"
           }
          ],
          "scattermap": [
           {
            "marker": {
             "colorbar": {
              "outlinewidth": 0,
              "ticks": ""
             }
            },
            "type": "scattermap"
           }
          ],
          "scattermapbox": [
           {
            "marker": {
             "colorbar": {
              "outlinewidth": 0,
              "ticks": ""
             }
            },
            "type": "scattermapbox"
           }
          ],
          "scatterpolar": [
           {
            "marker": {
             "colorbar": {
              "outlinewidth": 0,
              "ticks": ""
             }
            },
            "type": "scatterpolar"
           }
          ],
          "scatterpolargl": [
           {
            "marker": {
             "colorbar": {
              "outlinewidth": 0,
              "ticks": ""
             }
            },
            "type": "scatterpolargl"
           }
          ],
          "scatterternary": [
           {
            "marker": {
             "colorbar": {
              "outlinewidth": 0,
              "ticks": ""
             }
            },
            "type": "scatterternary"
           }
          ],
          "surface": [
           {
            "colorbar": {
             "outlinewidth": 0,
             "ticks": ""
            },
            "colorscale": [
             [
              0,
              "#0d0887"
             ],
             [
              0.1111111111111111,
              "#46039f"
             ],
             [
              0.2222222222222222,
              "#7201a8"
             ],
             [
              0.3333333333333333,
              "#9c179e"
             ],
             [
              0.4444444444444444,
              "#bd3786"
             ],
             [
              0.5555555555555556,
              "#d8576b"
             ],
             [
              0.6666666666666666,
              "#ed7953"
             ],
             [
              0.7777777777777778,
              "#fb9f3a"
             ],
             [
              0.8888888888888888,
              "#fdca26"
             ],
             [
              1,
              "#f0f921"
             ]
            ],
            "type": "surface"
           }
          ],
          "table": [
           {
            "cells": {
             "fill": {
              "color": "#EBF0F8"
             },
             "line": {
              "color": "white"
             }
            },
            "header": {
             "fill": {
              "color": "#C8D4E3"
             },
             "line": {
              "color": "white"
             }
            },
            "type": "table"
           }
          ]
         },
         "layout": {
          "annotationdefaults": {
           "arrowcolor": "#2a3f5f",
           "arrowhead": 0,
           "arrowwidth": 1
          },
          "autotypenumbers": "strict",
          "coloraxis": {
           "colorbar": {
            "outlinewidth": 0,
            "ticks": ""
           }
          },
          "colorscale": {
           "diverging": [
            [
             0,
             "#8e0152"
            ],
            [
             0.1,
             "#c51b7d"
            ],
            [
             0.2,
             "#de77ae"
            ],
            [
             0.3,
             "#f1b6da"
            ],
            [
             0.4,
             "#fde0ef"
            ],
            [
             0.5,
             "#f7f7f7"
            ],
            [
             0.6,
             "#e6f5d0"
            ],
            [
             0.7,
             "#b8e186"
            ],
            [
             0.8,
             "#7fbc41"
            ],
            [
             0.9,
             "#4d9221"
            ],
            [
             1,
             "#276419"
            ]
           ],
           "sequential": [
            [
             0,
             "#0d0887"
            ],
            [
             0.1111111111111111,
             "#46039f"
            ],
            [
             0.2222222222222222,
             "#7201a8"
            ],
            [
             0.3333333333333333,
             "#9c179e"
            ],
            [
             0.4444444444444444,
             "#bd3786"
            ],
            [
             0.5555555555555556,
             "#d8576b"
            ],
            [
             0.6666666666666666,
             "#ed7953"
            ],
            [
             0.7777777777777778,
             "#fb9f3a"
            ],
            [
             0.8888888888888888,
             "#fdca26"
            ],
            [
             1,
             "#f0f921"
            ]
           ],
           "sequentialminus": [
            [
             0,
             "#0d0887"
            ],
            [
             0.1111111111111111,
             "#46039f"
            ],
            [
             0.2222222222222222,
             "#7201a8"
            ],
            [
             0.3333333333333333,
             "#9c179e"
            ],
            [
             0.4444444444444444,
             "#bd3786"
            ],
            [
             0.5555555555555556,
             "#d8576b"
            ],
            [
             0.6666666666666666,
             "#ed7953"
            ],
            [
             0.7777777777777778,
             "#fb9f3a"
            ],
            [
             0.8888888888888888,
             "#fdca26"
            ],
            [
             1,
             "#f0f921"
            ]
           ]
          },
          "colorway": [
           "#636efa",
           "#EF553B",
           "#00cc96",
           "#ab63fa",
           "#FFA15A",
           "#19d3f3",
           "#FF6692",
           "#B6E880",
           "#FF97FF",
           "#FECB52"
          ],
          "font": {
           "color": "#2a3f5f"
          },
          "geo": {
           "bgcolor": "white",
           "lakecolor": "white",
           "landcolor": "white",
           "showlakes": true,
           "showland": true,
           "subunitcolor": "#C8D4E3"
          },
          "hoverlabel": {
           "align": "left"
          },
          "hovermode": "closest",
          "mapbox": {
           "style": "light"
          },
          "paper_bgcolor": "white",
          "plot_bgcolor": "white",
          "polar": {
           "angularaxis": {
            "gridcolor": "#EBF0F8",
            "linecolor": "#EBF0F8",
            "ticks": ""
           },
           "bgcolor": "white",
           "radialaxis": {
            "gridcolor": "#EBF0F8",
            "linecolor": "#EBF0F8",
            "ticks": ""
           }
          },
          "scene": {
           "xaxis": {
            "backgroundcolor": "white",
            "gridcolor": "#DFE8F3",
            "gridwidth": 2,
            "linecolor": "#EBF0F8",
            "showbackground": true,
            "ticks": "",
            "zerolinecolor": "#EBF0F8"
           },
           "yaxis": {
            "backgroundcolor": "white",
            "gridcolor": "#DFE8F3",
            "gridwidth": 2,
            "linecolor": "#EBF0F8",
            "showbackground": true,
            "ticks": "",
            "zerolinecolor": "#EBF0F8"
           },
           "zaxis": {
            "backgroundcolor": "white",
            "gridcolor": "#DFE8F3",
            "gridwidth": 2,
            "linecolor": "#EBF0F8",
            "showbackground": true,
            "ticks": "",
            "zerolinecolor": "#EBF0F8"
           }
          },
          "shapedefaults": {
           "line": {
            "color": "#2a3f5f"
           }
          },
          "ternary": {
           "aaxis": {
            "gridcolor": "#DFE8F3",
            "linecolor": "#A2B1C6",
            "ticks": ""
           },
           "baxis": {
            "gridcolor": "#DFE8F3",
            "linecolor": "#A2B1C6",
            "ticks": ""
           },
           "bgcolor": "white",
           "caxis": {
            "gridcolor": "#DFE8F3",
            "linecolor": "#A2B1C6",
            "ticks": ""
           }
          },
          "title": {
           "x": 0.05
          },
          "xaxis": {
           "automargin": true,
           "gridcolor": "#EBF0F8",
           "linecolor": "#EBF0F8",
           "ticks": "",
           "title": {
            "standoff": 15
           },
           "zerolinecolor": "#EBF0F8",
           "zerolinewidth": 2
          },
          "yaxis": {
           "automargin": true,
           "gridcolor": "#EBF0F8",
           "linecolor": "#EBF0F8",
           "ticks": "",
           "title": {
            "standoff": 15
           },
           "zerolinecolor": "#EBF0F8",
           "zerolinewidth": 2
          }
         }
        },
        "title": {
         "text": "Economic Value Analysis - Cumulative Expected Loss Savings vs Baseline (Smoothed)"
        },
        "xaxis": {
         "gridcolor": "lightgray",
         "title": {
          "text": "Risk Decile (1=Lowest Risk, 10=Highest Risk)"
         }
        },
        "yaxis": {
         "gridcolor": "lightgray",
         "title": {
          "text": "Cumulative Expected Loss Savings ($)"
         }
        }
       }
      }
     },
     "metadata": {},
     "output_type": "display_data"
    }
   ],
   "source": [
    "def visualize_economic_value_with_smoothing(risk_results, baseline_model='Baseline', window_size=3):\n",
    "    \"\"\"\n",
    "    Visualize economic value analysis using the pre-calculated cumulative_expected_loss column\n",
    "    with smoothing applied to reduce fluctuations\n",
    "    \n",
    "    Parameters:\n",
    "    - risk_results: Dictionary with risk analysis results by model\n",
    "    - baseline_model: Name of the baseline model\n",
    "    - window_size: Size of the window for moving average smoothing\n",
    "    \n",
    "    Returns:\n",
    "    - Plotly figure\n",
    "    \"\"\"\n",
    "    import plotly.graph_objects as go\n",
    "    import numpy as np\n",
    "    import pandas as pd\n",
    "    \n",
    "    # Define colors for models\n",
    "    colors = {\n",
    "        'Baseline':  '#1560bd',   \n",
    "        'Weighted': '#75caed',     \n",
    "        'Undersampled':  '#8B7EC8', \n",
    "        'Xgboost': '#d62728'        \n",
    "    }\n",
    "    \n",
    "    # Get baseline results with cumulative expected loss\n",
    "    baseline_results = risk_results[baseline_model]['decile_metrics']\n",
    "    baseline_cumulative = baseline_results['cumulative_expected_loss'].tolist()\n",
    "    \n",
    "    # Create figure\n",
    "    fig = go.Figure()\n",
    "    \n",
    "    # Function to apply moving average smoothing\n",
    "    def apply_smoothing(data, window_size):\n",
    "        # If window_size is too large for our data, reduce it\n",
    "        actual_window = min(window_size, len(data))\n",
    "        if actual_window <= 1:\n",
    "            return data\n",
    "        \n",
    "        # Use pandas rolling mean for smoothing\n",
    "        return pd.Series(data).rolling(window=actual_window, center=True).mean().fillna(method='bfill').fillna(method='ffill').tolist()\n",
    "    \n",
    "    # Process each model\n",
    "    economic_data = []\n",
    "    \n",
    "    for model, data in risk_results.items():\n",
    "        if model == baseline_model:\n",
    "            continue\n",
    "            \n",
    "        # Get this model's cumulative expected loss\n",
    "        model_cumulative = data['decile_metrics']['cumulative_expected_loss'].tolist()\n",
    "        \n",
    "        # Calculate economic value (difference in cumulative expected loss)\n",
    "        economic_value = [baseline_cumulative[i] - model_cumulative[i] for i in range(len(baseline_cumulative))]\n",
    "        \n",
    "        # Apply smoothing\n",
    "        smoothed_value = apply_smoothing(economic_value, window_size)\n",
    "        \n",
    "        economic_data.append({\n",
    "            'model': model,\n",
    "            'deciles': list(range(1, 11)),\n",
    "            'cumulative_value': economic_value,\n",
    "            'smoothed_value': smoothed_value\n",
    "        })\n",
    "    \n",
    "    # Add traces for each model - both raw and smoothed\n",
    "    for data in economic_data:\n",
    "        # Raw data (with lower opacity)\n",
    "        fig.add_trace(go.Scatter(\n",
    "            x=data['deciles'],\n",
    "            y=data['cumulative_value'],\n",
    "            mode='lines+markers',\n",
    "            name=f'{data[\"model\"]} (Raw)',\n",
    "            line=dict(color=colors.get(data['model'], '#000000'), width=1, dash='dot'),\n",
    "            marker=dict(size=4),\n",
    "            opacity=0.5,\n",
    "            showlegend=False\n",
    "        ))\n",
    "        \n",
    "        # Smoothed data\n",
    "        fig.add_trace(go.Scatter(\n",
    "            x=data['deciles'],\n",
    "            y=data['smoothed_value'],\n",
    "            mode='lines+markers',\n",
    "            name=f'{data[\"model\"]} vs {baseline_model}',\n",
    "            line=dict(color=colors.get(data['model'], '#000000'), width=2),\n",
    "            marker=dict(size=6)\n",
    "        ))\n",
    "    \n",
    "    # Add zero line\n",
    "    fig.add_hline(y=0, line_dash=\"dash\", line_color=\"gray\", \n",
    "                  annotation_text=f\"Break-even vs {baseline_model}\")\n",
    "    \n",
    "    # Update layout\n",
    "    fig.update_layout(\n",
    "        title='Economic Value Analysis - Cumulative Expected Loss Savings vs Baseline (Smoothed)',\n",
    "        xaxis_title='Risk Decile (1=Lowest Risk, 10=Highest Risk)',\n",
    "        yaxis_title='Cumulative Expected Loss Savings ($)',\n",
    "        template='plotly_white',\n",
    "        font=dict(family=\"Arial\", size=12),\n",
    "        legend=dict(x=0.02, y=0.98),\n",
    "        height=600\n",
    "    )\n",
    "    \n",
    "    # Update axes\n",
    "    fig.update_xaxes(gridcolor='lightgray')\n",
    "    fig.update_yaxes(gridcolor='lightgray')\n",
    "    print(economic_data)\n",
    "    return fig\n",
    "\n",
    "# Para ejecutar y mostrar la gráfica:\n",
    "fig_economic_smoothed = visualize_economic_value_with_smoothing(risk_results, window_size=3)\n",
    "fig_economic_smoothed.show()"
   ]
  },
  {
   "cell_type": "code",
   "execution_count": 19,
   "id": "a0c795d2",
   "metadata": {},
   "outputs": [
    {
     "name": "stdout",
     "output_type": "stream",
     "text": [
      "Available columns in df_with_deciles:\n",
      "  - Baseline_decile\n",
      "  - Weighted_decile\n",
      "  - Undersampled_decile\n",
      "  - Xgboost_decile\n",
      "\n",
      "Identified decile columns:\n",
      "  Baseline: Baseline_decile\n",
      "  Weighted: Weighted_decile\n",
      "  Undersampled: Undersampled_decile\n",
      "  Xgboost: Xgboost_decile\n",
      "\n",
      "Calculated metrics from raw data:\n",
      "\n",
      "Baseline:\n",
      "  Approved: 215,672 loans (62.7%)\n",
      "  Default Rate: 15.62%\n",
      "  Loss Rate: 17.08%\n",
      "  Expected Loss: $41.73M\n",
      "\n",
      "Weighted:\n",
      "  Approved: 208,365 loans (60.6%)\n",
      "  Default Rate: 15.31%\n",
      "  Loss Rate: 16.68%\n",
      "  Expected Loss: $39.32M\n",
      "  Net Savings vs Baseline: $2.42M\n",
      "\n",
      "Undersampled:\n",
      "  Approved: 211,632 loans (61.6%)\n",
      "  Default Rate: 15.46%\n",
      "  Loss Rate: 16.68%\n",
      "  Expected Loss: $39.00M\n",
      "  Net Savings vs Baseline: $2.73M\n",
      "\n",
      "Xgboost:\n",
      "  Approved: 213,092 loans (62.0%)\n",
      "  Default Rate: 14.74%\n",
      "  Loss Rate: 15.58%\n",
      "  Expected Loss: $35.56M\n",
      "  Net Savings vs Baseline: $6.17M\n",
      "\n",
      "\n",
      "===== COMPREHENSIVE MODEL COMPARISON (DECILE 6 CUTOFF) =====\n",
      "          Model  Approved Loans  Approved (%)  Rejected (%)  Defaulted Loans  \\\n",
      "0      Baseline          215672         62.73         37.27            33683   \n",
      "1      Weighted          208365         60.60         39.40            31910   \n",
      "2  Undersampled          211632         61.55         38.45            32727   \n",
      "3       Xgboost          213092         61.98         38.02            31410   \n",
      "\n",
      "   Default Rate (%)  Approved Exposure ($M)  Defaulted Exposure ($M)  \\\n",
      "0             15.62                  319.72                    54.60   \n",
      "1             15.31                  308.29                    51.43   \n",
      "2             15.46                  306.99                    51.21   \n",
      "3             14.74                  302.69                    47.15   \n",
      "\n",
      "   Loss Rate (%)  Expected Loss ($M)  Interest Revenue ($M)  \\\n",
      "0          17.08               41.73                 143.87   \n",
      "1          16.68               39.32                 138.73   \n",
      "2          16.68               39.00                 138.15   \n",
      "3          15.58               35.56                 136.21   \n",
      "\n",
      "   Net Savings vs Baseline ($M)  \n",
      "0                          0.00  \n",
      "1                          2.42  \n",
      "2                          2.73  \n",
      "3                          6.17  \n"
     ]
    },
    {
     "data": {
      "text/html": [
       "<style type=\"text/css\">\n",
       "</style>\n",
       "<table id=\"T_25ab1\">\n",
       "  <thead>\n",
       "    <tr>\n",
       "      <th class=\"blank level0\" >&nbsp;</th>\n",
       "      <th id=\"T_25ab1_level0_col0\" class=\"col_heading level0 col0\" >Model</th>\n",
       "      <th id=\"T_25ab1_level0_col1\" class=\"col_heading level0 col1\" >Approved Loans</th>\n",
       "      <th id=\"T_25ab1_level0_col2\" class=\"col_heading level0 col2\" >Approved (%)</th>\n",
       "      <th id=\"T_25ab1_level0_col3\" class=\"col_heading level0 col3\" >Rejected (%)</th>\n",
       "      <th id=\"T_25ab1_level0_col4\" class=\"col_heading level0 col4\" >Defaulted Loans</th>\n",
       "      <th id=\"T_25ab1_level0_col5\" class=\"col_heading level0 col5\" >Default Rate (%)</th>\n",
       "      <th id=\"T_25ab1_level0_col6\" class=\"col_heading level0 col6\" >Approved Exposure ($M)</th>\n",
       "      <th id=\"T_25ab1_level0_col7\" class=\"col_heading level0 col7\" >Defaulted Exposure ($M)</th>\n",
       "      <th id=\"T_25ab1_level0_col8\" class=\"col_heading level0 col8\" >Loss Rate (%)</th>\n",
       "      <th id=\"T_25ab1_level0_col9\" class=\"col_heading level0 col9\" >Expected Loss ($M)</th>\n",
       "      <th id=\"T_25ab1_level0_col10\" class=\"col_heading level0 col10\" >Interest Revenue ($M)</th>\n",
       "      <th id=\"T_25ab1_level0_col11\" class=\"col_heading level0 col11\" >Net Savings vs Baseline ($M)</th>\n",
       "    </tr>\n",
       "  </thead>\n",
       "  <tbody>\n",
       "    <tr>\n",
       "      <th id=\"T_25ab1_level0_row0\" class=\"row_heading level0 row0\" >0</th>\n",
       "      <td id=\"T_25ab1_row0_col0\" class=\"data row0 col0\" >Baseline</td>\n",
       "      <td id=\"T_25ab1_row0_col1\" class=\"data row0 col1\" >215672</td>\n",
       "      <td id=\"T_25ab1_row0_col2\" class=\"data row0 col2\" >62.7%</td>\n",
       "      <td id=\"T_25ab1_row0_col3\" class=\"data row0 col3\" >37.3%</td>\n",
       "      <td id=\"T_25ab1_row0_col4\" class=\"data row0 col4\" >33683</td>\n",
       "      <td id=\"T_25ab1_row0_col5\" class=\"data row0 col5\" >15.62%</td>\n",
       "      <td id=\"T_25ab1_row0_col6\" class=\"data row0 col6\" >$319.72M</td>\n",
       "      <td id=\"T_25ab1_row0_col7\" class=\"data row0 col7\" >$54.60M</td>\n",
       "      <td id=\"T_25ab1_row0_col8\" class=\"data row0 col8\" >17.08%</td>\n",
       "      <td id=\"T_25ab1_row0_col9\" class=\"data row0 col9\" >$41.73M</td>\n",
       "      <td id=\"T_25ab1_row0_col10\" class=\"data row0 col10\" >$143.87M</td>\n",
       "      <td id=\"T_25ab1_row0_col11\" class=\"data row0 col11\" >$0.00M</td>\n",
       "    </tr>\n",
       "    <tr>\n",
       "      <th id=\"T_25ab1_level0_row1\" class=\"row_heading level0 row1\" >1</th>\n",
       "      <td id=\"T_25ab1_row1_col0\" class=\"data row1 col0\" >Weighted</td>\n",
       "      <td id=\"T_25ab1_row1_col1\" class=\"data row1 col1\" >208365</td>\n",
       "      <td id=\"T_25ab1_row1_col2\" class=\"data row1 col2\" >60.6%</td>\n",
       "      <td id=\"T_25ab1_row1_col3\" class=\"data row1 col3\" >39.4%</td>\n",
       "      <td id=\"T_25ab1_row1_col4\" class=\"data row1 col4\" >31910</td>\n",
       "      <td id=\"T_25ab1_row1_col5\" class=\"data row1 col5\" >15.31%</td>\n",
       "      <td id=\"T_25ab1_row1_col6\" class=\"data row1 col6\" >$308.29M</td>\n",
       "      <td id=\"T_25ab1_row1_col7\" class=\"data row1 col7\" >$51.43M</td>\n",
       "      <td id=\"T_25ab1_row1_col8\" class=\"data row1 col8\" >16.68%</td>\n",
       "      <td id=\"T_25ab1_row1_col9\" class=\"data row1 col9\" >$39.32M</td>\n",
       "      <td id=\"T_25ab1_row1_col10\" class=\"data row1 col10\" >$138.73M</td>\n",
       "      <td id=\"T_25ab1_row1_col11\" class=\"data row1 col11\" >$2.42M</td>\n",
       "    </tr>\n",
       "    <tr>\n",
       "      <th id=\"T_25ab1_level0_row2\" class=\"row_heading level0 row2\" >2</th>\n",
       "      <td id=\"T_25ab1_row2_col0\" class=\"data row2 col0\" >Undersampled</td>\n",
       "      <td id=\"T_25ab1_row2_col1\" class=\"data row2 col1\" >211632</td>\n",
       "      <td id=\"T_25ab1_row2_col2\" class=\"data row2 col2\" >61.6%</td>\n",
       "      <td id=\"T_25ab1_row2_col3\" class=\"data row2 col3\" >38.4%</td>\n",
       "      <td id=\"T_25ab1_row2_col4\" class=\"data row2 col4\" >32727</td>\n",
       "      <td id=\"T_25ab1_row2_col5\" class=\"data row2 col5\" >15.46%</td>\n",
       "      <td id=\"T_25ab1_row2_col6\" class=\"data row2 col6\" >$306.99M</td>\n",
       "      <td id=\"T_25ab1_row2_col7\" class=\"data row2 col7\" >$51.21M</td>\n",
       "      <td id=\"T_25ab1_row2_col8\" class=\"data row2 col8\" >16.68%</td>\n",
       "      <td id=\"T_25ab1_row2_col9\" class=\"data row2 col9\" >$39.00M</td>\n",
       "      <td id=\"T_25ab1_row2_col10\" class=\"data row2 col10\" >$138.15M</td>\n",
       "      <td id=\"T_25ab1_row2_col11\" class=\"data row2 col11\" >$2.73M</td>\n",
       "    </tr>\n",
       "    <tr>\n",
       "      <th id=\"T_25ab1_level0_row3\" class=\"row_heading level0 row3\" >3</th>\n",
       "      <td id=\"T_25ab1_row3_col0\" class=\"data row3 col0\" >Xgboost</td>\n",
       "      <td id=\"T_25ab1_row3_col1\" class=\"data row3 col1\" >213092</td>\n",
       "      <td id=\"T_25ab1_row3_col2\" class=\"data row3 col2\" >62.0%</td>\n",
       "      <td id=\"T_25ab1_row3_col3\" class=\"data row3 col3\" >38.0%</td>\n",
       "      <td id=\"T_25ab1_row3_col4\" class=\"data row3 col4\" >31410</td>\n",
       "      <td id=\"T_25ab1_row3_col5\" class=\"data row3 col5\" >14.74%</td>\n",
       "      <td id=\"T_25ab1_row3_col6\" class=\"data row3 col6\" >$302.69M</td>\n",
       "      <td id=\"T_25ab1_row3_col7\" class=\"data row3 col7\" >$47.15M</td>\n",
       "      <td id=\"T_25ab1_row3_col8\" class=\"data row3 col8\" >15.58%</td>\n",
       "      <td id=\"T_25ab1_row3_col9\" class=\"data row3 col9\" >$35.56M</td>\n",
       "      <td id=\"T_25ab1_row3_col10\" class=\"data row3 col10\" >$136.21M</td>\n",
       "      <td id=\"T_25ab1_row3_col11\" class=\"data row3 col11\" >$6.17M</td>\n",
       "    </tr>\n",
       "  </tbody>\n",
       "</table>\n"
      ],
      "text/plain": [
       "<IPython.core.display.HTML object>"
      ]
     },
     "metadata": {},
     "output_type": "display_data"
    },
    {
     "data": {
      "application/vnd.plotly.v1+json": {
       "config": {
        "plotlyServerURL": "https://plot.ly"
       },
       "data": [
        {
         "legendgroup": "Approved",
         "marker": {
          "color": "#cfe2f3"
         },
         "name": "Approved (%)",
         "showlegend": true,
         "type": "bar",
         "x": [
          "Baseline"
         ],
         "xaxis": "x",
         "y": [
          62.7268946301483
         ],
         "yaxis": "y"
        },
        {
         "legendgroup": "Rejected",
         "marker": {
          "color": "#b4a7d6"
         },
         "name": "Rejected (%)",
         "showlegend": true,
         "type": "bar",
         "x": [
          "Baseline"
         ],
         "xaxis": "x",
         "y": [
          37.2731053698517
         ],
         "yaxis": "y"
        },
        {
         "legendgroup": "Approved",
         "marker": {
          "color": "#cfe2f3"
         },
         "showlegend": false,
         "type": "bar",
         "x": [
          "Weighted"
         ],
         "xaxis": "x",
         "y": [
          60.60169794693261
         ],
         "yaxis": "y"
        },
        {
         "legendgroup": "Rejected",
         "marker": {
          "color": "#b4a7d6"
         },
         "showlegend": false,
         "type": "bar",
         "x": [
          "Weighted"
         ],
         "xaxis": "x",
         "y": [
          39.39830205306738
         ],
         "yaxis": "y"
        },
        {
         "legendgroup": "Approved",
         "marker": {
          "color": "#cfe2f3"
         },
         "showlegend": false,
         "type": "bar",
         "x": [
          "Undersampled"
         ],
         "xaxis": "x",
         "y": [
          61.551885105009205
         ],
         "yaxis": "y"
        },
        {
         "legendgroup": "Rejected",
         "marker": {
          "color": "#b4a7d6"
         },
         "showlegend": false,
         "type": "bar",
         "x": [
          "Undersampled"
         ],
         "xaxis": "x",
         "y": [
          38.448114894990795
         ],
         "yaxis": "y"
        },
        {
         "legendgroup": "Approved",
         "marker": {
          "color": "#cfe2f3"
         },
         "showlegend": false,
         "type": "bar",
         "x": [
          "Xgboost"
         ],
         "xaxis": "x",
         "y": [
          61.97651726013373
         ],
         "yaxis": "y"
        },
        {
         "legendgroup": "Rejected",
         "marker": {
          "color": "#b4a7d6"
         },
         "showlegend": false,
         "type": "bar",
         "x": [
          "Xgboost"
         ],
         "xaxis": "x",
         "y": [
          38.023482739866274
         ],
         "yaxis": "y"
        },
        {
         "legendgroup": "Expected Loss",
         "marker": {
          "color": "#92bde4"
         },
         "name": "Expected Loss ($M)",
         "showlegend": true,
         "type": "bar",
         "x": [
          "Baseline"
         ],
         "xaxis": "x2",
         "y": [
          41.73184796
         ],
         "yaxis": "y2"
        },
        {
         "legendgroup": "Expected Loss",
         "marker": {
          "color": "#92bde4"
         },
         "showlegend": false,
         "type": "bar",
         "x": [
          "Weighted"
         ],
         "xaxis": "x2",
         "y": [
          39.31511814
         ],
         "yaxis": "y2"
        },
        {
         "legendgroup": "Net Savings",
         "marker": {
          "color": "#9294e4"
         },
         "name": "Net Savings ($M)",
         "showlegend": true,
         "type": "bar",
         "x": [
          "Weighted"
         ],
         "xaxis": "x2",
         "y": [
          2.4167298200000005
         ],
         "yaxis": "y2"
        },
        {
         "legendgroup": "Expected Loss",
         "marker": {
          "color": "#92bde4"
         },
         "showlegend": false,
         "type": "bar",
         "x": [
          "Undersampled"
         ],
         "xaxis": "x2",
         "y": [
          39.00248743
         ],
         "yaxis": "y2"
        },
        {
         "legendgroup": "Net Savings",
         "marker": {
          "color": "#9294e4"
         },
         "showlegend": false,
         "type": "bar",
         "x": [
          "Undersampled"
         ],
         "xaxis": "x2",
         "y": [
          2.729360530000001
         ],
         "yaxis": "y2"
        },
        {
         "legendgroup": "Expected Loss",
         "marker": {
          "color": "#92bde4"
         },
         "showlegend": false,
         "type": "bar",
         "x": [
          "Xgboost"
         ],
         "xaxis": "x2",
         "y": [
          35.5637011
         ],
         "yaxis": "y2"
        },
        {
         "legendgroup": "Net Savings",
         "marker": {
          "color": "#9294e4"
         },
         "showlegend": false,
         "type": "bar",
         "x": [
          "Xgboost"
         ],
         "xaxis": "x2",
         "y": [
          6.16814686
         ],
         "yaxis": "y2"
        },
        {
         "legendgroup": "Loss Rate",
         "marker": {
          "color": "#cfd0f3"
         },
         "name": "Loss Rate (%)",
         "showlegend": true,
         "type": "bar",
         "x": [
          "Baseline"
         ],
         "xaxis": "x3",
         "y": [
          17.077163962355566
         ],
         "yaxis": "y3"
        },
        {
         "legendgroup": "Loss Rate",
         "marker": {
          "color": "#cfd0f3"
         },
         "showlegend": false,
         "type": "bar",
         "x": [
          "Weighted"
         ],
         "xaxis": "x3",
         "y": [
          16.682281206881104
         ],
         "yaxis": "y3"
        },
        {
         "legendgroup": "Loss Rate",
         "marker": {
          "color": "#cfd0f3"
         },
         "showlegend": false,
         "type": "bar",
         "x": [
          "Undersampled"
         ],
         "xaxis": "x3",
         "y": [
          16.682007819957104
         ],
         "yaxis": "y3"
        },
        {
         "legendgroup": "Loss Rate",
         "marker": {
          "color": "#cfd0f3"
         },
         "showlegend": false,
         "type": "bar",
         "x": [
          "Xgboost"
         ],
         "xaxis": "x3",
         "y": [
          15.577423066462353
         ],
         "yaxis": "y3"
        },
        {
         "legendgroup": "Default Rate",
         "marker": {
          "color": "#5598d5"
         },
         "name": "Default Rate (%)",
         "showlegend": true,
         "type": "bar",
         "x": [
          "Baseline"
         ],
         "xaxis": "x4",
         "y": [
          15.617697243963056
         ],
         "yaxis": "y4"
        },
        {
         "legendgroup": "Default Rate",
         "marker": {
          "color": "#5598d5"
         },
         "showlegend": false,
         "type": "bar",
         "x": [
          "Weighted"
         ],
         "xaxis": "x4",
         "y": [
          15.314472200225564
         ],
         "yaxis": "y4"
        },
        {
         "legendgroup": "Default Rate",
         "marker": {
          "color": "#5598d5"
         },
         "showlegend": false,
         "type": "bar",
         "x": [
          "Undersampled"
         ],
         "xaxis": "x4",
         "y": [
          15.464107507371287
         ],
         "yaxis": "y4"
        },
        {
         "legendgroup": "Default Rate",
         "marker": {
          "color": "#5598d5"
         },
         "showlegend": false,
         "type": "bar",
         "x": [
          "Xgboost"
         ],
         "xaxis": "x4",
         "y": [
          14.740112251985057
         ],
         "yaxis": "y4"
        }
       ],
       "layout": {
        "annotations": [
         {
          "font": {
           "size": 16
          },
          "showarrow": false,
          "text": "Portfolio Composition (%)",
          "x": 0.225,
          "xanchor": "center",
          "xref": "paper",
          "y": 1,
          "yanchor": "bottom",
          "yref": "paper"
         },
         {
          "font": {
           "size": 16
          },
          "showarrow": false,
          "text": "Economic Impact ($M)",
          "x": 0.775,
          "xanchor": "center",
          "xref": "paper",
          "y": 1,
          "yanchor": "bottom",
          "yref": "paper"
         },
         {
          "font": {
           "size": 16
          },
          "showarrow": false,
          "text": "Loss Metrics (%)",
          "x": 0.225,
          "xanchor": "center",
          "xref": "paper",
          "y": 0.425,
          "yanchor": "bottom",
          "yref": "paper"
         },
         {
          "font": {
           "size": 16
          },
          "showarrow": false,
          "text": "Default Rate Comparison (%)",
          "x": 0.775,
          "xanchor": "center",
          "xref": "paper",
          "y": 0.425,
          "yanchor": "bottom",
          "yref": "paper"
         },
         {
          "font": {
           "color": "black",
           "size": 10
          },
          "showarrow": false,
          "text": "62.7%",
          "x": "Baseline",
          "xref": "x",
          "y": 31.36344731507415,
          "yref": "y"
         },
         {
          "font": {
           "color": "white",
           "size": 10
          },
          "showarrow": false,
          "text": "17.1%",
          "x": "Baseline",
          "xref": "x3",
          "y": 8.538581981177783,
          "yref": "y3"
         },
         {
          "font": {
           "color": "white",
           "size": 10
          },
          "showarrow": false,
          "text": "15.6%",
          "x": "Baseline",
          "xref": "x4",
          "y": 7.808848621981528,
          "yref": "y4"
         },
         {
          "font": {
           "color": "black",
           "size": 10
          },
          "showarrow": false,
          "text": "60.6%",
          "x": "Weighted",
          "xref": "x",
          "y": 30.300848973466305,
          "yref": "y"
         },
         {
          "font": {
           "color": "white",
           "size": 10
          },
          "showarrow": false,
          "text": "16.7%",
          "x": "Weighted",
          "xref": "x3",
          "y": 8.341140603440552,
          "yref": "y3"
         },
         {
          "font": {
           "color": "white",
           "size": 10
          },
          "showarrow": false,
          "text": "15.3%",
          "x": "Weighted",
          "xref": "x4",
          "y": 7.657236100112782,
          "yref": "y4"
         },
         {
          "font": {
           "color": "black",
           "size": 10
          },
          "showarrow": false,
          "text": "61.6%",
          "x": "Undersampled",
          "xref": "x",
          "y": 30.775942552504603,
          "yref": "y"
         },
         {
          "font": {
           "color": "white",
           "size": 10
          },
          "showarrow": false,
          "text": "16.7%",
          "x": "Undersampled",
          "xref": "x3",
          "y": 8.341003909978552,
          "yref": "y3"
         },
         {
          "font": {
           "color": "white",
           "size": 10
          },
          "showarrow": false,
          "text": "15.5%",
          "x": "Undersampled",
          "xref": "x4",
          "y": 7.732053753685643,
          "yref": "y4"
         },
         {
          "font": {
           "color": "black",
           "size": 10
          },
          "showarrow": false,
          "text": "62.0%",
          "x": "Xgboost",
          "xref": "x",
          "y": 30.988258630066866,
          "yref": "y"
         },
         {
          "font": {
           "color": "white",
           "size": 10
          },
          "showarrow": false,
          "text": "15.6%",
          "x": "Xgboost",
          "xref": "x3",
          "y": 7.788711533231177,
          "yref": "y3"
         },
         {
          "font": {
           "color": "white",
           "size": 10
          },
          "showarrow": false,
          "text": "14.7%",
          "x": "Xgboost",
          "xref": "x4",
          "y": 7.370056125992528,
          "yref": "y4"
         }
        ],
        "barmode": "stack",
        "font": {
         "family": "Arial",
         "size": 12
        },
        "height": 800,
        "legend": {
         "orientation": "h",
         "x": 1,
         "xanchor": "right",
         "y": 1.02,
         "yanchor": "bottom"
        },
        "template": {
         "data": {
          "bar": [
           {
            "error_x": {
             "color": "#2a3f5f"
            },
            "error_y": {
             "color": "#2a3f5f"
            },
            "marker": {
             "line": {
              "color": "white",
              "width": 0.5
             },
             "pattern": {
              "fillmode": "overlay",
              "size": 10,
              "solidity": 0.2
             }
            },
            "type": "bar"
           }
          ],
          "barpolar": [
           {
            "marker": {
             "line": {
              "color": "white",
              "width": 0.5
             },
             "pattern": {
              "fillmode": "overlay",
              "size": 10,
              "solidity": 0.2
             }
            },
            "type": "barpolar"
           }
          ],
          "carpet": [
           {
            "aaxis": {
             "endlinecolor": "#2a3f5f",
             "gridcolor": "#C8D4E3",
             "linecolor": "#C8D4E3",
             "minorgridcolor": "#C8D4E3",
             "startlinecolor": "#2a3f5f"
            },
            "baxis": {
             "endlinecolor": "#2a3f5f",
             "gridcolor": "#C8D4E3",
             "linecolor": "#C8D4E3",
             "minorgridcolor": "#C8D4E3",
             "startlinecolor": "#2a3f5f"
            },
            "type": "carpet"
           }
          ],
          "choropleth": [
           {
            "colorbar": {
             "outlinewidth": 0,
             "ticks": ""
            },
            "type": "choropleth"
           }
          ],
          "contour": [
           {
            "colorbar": {
             "outlinewidth": 0,
             "ticks": ""
            },
            "colorscale": [
             [
              0,
              "#0d0887"
             ],
             [
              0.1111111111111111,
              "#46039f"
             ],
             [
              0.2222222222222222,
              "#7201a8"
             ],
             [
              0.3333333333333333,
              "#9c179e"
             ],
             [
              0.4444444444444444,
              "#bd3786"
             ],
             [
              0.5555555555555556,
              "#d8576b"
             ],
             [
              0.6666666666666666,
              "#ed7953"
             ],
             [
              0.7777777777777778,
              "#fb9f3a"
             ],
             [
              0.8888888888888888,
              "#fdca26"
             ],
             [
              1,
              "#f0f921"
             ]
            ],
            "type": "contour"
           }
          ],
          "contourcarpet": [
           {
            "colorbar": {
             "outlinewidth": 0,
             "ticks": ""
            },
            "type": "contourcarpet"
           }
          ],
          "heatmap": [
           {
            "colorbar": {
             "outlinewidth": 0,
             "ticks": ""
            },
            "colorscale": [
             [
              0,
              "#0d0887"
             ],
             [
              0.1111111111111111,
              "#46039f"
             ],
             [
              0.2222222222222222,
              "#7201a8"
             ],
             [
              0.3333333333333333,
              "#9c179e"
             ],
             [
              0.4444444444444444,
              "#bd3786"
             ],
             [
              0.5555555555555556,
              "#d8576b"
             ],
             [
              0.6666666666666666,
              "#ed7953"
             ],
             [
              0.7777777777777778,
              "#fb9f3a"
             ],
             [
              0.8888888888888888,
              "#fdca26"
             ],
             [
              1,
              "#f0f921"
             ]
            ],
            "type": "heatmap"
           }
          ],
          "histogram": [
           {
            "marker": {
             "pattern": {
              "fillmode": "overlay",
              "size": 10,
              "solidity": 0.2
             }
            },
            "type": "histogram"
           }
          ],
          "histogram2d": [
           {
            "colorbar": {
             "outlinewidth": 0,
             "ticks": ""
            },
            "colorscale": [
             [
              0,
              "#0d0887"
             ],
             [
              0.1111111111111111,
              "#46039f"
             ],
             [
              0.2222222222222222,
              "#7201a8"
             ],
             [
              0.3333333333333333,
              "#9c179e"
             ],
             [
              0.4444444444444444,
              "#bd3786"
             ],
             [
              0.5555555555555556,
              "#d8576b"
             ],
             [
              0.6666666666666666,
              "#ed7953"
             ],
             [
              0.7777777777777778,
              "#fb9f3a"
             ],
             [
              0.8888888888888888,
              "#fdca26"
             ],
             [
              1,
              "#f0f921"
             ]
            ],
            "type": "histogram2d"
           }
          ],
          "histogram2dcontour": [
           {
            "colorbar": {
             "outlinewidth": 0,
             "ticks": ""
            },
            "colorscale": [
             [
              0,
              "#0d0887"
             ],
             [
              0.1111111111111111,
              "#46039f"
             ],
             [
              0.2222222222222222,
              "#7201a8"
             ],
             [
              0.3333333333333333,
              "#9c179e"
             ],
             [
              0.4444444444444444,
              "#bd3786"
             ],
             [
              0.5555555555555556,
              "#d8576b"
             ],
             [
              0.6666666666666666,
              "#ed7953"
             ],
             [
              0.7777777777777778,
              "#fb9f3a"
             ],
             [
              0.8888888888888888,
              "#fdca26"
             ],
             [
              1,
              "#f0f921"
             ]
            ],
            "type": "histogram2dcontour"
           }
          ],
          "mesh3d": [
           {
            "colorbar": {
             "outlinewidth": 0,
             "ticks": ""
            },
            "type": "mesh3d"
           }
          ],
          "parcoords": [
           {
            "line": {
             "colorbar": {
              "outlinewidth": 0,
              "ticks": ""
             }
            },
            "type": "parcoords"
           }
          ],
          "pie": [
           {
            "automargin": true,
            "type": "pie"
           }
          ],
          "scatter": [
           {
            "fillpattern": {
             "fillmode": "overlay",
             "size": 10,
             "solidity": 0.2
            },
            "type": "scatter"
           }
          ],
          "scatter3d": [
           {
            "line": {
             "colorbar": {
              "outlinewidth": 0,
              "ticks": ""
             }
            },
            "marker": {
             "colorbar": {
              "outlinewidth": 0,
              "ticks": ""
             }
            },
            "type": "scatter3d"
           }
          ],
          "scattercarpet": [
           {
            "marker": {
             "colorbar": {
              "outlinewidth": 0,
              "ticks": ""
             }
            },
            "type": "scattercarpet"
           }
          ],
          "scattergeo": [
           {
            "marker": {
             "colorbar": {
              "outlinewidth": 0,
              "ticks": ""
             }
            },
            "type": "scattergeo"
           }
          ],
          "scattergl": [
           {
            "marker": {
             "colorbar": {
              "outlinewidth": 0,
              "ticks": ""
             }
            },
            "type": "scattergl"
           }
          ],
          "scattermap": [
           {
            "marker": {
             "colorbar": {
              "outlinewidth": 0,
              "ticks": ""
             }
            },
            "type": "scattermap"
           }
          ],
          "scattermapbox": [
           {
            "marker": {
             "colorbar": {
              "outlinewidth": 0,
              "ticks": ""
             }
            },
            "type": "scattermapbox"
           }
          ],
          "scatterpolar": [
           {
            "marker": {
             "colorbar": {
              "outlinewidth": 0,
              "ticks": ""
             }
            },
            "type": "scatterpolar"
           }
          ],
          "scatterpolargl": [
           {
            "marker": {
             "colorbar": {
              "outlinewidth": 0,
              "ticks": ""
             }
            },
            "type": "scatterpolargl"
           }
          ],
          "scatterternary": [
           {
            "marker": {
             "colorbar": {
              "outlinewidth": 0,
              "ticks": ""
             }
            },
            "type": "scatterternary"
           }
          ],
          "surface": [
           {
            "colorbar": {
             "outlinewidth": 0,
             "ticks": ""
            },
            "colorscale": [
             [
              0,
              "#0d0887"
             ],
             [
              0.1111111111111111,
              "#46039f"
             ],
             [
              0.2222222222222222,
              "#7201a8"
             ],
             [
              0.3333333333333333,
              "#9c179e"
             ],
             [
              0.4444444444444444,
              "#bd3786"
             ],
             [
              0.5555555555555556,
              "#d8576b"
             ],
             [
              0.6666666666666666,
              "#ed7953"
             ],
             [
              0.7777777777777778,
              "#fb9f3a"
             ],
             [
              0.8888888888888888,
              "#fdca26"
             ],
             [
              1,
              "#f0f921"
             ]
            ],
            "type": "surface"
           }
          ],
          "table": [
           {
            "cells": {
             "fill": {
              "color": "#EBF0F8"
             },
             "line": {
              "color": "white"
             }
            },
            "header": {
             "fill": {
              "color": "#C8D4E3"
             },
             "line": {
              "color": "white"
             }
            },
            "type": "table"
           }
          ]
         },
         "layout": {
          "annotationdefaults": {
           "arrowcolor": "#2a3f5f",
           "arrowhead": 0,
           "arrowwidth": 1
          },
          "autotypenumbers": "strict",
          "coloraxis": {
           "colorbar": {
            "outlinewidth": 0,
            "ticks": ""
           }
          },
          "colorscale": {
           "diverging": [
            [
             0,
             "#8e0152"
            ],
            [
             0.1,
             "#c51b7d"
            ],
            [
             0.2,
             "#de77ae"
            ],
            [
             0.3,
             "#f1b6da"
            ],
            [
             0.4,
             "#fde0ef"
            ],
            [
             0.5,
             "#f7f7f7"
            ],
            [
             0.6,
             "#e6f5d0"
            ],
            [
             0.7,
             "#b8e186"
            ],
            [
             0.8,
             "#7fbc41"
            ],
            [
             0.9,
             "#4d9221"
            ],
            [
             1,
             "#276419"
            ]
           ],
           "sequential": [
            [
             0,
             "#0d0887"
            ],
            [
             0.1111111111111111,
             "#46039f"
            ],
            [
             0.2222222222222222,
             "#7201a8"
            ],
            [
             0.3333333333333333,
             "#9c179e"
            ],
            [
             0.4444444444444444,
             "#bd3786"
            ],
            [
             0.5555555555555556,
             "#d8576b"
            ],
            [
             0.6666666666666666,
             "#ed7953"
            ],
            [
             0.7777777777777778,
             "#fb9f3a"
            ],
            [
             0.8888888888888888,
             "#fdca26"
            ],
            [
             1,
             "#f0f921"
            ]
           ],
           "sequentialminus": [
            [
             0,
             "#0d0887"
            ],
            [
             0.1111111111111111,
             "#46039f"
            ],
            [
             0.2222222222222222,
             "#7201a8"
            ],
            [
             0.3333333333333333,
             "#9c179e"
            ],
            [
             0.4444444444444444,
             "#bd3786"
            ],
            [
             0.5555555555555556,
             "#d8576b"
            ],
            [
             0.6666666666666666,
             "#ed7953"
            ],
            [
             0.7777777777777778,
             "#fb9f3a"
            ],
            [
             0.8888888888888888,
             "#fdca26"
            ],
            [
             1,
             "#f0f921"
            ]
           ]
          },
          "colorway": [
           "#636efa",
           "#EF553B",
           "#00cc96",
           "#ab63fa",
           "#FFA15A",
           "#19d3f3",
           "#FF6692",
           "#B6E880",
           "#FF97FF",
           "#FECB52"
          ],
          "font": {
           "color": "#2a3f5f"
          },
          "geo": {
           "bgcolor": "white",
           "lakecolor": "white",
           "landcolor": "white",
           "showlakes": true,
           "showland": true,
           "subunitcolor": "#C8D4E3"
          },
          "hoverlabel": {
           "align": "left"
          },
          "hovermode": "closest",
          "mapbox": {
           "style": "light"
          },
          "paper_bgcolor": "white",
          "plot_bgcolor": "white",
          "polar": {
           "angularaxis": {
            "gridcolor": "#EBF0F8",
            "linecolor": "#EBF0F8",
            "ticks": ""
           },
           "bgcolor": "white",
           "radialaxis": {
            "gridcolor": "#EBF0F8",
            "linecolor": "#EBF0F8",
            "ticks": ""
           }
          },
          "scene": {
           "xaxis": {
            "backgroundcolor": "white",
            "gridcolor": "#DFE8F3",
            "gridwidth": 2,
            "linecolor": "#EBF0F8",
            "showbackground": true,
            "ticks": "",
            "zerolinecolor": "#EBF0F8"
           },
           "yaxis": {
            "backgroundcolor": "white",
            "gridcolor": "#DFE8F3",
            "gridwidth": 2,
            "linecolor": "#EBF0F8",
            "showbackground": true,
            "ticks": "",
            "zerolinecolor": "#EBF0F8"
           },
           "zaxis": {
            "backgroundcolor": "white",
            "gridcolor": "#DFE8F3",
            "gridwidth": 2,
            "linecolor": "#EBF0F8",
            "showbackground": true,
            "ticks": "",
            "zerolinecolor": "#EBF0F8"
           }
          },
          "shapedefaults": {
           "line": {
            "color": "#2a3f5f"
           }
          },
          "ternary": {
           "aaxis": {
            "gridcolor": "#DFE8F3",
            "linecolor": "#A2B1C6",
            "ticks": ""
           },
           "baxis": {
            "gridcolor": "#DFE8F3",
            "linecolor": "#A2B1C6",
            "ticks": ""
           },
           "bgcolor": "white",
           "caxis": {
            "gridcolor": "#DFE8F3",
            "linecolor": "#A2B1C6",
            "ticks": ""
           }
          },
          "title": {
           "x": 0.05
          },
          "xaxis": {
           "automargin": true,
           "gridcolor": "#EBF0F8",
           "linecolor": "#EBF0F8",
           "ticks": "",
           "title": {
            "standoff": 15
           },
           "zerolinecolor": "#EBF0F8",
           "zerolinewidth": 2
          },
          "yaxis": {
           "automargin": true,
           "gridcolor": "#EBF0F8",
           "linecolor": "#EBF0F8",
           "ticks": "",
           "title": {
            "standoff": 15
           },
           "zerolinecolor": "#EBF0F8",
           "zerolinewidth": 2
          }
         }
        },
        "title": {
         "text": "Cutoff Policy Analysis - Approve up to Decile 6"
        },
        "width": 1000,
        "xaxis": {
         "anchor": "y",
         "domain": [
          0,
          0.45
         ]
        },
        "xaxis2": {
         "anchor": "y2",
         "domain": [
          0.55,
          1
         ]
        },
        "xaxis3": {
         "anchor": "y3",
         "domain": [
          0,
          0.45
         ]
        },
        "xaxis4": {
         "anchor": "y4",
         "domain": [
          0.55,
          1
         ]
        },
        "yaxis": {
         "anchor": "x",
         "domain": [
          0.575,
          1
         ],
         "title": {
          "text": "Portfolio %"
         }
        },
        "yaxis2": {
         "anchor": "x2",
         "domain": [
          0.575,
          1
         ],
         "title": {
          "text": "Amount ($M)"
         }
        },
        "yaxis3": {
         "anchor": "x3",
         "domain": [
          0,
          0.425
         ],
         "title": {
          "text": "Loss Rate (%)"
         }
        },
        "yaxis4": {
         "anchor": "x4",
         "domain": [
          0,
          0.425
         ],
         "title": {
          "text": "Default Rate (%)"
         }
        }
       }
      }
     },
     "metadata": {},
     "output_type": "display_data"
    }
   ],
   "source": [
    "import pandas as pd\n",
    "import numpy as np\n",
    "import plotly.express as px\n",
    "import plotly.graph_objects as go\n",
    "from plotly.subplots import make_subplots\n",
    "\n",
    "# Define the color palette used in your project\n",
    "colors = {\n",
    "    'Baseline': '#213092',  # blue\n",
    "    'Weighted': '#213092',  # orange\n",
    "    'Undersampled': '#213092',  # green\n",
    "    'Xgboost': '#213092'    # red\n",
    "}\n",
    "\n",
    "# Extract data for decile 6 from each model\n",
    "models = ['Baseline', 'Weighted', 'Undersampled', 'Xgboost']\n",
    "decile = 6\n",
    "\n",
    "# First, let's identify the correct decile column names\n",
    "# Print the column names to find the decile columns\n",
    "print(\"Available columns in df_with_deciles:\")\n",
    "for col in df_with_deciles.columns:\n",
    "    if 'decile' in col.lower():\n",
    "        print(f\"  - {col}\")\n",
    "\n",
    "# Create a mapping from model names to their corresponding decile column names\n",
    "decile_columns = {}\n",
    "for model in models:\n",
    "    # Try different possible naming patterns\n",
    "    possible_names = [\n",
    "        f\"decile_{model}\",\n",
    "        f\"decile{model}\",\n",
    "        f\"{model}_decile\",\n",
    "        f\"{model.lower()}_decile\",\n",
    "        f\"decile_{model.lower()}\"\n",
    "    ]\n",
    "    \n",
    "    found = False\n",
    "    for name in possible_names:\n",
    "        if name in df_with_deciles.columns:\n",
    "            decile_columns[model] = name\n",
    "            found = True\n",
    "            break\n",
    "    \n",
    "    if not found:\n",
    "        # If we still haven't found it, look for partial matches\n",
    "        for col in df_with_deciles.columns:\n",
    "            if model.lower() in col.lower() and 'decile' in col.lower():\n",
    "                decile_columns[model] = col\n",
    "                found = True\n",
    "                break\n",
    "    \n",
    "    if not found:\n",
    "        print(f\"Warning: Could not find decile column for model {model}\")\n",
    "\n",
    "print(\"\\nIdentified decile columns:\")\n",
    "for model, col in decile_columns.items():\n",
    "    print(f\"  {model}: {col}\")\n",
    "\n",
    "# Create empty dictionaries to store raw counts and amounts\n",
    "model_stats = {}\n",
    "\n",
    "for model in models:\n",
    "    # Skip models without identified decile columns\n",
    "    if model not in decile_columns:\n",
    "        print(f\"Skipping {model} - no decile column found\")\n",
    "        continue\n",
    "        \n",
    "    # Get the column name for this model's decile\n",
    "    decile_col = decile_columns[model]\n",
    "    \n",
    "    # Filter test set data\n",
    "    test_data = df_with_deciles[df_with_deciles['Set'] == 'Test'].copy()\n",
    "    \n",
    "    # Count total loans\n",
    "    total_loans = len(test_data)\n",
    "    \n",
    "    # Calculate approved loans (deciles 1-6)\n",
    "    approved_loans = test_data[test_data[decile_col] <= decile].shape[0]\n",
    "    rejected_loans = total_loans - approved_loans\n",
    "    \n",
    "    # Calculate total exposure (loan amount) for approved loans\n",
    "    approved_exposure = test_data[test_data[decile_col] <= decile]['real_loan_amnt'].sum()\n",
    "    \n",
    "    # Calculate defaulted loans and exposure within approved loans\n",
    "    defaulted_loans = test_data[(test_data[decile_col] <= decile) & (test_data['target'] == 1)].shape[0]\n",
    "    defaulted_exposure = test_data[(test_data[decile_col] <= decile) & (test_data['target'] == 1)]['real_loan_amnt'].sum()\n",
    "    \n",
    "    # Calculate expected loss (using LGD if available)\n",
    "    if 'lgd' in test_data.columns:\n",
    "        expected_loss = test_data[(test_data[decile_col] <= decile) & (test_data['target'] == 1)].apply(\n",
    "            lambda row: row['real_loan_amnt'] * row['lgd'], axis=1).sum()\n",
    "    else:\n",
    "        # Use default LGD of 0.6\n",
    "        expected_loss = defaulted_exposure * 0.6\n",
    "    \n",
    "    # Calculate interest revenue (if interest rate and term are available)\n",
    "    if 'interest_rate' in test_data.columns and 'term' in test_data.columns:\n",
    "        interest_revenue = test_data[test_data[decile_col] <= decile].apply(\n",
    "            lambda row: row['real_loan_amnt'] * row['interest_rate'] * (row['term']/12), axis=1).sum()\n",
    "    else:\n",
    "        # Use default interest rate of 15% and term of 36 months\n",
    "        interest_revenue = approved_exposure * 0.15 * (36/12)\n",
    "    \n",
    "    # Store all calculated metrics\n",
    "    model_stats[model] = {\n",
    "        'total_loans': total_loans,\n",
    "        'approved_loans': approved_loans,\n",
    "        'rejected_loans': rejected_loans,\n",
    "        'approved_pct': (approved_loans / total_loans) * 100,\n",
    "        'rejected_pct': (rejected_loans / total_loans) * 100,\n",
    "        'approved_exposure': approved_exposure,\n",
    "        'defaulted_loans': defaulted_loans,\n",
    "        'defaulted_exposure': defaulted_exposure,\n",
    "        'default_rate': (defaulted_loans / approved_loans) * 100 if approved_loans > 0 else 0,\n",
    "        'loss_rate': (defaulted_exposure / approved_exposure) * 100 if approved_exposure > 0 else 0,\n",
    "        'expected_loss': expected_loss / 1000000,  # Convert to millions\n",
    "        'interest_revenue': interest_revenue / 1000000,  # Convert to millions\n",
    "    }\n",
    "\n",
    "# Calculate net savings compared to baseline (for non-baseline models)\n",
    "if 'Baseline' in model_stats:\n",
    "    baseline_expected_loss = model_stats['Baseline']['expected_loss']\n",
    "    for model in models:\n",
    "        if model in model_stats and model != 'Baseline':\n",
    "            model_stats[model]['net_savings'] = baseline_expected_loss - model_stats[model]['expected_loss']\n",
    "    model_stats['Baseline']['net_savings'] = 0\n",
    "\n",
    "# Print calculated metrics for verification\n",
    "print(\"\\nCalculated metrics from raw data:\")\n",
    "for model in models:\n",
    "    if model in model_stats:\n",
    "        print(f\"\\n{model}:\")\n",
    "        print(f\"  Approved: {model_stats[model]['approved_loans']:,} loans ({model_stats[model]['approved_pct']:.1f}%)\")\n",
    "        print(f\"  Default Rate: {model_stats[model]['default_rate']:.2f}%\")\n",
    "        print(f\"  Loss Rate: {model_stats[model]['loss_rate']:.2f}%\")\n",
    "        print(f\"  Expected Loss: ${model_stats[model]['expected_loss']:.2f}M\")\n",
    "        if model != 'Baseline' and 'Baseline' in model_stats:\n",
    "            print(f\"  Net Savings vs Baseline: ${model_stats[model]['net_savings']:.2f}M\")\n",
    "\n",
    "# Create a comprehensive data table for comparison\n",
    "if model_stats:\n",
    "    # Create a DataFrame with all metrics for easy comparison\n",
    "    comparison_data = []\n",
    "    \n",
    "    for model in models:\n",
    "        if model in model_stats:\n",
    "            row = {\n",
    "                'Model': model,\n",
    "                'Approved Loans': model_stats[model]['approved_loans'],\n",
    "                'Approved (%)': model_stats[model]['approved_pct'],\n",
    "                'Rejected (%)': model_stats[model]['rejected_pct'],\n",
    "                'Defaulted Loans': model_stats[model]['defaulted_loans'],\n",
    "                'Default Rate (%)': model_stats[model]['default_rate'],\n",
    "                'Approved Exposure ($M)': model_stats[model]['approved_exposure'] / 1000000,\n",
    "                'Defaulted Exposure ($M)': model_stats[model]['defaulted_exposure'] / 1000000,\n",
    "                'Loss Rate (%)': model_stats[model]['loss_rate'],\n",
    "                'Expected Loss ($M)': model_stats[model]['expected_loss'],\n",
    "                'Interest Revenue ($M)': model_stats[model]['interest_revenue'],\n",
    "            }\n",
    "            \n",
    "            if model != 'Baseline' and 'Baseline' in model_stats:\n",
    "                row['Net Savings vs Baseline ($M)'] = model_stats[model]['net_savings']\n",
    "            else:\n",
    "                row['Net Savings vs Baseline ($M)'] = 0\n",
    "                \n",
    "            comparison_data.append(row)\n",
    "    \n",
    "    # Create DataFrame and display\n",
    "    comparison_df = pd.DataFrame(comparison_data)\n",
    "    \n",
    "    # Format the DataFrame for better readability\n",
    "    pd.set_option('display.float_format', '{:.2f}'.format)\n",
    "    \n",
    "    print(\"\\n\\n===== COMPREHENSIVE MODEL COMPARISON (DECILE 6 CUTOFF) =====\")\n",
    "    print(comparison_df)\n",
    "    \n",
    "    # Create a styled HTML table for better visualization\n",
    "    styled_df = comparison_df.style.format({\n",
    "        'Approved (%)': '{:.1f}%',\n",
    "        'Rejected (%)': '{:.1f}%',\n",
    "        'Default Rate (%)': '{:.2f}%',\n",
    "        'Loss Rate (%)': '{:.2f}%',\n",
    "        'Approved Exposure ($M)': '${:.2f}M',\n",
    "        'Defaulted Exposure ($M)': '${:.2f}M',\n",
    "        'Expected Loss ($M)': '${:.2f}M',\n",
    "        'Interest Revenue ($M)': '${:.2f}M',\n",
    "        'Net Savings vs Baseline ($M)': '${:.2f}M'\n",
    "    })\n",
    "    \n",
    "    # Display the styled table\n",
    "    from IPython.display import display, HTML\n",
    "    display(HTML(styled_df.to_html()))\n",
    "\n",
    "# Only proceed with plotting if we have data for at least one model\n",
    "if model_stats:\n",
    "    # Extract data for plotting\n",
    "    plot_models = [model for model in models if model in model_stats]\n",
    "    approved_pct = [model_stats[model]['approved_pct'] for model in plot_models]\n",
    "    rejected_pct = [model_stats[model]['rejected_pct'] for model in plot_models]\n",
    "    default_rate = [model_stats[model]['default_rate'] for model in plot_models]\n",
    "    loss_rate = [model_stats[model]['loss_rate'] for model in plot_models]\n",
    "    expected_loss = [model_stats[model]['expected_loss'] for model in plot_models]\n",
    "    net_savings = [model_stats[model]['net_savings'] for model in plot_models]\n",
    "\n",
    "    # Create a 2x2 subplot figure\n",
    "    fig = make_subplots(\n",
    "        rows=2, cols=2,\n",
    "        subplot_titles=(\n",
    "            'Portfolio Composition (%)', \n",
    "            'Economic Impact ($M)',\n",
    "            'Loss Metrics (%)', \n",
    "            'Default Rate Comparison (%)'\n",
    "        ),\n",
    "        vertical_spacing=0.15,\n",
    "        horizontal_spacing=0.1\n",
    "    )\n",
    "\n",
    "    # 1. Portfolio Composition (top left)\n",
    "    for i, model in enumerate(plot_models):\n",
    "        fig.add_trace(\n",
    "            go.Bar(\n",
    "                x=[model], \n",
    "                y=[approved_pct[i]],\n",
    "                name='Approved (%)' if i == 0 else None,\n",
    "                marker_color='#cfe2f3',\n",
    "                showlegend=i == 0,\n",
    "                legendgroup='Approved'\n",
    "            ),\n",
    "            row=1, col=1\n",
    "        )\n",
    "        \n",
    "        fig.add_trace(\n",
    "            go.Bar(\n",
    "                x=[model], \n",
    "                y=[rejected_pct[i]],\n",
    "                name='Rejected (%)' if i == 0 else None,\n",
    "                marker_color='#b4a7d6',\n",
    "                showlegend=i == 0,\n",
    "                legendgroup='Rejected'\n",
    "            ),\n",
    "            row=1, col=1\n",
    "        )\n",
    "\n",
    "    # 2. Economic Impact (top right)\n",
    "    for i, model in enumerate(plot_models):\n",
    "        fig.add_trace(\n",
    "            go.Bar(\n",
    "                x=[model], \n",
    "                y=[expected_loss[i]],\n",
    "                name='Expected Loss ($M)' if i == 0 else None,\n",
    "                marker_color='#92bde4',\n",
    "                showlegend=i == 0,\n",
    "                legendgroup='Expected Loss'\n",
    "            ),\n",
    "            row=1, col=2\n",
    "        )\n",
    "        \n",
    "        if model != 'Baseline' and 'Baseline' in model_stats:\n",
    "            fig.add_trace(\n",
    "                go.Bar(\n",
    "                    x=[model], \n",
    "                    y=[net_savings[i]],\n",
    "                    name='Net Savings ($M)' if model == plot_models[1] else None,  # Show legend only for first non-baseline model\n",
    "                    marker_color='#9294e4',\n",
    "                    showlegend=model == plot_models[1] if len(plot_models) > 1 else True,\n",
    "                    legendgroup='Net Savings'\n",
    "                ),\n",
    "                row=1, col=2\n",
    "            )\n",
    "\n",
    "    # 3. Loss Metrics (bottom left)\n",
    "    for i, model in enumerate(plot_models):\n",
    "        fig.add_trace(\n",
    "            go.Bar(\n",
    "                x=[model], \n",
    "                y=[loss_rate[i]],\n",
    "                name='Loss Rate (%)' if i == 0 else None,\n",
    "                marker_color='#cfd0f3',\n",
    "                showlegend=i == 0,\n",
    "                legendgroup='Loss Rate'\n",
    "            ),\n",
    "            row=2, col=1\n",
    "        )\n",
    "\n",
    "    # 4. Default Rate Comparison (bottom right)\n",
    "    for i, model in enumerate(plot_models):\n",
    "        fig.add_trace(\n",
    "            go.Bar(\n",
    "                x=[model], \n",
    "                y=[default_rate[i]],\n",
    "                name='Default Rate (%)' if i == 0 else None,\n",
    "                marker_color='#5598d5',\n",
    "                showlegend=i == 0,\n",
    "                legendgroup='Default Rate'\n",
    "            ),\n",
    "            row=2, col=2\n",
    "        )\n",
    "\n",
    "    # Update layout\n",
    "    fig.update_layout(\n",
    "        title='Cutoff Policy Analysis - Approve up to Decile 6',\n",
    "        template='plotly_white',\n",
    "        height=800,\n",
    "        width=1000,\n",
    "        barmode='stack',\n",
    "        legend=dict(\n",
    "            orientation=\"h\",\n",
    "            yanchor=\"bottom\",\n",
    "            y=1.02,\n",
    "            xanchor=\"right\",\n",
    "            x=1\n",
    "        ),\n",
    "        font=dict(family=\"Arial\", size=12)\n",
    "    )\n",
    "\n",
    "    # Update axes\n",
    "    fig.update_yaxes(title_text='Portfolio %', row=1, col=1)\n",
    "    fig.update_yaxes(title_text='Amount ($M)', row=1, col=2)\n",
    "    fig.update_yaxes(title_text='Loss Rate (%)', row=2, col=1)\n",
    "    fig.update_yaxes(title_text='Default Rate (%)', row=2, col=2)\n",
    "\n",
    "    # Add annotations for key metrics\n",
    "    for i, model in enumerate(plot_models):\n",
    "        # Add approval percentage on top left chart\n",
    "        fig.add_annotation(\n",
    "            x=model,\n",
    "            y=approved_pct[i] / 2,\n",
    "            text=f\"{approved_pct[i]:.1f}%\",\n",
    "            showarrow=False,\n",
    "            font=dict(color=\"black\", size=10),\n",
    "            row=1, col=1\n",
    "        )\n",
    "        \n",
    "        # Add loss rate on bottom left chart\n",
    "        fig.add_annotation(\n",
    "            x=model,\n",
    "            y=loss_rate[i] / 2,\n",
    "            text=f\"{loss_rate[i]:.1f}%\",\n",
    "            showarrow=False,\n",
    "            font=dict(color=\"white\", size=10),\n",
    "            row=2, col=1\n",
    "        )\n",
    "        \n",
    "        # Add default rate on bottom right chart\n",
    "        fig.add_annotation(\n",
    "            x=model,\n",
    "            y=default_rate[i] / 2,\n",
    "            text=f\"{default_rate[i]:.1f}%\",\n",
    "            showarrow=False,\n",
    "            font=dict(color=\"white\", size=10),\n",
    "            row=2, col=2\n",
    "        )\n",
    "\n",
    "    # Show the figure\n",
    "    fig.show()\n",
    "else:\n",
    "    print(\"No model data available for plotting.\")"
   ]
  },
  {
   "cell_type": "code",
   "execution_count": null,
   "id": "79c1cc24",
   "metadata": {},
   "outputs": [
    {
     "data": {
      "text/html": [
       "<div>\n",
       "<style scoped>\n",
       "    .dataframe tbody tr th:only-of-type {\n",
       "        vertical-align: middle;\n",
       "    }\n",
       "\n",
       "    .dataframe tbody tr th {\n",
       "        vertical-align: top;\n",
       "    }\n",
       "\n",
       "    .dataframe thead th {\n",
       "        text-align: right;\n",
       "    }\n",
       "</style>\n",
       "<table border=\"1\" class=\"dataframe\">\n",
       "  <thead>\n",
       "    <tr style=\"text-align: right;\">\n",
       "      <th></th>\n",
       "      <th>decile</th>\n",
       "      <th>total_loans</th>\n",
       "      <th>total_exposure</th>\n",
       "      <th>avg_loan_amount</th>\n",
       "      <th>median_loan_amount</th>\n",
       "      <th>defaults</th>\n",
       "      <th>default_rate</th>\n",
       "      <th>expected_loss</th>\n",
       "      <th>annualized_expected_loss</th>\n",
       "      <th>annual_interest_revenue</th>\n",
       "      <th>total_interest_revenue</th>\n",
       "      <th>avg_lgd</th>\n",
       "      <th>avg_interest_rate</th>\n",
       "      <th>avg_term</th>\n",
       "      <th>loss_savings_first</th>\n",
       "      <th>revenue_opportunity_cost_first</th>\n",
       "      <th>net_savings_first</th>\n",
       "      <th>weighted_lgd</th>\n",
       "      <th>weighted_interest_rate</th>\n",
       "      <th>weighted_term</th>\n",
       "      <th>non_defaults</th>\n",
       "      <th>defaulted_exposure</th>\n",
       "      <th>loss_rate</th>\n",
       "      <th>pct_of_loans</th>\n",
       "      <th>pct_of_defaults</th>\n",
       "      <th>pct_of_exposure</th>\n",
       "      <th>lift</th>\n",
       "      <th>cumulative_defaults_pct</th>\n",
       "      <th>cumulative_exposure_pct</th>\n",
       "      <th>cumulative_expected_loss</th>\n",
       "      <th>model</th>\n",
       "    </tr>\n",
       "  </thead>\n",
       "  <tbody>\n",
       "    <tr>\n",
       "      <th>0</th>\n",
       "      <td>1</td>\n",
       "      <td>35627.00</td>\n",
       "      <td>46807850.00</td>\n",
       "      <td>11068.30</td>\n",
       "      <td>9000.00</td>\n",
       "      <td>1762.00</td>\n",
       "      <td>0.05</td>\n",
       "      <td>1546905.00</td>\n",
       "      <td>515635.00</td>\n",
       "      <td>7021177.50</td>\n",
       "      <td>21063532.50</td>\n",
       "      <td>0.60</td>\n",
       "      <td>0.15</td>\n",
       "      <td>36.00</td>\n",
       "      <td>27047110.00</td>\n",
       "      <td>76015016.25</td>\n",
       "      <td>-48967906.25</td>\n",
       "      <td>0.60</td>\n",
       "      <td>0.15</td>\n",
       "      <td>36.00</td>\n",
       "      <td>33865.00</td>\n",
       "      <td>2578175.00</td>\n",
       "      <td>3.30</td>\n",
       "      <td>10.36</td>\n",
       "      <td>2.27</td>\n",
       "      <td>8.46</td>\n",
       "      <td>0.22</td>\n",
       "      <td>2.27</td>\n",
       "      <td>8.46</td>\n",
       "      <td>1546905.00</td>\n",
       "      <td>Xgboost</td>\n",
       "    </tr>\n",
       "    <tr>\n",
       "      <th>1</th>\n",
       "      <td>2</td>\n",
       "      <td>33372.00</td>\n",
       "      <td>43928850.00</td>\n",
       "      <td>11891.95</td>\n",
       "      <td>10000.00</td>\n",
       "      <td>3354.00</td>\n",
       "      <td>0.10</td>\n",
       "      <td>2535960.00</td>\n",
       "      <td>845320.00</td>\n",
       "      <td>6589327.50</td>\n",
       "      <td>19767982.50</td>\n",
       "      <td>0.60</td>\n",
       "      <td>0.15</td>\n",
       "      <td>36.00</td>\n",
       "      <td>26201790.00</td>\n",
       "      <td>69425688.75</td>\n",
       "      <td>-43223898.75</td>\n",
       "      <td>0.60</td>\n",
       "      <td>0.15</td>\n",
       "      <td>36.00</td>\n",
       "      <td>30018.00</td>\n",
       "      <td>4226600.00</td>\n",
       "      <td>5.77</td>\n",
       "      <td>9.71</td>\n",
       "      <td>4.33</td>\n",
       "      <td>7.94</td>\n",
       "      <td>0.45</td>\n",
       "      <td>6.60</td>\n",
       "      <td>16.39</td>\n",
       "      <td>4082865.00</td>\n",
       "      <td>Xgboost</td>\n",
       "    </tr>\n",
       "    <tr>\n",
       "      <th>2</th>\n",
       "      <td>3</td>\n",
       "      <td>35255.00</td>\n",
       "      <td>48057750.00</td>\n",
       "      <td>12105.23</td>\n",
       "      <td>10000.00</td>\n",
       "      <td>4692.00</td>\n",
       "      <td>0.13</td>\n",
       "      <td>3597540.00</td>\n",
       "      <td>1199180.00</td>\n",
       "      <td>7208662.50</td>\n",
       "      <td>21625987.50</td>\n",
       "      <td>0.60</td>\n",
       "      <td>0.15</td>\n",
       "      <td>36.00</td>\n",
       "      <td>25002610.00</td>\n",
       "      <td>62217026.25</td>\n",
       "      <td>-37214416.25</td>\n",
       "      <td>0.60</td>\n",
       "      <td>0.15</td>\n",
       "      <td>36.00</td>\n",
       "      <td>30563.00</td>\n",
       "      <td>5995900.00</td>\n",
       "      <td>7.49</td>\n",
       "      <td>10.25</td>\n",
       "      <td>6.05</td>\n",
       "      <td>8.68</td>\n",
       "      <td>0.59</td>\n",
       "      <td>12.65</td>\n",
       "      <td>25.07</td>\n",
       "      <td>7680405.00</td>\n",
       "      <td>Xgboost</td>\n",
       "    </tr>\n",
       "    <tr>\n",
       "      <th>3</th>\n",
       "      <td>4</td>\n",
       "      <td>33776.00</td>\n",
       "      <td>48041475.00</td>\n",
       "      <td>12712.75</td>\n",
       "      <td>10000.00</td>\n",
       "      <td>5602.00</td>\n",
       "      <td>0.17</td>\n",
       "      <td>4927155.00</td>\n",
       "      <td>1642385.00</td>\n",
       "      <td>7206221.25</td>\n",
       "      <td>21618663.75</td>\n",
       "      <td>0.60</td>\n",
       "      <td>0.15</td>\n",
       "      <td>36.00</td>\n",
       "      <td>23360225.00</td>\n",
       "      <td>55010805.00</td>\n",
       "      <td>-31650580.00</td>\n",
       "      <td>0.60</td>\n",
       "      <td>0.15</td>\n",
       "      <td>36.00</td>\n",
       "      <td>28174.00</td>\n",
       "      <td>8211925.00</td>\n",
       "      <td>10.26</td>\n",
       "      <td>9.82</td>\n",
       "      <td>7.23</td>\n",
       "      <td>8.68</td>\n",
       "      <td>0.74</td>\n",
       "      <td>19.88</td>\n",
       "      <td>33.75</td>\n",
       "      <td>12607560.00</td>\n",
       "      <td>Xgboost</td>\n",
       "    </tr>\n",
       "    <tr>\n",
       "      <th>4</th>\n",
       "      <td>5</td>\n",
       "      <td>37596.00</td>\n",
       "      <td>55237750.00</td>\n",
       "      <td>13352.13</td>\n",
       "      <td>10000.00</td>\n",
       "      <td>7372.00</td>\n",
       "      <td>0.20</td>\n",
       "      <td>7015275.00</td>\n",
       "      <td>2338425.00</td>\n",
       "      <td>8285662.50</td>\n",
       "      <td>24856987.50</td>\n",
       "      <td>0.60</td>\n",
       "      <td>0.15</td>\n",
       "      <td>36.00</td>\n",
       "      <td>21021800.00</td>\n",
       "      <td>46725142.50</td>\n",
       "      <td>-25703342.50</td>\n",
       "      <td>0.60</td>\n",
       "      <td>0.15</td>\n",
       "      <td>36.00</td>\n",
       "      <td>30224.00</td>\n",
       "      <td>11692125.00</td>\n",
       "      <td>12.70</td>\n",
       "      <td>10.93</td>\n",
       "      <td>9.51</td>\n",
       "      <td>9.98</td>\n",
       "      <td>0.87</td>\n",
       "      <td>29.39</td>\n",
       "      <td>43.73</td>\n",
       "      <td>19622835.00</td>\n",
       "      <td>Xgboost</td>\n",
       "    </tr>\n",
       "    <tr>\n",
       "      <th>5</th>\n",
       "      <td>6</td>\n",
       "      <td>37466.00</td>\n",
       "      <td>60615350.00</td>\n",
       "      <td>14456.32</td>\n",
       "      <td>12000.00</td>\n",
       "      <td>8628.00</td>\n",
       "      <td>0.23</td>\n",
       "      <td>8667855.00</td>\n",
       "      <td>2889285.00</td>\n",
       "      <td>9092302.50</td>\n",
       "      <td>27276907.50</td>\n",
       "      <td>0.60</td>\n",
       "      <td>0.15</td>\n",
       "      <td>36.00</td>\n",
       "      <td>18132515.00</td>\n",
       "      <td>37632840.00</td>\n",
       "      <td>-19500325.00</td>\n",
       "      <td>0.60</td>\n",
       "      <td>0.15</td>\n",
       "      <td>36.00</td>\n",
       "      <td>28838.00</td>\n",
       "      <td>14446425.00</td>\n",
       "      <td>14.30</td>\n",
       "      <td>10.90</td>\n",
       "      <td>11.13</td>\n",
       "      <td>10.95</td>\n",
       "      <td>1.02</td>\n",
       "      <td>40.52</td>\n",
       "      <td>54.68</td>\n",
       "      <td>28290690.00</td>\n",
       "      <td>Xgboost</td>\n",
       "    </tr>\n",
       "    <tr>\n",
       "      <th>6</th>\n",
       "      <td>7</td>\n",
       "      <td>30553.00</td>\n",
       "      <td>51896675.00</td>\n",
       "      <td>15099.41</td>\n",
       "      <td>12500.00</td>\n",
       "      <td>8210.00</td>\n",
       "      <td>0.27</td>\n",
       "      <td>7951650.00</td>\n",
       "      <td>2650550.00</td>\n",
       "      <td>7784501.25</td>\n",
       "      <td>23353503.75</td>\n",
       "      <td>0.60</td>\n",
       "      <td>0.15</td>\n",
       "      <td>36.00</td>\n",
       "      <td>15481965.00</td>\n",
       "      <td>29848338.75</td>\n",
       "      <td>-14366373.75</td>\n",
       "      <td>0.60</td>\n",
       "      <td>0.15</td>\n",
       "      <td>36.00</td>\n",
       "      <td>22343.00</td>\n",
       "      <td>13252750.00</td>\n",
       "      <td>15.32</td>\n",
       "      <td>8.89</td>\n",
       "      <td>10.59</td>\n",
       "      <td>9.37</td>\n",
       "      <td>1.19</td>\n",
       "      <td>51.11</td>\n",
       "      <td>64.05</td>\n",
       "      <td>36242340.00</td>\n",
       "      <td>Xgboost</td>\n",
       "    </tr>\n",
       "    <tr>\n",
       "      <th>7</th>\n",
       "      <td>8</td>\n",
       "      <td>33500.00</td>\n",
       "      <td>59494925.00</td>\n",
       "      <td>16237.70</td>\n",
       "      <td>15000.00</td>\n",
       "      <td>10174.00</td>\n",
       "      <td>0.30</td>\n",
       "      <td>10840830.00</td>\n",
       "      <td>3613610.00</td>\n",
       "      <td>8924238.75</td>\n",
       "      <td>26772716.25</td>\n",
       "      <td>0.60</td>\n",
       "      <td>0.15</td>\n",
       "      <td>36.00</td>\n",
       "      <td>11868355.00</td>\n",
       "      <td>20924100.00</td>\n",
       "      <td>-9055745.00</td>\n",
       "      <td>0.60</td>\n",
       "      <td>0.15</td>\n",
       "      <td>36.00</td>\n",
       "      <td>23326.00</td>\n",
       "      <td>18068050.00</td>\n",
       "      <td>18.22</td>\n",
       "      <td>9.74</td>\n",
       "      <td>13.13</td>\n",
       "      <td>10.75</td>\n",
       "      <td>1.35</td>\n",
       "      <td>64.24</td>\n",
       "      <td>74.80</td>\n",
       "      <td>47083170.00</td>\n",
       "      <td>Xgboost</td>\n",
       "    </tr>\n",
       "    <tr>\n",
       "      <th>8</th>\n",
       "      <td>9</td>\n",
       "      <td>36583.00</td>\n",
       "      <td>70455025.00</td>\n",
       "      <td>17891.07</td>\n",
       "      <td>16000.00</td>\n",
       "      <td>13366.00</td>\n",
       "      <td>0.37</td>\n",
       "      <td>16016685.00</td>\n",
       "      <td>5338895.00</td>\n",
       "      <td>10568253.75</td>\n",
       "      <td>31704761.25</td>\n",
       "      <td>0.60</td>\n",
       "      <td>0.15</td>\n",
       "      <td>36.00</td>\n",
       "      <td>6529460.00</td>\n",
       "      <td>10355846.25</td>\n",
       "      <td>-3826386.25</td>\n",
       "      <td>0.60</td>\n",
       "      <td>0.15</td>\n",
       "      <td>36.00</td>\n",
       "      <td>23217.00</td>\n",
       "      <td>26694475.00</td>\n",
       "      <td>22.73</td>\n",
       "      <td>10.64</td>\n",
       "      <td>17.24</td>\n",
       "      <td>12.73</td>\n",
       "      <td>1.62</td>\n",
       "      <td>81.48</td>\n",
       "      <td>87.53</td>\n",
       "      <td>63099855.00</td>\n",
       "      <td>Xgboost</td>\n",
       "    </tr>\n",
       "    <tr>\n",
       "      <th>9</th>\n",
       "      <td>10</td>\n",
       "      <td>30099.00</td>\n",
       "      <td>69038975.00</td>\n",
       "      <td>19993.91</td>\n",
       "      <td>19200.00</td>\n",
       "      <td>14355.00</td>\n",
       "      <td>0.48</td>\n",
       "      <td>19588380.00</td>\n",
       "      <td>6529460.00</td>\n",
       "      <td>10355846.25</td>\n",
       "      <td>31067538.75</td>\n",
       "      <td>0.60</td>\n",
       "      <td>0.15</td>\n",
       "      <td>36.00</td>\n",
       "      <td>0.00</td>\n",
       "      <td>0.00</td>\n",
       "      <td>0.00</td>\n",
       "      <td>0.60</td>\n",
       "      <td>0.15</td>\n",
       "      <td>36.00</td>\n",
       "      <td>15744.00</td>\n",
       "      <td>32647300.00</td>\n",
       "      <td>28.37</td>\n",
       "      <td>8.75</td>\n",
       "      <td>18.52</td>\n",
       "      <td>12.47</td>\n",
       "      <td>2.12</td>\n",
       "      <td>100.00</td>\n",
       "      <td>100.00</td>\n",
       "      <td>82688235.00</td>\n",
       "      <td>Xgboost</td>\n",
       "    </tr>\n",
       "  </tbody>\n",
       "</table>\n",
       "</div>"
      ],
      "text/plain": [
       "   decile  total_loans  total_exposure  avg_loan_amount  median_loan_amount  \\\n",
       "0       1     35627.00     46807850.00         11068.30             9000.00   \n",
       "1       2     33372.00     43928850.00         11891.95            10000.00   \n",
       "2       3     35255.00     48057750.00         12105.23            10000.00   \n",
       "3       4     33776.00     48041475.00         12712.75            10000.00   \n",
       "4       5     37596.00     55237750.00         13352.13            10000.00   \n",
       "5       6     37466.00     60615350.00         14456.32            12000.00   \n",
       "6       7     30553.00     51896675.00         15099.41            12500.00   \n",
       "7       8     33500.00     59494925.00         16237.70            15000.00   \n",
       "8       9     36583.00     70455025.00         17891.07            16000.00   \n",
       "9      10     30099.00     69038975.00         19993.91            19200.00   \n",
       "\n",
       "   defaults  default_rate  expected_loss  annualized_expected_loss  \\\n",
       "0   1762.00          0.05     1546905.00                 515635.00   \n",
       "1   3354.00          0.10     2535960.00                 845320.00   \n",
       "2   4692.00          0.13     3597540.00                1199180.00   \n",
       "3   5602.00          0.17     4927155.00                1642385.00   \n",
       "4   7372.00          0.20     7015275.00                2338425.00   \n",
       "5   8628.00          0.23     8667855.00                2889285.00   \n",
       "6   8210.00          0.27     7951650.00                2650550.00   \n",
       "7  10174.00          0.30    10840830.00                3613610.00   \n",
       "8  13366.00          0.37    16016685.00                5338895.00   \n",
       "9  14355.00          0.48    19588380.00                6529460.00   \n",
       "\n",
       "   annual_interest_revenue  total_interest_revenue  avg_lgd  \\\n",
       "0               7021177.50             21063532.50     0.60   \n",
       "1               6589327.50             19767982.50     0.60   \n",
       "2               7208662.50             21625987.50     0.60   \n",
       "3               7206221.25             21618663.75     0.60   \n",
       "4               8285662.50             24856987.50     0.60   \n",
       "5               9092302.50             27276907.50     0.60   \n",
       "6               7784501.25             23353503.75     0.60   \n",
       "7               8924238.75             26772716.25     0.60   \n",
       "8              10568253.75             31704761.25     0.60   \n",
       "9              10355846.25             31067538.75     0.60   \n",
       "\n",
       "   avg_interest_rate  avg_term  loss_savings_first  \\\n",
       "0               0.15     36.00         27047110.00   \n",
       "1               0.15     36.00         26201790.00   \n",
       "2               0.15     36.00         25002610.00   \n",
       "3               0.15     36.00         23360225.00   \n",
       "4               0.15     36.00         21021800.00   \n",
       "5               0.15     36.00         18132515.00   \n",
       "6               0.15     36.00         15481965.00   \n",
       "7               0.15     36.00         11868355.00   \n",
       "8               0.15     36.00          6529460.00   \n",
       "9               0.15     36.00                0.00   \n",
       "\n",
       "   revenue_opportunity_cost_first  net_savings_first  weighted_lgd  \\\n",
       "0                     76015016.25       -48967906.25          0.60   \n",
       "1                     69425688.75       -43223898.75          0.60   \n",
       "2                     62217026.25       -37214416.25          0.60   \n",
       "3                     55010805.00       -31650580.00          0.60   \n",
       "4                     46725142.50       -25703342.50          0.60   \n",
       "5                     37632840.00       -19500325.00          0.60   \n",
       "6                     29848338.75       -14366373.75          0.60   \n",
       "7                     20924100.00        -9055745.00          0.60   \n",
       "8                     10355846.25        -3826386.25          0.60   \n",
       "9                            0.00               0.00          0.60   \n",
       "\n",
       "   weighted_interest_rate  weighted_term  non_defaults  defaulted_exposure  \\\n",
       "0                    0.15          36.00      33865.00          2578175.00   \n",
       "1                    0.15          36.00      30018.00          4226600.00   \n",
       "2                    0.15          36.00      30563.00          5995900.00   \n",
       "3                    0.15          36.00      28174.00          8211925.00   \n",
       "4                    0.15          36.00      30224.00         11692125.00   \n",
       "5                    0.15          36.00      28838.00         14446425.00   \n",
       "6                    0.15          36.00      22343.00         13252750.00   \n",
       "7                    0.15          36.00      23326.00         18068050.00   \n",
       "8                    0.15          36.00      23217.00         26694475.00   \n",
       "9                    0.15          36.00      15744.00         32647300.00   \n",
       "\n",
       "   loss_rate  pct_of_loans  pct_of_defaults  pct_of_exposure  lift  \\\n",
       "0       3.30         10.36             2.27             8.46  0.22   \n",
       "1       5.77          9.71             4.33             7.94  0.45   \n",
       "2       7.49         10.25             6.05             8.68  0.59   \n",
       "3      10.26          9.82             7.23             8.68  0.74   \n",
       "4      12.70         10.93             9.51             9.98  0.87   \n",
       "5      14.30         10.90            11.13            10.95  1.02   \n",
       "6      15.32          8.89            10.59             9.37  1.19   \n",
       "7      18.22          9.74            13.13            10.75  1.35   \n",
       "8      22.73         10.64            17.24            12.73  1.62   \n",
       "9      28.37          8.75            18.52            12.47  2.12   \n",
       "\n",
       "   cumulative_defaults_pct  cumulative_exposure_pct  cumulative_expected_loss  \\\n",
       "0                     2.27                     8.46                1546905.00   \n",
       "1                     6.60                    16.39                4082865.00   \n",
       "2                    12.65                    25.07                7680405.00   \n",
       "3                    19.88                    33.75               12607560.00   \n",
       "4                    29.39                    43.73               19622835.00   \n",
       "5                    40.52                    54.68               28290690.00   \n",
       "6                    51.11                    64.05               36242340.00   \n",
       "7                    64.24                    74.80               47083170.00   \n",
       "8                    81.48                    87.53               63099855.00   \n",
       "9                   100.00                   100.00               82688235.00   \n",
       "\n",
       "     model  \n",
       "0  Xgboost  \n",
       "1  Xgboost  \n",
       "2  Xgboost  \n",
       "3  Xgboost  \n",
       "4  Xgboost  \n",
       "5  Xgboost  \n",
       "6  Xgboost  \n",
       "7  Xgboost  \n",
       "8  Xgboost  \n",
       "9  Xgboost  "
      ]
     },
     "execution_count": 20,
     "metadata": {},
     "output_type": "execute_result"
    }
   ],
   "source": []
  },
  {
   "cell_type": "code",
   "execution_count": null,
   "id": "93c61c47",
   "metadata": {},
   "outputs": [],
   "source": []
  }
 ],
 "metadata": {
  "kernelspec": {
   "display_name": "myenv",
   "language": "python",
   "name": "python3"
  },
  "language_info": {
   "codemirror_mode": {
    "name": "ipython",
    "version": 3
   },
   "file_extension": ".py",
   "mimetype": "text/x-python",
   "name": "python",
   "nbconvert_exporter": "python",
   "pygments_lexer": "ipython3",
   "version": "3.11.13"
  }
 },
 "nbformat": 4,
 "nbformat_minor": 5
}
