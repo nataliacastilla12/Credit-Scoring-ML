{
 "cells": [
  {
   "cell_type": "markdown",
   "metadata": {},
   "source": [
    "# Model Performance Validations\n",
    "\n"
   ]
  },
  {
   "cell_type": "code",
   "execution_count": null,
   "metadata": {},
   "outputs": [],
   "source": [
    "import numpy as np\n",
    "import pandas as pd\n",
    "\n",
    "\n",
    "from sklearn.preprocessing import KBinsDiscretizer\n",
    "import shap\n",
    "from sklearn.ensemble import RandomForestClassifier\n",
    "\n",
    "#------------------------------------Plots\n",
    "import matplotlib.pyplot as plt\n",
    "import seaborn as sns\n",
    "import plotly.figure_factory as ff\n",
    "import plotly\n",
    "import plotly.express as px\n",
    "import plotly.graph_objects as go\n",
    "from plotly.subplots import make_subplots\n",
    "import plotly.io as pio\n",
    "from plotly import tools\n",
    "from plotly.offline import download_plotlyjs, init_notebook_mode, plot, iplot\n",
    "import joblib \n",
    "import model_calibration as mc\n",
    "\n",
    "\n",
    "spark.conf.set(\"spark.sql.execution.arrow.pyspark.enabled\", \"false\")\n",
    "pd.set_option('display.max_columns', 500)\n",
    "\n",
    "#--------------------Model\n",
    "\n",
    "import importlib\n",
    "\n",
    "from sklearn.linear_model import LogisticRegression\n",
    "from xgboost import XGBClassifier\n",
    "from sklearn.metrics import precision_recall_curve, roc_auc_score, classification_report, f1_score, confusion_matrix, roc_curve, auc, precision_score, recall_score,  brier_score_loss\n",
    "from modeling_utils import plot_model_evaluation_summary, generate_classification_report\n",
    "import joblib\n",
    "from risk_validation_phase1 import *\n",
    "pd.set_option(\"display.max_rows\", None)  \n"
   ]
  },
  {
   "cell_type": "markdown",
   "metadata": {},
   "source": [
    "# Global variables"
   ]
  },
  {
   "cell_type": "code",
   "execution_count": 5,
   "metadata": {},
   "outputs": [
    {
     "name": "stdout",
     "output_type": "stream",
     "text": [
      "Len of the features 21\n",
      "Len of the features 23\n"
     ]
    }
   ],
   "source": [
    "lr_training_vars = [ 'home_ownership', 'addr_state', 'dti', 'fico_range_high', 'all_util',\n",
    "       'inq_last_12m', 'acc_open_past_24mths', 'avg_cur_bal', 'bc_open_to_buy',\n",
    "       'mo_sin_old_rev_tl_op', 'mo_sin_rcnt_tl', 'mort_acc',\n",
    "       'mths_since_recent_bc', 'mths_since_recent_inq', 'num_actv_rev_tl',\n",
    "       'emp_length_numeric', 'emp_title_final_grouped', 'title_grouped',\n",
    "       'region_median_income', 'loan_to_income_ratio', 'open_acc_ratio']\n",
    "\n",
    "print('Len of the features', len(lr_training_vars))\n",
    "\n",
    "xgboost_training_vars = ['loan_amnt', 'home_ownership', 'annual_inc', 'addr_state', 'dti',\n",
    "       'fico_range_high', 'all_util', 'inq_last_12m', 'acc_open_past_24mths',\n",
    "       'avg_cur_bal', 'bc_open_to_buy', 'mo_sin_old_rev_tl_op',\n",
    "       'mo_sin_rcnt_tl', 'mort_acc', 'mths_since_recent_bc',\n",
    "       'mths_since_recent_inq', 'num_actv_rev_tl', 'emp_length_numeric',\n",
    "       'emp_title_final_grouped', 'title_grouped', 'region_median_income',\n",
    "       'loan_to_income_ratio', 'open_acc_ratio']\n",
    "       \n",
    "\n",
    "\n",
    "print('Len of the features', len(xgboost_training_vars))"
   ]
  },
  {
   "cell_type": "markdown",
   "metadata": {},
   "source": [
    "# Global Functions"
   ]
  },
  {
   "cell_type": "code",
   "execution_count": 6,
   "metadata": {},
   "outputs": [],
   "source": [
    "def calculate_model_scores(df):\n",
    "    \"\"\"\n",
    "    Calcula los scores calibrados para todos los modelos\n",
    "    \n",
    "    Parameters:\n",
    "    df: DataFrame con los datos de entrada\n",
    "    \n",
    "    Returns:\n",
    "    DataFrame original con columnas adicionales de scores\n",
    "    \"\"\"\n",
    "    \n",
    "    # Crear una copia del DataFrame para no modificar el original\n",
    "    df_scores = df.copy()\n",
    "    \n",
    "    # 1. Baseline Model Score\n",
    "    X_lr = df[lr_training_vars]\n",
    "    baseline_proba = base_model.predict_proba(X_lr)[:, 1]\n",
    "    df_scores['baseline_score'] = base_model_cal.predict(baseline_proba)\n",
    "    \n",
    "    # 2. Weighted Model Score\n",
    "    weighted_proba = weighted_model.predict_proba(X_lr)[:, 1]\n",
    "    df_scores['weighted_score'] = weighted_model_cal.predict(weighted_proba)\n",
    "    \n",
    "    # 3. Undersampled Model Score\n",
    "    under_proba = under_model.predict_proba(X_lr)[:, 1]\n",
    "    df_scores['undersampled_score'] = under_model_cal.predict(under_proba)\n",
    "    \n",
    "    # 4. XGBoost Model Score (con variables adicionales)\n",
    "    X_xgb = df[xgboost_training_vars]\n",
    "    xgb_proba = xgboost_model.predict_proba(X_xgb)[:, 1]\n",
    "    df_scores['xgboost_score'] = xgboost_model_cal.predict(xgb_proba)\n",
    "    \n",
    "    return df_scores"
   ]
  },
  {
   "cell_type": "markdown",
   "metadata": {},
   "source": [
    "# Load models"
   ]
  },
  {
   "cell_type": "code",
   "execution_count": 7,
   "metadata": {},
   "outputs": [],
   "source": [
    "\n",
    "xgboost_model =  joblib.load('final_xgboost_model.joblib', 'wb')\n",
    "\n",
    "xgboost_model_cal = joblib.load('xgboost_isotonic_calibrator.joblib')\n",
    "\n",
    "#-------------------------------------------------------------------------------------------------------------\n",
    "\n",
    "base_model = joblib.load('final_logistic_model.joblib')\n",
    "\n",
    "base_model_cal = joblib.load('lr_isotonic_calibrator.joblib')\n",
    "\n",
    "\n",
    "\n",
    "weighted_model = joblib.load('final_logistic_model_weights.joblib')\n",
    "\n",
    "weighted_model_cal = joblib.load('lr_isotonic_calibrator_weights.joblib')\n",
    "\n",
    "\n",
    "\n",
    "under_model = joblib.load('final_logistic_model_undersampling.joblib')\n",
    "\n",
    "under_model_cal = joblib.load('lr_isotonic_calibrator_undersampling.joblib')\n"
   ]
  },
  {
   "cell_type": "markdown",
   "metadata": {},
   "source": [
    "# Load Data\n",
    "\n",
    "Load the necessary data for performance validation."
   ]
  },
  {
   "cell_type": "code",
   "execution_count": 8,
   "metadata": {},
   "outputs": [
    {
     "name": "stdout",
     "output_type": "stream",
     "text": [
      "Dimension of the data: (2260698, 33)\n"
     ]
    }
   ],
   "source": [
    "df = pd.read_csv('df_total_woe_validations.csv').rename(columns={'funded_amnt':'loan_amnt'})\n",
    "\n",
    "df['d_vintage'] = pd.to_datetime(df['d_vintage'])\n",
    "\n",
    "\n",
    "df = df.drop(['int_rate'], axis=1)\n",
    "print('Dimension of the data:', df.shape)"
   ]
  },
  {
   "cell_type": "markdown",
   "metadata": {},
   "source": [
    "# Calculating the scores"
   ]
  },
  {
   "cell_type": "code",
   "execution_count": 9,
   "metadata": {},
   "outputs": [
    {
     "name": "stdout",
     "output_type": "stream",
     "text": [
      "Dimension filtered data (1141486, 38)\n"
     ]
    }
   ],
   "source": [
    "df_with_scores = calculate_model_scores(df)\n",
    "\n",
    "df_filter = df_with_scores[(df_with_scores['d_vintage']>=pd.to_datetime('2016-07-01'))]\n",
    "\n",
    "\n",
    "df_filter[\"m_vintage\"] = df_filter[\"d_vintage\"].apply(lambda x: pd.Timestamp(year=x.year, month=x.month, day=1))\n",
    "\n",
    "print('Dimension filtered data', df_filter.shape)"
   ]
  },
  {
   "cell_type": "markdown",
   "metadata": {},
   "source": [
    "## Performance Validations across the time\n"
   ]
  },
  {
   "cell_type": "code",
   "execution_count": 25,
   "metadata": {},
   "outputs": [],
   "source": [
    "df_filter_target = df_filter[(df_filter['target'].notna()) & (df_filter['d_vintage']<=pd.to_datetime('2018-06-01')) ]"
   ]
  },
  {
   "cell_type": "code",
   "execution_count": 26,
   "metadata": {},
   "outputs": [
    {
     "name": "stdout",
     "output_type": "stream",
     "text": [
      "Calculating AUC by month...\n",
      "Calculating KS by month...\n",
      "Calculating Brier score by month...\n",
      "Calculating O/E ratio by month...\n",
      "Calculating ECE by month...\n",
      "Calculating PSI over time...\n",
      "Creating plots...\n"
     ]
    },
    {
     "data": {
      "application/vnd.plotly.v1+json": {
       "config": {
        "plotlyServerURL": "https://plot.ly"
       },
       "data": [
        {
         "line": {
          "color": "#1560bd",
          "width": 2
         },
         "marker": {
          "color": "#1560bd",
          "size": 8
         },
         "mode": "lines+markers",
         "name": "Baseline",
         "type": "scatter",
         "x": [
          "2016-07",
          "2016-08",
          "2016-09",
          "2016-10",
          "2016-11",
          "2016-12",
          "2017-01",
          "2017-02",
          "2017-03",
          "2017-04",
          "2017-05",
          "2017-06",
          "2017-07",
          "2017-08",
          "2017-09",
          "2017-10",
          "2017-11",
          "2017-12",
          "2018-01",
          "2018-02",
          "2018-03",
          "2018-04",
          "2018-05",
          "2018-06"
         ],
         "y": {
          "bdata": "QkjVZfeM5T8viAdfsq3lPwEzGRzVs+U/wTiWdj5M5T9TJW83MbblP4FThFeMZeU/fWmE1QjO5T+fucG/u4HlP7rGOXI1seU/N01VJ6oU5j8nlDiph6XlP9U57srZ/OU/NuolfGoG5j/fxTwasXzlPyZf2vDlt+U/6EorWT5a5T8ZVvV8YB/lP32DIW3TjOU/Za55u2kw5T9iAz07OdvkP5F5gQiF/OQ/trXJTF+h5T/31c8UOPTkP0uiuG+hbeU/",
          "dtype": "f8"
         }
        },
        {
         "line": {
          "color": "#75caed",
          "width": 2
         },
         "marker": {
          "color": "#75caed",
          "size": 8
         },
         "mode": "lines+markers",
         "name": "Weighted",
         "type": "scatter",
         "x": [
          "2016-07",
          "2016-08",
          "2016-09",
          "2016-10",
          "2016-11",
          "2016-12",
          "2017-01",
          "2017-02",
          "2017-03",
          "2017-04",
          "2017-05",
          "2017-06",
          "2017-07",
          "2017-08",
          "2017-09",
          "2017-10",
          "2017-11",
          "2017-12",
          "2018-01",
          "2018-02",
          "2018-03",
          "2018-04",
          "2018-05",
          "2018-06"
         ],
         "y": {
          "bdata": "6hTV83GL5T9/Hibr8KzlP0syChvFsuU/nx7JdpdK5T+nPtWAT7TlP2t4EZgQY+U/Kde5hJvL5T/D9DDa1n7lP9mAEKWkruU/9IIT79EV5j+aUgEzdKLlP3hJ3zsq+eU/mGAzs6gC5j/Q6THzZnnlP4niTOmWteU/i+dhGJlW5T9N98fYqRzlP8z17l9yhuU/9UmI9mgp5T8syUprY9PkP52zQgzt8+Q/sGJLWk+Z5T/P/3+/P/DkP964YFKnZuU/",
          "dtype": "f8"
         }
        },
        {
         "line": {
          "color": "#8B7EC8",
          "width": 2
         },
         "marker": {
          "color": "#8B7EC8",
          "size": 8
         },
         "mode": "lines+markers",
         "name": "Undersampled",
         "type": "scatter",
         "x": [
          "2016-07",
          "2016-08",
          "2016-09",
          "2016-10",
          "2016-11",
          "2016-12",
          "2017-01",
          "2017-02",
          "2017-03",
          "2017-04",
          "2017-05",
          "2017-06",
          "2017-07",
          "2017-08",
          "2017-09",
          "2017-10",
          "2017-11",
          "2017-12",
          "2018-01",
          "2018-02",
          "2018-03",
          "2018-04",
          "2018-05",
          "2018-06"
         ],
         "y": {
          "bdata": "Zp8+ilyG5T+TyJcK8aPlP60or9liseU/aY/hvHg75T9JlASpBKTlP1x+ipFJVeU/LBs0Ns2+5T+yBAHT6XTlP83pJ5pop+U/qDMoen4N5j9dw5D4g5TlPzHcJDCJ6eU/8GEyMJvq5T9GnxFo7mnlPx4be3uFuOU/dAtNyvpc5T+stQl6yyPlP8aGw5yJr+U/+mYkXf1K5T9X95UMAfTkPyjMVUuCDuU/STtFePyz5T+T6/HQlwblP8kmi1niXeU/",
          "dtype": "f8"
         }
        },
        {
         "line": {
          "color": "#d62728",
          "width": 2
         },
         "marker": {
          "color": "#d62728",
          "size": 8
         },
         "mode": "lines+markers",
         "name": "Xgboost",
         "type": "scatter",
         "x": [
          "2016-07",
          "2016-08",
          "2016-09",
          "2016-10",
          "2016-11",
          "2016-12",
          "2017-01",
          "2017-02",
          "2017-03",
          "2017-04",
          "2017-05",
          "2017-06",
          "2017-07",
          "2017-08",
          "2017-09",
          "2017-10",
          "2017-11",
          "2017-12",
          "2018-01",
          "2018-02",
          "2018-03",
          "2018-04",
          "2018-05",
          "2018-06"
         ],
         "y": {
          "bdata": "12mjbsIR5j91858fADzmP4eSK/VPUOY/4BpHk1XH5T8L6O8tdR7mP7xW2rXz3uU/VJb7hZtj5j9VKyeRUQ7mP3ON9cxZSeY/uVlY1z6W5j/9m8ul+DbmP/pKBqhTiOY/kMYtcoqT5j/quRGf7CLmP1KF8GFDdeY/NfqgJkpK5j/kzoAjdPPlP+kP1otRhOY/e/bfr7Qx5j+byU7QifblP8qgXXkNEeY/v8Su1Sat5j9m/1YSt/rlPxL2UQqNluY/",
          "dtype": "f8"
         }
        }
       ],
       "layout": {
        "height": 500,
        "hovermode": "x unified",
        "legend": {
         "title": {
          "text": "Model"
         }
        },
        "template": {
         "data": {
          "bar": [
           {
            "error_x": {
             "color": "#2a3f5f"
            },
            "error_y": {
             "color": "#2a3f5f"
            },
            "marker": {
             "line": {
              "color": "white",
              "width": 0.5
             },
             "pattern": {
              "fillmode": "overlay",
              "size": 10,
              "solidity": 0.2
             }
            },
            "type": "bar"
           }
          ],
          "barpolar": [
           {
            "marker": {
             "line": {
              "color": "white",
              "width": 0.5
             },
             "pattern": {
              "fillmode": "overlay",
              "size": 10,
              "solidity": 0.2
             }
            },
            "type": "barpolar"
           }
          ],
          "carpet": [
           {
            "aaxis": {
             "endlinecolor": "#2a3f5f",
             "gridcolor": "#C8D4E3",
             "linecolor": "#C8D4E3",
             "minorgridcolor": "#C8D4E3",
             "startlinecolor": "#2a3f5f"
            },
            "baxis": {
             "endlinecolor": "#2a3f5f",
             "gridcolor": "#C8D4E3",
             "linecolor": "#C8D4E3",
             "minorgridcolor": "#C8D4E3",
             "startlinecolor": "#2a3f5f"
            },
            "type": "carpet"
           }
          ],
          "choropleth": [
           {
            "colorbar": {
             "outlinewidth": 0,
             "ticks": ""
            },
            "type": "choropleth"
           }
          ],
          "contour": [
           {
            "colorbar": {
             "outlinewidth": 0,
             "ticks": ""
            },
            "colorscale": [
             [
              0,
              "#0d0887"
             ],
             [
              0.1111111111111111,
              "#46039f"
             ],
             [
              0.2222222222222222,
              "#7201a8"
             ],
             [
              0.3333333333333333,
              "#9c179e"
             ],
             [
              0.4444444444444444,
              "#bd3786"
             ],
             [
              0.5555555555555556,
              "#d8576b"
             ],
             [
              0.6666666666666666,
              "#ed7953"
             ],
             [
              0.7777777777777778,
              "#fb9f3a"
             ],
             [
              0.8888888888888888,
              "#fdca26"
             ],
             [
              1,
              "#f0f921"
             ]
            ],
            "type": "contour"
           }
          ],
          "contourcarpet": [
           {
            "colorbar": {
             "outlinewidth": 0,
             "ticks": ""
            },
            "type": "contourcarpet"
           }
          ],
          "heatmap": [
           {
            "colorbar": {
             "outlinewidth": 0,
             "ticks": ""
            },
            "colorscale": [
             [
              0,
              "#0d0887"
             ],
             [
              0.1111111111111111,
              "#46039f"
             ],
             [
              0.2222222222222222,
              "#7201a8"
             ],
             [
              0.3333333333333333,
              "#9c179e"
             ],
             [
              0.4444444444444444,
              "#bd3786"
             ],
             [
              0.5555555555555556,
              "#d8576b"
             ],
             [
              0.6666666666666666,
              "#ed7953"
             ],
             [
              0.7777777777777778,
              "#fb9f3a"
             ],
             [
              0.8888888888888888,
              "#fdca26"
             ],
             [
              1,
              "#f0f921"
             ]
            ],
            "type": "heatmap"
           }
          ],
          "histogram": [
           {
            "marker": {
             "pattern": {
              "fillmode": "overlay",
              "size": 10,
              "solidity": 0.2
             }
            },
            "type": "histogram"
           }
          ],
          "histogram2d": [
           {
            "colorbar": {
             "outlinewidth": 0,
             "ticks": ""
            },
            "colorscale": [
             [
              0,
              "#0d0887"
             ],
             [
              0.1111111111111111,
              "#46039f"
             ],
             [
              0.2222222222222222,
              "#7201a8"
             ],
             [
              0.3333333333333333,
              "#9c179e"
             ],
             [
              0.4444444444444444,
              "#bd3786"
             ],
             [
              0.5555555555555556,
              "#d8576b"
             ],
             [
              0.6666666666666666,
              "#ed7953"
             ],
             [
              0.7777777777777778,
              "#fb9f3a"
             ],
             [
              0.8888888888888888,
              "#fdca26"
             ],
             [
              1,
              "#f0f921"
             ]
            ],
            "type": "histogram2d"
           }
          ],
          "histogram2dcontour": [
           {
            "colorbar": {
             "outlinewidth": 0,
             "ticks": ""
            },
            "colorscale": [
             [
              0,
              "#0d0887"
             ],
             [
              0.1111111111111111,
              "#46039f"
             ],
             [
              0.2222222222222222,
              "#7201a8"
             ],
             [
              0.3333333333333333,
              "#9c179e"
             ],
             [
              0.4444444444444444,
              "#bd3786"
             ],
             [
              0.5555555555555556,
              "#d8576b"
             ],
             [
              0.6666666666666666,
              "#ed7953"
             ],
             [
              0.7777777777777778,
              "#fb9f3a"
             ],
             [
              0.8888888888888888,
              "#fdca26"
             ],
             [
              1,
              "#f0f921"
             ]
            ],
            "type": "histogram2dcontour"
           }
          ],
          "mesh3d": [
           {
            "colorbar": {
             "outlinewidth": 0,
             "ticks": ""
            },
            "type": "mesh3d"
           }
          ],
          "parcoords": [
           {
            "line": {
             "colorbar": {
              "outlinewidth": 0,
              "ticks": ""
             }
            },
            "type": "parcoords"
           }
          ],
          "pie": [
           {
            "automargin": true,
            "type": "pie"
           }
          ],
          "scatter": [
           {
            "fillpattern": {
             "fillmode": "overlay",
             "size": 10,
             "solidity": 0.2
            },
            "type": "scatter"
           }
          ],
          "scatter3d": [
           {
            "line": {
             "colorbar": {
              "outlinewidth": 0,
              "ticks": ""
             }
            },
            "marker": {
             "colorbar": {
              "outlinewidth": 0,
              "ticks": ""
             }
            },
            "type": "scatter3d"
           }
          ],
          "scattercarpet": [
           {
            "marker": {
             "colorbar": {
              "outlinewidth": 0,
              "ticks": ""
             }
            },
            "type": "scattercarpet"
           }
          ],
          "scattergeo": [
           {
            "marker": {
             "colorbar": {
              "outlinewidth": 0,
              "ticks": ""
             }
            },
            "type": "scattergeo"
           }
          ],
          "scattergl": [
           {
            "marker": {
             "colorbar": {
              "outlinewidth": 0,
              "ticks": ""
             }
            },
            "type": "scattergl"
           }
          ],
          "scattermap": [
           {
            "marker": {
             "colorbar": {
              "outlinewidth": 0,
              "ticks": ""
             }
            },
            "type": "scattermap"
           }
          ],
          "scattermapbox": [
           {
            "marker": {
             "colorbar": {
              "outlinewidth": 0,
              "ticks": ""
             }
            },
            "type": "scattermapbox"
           }
          ],
          "scatterpolar": [
           {
            "marker": {
             "colorbar": {
              "outlinewidth": 0,
              "ticks": ""
             }
            },
            "type": "scatterpolar"
           }
          ],
          "scatterpolargl": [
           {
            "marker": {
             "colorbar": {
              "outlinewidth": 0,
              "ticks": ""
             }
            },
            "type": "scatterpolargl"
           }
          ],
          "scatterternary": [
           {
            "marker": {
             "colorbar": {
              "outlinewidth": 0,
              "ticks": ""
             }
            },
            "type": "scatterternary"
           }
          ],
          "surface": [
           {
            "colorbar": {
             "outlinewidth": 0,
             "ticks": ""
            },
            "colorscale": [
             [
              0,
              "#0d0887"
             ],
             [
              0.1111111111111111,
              "#46039f"
             ],
             [
              0.2222222222222222,
              "#7201a8"
             ],
             [
              0.3333333333333333,
              "#9c179e"
             ],
             [
              0.4444444444444444,
              "#bd3786"
             ],
             [
              0.5555555555555556,
              "#d8576b"
             ],
             [
              0.6666666666666666,
              "#ed7953"
             ],
             [
              0.7777777777777778,
              "#fb9f3a"
             ],
             [
              0.8888888888888888,
              "#fdca26"
             ],
             [
              1,
              "#f0f921"
             ]
            ],
            "type": "surface"
           }
          ],
          "table": [
           {
            "cells": {
             "fill": {
              "color": "#EBF0F8"
             },
             "line": {
              "color": "white"
             }
            },
            "header": {
             "fill": {
              "color": "#C8D4E3"
             },
             "line": {
              "color": "white"
             }
            },
            "type": "table"
           }
          ]
         },
         "layout": {
          "annotationdefaults": {
           "arrowcolor": "#2a3f5f",
           "arrowhead": 0,
           "arrowwidth": 1
          },
          "autotypenumbers": "strict",
          "coloraxis": {
           "colorbar": {
            "outlinewidth": 0,
            "ticks": ""
           }
          },
          "colorscale": {
           "diverging": [
            [
             0,
             "#8e0152"
            ],
            [
             0.1,
             "#c51b7d"
            ],
            [
             0.2,
             "#de77ae"
            ],
            [
             0.3,
             "#f1b6da"
            ],
            [
             0.4,
             "#fde0ef"
            ],
            [
             0.5,
             "#f7f7f7"
            ],
            [
             0.6,
             "#e6f5d0"
            ],
            [
             0.7,
             "#b8e186"
            ],
            [
             0.8,
             "#7fbc41"
            ],
            [
             0.9,
             "#4d9221"
            ],
            [
             1,
             "#276419"
            ]
           ],
           "sequential": [
            [
             0,
             "#0d0887"
            ],
            [
             0.1111111111111111,
             "#46039f"
            ],
            [
             0.2222222222222222,
             "#7201a8"
            ],
            [
             0.3333333333333333,
             "#9c179e"
            ],
            [
             0.4444444444444444,
             "#bd3786"
            ],
            [
             0.5555555555555556,
             "#d8576b"
            ],
            [
             0.6666666666666666,
             "#ed7953"
            ],
            [
             0.7777777777777778,
             "#fb9f3a"
            ],
            [
             0.8888888888888888,
             "#fdca26"
            ],
            [
             1,
             "#f0f921"
            ]
           ],
           "sequentialminus": [
            [
             0,
             "#0d0887"
            ],
            [
             0.1111111111111111,
             "#46039f"
            ],
            [
             0.2222222222222222,
             "#7201a8"
            ],
            [
             0.3333333333333333,
             "#9c179e"
            ],
            [
             0.4444444444444444,
             "#bd3786"
            ],
            [
             0.5555555555555556,
             "#d8576b"
            ],
            [
             0.6666666666666666,
             "#ed7953"
            ],
            [
             0.7777777777777778,
             "#fb9f3a"
            ],
            [
             0.8888888888888888,
             "#fdca26"
            ],
            [
             1,
             "#f0f921"
            ]
           ]
          },
          "colorway": [
           "#636efa",
           "#EF553B",
           "#00cc96",
           "#ab63fa",
           "#FFA15A",
           "#19d3f3",
           "#FF6692",
           "#B6E880",
           "#FF97FF",
           "#FECB52"
          ],
          "font": {
           "color": "#2a3f5f"
          },
          "geo": {
           "bgcolor": "white",
           "lakecolor": "white",
           "landcolor": "white",
           "showlakes": true,
           "showland": true,
           "subunitcolor": "#C8D4E3"
          },
          "hoverlabel": {
           "align": "left"
          },
          "hovermode": "closest",
          "mapbox": {
           "style": "light"
          },
          "paper_bgcolor": "white",
          "plot_bgcolor": "white",
          "polar": {
           "angularaxis": {
            "gridcolor": "#EBF0F8",
            "linecolor": "#EBF0F8",
            "ticks": ""
           },
           "bgcolor": "white",
           "radialaxis": {
            "gridcolor": "#EBF0F8",
            "linecolor": "#EBF0F8",
            "ticks": ""
           }
          },
          "scene": {
           "xaxis": {
            "backgroundcolor": "white",
            "gridcolor": "#DFE8F3",
            "gridwidth": 2,
            "linecolor": "#EBF0F8",
            "showbackground": true,
            "ticks": "",
            "zerolinecolor": "#EBF0F8"
           },
           "yaxis": {
            "backgroundcolor": "white",
            "gridcolor": "#DFE8F3",
            "gridwidth": 2,
            "linecolor": "#EBF0F8",
            "showbackground": true,
            "ticks": "",
            "zerolinecolor": "#EBF0F8"
           },
           "zaxis": {
            "backgroundcolor": "white",
            "gridcolor": "#DFE8F3",
            "gridwidth": 2,
            "linecolor": "#EBF0F8",
            "showbackground": true,
            "ticks": "",
            "zerolinecolor": "#EBF0F8"
           }
          },
          "shapedefaults": {
           "line": {
            "color": "#2a3f5f"
           }
          },
          "ternary": {
           "aaxis": {
            "gridcolor": "#DFE8F3",
            "linecolor": "#A2B1C6",
            "ticks": ""
           },
           "baxis": {
            "gridcolor": "#DFE8F3",
            "linecolor": "#A2B1C6",
            "ticks": ""
           },
           "bgcolor": "white",
           "caxis": {
            "gridcolor": "#DFE8F3",
            "linecolor": "#A2B1C6",
            "ticks": ""
           }
          },
          "title": {
           "x": 0.05
          },
          "xaxis": {
           "automargin": true,
           "gridcolor": "#EBF0F8",
           "linecolor": "#EBF0F8",
           "ticks": "",
           "title": {
            "standoff": 15
           },
           "zerolinecolor": "#EBF0F8",
           "zerolinewidth": 2
          },
          "yaxis": {
           "automargin": true,
           "gridcolor": "#EBF0F8",
           "linecolor": "#EBF0F8",
           "ticks": "",
           "title": {
            "standoff": 15
           },
           "zerolinecolor": "#EBF0F8",
           "zerolinewidth": 2
          }
         }
        },
        "title": {
         "text": "AUC Over Time"
        },
        "width": 900,
        "xaxis": {
         "title": {
          "text": "Month"
         }
        },
        "yaxis": {
         "title": {
          "text": "AUC"
         }
        }
       }
      }
     },
     "metadata": {},
     "output_type": "display_data"
    },
    {
     "data": {
      "application/vnd.plotly.v1+json": {
       "config": {
        "plotlyServerURL": "https://plot.ly"
       },
       "data": [
        {
         "line": {
          "color": "#1560bd",
          "width": 2
         },
         "marker": {
          "color": "#1560bd",
          "size": 8
         },
         "mode": "lines+markers",
         "name": "Baseline",
         "type": "scatter",
         "x": [
          "2016-07",
          "2016-08",
          "2016-09",
          "2016-10",
          "2016-11",
          "2016-12",
          "2017-01",
          "2017-02",
          "2017-03",
          "2017-04",
          "2017-05",
          "2017-06",
          "2017-07",
          "2017-08",
          "2017-09",
          "2017-10",
          "2017-11",
          "2017-12",
          "2018-01",
          "2018-02",
          "2018-03",
          "2018-04",
          "2018-05",
          "2018-06"
         ],
         "y": {
          "bdata": "LKQSo2gP0D/fXQP9JkTQPx5xAb5df9A/kP4Rcid7zj+zcnPri63QP8DtkZHHJM8/nhha3j7f0D/aOjaOQ0/PPzIUaE2cm9A/JR1HMq640T96UlNDXlbQP7HfKFgwntE/ntvlMLZR0T9kZv/B9NPOPx7XZJvphtA/dcP5yDKPzz8IWsIR3mnOP2rJD4fOQ9A/hXJxxCPyzT+/2hnn0rrMPw23sPY6RMw/NodiH0Jw0T/hC7RQ8lnNP9iaHfX+cNA/",
          "dtype": "f8"
         }
        },
        {
         "line": {
          "color": "#75caed",
          "width": 2
         },
         "marker": {
          "color": "#75caed",
          "size": 8
         },
         "mode": "lines+markers",
         "name": "Weighted",
         "type": "scatter",
         "x": [
          "2016-07",
          "2016-08",
          "2016-09",
          "2016-10",
          "2016-11",
          "2016-12",
          "2017-01",
          "2017-02",
          "2017-03",
          "2017-04",
          "2017-05",
          "2017-06",
          "2017-07",
          "2017-08",
          "2017-09",
          "2017-10",
          "2017-11",
          "2017-12",
          "2018-01",
          "2018-02",
          "2018-03",
          "2018-04",
          "2018-05",
          "2018-06"
         ],
         "y": {
          "bdata": "3ulWobTqzz+9kb/lgE7QP3HSR5CKiNA/0rhN7Plvzj+QAkv5gqXQP3pkOXstMM8/ZyrlAgfn0D8AHZFPC37PP67kTww+hNA/OU/aU6Op0T/Q6YdwsULQP1EgaRJErtE/Z5H9+e5c0T9GK1ZVhAzPP8qpr0HKiNA/BD25ejEszz8zEYVDqVXOP2/ryL/KQtA/DhmbZ5RUzT/yyt3xB8fMP2Xuc5tIHcw/X5tL7OhM0T9FaXoNc1nNPxWj6ZxNd9A/",
          "dtype": "f8"
         }
        },
        {
         "line": {
          "color": "#8B7EC8",
          "width": 2
         },
         "marker": {
          "color": "#8B7EC8",
          "size": 8
         },
         "mode": "lines+markers",
         "name": "Undersampled",
         "type": "scatter",
         "x": [
          "2016-07",
          "2016-08",
          "2016-09",
          "2016-10",
          "2016-11",
          "2016-12",
          "2017-01",
          "2017-02",
          "2017-03",
          "2017-04",
          "2017-05",
          "2017-06",
          "2017-07",
          "2017-08",
          "2017-09",
          "2017-10",
          "2017-11",
          "2017-12",
          "2018-01",
          "2018-02",
          "2018-03",
          "2018-04",
          "2018-05",
          "2018-06"
         ],
         "y": {
          "bdata": "4m1h7GQO0D+jin7i+EvQP528A/mattA/JE6v8Lk8zj881IBP3XDQP4wcpDpSoc4/b5tufGUJ0T+AHob9znrPP87jtIJQZdA/HECJLzaK0T9K6+gXQzbQPxqV6FvCQtE/cNTONWr30D+EEXqOHIPOP7wl2mJBs9A/pzP22q9fzz9TPmnC9xPOPy0gJfzr1tA/iJwiTiHJzj/5KWyFrNDNP4HsjHGG8c0/4bzTSsGM0T/X/brN7mLPPxTgCBC7G9A/",
          "dtype": "f8"
         }
        },
        {
         "line": {
          "color": "#d62728",
          "width": 2
         },
         "marker": {
          "color": "#d62728",
          "size": 8
         },
         "mode": "lines+markers",
         "name": "Xgboost",
         "type": "scatter",
         "x": [
          "2016-07",
          "2016-08",
          "2016-09",
          "2016-10",
          "2016-11",
          "2016-12",
          "2017-01",
          "2017-02",
          "2017-03",
          "2017-04",
          "2017-05",
          "2017-06",
          "2017-07",
          "2017-08",
          "2017-09",
          "2017-10",
          "2017-11",
          "2017-12",
          "2018-01",
          "2018-02",
          "2018-03",
          "2018-04",
          "2018-05",
          "2018-06"
         ],
         "y": {
          "bdata": "37XD8M+F0T/oKln3rw7SP9vTjCob69E/oELiJ3K40D/WodoanHPRPxANm3/1+tA/YWHjNAvU0j8huBIVwHTRP3FOARt5TNI/Gi9Vt+NE0z/g+2BFLdjRP0sZHmwyJdM/AD+Iagkj0z8xHCJxLujRP/zVRbtABdM/5bRXkzZX0j90rqj4TUDRP4b6X5hVQdM/+Oe7G/r20T/WCsYqFqjRP0f7fopvw9I/GjUrlOt50z+DcbT8henRP1bLbFgRPtM/",
          "dtype": "f8"
         }
        }
       ],
       "layout": {
        "height": 500,
        "hovermode": "x unified",
        "legend": {
         "title": {
          "text": "Model"
         }
        },
        "template": {
         "data": {
          "bar": [
           {
            "error_x": {
             "color": "#2a3f5f"
            },
            "error_y": {
             "color": "#2a3f5f"
            },
            "marker": {
             "line": {
              "color": "white",
              "width": 0.5
             },
             "pattern": {
              "fillmode": "overlay",
              "size": 10,
              "solidity": 0.2
             }
            },
            "type": "bar"
           }
          ],
          "barpolar": [
           {
            "marker": {
             "line": {
              "color": "white",
              "width": 0.5
             },
             "pattern": {
              "fillmode": "overlay",
              "size": 10,
              "solidity": 0.2
             }
            },
            "type": "barpolar"
           }
          ],
          "carpet": [
           {
            "aaxis": {
             "endlinecolor": "#2a3f5f",
             "gridcolor": "#C8D4E3",
             "linecolor": "#C8D4E3",
             "minorgridcolor": "#C8D4E3",
             "startlinecolor": "#2a3f5f"
            },
            "baxis": {
             "endlinecolor": "#2a3f5f",
             "gridcolor": "#C8D4E3",
             "linecolor": "#C8D4E3",
             "minorgridcolor": "#C8D4E3",
             "startlinecolor": "#2a3f5f"
            },
            "type": "carpet"
           }
          ],
          "choropleth": [
           {
            "colorbar": {
             "outlinewidth": 0,
             "ticks": ""
            },
            "type": "choropleth"
           }
          ],
          "contour": [
           {
            "colorbar": {
             "outlinewidth": 0,
             "ticks": ""
            },
            "colorscale": [
             [
              0,
              "#0d0887"
             ],
             [
              0.1111111111111111,
              "#46039f"
             ],
             [
              0.2222222222222222,
              "#7201a8"
             ],
             [
              0.3333333333333333,
              "#9c179e"
             ],
             [
              0.4444444444444444,
              "#bd3786"
             ],
             [
              0.5555555555555556,
              "#d8576b"
             ],
             [
              0.6666666666666666,
              "#ed7953"
             ],
             [
              0.7777777777777778,
              "#fb9f3a"
             ],
             [
              0.8888888888888888,
              "#fdca26"
             ],
             [
              1,
              "#f0f921"
             ]
            ],
            "type": "contour"
           }
          ],
          "contourcarpet": [
           {
            "colorbar": {
             "outlinewidth": 0,
             "ticks": ""
            },
            "type": "contourcarpet"
           }
          ],
          "heatmap": [
           {
            "colorbar": {
             "outlinewidth": 0,
             "ticks": ""
            },
            "colorscale": [
             [
              0,
              "#0d0887"
             ],
             [
              0.1111111111111111,
              "#46039f"
             ],
             [
              0.2222222222222222,
              "#7201a8"
             ],
             [
              0.3333333333333333,
              "#9c179e"
             ],
             [
              0.4444444444444444,
              "#bd3786"
             ],
             [
              0.5555555555555556,
              "#d8576b"
             ],
             [
              0.6666666666666666,
              "#ed7953"
             ],
             [
              0.7777777777777778,
              "#fb9f3a"
             ],
             [
              0.8888888888888888,
              "#fdca26"
             ],
             [
              1,
              "#f0f921"
             ]
            ],
            "type": "heatmap"
           }
          ],
          "histogram": [
           {
            "marker": {
             "pattern": {
              "fillmode": "overlay",
              "size": 10,
              "solidity": 0.2
             }
            },
            "type": "histogram"
           }
          ],
          "histogram2d": [
           {
            "colorbar": {
             "outlinewidth": 0,
             "ticks": ""
            },
            "colorscale": [
             [
              0,
              "#0d0887"
             ],
             [
              0.1111111111111111,
              "#46039f"
             ],
             [
              0.2222222222222222,
              "#7201a8"
             ],
             [
              0.3333333333333333,
              "#9c179e"
             ],
             [
              0.4444444444444444,
              "#bd3786"
             ],
             [
              0.5555555555555556,
              "#d8576b"
             ],
             [
              0.6666666666666666,
              "#ed7953"
             ],
             [
              0.7777777777777778,
              "#fb9f3a"
             ],
             [
              0.8888888888888888,
              "#fdca26"
             ],
             [
              1,
              "#f0f921"
             ]
            ],
            "type": "histogram2d"
           }
          ],
          "histogram2dcontour": [
           {
            "colorbar": {
             "outlinewidth": 0,
             "ticks": ""
            },
            "colorscale": [
             [
              0,
              "#0d0887"
             ],
             [
              0.1111111111111111,
              "#46039f"
             ],
             [
              0.2222222222222222,
              "#7201a8"
             ],
             [
              0.3333333333333333,
              "#9c179e"
             ],
             [
              0.4444444444444444,
              "#bd3786"
             ],
             [
              0.5555555555555556,
              "#d8576b"
             ],
             [
              0.6666666666666666,
              "#ed7953"
             ],
             [
              0.7777777777777778,
              "#fb9f3a"
             ],
             [
              0.8888888888888888,
              "#fdca26"
             ],
             [
              1,
              "#f0f921"
             ]
            ],
            "type": "histogram2dcontour"
           }
          ],
          "mesh3d": [
           {
            "colorbar": {
             "outlinewidth": 0,
             "ticks": ""
            },
            "type": "mesh3d"
           }
          ],
          "parcoords": [
           {
            "line": {
             "colorbar": {
              "outlinewidth": 0,
              "ticks": ""
             }
            },
            "type": "parcoords"
           }
          ],
          "pie": [
           {
            "automargin": true,
            "type": "pie"
           }
          ],
          "scatter": [
           {
            "fillpattern": {
             "fillmode": "overlay",
             "size": 10,
             "solidity": 0.2
            },
            "type": "scatter"
           }
          ],
          "scatter3d": [
           {
            "line": {
             "colorbar": {
              "outlinewidth": 0,
              "ticks": ""
             }
            },
            "marker": {
             "colorbar": {
              "outlinewidth": 0,
              "ticks": ""
             }
            },
            "type": "scatter3d"
           }
          ],
          "scattercarpet": [
           {
            "marker": {
             "colorbar": {
              "outlinewidth": 0,
              "ticks": ""
             }
            },
            "type": "scattercarpet"
           }
          ],
          "scattergeo": [
           {
            "marker": {
             "colorbar": {
              "outlinewidth": 0,
              "ticks": ""
             }
            },
            "type": "scattergeo"
           }
          ],
          "scattergl": [
           {
            "marker": {
             "colorbar": {
              "outlinewidth": 0,
              "ticks": ""
             }
            },
            "type": "scattergl"
           }
          ],
          "scattermap": [
           {
            "marker": {
             "colorbar": {
              "outlinewidth": 0,
              "ticks": ""
             }
            },
            "type": "scattermap"
           }
          ],
          "scattermapbox": [
           {
            "marker": {
             "colorbar": {
              "outlinewidth": 0,
              "ticks": ""
             }
            },
            "type": "scattermapbox"
           }
          ],
          "scatterpolar": [
           {
            "marker": {
             "colorbar": {
              "outlinewidth": 0,
              "ticks": ""
             }
            },
            "type": "scatterpolar"
           }
          ],
          "scatterpolargl": [
           {
            "marker": {
             "colorbar": {
              "outlinewidth": 0,
              "ticks": ""
             }
            },
            "type": "scatterpolargl"
           }
          ],
          "scatterternary": [
           {
            "marker": {
             "colorbar": {
              "outlinewidth": 0,
              "ticks": ""
             }
            },
            "type": "scatterternary"
           }
          ],
          "surface": [
           {
            "colorbar": {
             "outlinewidth": 0,
             "ticks": ""
            },
            "colorscale": [
             [
              0,
              "#0d0887"
             ],
             [
              0.1111111111111111,
              "#46039f"
             ],
             [
              0.2222222222222222,
              "#7201a8"
             ],
             [
              0.3333333333333333,
              "#9c179e"
             ],
             [
              0.4444444444444444,
              "#bd3786"
             ],
             [
              0.5555555555555556,
              "#d8576b"
             ],
             [
              0.6666666666666666,
              "#ed7953"
             ],
             [
              0.7777777777777778,
              "#fb9f3a"
             ],
             [
              0.8888888888888888,
              "#fdca26"
             ],
             [
              1,
              "#f0f921"
             ]
            ],
            "type": "surface"
           }
          ],
          "table": [
           {
            "cells": {
             "fill": {
              "color": "#EBF0F8"
             },
             "line": {
              "color": "white"
             }
            },
            "header": {
             "fill": {
              "color": "#C8D4E3"
             },
             "line": {
              "color": "white"
             }
            },
            "type": "table"
           }
          ]
         },
         "layout": {
          "annotationdefaults": {
           "arrowcolor": "#2a3f5f",
           "arrowhead": 0,
           "arrowwidth": 1
          },
          "autotypenumbers": "strict",
          "coloraxis": {
           "colorbar": {
            "outlinewidth": 0,
            "ticks": ""
           }
          },
          "colorscale": {
           "diverging": [
            [
             0,
             "#8e0152"
            ],
            [
             0.1,
             "#c51b7d"
            ],
            [
             0.2,
             "#de77ae"
            ],
            [
             0.3,
             "#f1b6da"
            ],
            [
             0.4,
             "#fde0ef"
            ],
            [
             0.5,
             "#f7f7f7"
            ],
            [
             0.6,
             "#e6f5d0"
            ],
            [
             0.7,
             "#b8e186"
            ],
            [
             0.8,
             "#7fbc41"
            ],
            [
             0.9,
             "#4d9221"
            ],
            [
             1,
             "#276419"
            ]
           ],
           "sequential": [
            [
             0,
             "#0d0887"
            ],
            [
             0.1111111111111111,
             "#46039f"
            ],
            [
             0.2222222222222222,
             "#7201a8"
            ],
            [
             0.3333333333333333,
             "#9c179e"
            ],
            [
             0.4444444444444444,
             "#bd3786"
            ],
            [
             0.5555555555555556,
             "#d8576b"
            ],
            [
             0.6666666666666666,
             "#ed7953"
            ],
            [
             0.7777777777777778,
             "#fb9f3a"
            ],
            [
             0.8888888888888888,
             "#fdca26"
            ],
            [
             1,
             "#f0f921"
            ]
           ],
           "sequentialminus": [
            [
             0,
             "#0d0887"
            ],
            [
             0.1111111111111111,
             "#46039f"
            ],
            [
             0.2222222222222222,
             "#7201a8"
            ],
            [
             0.3333333333333333,
             "#9c179e"
            ],
            [
             0.4444444444444444,
             "#bd3786"
            ],
            [
             0.5555555555555556,
             "#d8576b"
            ],
            [
             0.6666666666666666,
             "#ed7953"
            ],
            [
             0.7777777777777778,
             "#fb9f3a"
            ],
            [
             0.8888888888888888,
             "#fdca26"
            ],
            [
             1,
             "#f0f921"
            ]
           ]
          },
          "colorway": [
           "#636efa",
           "#EF553B",
           "#00cc96",
           "#ab63fa",
           "#FFA15A",
           "#19d3f3",
           "#FF6692",
           "#B6E880",
           "#FF97FF",
           "#FECB52"
          ],
          "font": {
           "color": "#2a3f5f"
          },
          "geo": {
           "bgcolor": "white",
           "lakecolor": "white",
           "landcolor": "white",
           "showlakes": true,
           "showland": true,
           "subunitcolor": "#C8D4E3"
          },
          "hoverlabel": {
           "align": "left"
          },
          "hovermode": "closest",
          "mapbox": {
           "style": "light"
          },
          "paper_bgcolor": "white",
          "plot_bgcolor": "white",
          "polar": {
           "angularaxis": {
            "gridcolor": "#EBF0F8",
            "linecolor": "#EBF0F8",
            "ticks": ""
           },
           "bgcolor": "white",
           "radialaxis": {
            "gridcolor": "#EBF0F8",
            "linecolor": "#EBF0F8",
            "ticks": ""
           }
          },
          "scene": {
           "xaxis": {
            "backgroundcolor": "white",
            "gridcolor": "#DFE8F3",
            "gridwidth": 2,
            "linecolor": "#EBF0F8",
            "showbackground": true,
            "ticks": "",
            "zerolinecolor": "#EBF0F8"
           },
           "yaxis": {
            "backgroundcolor": "white",
            "gridcolor": "#DFE8F3",
            "gridwidth": 2,
            "linecolor": "#EBF0F8",
            "showbackground": true,
            "ticks": "",
            "zerolinecolor": "#EBF0F8"
           },
           "zaxis": {
            "backgroundcolor": "white",
            "gridcolor": "#DFE8F3",
            "gridwidth": 2,
            "linecolor": "#EBF0F8",
            "showbackground": true,
            "ticks": "",
            "zerolinecolor": "#EBF0F8"
           }
          },
          "shapedefaults": {
           "line": {
            "color": "#2a3f5f"
           }
          },
          "ternary": {
           "aaxis": {
            "gridcolor": "#DFE8F3",
            "linecolor": "#A2B1C6",
            "ticks": ""
           },
           "baxis": {
            "gridcolor": "#DFE8F3",
            "linecolor": "#A2B1C6",
            "ticks": ""
           },
           "bgcolor": "white",
           "caxis": {
            "gridcolor": "#DFE8F3",
            "linecolor": "#A2B1C6",
            "ticks": ""
           }
          },
          "title": {
           "x": 0.05
          },
          "xaxis": {
           "automargin": true,
           "gridcolor": "#EBF0F8",
           "linecolor": "#EBF0F8",
           "ticks": "",
           "title": {
            "standoff": 15
           },
           "zerolinecolor": "#EBF0F8",
           "zerolinewidth": 2
          },
          "yaxis": {
           "automargin": true,
           "gridcolor": "#EBF0F8",
           "linecolor": "#EBF0F8",
           "ticks": "",
           "title": {
            "standoff": 15
           },
           "zerolinecolor": "#EBF0F8",
           "zerolinewidth": 2
          }
         }
        },
        "title": {
         "text": "KS Statistic Over Time"
        },
        "width": 900,
        "xaxis": {
         "title": {
          "text": "Month"
         }
        },
        "yaxis": {
         "title": {
          "text": "KS"
         }
        }
       }
      }
     },
     "metadata": {},
     "output_type": "display_data"
    }
   ],
   "source": [
    "\n",
    "score_cols = ['baseline_score', 'weighted_score', 'undersampled_score', 'xgboost_score']\n",
    "\n",
    "\n",
    "results = mc.run_temporal_analysis(df_filter_target, score_cols, target_col='target', date_col='m_vintage')\n",
    "\n",
    "results['auc_plot'].show()\n",
    "\n",
    "results['ks_plot'].show()"
   ]
  },
  {
   "cell_type": "code",
   "execution_count": 14,
   "metadata": {},
   "outputs": [
    {
     "data": {
      "text/plain": [
       "dict_keys(['auc_by_month', 'ks_by_month', 'brier_by_month', 'oe_ratio_by_month', 'ece_by_month', 'psi_by_month', 'auc_plot', 'ks_plot', 'brier_plot', 'oe_plot', 'ece_plot', 'psi_plot', 'calibration_curve', 'score_distribution_plots'])"
      ]
     },
     "execution_count": 14,
     "metadata": {},
     "output_type": "execute_result"
    }
   ],
   "source": [
    "results.keys()"
   ]
  },
  {
   "cell_type": "code",
   "execution_count": 34,
   "metadata": {},
   "outputs": [
    {
     "data": {
      "text/html": [
       "<div>\n",
       "<style scoped>\n",
       "    .dataframe tbody tr th:only-of-type {\n",
       "        vertical-align: middle;\n",
       "    }\n",
       "\n",
       "    .dataframe tbody tr th {\n",
       "        vertical-align: top;\n",
       "    }\n",
       "\n",
       "    .dataframe thead th {\n",
       "        text-align: right;\n",
       "    }\n",
       "</style>\n",
       "<table border=\"1\" class=\"dataframe\">\n",
       "  <thead>\n",
       "    <tr style=\"text-align: right;\">\n",
       "      <th></th>\n",
       "      <th>month_year</th>\n",
       "      <th>baseline_score_psi</th>\n",
       "      <th>weighted_score_psi</th>\n",
       "      <th>undersampled_score_psi</th>\n",
       "      <th>xgboost_score_psi</th>\n",
       "    </tr>\n",
       "  </thead>\n",
       "  <tbody>\n",
       "    <tr>\n",
       "      <th>0</th>\n",
       "      <td>2016-08</td>\n",
       "      <td>0.002100</td>\n",
       "      <td>0.001876</td>\n",
       "      <td>0.001097</td>\n",
       "      <td>0.002079</td>\n",
       "    </tr>\n",
       "    <tr>\n",
       "      <th>1</th>\n",
       "      <td>2016-09</td>\n",
       "      <td>0.009360</td>\n",
       "      <td>0.009181</td>\n",
       "      <td>0.008988</td>\n",
       "      <td>0.007551</td>\n",
       "    </tr>\n",
       "    <tr>\n",
       "      <th>2</th>\n",
       "      <td>2016-10</td>\n",
       "      <td>0.026863</td>\n",
       "      <td>0.026642</td>\n",
       "      <td>0.028967</td>\n",
       "      <td>0.027767</td>\n",
       "    </tr>\n",
       "    <tr>\n",
       "      <th>3</th>\n",
       "      <td>2016-11</td>\n",
       "      <td>0.015961</td>\n",
       "      <td>0.015971</td>\n",
       "      <td>0.017398</td>\n",
       "      <td>0.017547</td>\n",
       "    </tr>\n",
       "    <tr>\n",
       "      <th>4</th>\n",
       "      <td>2016-12</td>\n",
       "      <td>0.007405</td>\n",
       "      <td>0.007150</td>\n",
       "      <td>0.007933</td>\n",
       "      <td>0.006429</td>\n",
       "    </tr>\n",
       "    <tr>\n",
       "      <th>5</th>\n",
       "      <td>2017-01</td>\n",
       "      <td>0.025176</td>\n",
       "      <td>0.025507</td>\n",
       "      <td>0.025899</td>\n",
       "      <td>0.023427</td>\n",
       "    </tr>\n",
       "    <tr>\n",
       "      <th>6</th>\n",
       "      <td>2017-02</td>\n",
       "      <td>0.030371</td>\n",
       "      <td>0.030548</td>\n",
       "      <td>0.032634</td>\n",
       "      <td>0.026842</td>\n",
       "    </tr>\n",
       "    <tr>\n",
       "      <th>7</th>\n",
       "      <td>2017-03</td>\n",
       "      <td>0.033522</td>\n",
       "      <td>0.033530</td>\n",
       "      <td>0.035816</td>\n",
       "      <td>0.033024</td>\n",
       "    </tr>\n",
       "    <tr>\n",
       "      <th>8</th>\n",
       "      <td>2017-04</td>\n",
       "      <td>0.029146</td>\n",
       "      <td>0.028865</td>\n",
       "      <td>0.028307</td>\n",
       "      <td>0.027271</td>\n",
       "    </tr>\n",
       "    <tr>\n",
       "      <th>9</th>\n",
       "      <td>2017-05</td>\n",
       "      <td>0.024746</td>\n",
       "      <td>0.024544</td>\n",
       "      <td>0.025170</td>\n",
       "      <td>0.023484</td>\n",
       "    </tr>\n",
       "    <tr>\n",
       "      <th>10</th>\n",
       "      <td>2017-06</td>\n",
       "      <td>0.033889</td>\n",
       "      <td>0.033882</td>\n",
       "      <td>0.033327</td>\n",
       "      <td>0.030688</td>\n",
       "    </tr>\n",
       "    <tr>\n",
       "      <th>11</th>\n",
       "      <td>2017-07</td>\n",
       "      <td>0.020805</td>\n",
       "      <td>0.020836</td>\n",
       "      <td>0.020539</td>\n",
       "      <td>0.017520</td>\n",
       "    </tr>\n",
       "    <tr>\n",
       "      <th>12</th>\n",
       "      <td>2017-08</td>\n",
       "      <td>0.037993</td>\n",
       "      <td>0.038721</td>\n",
       "      <td>0.037010</td>\n",
       "      <td>0.030901</td>\n",
       "    </tr>\n",
       "    <tr>\n",
       "      <th>13</th>\n",
       "      <td>2017-09</td>\n",
       "      <td>0.023944</td>\n",
       "      <td>0.024209</td>\n",
       "      <td>0.017054</td>\n",
       "      <td>0.013731</td>\n",
       "    </tr>\n",
       "    <tr>\n",
       "      <th>14</th>\n",
       "      <td>2017-10</td>\n",
       "      <td>0.062082</td>\n",
       "      <td>0.062305</td>\n",
       "      <td>0.049595</td>\n",
       "      <td>0.040684</td>\n",
       "    </tr>\n",
       "    <tr>\n",
       "      <th>15</th>\n",
       "      <td>2017-11</td>\n",
       "      <td>0.084970</td>\n",
       "      <td>0.084987</td>\n",
       "      <td>0.068570</td>\n",
       "      <td>0.054596</td>\n",
       "    </tr>\n",
       "    <tr>\n",
       "      <th>16</th>\n",
       "      <td>2017-12</td>\n",
       "      <td>0.085141</td>\n",
       "      <td>0.086479</td>\n",
       "      <td>0.064673</td>\n",
       "      <td>0.044525</td>\n",
       "    </tr>\n",
       "    <tr>\n",
       "      <th>17</th>\n",
       "      <td>2018-01</td>\n",
       "      <td>0.107599</td>\n",
       "      <td>0.108853</td>\n",
       "      <td>0.082347</td>\n",
       "      <td>0.062354</td>\n",
       "    </tr>\n",
       "    <tr>\n",
       "      <th>18</th>\n",
       "      <td>2018-02</td>\n",
       "      <td>0.084703</td>\n",
       "      <td>0.085057</td>\n",
       "      <td>0.064256</td>\n",
       "      <td>0.044669</td>\n",
       "    </tr>\n",
       "    <tr>\n",
       "      <th>19</th>\n",
       "      <td>2018-03</td>\n",
       "      <td>0.091080</td>\n",
       "      <td>0.091683</td>\n",
       "      <td>0.064621</td>\n",
       "      <td>0.047360</td>\n",
       "    </tr>\n",
       "    <tr>\n",
       "      <th>20</th>\n",
       "      <td>2018-04</td>\n",
       "      <td>0.079360</td>\n",
       "      <td>0.079503</td>\n",
       "      <td>0.055488</td>\n",
       "      <td>0.038440</td>\n",
       "    </tr>\n",
       "    <tr>\n",
       "      <th>21</th>\n",
       "      <td>2018-05</td>\n",
       "      <td>0.087500</td>\n",
       "      <td>0.088269</td>\n",
       "      <td>0.065582</td>\n",
       "      <td>0.049690</td>\n",
       "    </tr>\n",
       "    <tr>\n",
       "      <th>22</th>\n",
       "      <td>2018-06</td>\n",
       "      <td>0.115749</td>\n",
       "      <td>0.117269</td>\n",
       "      <td>0.089716</td>\n",
       "      <td>0.067114</td>\n",
       "    </tr>\n",
       "  </tbody>\n",
       "</table>\n",
       "</div>"
      ],
      "text/plain": [
       "   month_year  baseline_score_psi  weighted_score_psi  undersampled_score_psi  \\\n",
       "0     2016-08            0.002100            0.001876                0.001097   \n",
       "1     2016-09            0.009360            0.009181                0.008988   \n",
       "2     2016-10            0.026863            0.026642                0.028967   \n",
       "3     2016-11            0.015961            0.015971                0.017398   \n",
       "4     2016-12            0.007405            0.007150                0.007933   \n",
       "5     2017-01            0.025176            0.025507                0.025899   \n",
       "6     2017-02            0.030371            0.030548                0.032634   \n",
       "7     2017-03            0.033522            0.033530                0.035816   \n",
       "8     2017-04            0.029146            0.028865                0.028307   \n",
       "9     2017-05            0.024746            0.024544                0.025170   \n",
       "10    2017-06            0.033889            0.033882                0.033327   \n",
       "11    2017-07            0.020805            0.020836                0.020539   \n",
       "12    2017-08            0.037993            0.038721                0.037010   \n",
       "13    2017-09            0.023944            0.024209                0.017054   \n",
       "14    2017-10            0.062082            0.062305                0.049595   \n",
       "15    2017-11            0.084970            0.084987                0.068570   \n",
       "16    2017-12            0.085141            0.086479                0.064673   \n",
       "17    2018-01            0.107599            0.108853                0.082347   \n",
       "18    2018-02            0.084703            0.085057                0.064256   \n",
       "19    2018-03            0.091080            0.091683                0.064621   \n",
       "20    2018-04            0.079360            0.079503                0.055488   \n",
       "21    2018-05            0.087500            0.088269                0.065582   \n",
       "22    2018-06            0.115749            0.117269                0.089716   \n",
       "\n",
       "    xgboost_score_psi  \n",
       "0            0.002079  \n",
       "1            0.007551  \n",
       "2            0.027767  \n",
       "3            0.017547  \n",
       "4            0.006429  \n",
       "5            0.023427  \n",
       "6            0.026842  \n",
       "7            0.033024  \n",
       "8            0.027271  \n",
       "9            0.023484  \n",
       "10           0.030688  \n",
       "11           0.017520  \n",
       "12           0.030901  \n",
       "13           0.013731  \n",
       "14           0.040684  \n",
       "15           0.054596  \n",
       "16           0.044525  \n",
       "17           0.062354  \n",
       "18           0.044669  \n",
       "19           0.047360  \n",
       "20           0.038440  \n",
       "21           0.049690  \n",
       "22           0.067114  "
      ]
     },
     "execution_count": 34,
     "metadata": {},
     "output_type": "execute_result"
    }
   ],
   "source": [
    "results['psi_by_month']"
   ]
  },
  {
   "cell_type": "markdown",
   "metadata": {},
   "source": [
    "# Temporal Stability"
   ]
  },
  {
   "cell_type": "code",
   "execution_count": 36,
   "metadata": {},
   "outputs": [],
   "source": [
    "# New stability modules\n",
    "import stability_utils as stu\n",
    "import stability_plots as stp\n",
    "\n",
    "# Optional: if you edit the .py files and want to reload them without restarting the kernel\n",
    "from importlib import reload\n",
    "\n",
    "stu = reload(stu)\n",
    "stp = reload(stp)\n",
    "\n",
    "\n",
    "# Columns in your data\n",
    "period_col = \"m_vintage\"  # or the month column you use\n",
    "# Example score columns (rename to match your data)\n",
    "model_scores = {\n",
    "    \"Baseline\": \"baseline_score\",\n",
    "    \"Weighted\": \"weighted_score\",\n",
    "    \"Undersampled\": \"undersampled_score\",\n",
    "    \"XGBoost\": \"xgboost_score\",\n",
    "}\n",
    "\n",
    "# Colors (your thesis palette)\n",
    "model_colors = {\n",
    "    \"Baseline\": \"#1560bd\",\n",
    "    \"Weighted\": \"#75caed\",\n",
    "    \"Undersampled\": \"#8B7EC8\",\n",
    "    \"XGBoost\": \"#d62728\",\n",
    "}\n",
    "\n",
    "# Choose the reference period for PSI and fixed deciles (use the earliest vintage in your data if unsure)\n",
    "reference_period = None  # or a specific value like \"2022-01\""
   ]
  },
  {
   "cell_type": "markdown",
   "metadata": {},
   "source": [
    "## PSI"
   ]
  },
  {
   "cell_type": "code",
   "execution_count": 37,
   "metadata": {},
   "outputs": [
    {
     "data": {
      "application/vnd.plotly.v1+json": {
       "config": {
        "plotlyServerURL": "https://plot.ly"
       },
       "data": [
        {
         "hovertemplate": "Model=Baseline<br>period=%{x}<br>psi=%{y}<extra></extra>",
         "legendgroup": "Baseline",
         "line": {
          "color": "#1560bd",
          "dash": "solid"
         },
         "marker": {
          "symbol": "circle"
         },
         "mode": "lines+markers",
         "name": "Baseline",
         "orientation": "v",
         "showlegend": true,
         "type": "scatter",
         "x": [
          "2016-07-01T00:00:00.000000000",
          "2016-08-01T00:00:00.000000000",
          "2016-09-01T00:00:00.000000000",
          "2016-10-01T00:00:00.000000000",
          "2016-11-01T00:00:00.000000000",
          "2016-12-01T00:00:00.000000000",
          "2017-01-01T00:00:00.000000000",
          "2017-02-01T00:00:00.000000000",
          "2017-03-01T00:00:00.000000000",
          "2017-04-01T00:00:00.000000000",
          "2017-05-01T00:00:00.000000000",
          "2017-06-01T00:00:00.000000000",
          "2017-07-01T00:00:00.000000000",
          "2017-08-01T00:00:00.000000000",
          "2017-09-01T00:00:00.000000000",
          "2017-10-01T00:00:00.000000000",
          "2017-11-01T00:00:00.000000000",
          "2017-12-01T00:00:00.000000000",
          "2018-01-01T00:00:00.000000000",
          "2018-02-01T00:00:00.000000000",
          "2018-03-01T00:00:00.000000000",
          "2018-04-01T00:00:00.000000000",
          "2018-05-01T00:00:00.000000000",
          "2018-06-01T00:00:00.000000000",
          "2018-07-01T00:00:00.000000000",
          "2018-08-01T00:00:00.000000000",
          "2018-09-01T00:00:00.000000000",
          "2018-10-01T00:00:00.000000000",
          "2018-11-01T00:00:00.000000000",
          "2018-12-01T00:00:00.000000000"
         ],
         "xaxis": "x",
         "y": {
          "bdata": "AAAAAAAAAAAREfKObXVfP4wijra9+YI/c76S+k8PnD8gQSCaUPaQPxjIwgiYQYE/lu2TsWDAmj+zTsZX8nefP92MLlcgEaM/L049pSRIoD+CJwVUmyWcP05lcLYp+KM/afUoHzhvmz94IJBjve6kP6nreZdvNJg/anjQlCRirj+Iv21a1X61P/mLzvUO+LU/Pw+ehuT+vD9BFUJaXgyzP7h4EcLe/LI/TICkG+c2sT9xttVz+bqrP9pLIASdYK8/sgrXd4S3sD+Jz4CS5zq0PyasqQYOi7Q/llYSf92etj+EDU+7uk22P3ctQ+nss7k/",
          "dtype": "f8"
         },
         "yaxis": "y"
        },
        {
         "hovertemplate": "Model=Undersampled<br>period=%{x}<br>psi=%{y}<extra></extra>",
         "legendgroup": "Undersampled",
         "line": {
          "color": "#8B7EC8",
          "dash": "solid"
         },
         "marker": {
          "symbol": "circle"
         },
         "mode": "lines+markers",
         "name": "Undersampled",
         "orientation": "v",
         "showlegend": true,
         "type": "scatter",
         "x": [
          "2016-07-01T00:00:00.000000000",
          "2016-08-01T00:00:00.000000000",
          "2016-09-01T00:00:00.000000000",
          "2016-10-01T00:00:00.000000000",
          "2016-11-01T00:00:00.000000000",
          "2016-12-01T00:00:00.000000000",
          "2017-01-01T00:00:00.000000000",
          "2017-02-01T00:00:00.000000000",
          "2017-03-01T00:00:00.000000000",
          "2017-04-01T00:00:00.000000000",
          "2017-05-01T00:00:00.000000000",
          "2017-06-01T00:00:00.000000000",
          "2017-07-01T00:00:00.000000000",
          "2017-08-01T00:00:00.000000000",
          "2017-09-01T00:00:00.000000000",
          "2017-10-01T00:00:00.000000000",
          "2017-11-01T00:00:00.000000000",
          "2017-12-01T00:00:00.000000000",
          "2018-01-01T00:00:00.000000000",
          "2018-02-01T00:00:00.000000000",
          "2018-03-01T00:00:00.000000000",
          "2018-04-01T00:00:00.000000000",
          "2018-05-01T00:00:00.000000000",
          "2018-06-01T00:00:00.000000000",
          "2018-07-01T00:00:00.000000000",
          "2018-08-01T00:00:00.000000000",
          "2018-09-01T00:00:00.000000000",
          "2018-10-01T00:00:00.000000000",
          "2018-11-01T00:00:00.000000000",
          "2018-12-01T00:00:00.000000000"
         ],
         "xaxis": "x",
         "y": {
          "bdata": "AAAAAAAAAAAR4yHeXu5VP4IAHtfX04I/wj72nv8Unj8+pL/qrlSSPw8d1dzgNIY/ANcuxG5RnT8+urBo/6ehP8+CEsNQXaQ/hwzcukp3oD98xO4NlLCcPxx7L8nIMKM/CJQu61OhmT/eGXCQLVikPycJNS2SDpI/SsfK1/79pz9SZQU9b7awPzSmJ7L2OrA/N6SrpUcXtj9wXZBE8/OqP5yxd6BMgqo/Lg9TfWksqD8wpqMsuQ6jPwcjK8fi7aU/OuwdyMiUqT/Kz9vX9t6uP/gEspxKMbA/Py6OH8f3sT+cMQh5tGSyP3a9aEUGH7U/",
          "dtype": "f8"
         },
         "yaxis": "y"
        },
        {
         "hovertemplate": "Model=Weighted<br>period=%{x}<br>psi=%{y}<extra></extra>",
         "legendgroup": "Weighted",
         "line": {
          "color": "#75caed",
          "dash": "solid"
         },
         "marker": {
          "symbol": "circle"
         },
         "mode": "lines+markers",
         "name": "Weighted",
         "orientation": "v",
         "showlegend": true,
         "type": "scatter",
         "x": [
          "2016-07-01T00:00:00.000000000",
          "2016-08-01T00:00:00.000000000",
          "2016-09-01T00:00:00.000000000",
          "2016-10-01T00:00:00.000000000",
          "2016-11-01T00:00:00.000000000",
          "2016-12-01T00:00:00.000000000",
          "2017-01-01T00:00:00.000000000",
          "2017-02-01T00:00:00.000000000",
          "2017-03-01T00:00:00.000000000",
          "2017-04-01T00:00:00.000000000",
          "2017-05-01T00:00:00.000000000",
          "2017-06-01T00:00:00.000000000",
          "2017-07-01T00:00:00.000000000",
          "2017-08-01T00:00:00.000000000",
          "2017-09-01T00:00:00.000000000",
          "2017-10-01T00:00:00.000000000",
          "2017-11-01T00:00:00.000000000",
          "2017-12-01T00:00:00.000000000",
          "2018-01-01T00:00:00.000000000",
          "2018-02-01T00:00:00.000000000",
          "2018-03-01T00:00:00.000000000",
          "2018-04-01T00:00:00.000000000",
          "2018-05-01T00:00:00.000000000",
          "2018-06-01T00:00:00.000000000",
          "2018-07-01T00:00:00.000000000",
          "2018-08-01T00:00:00.000000000",
          "2018-09-01T00:00:00.000000000",
          "2018-10-01T00:00:00.000000000",
          "2018-11-01T00:00:00.000000000",
          "2018-12-01T00:00:00.000000000"
         ],
         "xaxis": "x",
         "y": {
          "bdata": "AAAAAAAAAACGE5s9uhlgPzQj8liIKoM/gFc81E5HnD/NsizyRxORPwiv+YMhqYE/NhQ1+bMhmz/zeYWoIbqfP4K58JdjM6M/Q172hmNroD9gJYzCpxGcPxtdhYXaL6Q/7WCj/FLUmz/6irjDG0ilPyLQi7TcBJk/iHkMkzn4rj+ZsPqD79K1P8KTeEHrTrY/VIoDvGZ7vT+3HgKab0GzP0u1NrTtOrM/piB4tBR6sT8IswIvrzGsP+O1kRoG8K8/wwH592sKsT+WKlDqnn60PwD/l1Iz67Q/VqrscjIDtz8ugDsokIy2PzgFoYRIDbo/",
          "dtype": "f8"
         },
         "yaxis": "y"
        },
        {
         "hovertemplate": "Model=XGBoost<br>period=%{x}<br>psi=%{y}<extra></extra>",
         "legendgroup": "XGBoost",
         "line": {
          "color": "#d62728",
          "dash": "solid"
         },
         "marker": {
          "symbol": "circle"
         },
         "mode": "lines+markers",
         "name": "XGBoost",
         "orientation": "v",
         "showlegend": true,
         "type": "scatter",
         "x": [
          "2016-07-01T00:00:00.000000000",
          "2016-08-01T00:00:00.000000000",
          "2016-09-01T00:00:00.000000000",
          "2016-10-01T00:00:00.000000000",
          "2016-11-01T00:00:00.000000000",
          "2016-12-01T00:00:00.000000000",
          "2017-01-01T00:00:00.000000000",
          "2017-02-01T00:00:00.000000000",
          "2017-03-01T00:00:00.000000000",
          "2017-04-01T00:00:00.000000000",
          "2017-05-01T00:00:00.000000000",
          "2017-06-01T00:00:00.000000000",
          "2017-07-01T00:00:00.000000000",
          "2017-08-01T00:00:00.000000000",
          "2017-09-01T00:00:00.000000000",
          "2017-10-01T00:00:00.000000000",
          "2017-11-01T00:00:00.000000000",
          "2017-12-01T00:00:00.000000000",
          "2018-01-01T00:00:00.000000000",
          "2018-02-01T00:00:00.000000000",
          "2018-03-01T00:00:00.000000000",
          "2018-04-01T00:00:00.000000000",
          "2018-05-01T00:00:00.000000000",
          "2018-06-01T00:00:00.000000000",
          "2018-07-01T00:00:00.000000000",
          "2018-08-01T00:00:00.000000000",
          "2018-09-01T00:00:00.000000000",
          "2018-10-01T00:00:00.000000000",
          "2018-11-01T00:00:00.000000000",
          "2018-12-01T00:00:00.000000000"
         ],
         "xaxis": "x",
         "y": {
          "bdata": "AAAAAAAAAABli0PSmOZfP47dsyIxCXs/Qi9aKV3Kmj/gmLb0cpmRP4y3qKa8Pn0//WE//oBsmD/oTpx06LabP0IlnEjSu6E/AwqZKXpEmz9/MaT3OgaZP97Z4N7ln6A/K1uBVolblT/M0g04SbOfP9ABL31hWoY/tHIq7ELhoT9J0RA3h0aoP7IVHXxX16Y/v3DY/T/SsD9gHGoRe6miP2joCs9rZKI/Vj1vkftIoD87/4bYPpuaPy3YE8c0VKA/Giie5oAtpD9nKwRFsnWoP4AQ/MX4kag/8drTbFdeqj84Sw9j08WpP23kdDeG5qw/",
          "dtype": "f8"
         },
         "yaxis": "y"
        }
       ],
       "layout": {
        "annotations": [
         {
          "showarrow": false,
          "text": "PSI 0.10",
          "x": 0,
          "xanchor": "left",
          "xref": "x domain",
          "y": 0.1,
          "yanchor": "bottom",
          "yref": "y"
         },
         {
          "showarrow": false,
          "text": "PSI 0.25",
          "x": 0,
          "xanchor": "left",
          "xref": "x domain",
          "y": 0.25,
          "yanchor": "top",
          "yref": "y"
         }
        ],
        "height": 500,
        "legend": {
         "title": {
          "text": ""
         },
         "tracegroupgap": 0
        },
        "paper_bgcolor": "white",
        "plot_bgcolor": "white",
        "shapes": [
         {
          "line": {
           "color": "#999999",
           "dash": "dash"
          },
          "type": "line",
          "x0": 0,
          "x1": 1,
          "xref": "x domain",
          "y0": 0.1,
          "y1": 0.1,
          "yref": "y"
         },
         {
          "line": {
           "color": "#666666",
           "dash": "dash"
          },
          "type": "line",
          "x0": 0,
          "x1": 1,
          "xref": "x domain",
          "y0": 0.25,
          "y1": 0.25,
          "yref": "y"
         }
        ],
        "template": {
         "data": {
          "bar": [
           {
            "error_x": {
             "color": "#2a3f5f"
            },
            "error_y": {
             "color": "#2a3f5f"
            },
            "marker": {
             "line": {
              "color": "white",
              "width": 0.5
             },
             "pattern": {
              "fillmode": "overlay",
              "size": 10,
              "solidity": 0.2
             }
            },
            "type": "bar"
           }
          ],
          "barpolar": [
           {
            "marker": {
             "line": {
              "color": "white",
              "width": 0.5
             },
             "pattern": {
              "fillmode": "overlay",
              "size": 10,
              "solidity": 0.2
             }
            },
            "type": "barpolar"
           }
          ],
          "carpet": [
           {
            "aaxis": {
             "endlinecolor": "#2a3f5f",
             "gridcolor": "#C8D4E3",
             "linecolor": "#C8D4E3",
             "minorgridcolor": "#C8D4E3",
             "startlinecolor": "#2a3f5f"
            },
            "baxis": {
             "endlinecolor": "#2a3f5f",
             "gridcolor": "#C8D4E3",
             "linecolor": "#C8D4E3",
             "minorgridcolor": "#C8D4E3",
             "startlinecolor": "#2a3f5f"
            },
            "type": "carpet"
           }
          ],
          "choropleth": [
           {
            "colorbar": {
             "outlinewidth": 0,
             "ticks": ""
            },
            "type": "choropleth"
           }
          ],
          "contour": [
           {
            "colorbar": {
             "outlinewidth": 0,
             "ticks": ""
            },
            "colorscale": [
             [
              0,
              "#0d0887"
             ],
             [
              0.1111111111111111,
              "#46039f"
             ],
             [
              0.2222222222222222,
              "#7201a8"
             ],
             [
              0.3333333333333333,
              "#9c179e"
             ],
             [
              0.4444444444444444,
              "#bd3786"
             ],
             [
              0.5555555555555556,
              "#d8576b"
             ],
             [
              0.6666666666666666,
              "#ed7953"
             ],
             [
              0.7777777777777778,
              "#fb9f3a"
             ],
             [
              0.8888888888888888,
              "#fdca26"
             ],
             [
              1,
              "#f0f921"
             ]
            ],
            "type": "contour"
           }
          ],
          "contourcarpet": [
           {
            "colorbar": {
             "outlinewidth": 0,
             "ticks": ""
            },
            "type": "contourcarpet"
           }
          ],
          "heatmap": [
           {
            "colorbar": {
             "outlinewidth": 0,
             "ticks": ""
            },
            "colorscale": [
             [
              0,
              "#0d0887"
             ],
             [
              0.1111111111111111,
              "#46039f"
             ],
             [
              0.2222222222222222,
              "#7201a8"
             ],
             [
              0.3333333333333333,
              "#9c179e"
             ],
             [
              0.4444444444444444,
              "#bd3786"
             ],
             [
              0.5555555555555556,
              "#d8576b"
             ],
             [
              0.6666666666666666,
              "#ed7953"
             ],
             [
              0.7777777777777778,
              "#fb9f3a"
             ],
             [
              0.8888888888888888,
              "#fdca26"
             ],
             [
              1,
              "#f0f921"
             ]
            ],
            "type": "heatmap"
           }
          ],
          "histogram": [
           {
            "marker": {
             "pattern": {
              "fillmode": "overlay",
              "size": 10,
              "solidity": 0.2
             }
            },
            "type": "histogram"
           }
          ],
          "histogram2d": [
           {
            "colorbar": {
             "outlinewidth": 0,
             "ticks": ""
            },
            "colorscale": [
             [
              0,
              "#0d0887"
             ],
             [
              0.1111111111111111,
              "#46039f"
             ],
             [
              0.2222222222222222,
              "#7201a8"
             ],
             [
              0.3333333333333333,
              "#9c179e"
             ],
             [
              0.4444444444444444,
              "#bd3786"
             ],
             [
              0.5555555555555556,
              "#d8576b"
             ],
             [
              0.6666666666666666,
              "#ed7953"
             ],
             [
              0.7777777777777778,
              "#fb9f3a"
             ],
             [
              0.8888888888888888,
              "#fdca26"
             ],
             [
              1,
              "#f0f921"
             ]
            ],
            "type": "histogram2d"
           }
          ],
          "histogram2dcontour": [
           {
            "colorbar": {
             "outlinewidth": 0,
             "ticks": ""
            },
            "colorscale": [
             [
              0,
              "#0d0887"
             ],
             [
              0.1111111111111111,
              "#46039f"
             ],
             [
              0.2222222222222222,
              "#7201a8"
             ],
             [
              0.3333333333333333,
              "#9c179e"
             ],
             [
              0.4444444444444444,
              "#bd3786"
             ],
             [
              0.5555555555555556,
              "#d8576b"
             ],
             [
              0.6666666666666666,
              "#ed7953"
             ],
             [
              0.7777777777777778,
              "#fb9f3a"
             ],
             [
              0.8888888888888888,
              "#fdca26"
             ],
             [
              1,
              "#f0f921"
             ]
            ],
            "type": "histogram2dcontour"
           }
          ],
          "mesh3d": [
           {
            "colorbar": {
             "outlinewidth": 0,
             "ticks": ""
            },
            "type": "mesh3d"
           }
          ],
          "parcoords": [
           {
            "line": {
             "colorbar": {
              "outlinewidth": 0,
              "ticks": ""
             }
            },
            "type": "parcoords"
           }
          ],
          "pie": [
           {
            "automargin": true,
            "type": "pie"
           }
          ],
          "scatter": [
           {
            "fillpattern": {
             "fillmode": "overlay",
             "size": 10,
             "solidity": 0.2
            },
            "type": "scatter"
           }
          ],
          "scatter3d": [
           {
            "line": {
             "colorbar": {
              "outlinewidth": 0,
              "ticks": ""
             }
            },
            "marker": {
             "colorbar": {
              "outlinewidth": 0,
              "ticks": ""
             }
            },
            "type": "scatter3d"
           }
          ],
          "scattercarpet": [
           {
            "marker": {
             "colorbar": {
              "outlinewidth": 0,
              "ticks": ""
             }
            },
            "type": "scattercarpet"
           }
          ],
          "scattergeo": [
           {
            "marker": {
             "colorbar": {
              "outlinewidth": 0,
              "ticks": ""
             }
            },
            "type": "scattergeo"
           }
          ],
          "scattergl": [
           {
            "marker": {
             "colorbar": {
              "outlinewidth": 0,
              "ticks": ""
             }
            },
            "type": "scattergl"
           }
          ],
          "scattermap": [
           {
            "marker": {
             "colorbar": {
              "outlinewidth": 0,
              "ticks": ""
             }
            },
            "type": "scattermap"
           }
          ],
          "scattermapbox": [
           {
            "marker": {
             "colorbar": {
              "outlinewidth": 0,
              "ticks": ""
             }
            },
            "type": "scattermapbox"
           }
          ],
          "scatterpolar": [
           {
            "marker": {
             "colorbar": {
              "outlinewidth": 0,
              "ticks": ""
             }
            },
            "type": "scatterpolar"
           }
          ],
          "scatterpolargl": [
           {
            "marker": {
             "colorbar": {
              "outlinewidth": 0,
              "ticks": ""
             }
            },
            "type": "scatterpolargl"
           }
          ],
          "scatterternary": [
           {
            "marker": {
             "colorbar": {
              "outlinewidth": 0,
              "ticks": ""
             }
            },
            "type": "scatterternary"
           }
          ],
          "surface": [
           {
            "colorbar": {
             "outlinewidth": 0,
             "ticks": ""
            },
            "colorscale": [
             [
              0,
              "#0d0887"
             ],
             [
              0.1111111111111111,
              "#46039f"
             ],
             [
              0.2222222222222222,
              "#7201a8"
             ],
             [
              0.3333333333333333,
              "#9c179e"
             ],
             [
              0.4444444444444444,
              "#bd3786"
             ],
             [
              0.5555555555555556,
              "#d8576b"
             ],
             [
              0.6666666666666666,
              "#ed7953"
             ],
             [
              0.7777777777777778,
              "#fb9f3a"
             ],
             [
              0.8888888888888888,
              "#fdca26"
             ],
             [
              1,
              "#f0f921"
             ]
            ],
            "type": "surface"
           }
          ],
          "table": [
           {
            "cells": {
             "fill": {
              "color": "#EBF0F8"
             },
             "line": {
              "color": "white"
             }
            },
            "header": {
             "fill": {
              "color": "#C8D4E3"
             },
             "line": {
              "color": "white"
             }
            },
            "type": "table"
           }
          ]
         },
         "layout": {
          "annotationdefaults": {
           "arrowcolor": "#2a3f5f",
           "arrowhead": 0,
           "arrowwidth": 1
          },
          "autotypenumbers": "strict",
          "coloraxis": {
           "colorbar": {
            "outlinewidth": 0,
            "ticks": ""
           }
          },
          "colorscale": {
           "diverging": [
            [
             0,
             "#8e0152"
            ],
            [
             0.1,
             "#c51b7d"
            ],
            [
             0.2,
             "#de77ae"
            ],
            [
             0.3,
             "#f1b6da"
            ],
            [
             0.4,
             "#fde0ef"
            ],
            [
             0.5,
             "#f7f7f7"
            ],
            [
             0.6,
             "#e6f5d0"
            ],
            [
             0.7,
             "#b8e186"
            ],
            [
             0.8,
             "#7fbc41"
            ],
            [
             0.9,
             "#4d9221"
            ],
            [
             1,
             "#276419"
            ]
           ],
           "sequential": [
            [
             0,
             "#0d0887"
            ],
            [
             0.1111111111111111,
             "#46039f"
            ],
            [
             0.2222222222222222,
             "#7201a8"
            ],
            [
             0.3333333333333333,
             "#9c179e"
            ],
            [
             0.4444444444444444,
             "#bd3786"
            ],
            [
             0.5555555555555556,
             "#d8576b"
            ],
            [
             0.6666666666666666,
             "#ed7953"
            ],
            [
             0.7777777777777778,
             "#fb9f3a"
            ],
            [
             0.8888888888888888,
             "#fdca26"
            ],
            [
             1,
             "#f0f921"
            ]
           ],
           "sequentialminus": [
            [
             0,
             "#0d0887"
            ],
            [
             0.1111111111111111,
             "#46039f"
            ],
            [
             0.2222222222222222,
             "#7201a8"
            ],
            [
             0.3333333333333333,
             "#9c179e"
            ],
            [
             0.4444444444444444,
             "#bd3786"
            ],
            [
             0.5555555555555556,
             "#d8576b"
            ],
            [
             0.6666666666666666,
             "#ed7953"
            ],
            [
             0.7777777777777778,
             "#fb9f3a"
            ],
            [
             0.8888888888888888,
             "#fdca26"
            ],
            [
             1,
             "#f0f921"
            ]
           ]
          },
          "colorway": [
           "#636efa",
           "#EF553B",
           "#00cc96",
           "#ab63fa",
           "#FFA15A",
           "#19d3f3",
           "#FF6692",
           "#B6E880",
           "#FF97FF",
           "#FECB52"
          ],
          "font": {
           "color": "#2a3f5f"
          },
          "geo": {
           "bgcolor": "white",
           "lakecolor": "white",
           "landcolor": "white",
           "showlakes": true,
           "showland": true,
           "subunitcolor": "#C8D4E3"
          },
          "hoverlabel": {
           "align": "left"
          },
          "hovermode": "closest",
          "mapbox": {
           "style": "light"
          },
          "paper_bgcolor": "white",
          "plot_bgcolor": "white",
          "polar": {
           "angularaxis": {
            "gridcolor": "#EBF0F8",
            "linecolor": "#EBF0F8",
            "ticks": ""
           },
           "bgcolor": "white",
           "radialaxis": {
            "gridcolor": "#EBF0F8",
            "linecolor": "#EBF0F8",
            "ticks": ""
           }
          },
          "scene": {
           "xaxis": {
            "backgroundcolor": "white",
            "gridcolor": "#DFE8F3",
            "gridwidth": 2,
            "linecolor": "#EBF0F8",
            "showbackground": true,
            "ticks": "",
            "zerolinecolor": "#EBF0F8"
           },
           "yaxis": {
            "backgroundcolor": "white",
            "gridcolor": "#DFE8F3",
            "gridwidth": 2,
            "linecolor": "#EBF0F8",
            "showbackground": true,
            "ticks": "",
            "zerolinecolor": "#EBF0F8"
           },
           "zaxis": {
            "backgroundcolor": "white",
            "gridcolor": "#DFE8F3",
            "gridwidth": 2,
            "linecolor": "#EBF0F8",
            "showbackground": true,
            "ticks": "",
            "zerolinecolor": "#EBF0F8"
           }
          },
          "shapedefaults": {
           "line": {
            "color": "#2a3f5f"
           }
          },
          "ternary": {
           "aaxis": {
            "gridcolor": "#DFE8F3",
            "linecolor": "#A2B1C6",
            "ticks": ""
           },
           "baxis": {
            "gridcolor": "#DFE8F3",
            "linecolor": "#A2B1C6",
            "ticks": ""
           },
           "bgcolor": "white",
           "caxis": {
            "gridcolor": "#DFE8F3",
            "linecolor": "#A2B1C6",
            "ticks": ""
           }
          },
          "title": {
           "x": 0.05
          },
          "xaxis": {
           "automargin": true,
           "gridcolor": "#EBF0F8",
           "linecolor": "#EBF0F8",
           "ticks": "",
           "title": {
            "standoff": 15
           },
           "zerolinecolor": "#EBF0F8",
           "zerolinewidth": 2
          },
          "yaxis": {
           "automargin": true,
           "gridcolor": "#EBF0F8",
           "linecolor": "#EBF0F8",
           "ticks": "",
           "title": {
            "standoff": 15
           },
           "zerolinecolor": "#EBF0F8",
           "zerolinewidth": 2
          }
         }
        },
        "title": {
         "text": "Score Stability (PSI) Over Time",
         "x": 0.5
        },
        "width": 1100,
        "xaxis": {
         "anchor": "y",
         "domain": [
          0,
          1
         ],
         "gridcolor": "lightgrey",
         "linecolor": "black",
         "linewidth": 1,
         "mirror": true,
         "showline": true,
         "title": {
          "text": "Month-Period"
         }
        },
        "yaxis": {
         "anchor": "x",
         "domain": [
          0,
          1
         ],
         "gridcolor": "lightgrey",
         "linecolor": "black",
         "linewidth": 1,
         "mirror": true,
         "range": [
          0,
          0.275
         ],
         "showline": true,
         "title": {
          "text": "PSI Value"
         }
        }
       }
      }
     },
     "metadata": {},
     "output_type": "display_data"
    }
   ],
   "source": [
    "psi_list = []\n",
    "for model_name, score_col in model_scores.items():\n",
    "    psi_df, details_by_p, edges, ref_used = stu.compute_psi_over_time(\n",
    "        df=df_filter, \n",
    "        score_col=score_col, \n",
    "        period_col=period_col,\n",
    "        reference_period=reference_period,  # None => earliest period\n",
    "        n_bins=10, \n",
    "        clip_perc=1e-6,\n",
    "        dropna_scores=True\n",
    "    )\n",
    "    psi_df[\"Model\"] = model_name\n",
    "    psi_list.append(psi_df)\n",
    "\n",
    "psi_all = pd.concat(psi_list, ignore_index=True)\n",
    "\n",
    "fig_psi = stp.plot_psi_over_time(\n",
    "    psi_df=psi_all,\n",
    "    period_col=\"period\",\n",
    "    psi_col=\"psi\",\n",
    "    model_col=\"Model\",\n",
    "    title=\"Score Stability (PSI) Over Time\",\n",
    "    colors=model_colors,   # ensures exact color names/keys\n",
    "    thresholds=(0.10, 0.25),\n",
    "    width=1100,\n",
    "    height=500,\n",
    "\n",
    ")\n",
    "\n",
    "fig_psi.update_layout(\n",
    "    xaxis_title=\"Month-Period\",\n",
    "    yaxis_title=\"PSI Value\"\n",
    ")\n",
    "\n",
    "\n",
    "fig_psi.show()"
   ]
  },
  {
   "cell_type": "markdown",
   "metadata": {},
   "source": [
    "## Distribution"
   ]
  },
  {
   "cell_type": "code",
   "execution_count": 137,
   "metadata": {},
   "outputs": [
    {
     "data": {
      "application/vnd.plotly.v1+json": {
       "config": {
        "plotlyServerURL": "https://plot.ly"
       },
       "data": [
        {
         "groupnorm": "fraction",
         "line": {
          "color": "rgb(0,104,55)",
          "width": 0.8
         },
         "mode": "lines",
         "name": "Decile 1",
         "showlegend": false,
         "stackgroup": "group0",
         "type": "scatter",
         "x": [
          "2016-07-01T00:00:00",
          "2016-08-01T00:00:00",
          "2016-09-01T00:00:00",
          "2016-10-01T00:00:00",
          "2016-11-01T00:00:00",
          "2016-12-01T00:00:00",
          "2017-01-01T00:00:00",
          "2017-02-01T00:00:00",
          "2017-03-01T00:00:00",
          "2017-04-01T00:00:00",
          "2017-05-01T00:00:00",
          "2017-06-01T00:00:00",
          "2017-07-01T00:00:00",
          "2017-08-01T00:00:00",
          "2017-09-01T00:00:00",
          "2017-10-01T00:00:00",
          "2017-11-01T00:00:00",
          "2017-12-01T00:00:00",
          "2018-01-01T00:00:00",
          "2018-02-01T00:00:00",
          "2018-03-01T00:00:00",
          "2018-04-01T00:00:00",
          "2018-05-01T00:00:00",
          "2018-06-01T00:00:00",
          "2018-07-01T00:00:00",
          "2018-08-01T00:00:00",
          "2018-09-01T00:00:00",
          "2018-10-01T00:00:00",
          "2018-11-01T00:00:00",
          "2018-12-01T00:00:00"
         ],
         "xaxis": "x",
         "y": {
          "bdata": "YubR3JOnuT8q4Gu/Rz+5P8rNxpaMBr0/pJ1kkEQ9vz8QYDRFZ8K8P07pt3pZj70/2QFusKQAwD8zofItE6DAP0z8IRh7csE/5R52gCuEwT+lkt+00f3AP+D944Ao2sE//nIhrmohwT864V3hpZ7BP4KUwjd2vcE/VRYAtc49wz9bk/1GjnXEP9fkx5Df/MQ/Y5AE6FbXxj9eC+VLoiTFP3ZtSiiuKMU/5uJC2eHzxD9A77kE7//DP3FF1lllKcQ/bIQ/LUBuwz8lq1U8bBrEPzE4bVNxUsQ/0KcuKcdIxD/vN1nsfbLDP7nDRufFLcQ/",
          "dtype": "f8"
         },
         "yaxis": "y"
        },
        {
         "groupnorm": "fraction",
         "line": {
          "color": "rgb(26,152,80)",
          "width": 0.8
         },
         "mode": "lines",
         "name": "Decile 2",
         "showlegend": false,
         "stackgroup": "group0",
         "type": "scatter",
         "x": [
          "2016-07-01T00:00:00",
          "2016-08-01T00:00:00",
          "2016-09-01T00:00:00",
          "2016-10-01T00:00:00",
          "2016-11-01T00:00:00",
          "2016-12-01T00:00:00",
          "2017-01-01T00:00:00",
          "2017-02-01T00:00:00",
          "2017-03-01T00:00:00",
          "2017-04-01T00:00:00",
          "2017-05-01T00:00:00",
          "2017-06-01T00:00:00",
          "2017-07-01T00:00:00",
          "2017-08-01T00:00:00",
          "2017-09-01T00:00:00",
          "2017-10-01T00:00:00",
          "2017-11-01T00:00:00",
          "2017-12-01T00:00:00",
          "2018-01-01T00:00:00",
          "2018-02-01T00:00:00",
          "2018-03-01T00:00:00",
          "2018-04-01T00:00:00",
          "2018-05-01T00:00:00",
          "2018-06-01T00:00:00",
          "2018-07-01T00:00:00",
          "2018-08-01T00:00:00",
          "2018-09-01T00:00:00",
          "2018-10-01T00:00:00",
          "2018-11-01T00:00:00",
          "2018-12-01T00:00:00"
         ],
         "xaxis": "x",
         "y": {
          "bdata": "m+IR4cuiuj/s0M1O1Cm9PzoM1JGqFL4/Ny5M+J1WwD+NqqWR4Ii/Pz2FEIdCw74/mH8fiWyFwD8+9FgrEd6/P1SPWyYBTcA/06nX5kZRwD/Vj91ciw/AP22+A5VqecA/kV2Wt5rlvz+vZLMSbe/AP/ss/rqw6L8/JVlN/1eKwT/nWYb+64rCP3ocvtUoucI/MmHIOlIfwz+XVKZqD87BP2Gk+xtG4sE/ogcQiOpSwT+aYrU1FIjBP5TpbTgBwsE/iQZ0h6EMwj8e/fgRo6jCPz/9YWs/DsI/SUWMZJWywj9quxjlbtLCP6qjgdoIrsI/",
          "dtype": "f8"
         },
         "yaxis": "y"
        },
        {
         "groupnorm": "fraction",
         "line": {
          "color": "rgb(102,189,99)",
          "width": 0.8
         },
         "mode": "lines",
         "name": "Decile 3",
         "showlegend": false,
         "stackgroup": "group0",
         "type": "scatter",
         "x": [
          "2016-07-01T00:00:00",
          "2016-08-01T00:00:00",
          "2016-09-01T00:00:00",
          "2016-10-01T00:00:00",
          "2016-11-01T00:00:00",
          "2016-12-01T00:00:00",
          "2017-01-01T00:00:00",
          "2017-02-01T00:00:00",
          "2017-03-01T00:00:00",
          "2017-04-01T00:00:00",
          "2017-05-01T00:00:00",
          "2017-06-01T00:00:00",
          "2017-07-01T00:00:00",
          "2017-08-01T00:00:00",
          "2017-09-01T00:00:00",
          "2017-10-01T00:00:00",
          "2017-11-01T00:00:00",
          "2017-12-01T00:00:00",
          "2018-01-01T00:00:00",
          "2018-02-01T00:00:00",
          "2018-03-01T00:00:00",
          "2018-04-01T00:00:00",
          "2018-05-01T00:00:00",
          "2018-06-01T00:00:00",
          "2018-07-01T00:00:00",
          "2018-08-01T00:00:00",
          "2018-09-01T00:00:00",
          "2018-10-01T00:00:00",
          "2018-11-01T00:00:00",
          "2018-12-01T00:00:00"
         ],
         "xaxis": "x",
         "y": {
          "bdata": "y6H76cR4wj8zZHcr8rLCPzx5ISZGosM/zdrdsIVixD/WldajuuPDPwJN5CwhacM/2OxJ9dslxD8MZufjvFnEP/fjB/51O8Q/Zu+mDOe+wz9EfhferoXDP8/soLY7VMQ/tAKgXE0PxD8dUEyXyFrEP3YVH+oB98I/TwAe74umxD+d1yduDEjFP+SZpJ4quMQ/d3DgsnEDxT/QoicVe0DEP/Zx14m8MsQ/UFvZLq88xD+leGnId23DP4q3W2CbKMQ/yCdY6iz4xD9OqFbulLfEPxUaHLK4EsU/fhvzm9D7xD/zN5+LxEPFP2EgchqttcU/",
          "dtype": "f8"
         },
         "yaxis": "y"
        },
        {
         "groupnorm": "fraction",
         "line": {
          "color": "rgb(166,217,106)",
          "width": 0.8
         },
         "mode": "lines",
         "name": "Decile 4",
         "showlegend": false,
         "stackgroup": "group0",
         "type": "scatter",
         "x": [
          "2016-07-01T00:00:00",
          "2016-08-01T00:00:00",
          "2016-09-01T00:00:00",
          "2016-10-01T00:00:00",
          "2016-11-01T00:00:00",
          "2016-12-01T00:00:00",
          "2017-01-01T00:00:00",
          "2017-02-01T00:00:00",
          "2017-03-01T00:00:00",
          "2017-04-01T00:00:00",
          "2017-05-01T00:00:00",
          "2017-06-01T00:00:00",
          "2017-07-01T00:00:00",
          "2017-08-01T00:00:00",
          "2017-09-01T00:00:00",
          "2017-10-01T00:00:00",
          "2017-11-01T00:00:00",
          "2017-12-01T00:00:00",
          "2018-01-01T00:00:00",
          "2018-02-01T00:00:00",
          "2018-03-01T00:00:00",
          "2018-04-01T00:00:00",
          "2018-05-01T00:00:00",
          "2018-06-01T00:00:00",
          "2018-07-01T00:00:00",
          "2018-08-01T00:00:00",
          "2018-09-01T00:00:00",
          "2018-10-01T00:00:00",
          "2018-11-01T00:00:00",
          "2018-12-01T00:00:00"
         ],
         "xaxis": "x",
         "y": {
          "bdata": "BCcbdGFdsj9eeTad2ZeyP9jvcAj69rE/vA+2UoxHsz82l9A5BJuyP3ev4MVAi7I/5+8ViL/Csj9ZGfFvHDyzPzFhDIKYArM/dWM8QgAWsz8n769YoiizPx8Ri2JtIrI/D8f4Z0gssj/daof7NG6yP51yDNUmeLE/jn4M9hy8sj9nmDi5jMyxP/noIxxDy7E/SbPjdXovsT++CO2oHBuyP5ZFl/bqRbE/Wry+Q453sT8h0AtBj3OxP4FIEfxVqrE/gsmTRfH+sT/z4pJHU46yP2cKH9LwrLI/8Gnmk4AHsz+aim9QDImyP7UE5aAURbM/",
          "dtype": "f8"
         },
         "yaxis": "y"
        },
        {
         "groupnorm": "fraction",
         "line": {
          "color": "rgb(217,239,139)",
          "width": 0.8
         },
         "mode": "lines",
         "name": "Decile 5",
         "showlegend": false,
         "stackgroup": "group0",
         "type": "scatter",
         "x": [
          "2016-07-01T00:00:00",
          "2016-08-01T00:00:00",
          "2016-09-01T00:00:00",
          "2016-10-01T00:00:00",
          "2016-11-01T00:00:00",
          "2016-12-01T00:00:00",
          "2017-01-01T00:00:00",
          "2017-02-01T00:00:00",
          "2017-03-01T00:00:00",
          "2017-04-01T00:00:00",
          "2017-05-01T00:00:00",
          "2017-06-01T00:00:00",
          "2017-07-01T00:00:00",
          "2017-08-01T00:00:00",
          "2017-09-01T00:00:00",
          "2017-10-01T00:00:00",
          "2017-11-01T00:00:00",
          "2017-12-01T00:00:00",
          "2018-01-01T00:00:00",
          "2018-02-01T00:00:00",
          "2018-03-01T00:00:00",
          "2018-04-01T00:00:00",
          "2018-05-01T00:00:00",
          "2018-06-01T00:00:00",
          "2018-07-01T00:00:00",
          "2018-08-01T00:00:00",
          "2018-09-01T00:00:00",
          "2018-10-01T00:00:00",
          "2018-11-01T00:00:00",
          "2018-12-01T00:00:00"
         ],
         "xaxis": "x",
         "y": {
          "bdata": "scg4HgDevz+b/zBE+L6/P+CjplloLcA/Op5LEJ5SwD/LetBKHTbAP9WUTAgN4r4/FH0aBmt5vz+fzqhPe3G/PyhBvTW/6b8/iwB7DguKvj/n25CWzri+P/Fs0Cm1kb4/z2lLQ/HKvj9D5MxuoV+/P/WnGfR1xr0/F7GPVoTavT9FVsWAq6e9P/C7j1U4Ur0/uG2SPiTSvD88uHXb/AS9PzL8v+SkAb0/5xiB9emEvT+WfJrjRti9P8uhw2lt3bw/J8Gx0dFMvj8alCJQWBi+P9L1RysFJr4/l7OcSPLQvj9p1cq4TiG/Pw/5X/9aQb8/",
          "dtype": "f8"
         },
         "yaxis": "y"
        },
        {
         "groupnorm": "fraction",
         "line": {
          "color": "rgb(254,224,139)",
          "width": 0.8
         },
         "mode": "lines",
         "name": "Decile 6",
         "showlegend": false,
         "stackgroup": "group0",
         "type": "scatter",
         "x": [
          "2016-07-01T00:00:00",
          "2016-08-01T00:00:00",
          "2016-09-01T00:00:00",
          "2016-10-01T00:00:00",
          "2016-11-01T00:00:00",
          "2016-12-01T00:00:00",
          "2017-01-01T00:00:00",
          "2017-02-01T00:00:00",
          "2017-03-01T00:00:00",
          "2017-04-01T00:00:00",
          "2017-05-01T00:00:00",
          "2017-06-01T00:00:00",
          "2017-07-01T00:00:00",
          "2017-08-01T00:00:00",
          "2017-09-01T00:00:00",
          "2017-10-01T00:00:00",
          "2017-11-01T00:00:00",
          "2017-12-01T00:00:00",
          "2018-01-01T00:00:00",
          "2018-02-01T00:00:00",
          "2018-03-01T00:00:00",
          "2018-04-01T00:00:00",
          "2018-05-01T00:00:00",
          "2018-06-01T00:00:00",
          "2018-07-01T00:00:00",
          "2018-08-01T00:00:00",
          "2018-09-01T00:00:00",
          "2018-10-01T00:00:00",
          "2018-11-01T00:00:00",
          "2018-12-01T00:00:00"
         ],
         "xaxis": "x",
         "y": {
          "bdata": "AwOdXM+3tj8SMr9jrwu3P4nPUhnu5LU/Sx0e+3ortj8NwB6b4C23P+crdcmq07U/Dh/ebn+btT9AwdZiG4K2P31VgAV1zLU/WQksOn2YtT+F2CKnly62P0bX/HkNfbU/5cZnmjWVtT8bpZKA9LC1P1+1GCdvBbU/F2fbwSoEtT8KQuOd+2K0P8eays72CLQ/jL8Mal3Dsj/McQpUXZOzP03/bR/4crQ/silxurqhsz+ZNOO+hP6zPy3AbhBOE7Q/bWzWdaYutD+bEWFARP2zPzKiXRdjd7Q/xfuctW6nsz9owVpg4nS0P/Kg6LeQkLQ/",
          "dtype": "f8"
         },
         "yaxis": "y"
        },
        {
         "groupnorm": "fraction",
         "line": {
          "color": "rgb(253,174,97)",
          "width": 0.8
         },
         "mode": "lines",
         "name": "Decile 7",
         "showlegend": false,
         "stackgroup": "group0",
         "type": "scatter",
         "x": [
          "2016-07-01T00:00:00",
          "2016-08-01T00:00:00",
          "2016-09-01T00:00:00",
          "2016-10-01T00:00:00",
          "2016-11-01T00:00:00",
          "2016-12-01T00:00:00",
          "2017-01-01T00:00:00",
          "2017-02-01T00:00:00",
          "2017-03-01T00:00:00",
          "2017-04-01T00:00:00",
          "2017-05-01T00:00:00",
          "2017-06-01T00:00:00",
          "2017-07-01T00:00:00",
          "2017-08-01T00:00:00",
          "2017-09-01T00:00:00",
          "2017-10-01T00:00:00",
          "2017-11-01T00:00:00",
          "2017-12-01T00:00:00",
          "2018-01-01T00:00:00",
          "2018-02-01T00:00:00",
          "2018-03-01T00:00:00",
          "2018-04-01T00:00:00",
          "2018-05-01T00:00:00",
          "2018-06-01T00:00:00",
          "2018-07-01T00:00:00",
          "2018-08-01T00:00:00",
          "2018-09-01T00:00:00",
          "2018-10-01T00:00:00",
          "2018-11-01T00:00:00",
          "2018-12-01T00:00:00"
         ],
         "xaxis": "x",
         "y": {
          "bdata": "3S1n7AuWsj+KXbEWAv2yP1h/C2+brLI/Pql1Dpd9sT/nQ7cbwY2yP0Tb9xgh1rE/OrnyyJmksT+ooojqh+SwP/RGq2Sf+rA/cY6ULflMsT/o2pON6WexP1DDkqOQh7E/6eFuMFmEsT8Yxz3ZUCOxP6a8z14MYbE/KyrsE6EtsD+4C2LBwp2uP1tQ7D6j/64/QEIm2C1Jrj+ZNmy7WSGvPz9J6c8AJ68/ujn5pA0DsD/A6GGwRBqwPwURg7DfAbA/9HpZuzIVsD8k/EhRJ6WvP9xFy0qTTa8/SoSI6zXHrz/iXJdzGJuvP9bdkTKsgq8/",
          "dtype": "f8"
         },
         "yaxis": "y"
        },
        {
         "groupnorm": "fraction",
         "line": {
          "color": "rgb(244,109,67)",
          "width": 0.8
         },
         "mode": "lines",
         "name": "Decile 8",
         "showlegend": false,
         "stackgroup": "group0",
         "type": "scatter",
         "x": [
          "2016-07-01T00:00:00",
          "2016-08-01T00:00:00",
          "2016-09-01T00:00:00",
          "2016-10-01T00:00:00",
          "2016-11-01T00:00:00",
          "2016-12-01T00:00:00",
          "2017-01-01T00:00:00",
          "2017-02-01T00:00:00",
          "2017-03-01T00:00:00",
          "2017-04-01T00:00:00",
          "2017-05-01T00:00:00",
          "2017-06-01T00:00:00",
          "2017-07-01T00:00:00",
          "2017-08-01T00:00:00",
          "2017-09-01T00:00:00",
          "2017-10-01T00:00:00",
          "2017-11-01T00:00:00",
          "2017-12-01T00:00:00",
          "2018-01-01T00:00:00",
          "2018-02-01T00:00:00",
          "2018-03-01T00:00:00",
          "2018-04-01T00:00:00",
          "2018-05-01T00:00:00",
          "2018-06-01T00:00:00",
          "2018-07-01T00:00:00",
          "2018-08-01T00:00:00",
          "2018-09-01T00:00:00",
          "2018-10-01T00:00:00",
          "2018-11-01T00:00:00",
          "2018-12-01T00:00:00"
         ],
         "xaxis": "x",
         "y": {
          "bdata": "0HO2vZLquj/4/fvwRR+6PyEmRqL7obk/HXRQl3KRtz8FRS7syRS5PxDUjZ56+7g/1bXE9jPmtz84IjuBexq4P6yVzryKErc/phrarTbUtj+h40/htAC4P6Lg7Pp03Lc/pQhbwDBCtz/upPjT7WC2P9fHBynDHbc/gT47pbC9tT/TShiCPlu0Pzht8aWKVLQ/g4i+vFafsz/U00TWmO20P4WEfn22TrU/6DOgA27NtT9H+jyvHQq2P+fxmub3ybU/d+8u5CnltD85u6MfP2K0P62JElNkKbU/6rt6SAo8tD8s/vusnuC0P+PYPbCj67M/",
          "dtype": "f8"
         },
         "yaxis": "y"
        },
        {
         "groupnorm": "fraction",
         "line": {
          "color": "rgb(215,48,39)",
          "width": 0.8
         },
         "mode": "lines",
         "name": "Decile 9",
         "showlegend": false,
         "stackgroup": "group0",
         "type": "scatter",
         "x": [
          "2016-07-01T00:00:00",
          "2016-08-01T00:00:00",
          "2016-09-01T00:00:00",
          "2016-10-01T00:00:00",
          "2016-11-01T00:00:00",
          "2016-12-01T00:00:00",
          "2017-01-01T00:00:00",
          "2017-02-01T00:00:00",
          "2017-03-01T00:00:00",
          "2017-04-01T00:00:00",
          "2017-05-01T00:00:00",
          "2017-06-01T00:00:00",
          "2017-07-01T00:00:00",
          "2017-08-01T00:00:00",
          "2017-09-01T00:00:00",
          "2017-10-01T00:00:00",
          "2017-11-01T00:00:00",
          "2017-12-01T00:00:00",
          "2018-01-01T00:00:00",
          "2018-02-01T00:00:00",
          "2018-03-01T00:00:00",
          "2018-04-01T00:00:00",
          "2018-05-01T00:00:00",
          "2018-06-01T00:00:00",
          "2018-07-01T00:00:00",
          "2018-08-01T00:00:00",
          "2018-09-01T00:00:00",
          "2018-10-01T00:00:00",
          "2018-11-01T00:00:00",
          "2018-12-01T00:00:00"
         ],
         "xaxis": "x",
         "y": {
          "bdata": "yfSdTM7ptz+cq+AsQ3a3P2QsEbaDabU/3W+wQo0fsz+8nPonWla0P1fODMLrGrU/Fkp5Tz/tsz+FjuDlaq2zPxIDavdK2LI/C7HwFGzEsz/PiAebbeuzP4q0TDSNkLI/5LV9g61DtD+dUKvVMGiyP887gnVrorQ/SQolEBaYsT8mlvsVVHSxP+HLO7iTALE/1paIjbNRsD/PyuHbLX+yP3+/8gyNurE/vtuz+SW2sT9urrug3SWyP0Y1AewbZrI//Ydnjq+jsT9spgOR9l2xP8Y/G/scV7A/MuCYfNefsD96pj30ZzywP5XIp+DSOq8/",
          "dtype": "f8"
         },
         "yaxis": "y"
        },
        {
         "groupnorm": "fraction",
         "line": {
          "color": "rgb(165,0,38)",
          "width": 0.8
         },
         "mode": "lines",
         "name": "Decile 10",
         "showlegend": false,
         "stackgroup": "group0",
         "type": "scatter",
         "x": [
          "2016-07-01T00:00:00",
          "2016-08-01T00:00:00",
          "2016-09-01T00:00:00",
          "2016-10-01T00:00:00",
          "2016-11-01T00:00:00",
          "2016-12-01T00:00:00",
          "2017-01-01T00:00:00",
          "2017-02-01T00:00:00",
          "2017-03-01T00:00:00",
          "2017-04-01T00:00:00",
          "2017-05-01T00:00:00",
          "2017-06-01T00:00:00",
          "2017-07-01T00:00:00",
          "2017-08-01T00:00:00",
          "2017-09-01T00:00:00",
          "2017-10-01T00:00:00",
          "2017-11-01T00:00:00",
          "2017-12-01T00:00:00",
          "2018-01-01T00:00:00",
          "2018-02-01T00:00:00",
          "2018-03-01T00:00:00",
          "2018-04-01T00:00:00",
          "2018-05-01T00:00:00",
          "2018-06-01T00:00:00",
          "2018-07-01T00:00:00",
          "2018-08-01T00:00:00",
          "2018-09-01T00:00:00",
          "2018-10-01T00:00:00",
          "2018-11-01T00:00:00",
          "2018-12-01T00:00:00"
         ],
         "xaxis": "x",
         "y": {
          "bdata": "QGp4iHhmuD9d1CIh8zu2P4Zaru5osbM/oFllxpkJsT82VwhHPr+xP5QJOpOhrbU/Pt4Rlm5YsT+lAN48LVKwP0tJx7DZa7A/ScjTnCi5sT+Y0weA03WxP/b/yY2firA/1R7zeE4isj8WI3x7DsOwP9fupRMYSbU/vhZl4WYEsD9uvQSQlfKsPz5REm9vUK4/wTWQ/1lirD+FG6AAeNGvP63OmXZSLbA//SupSTTUsD88WGoWb4CyPzlQXSH3CrE/BrHcBm0BsD8D7aWq/KetP1akoisST60/iO5Xv46kqz/MaYYCmsmqP1VLBWtJ96g/",
          "dtype": "f8"
         },
         "yaxis": "y"
        },
        {
         "hoverinfo": "skip",
         "line": {
          "color": "rgba(0,0,0,0.85)",
          "dash": "solid",
          "width": 2
         },
         "mode": "lines",
         "showlegend": false,
         "type": "scatter",
         "x": [
          "2016-07-01T00:00:00",
          "2016-08-01T00:00:00",
          "2016-09-01T00:00:00",
          "2016-10-01T00:00:00",
          "2016-11-01T00:00:00",
          "2016-12-01T00:00:00",
          "2017-01-01T00:00:00",
          "2017-02-01T00:00:00",
          "2017-03-01T00:00:00",
          "2017-04-01T00:00:00",
          "2017-05-01T00:00:00",
          "2017-06-01T00:00:00",
          "2017-07-01T00:00:00",
          "2017-08-01T00:00:00",
          "2017-09-01T00:00:00",
          "2017-10-01T00:00:00",
          "2017-11-01T00:00:00",
          "2017-12-01T00:00:00",
          "2018-01-01T00:00:00",
          "2018-02-01T00:00:00",
          "2018-03-01T00:00:00",
          "2018-04-01T00:00:00",
          "2018-05-01T00:00:00",
          "2018-06-01T00:00:00",
          "2018-07-01T00:00:00",
          "2018-08-01T00:00:00",
          "2018-09-01T00:00:00",
          "2018-10-01T00:00:00",
          "2018-11-01T00:00:00",
          "2018-12-01T00:00:00"
         ],
         "xaxis": "x",
         "y": [
          0.10021328106986396,
          0.10021328106986396,
          0.10021328106986396,
          0.10021328106986396,
          0.10021328106986396,
          0.10021328106986396,
          0.10021328106986396,
          0.10021328106986396,
          0.10021328106986396,
          0.10021328106986396,
          0.10021328106986396,
          0.10021328106986396,
          0.10021328106986396,
          0.10021328106986396,
          0.10021328106986396,
          0.10021328106986396,
          0.10021328106986396,
          0.10021328106986396,
          0.10021328106986396,
          0.10021328106986396,
          0.10021328106986396,
          0.10021328106986396,
          0.10021328106986396,
          0.10021328106986396,
          0.10021328106986396,
          0.10021328106986396,
          0.10021328106986396,
          0.10021328106986396,
          0.10021328106986396,
          0.10021328106986396
         ],
         "yaxis": "y"
        },
        {
         "hoverinfo": "skip",
         "line": {
          "color": "rgba(0,0,0,0.55)",
          "dash": "dot",
          "width": 1.2
         },
         "mode": "lines",
         "showlegend": false,
         "type": "scatter",
         "x": [
          "2016-07-01T00:00:00",
          "2016-08-01T00:00:00",
          "2016-09-01T00:00:00",
          "2016-10-01T00:00:00",
          "2016-11-01T00:00:00",
          "2016-12-01T00:00:00",
          "2017-01-01T00:00:00",
          "2017-02-01T00:00:00",
          "2017-03-01T00:00:00",
          "2017-04-01T00:00:00",
          "2017-05-01T00:00:00",
          "2017-06-01T00:00:00",
          "2017-07-01T00:00:00",
          "2017-08-01T00:00:00",
          "2017-09-01T00:00:00",
          "2017-10-01T00:00:00",
          "2017-11-01T00:00:00",
          "2017-12-01T00:00:00",
          "2018-01-01T00:00:00",
          "2018-02-01T00:00:00",
          "2018-03-01T00:00:00",
          "2018-04-01T00:00:00",
          "2018-05-01T00:00:00",
          "2018-06-01T00:00:00",
          "2018-07-01T00:00:00",
          "2018-08-01T00:00:00",
          "2018-09-01T00:00:00",
          "2018-10-01T00:00:00",
          "2018-11-01T00:00:00",
          "2018-12-01T00:00:00"
         ],
         "xaxis": "x",
         "y": [
          0.20425985704403965,
          0.20425985704403965,
          0.20425985704403965,
          0.20425985704403965,
          0.20425985704403965,
          0.20425985704403965,
          0.20425985704403965,
          0.20425985704403965,
          0.20425985704403965,
          0.20425985704403965,
          0.20425985704403965,
          0.20425985704403965,
          0.20425985704403965,
          0.20425985704403965,
          0.20425985704403965,
          0.20425985704403965,
          0.20425985704403965,
          0.20425985704403965,
          0.20425985704403965,
          0.20425985704403965,
          0.20425985704403965,
          0.20425985704403965,
          0.20425985704403965,
          0.20425985704403965,
          0.20425985704403965,
          0.20425985704403965,
          0.20425985704403965,
          0.20425985704403965,
          0.20425985704403965,
          0.20425985704403965
         ],
         "yaxis": "y"
        },
        {
         "hoverinfo": "skip",
         "line": {
          "color": "rgba(0,0,0,0.55)",
          "dash": "dot",
          "width": 1.2
         },
         "mode": "lines",
         "showlegend": false,
         "type": "scatter",
         "x": [
          "2016-07-01T00:00:00",
          "2016-08-01T00:00:00",
          "2016-09-01T00:00:00",
          "2016-10-01T00:00:00",
          "2016-11-01T00:00:00",
          "2016-12-01T00:00:00",
          "2017-01-01T00:00:00",
          "2017-02-01T00:00:00",
          "2017-03-01T00:00:00",
          "2017-04-01T00:00:00",
          "2017-05-01T00:00:00",
          "2017-06-01T00:00:00",
          "2017-07-01T00:00:00",
          "2017-08-01T00:00:00",
          "2017-09-01T00:00:00",
          "2017-10-01T00:00:00",
          "2017-11-01T00:00:00",
          "2017-12-01T00:00:00",
          "2018-01-01T00:00:00",
          "2018-02-01T00:00:00",
          "2018-03-01T00:00:00",
          "2018-04-01T00:00:00",
          "2018-05-01T00:00:00",
          "2018-06-01T00:00:00",
          "2018-07-01T00:00:00",
          "2018-08-01T00:00:00",
          "2018-09-01T00:00:00",
          "2018-10-01T00:00:00",
          "2018-11-01T00:00:00",
          "2018-12-01T00:00:00"
         ],
         "xaxis": "x",
         "y": [
          0.34857044039658747,
          0.34857044039658747,
          0.34857044039658747,
          0.34857044039658747,
          0.34857044039658747,
          0.34857044039658747,
          0.34857044039658747,
          0.34857044039658747,
          0.34857044039658747,
          0.34857044039658747,
          0.34857044039658747,
          0.34857044039658747,
          0.34857044039658747,
          0.34857044039658747,
          0.34857044039658747,
          0.34857044039658747,
          0.34857044039658747,
          0.34857044039658747,
          0.34857044039658747,
          0.34857044039658747,
          0.34857044039658747,
          0.34857044039658747,
          0.34857044039658747,
          0.34857044039658747,
          0.34857044039658747,
          0.34857044039658747,
          0.34857044039658747,
          0.34857044039658747,
          0.34857044039658747,
          0.34857044039658747
         ],
         "yaxis": "y"
        },
        {
         "hoverinfo": "skip",
         "line": {
          "color": "rgba(0,0,0,0.55)",
          "dash": "dot",
          "width": 1.2
         },
         "mode": "lines",
         "showlegend": false,
         "type": "scatter",
         "x": [
          "2016-07-01T00:00:00",
          "2016-08-01T00:00:00",
          "2016-09-01T00:00:00",
          "2016-10-01T00:00:00",
          "2016-11-01T00:00:00",
          "2016-12-01T00:00:00",
          "2017-01-01T00:00:00",
          "2017-02-01T00:00:00",
          "2017-03-01T00:00:00",
          "2017-04-01T00:00:00",
          "2017-05-01T00:00:00",
          "2017-06-01T00:00:00",
          "2017-07-01T00:00:00",
          "2017-08-01T00:00:00",
          "2017-09-01T00:00:00",
          "2017-10-01T00:00:00",
          "2017-11-01T00:00:00",
          "2017-12-01T00:00:00",
          "2018-01-01T00:00:00",
          "2018-02-01T00:00:00",
          "2018-03-01T00:00:00",
          "2018-04-01T00:00:00",
          "2018-05-01T00:00:00",
          "2018-06-01T00:00:00",
          "2018-07-01T00:00:00",
          "2018-08-01T00:00:00",
          "2018-09-01T00:00:00",
          "2018-10-01T00:00:00",
          "2018-11-01T00:00:00",
          "2018-12-01T00:00:00"
         ],
         "xaxis": "x",
         "y": [
          0.4203078164629928,
          0.4203078164629928,
          0.4203078164629928,
          0.4203078164629928,
          0.4203078164629928,
          0.4203078164629928,
          0.4203078164629928,
          0.4203078164629928,
          0.4203078164629928,
          0.4203078164629928,
          0.4203078164629928,
          0.4203078164629928,
          0.4203078164629928,
          0.4203078164629928,
          0.4203078164629928,
          0.4203078164629928,
          0.4203078164629928,
          0.4203078164629928,
          0.4203078164629928,
          0.4203078164629928,
          0.4203078164629928,
          0.4203078164629928,
          0.4203078164629928,
          0.4203078164629928,
          0.4203078164629928,
          0.4203078164629928,
          0.4203078164629928,
          0.4203078164629928,
          0.4203078164629928,
          0.4203078164629928
         ],
         "yaxis": "y"
        },
        {
         "hoverinfo": "skip",
         "line": {
          "color": "rgba(0,0,0,0.55)",
          "dash": "dot",
          "width": 1.2
         },
         "mode": "lines",
         "showlegend": false,
         "type": "scatter",
         "x": [
          "2016-07-01T00:00:00",
          "2016-08-01T00:00:00",
          "2016-09-01T00:00:00",
          "2016-10-01T00:00:00",
          "2016-11-01T00:00:00",
          "2016-12-01T00:00:00",
          "2017-01-01T00:00:00",
          "2017-02-01T00:00:00",
          "2017-03-01T00:00:00",
          "2017-04-01T00:00:00",
          "2017-05-01T00:00:00",
          "2017-06-01T00:00:00",
          "2017-07-01T00:00:00",
          "2017-08-01T00:00:00",
          "2017-09-01T00:00:00",
          "2017-10-01T00:00:00",
          "2017-11-01T00:00:00",
          "2017-12-01T00:00:00",
          "2018-01-01T00:00:00",
          "2018-02-01T00:00:00",
          "2018-03-01T00:00:00",
          "2018-04-01T00:00:00",
          "2018-05-01T00:00:00",
          "2018-06-01T00:00:00",
          "2018-07-01T00:00:00",
          "2018-08-01T00:00:00",
          "2018-09-01T00:00:00",
          "2018-10-01T00:00:00",
          "2018-11-01T00:00:00",
          "2018-12-01T00:00:00"
         ],
         "xaxis": "x",
         "y": [
          0.5447890246714319,
          0.5447890246714319,
          0.5447890246714319,
          0.5447890246714319,
          0.5447890246714319,
          0.5447890246714319,
          0.5447890246714319,
          0.5447890246714319,
          0.5447890246714319,
          0.5447890246714319,
          0.5447890246714319,
          0.5447890246714319,
          0.5447890246714319,
          0.5447890246714319,
          0.5447890246714319,
          0.5447890246714319,
          0.5447890246714319,
          0.5447890246714319,
          0.5447890246714319,
          0.5447890246714319,
          0.5447890246714319,
          0.5447890246714319,
          0.5447890246714319,
          0.5447890246714319,
          0.5447890246714319,
          0.5447890246714319,
          0.5447890246714319,
          0.5447890246714319,
          0.5447890246714319,
          0.5447890246714319
         ],
         "yaxis": "y"
        },
        {
         "hoverinfo": "skip",
         "line": {
          "color": "rgba(0,0,0,0.55)",
          "dash": "dot",
          "width": 1.2
         },
         "mode": "lines",
         "showlegend": false,
         "type": "scatter",
         "x": [
          "2016-07-01T00:00:00",
          "2016-08-01T00:00:00",
          "2016-09-01T00:00:00",
          "2016-10-01T00:00:00",
          "2016-11-01T00:00:00",
          "2016-12-01T00:00:00",
          "2017-01-01T00:00:00",
          "2017-02-01T00:00:00",
          "2017-03-01T00:00:00",
          "2017-04-01T00:00:00",
          "2017-05-01T00:00:00",
          "2017-06-01T00:00:00",
          "2017-07-01T00:00:00",
          "2017-08-01T00:00:00",
          "2017-09-01T00:00:00",
          "2017-10-01T00:00:00",
          "2017-11-01T00:00:00",
          "2017-12-01T00:00:00",
          "2018-01-01T00:00:00",
          "2018-02-01T00:00:00",
          "2018-03-01T00:00:00",
          "2018-04-01T00:00:00",
          "2018-05-01T00:00:00",
          "2018-06-01T00:00:00",
          "2018-07-01T00:00:00",
          "2018-08-01T00:00:00",
          "2018-09-01T00:00:00",
          "2018-10-01T00:00:00",
          "2018-11-01T00:00:00",
          "2018-12-01T00:00:00"
         ],
         "xaxis": "x",
         "y": [
          0.6335312427945584,
          0.6335312427945584,
          0.6335312427945584,
          0.6335312427945584,
          0.6335312427945584,
          0.6335312427945584,
          0.6335312427945584,
          0.6335312427945584,
          0.6335312427945584,
          0.6335312427945584,
          0.6335312427945584,
          0.6335312427945584,
          0.6335312427945584,
          0.6335312427945584,
          0.6335312427945584,
          0.6335312427945584,
          0.6335312427945584,
          0.6335312427945584,
          0.6335312427945584,
          0.6335312427945584,
          0.6335312427945584,
          0.6335312427945584,
          0.6335312427945584,
          0.6335312427945584,
          0.6335312427945584,
          0.6335312427945584,
          0.6335312427945584,
          0.6335312427945584,
          0.6335312427945584,
          0.6335312427945584
         ],
         "yaxis": "y"
        },
        {
         "hoverinfo": "skip",
         "line": {
          "color": "rgba(0,0,0,0.55)",
          "dash": "dot",
          "width": 1.2
         },
         "mode": "lines",
         "showlegend": false,
         "type": "scatter",
         "x": [
          "2016-07-01T00:00:00",
          "2016-08-01T00:00:00",
          "2016-09-01T00:00:00",
          "2016-10-01T00:00:00",
          "2016-11-01T00:00:00",
          "2016-12-01T00:00:00",
          "2017-01-01T00:00:00",
          "2017-02-01T00:00:00",
          "2017-03-01T00:00:00",
          "2017-04-01T00:00:00",
          "2017-05-01T00:00:00",
          "2017-06-01T00:00:00",
          "2017-07-01T00:00:00",
          "2017-08-01T00:00:00",
          "2017-09-01T00:00:00",
          "2017-10-01T00:00:00",
          "2017-11-01T00:00:00",
          "2017-12-01T00:00:00",
          "2018-01-01T00:00:00",
          "2018-02-01T00:00:00",
          "2018-03-01T00:00:00",
          "2018-04-01T00:00:00",
          "2018-05-01T00:00:00",
          "2018-06-01T00:00:00",
          "2018-07-01T00:00:00",
          "2018-08-01T00:00:00",
          "2018-09-01T00:00:00",
          "2018-10-01T00:00:00",
          "2018-11-01T00:00:00",
          "2018-12-01T00:00:00"
         ],
         "xaxis": "x",
         "y": [
          0.7061332718468988,
          0.7061332718468988,
          0.7061332718468988,
          0.7061332718468988,
          0.7061332718468988,
          0.7061332718468988,
          0.7061332718468988,
          0.7061332718468988,
          0.7061332718468988,
          0.7061332718468988,
          0.7061332718468988,
          0.7061332718468988,
          0.7061332718468988,
          0.7061332718468988,
          0.7061332718468988,
          0.7061332718468988,
          0.7061332718468988,
          0.7061332718468988,
          0.7061332718468988,
          0.7061332718468988,
          0.7061332718468988,
          0.7061332718468988,
          0.7061332718468988,
          0.7061332718468988,
          0.7061332718468988,
          0.7061332718468988,
          0.7061332718468988,
          0.7061332718468988,
          0.7061332718468988,
          0.7061332718468988
         ],
         "yaxis": "y"
        },
        {
         "hoverinfo": "skip",
         "line": {
          "color": "rgba(0,0,0,0.55)",
          "dash": "dot",
          "width": 1.2
         },
         "mode": "lines",
         "showlegend": false,
         "type": "scatter",
         "x": [
          "2016-07-01T00:00:00",
          "2016-08-01T00:00:00",
          "2016-09-01T00:00:00",
          "2016-10-01T00:00:00",
          "2016-11-01T00:00:00",
          "2016-12-01T00:00:00",
          "2017-01-01T00:00:00",
          "2017-02-01T00:00:00",
          "2017-03-01T00:00:00",
          "2017-04-01T00:00:00",
          "2017-05-01T00:00:00",
          "2017-06-01T00:00:00",
          "2017-07-01T00:00:00",
          "2017-08-01T00:00:00",
          "2017-09-01T00:00:00",
          "2017-10-01T00:00:00",
          "2017-11-01T00:00:00",
          "2017-12-01T00:00:00",
          "2018-01-01T00:00:00",
          "2018-02-01T00:00:00",
          "2018-03-01T00:00:00",
          "2018-04-01T00:00:00",
          "2018-05-01T00:00:00",
          "2018-06-01T00:00:00",
          "2018-07-01T00:00:00",
          "2018-08-01T00:00:00",
          "2018-09-01T00:00:00",
          "2018-10-01T00:00:00",
          "2018-11-01T00:00:00",
          "2018-12-01T00:00:00"
         ],
         "xaxis": "x",
         "y": [
          0.8112750749365921,
          0.8112750749365921,
          0.8112750749365921,
          0.8112750749365921,
          0.8112750749365921,
          0.8112750749365921,
          0.8112750749365921,
          0.8112750749365921,
          0.8112750749365921,
          0.8112750749365921,
          0.8112750749365921,
          0.8112750749365921,
          0.8112750749365921,
          0.8112750749365921,
          0.8112750749365921,
          0.8112750749365921,
          0.8112750749365921,
          0.8112750749365921,
          0.8112750749365921,
          0.8112750749365921,
          0.8112750749365921,
          0.8112750749365921,
          0.8112750749365921,
          0.8112750749365921,
          0.8112750749365921,
          0.8112750749365921,
          0.8112750749365921,
          0.8112750749365921,
          0.8112750749365921,
          0.8112750749365921
         ],
         "yaxis": "y"
        },
        {
         "hoverinfo": "skip",
         "line": {
          "color": "rgba(0,0,0,0.55)",
          "dash": "dot",
          "width": 1.2
         },
         "mode": "lines",
         "showlegend": false,
         "type": "scatter",
         "x": [
          "2016-07-01T00:00:00",
          "2016-08-01T00:00:00",
          "2016-09-01T00:00:00",
          "2016-10-01T00:00:00",
          "2016-11-01T00:00:00",
          "2016-12-01T00:00:00",
          "2017-01-01T00:00:00",
          "2017-02-01T00:00:00",
          "2017-03-01T00:00:00",
          "2017-04-01T00:00:00",
          "2017-05-01T00:00:00",
          "2017-06-01T00:00:00",
          "2017-07-01T00:00:00",
          "2017-08-01T00:00:00",
          "2017-09-01T00:00:00",
          "2017-10-01T00:00:00",
          "2017-11-01T00:00:00",
          "2017-12-01T00:00:00",
          "2018-01-01T00:00:00",
          "2018-02-01T00:00:00",
          "2018-03-01T00:00:00",
          "2018-04-01T00:00:00",
          "2018-05-01T00:00:00",
          "2018-06-01T00:00:00",
          "2018-07-01T00:00:00",
          "2018-08-01T00:00:00",
          "2018-09-01T00:00:00",
          "2018-10-01T00:00:00",
          "2018-11-01T00:00:00",
          "2018-12-01T00:00:00"
         ],
         "xaxis": "x",
         "y": [
          0.9046864191837676,
          0.9046864191837676,
          0.9046864191837676,
          0.9046864191837676,
          0.9046864191837676,
          0.9046864191837676,
          0.9046864191837676,
          0.9046864191837676,
          0.9046864191837676,
          0.9046864191837676,
          0.9046864191837676,
          0.9046864191837676,
          0.9046864191837676,
          0.9046864191837676,
          0.9046864191837676,
          0.9046864191837676,
          0.9046864191837676,
          0.9046864191837676,
          0.9046864191837676,
          0.9046864191837676,
          0.9046864191837676,
          0.9046864191837676,
          0.9046864191837676,
          0.9046864191837676,
          0.9046864191837676,
          0.9046864191837676,
          0.9046864191837676,
          0.9046864191837676,
          0.9046864191837676,
          0.9046864191837676
         ],
         "yaxis": "y"
        },
        {
         "groupnorm": "fraction",
         "line": {
          "color": "rgb(0,104,55)",
          "width": 0.8
         },
         "mode": "lines",
         "name": "Decile 1",
         "showlegend": false,
         "stackgroup": "group1",
         "type": "scatter",
         "x": [
          "2016-07-01T00:00:00",
          "2016-08-01T00:00:00",
          "2016-09-01T00:00:00",
          "2016-10-01T00:00:00",
          "2016-11-01T00:00:00",
          "2016-12-01T00:00:00",
          "2017-01-01T00:00:00",
          "2017-02-01T00:00:00",
          "2017-03-01T00:00:00",
          "2017-04-01T00:00:00",
          "2017-05-01T00:00:00",
          "2017-06-01T00:00:00",
          "2017-07-01T00:00:00",
          "2017-08-01T00:00:00",
          "2017-09-01T00:00:00",
          "2017-10-01T00:00:00",
          "2017-11-01T00:00:00",
          "2017-12-01T00:00:00",
          "2018-01-01T00:00:00",
          "2018-02-01T00:00:00",
          "2018-03-01T00:00:00",
          "2018-04-01T00:00:00",
          "2018-05-01T00:00:00",
          "2018-06-01T00:00:00",
          "2018-07-01T00:00:00",
          "2018-08-01T00:00:00",
          "2018-09-01T00:00:00",
          "2018-10-01T00:00:00",
          "2018-11-01T00:00:00",
          "2018-12-01T00:00:00"
         ],
         "xaxis": "x2",
         "y": {
          "bdata": "6I8aHiKeuT/MSsVv3Dm5P5tmobXgCL0/lSVnJERPvz/tQxp9CNu8P/BfOCC6i70/sA0us8IEwD+GmFEVKKfAPwrjBd23cME/EdQBJMuKwT9d0KPQKgLBP6UeR/3C4sE/0I16TREowT8KArEQK6bBP6Qej4a2xcE/5+5rva1Ewz/nHg8N8IHEP9fkx5Df/MQ/EIh+CXTfxj+rnOx3oiXFP7Z3mmqVOcU/Dmt657L3xD+JfCn54gTEP/qVBPg6NcQ/hJnB1r1/wz8yaquGsB7EP8hyaxKkVsQ/jYOtR7tNxD8CJZyj+77DP54e4CAFOsQ/",
          "dtype": "f8"
         },
         "yaxis": "y2"
        },
        {
         "groupnorm": "fraction",
         "line": {
          "color": "rgb(26,152,80)",
          "width": 0.8
         },
         "mode": "lines",
         "name": "Decile 2",
         "showlegend": false,
         "stackgroup": "group1",
         "type": "scatter",
         "x": [
          "2016-07-01T00:00:00",
          "2016-08-01T00:00:00",
          "2016-09-01T00:00:00",
          "2016-10-01T00:00:00",
          "2016-11-01T00:00:00",
          "2016-12-01T00:00:00",
          "2017-01-01T00:00:00",
          "2017-02-01T00:00:00",
          "2017-03-01T00:00:00",
          "2017-04-01T00:00:00",
          "2017-05-01T00:00:00",
          "2017-06-01T00:00:00",
          "2017-07-01T00:00:00",
          "2017-08-01T00:00:00",
          "2017-09-01T00:00:00",
          "2017-10-01T00:00:00",
          "2017-11-01T00:00:00",
          "2017-12-01T00:00:00",
          "2018-01-01T00:00:00",
          "2018-02-01T00:00:00",
          "2018-03-01T00:00:00",
          "2018-04-01T00:00:00",
          "2018-05-01T00:00:00",
          "2018-06-01T00:00:00",
          "2018-07-01T00:00:00",
          "2018-08-01T00:00:00",
          "2018-09-01T00:00:00",
          "2018-10-01T00:00:00",
          "2018-11-01T00:00:00",
          "2018-12-01T00:00:00"
         ],
         "xaxis": "x2",
         "y": {
          "bdata": "VZNAWne6uT/Da81/GCK8P79eK+opIL0/UK1yOEKhvz80/N7yUWG+P/FGswOTs70/yP17Xzr/vz8Y96FRKcW+P9+6l0cKh78/kTbT0jGVvz/fsavIzwi/P3P7Mqn9w78/cp/9gT7Yvj9dAnaijGPAPw5YJLq0/L4/XnwWj6wUwT/pWsV7uALCP8YzllsrLcI/wkdc1seRwj//tKgy+EbBPx3cGMnYQME/rBs6LZLMwD/lYy8FOgDBP5zSEzAoKME/WxcVgql9wT9IevodFCXCP3QPluLRksE/rDiVsWc8wj9XzWkpUj3CP5pxHdTPP8I/",
          "dtype": "f8"
         },
         "yaxis": "y2"
        },
        {
         "groupnorm": "fraction",
         "line": {
          "color": "rgb(102,189,99)",
          "width": 0.8
         },
         "mode": "lines",
         "name": "Decile 3",
         "showlegend": false,
         "stackgroup": "group1",
         "type": "scatter",
         "x": [
          "2016-07-01T00:00:00",
          "2016-08-01T00:00:00",
          "2016-09-01T00:00:00",
          "2016-10-01T00:00:00",
          "2016-11-01T00:00:00",
          "2016-12-01T00:00:00",
          "2017-01-01T00:00:00",
          "2017-02-01T00:00:00",
          "2017-03-01T00:00:00",
          "2017-04-01T00:00:00",
          "2017-05-01T00:00:00",
          "2017-06-01T00:00:00",
          "2017-07-01T00:00:00",
          "2017-08-01T00:00:00",
          "2017-09-01T00:00:00",
          "2017-10-01T00:00:00",
          "2017-11-01T00:00:00",
          "2017-12-01T00:00:00",
          "2018-01-01T00:00:00",
          "2018-02-01T00:00:00",
          "2018-03-01T00:00:00",
          "2018-04-01T00:00:00",
          "2018-05-01T00:00:00",
          "2018-06-01T00:00:00",
          "2018-07-01T00:00:00",
          "2018-08-01T00:00:00",
          "2018-09-01T00:00:00",
          "2018-10-01T00:00:00",
          "2018-11-01T00:00:00",
          "2018-12-01T00:00:00"
         ],
         "xaxis": "x2",
         "y": {
          "bdata": "xFWDP4w4wj9rWbCU+p/CPzXsdzgEfcM/8qrXuIY2xD8d1mPy8M3DP81tB4qtUMM/RYU5XdUBxD+9+3mhCEjEP/vEK4eQFcQ/hZFNKo2wwz/g3NE2a0vDP8kNG4FIO8Q/XYYXdlYAxD/tBy8vPUrEP8q9PptN2cI/PVTaIZ2BxD+GwATiSC/FP8ds3o0krMQ/88OJSD8FxT8CO/oMejrEP9KrvkG5PcQ//0pqEg01xD9MM0AO4m7DP6m0qiW1L8Q/L1LHA0TIxD9aikdNVq7EP09qIXUgBsU/l7adsaHhxD+xedCvDjjFP1Xrm1YJjMU/",
          "dtype": "f8"
         },
         "yaxis": "y2"
        },
        {
         "groupnorm": "fraction",
         "line": {
          "color": "rgb(166,217,106)",
          "width": 0.8
         },
         "mode": "lines",
         "name": "Decile 4",
         "showlegend": false,
         "stackgroup": "group1",
         "type": "scatter",
         "x": [
          "2016-07-01T00:00:00",
          "2016-08-01T00:00:00",
          "2016-09-01T00:00:00",
          "2016-10-01T00:00:00",
          "2016-11-01T00:00:00",
          "2016-12-01T00:00:00",
          "2017-01-01T00:00:00",
          "2017-02-01T00:00:00",
          "2017-03-01T00:00:00",
          "2017-04-01T00:00:00",
          "2017-05-01T00:00:00",
          "2017-06-01T00:00:00",
          "2017-07-01T00:00:00",
          "2017-08-01T00:00:00",
          "2017-09-01T00:00:00",
          "2017-10-01T00:00:00",
          "2017-11-01T00:00:00",
          "2017-12-01T00:00:00",
          "2018-01-01T00:00:00",
          "2018-02-01T00:00:00",
          "2018-03-01T00:00:00",
          "2018-04-01T00:00:00",
          "2018-05-01T00:00:00",
          "2018-06-01T00:00:00",
          "2018-07-01T00:00:00",
          "2018-08-01T00:00:00",
          "2018-09-01T00:00:00",
          "2018-10-01T00:00:00",
          "2018-11-01T00:00:00",
          "2018-12-01T00:00:00"
         ],
         "xaxis": "x2",
         "y": {
          "bdata": "yxgcZGCPsz8sl8bO13ezPyrDnbwQE7M/+x7W+oYrtD/feEz98mGzP58DADKjirM/glG4FcmWsz92q++oFSG0P78QgDjaGrQ/6jqrRorlsz/7UW01yFO0P+vNDPmlHbM/1wgJt60qsz9y9NKGbHizP0gzTTiiU7I/QS6VmCupsz+mmTbf+KyyP+YjaWGhzrI/US7wcT0Esj8bhiOgRg+zP2oQDhqS67E/M4XkX0lNsj8wztSJVj+yP8m0BsBmirI/cp7j2IYnsz/ScFOrdnCzP7Sxz3EFabM/OfheptMVtD/rOyAPEHuzP06ZZcwOKLQ/",
          "dtype": "f8"
         },
         "yaxis": "y2"
        },
        {
         "groupnorm": "fraction",
         "line": {
          "color": "rgb(217,239,139)",
          "width": 0.8
         },
         "mode": "lines",
         "name": "Decile 5",
         "showlegend": false,
         "stackgroup": "group1",
         "type": "scatter",
         "x": [
          "2016-07-01T00:00:00",
          "2016-08-01T00:00:00",
          "2016-09-01T00:00:00",
          "2016-10-01T00:00:00",
          "2016-11-01T00:00:00",
          "2016-12-01T00:00:00",
          "2017-01-01T00:00:00",
          "2017-02-01T00:00:00",
          "2017-03-01T00:00:00",
          "2017-04-01T00:00:00",
          "2017-05-01T00:00:00",
          "2017-06-01T00:00:00",
          "2017-07-01T00:00:00",
          "2017-08-01T00:00:00",
          "2017-09-01T00:00:00",
          "2017-10-01T00:00:00",
          "2017-11-01T00:00:00",
          "2017-12-01T00:00:00",
          "2018-01-01T00:00:00",
          "2018-02-01T00:00:00",
          "2018-03-01T00:00:00",
          "2018-04-01T00:00:00",
          "2018-05-01T00:00:00",
          "2018-06-01T00:00:00",
          "2018-07-01T00:00:00",
          "2018-08-01T00:00:00",
          "2018-09-01T00:00:00",
          "2018-10-01T00:00:00",
          "2018-11-01T00:00:00",
          "2018-12-01T00:00:00"
         ],
         "xaxis": "x2",
         "y": {
          "bdata": "AXnetyWRtT8V4n0G2+i1P20PKgEIV7Y/44wvE3intj+iC6RWGy62PxOvAT7ccbU/4QV/pMjrtT80tHMU0ru1P+meuGqEYLY/RjPd8HgjtT/Z3g/g7C61P+GbT2SssLU/bdruLzQLtT/rXHUYaaC1PwRhdsST1bQ/FiKYEDEQtT95cmZZu+y0PzCaBgTEfbQ/IGJ8zBVrtD9PzAE5eju0P4GzerNmSrQ/E3UPuoa0tD/Hoh+Tj720PzK/ebjjW7Q/T4zAN9intT/NGSRiAfm0P5eeCOfmQLU/wFoBawWstT8876jWUX61P/ryHkKL9LU/",
          "dtype": "f8"
         },
         "yaxis": "y2"
        },
        {
         "groupnorm": "fraction",
         "line": {
          "color": "rgb(254,224,139)",
          "width": 0.8
         },
         "mode": "lines",
         "name": "Decile 6",
         "showlegend": false,
         "stackgroup": "group1",
         "type": "scatter",
         "x": [
          "2016-07-01T00:00:00",
          "2016-08-01T00:00:00",
          "2016-09-01T00:00:00",
          "2016-10-01T00:00:00",
          "2016-11-01T00:00:00",
          "2016-12-01T00:00:00",
          "2017-01-01T00:00:00",
          "2017-02-01T00:00:00",
          "2017-03-01T00:00:00",
          "2017-04-01T00:00:00",
          "2017-05-01T00:00:00",
          "2017-06-01T00:00:00",
          "2017-07-01T00:00:00",
          "2017-08-01T00:00:00",
          "2017-09-01T00:00:00",
          "2017-10-01T00:00:00",
          "2017-11-01T00:00:00",
          "2017-12-01T00:00:00",
          "2018-01-01T00:00:00",
          "2018-02-01T00:00:00",
          "2018-03-01T00:00:00",
          "2018-04-01T00:00:00",
          "2018-05-01T00:00:00",
          "2018-06-01T00:00:00",
          "2018-07-01T00:00:00",
          "2018-08-01T00:00:00",
          "2018-09-01T00:00:00",
          "2018-10-01T00:00:00",
          "2018-11-01T00:00:00",
          "2018-12-01T00:00:00"
         ],
         "xaxis": "x2",
         "y": {
          "bdata": "gKIvaapJwD9ZIFXE5jjAPxzAKBjmjb8/H9V63EDbvz/DjwEzbJzAP+0wyxfr7L4/ZUM5vU8Mvz9GDjx10si/P2infgnh5L4/pSZFGv6zvj+UCts/mVO/P8ZtLGJ+C74/z2lLQ/HKvj/yU3At4gO/PzxhlFZpy70/z+xzXOJ2vT+R4NggodO8P5KAN/hzprw/rVv4Jrnwuj/g54qc1Bq8PyAkm+gM77w/3Ofm5JM2vD8irxJU0cy8P2NmYb5NV7w/GzOGhH6BvD+4IAHLvL68P1VvqkmZPL0/bufboFiBvD9h2rdAOeG9P2DOpUmxnb0/",
          "dtype": "f8"
         },
         "yaxis": "y2"
        },
        {
         "groupnorm": "fraction",
         "line": {
          "color": "rgb(253,174,97)",
          "width": 0.8
         },
         "mode": "lines",
         "name": "Decile 7",
         "showlegend": false,
         "stackgroup": "group1",
         "type": "scatter",
         "x": [
          "2016-07-01T00:00:00",
          "2016-08-01T00:00:00",
          "2016-09-01T00:00:00",
          "2016-10-01T00:00:00",
          "2016-11-01T00:00:00",
          "2016-12-01T00:00:00",
          "2017-01-01T00:00:00",
          "2017-02-01T00:00:00",
          "2017-03-01T00:00:00",
          "2017-04-01T00:00:00",
          "2017-05-01T00:00:00",
          "2017-06-01T00:00:00",
          "2017-07-01T00:00:00",
          "2017-08-01T00:00:00",
          "2017-09-01T00:00:00",
          "2017-10-01T00:00:00",
          "2017-11-01T00:00:00",
          "2017-12-01T00:00:00",
          "2018-01-01T00:00:00",
          "2018-02-01T00:00:00",
          "2018-03-01T00:00:00",
          "2018-04-01T00:00:00",
          "2018-05-01T00:00:00",
          "2018-06-01T00:00:00",
          "2018-07-01T00:00:00",
          "2018-08-01T00:00:00",
          "2018-09-01T00:00:00",
          "2018-10-01T00:00:00",
          "2018-11-01T00:00:00",
          "2018-12-01T00:00:00"
         ],
         "xaxis": "x2",
         "y": {
          "bdata": "AkY+8ZnQsj9UXk+OEX+zP6FvH9gt27I/6ACEqpTjsT8clpv/KvKyP4yW7iqUHrI/n3bz9HnmsT9wm32OETCxP8nJ6aH0brE/8wX6tmCGsT+vHR/ccNyxP66oSArKw7E/M8JsYdjLsT+ZzdZTel+xP1teczemZ7E/Tj0w/YSDsD/6T4zoQHCvP7OpUjDjxq8/UIUwlSaurj/b4+ctaHWvP9MJELHAu68/KaNWHFVMsD/hEu+Z31KwP/duMRzKMrA/pGVsS5lWsD9RqFhWtjSwP+LtjFpa4a8/0b7NwTHYrz/8I6RgzxOwP7LTekynArA/",
          "dtype": "f8"
         },
         "yaxis": "y2"
        },
        {
         "groupnorm": "fraction",
         "line": {
          "color": "rgb(244,109,67)",
          "width": 0.8
         },
         "mode": "lines",
         "name": "Decile 8",
         "showlegend": false,
         "stackgroup": "group1",
         "type": "scatter",
         "x": [
          "2016-07-01T00:00:00",
          "2016-08-01T00:00:00",
          "2016-09-01T00:00:00",
          "2016-10-01T00:00:00",
          "2016-11-01T00:00:00",
          "2016-12-01T00:00:00",
          "2017-01-01T00:00:00",
          "2017-02-01T00:00:00",
          "2017-03-01T00:00:00",
          "2017-04-01T00:00:00",
          "2017-05-01T00:00:00",
          "2017-06-01T00:00:00",
          "2017-07-01T00:00:00",
          "2017-08-01T00:00:00",
          "2017-09-01T00:00:00",
          "2017-10-01T00:00:00",
          "2017-11-01T00:00:00",
          "2017-12-01T00:00:00",
          "2018-01-01T00:00:00",
          "2018-02-01T00:00:00",
          "2018-03-01T00:00:00",
          "2018-04-01T00:00:00",
          "2018-05-01T00:00:00",
          "2018-06-01T00:00:00",
          "2018-07-01T00:00:00",
          "2018-08-01T00:00:00",
          "2018-09-01T00:00:00",
          "2018-10-01T00:00:00",
          "2018-11-01T00:00:00",
          "2018-12-01T00:00:00"
         ],
         "xaxis": "x2",
         "y": {
          "bdata": "Vh3//iDhuj+hBMIFNtW5P4bWgiN0Xrk/TkxI83NXtz/ZDS+W5e64P2Eo0w3S0bg/YkWk3Ba/tz9h9X9Jb/m3Px+ZtW3qALc/XJdGnSzJtj9fZmQmffu3PxTapXu82rc/k/c2V9RNtz/dacl+ZFO2P7riHJ/1Cbc/FOZwwXygtT806w8xKyi0P2ZAjfodDrQ/jOFrkbubsz+hjiYmmOm0P/HA+QXtXbU/KLrTb4R8tT+F2iPGpPC1P3GIKJB0tbU/yoU5zpngtD9dhBFRADm0P9kqLknm57Q/+D7C4R1DtD897AcZGK20P8idkOguwbM/",
          "dtype": "f8"
         },
         "yaxis": "y2"
        },
        {
         "groupnorm": "fraction",
         "line": {
          "color": "rgb(215,48,39)",
          "width": 0.8
         },
         "mode": "lines",
         "name": "Decile 9",
         "showlegend": false,
         "stackgroup": "group1",
         "type": "scatter",
         "x": [
          "2016-07-01T00:00:00",
          "2016-08-01T00:00:00",
          "2016-09-01T00:00:00",
          "2016-10-01T00:00:00",
          "2016-11-01T00:00:00",
          "2016-12-01T00:00:00",
          "2017-01-01T00:00:00",
          "2017-02-01T00:00:00",
          "2017-03-01T00:00:00",
          "2017-04-01T00:00:00",
          "2017-05-01T00:00:00",
          "2017-06-01T00:00:00",
          "2017-07-01T00:00:00",
          "2017-08-01T00:00:00",
          "2017-09-01T00:00:00",
          "2017-10-01T00:00:00",
          "2017-11-01T00:00:00",
          "2017-12-01T00:00:00",
          "2018-01-01T00:00:00",
          "2018-02-01T00:00:00",
          "2018-03-01T00:00:00",
          "2018-04-01T00:00:00",
          "2018-05-01T00:00:00",
          "2018-06-01T00:00:00",
          "2018-07-01T00:00:00",
          "2018-08-01T00:00:00",
          "2018-09-01T00:00:00",
          "2018-10-01T00:00:00",
          "2018-11-01T00:00:00",
          "2018-12-01T00:00:00"
         ],
         "xaxis": "x2",
         "y": {
          "bdata": "mVhTPCJ8uT9NigLFkui4P+zzDDmIqLY/uF7hGoV7tD/F96eopXC1P3aiYu2QZLY/zg6dL808tT+t3GwWgA+1PwOHc5nFybM/tdTzMNzntD+JDLu09te0P9+ylMP6nLM/m+ZpabZNtT+iPPDu94izP6p81WKcvLU/s/6tGsilsj+ZS5hWa2qyPxE0+MDE8rE/UgyRSt8rsT+NHiZSUlOzP/dOU60yp7I/7/QbIV/hsj9BhrcwdVCzP25eSN9rX7M/7pdcb0hgsj/e9d94/TiyP0QwqaB6ZbE//dKNK3pusT+GnB1FTCuxP/q28yBDZrA/",
          "dtype": "f8"
         },
         "yaxis": "y2"
        },
        {
         "groupnorm": "fraction",
         "line": {
          "color": "rgb(165,0,38)",
          "width": 0.8
         },
         "mode": "lines",
         "name": "Decile 10",
         "showlegend": false,
         "stackgroup": "group1",
         "type": "scatter",
         "x": [
          "2016-07-01T00:00:00",
          "2016-08-01T00:00:00",
          "2016-09-01T00:00:00",
          "2016-10-01T00:00:00",
          "2016-11-01T00:00:00",
          "2016-12-01T00:00:00",
          "2017-01-01T00:00:00",
          "2017-02-01T00:00:00",
          "2017-03-01T00:00:00",
          "2017-04-01T00:00:00",
          "2017-05-01T00:00:00",
          "2017-06-01T00:00:00",
          "2017-07-01T00:00:00",
          "2017-08-01T00:00:00",
          "2017-09-01T00:00:00",
          "2017-10-01T00:00:00",
          "2017-11-01T00:00:00",
          "2017-12-01T00:00:00",
          "2018-01-01T00:00:00",
          "2018-02-01T00:00:00",
          "2018-03-01T00:00:00",
          "2018-04-01T00:00:00",
          "2018-05-01T00:00:00",
          "2018-06-01T00:00:00",
          "2018-07-01T00:00:00",
          "2018-08-01T00:00:00",
          "2018-09-01T00:00:00",
          "2018-10-01T00:00:00",
          "2018-11-01T00:00:00",
          "2018-12-01T00:00:00"
         ],
         "xaxis": "x2",
         "y": {
          "bdata": "fZ6z7ZVUtz9n7wkwu1S1P3eVo+TDArM/TKpIjp49sD/m09iyJg2xP4Q4FBr24LQ/t3YPB1aCsD/nCXo/dPuuPzVodTQBpa8/afeLubL/sD+qJ9Ib0dWwP/w8+aEy1a8/wEqNqrtusT/mmxVaD/+vP887gnVrorQ/gUOsiBCgrj+zf9KpIcCrP4LaYbTm+Kw/qHd5Rp4oqz+FGuAXRamuP7MHRqZWD68/LCihBb8qsD/KRPzkULqxP06V9aGMYLA/WTEuUaAYrz/qqMRGwpmsP3gqM+R++Ks/Md2XEyiPqj9I6xBC8KCpP5ILR3W9H6g/",
          "dtype": "f8"
         },
         "yaxis": "y2"
        },
        {
         "hoverinfo": "skip",
         "line": {
          "color": "rgba(0,0,0,0.85)",
          "dash": "solid",
          "width": 2
         },
         "mode": "lines",
         "showlegend": false,
         "type": "scatter",
         "x": [
          "2016-07-01T00:00:00",
          "2016-08-01T00:00:00",
          "2016-09-01T00:00:00",
          "2016-10-01T00:00:00",
          "2016-11-01T00:00:00",
          "2016-12-01T00:00:00",
          "2017-01-01T00:00:00",
          "2017-02-01T00:00:00",
          "2017-03-01T00:00:00",
          "2017-04-01T00:00:00",
          "2017-05-01T00:00:00",
          "2017-06-01T00:00:00",
          "2017-07-01T00:00:00",
          "2017-08-01T00:00:00",
          "2017-09-01T00:00:00",
          "2017-10-01T00:00:00",
          "2017-11-01T00:00:00",
          "2017-12-01T00:00:00",
          "2018-01-01T00:00:00",
          "2018-02-01T00:00:00",
          "2018-03-01T00:00:00",
          "2018-04-01T00:00:00",
          "2018-05-01T00:00:00",
          "2018-06-01T00:00:00",
          "2018-07-01T00:00:00",
          "2018-08-01T00:00:00",
          "2018-09-01T00:00:00",
          "2018-10-01T00:00:00",
          "2018-11-01T00:00:00",
          "2018-12-01T00:00:00"
         ],
         "xaxis": "x2",
         "y": [
          0.10006917223887479,
          0.10006917223887479,
          0.10006917223887479,
          0.10006917223887479,
          0.10006917223887479,
          0.10006917223887479,
          0.10006917223887479,
          0.10006917223887479,
          0.10006917223887479,
          0.10006917223887479,
          0.10006917223887479,
          0.10006917223887479,
          0.10006917223887479,
          0.10006917223887479,
          0.10006917223887479,
          0.10006917223887479,
          0.10006917223887479,
          0.10006917223887479,
          0.10006917223887479,
          0.10006917223887479,
          0.10006917223887479,
          0.10006917223887479,
          0.10006917223887479,
          0.10006917223887479,
          0.10006917223887479,
          0.10006917223887479,
          0.10006917223887479,
          0.10006917223887479,
          0.10006917223887479,
          0.10006917223887479
         ],
         "yaxis": "y2"
        },
        {
         "hoverinfo": "skip",
         "line": {
          "color": "rgba(0,0,0,0.55)",
          "dash": "dot",
          "width": 1.2
         },
         "mode": "lines",
         "showlegend": false,
         "type": "scatter",
         "x": [
          "2016-07-01T00:00:00",
          "2016-08-01T00:00:00",
          "2016-09-01T00:00:00",
          "2016-10-01T00:00:00",
          "2016-11-01T00:00:00",
          "2016-12-01T00:00:00",
          "2017-01-01T00:00:00",
          "2017-02-01T00:00:00",
          "2017-03-01T00:00:00",
          "2017-04-01T00:00:00",
          "2017-05-01T00:00:00",
          "2017-06-01T00:00:00",
          "2017-07-01T00:00:00",
          "2017-08-01T00:00:00",
          "2017-09-01T00:00:00",
          "2017-10-01T00:00:00",
          "2017-11-01T00:00:00",
          "2017-12-01T00:00:00",
          "2018-01-01T00:00:00",
          "2018-02-01T00:00:00",
          "2018-03-01T00:00:00",
          "2018-04-01T00:00:00",
          "2018-05-01T00:00:00",
          "2018-06-01T00:00:00",
          "2018-07-01T00:00:00",
          "2018-08-01T00:00:00",
          "2018-09-01T00:00:00",
          "2018-10-01T00:00:00",
          "2018-11-01T00:00:00",
          "2018-12-01T00:00:00"
         ],
         "xaxis": "x2",
         "y": [
          0.20057067097071707,
          0.20057067097071707,
          0.20057067097071707,
          0.20057067097071707,
          0.20057067097071707,
          0.20057067097071707,
          0.20057067097071707,
          0.20057067097071707,
          0.20057067097071707,
          0.20057067097071707,
          0.20057067097071707,
          0.20057067097071707,
          0.20057067097071707,
          0.20057067097071707,
          0.20057067097071707,
          0.20057067097071707,
          0.20057067097071707,
          0.20057067097071707,
          0.20057067097071707,
          0.20057067097071707,
          0.20057067097071707,
          0.20057067097071707,
          0.20057067097071707,
          0.20057067097071707,
          0.20057067097071707,
          0.20057067097071707,
          0.20057067097071707,
          0.20057067097071707,
          0.20057067097071707,
          0.20057067097071707
         ],
         "yaxis": "y2"
        },
        {
         "hoverinfo": "skip",
         "line": {
          "color": "rgba(0,0,0,0.55)",
          "dash": "dot",
          "width": 1.2
         },
         "mode": "lines",
         "showlegend": false,
         "type": "scatter",
         "x": [
          "2016-07-01T00:00:00",
          "2016-08-01T00:00:00",
          "2016-09-01T00:00:00",
          "2016-10-01T00:00:00",
          "2016-11-01T00:00:00",
          "2016-12-01T00:00:00",
          "2017-01-01T00:00:00",
          "2017-02-01T00:00:00",
          "2017-03-01T00:00:00",
          "2017-04-01T00:00:00",
          "2017-05-01T00:00:00",
          "2017-06-01T00:00:00",
          "2017-07-01T00:00:00",
          "2017-08-01T00:00:00",
          "2017-09-01T00:00:00",
          "2017-10-01T00:00:00",
          "2017-11-01T00:00:00",
          "2017-12-01T00:00:00",
          "2018-01-01T00:00:00",
          "2018-02-01T00:00:00",
          "2018-03-01T00:00:00",
          "2018-04-01T00:00:00",
          "2018-05-01T00:00:00",
          "2018-06-01T00:00:00",
          "2018-07-01T00:00:00",
          "2018-08-01T00:00:00",
          "2018-09-01T00:00:00",
          "2018-10-01T00:00:00",
          "2018-11-01T00:00:00",
          "2018-12-01T00:00:00"
         ],
         "xaxis": "x2",
         "y": [
          0.3429213742218123,
          0.3429213742218123,
          0.3429213742218123,
          0.3429213742218123,
          0.3429213742218123,
          0.3429213742218123,
          0.3429213742218123,
          0.3429213742218123,
          0.3429213742218123,
          0.3429213742218123,
          0.3429213742218123,
          0.3429213742218123,
          0.3429213742218123,
          0.3429213742218123,
          0.3429213742218123,
          0.3429213742218123,
          0.3429213742218123,
          0.3429213742218123,
          0.3429213742218123,
          0.3429213742218123,
          0.3429213742218123,
          0.3429213742218123,
          0.3429213742218123,
          0.3429213742218123,
          0.3429213742218123,
          0.3429213742218123,
          0.3429213742218123,
          0.3429213742218123,
          0.3429213742218123,
          0.3429213742218123
         ],
         "yaxis": "y2"
        },
        {
         "hoverinfo": "skip",
         "line": {
          "color": "rgba(0,0,0,0.55)",
          "dash": "dot",
          "width": 1.2
         },
         "mode": "lines",
         "showlegend": false,
         "type": "scatter",
         "x": [
          "2016-07-01T00:00:00",
          "2016-08-01T00:00:00",
          "2016-09-01T00:00:00",
          "2016-10-01T00:00:00",
          "2016-11-01T00:00:00",
          "2016-12-01T00:00:00",
          "2017-01-01T00:00:00",
          "2017-02-01T00:00:00",
          "2017-03-01T00:00:00",
          "2017-04-01T00:00:00",
          "2017-05-01T00:00:00",
          "2017-06-01T00:00:00",
          "2017-07-01T00:00:00",
          "2017-08-01T00:00:00",
          "2017-09-01T00:00:00",
          "2017-10-01T00:00:00",
          "2017-11-01T00:00:00",
          "2017-12-01T00:00:00",
          "2018-01-01T00:00:00",
          "2018-02-01T00:00:00",
          "2018-03-01T00:00:00",
          "2018-04-01T00:00:00",
          "2018-05-01T00:00:00",
          "2018-06-01T00:00:00",
          "2018-07-01T00:00:00",
          "2018-08-01T00:00:00",
          "2018-09-01T00:00:00",
          "2018-10-01T00:00:00",
          "2018-11-01T00:00:00",
          "2018-12-01T00:00:00"
         ],
         "xaxis": "x2",
         "y": [
          0.41932787641226654,
          0.41932787641226654,
          0.41932787641226654,
          0.41932787641226654,
          0.41932787641226654,
          0.41932787641226654,
          0.41932787641226654,
          0.41932787641226654,
          0.41932787641226654,
          0.41932787641226654,
          0.41932787641226654,
          0.41932787641226654,
          0.41932787641226654,
          0.41932787641226654,
          0.41932787641226654,
          0.41932787641226654,
          0.41932787641226654,
          0.41932787641226654,
          0.41932787641226654,
          0.41932787641226654,
          0.41932787641226654,
          0.41932787641226654,
          0.41932787641226654,
          0.41932787641226654,
          0.41932787641226654,
          0.41932787641226654,
          0.41932787641226654,
          0.41932787641226654,
          0.41932787641226654,
          0.41932787641226654
         ],
         "yaxis": "y2"
        },
        {
         "hoverinfo": "skip",
         "line": {
          "color": "rgba(0,0,0,0.55)",
          "dash": "dot",
          "width": 1.2
         },
         "mode": "lines",
         "showlegend": false,
         "type": "scatter",
         "x": [
          "2016-07-01T00:00:00",
          "2016-08-01T00:00:00",
          "2016-09-01T00:00:00",
          "2016-10-01T00:00:00",
          "2016-11-01T00:00:00",
          "2016-12-01T00:00:00",
          "2017-01-01T00:00:00",
          "2017-02-01T00:00:00",
          "2017-03-01T00:00:00",
          "2017-04-01T00:00:00",
          "2017-05-01T00:00:00",
          "2017-06-01T00:00:00",
          "2017-07-01T00:00:00",
          "2017-08-01T00:00:00",
          "2017-09-01T00:00:00",
          "2017-10-01T00:00:00",
          "2017-11-01T00:00:00",
          "2017-12-01T00:00:00",
          "2018-01-01T00:00:00",
          "2018-02-01T00:00:00",
          "2018-03-01T00:00:00",
          "2018-04-01T00:00:00",
          "2018-05-01T00:00:00",
          "2018-06-01T00:00:00",
          "2018-07-01T00:00:00",
          "2018-08-01T00:00:00",
          "2018-09-01T00:00:00",
          "2018-10-01T00:00:00",
          "2018-11-01T00:00:00",
          "2018-12-01T00:00:00"
         ],
         "xaxis": "x2",
         "y": [
          0.5035738990085312,
          0.5035738990085312,
          0.5035738990085312,
          0.5035738990085312,
          0.5035738990085312,
          0.5035738990085312,
          0.5035738990085312,
          0.5035738990085312,
          0.5035738990085312,
          0.5035738990085312,
          0.5035738990085312,
          0.5035738990085312,
          0.5035738990085312,
          0.5035738990085312,
          0.5035738990085312,
          0.5035738990085312,
          0.5035738990085312,
          0.5035738990085312,
          0.5035738990085312,
          0.5035738990085312,
          0.5035738990085312,
          0.5035738990085312,
          0.5035738990085312,
          0.5035738990085312,
          0.5035738990085312,
          0.5035738990085312,
          0.5035738990085312,
          0.5035738990085312,
          0.5035738990085312,
          0.5035738990085312
         ],
         "yaxis": "y2"
        },
        {
         "hoverinfo": "skip",
         "line": {
          "color": "rgba(0,0,0,0.55)",
          "dash": "dot",
          "width": 1.2
         },
         "mode": "lines",
         "showlegend": false,
         "type": "scatter",
         "x": [
          "2016-07-01T00:00:00",
          "2016-08-01T00:00:00",
          "2016-09-01T00:00:00",
          "2016-10-01T00:00:00",
          "2016-11-01T00:00:00",
          "2016-12-01T00:00:00",
          "2017-01-01T00:00:00",
          "2017-02-01T00:00:00",
          "2017-03-01T00:00:00",
          "2017-04-01T00:00:00",
          "2017-05-01T00:00:00",
          "2017-06-01T00:00:00",
          "2017-07-01T00:00:00",
          "2017-08-01T00:00:00",
          "2017-09-01T00:00:00",
          "2017-10-01T00:00:00",
          "2017-11-01T00:00:00",
          "2017-12-01T00:00:00",
          "2018-01-01T00:00:00",
          "2018-02-01T00:00:00",
          "2018-03-01T00:00:00",
          "2018-04-01T00:00:00",
          "2018-05-01T00:00:00",
          "2018-06-01T00:00:00",
          "2018-07-01T00:00:00",
          "2018-08-01T00:00:00",
          "2018-09-01T00:00:00",
          "2018-10-01T00:00:00",
          "2018-11-01T00:00:00",
          "2018-12-01T00:00:00"
         ],
         "xaxis": "x2",
         "y": [
          0.6308219967719622,
          0.6308219967719622,
          0.6308219967719622,
          0.6308219967719622,
          0.6308219967719622,
          0.6308219967719622,
          0.6308219967719622,
          0.6308219967719622,
          0.6308219967719622,
          0.6308219967719622,
          0.6308219967719622,
          0.6308219967719622,
          0.6308219967719622,
          0.6308219967719622,
          0.6308219967719622,
          0.6308219967719622,
          0.6308219967719622,
          0.6308219967719622,
          0.6308219967719622,
          0.6308219967719622,
          0.6308219967719622,
          0.6308219967719622,
          0.6308219967719622,
          0.6308219967719622,
          0.6308219967719622,
          0.6308219967719622,
          0.6308219967719622,
          0.6308219967719622,
          0.6308219967719622,
          0.6308219967719622
         ],
         "yaxis": "y2"
        },
        {
         "hoverinfo": "skip",
         "line": {
          "color": "rgba(0,0,0,0.55)",
          "dash": "dot",
          "width": 1.2
         },
         "mode": "lines",
         "showlegend": false,
         "type": "scatter",
         "x": [
          "2016-07-01T00:00:00",
          "2016-08-01T00:00:00",
          "2016-09-01T00:00:00",
          "2016-10-01T00:00:00",
          "2016-11-01T00:00:00",
          "2016-12-01T00:00:00",
          "2017-01-01T00:00:00",
          "2017-02-01T00:00:00",
          "2017-03-01T00:00:00",
          "2017-04-01T00:00:00",
          "2017-05-01T00:00:00",
          "2017-06-01T00:00:00",
          "2017-07-01T00:00:00",
          "2017-08-01T00:00:00",
          "2017-09-01T00:00:00",
          "2017-10-01T00:00:00",
          "2017-11-01T00:00:00",
          "2017-12-01T00:00:00",
          "2018-01-01T00:00:00",
          "2018-02-01T00:00:00",
          "2018-03-01T00:00:00",
          "2018-04-01T00:00:00",
          "2018-05-01T00:00:00",
          "2018-06-01T00:00:00",
          "2018-07-01T00:00:00",
          "2018-08-01T00:00:00",
          "2018-09-01T00:00:00",
          "2018-10-01T00:00:00",
          "2018-11-01T00:00:00",
          "2018-12-01T00:00:00"
         ],
         "xaxis": "x2",
         "y": [
          0.7043175005764353,
          0.7043175005764353,
          0.7043175005764353,
          0.7043175005764353,
          0.7043175005764353,
          0.7043175005764353,
          0.7043175005764353,
          0.7043175005764353,
          0.7043175005764353,
          0.7043175005764353,
          0.7043175005764353,
          0.7043175005764353,
          0.7043175005764353,
          0.7043175005764353,
          0.7043175005764353,
          0.7043175005764353,
          0.7043175005764353,
          0.7043175005764353,
          0.7043175005764353,
          0.7043175005764353,
          0.7043175005764353,
          0.7043175005764353,
          0.7043175005764353,
          0.7043175005764353,
          0.7043175005764353,
          0.7043175005764353,
          0.7043175005764353,
          0.7043175005764353,
          0.7043175005764353,
          0.7043175005764353
         ],
         "yaxis": "y2"
        },
        {
         "hoverinfo": "skip",
         "line": {
          "color": "rgba(0,0,0,0.55)",
          "dash": "dot",
          "width": 1.2
         },
         "mode": "lines",
         "showlegend": false,
         "type": "scatter",
         "x": [
          "2016-07-01T00:00:00",
          "2016-08-01T00:00:00",
          "2016-09-01T00:00:00",
          "2016-10-01T00:00:00",
          "2016-11-01T00:00:00",
          "2016-12-01T00:00:00",
          "2017-01-01T00:00:00",
          "2017-02-01T00:00:00",
          "2017-03-01T00:00:00",
          "2017-04-01T00:00:00",
          "2017-05-01T00:00:00",
          "2017-06-01T00:00:00",
          "2017-07-01T00:00:00",
          "2017-08-01T00:00:00",
          "2017-09-01T00:00:00",
          "2017-10-01T00:00:00",
          "2017-11-01T00:00:00",
          "2017-12-01T00:00:00",
          "2018-01-01T00:00:00",
          "2018-02-01T00:00:00",
          "2018-03-01T00:00:00",
          "2018-04-01T00:00:00",
          "2018-05-01T00:00:00",
          "2018-06-01T00:00:00",
          "2018-07-01T00:00:00",
          "2018-08-01T00:00:00",
          "2018-09-01T00:00:00",
          "2018-10-01T00:00:00",
          "2018-11-01T00:00:00",
          "2018-12-01T00:00:00"
         ],
         "xaxis": "x2",
         "y": [
          0.8093151948351395,
          0.8093151948351395,
          0.8093151948351395,
          0.8093151948351395,
          0.8093151948351395,
          0.8093151948351395,
          0.8093151948351395,
          0.8093151948351395,
          0.8093151948351395,
          0.8093151948351395,
          0.8093151948351395,
          0.8093151948351395,
          0.8093151948351395,
          0.8093151948351395,
          0.8093151948351395,
          0.8093151948351395,
          0.8093151948351395,
          0.8093151948351395,
          0.8093151948351395,
          0.8093151948351395,
          0.8093151948351395,
          0.8093151948351395,
          0.8093151948351395,
          0.8093151948351395,
          0.8093151948351395,
          0.8093151948351395,
          0.8093151948351395,
          0.8093151948351395,
          0.8093151948351395,
          0.8093151948351395
         ],
         "yaxis": "y2"
        },
        {
         "hoverinfo": "skip",
         "line": {
          "color": "rgba(0,0,0,0.55)",
          "dash": "dot",
          "width": 1.2
         },
         "mode": "lines",
         "showlegend": false,
         "type": "scatter",
         "x": [
          "2016-07-01T00:00:00",
          "2016-08-01T00:00:00",
          "2016-09-01T00:00:00",
          "2016-10-01T00:00:00",
          "2016-11-01T00:00:00",
          "2016-12-01T00:00:00",
          "2017-01-01T00:00:00",
          "2017-02-01T00:00:00",
          "2017-03-01T00:00:00",
          "2017-04-01T00:00:00",
          "2017-05-01T00:00:00",
          "2017-06-01T00:00:00",
          "2017-07-01T00:00:00",
          "2017-08-01T00:00:00",
          "2017-09-01T00:00:00",
          "2017-10-01T00:00:00",
          "2017-11-01T00:00:00",
          "2017-12-01T00:00:00",
          "2018-01-01T00:00:00",
          "2018-02-01T00:00:00",
          "2018-03-01T00:00:00",
          "2018-04-01T00:00:00",
          "2018-05-01T00:00:00",
          "2018-06-01T00:00:00",
          "2018-07-01T00:00:00",
          "2018-08-01T00:00:00",
          "2018-09-01T00:00:00",
          "2018-10-01T00:00:00",
          "2018-11-01T00:00:00",
          "2018-12-01T00:00:00"
         ],
         "xaxis": "x2",
         "y": [
          0.9088655752824533,
          0.9088655752824533,
          0.9088655752824533,
          0.9088655752824533,
          0.9088655752824533,
          0.9088655752824533,
          0.9088655752824533,
          0.9088655752824533,
          0.9088655752824533,
          0.9088655752824533,
          0.9088655752824533,
          0.9088655752824533,
          0.9088655752824533,
          0.9088655752824533,
          0.9088655752824533,
          0.9088655752824533,
          0.9088655752824533,
          0.9088655752824533,
          0.9088655752824533,
          0.9088655752824533,
          0.9088655752824533,
          0.9088655752824533,
          0.9088655752824533,
          0.9088655752824533,
          0.9088655752824533,
          0.9088655752824533,
          0.9088655752824533,
          0.9088655752824533,
          0.9088655752824533,
          0.9088655752824533
         ],
         "yaxis": "y2"
        },
        {
         "groupnorm": "fraction",
         "line": {
          "color": "rgb(0,104,55)",
          "width": 0.8
         },
         "mode": "lines",
         "name": "Decile 1",
         "showlegend": false,
         "stackgroup": "group2",
         "type": "scatter",
         "x": [
          "2016-07-01T00:00:00",
          "2016-08-01T00:00:00",
          "2016-09-01T00:00:00",
          "2016-10-01T00:00:00",
          "2016-11-01T00:00:00",
          "2016-12-01T00:00:00",
          "2017-01-01T00:00:00",
          "2017-02-01T00:00:00",
          "2017-03-01T00:00:00",
          "2017-04-01T00:00:00",
          "2017-05-01T00:00:00",
          "2017-06-01T00:00:00",
          "2017-07-01T00:00:00",
          "2017-08-01T00:00:00",
          "2017-09-01T00:00:00",
          "2017-10-01T00:00:00",
          "2017-11-01T00:00:00",
          "2017-12-01T00:00:00",
          "2018-01-01T00:00:00",
          "2018-02-01T00:00:00",
          "2018-03-01T00:00:00",
          "2018-04-01T00:00:00",
          "2018-05-01T00:00:00",
          "2018-06-01T00:00:00",
          "2018-07-01T00:00:00",
          "2018-08-01T00:00:00",
          "2018-09-01T00:00:00",
          "2018-10-01T00:00:00",
          "2018-11-01T00:00:00",
          "2018-12-01T00:00:00"
         ],
         "xaxis": "x3",
         "y": {
          "bdata": "+9cFbVlluz+UORxUQt+7P799YLdsi74/smViRJr0wD9HgiN+FPG/P6pTSRxuU8A/NHJyuOWLwT/D+GrVTR3CPwRYZZUW8MI/IXUBDXTQwj+frunkAjbCP3HbyJP73cI/hPAvbRP3wT8fKSV/e9TCP1F9EMKHPMI/nJXY/Xatwz9fGBfM5eHEP47VXmGIKcU/x0rlbwPIxj8Mc/r2nAXFP1G9ADB+A8U/FhV5sXTbxD8nRJG/Ny3EPxmTU71UPMQ/5szI2vfqwz8g1CZNP4LEP3sLPWuixMQ/LPuIFz/sxD9fylSqpY7EP/YzvfvZC8U/",
          "dtype": "f8"
         },
         "yaxis": "y3"
        },
        {
         "groupnorm": "fraction",
         "line": {
          "color": "rgb(26,152,80)",
          "width": 0.8
         },
         "mode": "lines",
         "name": "Decile 2",
         "showlegend": false,
         "stackgroup": "group2",
         "type": "scatter",
         "x": [
          "2016-07-01T00:00:00",
          "2016-08-01T00:00:00",
          "2016-09-01T00:00:00",
          "2016-10-01T00:00:00",
          "2016-11-01T00:00:00",
          "2016-12-01T00:00:00",
          "2017-01-01T00:00:00",
          "2017-02-01T00:00:00",
          "2017-03-01T00:00:00",
          "2017-04-01T00:00:00",
          "2017-05-01T00:00:00",
          "2017-06-01T00:00:00",
          "2017-07-01T00:00:00",
          "2017-08-01T00:00:00",
          "2017-09-01T00:00:00",
          "2017-10-01T00:00:00",
          "2017-11-01T00:00:00",
          "2017-12-01T00:00:00",
          "2018-01-01T00:00:00",
          "2018-02-01T00:00:00",
          "2018-03-01T00:00:00",
          "2018-04-01T00:00:00",
          "2018-05-01T00:00:00",
          "2018-06-01T00:00:00",
          "2018-07-01T00:00:00",
          "2018-08-01T00:00:00",
          "2018-09-01T00:00:00",
          "2018-10-01T00:00:00",
          "2018-11-01T00:00:00",
          "2018-12-01T00:00:00"
         ],
         "xaxis": "x3",
         "y": {
          "bdata": "GbYj03cyuT8j4nZqboS6P1uPuZtu+Ls/oW46mEsRvj/kOOdrdNO8P7MkC08E+bw/zga2/BrsvT/P77Oi4W69P9aSmmaSxb0/RCUlX3hZvj/Mmyx6kUu9P8mhNsBdXL4/bBl6t9FZvT8wyor1o6m+P9z3Di43kLw/fji7JW9Uvz8LuNGA83TAP9dMukHGQsA/NIxa2GYCwT8BwagbWym/PyjDROaim78/YH06YX+Lvj96gFoUsm++PwCwrifiMb8/fCfqTA7Jvz9UP4cYP13APyWvqp7Smr8/AoH5dvA5wD8bBltkkobAP045/LfOvMA/",
          "dtype": "f8"
         },
         "yaxis": "y3"
        },
        {
         "groupnorm": "fraction",
         "line": {
          "color": "rgb(102,189,99)",
          "width": 0.8
         },
         "mode": "lines",
         "name": "Decile 3",
         "showlegend": false,
         "stackgroup": "group2",
         "type": "scatter",
         "x": [
          "2016-07-01T00:00:00",
          "2016-08-01T00:00:00",
          "2016-09-01T00:00:00",
          "2016-10-01T00:00:00",
          "2016-11-01T00:00:00",
          "2016-12-01T00:00:00",
          "2017-01-01T00:00:00",
          "2017-02-01T00:00:00",
          "2017-03-01T00:00:00",
          "2017-04-01T00:00:00",
          "2017-05-01T00:00:00",
          "2017-06-01T00:00:00",
          "2017-07-01T00:00:00",
          "2017-08-01T00:00:00",
          "2017-09-01T00:00:00",
          "2017-10-01T00:00:00",
          "2017-11-01T00:00:00",
          "2017-12-01T00:00:00",
          "2018-01-01T00:00:00",
          "2018-02-01T00:00:00",
          "2018-03-01T00:00:00",
          "2018-04-01T00:00:00",
          "2018-05-01T00:00:00",
          "2018-06-01T00:00:00",
          "2018-07-01T00:00:00",
          "2018-08-01T00:00:00",
          "2018-09-01T00:00:00",
          "2018-10-01T00:00:00",
          "2018-11-01T00:00:00",
          "2018-12-01T00:00:00"
         ],
         "xaxis": "x3",
         "y": {
          "bdata": "biekU+fBuz+GAUOLi2i8P9o9ic9SGb4/S4VzFEKnvz/BfPmPvjW+P/BfOCC6i70/dhi67mtWvz+cLP6hIN++P1K+fvhpdb8/JRCQQLa8vT+3fTiVdHi+PwWB00PDU74/p9JpvVO1vj9Etq2dwo+/P2xxpd8687w/yH1BIL8bvz/3Tk1rdPi/P/y4u186mr8/oX2JDRoXwD9fPR8qUvW+P+qSEjEoo74/6oT9Lfqmvj/hfRSzbFC9P8TNjcpKor4/xf/2evd5vz8/evTlr62/P/jYlsbXyb8/AI+2YwwfwD90rDnQlE3AP0sQ4XLRCsA/",
          "dtype": "f8"
         },
         "yaxis": "y3"
        },
        {
         "groupnorm": "fraction",
         "line": {
          "color": "rgb(166,217,106)",
          "width": 0.8
         },
         "mode": "lines",
         "name": "Decile 4",
         "showlegend": false,
         "stackgroup": "group2",
         "type": "scatter",
         "x": [
          "2016-07-01T00:00:00",
          "2016-08-01T00:00:00",
          "2016-09-01T00:00:00",
          "2016-10-01T00:00:00",
          "2016-11-01T00:00:00",
          "2016-12-01T00:00:00",
          "2017-01-01T00:00:00",
          "2017-02-01T00:00:00",
          "2017-03-01T00:00:00",
          "2017-04-01T00:00:00",
          "2017-05-01T00:00:00",
          "2017-06-01T00:00:00",
          "2017-07-01T00:00:00",
          "2017-08-01T00:00:00",
          "2017-09-01T00:00:00",
          "2017-10-01T00:00:00",
          "2017-11-01T00:00:00",
          "2017-12-01T00:00:00",
          "2018-01-01T00:00:00",
          "2018-02-01T00:00:00",
          "2018-03-01T00:00:00",
          "2018-04-01T00:00:00",
          "2018-05-01T00:00:00",
          "2018-06-01T00:00:00",
          "2018-07-01T00:00:00",
          "2018-08-01T00:00:00",
          "2018-09-01T00:00:00",
          "2018-10-01T00:00:00",
          "2018-11-01T00:00:00",
          "2018-12-01T00:00:00"
         ],
         "xaxis": "x3",
         "y": {
          "bdata": "jX3BUubivD+kreQ7/Va9P3XilB+5+L0/lx48UEsdvj8R0BKuAUO+P2LQxd+sIr0/BatXXkR+vj8Y96FRKcW+P2WXTHwXMb4/pN+3aKYbvj/IBjoTknO9P66UqMHsWL4/vUc9wwyFvT/c8ar4X429PwInvUHqjLw/8dedu/gsvj80xfr2C3O9PzidDES9yL0/mu1bzKuovD8NejpUAR+9P+ty7Oqnc7w/P7jPzcknvT9Q+jL2Cpe8P+vkcTouxLw/NnYXozX8vT90nx3UJOW9P0nUI/2pe74/AtuC67kDvj+ziMdBAwK+P+UhlTJh374/",
          "dtype": "f8"
         },
         "yaxis": "y3"
        },
        {
         "groupnorm": "fraction",
         "line": {
          "color": "rgb(217,239,139)",
          "width": 0.8
         },
         "mode": "lines",
         "name": "Decile 5",
         "showlegend": false,
         "stackgroup": "group2",
         "type": "scatter",
         "x": [
          "2016-07-01T00:00:00",
          "2016-08-01T00:00:00",
          "2016-09-01T00:00:00",
          "2016-10-01T00:00:00",
          "2016-11-01T00:00:00",
          "2016-12-01T00:00:00",
          "2017-01-01T00:00:00",
          "2017-02-01T00:00:00",
          "2017-03-01T00:00:00",
          "2017-04-01T00:00:00",
          "2017-05-01T00:00:00",
          "2017-06-01T00:00:00",
          "2017-07-01T00:00:00",
          "2017-08-01T00:00:00",
          "2017-09-01T00:00:00",
          "2017-10-01T00:00:00",
          "2017-11-01T00:00:00",
          "2017-12-01T00:00:00",
          "2018-01-01T00:00:00",
          "2018-02-01T00:00:00",
          "2018-03-01T00:00:00",
          "2018-04-01T00:00:00",
          "2018-05-01T00:00:00",
          "2018-06-01T00:00:00",
          "2018-07-01T00:00:00",
          "2018-08-01T00:00:00",
          "2018-09-01T00:00:00",
          "2018-10-01T00:00:00",
          "2018-11-01T00:00:00",
          "2018-12-01T00:00:00"
         ],
         "xaxis": "x3",
         "y": {
          "bdata": "3y8lKpYQtz8Ps0S5Qq63P6WusP4W3rY/mKtm424vuD+Sdc4Zf9a3P5talsuPxLY/2btACh+Etj99u2HDGRK3PytrLw3paLc/M4r4WgSdtj9aO+CDvVm3P42GwnXwt7Y/kDT18Z2Otj8/zOR9nKS2P74X/WKE57U/W1E8RT5Atj9u6o9c/hi2P/rFk8yXkLU/Vw8a5BpitT/ciDOg0j22P0DPDOQSIbU/HXBrrtRxtT8baTZrO4W2Pw/Yj6M4N7U/UZeTFqi8tj87ktFa2zu2P0bYc5KNobY/NWSTXHfqtj8TG2XjyQe3P/oerETzYbY/",
          "dtype": "f8"
         },
         "yaxis": "y3"
        },
        {
         "groupnorm": "fraction",
         "line": {
          "color": "rgb(254,224,139)",
          "width": 0.8
         },
         "mode": "lines",
         "name": "Decile 6",
         "showlegend": false,
         "stackgroup": "group2",
         "type": "scatter",
         "x": [
          "2016-07-01T00:00:00",
          "2016-08-01T00:00:00",
          "2016-09-01T00:00:00",
          "2016-10-01T00:00:00",
          "2016-11-01T00:00:00",
          "2016-12-01T00:00:00",
          "2017-01-01T00:00:00",
          "2017-02-01T00:00:00",
          "2017-03-01T00:00:00",
          "2017-04-01T00:00:00",
          "2017-05-01T00:00:00",
          "2017-06-01T00:00:00",
          "2017-07-01T00:00:00",
          "2017-08-01T00:00:00",
          "2017-09-01T00:00:00",
          "2017-10-01T00:00:00",
          "2017-11-01T00:00:00",
          "2017-12-01T00:00:00",
          "2018-01-01T00:00:00",
          "2018-02-01T00:00:00",
          "2018-03-01T00:00:00",
          "2018-04-01T00:00:00",
          "2018-05-01T00:00:00",
          "2018-06-01T00:00:00",
          "2018-07-01T00:00:00",
          "2018-08-01T00:00:00",
          "2018-09-01T00:00:00",
          "2018-10-01T00:00:00",
          "2018-11-01T00:00:00",
          "2018-12-01T00:00:00"
         ],
         "xaxis": "x3",
         "y": {
          "bdata": "Gsji3kAFtz8dHGJ6uKS2Pw2WJxCP97U/+eQrr3iNtj8Wu58vg/62P83BAPMaebU/Gq3ej+fMtT8gCHXk6I22Pyeoohh+rrU/3yjPJFystT8kHHKk4621P4d7GoT2ZLU/HpZBYljotT98B65/LAK2PzfoKTtmbbU/hEksCFIJtT+s5BfwIIi0P/0SZYR+PLQ/Ntb2LpxTsz9IGNNXcxO0P+G/lAC4B7U/PWdyoz1OtD+hs0djaGS0P5r622MD4rQ/2XVE7QAktD/y4pGTws+0Px0hRG/Xs7Q/0bT+KdQYtT/6L272/Om0P4OTZ2MwxbU/",
          "dtype": "f8"
         },
         "yaxis": "y3"
        },
        {
         "groupnorm": "fraction",
         "line": {
          "color": "rgb(253,174,97)",
          "width": 0.8
         },
         "mode": "lines",
         "name": "Decile 7",
         "showlegend": false,
         "stackgroup": "group2",
         "type": "scatter",
         "x": [
          "2016-07-01T00:00:00",
          "2016-08-01T00:00:00",
          "2016-09-01T00:00:00",
          "2016-10-01T00:00:00",
          "2016-11-01T00:00:00",
          "2016-12-01T00:00:00",
          "2017-01-01T00:00:00",
          "2017-02-01T00:00:00",
          "2017-03-01T00:00:00",
          "2017-04-01T00:00:00",
          "2017-05-01T00:00:00",
          "2017-06-01T00:00:00",
          "2017-07-01T00:00:00",
          "2017-08-01T00:00:00",
          "2017-09-01T00:00:00",
          "2017-10-01T00:00:00",
          "2017-11-01T00:00:00",
          "2017-12-01T00:00:00",
          "2018-01-01T00:00:00",
          "2018-02-01T00:00:00",
          "2018-03-01T00:00:00",
          "2018-04-01T00:00:00",
          "2018-05-01T00:00:00",
          "2018-06-01T00:00:00",
          "2018-07-01T00:00:00",
          "2018-08-01T00:00:00",
          "2018-09-01T00:00:00",
          "2018-10-01T00:00:00",
          "2018-11-01T00:00:00",
          "2018-12-01T00:00:00"
         ],
         "xaxis": "x3",
         "y": {
          "bdata": "EInOpXdluT++EuymJcO5P9RTQHpIsrk/HTN7d2vBuD+b0HuayvC4P42rX4IDcLg/BxPmR6lfuD/Mi11l9Qm4PygOWOfAu7c/DAvFe4uhtz/xtaQMq1e4P/sAItsqKLg/1tcXX+lDuD9VlxpKLzO4P4GISIw++bc/MZ6PMyRrtz8n5tS+LNG2PwQunyL8n7Y/QnlAWjahtT9AudiP0DG2P+s4XIu6zLY/KyZQqJSetj/E3SYP/cu2P97CleMphLY/o/L4shQktz8yRw++om22PzAiYgiJy7Y/wWfRaxJ8tj+Cq4iYs9K2P2ytYuMgurY/",
          "dtype": "f8"
         },
         "yaxis": "y3"
        },
        {
         "groupnorm": "fraction",
         "line": {
          "color": "rgb(244,109,67)",
          "width": 0.8
         },
         "mode": "lines",
         "name": "Decile 8",
         "showlegend": false,
         "stackgroup": "group2",
         "type": "scatter",
         "x": [
          "2016-07-01T00:00:00",
          "2016-08-01T00:00:00",
          "2016-09-01T00:00:00",
          "2016-10-01T00:00:00",
          "2016-11-01T00:00:00",
          "2016-12-01T00:00:00",
          "2017-01-01T00:00:00",
          "2017-02-01T00:00:00",
          "2017-03-01T00:00:00",
          "2017-04-01T00:00:00",
          "2017-05-01T00:00:00",
          "2017-06-01T00:00:00",
          "2017-07-01T00:00:00",
          "2017-08-01T00:00:00",
          "2017-09-01T00:00:00",
          "2017-10-01T00:00:00",
          "2017-11-01T00:00:00",
          "2017-12-01T00:00:00",
          "2018-01-01T00:00:00",
          "2018-02-01T00:00:00",
          "2018-03-01T00:00:00",
          "2018-04-01T00:00:00",
          "2018-05-01T00:00:00",
          "2018-06-01T00:00:00",
          "2018-07-01T00:00:00",
          "2018-08-01T00:00:00",
          "2018-09-01T00:00:00",
          "2018-10-01T00:00:00",
          "2018-11-01T00:00:00",
          "2018-12-01T00:00:00"
         ],
         "xaxis": "x3",
         "y": {
          "bdata": "cdXgDyOOuD9GUB5RtSy4P0vhjMgiD7g/OL72ioETtT+AT7Z6ZZC3PzRRTTAzC7c/0lJftosGtj+6OqW79h62P+fjxDz+/7Q/lwbsw3HjtD/rXv3yaiK2P//c58D8BLY/X4wMLA7WtT+4NUWMaee0P6EyEtm207U/hdOyakXxtD9qoO3IorWzP6xe/fMy77M/drri86dusz/1qSKbhoO0P6wO5gJTjLQ/5/1h52U8tT+0vEGUZAu1P3krb3z0O7U/xL6jJ/D6sz+nFu2zguazP9SCbDkfVLQ/c9syMd2Xsz+7bMmjcsSzP/JIzrLAtbM/",
          "dtype": "f8"
         },
         "yaxis": "y3"
        },
        {
         "groupnorm": "fraction",
         "line": {
          "color": "rgb(215,48,39)",
          "width": 0.8
         },
         "mode": "lines",
         "name": "Decile 9",
         "showlegend": false,
         "stackgroup": "group2",
         "type": "scatter",
         "x": [
          "2016-07-01T00:00:00",
          "2016-08-01T00:00:00",
          "2016-09-01T00:00:00",
          "2016-10-01T00:00:00",
          "2016-11-01T00:00:00",
          "2016-12-01T00:00:00",
          "2017-01-01T00:00:00",
          "2017-02-01T00:00:00",
          "2017-03-01T00:00:00",
          "2017-04-01T00:00:00",
          "2017-05-01T00:00:00",
          "2017-06-01T00:00:00",
          "2017-07-01T00:00:00",
          "2017-08-01T00:00:00",
          "2017-09-01T00:00:00",
          "2017-10-01T00:00:00",
          "2017-11-01T00:00:00",
          "2017-12-01T00:00:00",
          "2018-01-01T00:00:00",
          "2018-02-01T00:00:00",
          "2018-03-01T00:00:00",
          "2018-04-01T00:00:00",
          "2018-05-01T00:00:00",
          "2018-06-01T00:00:00",
          "2018-07-01T00:00:00",
          "2018-08-01T00:00:00",
          "2018-09-01T00:00:00",
          "2018-10-01T00:00:00",
          "2018-11-01T00:00:00",
          "2018-12-01T00:00:00"
         ],
         "xaxis": "x3",
         "y": {
          "bdata": "chpA4nchuT+cepw0hPa3P1WGO3khJrY/IO/PAoj/sz8UG6tQFNm0P3Ef/HtUnbU/fCnbvv6TtD9ndykVk0u0P1TP4Jmv4LM/98B+zZ+ltD+1P48TkXa0P5JQa04rg7M/enZ55avStD/hhOvl2l6zP8K83if327U/Q+A1hewwsz/kFlr92ZiyP30kLSzUWbI/1kmXyECWsT/Py6HEYKezP6g94jgDiLM/52U8ZSFGsz9r6cIcSzS0PznWAY4VI7Q/ls9EIvhrsz+nlu0Ny8WyPx+hP36xX7I/4OeL5nsVsj9L2PXcDNexPxnvLitN1bA/",
          "dtype": "f8"
         },
         "yaxis": "y3"
        },
        {
         "groupnorm": "fraction",
         "line": {
          "color": "rgb(165,0,38)",
          "width": 0.8
         },
         "mode": "lines",
         "name": "Decile 10",
         "showlegend": false,
         "stackgroup": "group2",
         "type": "scatter",
         "x": [
          "2016-07-01T00:00:00",
          "2016-08-01T00:00:00",
          "2016-09-01T00:00:00",
          "2016-10-01T00:00:00",
          "2016-11-01T00:00:00",
          "2016-12-01T00:00:00",
          "2017-01-01T00:00:00",
          "2017-02-01T00:00:00",
          "2017-03-01T00:00:00",
          "2017-04-01T00:00:00",
          "2017-05-01T00:00:00",
          "2017-06-01T00:00:00",
          "2017-07-01T00:00:00",
          "2017-08-01T00:00:00",
          "2017-09-01T00:00:00",
          "2017-10-01T00:00:00",
          "2017-11-01T00:00:00",
          "2017-12-01T00:00:00",
          "2018-01-01T00:00:00",
          "2018-02-01T00:00:00",
          "2018-03-01T00:00:00",
          "2018-04-01T00:00:00",
          "2018-05-01T00:00:00",
          "2018-06-01T00:00:00",
          "2018-07-01T00:00:00",
          "2018-08-01T00:00:00",
          "2018-09-01T00:00:00",
          "2018-10-01T00:00:00",
          "2018-11-01T00:00:00",
          "2018-12-01T00:00:00"
         ],
         "xaxis": "x3",
         "y": {
          "bdata": "Blx5eHeYuT9UiPcZbKO3P3LS5vLlrLQ/FLF84pWvsT8ujJ0ocJOyPw3LI4uCW7Y/B1kT7i7csT9t+dLgtp2wP7iS/xXp/7A/BXuYUEW5sj9o1gnYGWSyPwNhaS7BbbE/zEWqKA0asz/JFfS7BXCxPzz9DAG9eLY/uVnTkQQxsT9y3iEyBCawP97aQoJRDrE/EgZGXnU4sD9U0WSQGQmyPwGo9PG0PLI/97k5+aQNsz9n3pE0Flm0P+bfN2OL8rI/lTq83i5/sT+3VUQMoIiwPzuatApQg68/C5XRSy6Krj+4g5Qa0rCtPxSWhC2wGqw/",
          "dtype": "f8"
         },
         "yaxis": "y3"
        },
        {
         "hoverinfo": "skip",
         "line": {
          "color": "rgba(0,0,0,0.85)",
          "dash": "solid",
          "width": 2
         },
         "mode": "lines",
         "showlegend": false,
         "type": "scatter",
         "x": [
          "2016-07-01T00:00:00",
          "2016-08-01T00:00:00",
          "2016-09-01T00:00:00",
          "2016-10-01T00:00:00",
          "2016-11-01T00:00:00",
          "2016-12-01T00:00:00",
          "2017-01-01T00:00:00",
          "2017-02-01T00:00:00",
          "2017-03-01T00:00:00",
          "2017-04-01T00:00:00",
          "2017-05-01T00:00:00",
          "2017-06-01T00:00:00",
          "2017-07-01T00:00:00",
          "2017-08-01T00:00:00",
          "2017-09-01T00:00:00",
          "2017-10-01T00:00:00",
          "2017-11-01T00:00:00",
          "2017-12-01T00:00:00",
          "2018-01-01T00:00:00",
          "2018-02-01T00:00:00",
          "2018-03-01T00:00:00",
          "2018-04-01T00:00:00",
          "2018-05-01T00:00:00",
          "2018-06-01T00:00:00",
          "2018-07-01T00:00:00",
          "2018-08-01T00:00:00",
          "2018-09-01T00:00:00",
          "2018-10-01T00:00:00",
          "2018-11-01T00:00:00",
          "2018-12-01T00:00:00"
         ],
         "xaxis": "x3",
         "y": [
          0.10701521789255246,
          0.10701521789255246,
          0.10701521789255246,
          0.10701521789255246,
          0.10701521789255246,
          0.10701521789255246,
          0.10701521789255246,
          0.10701521789255246,
          0.10701521789255246,
          0.10701521789255246,
          0.10701521789255246,
          0.10701521789255246,
          0.10701521789255246,
          0.10701521789255246,
          0.10701521789255246,
          0.10701521789255246,
          0.10701521789255246,
          0.10701521789255246,
          0.10701521789255246,
          0.10701521789255246,
          0.10701521789255246,
          0.10701521789255246,
          0.10701521789255246,
          0.10701521789255246,
          0.10701521789255246,
          0.10701521789255246,
          0.10701521789255246,
          0.10701521789255246,
          0.10701521789255246,
          0.10701521789255246
         ],
         "yaxis": "y3"
        },
        {
         "hoverinfo": "skip",
         "line": {
          "color": "rgba(0,0,0,0.55)",
          "dash": "dot",
          "width": 1.2
         },
         "mode": "lines",
         "showlegend": false,
         "type": "scatter",
         "x": [
          "2016-07-01T00:00:00",
          "2016-08-01T00:00:00",
          "2016-09-01T00:00:00",
          "2016-10-01T00:00:00",
          "2016-11-01T00:00:00",
          "2016-12-01T00:00:00",
          "2017-01-01T00:00:00",
          "2017-02-01T00:00:00",
          "2017-03-01T00:00:00",
          "2017-04-01T00:00:00",
          "2017-05-01T00:00:00",
          "2017-06-01T00:00:00",
          "2017-07-01T00:00:00",
          "2017-08-01T00:00:00",
          "2017-09-01T00:00:00",
          "2017-10-01T00:00:00",
          "2017-11-01T00:00:00",
          "2017-12-01T00:00:00",
          "2018-01-01T00:00:00",
          "2018-02-01T00:00:00",
          "2018-03-01T00:00:00",
          "2018-04-01T00:00:00",
          "2018-05-01T00:00:00",
          "2018-06-01T00:00:00",
          "2018-07-01T00:00:00",
          "2018-08-01T00:00:00",
          "2018-09-01T00:00:00",
          "2018-10-01T00:00:00",
          "2018-11-01T00:00:00",
          "2018-12-01T00:00:00"
         ],
         "xaxis": "x3",
         "y": [
          0.2054415494581508,
          0.2054415494581508,
          0.2054415494581508,
          0.2054415494581508,
          0.2054415494581508,
          0.2054415494581508,
          0.2054415494581508,
          0.2054415494581508,
          0.2054415494581508,
          0.2054415494581508,
          0.2054415494581508,
          0.2054415494581508,
          0.2054415494581508,
          0.2054415494581508,
          0.2054415494581508,
          0.2054415494581508,
          0.2054415494581508,
          0.2054415494581508,
          0.2054415494581508,
          0.2054415494581508,
          0.2054415494581508,
          0.2054415494581508,
          0.2054415494581508,
          0.2054415494581508,
          0.2054415494581508,
          0.2054415494581508,
          0.2054415494581508,
          0.2054415494581508,
          0.2054415494581508,
          0.2054415494581508
         ],
         "yaxis": "y3"
        },
        {
         "hoverinfo": "skip",
         "line": {
          "color": "rgba(0,0,0,0.55)",
          "dash": "dot",
          "width": 1.2
         },
         "mode": "lines",
         "showlegend": false,
         "type": "scatter",
         "x": [
          "2016-07-01T00:00:00",
          "2016-08-01T00:00:00",
          "2016-09-01T00:00:00",
          "2016-10-01T00:00:00",
          "2016-11-01T00:00:00",
          "2016-12-01T00:00:00",
          "2017-01-01T00:00:00",
          "2017-02-01T00:00:00",
          "2017-03-01T00:00:00",
          "2017-04-01T00:00:00",
          "2017-05-01T00:00:00",
          "2017-06-01T00:00:00",
          "2017-07-01T00:00:00",
          "2017-08-01T00:00:00",
          "2017-09-01T00:00:00",
          "2017-10-01T00:00:00",
          "2017-11-01T00:00:00",
          "2017-12-01T00:00:00",
          "2018-01-01T00:00:00",
          "2018-02-01T00:00:00",
          "2018-03-01T00:00:00",
          "2018-04-01T00:00:00",
          "2018-05-01T00:00:00",
          "2018-06-01T00:00:00",
          "2018-07-01T00:00:00",
          "2018-08-01T00:00:00",
          "2018-09-01T00:00:00",
          "2018-10-01T00:00:00",
          "2018-11-01T00:00:00",
          "2018-12-01T00:00:00"
         ],
         "xaxis": "x3",
         "y": [
          0.313869033894397,
          0.313869033894397,
          0.313869033894397,
          0.313869033894397,
          0.313869033894397,
          0.313869033894397,
          0.313869033894397,
          0.313869033894397,
          0.313869033894397,
          0.313869033894397,
          0.313869033894397,
          0.313869033894397,
          0.313869033894397,
          0.313869033894397,
          0.313869033894397,
          0.313869033894397,
          0.313869033894397,
          0.313869033894397,
          0.313869033894397,
          0.313869033894397,
          0.313869033894397,
          0.313869033894397,
          0.313869033894397,
          0.313869033894397,
          0.313869033894397,
          0.313869033894397,
          0.313869033894397,
          0.313869033894397,
          0.313869033894397,
          0.313869033894397
         ],
         "yaxis": "y3"
        },
        {
         "hoverinfo": "skip",
         "line": {
          "color": "rgba(0,0,0,0.55)",
          "dash": "dot",
          "width": 1.2
         },
         "mode": "lines",
         "showlegend": false,
         "type": "scatter",
         "x": [
          "2016-07-01T00:00:00",
          "2016-08-01T00:00:00",
          "2016-09-01T00:00:00",
          "2016-10-01T00:00:00",
          "2016-11-01T00:00:00",
          "2016-12-01T00:00:00",
          "2017-01-01T00:00:00",
          "2017-02-01T00:00:00",
          "2017-03-01T00:00:00",
          "2017-04-01T00:00:00",
          "2017-05-01T00:00:00",
          "2017-06-01T00:00:00",
          "2017-07-01T00:00:00",
          "2017-08-01T00:00:00",
          "2017-09-01T00:00:00",
          "2017-10-01T00:00:00",
          "2017-11-01T00:00:00",
          "2017-12-01T00:00:00",
          "2018-01-01T00:00:00",
          "2018-02-01T00:00:00",
          "2018-03-01T00:00:00",
          "2018-04-01T00:00:00",
          "2018-05-01T00:00:00",
          "2018-06-01T00:00:00",
          "2018-07-01T00:00:00",
          "2018-08-01T00:00:00",
          "2018-09-01T00:00:00",
          "2018-10-01T00:00:00",
          "2018-11-01T00:00:00",
          "2018-12-01T00:00:00"
         ],
         "xaxis": "x3",
         "y": [
          0.42670624855891165,
          0.42670624855891165,
          0.42670624855891165,
          0.42670624855891165,
          0.42670624855891165,
          0.42670624855891165,
          0.42670624855891165,
          0.42670624855891165,
          0.42670624855891165,
          0.42670624855891165,
          0.42670624855891165,
          0.42670624855891165,
          0.42670624855891165,
          0.42670624855891165,
          0.42670624855891165,
          0.42670624855891165,
          0.42670624855891165,
          0.42670624855891165,
          0.42670624855891165,
          0.42670624855891165,
          0.42670624855891165,
          0.42670624855891165,
          0.42670624855891165,
          0.42670624855891165,
          0.42670624855891165,
          0.42670624855891165,
          0.42670624855891165,
          0.42670624855891165,
          0.42670624855891165,
          0.42670624855891165
         ],
         "yaxis": "y3"
        },
        {
         "hoverinfo": "skip",
         "line": {
          "color": "rgba(0,0,0,0.55)",
          "dash": "dot",
          "width": 1.2
         },
         "mode": "lines",
         "showlegend": false,
         "type": "scatter",
         "x": [
          "2016-07-01T00:00:00",
          "2016-08-01T00:00:00",
          "2016-09-01T00:00:00",
          "2016-10-01T00:00:00",
          "2016-11-01T00:00:00",
          "2016-12-01T00:00:00",
          "2017-01-01T00:00:00",
          "2017-02-01T00:00:00",
          "2017-03-01T00:00:00",
          "2017-04-01T00:00:00",
          "2017-05-01T00:00:00",
          "2017-06-01T00:00:00",
          "2017-07-01T00:00:00",
          "2017-08-01T00:00:00",
          "2017-09-01T00:00:00",
          "2017-10-01T00:00:00",
          "2017-11-01T00:00:00",
          "2017-12-01T00:00:00",
          "2018-01-01T00:00:00",
          "2018-02-01T00:00:00",
          "2018-03-01T00:00:00",
          "2018-04-01T00:00:00",
          "2018-05-01T00:00:00",
          "2018-06-01T00:00:00",
          "2018-07-01T00:00:00",
          "2018-08-01T00:00:00",
          "2018-09-01T00:00:00",
          "2018-10-01T00:00:00",
          "2018-11-01T00:00:00",
          "2018-12-01T00:00:00"
         ],
         "xaxis": "x3",
         "y": [
          0.5168030896933363,
          0.5168030896933363,
          0.5168030896933363,
          0.5168030896933363,
          0.5168030896933363,
          0.5168030896933363,
          0.5168030896933363,
          0.5168030896933363,
          0.5168030896933363,
          0.5168030896933363,
          0.5168030896933363,
          0.5168030896933363,
          0.5168030896933363,
          0.5168030896933363,
          0.5168030896933363,
          0.5168030896933363,
          0.5168030896933363,
          0.5168030896933363,
          0.5168030896933363,
          0.5168030896933363,
          0.5168030896933363,
          0.5168030896933363,
          0.5168030896933363,
          0.5168030896933363,
          0.5168030896933363,
          0.5168030896933363,
          0.5168030896933363,
          0.5168030896933363,
          0.5168030896933363,
          0.5168030896933363
         ],
         "yaxis": "y3"
        },
        {
         "hoverinfo": "skip",
         "line": {
          "color": "rgba(0,0,0,0.55)",
          "dash": "dot",
          "width": 1.2
         },
         "mode": "lines",
         "showlegend": false,
         "type": "scatter",
         "x": [
          "2016-07-01T00:00:00",
          "2016-08-01T00:00:00",
          "2016-09-01T00:00:00",
          "2016-10-01T00:00:00",
          "2016-11-01T00:00:00",
          "2016-12-01T00:00:00",
          "2017-01-01T00:00:00",
          "2017-02-01T00:00:00",
          "2017-03-01T00:00:00",
          "2017-04-01T00:00:00",
          "2017-05-01T00:00:00",
          "2017-06-01T00:00:00",
          "2017-07-01T00:00:00",
          "2017-08-01T00:00:00",
          "2017-09-01T00:00:00",
          "2017-10-01T00:00:00",
          "2017-11-01T00:00:00",
          "2017-12-01T00:00:00",
          "2018-01-01T00:00:00",
          "2018-02-01T00:00:00",
          "2018-03-01T00:00:00",
          "2018-04-01T00:00:00",
          "2018-05-01T00:00:00",
          "2018-06-01T00:00:00",
          "2018-07-01T00:00:00",
          "2018-08-01T00:00:00",
          "2018-09-01T00:00:00",
          "2018-10-01T00:00:00",
          "2018-11-01T00:00:00",
          "2018-12-01T00:00:00"
         ],
         "xaxis": "x3",
         "y": [
          0.606727000230574,
          0.606727000230574,
          0.606727000230574,
          0.606727000230574,
          0.606727000230574,
          0.606727000230574,
          0.606727000230574,
          0.606727000230574,
          0.606727000230574,
          0.606727000230574,
          0.606727000230574,
          0.606727000230574,
          0.606727000230574,
          0.606727000230574,
          0.606727000230574,
          0.606727000230574,
          0.606727000230574,
          0.606727000230574,
          0.606727000230574,
          0.606727000230574,
          0.606727000230574,
          0.606727000230574,
          0.606727000230574,
          0.606727000230574,
          0.606727000230574,
          0.606727000230574,
          0.606727000230574,
          0.606727000230574,
          0.606727000230574,
          0.606727000230574
         ],
         "yaxis": "y3"
        },
        {
         "hoverinfo": "skip",
         "line": {
          "color": "rgba(0,0,0,0.55)",
          "dash": "dot",
          "width": 1.2
         },
         "mode": "lines",
         "showlegend": false,
         "type": "scatter",
         "x": [
          "2016-07-01T00:00:00",
          "2016-08-01T00:00:00",
          "2016-09-01T00:00:00",
          "2016-10-01T00:00:00",
          "2016-11-01T00:00:00",
          "2016-12-01T00:00:00",
          "2017-01-01T00:00:00",
          "2017-02-01T00:00:00",
          "2017-03-01T00:00:00",
          "2017-04-01T00:00:00",
          "2017-05-01T00:00:00",
          "2017-06-01T00:00:00",
          "2017-07-01T00:00:00",
          "2017-08-01T00:00:00",
          "2017-09-01T00:00:00",
          "2017-10-01T00:00:00",
          "2017-11-01T00:00:00",
          "2017-12-01T00:00:00",
          "2018-01-01T00:00:00",
          "2018-02-01T00:00:00",
          "2018-03-01T00:00:00",
          "2018-04-01T00:00:00",
          "2018-05-01T00:00:00",
          "2018-06-01T00:00:00",
          "2018-07-01T00:00:00",
          "2018-08-01T00:00:00",
          "2018-09-01T00:00:00",
          "2018-10-01T00:00:00",
          "2018-11-01T00:00:00",
          "2018-12-01T00:00:00"
         ],
         "xaxis": "x3",
         "y": [
          0.7059315194835138,
          0.7059315194835138,
          0.7059315194835138,
          0.7059315194835138,
          0.7059315194835138,
          0.7059315194835138,
          0.7059315194835138,
          0.7059315194835138,
          0.7059315194835138,
          0.7059315194835138,
          0.7059315194835138,
          0.7059315194835138,
          0.7059315194835138,
          0.7059315194835138,
          0.7059315194835138,
          0.7059315194835138,
          0.7059315194835138,
          0.7059315194835138,
          0.7059315194835138,
          0.7059315194835138,
          0.7059315194835138,
          0.7059315194835138,
          0.7059315194835138,
          0.7059315194835138,
          0.7059315194835138,
          0.7059315194835138,
          0.7059315194835138,
          0.7059315194835138,
          0.7059315194835138,
          0.7059315194835138
         ],
         "yaxis": "y3"
        },
        {
         "hoverinfo": "skip",
         "line": {
          "color": "rgba(0,0,0,0.55)",
          "dash": "dot",
          "width": 1.2
         },
         "mode": "lines",
         "showlegend": false,
         "type": "scatter",
         "x": [
          "2016-07-01T00:00:00",
          "2016-08-01T00:00:00",
          "2016-09-01T00:00:00",
          "2016-10-01T00:00:00",
          "2016-11-01T00:00:00",
          "2016-12-01T00:00:00",
          "2017-01-01T00:00:00",
          "2017-02-01T00:00:00",
          "2017-03-01T00:00:00",
          "2017-04-01T00:00:00",
          "2017-05-01T00:00:00",
          "2017-06-01T00:00:00",
          "2017-07-01T00:00:00",
          "2017-08-01T00:00:00",
          "2017-09-01T00:00:00",
          "2017-10-01T00:00:00",
          "2017-11-01T00:00:00",
          "2017-12-01T00:00:00",
          "2018-01-01T00:00:00",
          "2018-02-01T00:00:00",
          "2018-03-01T00:00:00",
          "2018-04-01T00:00:00",
          "2018-05-01T00:00:00",
          "2018-06-01T00:00:00",
          "2018-07-01T00:00:00",
          "2018-08-01T00:00:00",
          "2018-09-01T00:00:00",
          "2018-10-01T00:00:00",
          "2018-11-01T00:00:00",
          "2018-12-01T00:00:00"
         ],
         "xaxis": "x3",
         "y": [
          0.8018503573899007,
          0.8018503573899007,
          0.8018503573899007,
          0.8018503573899007,
          0.8018503573899007,
          0.8018503573899007,
          0.8018503573899007,
          0.8018503573899007,
          0.8018503573899007,
          0.8018503573899007,
          0.8018503573899007,
          0.8018503573899007,
          0.8018503573899007,
          0.8018503573899007,
          0.8018503573899007,
          0.8018503573899007,
          0.8018503573899007,
          0.8018503573899007,
          0.8018503573899007,
          0.8018503573899007,
          0.8018503573899007,
          0.8018503573899007,
          0.8018503573899007,
          0.8018503573899007,
          0.8018503573899007,
          0.8018503573899007,
          0.8018503573899007,
          0.8018503573899007,
          0.8018503573899007,
          0.8018503573899007
         ],
         "yaxis": "y3"
        },
        {
         "hoverinfo": "skip",
         "line": {
          "color": "rgba(0,0,0,0.55)",
          "dash": "dot",
          "width": 1.2
         },
         "mode": "lines",
         "showlegend": false,
         "type": "scatter",
         "x": [
          "2016-07-01T00:00:00",
          "2016-08-01T00:00:00",
          "2016-09-01T00:00:00",
          "2016-10-01T00:00:00",
          "2016-11-01T00:00:00",
          "2016-12-01T00:00:00",
          "2017-01-01T00:00:00",
          "2017-02-01T00:00:00",
          "2017-03-01T00:00:00",
          "2017-04-01T00:00:00",
          "2017-05-01T00:00:00",
          "2017-06-01T00:00:00",
          "2017-07-01T00:00:00",
          "2017-08-01T00:00:00",
          "2017-09-01T00:00:00",
          "2017-10-01T00:00:00",
          "2017-11-01T00:00:00",
          "2017-12-01T00:00:00",
          "2018-01-01T00:00:00",
          "2018-02-01T00:00:00",
          "2018-03-01T00:00:00",
          "2018-04-01T00:00:00",
          "2018-05-01T00:00:00",
          "2018-06-01T00:00:00",
          "2018-07-01T00:00:00",
          "2018-08-01T00:00:00",
          "2018-09-01T00:00:00",
          "2018-10-01T00:00:00",
          "2018-11-01T00:00:00",
          "2018-12-01T00:00:00"
         ],
         "xaxis": "x3",
         "y": [
          0.9000172930597186,
          0.9000172930597186,
          0.9000172930597186,
          0.9000172930597186,
          0.9000172930597186,
          0.9000172930597186,
          0.9000172930597186,
          0.9000172930597186,
          0.9000172930597186,
          0.9000172930597186,
          0.9000172930597186,
          0.9000172930597186,
          0.9000172930597186,
          0.9000172930597186,
          0.9000172930597186,
          0.9000172930597186,
          0.9000172930597186,
          0.9000172930597186,
          0.9000172930597186,
          0.9000172930597186,
          0.9000172930597186,
          0.9000172930597186,
          0.9000172930597186,
          0.9000172930597186,
          0.9000172930597186,
          0.9000172930597186,
          0.9000172930597186,
          0.9000172930597186,
          0.9000172930597186,
          0.9000172930597186
         ],
         "yaxis": "y3"
        },
        {
         "groupnorm": "fraction",
         "line": {
          "color": "rgb(0,104,55)",
          "width": 0.8
         },
         "mode": "lines",
         "name": "Decile 1",
         "showlegend": false,
         "stackgroup": "group3",
         "type": "scatter",
         "x": [
          "2016-07-01T00:00:00",
          "2016-08-01T00:00:00",
          "2016-09-01T00:00:00",
          "2016-10-01T00:00:00",
          "2016-11-01T00:00:00",
          "2016-12-01T00:00:00",
          "2017-01-01T00:00:00",
          "2017-02-01T00:00:00",
          "2017-03-01T00:00:00",
          "2017-04-01T00:00:00",
          "2017-05-01T00:00:00",
          "2017-06-01T00:00:00",
          "2017-07-01T00:00:00",
          "2017-08-01T00:00:00",
          "2017-09-01T00:00:00",
          "2017-10-01T00:00:00",
          "2017-11-01T00:00:00",
          "2017-12-01T00:00:00",
          "2018-01-01T00:00:00",
          "2018-02-01T00:00:00",
          "2018-03-01T00:00:00",
          "2018-04-01T00:00:00",
          "2018-05-01T00:00:00",
          "2018-06-01T00:00:00",
          "2018-07-01T00:00:00",
          "2018-08-01T00:00:00",
          "2018-09-01T00:00:00",
          "2018-10-01T00:00:00",
          "2018-11-01T00:00:00",
          "2018-12-01T00:00:00"
         ],
         "xaxis": "x4",
         "y": {
          "bdata": "cQiB1q5Ouz9owt2QRK+7P3XJU0vJYb4/GT5RIJ16wD9PySCXAh+/P9Cee6AZx74/Jc0B0EcrwT/MBHg5KFbBPzrimaIVQcI/VGA6Z+zxwT8BKht3tZrBP7rv4vt7fsI/mxbIH3dswT/hyiCjHQzCP2MxslkkMcE/sFRtV4fOwj/BwA7OeMXDPz9Lvr9X/cM/JSG7TG3FxT9a4bG0wxPEP2ZvQ7mCLsQ/WN0YJRyzwz9+YeyYHV7DP4/s4Ya/ssM/A+3D0JE+wz/UIAcBk8nDPz2L1I9CycM/kHJctIOrwz+uNaZnpunCP/WuLEdincM/",
          "dtype": "f8"
         },
         "yaxis": "y4"
        },
        {
         "groupnorm": "fraction",
         "line": {
          "color": "rgb(26,152,80)",
          "width": 0.8
         },
         "mode": "lines",
         "name": "Decile 2",
         "showlegend": false,
         "stackgroup": "group3",
         "type": "scatter",
         "x": [
          "2016-07-01T00:00:00",
          "2016-08-01T00:00:00",
          "2016-09-01T00:00:00",
          "2016-10-01T00:00:00",
          "2016-11-01T00:00:00",
          "2016-12-01T00:00:00",
          "2017-01-01T00:00:00",
          "2017-02-01T00:00:00",
          "2017-03-01T00:00:00",
          "2017-04-01T00:00:00",
          "2017-05-01T00:00:00",
          "2017-06-01T00:00:00",
          "2017-07-01T00:00:00",
          "2017-08-01T00:00:00",
          "2017-09-01T00:00:00",
          "2017-10-01T00:00:00",
          "2017-11-01T00:00:00",
          "2017-12-01T00:00:00",
          "2018-01-01T00:00:00",
          "2018-02-01T00:00:00",
          "2018-03-01T00:00:00",
          "2018-04-01T00:00:00",
          "2018-05-01T00:00:00",
          "2018-06-01T00:00:00",
          "2018-07-01T00:00:00",
          "2018-08-01T00:00:00",
          "2018-09-01T00:00:00",
          "2018-10-01T00:00:00",
          "2018-11-01T00:00:00",
          "2018-12-01T00:00:00"
         ],
         "xaxis": "x4",
         "y": {
          "bdata": "eWa4jLBhuT8Q2j+S7525P3q61LqL8bo/1rYxDE3TvT+afnkQaVq8P+GvWbqtIbw/OyuAuw6cvT94PipLOeu8P8aj/IPQ170/5b1g/SzGvD8T+mt6ib28P4+wfC9hU70/sOa0QQx9vD+RDet8NAu9P1VoOQx8HLs/bvBD3Y2bvT+UN3YoTw+/P6NzGZkgSr8/sQEoCMEtwD9mImILkrW9PxP0Oa0nnb0/tDuyzM2ivT/CobdmD8a8P3XctdJKRr0/iNgcJ+fJvj8BrKUpGP++Px/n14+7n74/VLIHfKiyvj9Q75R2f5q/P8mLLnML2b4/",
          "dtype": "f8"
         },
         "yaxis": "y4"
        },
        {
         "groupnorm": "fraction",
         "line": {
          "color": "rgb(102,189,99)",
          "width": 0.8
         },
         "mode": "lines",
         "name": "Decile 3",
         "showlegend": false,
         "stackgroup": "group3",
         "type": "scatter",
         "x": [
          "2016-07-01T00:00:00",
          "2016-08-01T00:00:00",
          "2016-09-01T00:00:00",
          "2016-10-01T00:00:00",
          "2016-11-01T00:00:00",
          "2016-12-01T00:00:00",
          "2017-01-01T00:00:00",
          "2017-02-01T00:00:00",
          "2017-03-01T00:00:00",
          "2017-04-01T00:00:00",
          "2017-05-01T00:00:00",
          "2017-06-01T00:00:00",
          "2017-07-01T00:00:00",
          "2017-08-01T00:00:00",
          "2017-09-01T00:00:00",
          "2017-10-01T00:00:00",
          "2017-11-01T00:00:00",
          "2017-12-01T00:00:00",
          "2018-01-01T00:00:00",
          "2018-02-01T00:00:00",
          "2018-03-01T00:00:00",
          "2018-04-01T00:00:00",
          "2018-05-01T00:00:00",
          "2018-06-01T00:00:00",
          "2018-07-01T00:00:00",
          "2018-08-01T00:00:00",
          "2018-09-01T00:00:00",
          "2018-10-01T00:00:00",
          "2018-11-01T00:00:00",
          "2018-12-01T00:00:00"
         ],
         "xaxis": "x4",
         "y": {
          "bdata": "mTW0Q9UTwD9CP9utFQDBP1//CimgV8E/aRiZJpF5wj9GvaOWUQjCP0Dnfuh2h8E/CEWsbfHxwT/Smpt24jLCP9dVE1STLsI/6qAO6qAOwj/u5hIXUrHBP9/j3tG4scE/RWP50TXawT+FLU2BKh7CPxoPYT0IxcA/i3lQys8Dwj/7rgUd0BvCP9nrrHo6I8I/XCi7omBEwj8RA7s6OTHBP7VgjucxHsE/QxEWpJgVwT+YV/8qRg/BP/hLvB62WME/Fb1QpbATwj8sYIpu6HnCP8sQAF0wNsI/EYxVPGihwj9ehys+vVPCP8VUKwsVecI/",
          "dtype": "f8"
         },
         "yaxis": "y4"
        },
        {
         "groupnorm": "fraction",
         "line": {
          "color": "rgb(166,217,106)",
          "width": 0.8
         },
         "mode": "lines",
         "name": "Decile 4",
         "showlegend": false,
         "stackgroup": "group3",
         "type": "scatter",
         "x": [
          "2016-07-01T00:00:00",
          "2016-08-01T00:00:00",
          "2016-09-01T00:00:00",
          "2016-10-01T00:00:00",
          "2016-11-01T00:00:00",
          "2016-12-01T00:00:00",
          "2017-01-01T00:00:00",
          "2017-02-01T00:00:00",
          "2017-03-01T00:00:00",
          "2017-04-01T00:00:00",
          "2017-05-01T00:00:00",
          "2017-06-01T00:00:00",
          "2017-07-01T00:00:00",
          "2017-08-01T00:00:00",
          "2017-09-01T00:00:00",
          "2017-10-01T00:00:00",
          "2017-11-01T00:00:00",
          "2017-12-01T00:00:00",
          "2018-01-01T00:00:00",
          "2018-02-01T00:00:00",
          "2018-03-01T00:00:00",
          "2018-04-01T00:00:00",
          "2018-05-01T00:00:00",
          "2018-06-01T00:00:00",
          "2018-07-01T00:00:00",
          "2018-08-01T00:00:00",
          "2018-09-01T00:00:00",
          "2018-10-01T00:00:00",
          "2018-11-01T00:00:00",
          "2018-12-01T00:00:00"
         ],
         "xaxis": "x4",
         "y": {
          "bdata": "9PKsbn3jsj+4gPCYbjqyP/hCos78kLM/1Jbc5oVZtD8lC4HugeqzPzgHBgJTQrM/piGkj7FgtD+Mvlm8J1uzP8Mg+c4HHbQ/5f73RbuNsz/E4fY4YEGzP6YHAp509rM/GjyP7Eypsz97kzTMns6zPyCFXB1HibI/gwCtE2NVsz+4XSXPg6azP/vW1tlQ2bI/du/NCejIsj81cQbNmjmzP1Zey5CNwLI/LRZusmlSsj+mXyJ+c5SyP4VrzsL+ELM/s3nzA2l7sz9HMTeaz1KzP15G2wgLgbM/Ec14pq/Wsz9CqLzNPC+0PxRgIldUkrQ/",
          "dtype": "f8"
         },
         "yaxis": "y4"
        },
        {
         "groupnorm": "fraction",
         "line": {
          "color": "rgb(217,239,139)",
          "width": 0.8
         },
         "mode": "lines",
         "name": "Decile 5",
         "showlegend": false,
         "stackgroup": "group3",
         "type": "scatter",
         "x": [
          "2016-07-01T00:00:00",
          "2016-08-01T00:00:00",
          "2016-09-01T00:00:00",
          "2016-10-01T00:00:00",
          "2016-11-01T00:00:00",
          "2016-12-01T00:00:00",
          "2017-01-01T00:00:00",
          "2017-02-01T00:00:00",
          "2017-03-01T00:00:00",
          "2017-04-01T00:00:00",
          "2017-05-01T00:00:00",
          "2017-06-01T00:00:00",
          "2017-07-01T00:00:00",
          "2017-08-01T00:00:00",
          "2017-09-01T00:00:00",
          "2017-10-01T00:00:00",
          "2017-11-01T00:00:00",
          "2017-12-01T00:00:00",
          "2018-01-01T00:00:00",
          "2018-02-01T00:00:00",
          "2018-03-01T00:00:00",
          "2018-04-01T00:00:00",
          "2018-05-01T00:00:00",
          "2018-06-01T00:00:00",
          "2018-07-01T00:00:00",
          "2018-08-01T00:00:00",
          "2018-09-01T00:00:00",
          "2018-10-01T00:00:00",
          "2018-11-01T00:00:00",
          "2018-12-01T00:00:00"
         ],
         "xaxis": "x4",
         "y": {
          "bdata": "FpDnfVsSuT9ftyC9pIS5P/Zyfn2kc7k/UTqdy2WzuT/K338vmb25P5kiWS/KkLg/AXyq+OftuD87IoDJdUu5P4W8cxxGgbk/eztvpjaMuD+8ETHj9/K4P/IZtANf+Lg/8Zxm4nj5uD8A3+8IP5i5P4Sep11lN7g/X28L1lrIuD8O2gjirqm4P+edTOrNl7c/0U3cXa2xtz9I1cZ5iTK4P2/1v9A7r7c/U5es4p7Qtz8/h8MeB5i3P2wrXFgSYLc/1pAJaue1uD/5oA//HCG4P2WGa2uj77g/y5ofbRZGuT+hdGuN6Zm5P7myNo3Op7k/",
          "dtype": "f8"
         },
         "yaxis": "y4"
        },
        {
         "groupnorm": "fraction",
         "line": {
          "color": "rgb(254,224,139)",
          "width": 0.8
         },
         "mode": "lines",
         "name": "Decile 6",
         "showlegend": false,
         "stackgroup": "group3",
         "type": "scatter",
         "x": [
          "2016-07-01T00:00:00",
          "2016-08-01T00:00:00",
          "2016-09-01T00:00:00",
          "2016-10-01T00:00:00",
          "2016-11-01T00:00:00",
          "2016-12-01T00:00:00",
          "2017-01-01T00:00:00",
          "2017-02-01T00:00:00",
          "2017-03-01T00:00:00",
          "2017-04-01T00:00:00",
          "2017-05-01T00:00:00",
          "2017-06-01T00:00:00",
          "2017-07-01T00:00:00",
          "2017-08-01T00:00:00",
          "2017-09-01T00:00:00",
          "2017-10-01T00:00:00",
          "2017-11-01T00:00:00",
          "2017-12-01T00:00:00",
          "2018-01-01T00:00:00",
          "2018-02-01T00:00:00",
          "2018-03-01T00:00:00",
          "2018-04-01T00:00:00",
          "2018-05-01T00:00:00",
          "2018-06-01T00:00:00",
          "2018-07-01T00:00:00",
          "2018-08-01T00:00:00",
          "2018-09-01T00:00:00",
          "2018-10-01T00:00:00",
          "2018-11-01T00:00:00",
          "2018-12-01T00:00:00"
         ],
         "xaxis": "x4",
         "y": {
          "bdata": "NKGlqgWguT/8NHfl25q6P/Zyfn2kc7k/gFqVG2d7uT85QhrOpF66P6h36HyPLLk/bhJeI62fuD+lMkzJ64+5Py1n7BrBArg/lv88OiZVuT9UwZvWCbS5P1OQ4JI81Lg/PAQkmweZuD8TriaZXxK5P5Ac/V+cZbg/uWM90U1tuD+XJxMo3/23PwwK4UmSsbc/S0CcHKVDtj+p2jgvUQa3P6lU7rtmo7c/UpBuwvg5uD8MnAxLmKe3P6jAQ5npwbc/lOi5Wobltz8p63JEYOW3P2VmnBBiorg/B9DOzxTFtz++GpIZht64P2GQnq7dM7k/",
          "dtype": "f8"
         },
         "yaxis": "y4"
        },
        {
         "groupnorm": "fraction",
         "line": {
          "color": "rgb(253,174,97)",
          "width": 0.8
         },
         "mode": "lines",
         "name": "Decile 7",
         "showlegend": false,
         "stackgroup": "group3",
         "type": "scatter",
         "x": [
          "2016-07-01T00:00:00",
          "2016-08-01T00:00:00",
          "2016-09-01T00:00:00",
          "2016-10-01T00:00:00",
          "2016-11-01T00:00:00",
          "2016-12-01T00:00:00",
          "2017-01-01T00:00:00",
          "2017-02-01T00:00:00",
          "2017-03-01T00:00:00",
          "2017-04-01T00:00:00",
          "2017-05-01T00:00:00",
          "2017-06-01T00:00:00",
          "2017-07-01T00:00:00",
          "2017-08-01T00:00:00",
          "2017-09-01T00:00:00",
          "2017-10-01T00:00:00",
          "2017-11-01T00:00:00",
          "2017-12-01T00:00:00",
          "2018-01-01T00:00:00",
          "2018-02-01T00:00:00",
          "2018-03-01T00:00:00",
          "2018-04-01T00:00:00",
          "2018-05-01T00:00:00",
          "2018-06-01T00:00:00",
          "2018-07-01T00:00:00",
          "2018-08-01T00:00:00",
          "2018-09-01T00:00:00",
          "2018-10-01T00:00:00",
          "2018-11-01T00:00:00",
          "2018-12-01T00:00:00"
         ],
         "xaxis": "x4",
         "y": {
          "bdata": "str3KcmwvT98IxOCAOa8P0BRpJBNX70/vyjgo1qPuz8UgpTBdke8Pxc3YX5Xi7s/F3/qvFYLuz8cb19D1o27PzcJ/31fcrs/u8r974t2uz/sBy+9Euu7P8mmXhIVN7s/kMmoxgtfuz+dArNe+1O7P6bLS7IxOrs/RQjMj1MXuz+x7fyW5eO5P7rLobArp7k/TAncrKX7uD81GIGwArm6Pztee+xDq7o/dCJNcWGKuj9ypTiFmSG6P1qqdfCgJLo/mfeZWuH5uT9m4g+5X2+6P4jBrk9x3Lk/S4Em5TFQuj/L28zzQi66P6cJK2FzeLk/",
          "dtype": "f8"
         },
         "yaxis": "y4"
        },
        {
         "groupnorm": "fraction",
         "line": {
          "color": "rgb(244,109,67)",
          "width": 0.8
         },
         "mode": "lines",
         "name": "Decile 8",
         "showlegend": false,
         "stackgroup": "group3",
         "type": "scatter",
         "x": [
          "2016-07-01T00:00:00",
          "2016-08-01T00:00:00",
          "2016-09-01T00:00:00",
          "2016-10-01T00:00:00",
          "2016-11-01T00:00:00",
          "2016-12-01T00:00:00",
          "2017-01-01T00:00:00",
          "2017-02-01T00:00:00",
          "2017-03-01T00:00:00",
          "2017-04-01T00:00:00",
          "2017-05-01T00:00:00",
          "2017-06-01T00:00:00",
          "2017-07-01T00:00:00",
          "2017-08-01T00:00:00",
          "2017-09-01T00:00:00",
          "2017-10-01T00:00:00",
          "2017-11-01T00:00:00",
          "2017-12-01T00:00:00",
          "2018-01-01T00:00:00",
          "2018-02-01T00:00:00",
          "2018-03-01T00:00:00",
          "2018-04-01T00:00:00",
          "2018-05-01T00:00:00",
          "2018-06-01T00:00:00",
          "2018-07-01T00:00:00",
          "2018-08-01T00:00:00",
          "2018-09-01T00:00:00",
          "2018-10-01T00:00:00",
          "2018-11-01T00:00:00",
          "2018-12-01T00:00:00"
         ],
         "xaxis": "x4",
         "y": {
          "bdata": "hssIG5Yhtz+4+Mkhv6G2P0UXHizSMbU/e37raoPDtD9X3v1vbvW1P+8PzlrN8LU/fQm6tXEqtT9yMe66YTq1Pz2cux2F1rM/GO02DifbtD+cHQti11q1P3iJBLsw4rQ/9uqqnsQdtT/TjDE/jWm0P9xhhzG7N7Y/YH6cutj2tD/9IIyOirezP/ctUk/V1bM/OggYjs0Asz9GdXGyt9OzP9OV7/HlbbQ/HKzVKtYxtD9eNBPWH220P8wJIyxIZLQ/NyNXagqpsz9Tg8fCphWzP/rUKOguv7M/INxZZ7lHsz/jloqMoK2zPxu8g0SPdLM/",
          "dtype": "f8"
         },
         "yaxis": "y4"
        },
        {
         "groupnorm": "fraction",
         "line": {
          "color": "rgb(215,48,39)",
          "width": 0.8
         },
         "mode": "lines",
         "name": "Decile 9",
         "showlegend": false,
         "stackgroup": "group3",
         "type": "scatter",
         "x": [
          "2016-07-01T00:00:00",
          "2016-08-01T00:00:00",
          "2016-09-01T00:00:00",
          "2016-10-01T00:00:00",
          "2016-11-01T00:00:00",
          "2016-12-01T00:00:00",
          "2017-01-01T00:00:00",
          "2017-02-01T00:00:00",
          "2017-03-01T00:00:00",
          "2017-04-01T00:00:00",
          "2017-05-01T00:00:00",
          "2017-06-01T00:00:00",
          "2017-07-01T00:00:00",
          "2017-08-01T00:00:00",
          "2017-09-01T00:00:00",
          "2017-10-01T00:00:00",
          "2017-11-01T00:00:00",
          "2017-12-01T00:00:00",
          "2018-01-01T00:00:00",
          "2018-02-01T00:00:00",
          "2018-03-01T00:00:00",
          "2018-04-01T00:00:00",
          "2018-05-01T00:00:00",
          "2018-06-01T00:00:00",
          "2018-07-01T00:00:00",
          "2018-08-01T00:00:00",
          "2018-09-01T00:00:00",
          "2018-10-01T00:00:00",
          "2018-11-01T00:00:00",
          "2018-12-01T00:00:00"
         ],
         "xaxis": "x4",
         "y": {
          "bdata": "Zh7NPXmatz9zYxH43Jy3P7jCvjso17U/VzCcopCPsj+/HPajFRa0P/tVzMi2obQ/gETxY+KUsz8VAOeGC/6zPzhAHUQGTbM/skmWgWvLsj9aUDElCXmzP2XAUF5QXbM/D+PHYjhbtD9FlM7K7NSyP7mTQDBqabU/e+XbAOCnsj9lt0nYeaKyP47DT6cWsLI/3071AkbOsT/Hz/5OpXGzP73sxiv+VrM/5Z/VQq6asz+wZUECSMa0P13YDQqp8rM/J33I0ITysj9rKHllyPeyP1ymz0LE/rE/MDYCRGtisj+Cts7GNeexP6ajNfsihLE/",
          "dtype": "f8"
         },
         "yaxis": "y4"
        },
        {
         "groupnorm": "fraction",
         "line": {
          "color": "rgb(165,0,38)",
          "width": 0.8
         },
         "mode": "lines",
         "name": "Decile 10",
         "showlegend": false,
         "stackgroup": "group3",
         "type": "scatter",
         "x": [
          "2016-07-01T00:00:00",
          "2016-08-01T00:00:00",
          "2016-09-01T00:00:00",
          "2016-10-01T00:00:00",
          "2016-11-01T00:00:00",
          "2016-12-01T00:00:00",
          "2017-01-01T00:00:00",
          "2017-02-01T00:00:00",
          "2017-03-01T00:00:00",
          "2017-04-01T00:00:00",
          "2017-05-01T00:00:00",
          "2017-06-01T00:00:00",
          "2017-07-01T00:00:00",
          "2017-08-01T00:00:00",
          "2017-09-01T00:00:00",
          "2017-10-01T00:00:00",
          "2017-11-01T00:00:00",
          "2017-12-01T00:00:00",
          "2018-01-01T00:00:00",
          "2018-02-01T00:00:00",
          "2018-03-01T00:00:00",
          "2018-04-01T00:00:00",
          "2018-05-01T00:00:00",
          "2018-06-01T00:00:00",
          "2018-07-01T00:00:00",
          "2018-08-01T00:00:00",
          "2018-09-01T00:00:00",
          "2018-10-01T00:00:00",
          "2018-11-01T00:00:00",
          "2018-12-01T00:00:00"
         ],
         "xaxis": "x4",
         "y": {
          "bdata": "CT1W+z4luT9L+LSpFDS3PzMpoeXcHLU/8JiC5pTZsT84k3ppNhyyP1Wk6YPC6rY/QjPhRo1wsj8+zlOA5AWxP/nBd6jjEbE/JASeuYGssj9auQgyEgOyP64FtdSOErE/trCSqMPhsj9gvTpjiJSxP0MVi9aK9bY/YTMG2at+sT+Dw0wqI6KwP/7hxzzyJLI/pYuTTu4HsT9clsztnk+zP37idukWRrM/0jpuauEXtD+iKfHLFDa1P2LO+AY99LM/NUhJjkzlsT9wBi041aOwP8lw9Jbps7A/2AlVXZyurz+Oa84D5/+uP1/Aimi/Na4/",
          "dtype": "f8"
         },
         "yaxis": "y4"
        },
        {
         "hoverinfo": "skip",
         "line": {
          "color": "rgba(0,0,0,0.85)",
          "dash": "solid",
          "width": 2
         },
         "mode": "lines",
         "showlegend": false,
         "type": "scatter",
         "x": [
          "2016-07-01T00:00:00",
          "2016-08-01T00:00:00",
          "2016-09-01T00:00:00",
          "2016-10-01T00:00:00",
          "2016-11-01T00:00:00",
          "2016-12-01T00:00:00",
          "2017-01-01T00:00:00",
          "2017-02-01T00:00:00",
          "2017-03-01T00:00:00",
          "2017-04-01T00:00:00",
          "2017-05-01T00:00:00",
          "2017-06-01T00:00:00",
          "2017-07-01T00:00:00",
          "2017-08-01T00:00:00",
          "2017-09-01T00:00:00",
          "2017-10-01T00:00:00",
          "2017-11-01T00:00:00",
          "2017-12-01T00:00:00",
          "2018-01-01T00:00:00",
          "2018-02-01T00:00:00",
          "2018-03-01T00:00:00",
          "2018-04-01T00:00:00",
          "2018-05-01T00:00:00",
          "2018-06-01T00:00:00",
          "2018-07-01T00:00:00",
          "2018-08-01T00:00:00",
          "2018-09-01T00:00:00",
          "2018-10-01T00:00:00",
          "2018-11-01T00:00:00",
          "2018-12-01T00:00:00"
         ],
         "xaxis": "x4",
         "y": [
          0.10666935669817847,
          0.10666935669817847,
          0.10666935669817847,
          0.10666935669817847,
          0.10666935669817847,
          0.10666935669817847,
          0.10666935669817847,
          0.10666935669817847,
          0.10666935669817847,
          0.10666935669817847,
          0.10666935669817847,
          0.10666935669817847,
          0.10666935669817847,
          0.10666935669817847,
          0.10666935669817847,
          0.10666935669817847,
          0.10666935669817847,
          0.10666935669817847,
          0.10666935669817847,
          0.10666935669817847,
          0.10666935669817847,
          0.10666935669817847,
          0.10666935669817847,
          0.10666935669817847,
          0.10666935669817847,
          0.10666935669817847,
          0.10666935669817847,
          0.10666935669817847,
          0.10666935669817847,
          0.10666935669817847
         ],
         "yaxis": "y4"
        },
        {
         "hoverinfo": "skip",
         "line": {
          "color": "rgba(0,0,0,0.55)",
          "dash": "dot",
          "width": 1.2
         },
         "mode": "lines",
         "showlegend": false,
         "type": "scatter",
         "x": [
          "2016-07-01T00:00:00",
          "2016-08-01T00:00:00",
          "2016-09-01T00:00:00",
          "2016-10-01T00:00:00",
          "2016-11-01T00:00:00",
          "2016-12-01T00:00:00",
          "2017-01-01T00:00:00",
          "2017-02-01T00:00:00",
          "2017-03-01T00:00:00",
          "2017-04-01T00:00:00",
          "2017-05-01T00:00:00",
          "2017-06-01T00:00:00",
          "2017-07-01T00:00:00",
          "2017-08-01T00:00:00",
          "2017-09-01T00:00:00",
          "2017-10-01T00:00:00",
          "2017-11-01T00:00:00",
          "2017-12-01T00:00:00",
          "2018-01-01T00:00:00",
          "2018-02-01T00:00:00",
          "2018-03-01T00:00:00",
          "2018-04-01T00:00:00",
          "2018-05-01T00:00:00",
          "2018-06-01T00:00:00",
          "2018-07-01T00:00:00",
          "2018-08-01T00:00:00",
          "2018-09-01T00:00:00",
          "2018-10-01T00:00:00",
          "2018-11-01T00:00:00",
          "2018-12-01T00:00:00"
         ],
         "xaxis": "x4",
         "y": [
          0.20581623241872263,
          0.20581623241872263,
          0.20581623241872263,
          0.20581623241872263,
          0.20581623241872263,
          0.20581623241872263,
          0.20581623241872263,
          0.20581623241872263,
          0.20581623241872263,
          0.20581623241872263,
          0.20581623241872263,
          0.20581623241872263,
          0.20581623241872263,
          0.20581623241872263,
          0.20581623241872263,
          0.20581623241872263,
          0.20581623241872263,
          0.20581623241872263,
          0.20581623241872263,
          0.20581623241872263,
          0.20581623241872263,
          0.20581623241872263,
          0.20581623241872263,
          0.20581623241872263,
          0.20581623241872263,
          0.20581623241872263,
          0.20581623241872263,
          0.20581623241872263,
          0.20581623241872263,
          0.20581623241872263
         ],
         "yaxis": "y4"
        },
        {
         "hoverinfo": "skip",
         "line": {
          "color": "rgba(0,0,0,0.55)",
          "dash": "dot",
          "width": 1.2
         },
         "mode": "lines",
         "showlegend": false,
         "type": "scatter",
         "x": [
          "2016-07-01T00:00:00",
          "2016-08-01T00:00:00",
          "2016-09-01T00:00:00",
          "2016-10-01T00:00:00",
          "2016-11-01T00:00:00",
          "2016-12-01T00:00:00",
          "2017-01-01T00:00:00",
          "2017-02-01T00:00:00",
          "2017-03-01T00:00:00",
          "2017-04-01T00:00:00",
          "2017-05-01T00:00:00",
          "2017-06-01T00:00:00",
          "2017-07-01T00:00:00",
          "2017-08-01T00:00:00",
          "2017-09-01T00:00:00",
          "2017-10-01T00:00:00",
          "2017-11-01T00:00:00",
          "2017-12-01T00:00:00",
          "2018-01-01T00:00:00",
          "2018-02-01T00:00:00",
          "2018-03-01T00:00:00",
          "2018-04-01T00:00:00",
          "2018-05-01T00:00:00",
          "2018-06-01T00:00:00",
          "2018-07-01T00:00:00",
          "2018-08-01T00:00:00",
          "2018-09-01T00:00:00",
          "2018-10-01T00:00:00",
          "2018-11-01T00:00:00",
          "2018-12-01T00:00:00"
         ],
         "xaxis": "x4",
         "y": [
          0.3314214895088771,
          0.3314214895088771,
          0.3314214895088771,
          0.3314214895088771,
          0.3314214895088771,
          0.3314214895088771,
          0.3314214895088771,
          0.3314214895088771,
          0.3314214895088771,
          0.3314214895088771,
          0.3314214895088771,
          0.3314214895088771,
          0.3314214895088771,
          0.3314214895088771,
          0.3314214895088771,
          0.3314214895088771,
          0.3314214895088771,
          0.3314214895088771,
          0.3314214895088771,
          0.3314214895088771,
          0.3314214895088771,
          0.3314214895088771,
          0.3314214895088771,
          0.3314214895088771,
          0.3314214895088771,
          0.3314214895088771,
          0.3314214895088771,
          0.3314214895088771,
          0.3314214895088771,
          0.3314214895088771
         ],
         "yaxis": "y4"
        },
        {
         "hoverinfo": "skip",
         "line": {
          "color": "rgba(0,0,0,0.55)",
          "dash": "dot",
          "width": 1.2
         },
         "mode": "lines",
         "showlegend": false,
         "type": "scatter",
         "x": [
          "2016-07-01T00:00:00",
          "2016-08-01T00:00:00",
          "2016-09-01T00:00:00",
          "2016-10-01T00:00:00",
          "2016-11-01T00:00:00",
          "2016-12-01T00:00:00",
          "2017-01-01T00:00:00",
          "2017-02-01T00:00:00",
          "2017-03-01T00:00:00",
          "2017-04-01T00:00:00",
          "2017-05-01T00:00:00",
          "2017-06-01T00:00:00",
          "2017-07-01T00:00:00",
          "2017-08-01T00:00:00",
          "2017-09-01T00:00:00",
          "2017-10-01T00:00:00",
          "2017-11-01T00:00:00",
          "2017-12-01T00:00:00",
          "2018-01-01T00:00:00",
          "2018-02-01T00:00:00",
          "2018-03-01T00:00:00",
          "2018-04-01T00:00:00",
          "2018-05-01T00:00:00",
          "2018-06-01T00:00:00",
          "2018-07-01T00:00:00",
          "2018-08-01T00:00:00",
          "2018-09-01T00:00:00",
          "2018-10-01T00:00:00",
          "2018-11-01T00:00:00",
          "2018-12-01T00:00:00"
         ],
         "xaxis": "x4",
         "y": [
          0.4052052109753286,
          0.4052052109753286,
          0.4052052109753286,
          0.4052052109753286,
          0.4052052109753286,
          0.4052052109753286,
          0.4052052109753286,
          0.4052052109753286,
          0.4052052109753286,
          0.4052052109753286,
          0.4052052109753286,
          0.4052052109753286,
          0.4052052109753286,
          0.4052052109753286,
          0.4052052109753286,
          0.4052052109753286,
          0.4052052109753286,
          0.4052052109753286,
          0.4052052109753286,
          0.4052052109753286,
          0.4052052109753286,
          0.4052052109753286,
          0.4052052109753286,
          0.4052052109753286,
          0.4052052109753286,
          0.4052052109753286,
          0.4052052109753286,
          0.4052052109753286,
          0.4052052109753286,
          0.4052052109753286
         ],
         "yaxis": "y4"
        },
        {
         "hoverinfo": "skip",
         "line": {
          "color": "rgba(0,0,0,0.55)",
          "dash": "dot",
          "width": 1.2
         },
         "mode": "lines",
         "showlegend": false,
         "type": "scatter",
         "x": [
          "2016-07-01T00:00:00",
          "2016-08-01T00:00:00",
          "2016-09-01T00:00:00",
          "2016-10-01T00:00:00",
          "2016-11-01T00:00:00",
          "2016-12-01T00:00:00",
          "2017-01-01T00:00:00",
          "2017-02-01T00:00:00",
          "2017-03-01T00:00:00",
          "2017-04-01T00:00:00",
          "2017-05-01T00:00:00",
          "2017-06-01T00:00:00",
          "2017-07-01T00:00:00",
          "2017-08-01T00:00:00",
          "2017-09-01T00:00:00",
          "2017-10-01T00:00:00",
          "2017-11-01T00:00:00",
          "2017-12-01T00:00:00",
          "2018-01-01T00:00:00",
          "2018-02-01T00:00:00",
          "2018-03-01T00:00:00",
          "2018-04-01T00:00:00",
          "2018-05-01T00:00:00",
          "2018-06-01T00:00:00",
          "2018-07-01T00:00:00",
          "2018-08-01T00:00:00",
          "2018-09-01T00:00:00",
          "2018-10-01T00:00:00",
          "2018-11-01T00:00:00",
          "2018-12-01T00:00:00"
         ],
         "xaxis": "x4",
         "y": [
          0.5031415725155638,
          0.5031415725155638,
          0.5031415725155638,
          0.5031415725155638,
          0.5031415725155638,
          0.5031415725155638,
          0.5031415725155638,
          0.5031415725155638,
          0.5031415725155638,
          0.5031415725155638,
          0.5031415725155638,
          0.5031415725155638,
          0.5031415725155638,
          0.5031415725155638,
          0.5031415725155638,
          0.5031415725155638,
          0.5031415725155638,
          0.5031415725155638,
          0.5031415725155638,
          0.5031415725155638,
          0.5031415725155638,
          0.5031415725155638,
          0.5031415725155638,
          0.5031415725155638,
          0.5031415725155638,
          0.5031415725155638,
          0.5031415725155638,
          0.5031415725155638,
          0.5031415725155638,
          0.5031415725155638
         ],
         "yaxis": "y4"
        },
        {
         "hoverinfo": "skip",
         "line": {
          "color": "rgba(0,0,0,0.55)",
          "dash": "dot",
          "width": 1.2
         },
         "mode": "lines",
         "showlegend": false,
         "type": "scatter",
         "x": [
          "2016-07-01T00:00:00",
          "2016-08-01T00:00:00",
          "2016-09-01T00:00:00",
          "2016-10-01T00:00:00",
          "2016-11-01T00:00:00",
          "2016-12-01T00:00:00",
          "2017-01-01T00:00:00",
          "2017-02-01T00:00:00",
          "2017-03-01T00:00:00",
          "2017-04-01T00:00:00",
          "2017-05-01T00:00:00",
          "2017-06-01T00:00:00",
          "2017-07-01T00:00:00",
          "2017-08-01T00:00:00",
          "2017-09-01T00:00:00",
          "2017-10-01T00:00:00",
          "2017-11-01T00:00:00",
          "2017-12-01T00:00:00",
          "2018-01-01T00:00:00",
          "2018-02-01T00:00:00",
          "2018-03-01T00:00:00",
          "2018-04-01T00:00:00",
          "2018-05-01T00:00:00",
          "2018-06-01T00:00:00",
          "2018-07-01T00:00:00",
          "2018-08-01T00:00:00",
          "2018-09-01T00:00:00",
          "2018-10-01T00:00:00",
          "2018-11-01T00:00:00",
          "2018-12-01T00:00:00"
         ],
         "xaxis": "x4",
         "y": [
          0.6032395665206365,
          0.6032395665206365,
          0.6032395665206365,
          0.6032395665206365,
          0.6032395665206365,
          0.6032395665206365,
          0.6032395665206365,
          0.6032395665206365,
          0.6032395665206365,
          0.6032395665206365,
          0.6032395665206365,
          0.6032395665206365,
          0.6032395665206365,
          0.6032395665206365,
          0.6032395665206365,
          0.6032395665206365,
          0.6032395665206365,
          0.6032395665206365,
          0.6032395665206365,
          0.6032395665206365,
          0.6032395665206365,
          0.6032395665206365,
          0.6032395665206365,
          0.6032395665206365,
          0.6032395665206365,
          0.6032395665206365,
          0.6032395665206365,
          0.6032395665206365,
          0.6032395665206365,
          0.6032395665206365
         ],
         "yaxis": "y4"
        },
        {
         "hoverinfo": "skip",
         "line": {
          "color": "rgba(0,0,0,0.55)",
          "dash": "dot",
          "width": 1.2
         },
         "mode": "lines",
         "showlegend": false,
         "type": "scatter",
         "x": [
          "2016-07-01T00:00:00",
          "2016-08-01T00:00:00",
          "2016-09-01T00:00:00",
          "2016-10-01T00:00:00",
          "2016-11-01T00:00:00",
          "2016-12-01T00:00:00",
          "2017-01-01T00:00:00",
          "2017-02-01T00:00:00",
          "2017-03-01T00:00:00",
          "2017-04-01T00:00:00",
          "2017-05-01T00:00:00",
          "2017-06-01T00:00:00",
          "2017-07-01T00:00:00",
          "2017-08-01T00:00:00",
          "2017-09-01T00:00:00",
          "2017-10-01T00:00:00",
          "2017-11-01T00:00:00",
          "2017-12-01T00:00:00",
          "2018-01-01T00:00:00",
          "2018-02-01T00:00:00",
          "2018-03-01T00:00:00",
          "2018-04-01T00:00:00",
          "2018-05-01T00:00:00",
          "2018-06-01T00:00:00",
          "2018-07-01T00:00:00",
          "2018-08-01T00:00:00",
          "2018-09-01T00:00:00",
          "2018-10-01T00:00:00",
          "2018-11-01T00:00:00",
          "2018-12-01T00:00:00"
         ],
         "xaxis": "x4",
         "y": [
          0.7192183537007149,
          0.7192183537007149,
          0.7192183537007149,
          0.7192183537007149,
          0.7192183537007149,
          0.7192183537007149,
          0.7192183537007149,
          0.7192183537007149,
          0.7192183537007149,
          0.7192183537007149,
          0.7192183537007149,
          0.7192183537007149,
          0.7192183537007149,
          0.7192183537007149,
          0.7192183537007149,
          0.7192183537007149,
          0.7192183537007149,
          0.7192183537007149,
          0.7192183537007149,
          0.7192183537007149,
          0.7192183537007149,
          0.7192183537007149,
          0.7192183537007149,
          0.7192183537007149,
          0.7192183537007149,
          0.7192183537007149,
          0.7192183537007149,
          0.7192183537007149,
          0.7192183537007149,
          0.7192183537007149
         ],
         "yaxis": "y4"
        },
        {
         "hoverinfo": "skip",
         "line": {
          "color": "rgba(0,0,0,0.55)",
          "dash": "dot",
          "width": 1.2
         },
         "mode": "lines",
         "showlegend": false,
         "type": "scatter",
         "x": [
          "2016-07-01T00:00:00",
          "2016-08-01T00:00:00",
          "2016-09-01T00:00:00",
          "2016-10-01T00:00:00",
          "2016-11-01T00:00:00",
          "2016-12-01T00:00:00",
          "2017-01-01T00:00:00",
          "2017-02-01T00:00:00",
          "2017-03-01T00:00:00",
          "2017-04-01T00:00:00",
          "2017-05-01T00:00:00",
          "2017-06-01T00:00:00",
          "2017-07-01T00:00:00",
          "2017-08-01T00:00:00",
          "2017-09-01T00:00:00",
          "2017-10-01T00:00:00",
          "2017-11-01T00:00:00",
          "2017-12-01T00:00:00",
          "2018-01-01T00:00:00",
          "2018-02-01T00:00:00",
          "2018-03-01T00:00:00",
          "2018-04-01T00:00:00",
          "2018-05-01T00:00:00",
          "2018-06-01T00:00:00",
          "2018-07-01T00:00:00",
          "2018-08-01T00:00:00",
          "2018-09-01T00:00:00",
          "2018-10-01T00:00:00",
          "2018-11-01T00:00:00",
          "2018-12-01T00:00:00"
         ],
         "xaxis": "x4",
         "y": [
          0.8095745907309201,
          0.8095745907309201,
          0.8095745907309201,
          0.8095745907309201,
          0.8095745907309201,
          0.8095745907309201,
          0.8095745907309201,
          0.8095745907309201,
          0.8095745907309201,
          0.8095745907309201,
          0.8095745907309201,
          0.8095745907309201,
          0.8095745907309201,
          0.8095745907309201,
          0.8095745907309201,
          0.8095745907309201,
          0.8095745907309201,
          0.8095745907309201,
          0.8095745907309201,
          0.8095745907309201,
          0.8095745907309201,
          0.8095745907309201,
          0.8095745907309201,
          0.8095745907309201,
          0.8095745907309201,
          0.8095745907309201,
          0.8095745907309201,
          0.8095745907309201,
          0.8095745907309201,
          0.8095745907309201
         ],
         "yaxis": "y4"
        },
        {
         "hoverinfo": "skip",
         "line": {
          "color": "rgba(0,0,0,0.55)",
          "dash": "dot",
          "width": 1.2
         },
         "mode": "lines",
         "showlegend": false,
         "type": "scatter",
         "x": [
          "2016-07-01T00:00:00",
          "2016-08-01T00:00:00",
          "2016-09-01T00:00:00",
          "2016-10-01T00:00:00",
          "2016-11-01T00:00:00",
          "2016-12-01T00:00:00",
          "2017-01-01T00:00:00",
          "2017-02-01T00:00:00",
          "2017-03-01T00:00:00",
          "2017-04-01T00:00:00",
          "2017-05-01T00:00:00",
          "2017-06-01T00:00:00",
          "2017-07-01T00:00:00",
          "2017-08-01T00:00:00",
          "2017-09-01T00:00:00",
          "2017-10-01T00:00:00",
          "2017-11-01T00:00:00",
          "2017-12-01T00:00:00",
          "2018-01-01T00:00:00",
          "2018-02-01T00:00:00",
          "2018-03-01T00:00:00",
          "2018-04-01T00:00:00",
          "2018-05-01T00:00:00",
          "2018-06-01T00:00:00",
          "2018-07-01T00:00:00",
          "2018-08-01T00:00:00",
          "2018-09-01T00:00:00",
          "2018-10-01T00:00:00",
          "2018-11-01T00:00:00",
          "2018-12-01T00:00:00"
         ],
         "xaxis": "x4",
         "y": [
          0.9017754207977866,
          0.9017754207977866,
          0.9017754207977866,
          0.9017754207977866,
          0.9017754207977866,
          0.9017754207977866,
          0.9017754207977866,
          0.9017754207977866,
          0.9017754207977866,
          0.9017754207977866,
          0.9017754207977866,
          0.9017754207977866,
          0.9017754207977866,
          0.9017754207977866,
          0.9017754207977866,
          0.9017754207977866,
          0.9017754207977866,
          0.9017754207977866,
          0.9017754207977866,
          0.9017754207977866,
          0.9017754207977866,
          0.9017754207977866,
          0.9017754207977866,
          0.9017754207977866,
          0.9017754207977866,
          0.9017754207977866,
          0.9017754207977866,
          0.9017754207977866,
          0.9017754207977866,
          0.9017754207977866
         ],
         "yaxis": "y4"
        }
       ],
       "layout": {
        "annotations": [
         {
          "font": {
           "color": "#1560bd",
           "size": 16
          },
          "showarrow": false,
          "text": "Baseline",
          "x": 0.23,
          "xanchor": "center",
          "xref": "paper",
          "y": 1,
          "yanchor": "bottom",
          "yref": "paper"
         },
         {
          "font": {
           "color": "#75caed",
           "size": 16
          },
          "showarrow": false,
          "text": "Weighted",
          "x": 0.77,
          "xanchor": "center",
          "xref": "paper",
          "y": 1,
          "yanchor": "bottom",
          "yref": "paper"
         },
         {
          "font": {
           "color": "#8B7EC8",
           "size": 16
          },
          "showarrow": false,
          "text": "Undersampled",
          "x": 0.23,
          "xanchor": "center",
          "xref": "paper",
          "y": 0.44,
          "yanchor": "bottom",
          "yref": "paper"
         },
         {
          "font": {
           "color": "#d62728",
           "size": 16
          },
          "showarrow": false,
          "text": "XGBoost",
          "x": 0.77,
          "xanchor": "center",
          "xref": "paper",
          "y": 0.44,
          "yanchor": "bottom",
          "yref": "paper"
         }
        ],
        "height": 800,
        "paper_bgcolor": "white",
        "plot_bgcolor": "white",
        "template": {
         "data": {
          "bar": [
           {
            "error_x": {
             "color": "#2a3f5f"
            },
            "error_y": {
             "color": "#2a3f5f"
            },
            "marker": {
             "line": {
              "color": "white",
              "width": 0.5
             },
             "pattern": {
              "fillmode": "overlay",
              "size": 10,
              "solidity": 0.2
             }
            },
            "type": "bar"
           }
          ],
          "barpolar": [
           {
            "marker": {
             "line": {
              "color": "white",
              "width": 0.5
             },
             "pattern": {
              "fillmode": "overlay",
              "size": 10,
              "solidity": 0.2
             }
            },
            "type": "barpolar"
           }
          ],
          "carpet": [
           {
            "aaxis": {
             "endlinecolor": "#2a3f5f",
             "gridcolor": "#C8D4E3",
             "linecolor": "#C8D4E3",
             "minorgridcolor": "#C8D4E3",
             "startlinecolor": "#2a3f5f"
            },
            "baxis": {
             "endlinecolor": "#2a3f5f",
             "gridcolor": "#C8D4E3",
             "linecolor": "#C8D4E3",
             "minorgridcolor": "#C8D4E3",
             "startlinecolor": "#2a3f5f"
            },
            "type": "carpet"
           }
          ],
          "choropleth": [
           {
            "colorbar": {
             "outlinewidth": 0,
             "ticks": ""
            },
            "type": "choropleth"
           }
          ],
          "contour": [
           {
            "colorbar": {
             "outlinewidth": 0,
             "ticks": ""
            },
            "colorscale": [
             [
              0,
              "#0d0887"
             ],
             [
              0.1111111111111111,
              "#46039f"
             ],
             [
              0.2222222222222222,
              "#7201a8"
             ],
             [
              0.3333333333333333,
              "#9c179e"
             ],
             [
              0.4444444444444444,
              "#bd3786"
             ],
             [
              0.5555555555555556,
              "#d8576b"
             ],
             [
              0.6666666666666666,
              "#ed7953"
             ],
             [
              0.7777777777777778,
              "#fb9f3a"
             ],
             [
              0.8888888888888888,
              "#fdca26"
             ],
             [
              1,
              "#f0f921"
             ]
            ],
            "type": "contour"
           }
          ],
          "contourcarpet": [
           {
            "colorbar": {
             "outlinewidth": 0,
             "ticks": ""
            },
            "type": "contourcarpet"
           }
          ],
          "heatmap": [
           {
            "colorbar": {
             "outlinewidth": 0,
             "ticks": ""
            },
            "colorscale": [
             [
              0,
              "#0d0887"
             ],
             [
              0.1111111111111111,
              "#46039f"
             ],
             [
              0.2222222222222222,
              "#7201a8"
             ],
             [
              0.3333333333333333,
              "#9c179e"
             ],
             [
              0.4444444444444444,
              "#bd3786"
             ],
             [
              0.5555555555555556,
              "#d8576b"
             ],
             [
              0.6666666666666666,
              "#ed7953"
             ],
             [
              0.7777777777777778,
              "#fb9f3a"
             ],
             [
              0.8888888888888888,
              "#fdca26"
             ],
             [
              1,
              "#f0f921"
             ]
            ],
            "type": "heatmap"
           }
          ],
          "histogram": [
           {
            "marker": {
             "pattern": {
              "fillmode": "overlay",
              "size": 10,
              "solidity": 0.2
             }
            },
            "type": "histogram"
           }
          ],
          "histogram2d": [
           {
            "colorbar": {
             "outlinewidth": 0,
             "ticks": ""
            },
            "colorscale": [
             [
              0,
              "#0d0887"
             ],
             [
              0.1111111111111111,
              "#46039f"
             ],
             [
              0.2222222222222222,
              "#7201a8"
             ],
             [
              0.3333333333333333,
              "#9c179e"
             ],
             [
              0.4444444444444444,
              "#bd3786"
             ],
             [
              0.5555555555555556,
              "#d8576b"
             ],
             [
              0.6666666666666666,
              "#ed7953"
             ],
             [
              0.7777777777777778,
              "#fb9f3a"
             ],
             [
              0.8888888888888888,
              "#fdca26"
             ],
             [
              1,
              "#f0f921"
             ]
            ],
            "type": "histogram2d"
           }
          ],
          "histogram2dcontour": [
           {
            "colorbar": {
             "outlinewidth": 0,
             "ticks": ""
            },
            "colorscale": [
             [
              0,
              "#0d0887"
             ],
             [
              0.1111111111111111,
              "#46039f"
             ],
             [
              0.2222222222222222,
              "#7201a8"
             ],
             [
              0.3333333333333333,
              "#9c179e"
             ],
             [
              0.4444444444444444,
              "#bd3786"
             ],
             [
              0.5555555555555556,
              "#d8576b"
             ],
             [
              0.6666666666666666,
              "#ed7953"
             ],
             [
              0.7777777777777778,
              "#fb9f3a"
             ],
             [
              0.8888888888888888,
              "#fdca26"
             ],
             [
              1,
              "#f0f921"
             ]
            ],
            "type": "histogram2dcontour"
           }
          ],
          "mesh3d": [
           {
            "colorbar": {
             "outlinewidth": 0,
             "ticks": ""
            },
            "type": "mesh3d"
           }
          ],
          "parcoords": [
           {
            "line": {
             "colorbar": {
              "outlinewidth": 0,
              "ticks": ""
             }
            },
            "type": "parcoords"
           }
          ],
          "pie": [
           {
            "automargin": true,
            "type": "pie"
           }
          ],
          "scatter": [
           {
            "fillpattern": {
             "fillmode": "overlay",
             "size": 10,
             "solidity": 0.2
            },
            "type": "scatter"
           }
          ],
          "scatter3d": [
           {
            "line": {
             "colorbar": {
              "outlinewidth": 0,
              "ticks": ""
             }
            },
            "marker": {
             "colorbar": {
              "outlinewidth": 0,
              "ticks": ""
             }
            },
            "type": "scatter3d"
           }
          ],
          "scattercarpet": [
           {
            "marker": {
             "colorbar": {
              "outlinewidth": 0,
              "ticks": ""
             }
            },
            "type": "scattercarpet"
           }
          ],
          "scattergeo": [
           {
            "marker": {
             "colorbar": {
              "outlinewidth": 0,
              "ticks": ""
             }
            },
            "type": "scattergeo"
           }
          ],
          "scattergl": [
           {
            "marker": {
             "colorbar": {
              "outlinewidth": 0,
              "ticks": ""
             }
            },
            "type": "scattergl"
           }
          ],
          "scattermap": [
           {
            "marker": {
             "colorbar": {
              "outlinewidth": 0,
              "ticks": ""
             }
            },
            "type": "scattermap"
           }
          ],
          "scattermapbox": [
           {
            "marker": {
             "colorbar": {
              "outlinewidth": 0,
              "ticks": ""
             }
            },
            "type": "scattermapbox"
           }
          ],
          "scatterpolar": [
           {
            "marker": {
             "colorbar": {
              "outlinewidth": 0,
              "ticks": ""
             }
            },
            "type": "scatterpolar"
           }
          ],
          "scatterpolargl": [
           {
            "marker": {
             "colorbar": {
              "outlinewidth": 0,
              "ticks": ""
             }
            },
            "type": "scatterpolargl"
           }
          ],
          "scatterternary": [
           {
            "marker": {
             "colorbar": {
              "outlinewidth": 0,
              "ticks": ""
             }
            },
            "type": "scatterternary"
           }
          ],
          "surface": [
           {
            "colorbar": {
             "outlinewidth": 0,
             "ticks": ""
            },
            "colorscale": [
             [
              0,
              "#0d0887"
             ],
             [
              0.1111111111111111,
              "#46039f"
             ],
             [
              0.2222222222222222,
              "#7201a8"
             ],
             [
              0.3333333333333333,
              "#9c179e"
             ],
             [
              0.4444444444444444,
              "#bd3786"
             ],
             [
              0.5555555555555556,
              "#d8576b"
             ],
             [
              0.6666666666666666,
              "#ed7953"
             ],
             [
              0.7777777777777778,
              "#fb9f3a"
             ],
             [
              0.8888888888888888,
              "#fdca26"
             ],
             [
              1,
              "#f0f921"
             ]
            ],
            "type": "surface"
           }
          ],
          "table": [
           {
            "cells": {
             "fill": {
              "color": "#EBF0F8"
             },
             "line": {
              "color": "white"
             }
            },
            "header": {
             "fill": {
              "color": "#C8D4E3"
             },
             "line": {
              "color": "white"
             }
            },
            "type": "table"
           }
          ]
         },
         "layout": {
          "annotationdefaults": {
           "arrowcolor": "#2a3f5f",
           "arrowhead": 0,
           "arrowwidth": 1
          },
          "autotypenumbers": "strict",
          "coloraxis": {
           "colorbar": {
            "outlinewidth": 0,
            "ticks": ""
           }
          },
          "colorscale": {
           "diverging": [
            [
             0,
             "#8e0152"
            ],
            [
             0.1,
             "#c51b7d"
            ],
            [
             0.2,
             "#de77ae"
            ],
            [
             0.3,
             "#f1b6da"
            ],
            [
             0.4,
             "#fde0ef"
            ],
            [
             0.5,
             "#f7f7f7"
            ],
            [
             0.6,
             "#e6f5d0"
            ],
            [
             0.7,
             "#b8e186"
            ],
            [
             0.8,
             "#7fbc41"
            ],
            [
             0.9,
             "#4d9221"
            ],
            [
             1,
             "#276419"
            ]
           ],
           "sequential": [
            [
             0,
             "#0d0887"
            ],
            [
             0.1111111111111111,
             "#46039f"
            ],
            [
             0.2222222222222222,
             "#7201a8"
            ],
            [
             0.3333333333333333,
             "#9c179e"
            ],
            [
             0.4444444444444444,
             "#bd3786"
            ],
            [
             0.5555555555555556,
             "#d8576b"
            ],
            [
             0.6666666666666666,
             "#ed7953"
            ],
            [
             0.7777777777777778,
             "#fb9f3a"
            ],
            [
             0.8888888888888888,
             "#fdca26"
            ],
            [
             1,
             "#f0f921"
            ]
           ],
           "sequentialminus": [
            [
             0,
             "#0d0887"
            ],
            [
             0.1111111111111111,
             "#46039f"
            ],
            [
             0.2222222222222222,
             "#7201a8"
            ],
            [
             0.3333333333333333,
             "#9c179e"
            ],
            [
             0.4444444444444444,
             "#bd3786"
            ],
            [
             0.5555555555555556,
             "#d8576b"
            ],
            [
             0.6666666666666666,
             "#ed7953"
            ],
            [
             0.7777777777777778,
             "#fb9f3a"
            ],
            [
             0.8888888888888888,
             "#fdca26"
            ],
            [
             1,
             "#f0f921"
            ]
           ]
          },
          "colorway": [
           "#636efa",
           "#EF553B",
           "#00cc96",
           "#ab63fa",
           "#FFA15A",
           "#19d3f3",
           "#FF6692",
           "#B6E880",
           "#FF97FF",
           "#FECB52"
          ],
          "font": {
           "color": "#2a3f5f"
          },
          "geo": {
           "bgcolor": "white",
           "lakecolor": "white",
           "landcolor": "white",
           "showlakes": true,
           "showland": true,
           "subunitcolor": "#C8D4E3"
          },
          "hoverlabel": {
           "align": "left"
          },
          "hovermode": "closest",
          "mapbox": {
           "style": "light"
          },
          "paper_bgcolor": "white",
          "plot_bgcolor": "white",
          "polar": {
           "angularaxis": {
            "gridcolor": "#EBF0F8",
            "linecolor": "#EBF0F8",
            "ticks": ""
           },
           "bgcolor": "white",
           "radialaxis": {
            "gridcolor": "#EBF0F8",
            "linecolor": "#EBF0F8",
            "ticks": ""
           }
          },
          "scene": {
           "xaxis": {
            "backgroundcolor": "white",
            "gridcolor": "#DFE8F3",
            "gridwidth": 2,
            "linecolor": "#EBF0F8",
            "showbackground": true,
            "ticks": "",
            "zerolinecolor": "#EBF0F8"
           },
           "yaxis": {
            "backgroundcolor": "white",
            "gridcolor": "#DFE8F3",
            "gridwidth": 2,
            "linecolor": "#EBF0F8",
            "showbackground": true,
            "ticks": "",
            "zerolinecolor": "#EBF0F8"
           },
           "zaxis": {
            "backgroundcolor": "white",
            "gridcolor": "#DFE8F3",
            "gridwidth": 2,
            "linecolor": "#EBF0F8",
            "showbackground": true,
            "ticks": "",
            "zerolinecolor": "#EBF0F8"
           }
          },
          "shapedefaults": {
           "line": {
            "color": "#2a3f5f"
           }
          },
          "ternary": {
           "aaxis": {
            "gridcolor": "#DFE8F3",
            "linecolor": "#A2B1C6",
            "ticks": ""
           },
           "baxis": {
            "gridcolor": "#DFE8F3",
            "linecolor": "#A2B1C6",
            "ticks": ""
           },
           "bgcolor": "white",
           "caxis": {
            "gridcolor": "#DFE8F3",
            "linecolor": "#A2B1C6",
            "ticks": ""
           }
          },
          "title": {
           "x": 0.05
          },
          "xaxis": {
           "automargin": true,
           "gridcolor": "#EBF0F8",
           "linecolor": "#EBF0F8",
           "ticks": "",
           "title": {
            "standoff": 15
           },
           "zerolinecolor": "#EBF0F8",
           "zerolinewidth": 2
          },
          "yaxis": {
           "automargin": true,
           "gridcolor": "#EBF0F8",
           "linecolor": "#EBF0F8",
           "ticks": "",
           "title": {
            "standoff": 15
           },
           "zerolinecolor": "#EBF0F8",
           "zerolinewidth": 2
          }
         }
        },
        "title": {
         "text": "Decile Distribution by Period (Stacked Area) — Reference: 2016-07-01 00:00:00",
         "x": 0.5
        },
        "width": 1300,
        "xaxis": {
         "anchor": "y",
         "domain": [
          0,
          0.46
         ],
         "gridcolor": "lightgrey",
         "linecolor": "black",
         "linewidth": 1,
         "mirror": true,
         "showline": true,
         "title": {
          "text": "Booked Month"
         }
        },
        "xaxis2": {
         "anchor": "y2",
         "domain": [
          0.54,
          1
         ],
         "gridcolor": "lightgrey",
         "linecolor": "black",
         "linewidth": 1,
         "mirror": true,
         "showline": true,
         "title": {
          "text": "Booked Month"
         }
        },
        "xaxis3": {
         "anchor": "y3",
         "domain": [
          0,
          0.46
         ],
         "gridcolor": "lightgrey",
         "linecolor": "black",
         "linewidth": 1,
         "mirror": true,
         "showline": true,
         "title": {
          "text": "Booked Month"
         }
        },
        "xaxis4": {
         "anchor": "y4",
         "domain": [
          0.54,
          1
         ],
         "gridcolor": "lightgrey",
         "linecolor": "black",
         "linewidth": 1,
         "mirror": true,
         "showline": true,
         "title": {
          "text": "Booked Month"
         }
        },
        "yaxis": {
         "anchor": "x",
         "domain": [
          0.56,
          1
         ],
         "gridcolor": "lightgrey",
         "linecolor": "black",
         "linewidth": 1,
         "mirror": true,
         "range": [
          0,
          1
         ],
         "showline": true,
         "tickformat": ".0%",
         "title": {
          "text": "Proportion"
         }
        },
        "yaxis2": {
         "anchor": "x2",
         "domain": [
          0.56,
          1
         ],
         "gridcolor": "lightgrey",
         "linecolor": "black",
         "linewidth": 1,
         "mirror": true,
         "range": [
          0,
          1
         ],
         "showline": true,
         "tickformat": ".0%",
         "title": {
          "text": "Proportion"
         }
        },
        "yaxis3": {
         "anchor": "x3",
         "domain": [
          0,
          0.44
         ],
         "gridcolor": "lightgrey",
         "linecolor": "black",
         "linewidth": 1,
         "mirror": true,
         "range": [
          0,
          1
         ],
         "showline": true,
         "tickformat": ".0%",
         "title": {
          "text": "Proportion"
         }
        },
        "yaxis4": {
         "anchor": "x4",
         "domain": [
          0,
          0.44
         ],
         "gridcolor": "lightgrey",
         "linecolor": "black",
         "linewidth": 1,
         "mirror": true,
         "range": [
          0,
          1
         ],
         "showline": true,
         "tickformat": ".0%",
         "title": {
          "text": "Proportion"
         }
        }
       }
      }
     },
     "metadata": {},
     "output_type": "display_data"
    }
   ],
   "source": [
    "import numpy as np\n",
    "import pandas as pd\n",
    "import plotly.express as px\n",
    "import plotly.graph_objects as go\n",
    "from plotly.subplots import make_subplots\n",
    "\n",
    "def sorted_periods_unique(values):\n",
    "    vals = pd.Series(values).dropna().unique()\n",
    "    try:\n",
    "        return sorted(vals, key=lambda x: pd.to_datetime(str(x)))\n",
    "    except Exception:\n",
    "        return sorted(vals)\n",
    "\n",
    "# 1) Determine the reference period\n",
    "if reference_period is None:\n",
    "    if \"psi_all\" in globals() and hasattr(psi_all, \"columns\") and \"period\" in psi_all.columns and not psi_all[\"period\"].dropna().empty:\n",
    "        ref_period_used = sorted_periods_unique(psi_all[\"period\"])[0]\n",
    "    else:\n",
    "        ref_period_used = sorted_periods_unique(df_filter[period_col])[0]\n",
    "else:\n",
    "    ref_period_used = reference_period\n",
    "\n",
    "# 2) Define the order of models for the grid (must match keys in model_scores)\n",
    "models_order = [\"Baseline\", \"Weighted\", \"Undersampled\", \"XGBoost\"]\n",
    "\n",
    "# Optional: Model title colors (thesis palette)\n",
    "model_colors = {\n",
    "    \"Baseline\": \"#1560bd\",\n",
    "    \"Weighted\": \"#75caed\",\n",
    "    \"Undersampled\": \"#8B7EC8\",\n",
    "    \"XGBoost\": \"#d62728\",\n",
    "}\n",
    "\n",
    "# Overlay controls\n",
    "show_all_boundaries = True         # set to False to only show the first boundary\n",
    "highlight_first_boundary = True    # thicker solid line for the first boundary\n",
    "\n",
    "# 3) Build the 2x2 grid\n",
    "fig = make_subplots(\n",
    "    rows=2, cols=2,\n",
    "    subplot_titles=models_order,\n",
    "    horizontal_spacing=0.08,\n",
    "    vertical_spacing=0.12\n",
    ")\n",
    "\n",
    "# 4) Common decile palette (consistent across subplots)\n",
    "decile_levels = list(range(1, 10 + 1))\n",
    "base = px.colors.diverging.RdYlGn[::-1]  # reverse to get green -> red\n",
    "color_idx = np.linspace(0, len(base) - 1, num=len(decile_levels)).round().astype(int)\n",
    "decile_colors = [base[i] for i in color_idx]\n",
    "\n",
    "if len(decile_colors) < len(decile_levels):\n",
    "    reps = int(np.ceil(len(decile_levels) / len(decile_colors)))\n",
    "    decile_colors = (decile_colors * reps)[:len(decile_levels)]\n",
    "\n",
    "# 5) Iterate models and add stacked-area traces per decile in each quadrant\n",
    "for m_idx, model_name in enumerate(models_order):\n",
    "    row = m_idx // 2 + 1\n",
    "    col = m_idx % 2 + 1\n",
    "\n",
    "    # Score column for this model\n",
    "    score_col = model_scores[model_name]\n",
    "\n",
    "    # Fixed edges from the model's distribution at the reference period\n",
    "    ref_mask = (df_filter[period_col] == ref_period_used)\n",
    "    edges = stu.get_fixed_bin_edges_from_reference(\n",
    "        reference_series=df_filter.loc[ref_mask, score_col],\n",
    "        n_bins=10,\n",
    "        method=\"quantile\"\n",
    "    )\n",
    "\n",
    "    # Decile distribution (proportions by period)\n",
    "    decile_df = stu.compute_decile_distribution_by_period(\n",
    "        df=df_filter,\n",
    "        score_col=score_col,\n",
    "        period_col=period_col,\n",
    "        bin_edges=edges,\n",
    "        decile_col_name=\"decile\",\n",
    "        normalize=True,\n",
    "        dropna_scores=True\n",
    "    )\n",
    "\n",
    "    # Ensure chronological x-axis\n",
    "    periods_sorted = sorted_periods_unique(decile_df[period_col])\n",
    "\n",
    "    # Add one stacked trace per decile\n",
    "    for d in decile_levels:\n",
    "        sub = decile_df[decile_df[\"decile\"] == d][[period_col, \"proportion\"]].copy()\n",
    "        # Align to full period list and fill missing with 0\n",
    "        y = pd.Series(0.0, index=pd.Index(periods_sorted, name=period_col))\n",
    "        if not sub.empty:\n",
    "            sub = sub.set_index(period_col).reindex(periods_sorted)\n",
    "            y.loc[sub.index] = sub[\"proportion\"].fillna(0.0).values\n",
    "\n",
    "        fig.add_trace(\n",
    "            go.Scatter(\n",
    "                x=periods_sorted,\n",
    "                y=y.values,\n",
    "                name=f\"Decile {d}\",\n",
    "                mode=\"lines\",\n",
    "                line=dict(width=0.8, color=decile_colors[d - 1]),\n",
    "                stackgroup=f\"group{m_idx}\",   # stack within this subplot only\n",
    "                groupnorm=\"fraction\",         # ensures stacks sum to 1\n",
    "                showlegend=False              # keep grid clean\n",
    "            ),\n",
    "            row=row, col=col\n",
    "        )\n",
    "\n",
    "    # --- Overlay: fixed cumulative decile boundaries from the reference period ---\n",
    "    ref_slice = decile_df.loc[decile_df[period_col] == ref_period_used, [\"decile\", \"proportion\"]].copy()\n",
    "    if not ref_slice.empty:\n",
    "        ref_props = (\n",
    "            ref_slice.set_index(\"decile\")\n",
    "            .reindex(decile_levels)[\"proportion\"]  # ensure 1..10 order\n",
    "            .fillna(0.0)\n",
    "            .sort_index()\n",
    "        )\n",
    "        ylines = ref_props.cumsum().values[:-1]  # exclude the top boundary (=1.0)\n",
    "    else:\n",
    "        # Fallback: quantile binning typically yields ~10% per decile at reference\n",
    "        ylines = np.linspace(0.1, 0.9, 9)\n",
    "\n",
    "    # Ensure lines are drawn ON TOP by adding them AFTER the area traces\n",
    "    def add_ref_line(yref, width=1.2, dash=\"dot\", color=\"rgba(0,0,0,0.55)\"):\n",
    "        fig.add_trace(\n",
    "            go.Scatter(\n",
    "                x=periods_sorted,\n",
    "                y=[float(yref)] * len(periods_sorted),\n",
    "                mode=\"lines\",\n",
    "                line=dict(color=color, width=width, dash=dash),\n",
    "                hoverinfo=\"skip\",\n",
    "                showlegend=False,\n",
    "                name=None\n",
    "            ),\n",
    "            row=row, col=col\n",
    "        )\n",
    "\n",
    "    if len(ylines) > 0:\n",
    "        # First boundary highlighted (e.g., the Decile 1 cumulative boundary)\n",
    "        if highlight_first_boundary:\n",
    "            add_ref_line(ylines[0], width=2.0, dash=\"solid\", color=\"rgba(0,0,0,0.85)\")\n",
    "        else:\n",
    "            add_ref_line(ylines[0])\n",
    "\n",
    "        # Remaining boundaries (optional)\n",
    "        if show_all_boundaries and len(ylines) > 1:\n",
    "            for yref in ylines[1:]:\n",
    "                add_ref_line(yref, width=1.2, dash=\"dot\", color=\"rgba(0,0,0,0.55)\")\n",
    "    # --- End overlay ---\n",
    "\n",
    "    # Axes and styling per subplot\n",
    "    fig.update_xaxes(\n",
    "        row=row, col=col, title_text=\"Booked Month\",\n",
    "        showline=True, linewidth=1, linecolor=\"black\", mirror=True, gridcolor=\"lightgrey\"\n",
    "    )\n",
    "    fig.update_yaxes(\n",
    "        title_text=\"Proportion\", range=[0, 1], row=row, col=col,\n",
    "        tickformat=\".0%\",\n",
    "        showline=True, linewidth=1, linecolor=\"black\", mirror=True, gridcolor=\"lightgrey\"\n",
    "    )\n",
    "\n",
    "# 6) Global layout (white theme) + color the subplot titles with model colors\n",
    "fig.update_layout(\n",
    "    title_text=f\"Decile Distribution by Period (Stacked Area) — Reference: {ref_period_used}\",\n",
    "    title_x=0.5,\n",
    "    plot_bgcolor=\"white\",\n",
    "    paper_bgcolor=\"white\",\n",
    "    width=1300,\n",
    "    height=800\n",
    ")\n",
    "\n",
    "# Color each subplot title according to model color\n",
    "for i, ann in enumerate(fig.layout.annotations):\n",
    "    if i < len(models_order):\n",
    "        m = models_order[i]\n",
    "        ann.font.color = model_colors.get(m, \"black\")\n",
    "\n",
    "fig.show()"
   ]
  },
  {
   "cell_type": "code",
   "execution_count": null,
   "metadata": {},
   "outputs": [],
   "source": []
  }
 ],
 "metadata": {
  "kernelspec": {
   "display_name": "myenv",
   "language": "python",
   "name": "python3"
  },
  "language_info": {
   "codemirror_mode": {
    "name": "ipython",
    "version": 3
   },
   "file_extension": ".py",
   "mimetype": "text/x-python",
   "name": "python",
   "nbconvert_exporter": "python",
   "pygments_lexer": "ipython3",
   "version": "3.11.13"
  }
 },
 "nbformat": 4,
 "nbformat_minor": 4
}
